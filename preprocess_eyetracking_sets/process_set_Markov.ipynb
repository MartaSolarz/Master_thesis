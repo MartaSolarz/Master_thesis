{
 "cells": [
  {
   "cell_type": "code",
   "execution_count": 71,
   "id": "initial_id",
   "metadata": {
    "collapsed": true,
    "ExecuteTime": {
     "end_time": "2023-10-11T12:43:48.138114Z",
     "start_time": "2023-10-11T12:43:48.136210Z"
    }
   },
   "outputs": [],
   "source": [
    "import pandas as pd"
   ]
  },
  {
   "cell_type": "code",
   "execution_count": 139,
   "outputs": [
    {
     "data": {
      "text/plain": "        Recording    Participant                    TOI  Interval Event_type  \\\n0     Recording46  Participant46  zadanie_1_po_poprawce         1   Fixation   \n1     Recording46  Participant46  zadanie_1_po_poprawce         1   Fixation   \n2     Recording46  Participant46  zadanie_1_po_poprawce         1   Fixation   \n3     Recording46  Participant46  zadanie_1_po_poprawce         1   Fixation   \n4     Recording46  Participant46  zadanie_1_po_poprawce         1   Fixation   \n...           ...            ...                    ...       ...        ...   \n6856   Recording2   Participant2  zadanie_1_po_poprawce         1   Fixation   \n6857   Recording2   Participant2  zadanie_1_po_poprawce         1   Fixation   \n6858   Recording2   Participant2  zadanie_1_po_poprawce         1   Fixation   \n6859   Recording2   Participant2  zadanie_1_po_poprawce         1   Fixation   \n6860   Recording2   Participant2  zadanie_1_po_poprawce         1   Fixation   \n\n     Validity  EventIndex  Start   Stop  Duration     AOI  Hit_proportion  \n0       Whole           1   1430   1497        67     NaN               0  \n1     Partial           2   1663   1763       100     NaN               0  \n2       Whole           3   3172   3313       142     NaN               0  \n3       Whole           4   3363   3538       175     NaN               0  \n4       Whole           5   3613   3696        83     NaN               0  \n...       ...         ...    ...    ...       ...     ...             ...  \n6856    Whole         302  87171  87255        83  1b_tab               1  \n6857    Whole         303  87288  87371        83  1b_tab               1  \n6858    Whole         304  87380  87663       283  1b_tab               1  \n6859  Partial         305  87721  87846       125  1b_plt               1  \n6860    Whole         306  88080  88230       150     NaN               0  \n\n[6861 rows x 12 columns]",
      "text/html": "<div>\n<style scoped>\n    .dataframe tbody tr th:only-of-type {\n        vertical-align: middle;\n    }\n\n    .dataframe tbody tr th {\n        vertical-align: top;\n    }\n\n    .dataframe thead th {\n        text-align: right;\n    }\n</style>\n<table border=\"1\" class=\"dataframe\">\n  <thead>\n    <tr style=\"text-align: right;\">\n      <th></th>\n      <th>Recording</th>\n      <th>Participant</th>\n      <th>TOI</th>\n      <th>Interval</th>\n      <th>Event_type</th>\n      <th>Validity</th>\n      <th>EventIndex</th>\n      <th>Start</th>\n      <th>Stop</th>\n      <th>Duration</th>\n      <th>AOI</th>\n      <th>Hit_proportion</th>\n    </tr>\n  </thead>\n  <tbody>\n    <tr>\n      <th>0</th>\n      <td>Recording46</td>\n      <td>Participant46</td>\n      <td>zadanie_1_po_poprawce</td>\n      <td>1</td>\n      <td>Fixation</td>\n      <td>Whole</td>\n      <td>1</td>\n      <td>1430</td>\n      <td>1497</td>\n      <td>67</td>\n      <td>NaN</td>\n      <td>0</td>\n    </tr>\n    <tr>\n      <th>1</th>\n      <td>Recording46</td>\n      <td>Participant46</td>\n      <td>zadanie_1_po_poprawce</td>\n      <td>1</td>\n      <td>Fixation</td>\n      <td>Partial</td>\n      <td>2</td>\n      <td>1663</td>\n      <td>1763</td>\n      <td>100</td>\n      <td>NaN</td>\n      <td>0</td>\n    </tr>\n    <tr>\n      <th>2</th>\n      <td>Recording46</td>\n      <td>Participant46</td>\n      <td>zadanie_1_po_poprawce</td>\n      <td>1</td>\n      <td>Fixation</td>\n      <td>Whole</td>\n      <td>3</td>\n      <td>3172</td>\n      <td>3313</td>\n      <td>142</td>\n      <td>NaN</td>\n      <td>0</td>\n    </tr>\n    <tr>\n      <th>3</th>\n      <td>Recording46</td>\n      <td>Participant46</td>\n      <td>zadanie_1_po_poprawce</td>\n      <td>1</td>\n      <td>Fixation</td>\n      <td>Whole</td>\n      <td>4</td>\n      <td>3363</td>\n      <td>3538</td>\n      <td>175</td>\n      <td>NaN</td>\n      <td>0</td>\n    </tr>\n    <tr>\n      <th>4</th>\n      <td>Recording46</td>\n      <td>Participant46</td>\n      <td>zadanie_1_po_poprawce</td>\n      <td>1</td>\n      <td>Fixation</td>\n      <td>Whole</td>\n      <td>5</td>\n      <td>3613</td>\n      <td>3696</td>\n      <td>83</td>\n      <td>NaN</td>\n      <td>0</td>\n    </tr>\n    <tr>\n      <th>...</th>\n      <td>...</td>\n      <td>...</td>\n      <td>...</td>\n      <td>...</td>\n      <td>...</td>\n      <td>...</td>\n      <td>...</td>\n      <td>...</td>\n      <td>...</td>\n      <td>...</td>\n      <td>...</td>\n      <td>...</td>\n    </tr>\n    <tr>\n      <th>6856</th>\n      <td>Recording2</td>\n      <td>Participant2</td>\n      <td>zadanie_1_po_poprawce</td>\n      <td>1</td>\n      <td>Fixation</td>\n      <td>Whole</td>\n      <td>302</td>\n      <td>87171</td>\n      <td>87255</td>\n      <td>83</td>\n      <td>1b_tab</td>\n      <td>1</td>\n    </tr>\n    <tr>\n      <th>6857</th>\n      <td>Recording2</td>\n      <td>Participant2</td>\n      <td>zadanie_1_po_poprawce</td>\n      <td>1</td>\n      <td>Fixation</td>\n      <td>Whole</td>\n      <td>303</td>\n      <td>87288</td>\n      <td>87371</td>\n      <td>83</td>\n      <td>1b_tab</td>\n      <td>1</td>\n    </tr>\n    <tr>\n      <th>6858</th>\n      <td>Recording2</td>\n      <td>Participant2</td>\n      <td>zadanie_1_po_poprawce</td>\n      <td>1</td>\n      <td>Fixation</td>\n      <td>Whole</td>\n      <td>304</td>\n      <td>87380</td>\n      <td>87663</td>\n      <td>283</td>\n      <td>1b_tab</td>\n      <td>1</td>\n    </tr>\n    <tr>\n      <th>6859</th>\n      <td>Recording2</td>\n      <td>Participant2</td>\n      <td>zadanie_1_po_poprawce</td>\n      <td>1</td>\n      <td>Fixation</td>\n      <td>Partial</td>\n      <td>305</td>\n      <td>87721</td>\n      <td>87846</td>\n      <td>125</td>\n      <td>1b_plt</td>\n      <td>1</td>\n    </tr>\n    <tr>\n      <th>6860</th>\n      <td>Recording2</td>\n      <td>Participant2</td>\n      <td>zadanie_1_po_poprawce</td>\n      <td>1</td>\n      <td>Fixation</td>\n      <td>Whole</td>\n      <td>306</td>\n      <td>88080</td>\n      <td>88230</td>\n      <td>150</td>\n      <td>NaN</td>\n      <td>0</td>\n    </tr>\n  </tbody>\n</table>\n<p>6861 rows × 12 columns</p>\n</div>"
     },
     "execution_count": 139,
     "metadata": {},
     "output_type": "execute_result"
    }
   ],
   "source": [
    "NAME = '1b'\n",
    "df = pd.read_csv('Markov/1B.tsv', sep='\\t')\n",
    "df"
   ],
   "metadata": {
    "collapsed": false,
    "ExecuteTime": {
     "end_time": "2023-10-11T12:53:43.480670Z",
     "start_time": "2023-10-11T12:53:43.456436Z"
    }
   },
   "id": "1a6addef51d88213"
  },
  {
   "cell_type": "code",
   "execution_count": 140,
   "outputs": [
    {
     "name": "stdout",
     "output_type": "stream",
     "text": [
      "<class 'pandas.core.frame.DataFrame'>\n",
      "RangeIndex: 6861 entries, 0 to 6860\n",
      "Data columns (total 12 columns):\n",
      " #   Column          Non-Null Count  Dtype \n",
      "---  ------          --------------  ----- \n",
      " 0   Recording       6861 non-null   object\n",
      " 1   Participant     6861 non-null   object\n",
      " 2   TOI             6861 non-null   object\n",
      " 3   Interval        6861 non-null   int64 \n",
      " 4   Event_type      6861 non-null   object\n",
      " 5   Validity        6861 non-null   object\n",
      " 6   EventIndex      6861 non-null   int64 \n",
      " 7   Start           6861 non-null   int64 \n",
      " 8   Stop            6861 non-null   int64 \n",
      " 9   Duration        6861 non-null   int64 \n",
      " 10  AOI             6527 non-null   object\n",
      " 11  Hit_proportion  6861 non-null   int64 \n",
      "dtypes: int64(6), object(6)\n",
      "memory usage: 643.3+ KB\n"
     ]
    }
   ],
   "source": [
    "df.info()"
   ],
   "metadata": {
    "collapsed": false,
    "ExecuteTime": {
     "end_time": "2023-10-11T12:53:43.876135Z",
     "start_time": "2023-10-11T12:53:43.866089Z"
    }
   },
   "id": "4bd5410e3d3d58b4"
  },
  {
   "cell_type": "code",
   "execution_count": 141,
   "outputs": [
    {
     "data": {
      "text/plain": "        Recording    Participant                    TOI  Interval Event_type  \\\n0     Recording46  Participant46  zadanie_1_po_poprawce         1   Fixation   \n1     Recording46  Participant46  zadanie_1_po_poprawce         1   Fixation   \n2     Recording46  Participant46  zadanie_1_po_poprawce         1   Fixation   \n3     Recording46  Participant46  zadanie_1_po_poprawce         1   Fixation   \n4     Recording46  Participant46  zadanie_1_po_poprawce         1   Fixation   \n...           ...            ...                    ...       ...        ...   \n6856   Recording2   Participant2  zadanie_1_po_poprawce         1   Fixation   \n6857   Recording2   Participant2  zadanie_1_po_poprawce         1   Fixation   \n6858   Recording2   Participant2  zadanie_1_po_poprawce         1   Fixation   \n6859   Recording2   Participant2  zadanie_1_po_poprawce         1   Fixation   \n6860   Recording2   Participant2  zadanie_1_po_poprawce         1   Fixation   \n\n     Validity  EventIndex  Start   Stop  Duration     AOI  Hit_proportion  ID  \n0       Whole           1   1430   1497        67     NaN               0  46  \n1     Partial           2   1663   1763       100     NaN               0  46  \n2       Whole           3   3172   3313       142     NaN               0  46  \n3       Whole           4   3363   3538       175     NaN               0  46  \n4       Whole           5   3613   3696        83     NaN               0  46  \n...       ...         ...    ...    ...       ...     ...             ...  ..  \n6856    Whole         302  87171  87255        83  1b_tab               1   2  \n6857    Whole         303  87288  87371        83  1b_tab               1   2  \n6858    Whole         304  87380  87663       283  1b_tab               1   2  \n6859  Partial         305  87721  87846       125  1b_plt               1   2  \n6860    Whole         306  88080  88230       150     NaN               0   2  \n\n[6861 rows x 13 columns]",
      "text/html": "<div>\n<style scoped>\n    .dataframe tbody tr th:only-of-type {\n        vertical-align: middle;\n    }\n\n    .dataframe tbody tr th {\n        vertical-align: top;\n    }\n\n    .dataframe thead th {\n        text-align: right;\n    }\n</style>\n<table border=\"1\" class=\"dataframe\">\n  <thead>\n    <tr style=\"text-align: right;\">\n      <th></th>\n      <th>Recording</th>\n      <th>Participant</th>\n      <th>TOI</th>\n      <th>Interval</th>\n      <th>Event_type</th>\n      <th>Validity</th>\n      <th>EventIndex</th>\n      <th>Start</th>\n      <th>Stop</th>\n      <th>Duration</th>\n      <th>AOI</th>\n      <th>Hit_proportion</th>\n      <th>ID</th>\n    </tr>\n  </thead>\n  <tbody>\n    <tr>\n      <th>0</th>\n      <td>Recording46</td>\n      <td>Participant46</td>\n      <td>zadanie_1_po_poprawce</td>\n      <td>1</td>\n      <td>Fixation</td>\n      <td>Whole</td>\n      <td>1</td>\n      <td>1430</td>\n      <td>1497</td>\n      <td>67</td>\n      <td>NaN</td>\n      <td>0</td>\n      <td>46</td>\n    </tr>\n    <tr>\n      <th>1</th>\n      <td>Recording46</td>\n      <td>Participant46</td>\n      <td>zadanie_1_po_poprawce</td>\n      <td>1</td>\n      <td>Fixation</td>\n      <td>Partial</td>\n      <td>2</td>\n      <td>1663</td>\n      <td>1763</td>\n      <td>100</td>\n      <td>NaN</td>\n      <td>0</td>\n      <td>46</td>\n    </tr>\n    <tr>\n      <th>2</th>\n      <td>Recording46</td>\n      <td>Participant46</td>\n      <td>zadanie_1_po_poprawce</td>\n      <td>1</td>\n      <td>Fixation</td>\n      <td>Whole</td>\n      <td>3</td>\n      <td>3172</td>\n      <td>3313</td>\n      <td>142</td>\n      <td>NaN</td>\n      <td>0</td>\n      <td>46</td>\n    </tr>\n    <tr>\n      <th>3</th>\n      <td>Recording46</td>\n      <td>Participant46</td>\n      <td>zadanie_1_po_poprawce</td>\n      <td>1</td>\n      <td>Fixation</td>\n      <td>Whole</td>\n      <td>4</td>\n      <td>3363</td>\n      <td>3538</td>\n      <td>175</td>\n      <td>NaN</td>\n      <td>0</td>\n      <td>46</td>\n    </tr>\n    <tr>\n      <th>4</th>\n      <td>Recording46</td>\n      <td>Participant46</td>\n      <td>zadanie_1_po_poprawce</td>\n      <td>1</td>\n      <td>Fixation</td>\n      <td>Whole</td>\n      <td>5</td>\n      <td>3613</td>\n      <td>3696</td>\n      <td>83</td>\n      <td>NaN</td>\n      <td>0</td>\n      <td>46</td>\n    </tr>\n    <tr>\n      <th>...</th>\n      <td>...</td>\n      <td>...</td>\n      <td>...</td>\n      <td>...</td>\n      <td>...</td>\n      <td>...</td>\n      <td>...</td>\n      <td>...</td>\n      <td>...</td>\n      <td>...</td>\n      <td>...</td>\n      <td>...</td>\n      <td>...</td>\n    </tr>\n    <tr>\n      <th>6856</th>\n      <td>Recording2</td>\n      <td>Participant2</td>\n      <td>zadanie_1_po_poprawce</td>\n      <td>1</td>\n      <td>Fixation</td>\n      <td>Whole</td>\n      <td>302</td>\n      <td>87171</td>\n      <td>87255</td>\n      <td>83</td>\n      <td>1b_tab</td>\n      <td>1</td>\n      <td>2</td>\n    </tr>\n    <tr>\n      <th>6857</th>\n      <td>Recording2</td>\n      <td>Participant2</td>\n      <td>zadanie_1_po_poprawce</td>\n      <td>1</td>\n      <td>Fixation</td>\n      <td>Whole</td>\n      <td>303</td>\n      <td>87288</td>\n      <td>87371</td>\n      <td>83</td>\n      <td>1b_tab</td>\n      <td>1</td>\n      <td>2</td>\n    </tr>\n    <tr>\n      <th>6858</th>\n      <td>Recording2</td>\n      <td>Participant2</td>\n      <td>zadanie_1_po_poprawce</td>\n      <td>1</td>\n      <td>Fixation</td>\n      <td>Whole</td>\n      <td>304</td>\n      <td>87380</td>\n      <td>87663</td>\n      <td>283</td>\n      <td>1b_tab</td>\n      <td>1</td>\n      <td>2</td>\n    </tr>\n    <tr>\n      <th>6859</th>\n      <td>Recording2</td>\n      <td>Participant2</td>\n      <td>zadanie_1_po_poprawce</td>\n      <td>1</td>\n      <td>Fixation</td>\n      <td>Partial</td>\n      <td>305</td>\n      <td>87721</td>\n      <td>87846</td>\n      <td>125</td>\n      <td>1b_plt</td>\n      <td>1</td>\n      <td>2</td>\n    </tr>\n    <tr>\n      <th>6860</th>\n      <td>Recording2</td>\n      <td>Participant2</td>\n      <td>zadanie_1_po_poprawce</td>\n      <td>1</td>\n      <td>Fixation</td>\n      <td>Whole</td>\n      <td>306</td>\n      <td>88080</td>\n      <td>88230</td>\n      <td>150</td>\n      <td>NaN</td>\n      <td>0</td>\n      <td>2</td>\n    </tr>\n  </tbody>\n</table>\n<p>6861 rows × 13 columns</p>\n</div>"
     },
     "execution_count": 141,
     "metadata": {},
     "output_type": "execute_result"
    }
   ],
   "source": [
    "df['ID'] = df['Participant'].apply(lambda x: int(''.join(filter(str.isdigit, x))))\n",
    "df.loc[df['ID'] == 28, 'ID'] = 29 # only 2B\n",
    "df"
   ],
   "metadata": {
    "collapsed": false,
    "ExecuteTime": {
     "end_time": "2023-10-11T12:53:44.222832Z",
     "start_time": "2023-10-11T12:53:44.219936Z"
    }
   },
   "id": "efeb7506a6abbf67"
  },
  {
   "cell_type": "code",
   "execution_count": 142,
   "outputs": [
    {
     "data": {
      "text/plain": "      EventIndex  Duration     AOI  ID\n0              1        67     NaN  46\n1              2       100     NaN  46\n2              3       142     NaN  46\n3              4       175     NaN  46\n4              5        83     NaN  46\n...          ...       ...     ...  ..\n6856         302        83  1b_tab   2\n6857         303        83  1b_tab   2\n6858         304       283  1b_tab   2\n6859         305       125  1b_plt   2\n6860         306       150     NaN   2\n\n[6861 rows x 4 columns]",
      "text/html": "<div>\n<style scoped>\n    .dataframe tbody tr th:only-of-type {\n        vertical-align: middle;\n    }\n\n    .dataframe tbody tr th {\n        vertical-align: top;\n    }\n\n    .dataframe thead th {\n        text-align: right;\n    }\n</style>\n<table border=\"1\" class=\"dataframe\">\n  <thead>\n    <tr style=\"text-align: right;\">\n      <th></th>\n      <th>EventIndex</th>\n      <th>Duration</th>\n      <th>AOI</th>\n      <th>ID</th>\n    </tr>\n  </thead>\n  <tbody>\n    <tr>\n      <th>0</th>\n      <td>1</td>\n      <td>67</td>\n      <td>NaN</td>\n      <td>46</td>\n    </tr>\n    <tr>\n      <th>1</th>\n      <td>2</td>\n      <td>100</td>\n      <td>NaN</td>\n      <td>46</td>\n    </tr>\n    <tr>\n      <th>2</th>\n      <td>3</td>\n      <td>142</td>\n      <td>NaN</td>\n      <td>46</td>\n    </tr>\n    <tr>\n      <th>3</th>\n      <td>4</td>\n      <td>175</td>\n      <td>NaN</td>\n      <td>46</td>\n    </tr>\n    <tr>\n      <th>4</th>\n      <td>5</td>\n      <td>83</td>\n      <td>NaN</td>\n      <td>46</td>\n    </tr>\n    <tr>\n      <th>...</th>\n      <td>...</td>\n      <td>...</td>\n      <td>...</td>\n      <td>...</td>\n    </tr>\n    <tr>\n      <th>6856</th>\n      <td>302</td>\n      <td>83</td>\n      <td>1b_tab</td>\n      <td>2</td>\n    </tr>\n    <tr>\n      <th>6857</th>\n      <td>303</td>\n      <td>83</td>\n      <td>1b_tab</td>\n      <td>2</td>\n    </tr>\n    <tr>\n      <th>6858</th>\n      <td>304</td>\n      <td>283</td>\n      <td>1b_tab</td>\n      <td>2</td>\n    </tr>\n    <tr>\n      <th>6859</th>\n      <td>305</td>\n      <td>125</td>\n      <td>1b_plt</td>\n      <td>2</td>\n    </tr>\n    <tr>\n      <th>6860</th>\n      <td>306</td>\n      <td>150</td>\n      <td>NaN</td>\n      <td>2</td>\n    </tr>\n  </tbody>\n</table>\n<p>6861 rows × 4 columns</p>\n</div>"
     },
     "execution_count": 142,
     "metadata": {},
     "output_type": "execute_result"
    }
   ],
   "source": [
    "df = df.drop(columns=['Recording', 'Participant', 'TOI', 'Interval', 'Event_type', 'Start', 'Stop', 'Hit_proportion', 'Validity'])\n",
    "df"
   ],
   "metadata": {
    "collapsed": false,
    "ExecuteTime": {
     "end_time": "2023-10-11T12:53:44.603615Z",
     "start_time": "2023-10-11T12:53:44.601245Z"
    }
   },
   "id": "974ec8a6803d8e2f"
  },
  {
   "cell_type": "code",
   "execution_count": 143,
   "outputs": [],
   "source": [
    "df.set_index('EventIndex', inplace=True)"
   ],
   "metadata": {
    "collapsed": false,
    "ExecuteTime": {
     "end_time": "2023-10-11T12:53:44.985971Z",
     "start_time": "2023-10-11T12:53:44.972087Z"
    }
   },
   "id": "198d532044529892"
  },
  {
   "cell_type": "code",
   "execution_count": 144,
   "outputs": [],
   "source": [
    "def change(x):\n",
    "    if x == f'{NAME}_map':\n",
    "        return 'map'\n",
    "    elif x == f'{NAME}_plt':\n",
    "        return 'plot'\n",
    "    elif x == f'{NAME}_txt':\n",
    "        return 'text'\n",
    "    elif x == f'{NAME}_tab':\n",
    "        return 'table'\n",
    "    elif x == f'{NAME}_com':\n",
    "        return 'desc'\n",
    "    else:\n",
    "        return 'out'\n",
    "    "
   ],
   "metadata": {
    "collapsed": false,
    "ExecuteTime": {
     "end_time": "2023-10-11T12:53:45.398818Z",
     "start_time": "2023-10-11T12:53:45.394338Z"
    }
   },
   "id": "eb3df8f2afaa914a"
  },
  {
   "cell_type": "code",
   "execution_count": 145,
   "outputs": [],
   "source": [
    "df['AOI'] = df['AOI'].apply(change)\n"
   ],
   "metadata": {
    "collapsed": false,
    "ExecuteTime": {
     "end_time": "2023-10-11T12:53:45.982697Z",
     "start_time": "2023-10-11T12:53:45.961375Z"
    }
   },
   "id": "504e9fd8698e98ca"
  },
  {
   "cell_type": "code",
   "execution_count": 146,
   "outputs": [
    {
     "data": {
      "text/plain": "            Duration    AOI  ID\nEventIndex                     \n1                 36  table  25\n2                 75  table  25\n3                117   plot  25\n4                 83  table  25\n5                442  table  25\n...              ...    ...  ..\n170              350  table  25\n171              208  table  25\n172              350  table  25\n173              558  table  25\n174              499  table  25\n\n[174 rows x 3 columns]",
      "text/html": "<div>\n<style scoped>\n    .dataframe tbody tr th:only-of-type {\n        vertical-align: middle;\n    }\n\n    .dataframe tbody tr th {\n        vertical-align: top;\n    }\n\n    .dataframe thead th {\n        text-align: right;\n    }\n</style>\n<table border=\"1\" class=\"dataframe\">\n  <thead>\n    <tr style=\"text-align: right;\">\n      <th></th>\n      <th>Duration</th>\n      <th>AOI</th>\n      <th>ID</th>\n    </tr>\n    <tr>\n      <th>EventIndex</th>\n      <th></th>\n      <th></th>\n      <th></th>\n    </tr>\n  </thead>\n  <tbody>\n    <tr>\n      <th>1</th>\n      <td>36</td>\n      <td>table</td>\n      <td>25</td>\n    </tr>\n    <tr>\n      <th>2</th>\n      <td>75</td>\n      <td>table</td>\n      <td>25</td>\n    </tr>\n    <tr>\n      <th>3</th>\n      <td>117</td>\n      <td>plot</td>\n      <td>25</td>\n    </tr>\n    <tr>\n      <th>4</th>\n      <td>83</td>\n      <td>table</td>\n      <td>25</td>\n    </tr>\n    <tr>\n      <th>5</th>\n      <td>442</td>\n      <td>table</td>\n      <td>25</td>\n    </tr>\n    <tr>\n      <th>...</th>\n      <td>...</td>\n      <td>...</td>\n      <td>...</td>\n    </tr>\n    <tr>\n      <th>170</th>\n      <td>350</td>\n      <td>table</td>\n      <td>25</td>\n    </tr>\n    <tr>\n      <th>171</th>\n      <td>208</td>\n      <td>table</td>\n      <td>25</td>\n    </tr>\n    <tr>\n      <th>172</th>\n      <td>350</td>\n      <td>table</td>\n      <td>25</td>\n    </tr>\n    <tr>\n      <th>173</th>\n      <td>558</td>\n      <td>table</td>\n      <td>25</td>\n    </tr>\n    <tr>\n      <th>174</th>\n      <td>499</td>\n      <td>table</td>\n      <td>25</td>\n    </tr>\n  </tbody>\n</table>\n<p>174 rows × 3 columns</p>\n</div>"
     },
     "execution_count": 146,
     "metadata": {},
     "output_type": "execute_result"
    }
   ],
   "source": [
    "dfs = [df[df['ID'] == num] for num in pd.unique(df['ID'])]\n",
    "dfs[28]"
   ],
   "metadata": {
    "collapsed": false,
    "ExecuteTime": {
     "end_time": "2023-10-11T12:53:46.495601Z",
     "start_time": "2023-10-11T12:53:46.479844Z"
    }
   },
   "id": "ee0e7a93ec604d53"
  },
  {
   "cell_type": "code",
   "execution_count": 147,
   "outputs": [],
   "source": [
    "def aggregate_neighbors(df):\n",
    "    result = {'Duration': [], 'AOI': []}\n",
    "    \n",
    "    current_aoi = df['AOI'].iloc[0]\n",
    "    current_duration = df['Duration'].iloc[0]\n",
    "    \n",
    "    for i in range(1, len(df)):\n",
    "        if df['AOI'].iloc[i] == current_aoi:\n",
    "            current_duration += df['Duration'].iloc[i]\n",
    "        else:\n",
    "            result['AOI'].append(current_aoi)\n",
    "            result['Duration'].append(current_duration)\n",
    "            current_aoi = df['AOI'].iloc[i]\n",
    "            current_duration = df['Duration'].iloc[i]\n",
    "    \n",
    "    result['AOI'].append(current_aoi)\n",
    "    result['Duration'].append(current_duration)\n",
    "    \n",
    "    return pd.DataFrame(result)"
   ],
   "metadata": {
    "collapsed": false,
    "ExecuteTime": {
     "end_time": "2023-10-11T12:53:46.937544Z",
     "start_time": "2023-10-11T12:53:46.933302Z"
    }
   },
   "id": "5044775b94238818"
  },
  {
   "cell_type": "code",
   "execution_count": 148,
   "outputs": [
    {
     "name": "stderr",
     "output_type": "stream",
     "text": [
      "/var/folders/vw/8y99f8gn61ddx6t8ck0zm6ch0000gn/T/ipykernel_3493/733418294.py:6: FutureWarning: The frame.append method is deprecated and will be removed from pandas in a future version. Use pandas.concat instead.\n",
      "  final_result = final_result.append(new_row, ignore_index=True)\n"
     ]
    }
   ],
   "source": [
    "final_result = pd.DataFrame()\n",
    "for i, df in enumerate(dfs):\n",
    "    result_df = aggregate_neighbors(dfs[i])\n",
    "    new_row = pd.DataFrame({'ID': dfs[i]['ID'][1], 'AOI': [result_df['AOI'].tolist()], 'Duration': [result_df['Duration'].tolist()]})\n",
    "\n",
    "    final_result = final_result.append(new_row, ignore_index=True)\n"
   ],
   "metadata": {
    "collapsed": false,
    "ExecuteTime": {
     "end_time": "2023-10-11T12:53:47.595873Z",
     "start_time": "2023-10-11T12:53:47.594038Z"
    }
   },
   "id": "67d1d8bc86c170ac"
  },
  {
   "cell_type": "code",
   "execution_count": 149,
   "outputs": [
    {
     "data": {
      "text/plain": "                                                  AOI  \\\nID                                                      \n46  [out, map, table, map, out, map, table, map, t...   \n37  [table, desc, out, desc, plot, desc, out, desc...   \n23  [desc, out, desc, table, desc, plot, map, tabl...   \n40  [plot, desc, out, desc, plot, desc, plot, tabl...   \n19  [table, desc, plot, desc, plot, table, plot, d...   \n31                       [table, desc, map, out, map]   \n38  [table, desc, table, desc, table, desc, table,...   \n35         [table, map, table, out, table, out, text]   \n42  [table, out, desc, out, desc, out, desc, table...   \n14  [table, desc, map, out, desc, out, desc, plot,...   \n3   [table, out, desc, out, table, map, table, map...   \n33  [plot, desc, table, desc, table, out, table, p...   \n39  [table, desc, table, desc, table, map, table, ...   \n16  [out, table, desc, plot, text, desc, table, de...   \n43  [map, table, map, out, map, out, map, text, ou...   \n15  [table, desc, plot, text, table, map, out, map...   \n5   [table, plot, desc, out, desc, map, table, plo...   \n27  [map, table, desc, table, desc, table, text, m...   \n12  [table, desc, out, plot, out, map, desc, map, ...   \n4   [table, desc, out, desc, plot, desc, out, desc...   \n41  [table, desc, table, desc, table, map, plot, t...   \n7   [table, desc, table, desc, table, desc, table,...   \n29  [out, map, out, text, plot, table, desc, table...   \n30  [table, desc, text, desc, out, desc, plot, des...   \n24  [map, desc, out, desc, map, table, desc, map, ...   \n32  [table, desc, table, desc, table, map, table, ...   \n20  [table, desc, out, desc, out, desc, text, desc...   \n1   [table, out, desc, out, desc, map, plot, out, ...   \n25  [table, plot, table, desc, out, desc, out, des...   \n21  [table, out, table, desc, out, desc, out, desc...   \n17  [table, out, desc, table, out, table, map, tab...   \n11  [table, map, out, desc, out, desc, plot, table...   \n45  [table, desc, table, plot, desc, map, desc, ma...   \n34  [map, table, desc, table, text, map, out, map,...   \n13  [table, out, desc, out, desc, map, desc, plot,...   \n44  [table, out, desc, out, desc, out, desc, table...   \n18                            [plot, map, text, plot]   \n22  [table, plot, map, desc, out, desc, table, map...   \n26  [desc, out, desc, out, desc, table, desc, plot...   \n2   [table, desc, table, desc, table, map, text, o...   \n\n                                             Duration  \nID                                                     \n46  [1026, 600, 117, 1409, 117, 1000, 142, 100, 10...  \n37  [67, 1677, 167, 1968, 708, 317, 200, 125, 2115...  \n23  [350, 225, 276, 108, 701, 3652, 351, 1308, 400...  \n40  [122, 259, 125, 541, 92, 233, 2318, 183, 550, ...  \n19  [235, 2817, 583, 659, 10133, 1109, 884, 1100, ...  \n31                         [117, 3218, 9457, 92, 167]  \n38  [133, 275, 425, 142, 125, 5025, 1300, 183, 223...  \n35             [1584, 167, 7756, 183, 1049, 292, 458]  \n42  [63, 117, 1366, 1384, 766, 658, 1192, 291, 257...  \n14  [173, 117, 367, 92, 67, 92, 450, 175, 158, 851...  \n3   [305, 4882, 234, 283, 175, 200, 384, 6758, 217...  \n33  [99, 3443, 125, 2936, 275, 142, 175, 5341, 684...  \n39  [272, 2383, 2757, 883, 891, 37302, 2659, 767, ...  \n16  [188, 125, 659, 267, 183, 1717, 83, 2967, 1068...  \n43  [39, 2374, 1132, 92, 1309, 83, 4738, 150, 167,...  \n15  [559, 3559, 183, 208, 2200, 225, 200, 108, 296...  \n5   [142, 150, 108, 908, 2758, 333, 850, 11702, 27...  \n27  [75, 775, 200, 334, 75, 441, 366, 350, 525, 15...  \n12  [212, 117, 4899, 359, 2450, 517, 608, 1276, 16...  \n4   [293, 500, 158, 1935, 67, 500, 75, 1249, 375, ...  \n41  [183, 1209, 516, 3083, 959, 1276, 11191, 100, ...  \n7   [132, 1282, 1924, 92, 901, 550, 2233, 150, 326...  \n29  [38, 183, 125, 208, 175, 175, 2668, 333, 1408,...  \n30  [133, 208, 67, 325, 208, 1241, 133, 693, 524, ...  \n24  [67, 275, 133, 1025, 434, 83, 267, 2391, 7668,...  \n32  [217, 2891, 292, 967, 900, 784, 1716, 308, 181...  \n20  [225, 450, 309, 1058, 183, 892, 367, 2235, 459...  \n1   [177, 133, 342, 175, 417, 100, 5591, 400, 2916...  \n25  [111, 117, 525, 150, 233, 175, 83, 416, 3025, ...  \n21  [93, 599, 100, 125, 75, 83, 92, 1732, 100, 275...  \n17  [208, 1974, 167, 317, 934, 292, 67, 108, 1840,...  \n11  [255, 133, 925, 167, 658, 2050, 625, 175, 8973...  \n45  [280, 1492, 158, 200, 466, 325, 875, 750, 525,...  \n34  [200, 300, 133, 983, 192, 358, 209, 358, 342, ...  \n13  [214, 500, 650, 450, 2200, 366, 1548, 1908, 92...  \n44  [133, 1233, 892, 250, 642, 175, 133, 242, 259,...  \n18                              [4569, 708, 434, 314]  \n22  [158, 108, 192, 2508, 233, 2450, 1199, 325, 20...  \n26  [100, 401, 1083, 275, 317, 359, 1159, 317, 208...  \n2   [75, 7318, 2026, 668, 609, 907, 975, 308, 3121...  ",
      "text/html": "<div>\n<style scoped>\n    .dataframe tbody tr th:only-of-type {\n        vertical-align: middle;\n    }\n\n    .dataframe tbody tr th {\n        vertical-align: top;\n    }\n\n    .dataframe thead th {\n        text-align: right;\n    }\n</style>\n<table border=\"1\" class=\"dataframe\">\n  <thead>\n    <tr style=\"text-align: right;\">\n      <th></th>\n      <th>AOI</th>\n      <th>Duration</th>\n    </tr>\n    <tr>\n      <th>ID</th>\n      <th></th>\n      <th></th>\n    </tr>\n  </thead>\n  <tbody>\n    <tr>\n      <th>46</th>\n      <td>[out, map, table, map, out, map, table, map, t...</td>\n      <td>[1026, 600, 117, 1409, 117, 1000, 142, 100, 10...</td>\n    </tr>\n    <tr>\n      <th>37</th>\n      <td>[table, desc, out, desc, plot, desc, out, desc...</td>\n      <td>[67, 1677, 167, 1968, 708, 317, 200, 125, 2115...</td>\n    </tr>\n    <tr>\n      <th>23</th>\n      <td>[desc, out, desc, table, desc, plot, map, tabl...</td>\n      <td>[350, 225, 276, 108, 701, 3652, 351, 1308, 400...</td>\n    </tr>\n    <tr>\n      <th>40</th>\n      <td>[plot, desc, out, desc, plot, desc, plot, tabl...</td>\n      <td>[122, 259, 125, 541, 92, 233, 2318, 183, 550, ...</td>\n    </tr>\n    <tr>\n      <th>19</th>\n      <td>[table, desc, plot, desc, plot, table, plot, d...</td>\n      <td>[235, 2817, 583, 659, 10133, 1109, 884, 1100, ...</td>\n    </tr>\n    <tr>\n      <th>31</th>\n      <td>[table, desc, map, out, map]</td>\n      <td>[117, 3218, 9457, 92, 167]</td>\n    </tr>\n    <tr>\n      <th>38</th>\n      <td>[table, desc, table, desc, table, desc, table,...</td>\n      <td>[133, 275, 425, 142, 125, 5025, 1300, 183, 223...</td>\n    </tr>\n    <tr>\n      <th>35</th>\n      <td>[table, map, table, out, table, out, text]</td>\n      <td>[1584, 167, 7756, 183, 1049, 292, 458]</td>\n    </tr>\n    <tr>\n      <th>42</th>\n      <td>[table, out, desc, out, desc, out, desc, table...</td>\n      <td>[63, 117, 1366, 1384, 766, 658, 1192, 291, 257...</td>\n    </tr>\n    <tr>\n      <th>14</th>\n      <td>[table, desc, map, out, desc, out, desc, plot,...</td>\n      <td>[173, 117, 367, 92, 67, 92, 450, 175, 158, 851...</td>\n    </tr>\n    <tr>\n      <th>3</th>\n      <td>[table, out, desc, out, table, map, table, map...</td>\n      <td>[305, 4882, 234, 283, 175, 200, 384, 6758, 217...</td>\n    </tr>\n    <tr>\n      <th>33</th>\n      <td>[plot, desc, table, desc, table, out, table, p...</td>\n      <td>[99, 3443, 125, 2936, 275, 142, 175, 5341, 684...</td>\n    </tr>\n    <tr>\n      <th>39</th>\n      <td>[table, desc, table, desc, table, map, table, ...</td>\n      <td>[272, 2383, 2757, 883, 891, 37302, 2659, 767, ...</td>\n    </tr>\n    <tr>\n      <th>16</th>\n      <td>[out, table, desc, plot, text, desc, table, de...</td>\n      <td>[188, 125, 659, 267, 183, 1717, 83, 2967, 1068...</td>\n    </tr>\n    <tr>\n      <th>43</th>\n      <td>[map, table, map, out, map, out, map, text, ou...</td>\n      <td>[39, 2374, 1132, 92, 1309, 83, 4738, 150, 167,...</td>\n    </tr>\n    <tr>\n      <th>15</th>\n      <td>[table, desc, plot, text, table, map, out, map...</td>\n      <td>[559, 3559, 183, 208, 2200, 225, 200, 108, 296...</td>\n    </tr>\n    <tr>\n      <th>5</th>\n      <td>[table, plot, desc, out, desc, map, table, plo...</td>\n      <td>[142, 150, 108, 908, 2758, 333, 850, 11702, 27...</td>\n    </tr>\n    <tr>\n      <th>27</th>\n      <td>[map, table, desc, table, desc, table, text, m...</td>\n      <td>[75, 775, 200, 334, 75, 441, 366, 350, 525, 15...</td>\n    </tr>\n    <tr>\n      <th>12</th>\n      <td>[table, desc, out, plot, out, map, desc, map, ...</td>\n      <td>[212, 117, 4899, 359, 2450, 517, 608, 1276, 16...</td>\n    </tr>\n    <tr>\n      <th>4</th>\n      <td>[table, desc, out, desc, plot, desc, out, desc...</td>\n      <td>[293, 500, 158, 1935, 67, 500, 75, 1249, 375, ...</td>\n    </tr>\n    <tr>\n      <th>41</th>\n      <td>[table, desc, table, desc, table, map, plot, t...</td>\n      <td>[183, 1209, 516, 3083, 959, 1276, 11191, 100, ...</td>\n    </tr>\n    <tr>\n      <th>7</th>\n      <td>[table, desc, table, desc, table, desc, table,...</td>\n      <td>[132, 1282, 1924, 92, 901, 550, 2233, 150, 326...</td>\n    </tr>\n    <tr>\n      <th>29</th>\n      <td>[out, map, out, text, plot, table, desc, table...</td>\n      <td>[38, 183, 125, 208, 175, 175, 2668, 333, 1408,...</td>\n    </tr>\n    <tr>\n      <th>30</th>\n      <td>[table, desc, text, desc, out, desc, plot, des...</td>\n      <td>[133, 208, 67, 325, 208, 1241, 133, 693, 524, ...</td>\n    </tr>\n    <tr>\n      <th>24</th>\n      <td>[map, desc, out, desc, map, table, desc, map, ...</td>\n      <td>[67, 275, 133, 1025, 434, 83, 267, 2391, 7668,...</td>\n    </tr>\n    <tr>\n      <th>32</th>\n      <td>[table, desc, table, desc, table, map, table, ...</td>\n      <td>[217, 2891, 292, 967, 900, 784, 1716, 308, 181...</td>\n    </tr>\n    <tr>\n      <th>20</th>\n      <td>[table, desc, out, desc, out, desc, text, desc...</td>\n      <td>[225, 450, 309, 1058, 183, 892, 367, 2235, 459...</td>\n    </tr>\n    <tr>\n      <th>1</th>\n      <td>[table, out, desc, out, desc, map, plot, out, ...</td>\n      <td>[177, 133, 342, 175, 417, 100, 5591, 400, 2916...</td>\n    </tr>\n    <tr>\n      <th>25</th>\n      <td>[table, plot, table, desc, out, desc, out, des...</td>\n      <td>[111, 117, 525, 150, 233, 175, 83, 416, 3025, ...</td>\n    </tr>\n    <tr>\n      <th>21</th>\n      <td>[table, out, table, desc, out, desc, out, desc...</td>\n      <td>[93, 599, 100, 125, 75, 83, 92, 1732, 100, 275...</td>\n    </tr>\n    <tr>\n      <th>17</th>\n      <td>[table, out, desc, table, out, table, map, tab...</td>\n      <td>[208, 1974, 167, 317, 934, 292, 67, 108, 1840,...</td>\n    </tr>\n    <tr>\n      <th>11</th>\n      <td>[table, map, out, desc, out, desc, plot, table...</td>\n      <td>[255, 133, 925, 167, 658, 2050, 625, 175, 8973...</td>\n    </tr>\n    <tr>\n      <th>45</th>\n      <td>[table, desc, table, plot, desc, map, desc, ma...</td>\n      <td>[280, 1492, 158, 200, 466, 325, 875, 750, 525,...</td>\n    </tr>\n    <tr>\n      <th>34</th>\n      <td>[map, table, desc, table, text, map, out, map,...</td>\n      <td>[200, 300, 133, 983, 192, 358, 209, 358, 342, ...</td>\n    </tr>\n    <tr>\n      <th>13</th>\n      <td>[table, out, desc, out, desc, map, desc, plot,...</td>\n      <td>[214, 500, 650, 450, 2200, 366, 1548, 1908, 92...</td>\n    </tr>\n    <tr>\n      <th>44</th>\n      <td>[table, out, desc, out, desc, out, desc, table...</td>\n      <td>[133, 1233, 892, 250, 642, 175, 133, 242, 259,...</td>\n    </tr>\n    <tr>\n      <th>18</th>\n      <td>[plot, map, text, plot]</td>\n      <td>[4569, 708, 434, 314]</td>\n    </tr>\n    <tr>\n      <th>22</th>\n      <td>[table, plot, map, desc, out, desc, table, map...</td>\n      <td>[158, 108, 192, 2508, 233, 2450, 1199, 325, 20...</td>\n    </tr>\n    <tr>\n      <th>26</th>\n      <td>[desc, out, desc, out, desc, table, desc, plot...</td>\n      <td>[100, 401, 1083, 275, 317, 359, 1159, 317, 208...</td>\n    </tr>\n    <tr>\n      <th>2</th>\n      <td>[table, desc, table, desc, table, map, text, o...</td>\n      <td>[75, 7318, 2026, 668, 609, 907, 975, 308, 3121...</td>\n    </tr>\n  </tbody>\n</table>\n</div>"
     },
     "execution_count": 149,
     "metadata": {},
     "output_type": "execute_result"
    }
   ],
   "source": [
    "final_result.set_index('ID', inplace=True)\n",
    "final_result"
   ],
   "metadata": {
    "collapsed": false,
    "ExecuteTime": {
     "end_time": "2023-10-11T12:53:48.136250Z",
     "start_time": "2023-10-11T12:53:48.133284Z"
    }
   },
   "id": "82ede350982809cc"
  },
  {
   "cell_type": "code",
   "execution_count": 150,
   "outputs": [],
   "source": [
    "final_result.to_csv(f'data-new/markov/{NAME}.csv', index=True)"
   ],
   "metadata": {
    "collapsed": false,
    "ExecuteTime": {
     "end_time": "2023-10-11T12:53:48.967232Z",
     "start_time": "2023-10-11T12:53:48.959670Z"
    }
   },
   "id": "4d54577ca0820813"
  },
  {
   "cell_type": "code",
   "execution_count": null,
   "outputs": [],
   "source": [],
   "metadata": {
    "collapsed": false
   },
   "id": "6cce8ec59b33bf8a"
  }
 ],
 "metadata": {
  "kernelspec": {
   "display_name": "Python 3",
   "language": "python",
   "name": "python3"
  },
  "language_info": {
   "codemirror_mode": {
    "name": "ipython",
    "version": 2
   },
   "file_extension": ".py",
   "mimetype": "text/x-python",
   "name": "python",
   "nbconvert_exporter": "python",
   "pygments_lexer": "ipython2",
   "version": "2.7.6"
  }
 },
 "nbformat": 4,
 "nbformat_minor": 5
}
