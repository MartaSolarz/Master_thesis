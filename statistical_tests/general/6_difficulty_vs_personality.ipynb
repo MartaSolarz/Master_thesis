{
 "cells": [
  {
   "cell_type": "markdown",
   "source": [
    "# Difficulty and personal data\n",
    "\n",
    "### Is there a statistically significant difference in the assessment of the task difficulty depending on the personality characteristics from the survey?"
   ],
   "metadata": {
    "collapsed": false
   },
   "id": "a1ec9284217d2903"
  },
  {
   "cell_type": "code",
   "execution_count": 1,
   "outputs": [],
   "source": [
    "import pandas as pd\n",
    "\n",
    "from functions.tests.independent_groups.two_groups import mann_whitney_test\n",
    "from functions.tests.independent_groups.more_than_two_groups import kruskal_wallis_test\n",
    "from functions.tests.posthoc import posthocNemenyi2_test\n",
    "from functions.others import choose_dominant_kind, change_to_ranges_roz, change_to_ranges_podst"
   ],
   "metadata": {
    "collapsed": false,
    "ExecuteTime": {
     "end_time": "2024-04-12T13:48:27.171382Z",
     "start_time": "2024-04-12T13:48:26.593674Z"
    }
   },
   "id": "2b7d70f653339cca"
  },
  {
   "cell_type": "code",
   "execution_count": 2,
   "outputs": [],
   "source": [
    "df_answers = pd.read_csv('/Users/martasolarz/Studies/Thesis/Master_thesis/prepare_datasets/sets/correctness.csv')\n",
    "\n",
    "df_quest = pd.read_csv('/Users/martasolarz/Studies/Thesis/data/survey.csv').fillna('NO_VAL')\n",
    "\n",
    "df_quest = df_quest[df_quest.ID != 6]  # rejected person due to eye tracking metrics"
   ],
   "metadata": {
    "collapsed": false,
    "ExecuteTime": {
     "end_time": "2024-04-12T13:48:27.183443Z",
     "start_time": "2024-04-12T13:48:27.171110Z"
    }
   },
   "id": "4b76b2ea71a0ebf8"
  },
  {
   "cell_type": "code",
   "execution_count": 3,
   "outputs": [
    {
     "data": {
      "text/plain": "   ID Płeć  Rok_urodzenia         Kierunek_studiów  Rok_studiów Specjalność  \\\n0   1    M           2002         MISMaP Geografia            2    SPOŁ-EKO   \n1   2    M           2003  Gospodarka przestrzenna            1      NO_VAL   \n2   3    M           2001                Geografia            3     GEOINF    \n3   4    K           2000                Geografia            3     GEOINF    \n4   5    K           2002                Geografia            3     GEOINF    \n\n   Wady_wzroku  Daltonizm Ilość_snu  JP_podst  ...  Rank_map  Rank_txt  \\\n0            0          1         6         4  ...         3         4   \n1            1          1        <6         2  ...         2         3   \n2            0          1         8         2  ...         1         4   \n3            0          1         8         2  ...         2         4   \n4            0          1         7         2  ...         2         4   \n\n   Rank_plt  Rank_tab        Data   Godzina     MAT     POL    HIST  \\\n0         1         2  2023-05-24  11:44:20     VAL     VAL  NO_VAL   \n1         1         4  2023-05-24  12:21:03     VAL     VAL  NO_VAL   \n2         3         2  2023-05-24  12:41:09     VAL  NO_VAL  NO_VAL   \n3         3         1  2023-05-24  13:15:20  NO_VAL     VAL  NO_VAL   \n4         1         3  2023-05-24  13:35:17  NO_VAL  NO_VAL  NO_VAL   \n\n         Typ_uczenia  \n0         Kinestetyk  \n1  Brak dominującego  \n2         Wzrokowiec  \n3  Brak dominującego  \n4         Wzrokowiec  \n\n[5 rows x 38 columns]",
      "text/html": "<div>\n<style scoped>\n    .dataframe tbody tr th:only-of-type {\n        vertical-align: middle;\n    }\n\n    .dataframe tbody tr th {\n        vertical-align: top;\n    }\n\n    .dataframe thead th {\n        text-align: right;\n    }\n</style>\n<table border=\"1\" class=\"dataframe\">\n  <thead>\n    <tr style=\"text-align: right;\">\n      <th></th>\n      <th>ID</th>\n      <th>Płeć</th>\n      <th>Rok_urodzenia</th>\n      <th>Kierunek_studiów</th>\n      <th>Rok_studiów</th>\n      <th>Specjalność</th>\n      <th>Wady_wzroku</th>\n      <th>Daltonizm</th>\n      <th>Ilość_snu</th>\n      <th>JP_podst</th>\n      <th>...</th>\n      <th>Rank_map</th>\n      <th>Rank_txt</th>\n      <th>Rank_plt</th>\n      <th>Rank_tab</th>\n      <th>Data</th>\n      <th>Godzina</th>\n      <th>MAT</th>\n      <th>POL</th>\n      <th>HIST</th>\n      <th>Typ_uczenia</th>\n    </tr>\n  </thead>\n  <tbody>\n    <tr>\n      <th>0</th>\n      <td>1</td>\n      <td>M</td>\n      <td>2002</td>\n      <td>MISMaP Geografia</td>\n      <td>2</td>\n      <td>SPOŁ-EKO</td>\n      <td>0</td>\n      <td>1</td>\n      <td>6</td>\n      <td>4</td>\n      <td>...</td>\n      <td>3</td>\n      <td>4</td>\n      <td>1</td>\n      <td>2</td>\n      <td>2023-05-24</td>\n      <td>11:44:20</td>\n      <td>VAL</td>\n      <td>VAL</td>\n      <td>NO_VAL</td>\n      <td>Kinestetyk</td>\n    </tr>\n    <tr>\n      <th>1</th>\n      <td>2</td>\n      <td>M</td>\n      <td>2003</td>\n      <td>Gospodarka przestrzenna</td>\n      <td>1</td>\n      <td>NO_VAL</td>\n      <td>1</td>\n      <td>1</td>\n      <td>&lt;6</td>\n      <td>2</td>\n      <td>...</td>\n      <td>2</td>\n      <td>3</td>\n      <td>1</td>\n      <td>4</td>\n      <td>2023-05-24</td>\n      <td>12:21:03</td>\n      <td>VAL</td>\n      <td>VAL</td>\n      <td>NO_VAL</td>\n      <td>Brak dominującego</td>\n    </tr>\n    <tr>\n      <th>2</th>\n      <td>3</td>\n      <td>M</td>\n      <td>2001</td>\n      <td>Geografia</td>\n      <td>3</td>\n      <td>GEOINF</td>\n      <td>0</td>\n      <td>1</td>\n      <td>8</td>\n      <td>2</td>\n      <td>...</td>\n      <td>1</td>\n      <td>4</td>\n      <td>3</td>\n      <td>2</td>\n      <td>2023-05-24</td>\n      <td>12:41:09</td>\n      <td>VAL</td>\n      <td>NO_VAL</td>\n      <td>NO_VAL</td>\n      <td>Wzrokowiec</td>\n    </tr>\n    <tr>\n      <th>3</th>\n      <td>4</td>\n      <td>K</td>\n      <td>2000</td>\n      <td>Geografia</td>\n      <td>3</td>\n      <td>GEOINF</td>\n      <td>0</td>\n      <td>1</td>\n      <td>8</td>\n      <td>2</td>\n      <td>...</td>\n      <td>2</td>\n      <td>4</td>\n      <td>3</td>\n      <td>1</td>\n      <td>2023-05-24</td>\n      <td>13:15:20</td>\n      <td>NO_VAL</td>\n      <td>VAL</td>\n      <td>NO_VAL</td>\n      <td>Brak dominującego</td>\n    </tr>\n    <tr>\n      <th>4</th>\n      <td>5</td>\n      <td>K</td>\n      <td>2002</td>\n      <td>Geografia</td>\n      <td>3</td>\n      <td>GEOINF</td>\n      <td>0</td>\n      <td>1</td>\n      <td>7</td>\n      <td>2</td>\n      <td>...</td>\n      <td>2</td>\n      <td>4</td>\n      <td>1</td>\n      <td>3</td>\n      <td>2023-05-24</td>\n      <td>13:35:17</td>\n      <td>NO_VAL</td>\n      <td>NO_VAL</td>\n      <td>NO_VAL</td>\n      <td>Wzrokowiec</td>\n    </tr>\n  </tbody>\n</table>\n<p>5 rows × 38 columns</p>\n</div>"
     },
     "execution_count": 3,
     "metadata": {},
     "output_type": "execute_result"
    }
   ],
   "source": [
    "# change values to ranges\n",
    "df_quest['MAT'] = df_quest['MAT_roz'].apply(lambda x: x if x == 'NO_VAL' else 'VAL')\n",
    "df_quest['POL'] = df_quest['JP_roz'].apply(lambda x: x if x == 'NO_VAL' else 'VAL')\n",
    "df_quest['HIST'] = df_quest['HIST_roz'].apply(lambda x: x if x == 'NO_VAL' else 'VAL')\n",
    "df_quest['Typ_uczenia'] = df_quest.apply(choose_dominant_kind, axis=1)\n",
    "df_quest['Kierunek_studiów'] = df_quest['Kierunek_studiów'].apply(lambda x: 'MISMaP Geografia' if x == 'Geografia, w ramach studiów międzyobszarowych' else x)\n",
    "df_quest['JP_podst'] = df_quest['JP_podst'].apply(change_to_ranges_podst)\n",
    "df_quest['MAT_podst'] = df_quest['MAT_podst'].apply(change_to_ranges_podst)\n",
    "df_quest['JP_roz'] = df_quest['JP_roz'].apply(change_to_ranges_roz)\n",
    "df_quest['MAT_roz'] = df_quest['MAT_roz'].apply(change_to_ranges_roz)\n",
    "df_quest['HIST_roz'] = df_quest['HIST_roz'].apply(change_to_ranges_roz)\n",
    "df_quest['FIZ_roz'] = df_quest['FIZ_roz'].apply(change_to_ranges_roz)\n",
    "df_quest.head()"
   ],
   "metadata": {
    "collapsed": false,
    "ExecuteTime": {
     "end_time": "2024-04-12T13:48:27.215345Z",
     "start_time": "2024-04-12T13:48:27.188150Z"
    }
   },
   "id": "f4ddfe54fd72661d"
  },
  {
   "cell_type": "code",
   "execution_count": 4,
   "outputs": [
    {
     "data": {
      "text/plain": "    1a_trud  1b_trud  2a_trud  2b_trud  3a_trud  3b_trud  Trud_all  Corr_all  \\\nID                                                                             \n42        2        1        2        1        2        2        10         5   \n43        1        2        2        2        3        3        13         5   \n44        1        1        3        1        2        3        11         3   \n45        2        1        2        2        2        2        11         3   \n46        1        3        2        2        2        3        13         4   \n\n    1a_corr  1b_corr  ...  Rank_map  Rank_txt  Rank_plt  Rank_tab        Data  \\\nID                    ...                                                       \n42        1        1  ...         2         4         1         3  2023-06-07   \n43        1        1  ...         2         3         1         2  2023-06-07   \n44        1        1  ...         2         1         2         1  2023-06-07   \n45        1        1  ...         2         4         3         1  2023-06-07   \n46        0        1  ...         1         3         3         3  2023-06-07   \n\n     Godzina     MAT     POL    HIST        Typ_uczenia  \nID                                                       \n42  11:42:55  NO_VAL  NO_VAL  NO_VAL         Wzrokowiec  \n43  13:04:51  NO_VAL  NO_VAL  NO_VAL  Brak dominującego  \n44  14:13:38     VAL  NO_VAL  NO_VAL  Brak dominującego  \n45  14:27:37     VAL  NO_VAL  NO_VAL         Słuchowiec  \n46  15:19:52  NO_VAL  NO_VAL  NO_VAL  Brak dominującego  \n\n[5 rows x 61 columns]",
      "text/html": "<div>\n<style scoped>\n    .dataframe tbody tr th:only-of-type {\n        vertical-align: middle;\n    }\n\n    .dataframe tbody tr th {\n        vertical-align: top;\n    }\n\n    .dataframe thead th {\n        text-align: right;\n    }\n</style>\n<table border=\"1\" class=\"dataframe\">\n  <thead>\n    <tr style=\"text-align: right;\">\n      <th></th>\n      <th>1a_trud</th>\n      <th>1b_trud</th>\n      <th>2a_trud</th>\n      <th>2b_trud</th>\n      <th>3a_trud</th>\n      <th>3b_trud</th>\n      <th>Trud_all</th>\n      <th>Corr_all</th>\n      <th>1a_corr</th>\n      <th>1b_corr</th>\n      <th>...</th>\n      <th>Rank_map</th>\n      <th>Rank_txt</th>\n      <th>Rank_plt</th>\n      <th>Rank_tab</th>\n      <th>Data</th>\n      <th>Godzina</th>\n      <th>MAT</th>\n      <th>POL</th>\n      <th>HIST</th>\n      <th>Typ_uczenia</th>\n    </tr>\n    <tr>\n      <th>ID</th>\n      <th></th>\n      <th></th>\n      <th></th>\n      <th></th>\n      <th></th>\n      <th></th>\n      <th></th>\n      <th></th>\n      <th></th>\n      <th></th>\n      <th></th>\n      <th></th>\n      <th></th>\n      <th></th>\n      <th></th>\n      <th></th>\n      <th></th>\n      <th></th>\n      <th></th>\n      <th></th>\n      <th></th>\n    </tr>\n  </thead>\n  <tbody>\n    <tr>\n      <th>42</th>\n      <td>2</td>\n      <td>1</td>\n      <td>2</td>\n      <td>1</td>\n      <td>2</td>\n      <td>2</td>\n      <td>10</td>\n      <td>5</td>\n      <td>1</td>\n      <td>1</td>\n      <td>...</td>\n      <td>2</td>\n      <td>4</td>\n      <td>1</td>\n      <td>3</td>\n      <td>2023-06-07</td>\n      <td>11:42:55</td>\n      <td>NO_VAL</td>\n      <td>NO_VAL</td>\n      <td>NO_VAL</td>\n      <td>Wzrokowiec</td>\n    </tr>\n    <tr>\n      <th>43</th>\n      <td>1</td>\n      <td>2</td>\n      <td>2</td>\n      <td>2</td>\n      <td>3</td>\n      <td>3</td>\n      <td>13</td>\n      <td>5</td>\n      <td>1</td>\n      <td>1</td>\n      <td>...</td>\n      <td>2</td>\n      <td>3</td>\n      <td>1</td>\n      <td>2</td>\n      <td>2023-06-07</td>\n      <td>13:04:51</td>\n      <td>NO_VAL</td>\n      <td>NO_VAL</td>\n      <td>NO_VAL</td>\n      <td>Brak dominującego</td>\n    </tr>\n    <tr>\n      <th>44</th>\n      <td>1</td>\n      <td>1</td>\n      <td>3</td>\n      <td>1</td>\n      <td>2</td>\n      <td>3</td>\n      <td>11</td>\n      <td>3</td>\n      <td>1</td>\n      <td>1</td>\n      <td>...</td>\n      <td>2</td>\n      <td>1</td>\n      <td>2</td>\n      <td>1</td>\n      <td>2023-06-07</td>\n      <td>14:13:38</td>\n      <td>VAL</td>\n      <td>NO_VAL</td>\n      <td>NO_VAL</td>\n      <td>Brak dominującego</td>\n    </tr>\n    <tr>\n      <th>45</th>\n      <td>2</td>\n      <td>1</td>\n      <td>2</td>\n      <td>2</td>\n      <td>2</td>\n      <td>2</td>\n      <td>11</td>\n      <td>3</td>\n      <td>1</td>\n      <td>1</td>\n      <td>...</td>\n      <td>2</td>\n      <td>4</td>\n      <td>3</td>\n      <td>1</td>\n      <td>2023-06-07</td>\n      <td>14:27:37</td>\n      <td>VAL</td>\n      <td>NO_VAL</td>\n      <td>NO_VAL</td>\n      <td>Słuchowiec</td>\n    </tr>\n    <tr>\n      <th>46</th>\n      <td>1</td>\n      <td>3</td>\n      <td>2</td>\n      <td>2</td>\n      <td>2</td>\n      <td>3</td>\n      <td>13</td>\n      <td>4</td>\n      <td>0</td>\n      <td>1</td>\n      <td>...</td>\n      <td>1</td>\n      <td>3</td>\n      <td>3</td>\n      <td>3</td>\n      <td>2023-06-07</td>\n      <td>15:19:52</td>\n      <td>NO_VAL</td>\n      <td>NO_VAL</td>\n      <td>NO_VAL</td>\n      <td>Brak dominującego</td>\n    </tr>\n  </tbody>\n</table>\n<p>5 rows × 61 columns</p>\n</div>"
     },
     "execution_count": 4,
     "metadata": {},
     "output_type": "execute_result"
    }
   ],
   "source": [
    "df_merge = df_answers.merge(df_quest, on='ID').set_index('ID')\n",
    "df_merge.tail()"
   ],
   "metadata": {
    "collapsed": false,
    "ExecuteTime": {
     "end_time": "2024-04-12T13:48:27.238724Z",
     "start_time": "2024-04-12T13:48:27.205924Z"
    }
   },
   "id": "29feb229f7e7ff3"
  },
  {
   "cell_type": "markdown",
   "source": [
    "Preparation of data for the analysis:"
   ],
   "metadata": {
    "collapsed": false
   },
   "id": "8787e28959913403"
  },
  {
   "cell_type": "code",
   "execution_count": 5,
   "outputs": [],
   "source": [
    "# sum of difficulty - all tasks\n",
    "df_all = df_merge.copy()\n",
    "df_all.rename(columns={'Corr_all': 'corr', 'Trud_all': 'diff'}, inplace=True)\n",
    "\n",
    "# sum of difficulty - tasks without redundancy\n",
    "df_sumA = df_merge.copy()\n",
    "df_sumA.rename(columns={'SumCorr_a': 'corr', 'SumTrud_a': 'diff'}, inplace=True)\n",
    "\n",
    "# sum of difficulty - tasks with redundancy\n",
    "df_sumB = df_merge.copy()\n",
    "df_sumB.rename(columns={'SumCorr_b': 'corr', 'SumTrud_b': 'diff'}, inplace=True)\n",
    "\n",
    "# sum of difficulty - task 1\n",
    "df_sum1 = df_merge.copy()\n",
    "df_sum1.rename(columns={'SumCorr_1': 'corr', 'SumTrud_1': 'diff'}, inplace=True)\n",
    "\n",
    "# sum of difficulty - task 2\n",
    "df_sum2 = df_merge.copy()\n",
    "df_sum2.rename(columns={'SumCorr_2': 'corr', 'SumTrud_2': 'diff'}, inplace=True)\n",
    "\n",
    "# sum of difficulty - task 3\n",
    "df_sum3 = df_merge.copy()\n",
    "df_sum3.rename(columns={'SumCorr_3': 'corr', 'SumTrud_3': 'diff'}, inplace=True)"
   ],
   "metadata": {
    "collapsed": false,
    "ExecuteTime": {
     "end_time": "2024-04-12T13:48:27.238993Z",
     "start_time": "2024-04-12T13:48:27.218126Z"
    }
   },
   "id": "95f65e8caa2205d1"
  },
  {
   "cell_type": "markdown",
   "source": [
    "##### H0: There is no statistically significant relationship between task difficulty and the value of feature X.\n",
    "\n",
    "##### H1: There is a statistically significant relationship between task difficulty and the value of feature X.\n",
    "\n",
    "##### Significance level: $\\alpha=0.05$"
   ],
   "metadata": {
    "collapsed": false
   },
   "id": "910d174c485d645f"
  },
  {
   "cell_type": "code",
   "execution_count": 6,
   "outputs": [],
   "source": [
    "ALPHA = 0.05"
   ],
   "metadata": {
    "collapsed": false,
    "ExecuteTime": {
     "end_time": "2024-04-12T13:48:27.239114Z",
     "start_time": "2024-04-12T13:48:27.231420Z"
    }
   },
   "id": "c6e3830c5d0790d4"
  },
  {
   "cell_type": "code",
   "execution_count": 7,
   "outputs": [
    {
     "data": {
      "text/plain": "Index(['ID', 'Płeć', 'Rok_urodzenia', 'Kierunek_studiów', 'Rok_studiów',\n       'Specjalność', 'Wady_wzroku', 'Daltonizm', 'Ilość_snu', 'JP_podst',\n       'MAT_podst', 'JP_roz', 'MAT_roz', 'FIZ_roz', 'HIST_roz', 'Samopocz',\n       'Stres', 'Zmęcz', 'Czyt_map', 'Podziel_uwg', 'Analit_myśl', 'Spostrzeg',\n       'Czyt_ze_zroz', 'Wzrokowiec', 'Słuchowiec', 'Kinestetyk',\n       'Quest1_after', 'Quest2_after', 'Rank_map', 'Rank_txt', 'Rank_plt',\n       'Rank_tab', 'Data', 'Godzina', 'MAT', 'POL', 'HIST', 'Typ_uczenia'],\n      dtype='object')"
     },
     "execution_count": 7,
     "metadata": {},
     "output_type": "execute_result"
    }
   ],
   "source": [
    "df_quest.columns"
   ],
   "metadata": {
    "collapsed": false,
    "ExecuteTime": {
     "end_time": "2024-04-12T13:48:27.312288Z",
     "start_time": "2024-04-12T13:48:27.235802Z"
    }
   },
   "id": "464df3b4cdc1569c"
  },
  {
   "cell_type": "code",
   "execution_count": 8,
   "outputs": [],
   "source": [
    "dfs = [df_all, df_sumA, df_sumB, df_sum1, df_sum2, df_sum3]\n",
    "names = {\n",
    "    1: 'Zsumowane wszystkie grafiki:',\n",
    "    2: 'Zsumowane grafiki A:',\n",
    "    3: 'Zsumowane grafiki B:',\n",
    "    4: 'Zsumowane grafiki 1:',\n",
    "    5: 'Zsumowane grafiki 2:',\n",
    "    6: 'Zsumowane grafiki 3:',\n",
    "}"
   ],
   "metadata": {
    "collapsed": false,
    "ExecuteTime": {
     "end_time": "2024-04-12T13:48:27.352974Z",
     "start_time": "2024-04-12T13:48:27.241356Z"
    }
   },
   "id": "ac35f464e8f372b8"
  },
  {
   "cell_type": "code",
   "execution_count": 9,
   "outputs": [
    {
     "name": "stdout",
     "output_type": "stream",
     "text": [
      "-------------------------------------\n",
      "Zsumowane wszystkie grafiki:\n",
      "U-statistic: 143.0\n",
      "p-value: 0.1528053578197892\n",
      "No reason to reject H0, accept H0.\n",
      "-------------------------------------\n",
      "Zsumowane grafiki A:\n",
      "U-statistic: 161.5\n",
      "p-value: 0.34328943875180506\n",
      "No reason to reject H0, accept H0.\n",
      "-------------------------------------\n",
      "Zsumowane grafiki B:\n",
      "U-statistic: 135.5\n",
      "p-value: 0.09861224981647494\n",
      "No reason to reject H0, accept H0.\n",
      "-------------------------------------\n",
      "Zsumowane grafiki 1:\n",
      "U-statistic: 128.5\n",
      "p-value: 0.05953075986836803\n",
      "No reason to reject H0, accept H0.\n",
      "-------------------------------------\n",
      "Zsumowane grafiki 2:\n",
      "U-statistic: 148.0\n",
      "p-value: 0.18919273653641733\n",
      "No reason to reject H0, accept H0.\n",
      "-------------------------------------\n",
      "Zsumowane grafiki 3:\n",
      "U-statistic: 198.0\n",
      "p-value: 0.9558883028260049\n",
      "No reason to reject H0, accept H0.\n"
     ]
    }
   ],
   "source": [
    "# sex\n",
    "var = 'Płeć'\n",
    "for i, df in enumerate(dfs):\n",
    "    print('-------------------------------------')\n",
    "    print(names[i+1])\n",
    "    mann_whitney_test([df['diff'][df[var] == 'M'], df['diff'][df[var] == 'K']], print_flag=True, alpha=ALPHA)"
   ],
   "metadata": {
    "collapsed": false,
    "ExecuteTime": {
     "end_time": "2024-04-12T13:48:27.353285Z",
     "start_time": "2024-04-12T13:48:27.252769Z"
    }
   },
   "id": "a251bed2f8b34616"
  },
  {
   "cell_type": "code",
   "execution_count": 10,
   "outputs": [
    {
     "name": "stdout",
     "output_type": "stream",
     "text": [
      "-------------------------------------\n",
      "Zsumowane wszystkie grafiki:\n",
      "U-statistic: 223.0\n",
      "p-value: 0.39745334029926815\n",
      "No reason to reject H0, accept H0.\n",
      "-------------------------------------\n",
      "Zsumowane grafiki A:\n",
      "U-statistic: 197.0\n",
      "p-value: 0.8977880121734001\n",
      "No reason to reject H0, accept H0.\n",
      "-------------------------------------\n",
      "Zsumowane grafiki B:\n",
      "U-statistic: 237.0\n",
      "p-value: 0.21259837851487695\n",
      "No reason to reject H0, accept H0.\n",
      "-------------------------------------\n",
      "Zsumowane grafiki 1:\n",
      "U-statistic: 215.5\n",
      "p-value: 0.5107889940850671\n",
      "No reason to reject H0, accept H0.\n",
      "-------------------------------------\n",
      "Zsumowane grafiki 2:\n",
      "U-statistic: 222.5\n",
      "p-value: 0.39773647561841163\n",
      "No reason to reject H0, accept H0.\n",
      "-------------------------------------\n",
      "Zsumowane grafiki 3:\n",
      "U-statistic: 206.5\n",
      "p-value: 0.6960106723132915\n",
      "No reason to reject H0, accept H0.\n"
     ]
    }
   ],
   "source": [
    "# eye defects\n",
    "var = 'Wady_wzroku'\n",
    "for i, df in enumerate(dfs):\n",
    "    print('-------------------------------------')\n",
    "    print(names[i+1])\n",
    "    mann_whitney_test([df['diff'][df[var] == 1], df['diff'][df[var] == 0]], print_flag=True, alpha=ALPHA)"
   ],
   "metadata": {
    "collapsed": false,
    "ExecuteTime": {
     "end_time": "2024-04-12T13:48:27.371749Z",
     "start_time": "2024-04-12T13:48:27.272225Z"
    }
   },
   "id": "5d0c1adc35f11063"
  },
  {
   "cell_type": "code",
   "execution_count": 11,
   "outputs": [
    {
     "name": "stdout",
     "output_type": "stream",
     "text": [
      "-------------------------------------\n",
      "Zsumowane wszystkie grafiki:\n",
      "U-statistic: 167.5\n",
      "p-value: 0.37074835068742207\n",
      "No reason to reject H0, accept H0.\n",
      "-------------------------------------\n",
      "Zsumowane grafiki A:\n",
      "U-statistic: 171.0\n",
      "p-value: 0.29919196701555795\n",
      "No reason to reject H0, accept H0.\n",
      "-------------------------------------\n",
      "Zsumowane grafiki B:\n",
      "U-statistic: 153.5\n",
      "p-value: 0.6573159950447007\n",
      "No reason to reject H0, accept H0.\n",
      "-------------------------------------\n",
      "Zsumowane grafiki 1:\n",
      "U-statistic: 129.5\n",
      "p-value: 0.7499844035445999\n",
      "No reason to reject H0, accept H0.\n",
      "-------------------------------------\n",
      "Zsumowane grafiki 2:\n",
      "U-statistic: 161.5\n",
      "p-value: 0.47707165972839605\n",
      "No reason to reject H0, accept H0.\n",
      "-------------------------------------\n",
      "Zsumowane grafiki 3:\n",
      "U-statistic: 186.0\n",
      "p-value: 0.1320455730740121\n",
      "No reason to reject H0, accept H0.\n"
     ]
    }
   ],
   "source": [
    "# people who wrote the extended matura exam\n",
    "# Polish language\n",
    "var = 'POL'\n",
    "for i, df in enumerate(dfs):\n",
    "    print('-------------------------------------')\n",
    "    print(names[i+1])\n",
    "    mann_whitney_test([df['diff'][df[var] == 'VAL'], df['diff'][df[var] == 'NO_VAL']], print_flag=True, alpha=ALPHA)"
   ],
   "metadata": {
    "collapsed": false,
    "ExecuteTime": {
     "end_time": "2024-04-12T13:48:27.414140Z",
     "start_time": "2024-04-12T13:48:27.295691Z"
    }
   },
   "id": "ddf8ceac6f9a7147"
  },
  {
   "cell_type": "code",
   "execution_count": 12,
   "outputs": [
    {
     "name": "stdout",
     "output_type": "stream",
     "text": [
      "-------------------------------------\n",
      "Zsumowane wszystkie grafiki:\n",
      "U-statistic: 187.0\n",
      "p-value: 0.7742198640107305\n",
      "No reason to reject H0, accept H0.\n",
      "-------------------------------------\n",
      "Zsumowane grafiki A:\n",
      "U-statistic: 198.0\n",
      "p-value: 1.0\n",
      "No reason to reject H0, accept H0.\n",
      "-------------------------------------\n",
      "Zsumowane grafiki B:\n",
      "U-statistic: 180.5\n",
      "p-value: 0.6391392858005757\n",
      "No reason to reject H0, accept H0.\n",
      "-------------------------------------\n",
      "Zsumowane grafiki 1:\n",
      "U-statistic: 186.5\n",
      "p-value: 0.7567837669083153\n",
      "No reason to reject H0, accept H0.\n",
      "-------------------------------------\n",
      "Zsumowane grafiki 2:\n",
      "U-statistic: 187.5\n",
      "p-value: 0.7813299413851593\n",
      "No reason to reject H0, accept H0.\n",
      "-------------------------------------\n",
      "Zsumowane grafiki 3:\n",
      "U-statistic: 205.0\n",
      "p-value: 0.858226662752887\n",
      "No reason to reject H0, accept H0.\n"
     ]
    }
   ],
   "source": [
    "# Mathematics\n",
    "var = 'MAT'\n",
    "for i, df in enumerate(dfs):\n",
    "    print('-------------------------------------')\n",
    "    print(names[i+1])\n",
    "    mann_whitney_test([df['diff'][df[var] == 'VAL'], df['diff'][df[var] == 'NO_VAL']], print_flag=True, alpha=ALPHA)"
   ],
   "metadata": {
    "collapsed": false,
    "ExecuteTime": {
     "end_time": "2024-04-12T13:48:27.417496Z",
     "start_time": "2024-04-12T13:48:27.306287Z"
    }
   },
   "id": "7fb869785b335a28"
  },
  {
   "cell_type": "code",
   "execution_count": 13,
   "outputs": [
    {
     "name": "stdout",
     "output_type": "stream",
     "text": [
      "-------------------------------------\n",
      "Zsumowane wszystkie grafiki:\n",
      "U-statistic: 92.0\n",
      "p-value: 0.3769942885834122\n",
      "No reason to reject H0, accept H0.\n",
      "-------------------------------------\n",
      "Zsumowane grafiki A:\n",
      "U-statistic: 100.0\n",
      "p-value: 0.19987230251814758\n",
      "No reason to reject H0, accept H0.\n",
      "-------------------------------------\n",
      "Zsumowane grafiki B:\n",
      "U-statistic: 82.0\n",
      "p-value: 0.6639008035149362\n",
      "No reason to reject H0, accept H0.\n",
      "-------------------------------------\n",
      "Zsumowane grafiki 1:\n",
      "U-statistic: 63.5\n",
      "p-value: 0.7087609305285979\n",
      "No reason to reject H0, accept H0.\n",
      "-------------------------------------\n",
      "Zsumowane grafiki 2:\n",
      "U-statistic: 53.5\n",
      "p-value: 0.40733946149215483\n",
      "No reason to reject H0, accept H0.\n",
      "-------------------------------------\n",
      "Zsumowane grafiki 3:\n",
      "U-statistic: 118.5\n",
      "p-value: 0.03604845847024687\n",
      "\u001B[31mThere are grounds to reject H0, accept H1.\u001B[0m\n"
     ]
    }
   ],
   "source": [
    "# History\n",
    "var = 'HIST'\n",
    "for i, df in enumerate(dfs):\n",
    "    print('-------------------------------------')\n",
    "    print(names[i+1])\n",
    "    mann_whitney_test([df['diff'][df[var] == 'VAL'], df['diff'][df[var] == 'NO_VAL']], print_flag=True, alpha=ALPHA)"
   ],
   "metadata": {
    "collapsed": false,
    "ExecuteTime": {
     "end_time": "2024-04-12T13:48:27.451220Z",
     "start_time": "2024-04-12T13:48:27.317990Z"
    }
   },
   "id": "e4f05c2e9d4af8b6"
  },
  {
   "cell_type": "code",
   "execution_count": 14,
   "outputs": [
    {
     "name": "stdout",
     "output_type": "stream",
     "text": [
      "+--------+----------+----------+\n",
      "|        |   NO_VAL |      VAL |\n",
      "+========+==========+==========+\n",
      "| NO_VAL | 1        | \u001B[31m0.034076\u001B[0m |\n",
      "+--------+----------+----------+\n",
      "| VAL    | \u001B[31m0.034076\u001B[0m | 1        |\n",
      "+--------+----------+----------+\n"
     ]
    }
   ],
   "source": [
    "posthocNemenyi2_test(df_sum3, var)"
   ],
   "metadata": {
    "collapsed": false,
    "ExecuteTime": {
     "end_time": "2024-04-12T13:48:27.539685Z",
     "start_time": "2024-04-12T13:48:27.329269Z"
    }
   },
   "id": "4d88844a1f866f56"
  },
  {
   "cell_type": "code",
   "execution_count": 15,
   "outputs": [
    {
     "name": "stdout",
     "output_type": "stream",
     "text": [
      "-------------------------------------\n",
      "Zsumowane wszystkie grafiki:\n",
      "H: 3.4166517116250956\n",
      "p-value: 0.4906642580694025\n",
      "No reason to reject H0, accept H0.\n",
      "-------------------------------------\n",
      "Zsumowane grafiki A:\n",
      "H: 4.260339610538997\n",
      "p-value: 0.371917750000771\n",
      "No reason to reject H0, accept H0.\n",
      "-------------------------------------\n",
      "Zsumowane grafiki B:\n",
      "H: 2.3099202159795817\n",
      "p-value: 0.6789635084273522\n",
      "No reason to reject H0, accept H0.\n",
      "-------------------------------------\n",
      "Zsumowane grafiki 1:\n",
      "H: 7.59297049569217\n",
      "p-value: 0.10767887743137851\n",
      "No reason to reject H0, accept H0.\n",
      "-------------------------------------\n",
      "Zsumowane grafiki 2:\n",
      "H: 10.525382274492355\n",
      "p-value: 0.03244914610404347\n",
      "\u001B[31mThere are grounds to reject H0, accept H1.\u001B[0m\n",
      "-------------------------------------\n",
      "Zsumowane grafiki 3:\n",
      "H: 2.951840292159447\n",
      "p-value: 0.5659168934292141\n",
      "No reason to reject H0, accept H0.\n"
     ]
    }
   ],
   "source": [
    "# year of birth\n",
    "var = 'Rok_urodzenia'\n",
    "param = 'diff'\n",
    "for i, df in enumerate(dfs):\n",
    "    print('-------------------------------------')\n",
    "    print(names[i+1])\n",
    "    data = [df[param][df[var] == category] for category in pd.unique(df[var])]\n",
    "    kruskal_wallis_test(data, print_flag=True, alpha=ALPHA)"
   ],
   "metadata": {
    "collapsed": false,
    "ExecuteTime": {
     "end_time": "2024-04-12T13:48:27.565694Z",
     "start_time": "2024-04-12T13:48:27.345115Z"
    }
   },
   "id": "79ef12e25331a355"
  },
  {
   "cell_type": "code",
   "execution_count": 16,
   "outputs": [
    {
     "name": "stdout",
     "output_type": "stream",
     "text": [
      "+------+----------+----------+----------+----------+----------+\n",
      "|      |     2002 |     2003 |     2001 |     2000 |     2004 |\n",
      "+======+==========+==========+==========+==========+==========+\n",
      "| 2002 | 1        | 0.914119 | 0.748524 | 0.665974 | 0.066324 |\n",
      "+------+----------+----------+----------+----------+----------+\n",
      "| 2003 | 0.914119 | 1        | 0.984088 | 0.838973 | 0.189499 |\n",
      "+------+----------+----------+----------+----------+----------+\n",
      "| 2001 | 0.748524 | 0.984088 | 1        | 0.934406 | 0.461229 |\n",
      "+------+----------+----------+----------+----------+----------+\n",
      "| 2000 | 0.665974 | 0.838973 | 0.934406 | 1        | 0.999279 |\n",
      "+------+----------+----------+----------+----------+----------+\n",
      "| 2004 | 0.066324 | 0.189499 | 0.461229 | 0.999279 | 1        |\n",
      "+------+----------+----------+----------+----------+----------+\n"
     ]
    }
   ],
   "source": [
    "posthocNemenyi2_test(df_sum2, var)"
   ],
   "metadata": {
    "collapsed": false,
    "ExecuteTime": {
     "end_time": "2024-04-12T13:48:27.566963Z",
     "start_time": "2024-04-12T13:48:27.358427Z"
    }
   },
   "id": "cda85a680d318b0f"
  },
  {
   "cell_type": "code",
   "execution_count": 17,
   "outputs": [
    {
     "name": "stdout",
     "output_type": "stream",
     "text": [
      "-------------------------------------\n",
      "Zsumowane wszystkie grafiki:\n",
      "H: 2.5027362992610716\n",
      "p-value: 0.28611308345059944\n",
      "No reason to reject H0, accept H0.\n",
      "-------------------------------------\n",
      "Zsumowane grafiki A:\n",
      "H: 3.3599698500651836\n",
      "p-value: 0.18637678564220178\n",
      "No reason to reject H0, accept H0.\n",
      "-------------------------------------\n",
      "Zsumowane grafiki B:\n",
      "H: 0.8429373672267334\n",
      "p-value: 0.6560825342061488\n",
      "No reason to reject H0, accept H0.\n",
      "-------------------------------------\n",
      "Zsumowane grafiki 1:\n",
      "H: 0.5887171118824773\n",
      "p-value: 0.7450093160309443\n",
      "No reason to reject H0, accept H0.\n",
      "-------------------------------------\n",
      "Zsumowane grafiki 2:\n",
      "H: 1.047612469437648\n",
      "p-value: 0.5922619642960079\n",
      "No reason to reject H0, accept H0.\n",
      "-------------------------------------\n",
      "Zsumowane grafiki 3:\n",
      "H: 3.1191370302914057\n",
      "p-value: 0.21022676129712384\n",
      "No reason to reject H0, accept H0.\n"
     ]
    }
   ],
   "source": [
    "# field of study\n",
    "var = 'Kierunek_studiów'\n",
    "param = 'diff'\n",
    "for i, df in enumerate(dfs):\n",
    "    print('-------------------------------------')\n",
    "    print(names[i+1])\n",
    "    data = [df[param][df[var] == category] for category in pd.unique(df[var])]\n",
    "    kruskal_wallis_test(data, print_flag=True, alpha=ALPHA)"
   ],
   "metadata": {
    "collapsed": false,
    "ExecuteTime": {
     "end_time": "2024-04-12T13:48:27.634719Z",
     "start_time": "2024-04-12T13:48:27.367419Z"
    }
   },
   "id": "e71b9848e511fdeb"
  },
  {
   "cell_type": "code",
   "execution_count": 18,
   "outputs": [
    {
     "name": "stdout",
     "output_type": "stream",
     "text": [
      "-------------------------------------\n",
      "Zsumowane wszystkie grafiki:\n",
      "H: 3.1760447901049726\n",
      "p-value: 0.2043292950644148\n",
      "No reason to reject H0, accept H0.\n",
      "-------------------------------------\n",
      "Zsumowane grafiki A:\n",
      "H: 4.706034002229639\n",
      "p-value: 0.09508186694981491\n",
      "No reason to reject H0, accept H0.\n",
      "-------------------------------------\n",
      "Zsumowane grafiki B:\n",
      "H: 2.4638558442630805\n",
      "p-value: 0.2917296032113091\n",
      "No reason to reject H0, accept H0.\n",
      "-------------------------------------\n",
      "Zsumowane grafiki 1:\n",
      "H: 1.9432665163293257\n",
      "p-value: 0.37846440296929207\n",
      "No reason to reject H0, accept H0.\n",
      "-------------------------------------\n",
      "Zsumowane grafiki 2:\n",
      "H: 2.91261427660253\n",
      "p-value: 0.2330954766542771\n",
      "No reason to reject H0, accept H0.\n",
      "-------------------------------------\n",
      "Zsumowane grafiki 3:\n",
      "H: 3.0356595092024667\n",
      "p-value: 0.2191870608540109\n",
      "No reason to reject H0, accept H0.\n"
     ]
    }
   ],
   "source": [
    "# year of study\n",
    "var = 'Rok_studiów'\n",
    "param = 'diff'\n",
    "for i, df in enumerate(dfs):\n",
    "    print('-------------------------------------')\n",
    "    print(names[i+1])\n",
    "    data = [df[param][df[var] == category] for category in pd.unique(df[var])]\n",
    "    kruskal_wallis_test(data, print_flag=True, alpha=ALPHA)"
   ],
   "metadata": {
    "collapsed": false,
    "ExecuteTime": {
     "end_time": "2024-04-12T13:48:27.635201Z",
     "start_time": "2024-04-12T13:48:27.379960Z"
    }
   },
   "id": "49c6404c223f12e9"
  },
  {
   "cell_type": "code",
   "execution_count": 19,
   "outputs": [
    {
     "name": "stdout",
     "output_type": "stream",
     "text": [
      "-------------------------------------\n",
      "Zsumowane wszystkie grafiki:\n",
      "H: 2.0108374384236676\n",
      "p-value: 0.5701604033777508\n",
      "No reason to reject H0, accept H0.\n",
      "-------------------------------------\n",
      "Zsumowane grafiki A:\n",
      "H: 4.307132768361599\n",
      "p-value: 0.23015235183000057\n",
      "No reason to reject H0, accept H0.\n",
      "-------------------------------------\n",
      "Zsumowane grafiki B:\n",
      "H: 1.042499114844859\n",
      "p-value: 0.790969930838497\n",
      "No reason to reject H0, accept H0.\n",
      "-------------------------------------\n",
      "Zsumowane grafiki 1:\n",
      "H: 0.8983470000335592\n",
      "p-value: 0.82582669760532\n",
      "No reason to reject H0, accept H0.\n",
      "-------------------------------------\n",
      "Zsumowane grafiki 2:\n",
      "H: 2.6561373268133797\n",
      "p-value: 0.44773283160484845\n",
      "No reason to reject H0, accept H0.\n",
      "-------------------------------------\n",
      "Zsumowane grafiki 3:\n",
      "H: 1.6402239902863025\n",
      "p-value: 0.6503040781249882\n",
      "No reason to reject H0, accept H0.\n"
     ]
    }
   ],
   "source": [
    "# specialization\n",
    "var = 'Specjalność'\n",
    "param = 'diff'\n",
    "for i, df in enumerate(dfs):\n",
    "    print('-------------------------------------')\n",
    "    print(names[i+1])\n",
    "    data = [df[param][df[var] == category] for category in pd.unique(df[var])]\n",
    "    kruskal_wallis_test(data, print_flag=True, alpha=ALPHA)"
   ],
   "metadata": {
    "collapsed": false,
    "ExecuteTime": {
     "end_time": "2024-04-12T13:48:27.635622Z",
     "start_time": "2024-04-12T13:48:27.390929Z"
    }
   },
   "id": "350faed34ec2def1"
  },
  {
   "cell_type": "code",
   "execution_count": 20,
   "outputs": [
    {
     "name": "stdout",
     "output_type": "stream",
     "text": [
      "-------------------------------------\n",
      "Zsumowane wszystkie grafiki:\n",
      "H: 4.172812173458719\n",
      "p-value: 0.3831231689897035\n",
      "No reason to reject H0, accept H0.\n",
      "-------------------------------------\n",
      "Zsumowane grafiki A:\n",
      "H: 6.519485599146643\n",
      "p-value: 0.1635667660747716\n",
      "No reason to reject H0, accept H0.\n",
      "-------------------------------------\n",
      "Zsumowane grafiki B:\n",
      "H: 1.0571810222737408\n",
      "p-value: 0.9010050334441351\n",
      "No reason to reject H0, accept H0.\n",
      "-------------------------------------\n",
      "Zsumowane grafiki 1:\n",
      "H: 4.267387426940692\n",
      "p-value: 0.37102668025039726\n",
      "No reason to reject H0, accept H0.\n",
      "-------------------------------------\n",
      "Zsumowane grafiki 2:\n",
      "H: 1.3761805586426838\n",
      "p-value: 0.8483242028540706\n",
      "No reason to reject H0, accept H0.\n",
      "-------------------------------------\n",
      "Zsumowane grafiki 3:\n",
      "H: 6.016921999907062\n",
      "p-value: 0.19788808747849176\n",
      "No reason to reject H0, accept H0.\n"
     ]
    }
   ],
   "source": [
    "# hours of sleep\n",
    "var = 'Ilość_snu'\n",
    "param = 'diff'\n",
    "for i, df in enumerate(dfs):\n",
    "    print('-------------------------------------')\n",
    "    print(names[i+1])\n",
    "    data = [df[param][df[var] == category] for category in pd.unique(df[var])]\n",
    "    kruskal_wallis_test(data, print_flag=True, alpha=ALPHA)"
   ],
   "metadata": {
    "collapsed": false,
    "ExecuteTime": {
     "end_time": "2024-04-12T13:48:27.635778Z",
     "start_time": "2024-04-12T13:48:27.403084Z"
    }
   },
   "id": "2363520e00c30ad7"
  },
  {
   "cell_type": "code",
   "execution_count": 21,
   "outputs": [
    {
     "name": "stdout",
     "output_type": "stream",
     "text": [
      "-------------------------------------\n",
      "Zsumowane wszystkie grafiki:\n",
      "H: 5.568155272719159\n",
      "p-value: 0.13461853277974856\n",
      "No reason to reject H0, accept H0.\n",
      "-------------------------------------\n",
      "Zsumowane grafiki A:\n",
      "H: 3.7015922646262496\n",
      "p-value: 0.2955419642804597\n",
      "No reason to reject H0, accept H0.\n",
      "-------------------------------------\n",
      "Zsumowane grafiki B:\n",
      "H: 4.140798173266982\n",
      "p-value: 0.24665635348832698\n",
      "No reason to reject H0, accept H0.\n",
      "-------------------------------------\n",
      "Zsumowane grafiki 1:\n",
      "H: 1.1406757692512821\n",
      "p-value: 0.7672649594961272\n",
      "No reason to reject H0, accept H0.\n",
      "-------------------------------------\n",
      "Zsumowane grafiki 2:\n",
      "H: 5.430865525672392\n",
      "p-value: 0.14283259732888848\n",
      "No reason to reject H0, accept H0.\n",
      "-------------------------------------\n",
      "Zsumowane grafiki 3:\n",
      "H: 3.1870500270660456\n",
      "p-value: 0.363675059983752\n",
      "No reason to reject H0, accept H0.\n"
     ]
    }
   ],
   "source": [
    "# matura exam - Polish language - basic level\n",
    "var = 'JP_podst'\n",
    "param = 'diff'\n",
    "for i, df in enumerate(dfs):\n",
    "    print('-------------------------------------')\n",
    "    print(names[i+1])\n",
    "    data = [df[param][df[var] == category] for category in pd.unique(df[var])]\n",
    "    kruskal_wallis_test(data, print_flag=True, alpha=ALPHA)"
   ],
   "metadata": {
    "collapsed": false,
    "ExecuteTime": {
     "end_time": "2024-04-12T13:48:27.670402Z",
     "start_time": "2024-04-12T13:48:27.414969Z"
    }
   },
   "id": "e45b7a3570fa3b78"
  },
  {
   "cell_type": "code",
   "execution_count": 22,
   "outputs": [
    {
     "name": "stdout",
     "output_type": "stream",
     "text": [
      "-------------------------------------\n",
      "Zsumowane wszystkie grafiki:\n",
      "H: 3.930572660098535\n",
      "p-value: 0.26905927901740023\n",
      "No reason to reject H0, accept H0.\n",
      "-------------------------------------\n",
      "Zsumowane grafiki A:\n",
      "H: 3.3767926988266104\n",
      "p-value: 0.3370967437423226\n",
      "No reason to reject H0, accept H0.\n",
      "-------------------------------------\n",
      "Zsumowane grafiki B:\n",
      "H: 3.2113207319428545\n",
      "p-value: 0.36017706954147777\n",
      "No reason to reject H0, accept H0.\n",
      "-------------------------------------\n",
      "Zsumowane grafiki 1:\n",
      "H: 4.308481738605507\n",
      "p-value: 0.23002274970820727\n",
      "No reason to reject H0, accept H0.\n",
      "-------------------------------------\n",
      "Zsumowane grafiki 2:\n",
      "H: 2.5822799511002366\n",
      "p-value: 0.46060457258483767\n",
      "No reason to reject H0, accept H0.\n",
      "-------------------------------------\n",
      "Zsumowane grafiki 3:\n",
      "H: 1.306059480444788\n",
      "p-value: 0.7276946979844789\n",
      "No reason to reject H0, accept H0.\n"
     ]
    }
   ],
   "source": [
    "# matura exam - Mathematics - basic level\n",
    "var = 'MAT_podst'\n",
    "param = 'diff'\n",
    "for i, df in enumerate(dfs):\n",
    "    print('-------------------------------------')\n",
    "    print(names[i+1])\n",
    "    data = [df[param][df[var] == category] for category in pd.unique(df[var])]\n",
    "    kruskal_wallis_test(data, print_flag=True, alpha=ALPHA)"
   ],
   "metadata": {
    "collapsed": false,
    "ExecuteTime": {
     "end_time": "2024-04-12T13:48:27.745602Z",
     "start_time": "2024-04-12T13:48:27.426745Z"
    }
   },
   "id": "f76ed64cfdb3feb6"
  },
  {
   "cell_type": "code",
   "execution_count": 23,
   "outputs": [
    {
     "name": "stdout",
     "output_type": "stream",
     "text": [
      "-------------------------------------\n",
      "Zsumowane wszystkie grafiki:\n",
      "H: 4.328746225965354\n",
      "p-value: 0.22808390213431287\n",
      "No reason to reject H0, accept H0.\n",
      "-------------------------------------\n",
      "Zsumowane grafiki A:\n",
      "H: 3.111797114858893\n",
      "p-value: 0.374707384833796\n",
      "No reason to reject H0, accept H0.\n",
      "-------------------------------------\n",
      "Zsumowane grafiki B:\n",
      "H: 3.671954547153586\n",
      "p-value: 0.29913537529937223\n",
      "No reason to reject H0, accept H0.\n",
      "-------------------------------------\n",
      "Zsumowane grafiki 1:\n",
      "H: 2.807647942773506\n",
      "p-value: 0.42224247647945623\n",
      "No reason to reject H0, accept H0.\n",
      "-------------------------------------\n",
      "Zsumowane grafiki 2:\n",
      "H: 1.086377159081951\n",
      "p-value: 0.7803636678451314\n",
      "No reason to reject H0, accept H0.\n",
      "-------------------------------------\n",
      "Zsumowane grafiki 3:\n",
      "H: 5.91081288343558\n",
      "p-value: 0.11603092159336194\n",
      "No reason to reject H0, accept H0.\n"
     ]
    }
   ],
   "source": [
    "# matura exam - Polish language - extended level\n",
    "var = 'JP_roz'\n",
    "param = 'diff'\n",
    "for i, df in enumerate(dfs):\n",
    "    print('-------------------------------------')\n",
    "    print(names[i+1])\n",
    "    data = [df[param][df[var] == category] for category in pd.unique(df[var])]\n",
    "    kruskal_wallis_test(data, print_flag=True, alpha=ALPHA)"
   ],
   "metadata": {
    "collapsed": false,
    "ExecuteTime": {
     "end_time": "2024-04-12T13:48:27.779864Z",
     "start_time": "2024-04-12T13:48:27.439318Z"
    }
   },
   "id": "5130fb16be4359b9"
  },
  {
   "cell_type": "code",
   "execution_count": 24,
   "outputs": [
    {
     "name": "stdout",
     "output_type": "stream",
     "text": [
      "-------------------------------------\n",
      "Zsumowane wszystkie grafiki:\n",
      "H: 5.061371100164221\n",
      "p-value: 0.28105820631988676\n",
      "No reason to reject H0, accept H0.\n",
      "-------------------------------------\n",
      "Zsumowane grafiki A:\n",
      "H: 5.290286831812276\n",
      "p-value: 0.2587875807612174\n",
      "No reason to reject H0, accept H0.\n",
      "-------------------------------------\n",
      "Zsumowane grafiki B:\n",
      "H: 3.8392847946440107\n",
      "p-value: 0.42819299796579535\n",
      "No reason to reject H0, accept H0.\n",
      "-------------------------------------\n",
      "Zsumowane grafiki 1:\n",
      "H: 4.792477445752438\n",
      "p-value: 0.3092608567590565\n",
      "No reason to reject H0, accept H0.\n",
      "-------------------------------------\n",
      "Zsumowane grafiki 2:\n",
      "H: 3.100738386308093\n",
      "p-value: 0.5411108824414991\n",
      "No reason to reject H0, accept H0.\n",
      "-------------------------------------\n",
      "Zsumowane grafiki 3:\n",
      "H: 1.7398757029652356\n",
      "p-value: 0.783462049367232\n",
      "No reason to reject H0, accept H0.\n"
     ]
    }
   ],
   "source": [
    "# matura exam - Mathematics - extended level\n",
    "var = 'MAT_roz'\n",
    "param = 'diff'\n",
    "for i, df in enumerate(dfs):\n",
    "    print('-------------------------------------')\n",
    "    print(names[i+1])\n",
    "    data = [df[param][df[var] == category] for category in pd.unique(df[var])]\n",
    "    kruskal_wallis_test(data, print_flag=True, alpha=ALPHA)"
   ],
   "metadata": {
    "collapsed": false,
    "ExecuteTime": {
     "end_time": "2024-04-12T13:48:27.807324Z",
     "start_time": "2024-04-12T13:48:27.452083Z"
    }
   },
   "id": "6b94aae9a6c9ec6"
  },
  {
   "cell_type": "code",
   "execution_count": 25,
   "outputs": [
    {
     "name": "stdout",
     "output_type": "stream",
     "text": [
      "-------------------------------------\n",
      "Zsumowane wszystkie grafiki:\n",
      "H: 2.360426929392467\n",
      "p-value: 0.3072131524389508\n",
      "No reason to reject H0, accept H0.\n",
      "-------------------------------------\n",
      "Zsumowane grafiki A:\n",
      "H: 2.548457192524996\n",
      "p-value: 0.27964660547566594\n",
      "No reason to reject H0, accept H0.\n",
      "-------------------------------------\n",
      "Zsumowane grafiki B:\n",
      "H: 1.9063988670014085\n",
      "p-value: 0.38550564857167036\n",
      "No reason to reject H0, accept H0.\n",
      "-------------------------------------\n",
      "Zsumowane grafiki 1:\n",
      "H: 0.9359132374149152\n",
      "p-value: 0.6262806919341646\n",
      "No reason to reject H0, accept H0.\n",
      "-------------------------------------\n",
      "Zsumowane grafiki 2:\n",
      "H: 3.052033414832965\n",
      "p-value: 0.21739991236141346\n",
      "No reason to reject H0, accept H0.\n",
      "-------------------------------------\n",
      "Zsumowane grafiki 3:\n",
      "H: 4.896029045245403\n",
      "p-value: 0.08646509066565125\n",
      "No reason to reject H0, accept H0.\n"
     ]
    }
   ],
   "source": [
    "# matura exam - History - extended level\n",
    "var = 'HIST_roz'\n",
    "param = 'diff'\n",
    "for i, df in enumerate(dfs):\n",
    "    print('-------------------------------------')\n",
    "    print(names[i+1])\n",
    "    data = [df[param][df[var] == category] for category in pd.unique(df[var])]\n",
    "    kruskal_wallis_test(data, print_flag=True, alpha=ALPHA)"
   ],
   "metadata": {
    "collapsed": false,
    "ExecuteTime": {
     "end_time": "2024-04-12T13:48:27.807748Z",
     "start_time": "2024-04-12T13:48:27.466279Z"
    }
   },
   "id": "9acee7ad33f5ecb8"
  },
  {
   "cell_type": "code",
   "execution_count": 26,
   "outputs": [
    {
     "name": "stdout",
     "output_type": "stream",
     "text": [
      "-------------------------------------\n",
      "Zsumowane wszystkie grafiki:\n",
      "H: 5.857132594417089\n",
      "p-value: 0.11877173846793515\n",
      "No reason to reject H0, accept H0.\n",
      "-------------------------------------\n",
      "Zsumowane grafiki A:\n",
      "H: 7.094611038678855\n",
      "p-value: 0.06894256035247275\n",
      "No reason to reject H0, accept H0.\n",
      "-------------------------------------\n",
      "Zsumowane grafiki B:\n",
      "H: 3.896171301660884\n",
      "p-value: 0.27289622392344237\n",
      "No reason to reject H0, accept H0.\n",
      "-------------------------------------\n",
      "Zsumowane grafiki 1:\n",
      "H: 0.12284099674683249\n",
      "p-value: 0.9889621286520118\n",
      "No reason to reject H0, accept H0.\n",
      "-------------------------------------\n",
      "Zsumowane grafiki 2:\n",
      "H: 13.768515077424624\n",
      "p-value: 0.003237790960749848\n",
      "\u001B[31mThere are grounds to reject H0, accept H1.\u001B[0m\n",
      "-------------------------------------\n",
      "Zsumowane grafiki 3:\n",
      "H: 11.339442740286295\n",
      "p-value: 0.010025099161899045\n",
      "\u001B[31mThere are grounds to reject H0, accept H1.\u001B[0m\n"
     ]
    }
   ],
   "source": [
    "# well-being\n",
    "var = 'Samopocz'\n",
    "param = 'diff'\n",
    "for i, df in enumerate(dfs):\n",
    "    print('-------------------------------------')\n",
    "    print(names[i+1])\n",
    "    data = [df[param][df[var] == category] for category in pd.unique(df[var])]\n",
    "    kruskal_wallis_test(data, print_flag=True, alpha=ALPHA)"
   ],
   "metadata": {
    "collapsed": false,
    "ExecuteTime": {
     "end_time": "2024-04-12T13:48:27.823149Z",
     "start_time": "2024-04-12T13:48:27.476597Z"
    }
   },
   "id": "694411e275774707"
  },
  {
   "cell_type": "code",
   "execution_count": 27,
   "outputs": [
    {
     "name": "stdout",
     "output_type": "stream",
     "text": [
      "+----+----------+----------+----------+----------+\n",
      "|    |        4 |        3 |        5 |        2 |\n",
      "+====+==========+==========+==========+==========+\n",
      "|  4 | 1        | \u001B[31m0.013977\u001B[0m | 0.866504 | 0.125671 |\n",
      "+----+----------+----------+----------+----------+\n",
      "|  3 | \u001B[31m0.013977\u001B[0m | 1        | 0.174463 | 0.963799 |\n",
      "+----+----------+----------+----------+----------+\n",
      "|  5 | 0.866504 | 0.174463 | 1        | 0.504105 |\n",
      "+----+----------+----------+----------+----------+\n",
      "|  2 | 0.125671 | 0.963799 | 0.504105 | 1        |\n",
      "+----+----------+----------+----------+----------+\n",
      "-----------------------\n",
      "+----+----------+----------+----------+----------+\n",
      "|    |        4 |        3 |        5 |        2 |\n",
      "+====+==========+==========+==========+==========+\n",
      "|  4 | 1        | 0.907294 | \u001B[31m0.011354\u001B[0m | 0.650858 |\n",
      "+----+----------+----------+----------+----------+\n",
      "|  3 | 0.907294 | 1        | 0.317472 | 0.971625 |\n",
      "+----+----------+----------+----------+----------+\n",
      "|  5 | \u001B[31m0.011354\u001B[0m | 0.317472 | 1        | 0.669576 |\n",
      "+----+----------+----------+----------+----------+\n",
      "|  2 | 0.650858 | 0.971625 | 0.669576 | 1        |\n",
      "+----+----------+----------+----------+----------+\n"
     ]
    }
   ],
   "source": [
    "posthocNemenyi2_test(df_sum2, var)\n",
    "print('-----------------------')\n",
    "posthocNemenyi2_test(df_sum3, var)"
   ],
   "metadata": {
    "collapsed": false,
    "ExecuteTime": {
     "end_time": "2024-04-12T13:48:27.823312Z",
     "start_time": "2024-04-12T13:48:27.490985Z"
    }
   },
   "id": "6d106a523d313bb3"
  },
  {
   "cell_type": "code",
   "execution_count": 28,
   "outputs": [
    {
     "name": "stdout",
     "output_type": "stream",
     "text": [
      "-------------------------------------\n",
      "Zsumowane wszystkie grafiki:\n",
      "H: 4.573050082101809\n",
      "p-value: 0.333973292094693\n",
      "No reason to reject H0, accept H0.\n",
      "-------------------------------------\n",
      "Zsumowane grafiki A:\n",
      "H: 4.0041720990873735\n",
      "p-value: 0.4054415119607423\n",
      "No reason to reject H0, accept H0.\n",
      "-------------------------------------\n",
      "Zsumowane grafiki B:\n",
      "H: 3.1660615424230887\n",
      "p-value: 0.5304299662800964\n",
      "No reason to reject H0, accept H0.\n",
      "-------------------------------------\n",
      "Zsumowane grafiki 1:\n",
      "H: 0.6871029949357902\n",
      "p-value: 0.9529098095149333\n",
      "No reason to reject H0, accept H0.\n",
      "-------------------------------------\n",
      "Zsumowane grafiki 2:\n",
      "H: 8.499160554197232\n",
      "p-value: 0.07491267696507058\n",
      "No reason to reject H0, accept H0.\n",
      "-------------------------------------\n",
      "Zsumowane grafiki 3:\n",
      "H: 2.187353016359918\n",
      "p-value: 0.7013453269492258\n",
      "No reason to reject H0, accept H0.\n"
     ]
    }
   ],
   "source": [
    "# stress\n",
    "var = 'Stres'\n",
    "param = 'diff'\n",
    "for i, df in enumerate(dfs):\n",
    "    print('-------------------------------------')\n",
    "    print(names[i+1])\n",
    "    data = [df[param][df[var] == category] for category in pd.unique(df[var])]\n",
    "    kruskal_wallis_test(data, print_flag=True, alpha=ALPHA)"
   ],
   "metadata": {
    "collapsed": false,
    "ExecuteTime": {
     "end_time": "2024-04-12T13:48:27.823463Z",
     "start_time": "2024-04-12T13:48:27.504317Z"
    }
   },
   "id": "d1a1b8a3bd45d1dc"
  },
  {
   "cell_type": "code",
   "execution_count": 29,
   "outputs": [
    {
     "name": "stdout",
     "output_type": "stream",
     "text": [
      "-------------------------------------\n",
      "Zsumowane wszystkie grafiki:\n",
      "H: 12.216923234811162\n",
      "p-value: 0.015809001818138834\n",
      "\u001B[31mThere are grounds to reject H0, accept H1.\u001B[0m\n",
      "-------------------------------------\n",
      "Zsumowane grafiki A:\n",
      "H: 13.559343763581056\n",
      "p-value: 0.008842746866751508\n",
      "\u001B[31mThere are grounds to reject H0, accept H1.\u001B[0m\n",
      "-------------------------------------\n",
      "Zsumowane grafiki B:\n",
      "H: 6.9963499420625865\n",
      "p-value: 0.13608124001885877\n",
      "No reason to reject H0, accept H0.\n",
      "-------------------------------------\n",
      "Zsumowane grafiki 1:\n",
      "H: 5.456418318408968\n",
      "p-value: 0.24358698824116382\n",
      "No reason to reject H0, accept H0.\n",
      "-------------------------------------\n",
      "Zsumowane grafiki 2:\n",
      "H: 3.1813977180114055\n",
      "p-value: 0.5279407645298922\n",
      "No reason to reject H0, accept H0.\n",
      "-------------------------------------\n",
      "Zsumowane grafiki 3:\n",
      "H: 6.800190918967282\n",
      "p-value: 0.1468315564869646\n",
      "No reason to reject H0, accept H0.\n"
     ]
    }
   ],
   "source": [
    "# tiredness\n",
    "var = 'Zmęcz'\n",
    "param = 'diff'\n",
    "for i, df in enumerate(dfs):\n",
    "    print('-------------------------------------')\n",
    "    print(names[i+1])\n",
    "    data = [df[param][df[var] == category] for category in pd.unique(df[var])]\n",
    "    kruskal_wallis_test(data, print_flag=True, alpha=ALPHA)"
   ],
   "metadata": {
    "collapsed": false,
    "ExecuteTime": {
     "end_time": "2024-04-12T13:48:27.823626Z",
     "start_time": "2024-04-12T13:48:27.518378Z"
    }
   },
   "id": "2646272df091ce52"
  },
  {
   "cell_type": "code",
   "execution_count": 30,
   "outputs": [
    {
     "name": "stdout",
     "output_type": "stream",
     "text": [
      "+----+----------+----------+----------+----------+----------+\n",
      "|    |        3 |        2 |        4 |        1 |        5 |\n",
      "+====+==========+==========+==========+==========+==========+\n",
      "|  3 | 1        | 0.997688 | 0.286521 | 0.81744  | 0.986519 |\n",
      "+----+----------+----------+----------+----------+----------+\n",
      "|  2 | 0.997688 | 1        | 0.122895 | 0.919459 | 0.948749 |\n",
      "+----+----------+----------+----------+----------+----------+\n",
      "|  4 | 0.286521 | 0.122895 | 1        | \u001B[31m0.039471\u001B[0m | 0.921473 |\n",
      "+----+----------+----------+----------+----------+----------+\n",
      "|  1 | 0.81744  | 0.919459 | \u001B[31m0.039471\u001B[0m | 1        | 0.712216 |\n",
      "+----+----------+----------+----------+----------+----------+\n",
      "|  5 | 0.986519 | 0.948749 | 0.921473 | 0.712216 | 1        |\n",
      "+----+----------+----------+----------+----------+----------+\n",
      "+----+----------+----------+----------+----------+----------+\n",
      "|    |        3 |        2 |        4 |        1 |        5 |\n",
      "+====+==========+==========+==========+==========+==========+\n",
      "|  3 | 1        | 0.977702 | 0.365277 | 0.64931  | 0.986399 |\n",
      "+----+----------+----------+----------+----------+----------+\n",
      "|  2 | 0.977702 | 1        | 0.093503 | 0.895002 | 0.893713 |\n",
      "+----+----------+----------+----------+----------+----------+\n",
      "|  4 | 0.365277 | 0.093503 | 1        | \u001B[31m0.024062\u001B[0m | 0.949036 |\n",
      "+----+----------+----------+----------+----------+----------+\n",
      "|  1 | 0.64931  | 0.895002 | \u001B[31m0.024062\u001B[0m | 1        | 0.576965 |\n",
      "+----+----------+----------+----------+----------+----------+\n",
      "|  5 | 0.986399 | 0.893713 | 0.949036 | 0.576965 | 1        |\n",
      "+----+----------+----------+----------+----------+----------+\n"
     ]
    }
   ],
   "source": [
    "posthocNemenyi2_test(df_all, var)\n",
    "posthocNemenyi2_test(df_sumA, var)"
   ],
   "metadata": {
    "collapsed": false,
    "ExecuteTime": {
     "end_time": "2024-04-12T13:48:27.827059Z",
     "start_time": "2024-04-12T13:48:27.530378Z"
    }
   },
   "id": "54bbd44cba89ff01"
  },
  {
   "cell_type": "code",
   "execution_count": 31,
   "outputs": [
    {
     "name": "stdout",
     "output_type": "stream",
     "text": [
      "-------------------------------------\n",
      "Zsumowane wszystkie grafiki:\n",
      "H: 0.46507389162562046\n",
      "p-value: 0.7925204684930018\n",
      "No reason to reject H0, accept H0.\n",
      "-------------------------------------\n",
      "Zsumowane grafiki A:\n",
      "H: 0.4934159061277776\n",
      "p-value: 0.7813688565931339\n",
      "No reason to reject H0, accept H0.\n",
      "-------------------------------------\n",
      "Zsumowane grafiki B:\n",
      "H: 0.46742757821554387\n",
      "p-value: 0.7915883446829433\n",
      "No reason to reject H0, accept H0.\n",
      "-------------------------------------\n",
      "Zsumowane grafiki 1:\n",
      "H: 4.070808934500467\n",
      "p-value: 0.130627637216422\n",
      "No reason to reject H0, accept H0.\n",
      "-------------------------------------\n",
      "Zsumowane grafiki 2:\n",
      "H: 0.309978484107582\n",
      "p-value: 0.8564243908015836\n",
      "No reason to reject H0, accept H0.\n",
      "-------------------------------------\n",
      "Zsumowane grafiki 3:\n",
      "H: 1.0687615030674826\n",
      "p-value: 0.5860320772705431\n",
      "No reason to reject H0, accept H0.\n"
     ]
    }
   ],
   "source": [
    "# reading maps skills\n",
    "var = 'Czyt_map'\n",
    "param = 'diff'\n",
    "for i, df in enumerate(dfs):\n",
    "    print('-------------------------------------')\n",
    "    print(names[i+1])\n",
    "    data = [df[param][df[var] == category] for category in pd.unique(df[var])]\n",
    "    kruskal_wallis_test(data, print_flag=True, alpha=ALPHA)"
   ],
   "metadata": {
    "collapsed": false,
    "ExecuteTime": {
     "end_time": "2024-04-12T13:48:27.827329Z",
     "start_time": "2024-04-12T13:48:27.543648Z"
    }
   },
   "id": "3545c6bda6a5814c"
  },
  {
   "cell_type": "code",
   "execution_count": 32,
   "outputs": [
    {
     "name": "stdout",
     "output_type": "stream",
     "text": [
      "-------------------------------------\n",
      "Zsumowane wszystkie grafiki:\n",
      "H: 7.0765745953553845\n",
      "p-value: 0.13189651989755047\n",
      "No reason to reject H0, accept H0.\n",
      "-------------------------------------\n",
      "Zsumowane grafiki A:\n",
      "H: 4.314195691314323\n",
      "p-value: 0.365150879133989\n",
      "No reason to reject H0, accept H0.\n",
      "-------------------------------------\n",
      "Zsumowane grafiki B:\n",
      "H: 6.945082445879101\n",
      "p-value: 0.13881898376755455\n",
      "No reason to reject H0, accept H0.\n",
      "-------------------------------------\n",
      "Zsumowane grafiki 1:\n",
      "H: 4.013376836799728\n",
      "p-value: 0.4041985188094168\n",
      "No reason to reject H0, accept H0.\n",
      "-------------------------------------\n",
      "Zsumowane grafiki 2:\n",
      "H: 4.473394749097701\n",
      "p-value: 0.3457138416204418\n",
      "No reason to reject H0, accept H0.\n",
      "-------------------------------------\n",
      "Zsumowane grafiki 3:\n",
      "H: 7.007946017747593\n",
      "p-value: 0.1354689100986426\n",
      "No reason to reject H0, accept H0.\n"
     ]
    }
   ],
   "source": [
    "# divisibility of attention\n",
    "var = 'Podziel_uwg'\n",
    "param = 'diff'\n",
    "for i, df in enumerate(dfs):\n",
    "    print('-------------------------------------')\n",
    "    print(names[i+1])\n",
    "    data = [df[param][df[var] == category] for category in pd.unique(df[var])]\n",
    "    kruskal_wallis_test(data, print_flag=True, alpha=ALPHA)"
   ],
   "metadata": {
    "collapsed": false,
    "ExecuteTime": {
     "end_time": "2024-04-12T13:48:27.827458Z",
     "start_time": "2024-04-12T13:48:27.555265Z"
    }
   },
   "id": "bd0caecb7e4d85d4"
  },
  {
   "cell_type": "code",
   "execution_count": 33,
   "outputs": [
    {
     "name": "stdout",
     "output_type": "stream",
     "text": [
      "-------------------------------------\n",
      "Zsumowane wszystkie grafiki:\n",
      "H: 2.838675843213051\n",
      "p-value: 0.41717269483928365\n",
      "No reason to reject H0, accept H0.\n",
      "-------------------------------------\n",
      "Zsumowane grafiki A:\n",
      "H: 1.8118770910920852\n",
      "p-value: 0.6123537646450705\n",
      "No reason to reject H0, accept H0.\n",
      "-------------------------------------\n",
      "Zsumowane grafiki B:\n",
      "H: 5.082227409177463\n",
      "p-value: 0.16587412380439587\n",
      "No reason to reject H0, accept H0.\n",
      "-------------------------------------\n",
      "Zsumowane grafiki 1:\n",
      "H: 2.7703697498922084\n",
      "p-value: 0.42840083909083393\n",
      "No reason to reject H0, accept H0.\n",
      "-------------------------------------\n",
      "Zsumowane grafiki 2:\n",
      "H: 0.10231575827766066\n",
      "p-value: 0.9915580830634744\n",
      "No reason to reject H0, accept H0.\n",
      "-------------------------------------\n",
      "Zsumowane grafiki 3:\n",
      "H: 4.17039369722411\n",
      "p-value: 0.24364280357259796\n",
      "No reason to reject H0, accept H0.\n"
     ]
    }
   ],
   "source": [
    "# analytical thinking\n",
    "var = 'Analit_myśl'\n",
    "param = 'diff'\n",
    "for i, df in enumerate(dfs):\n",
    "    print('-------------------------------------')\n",
    "    print(names[i+1])\n",
    "    data = [df[param][df[var] == category] for category in pd.unique(df[var])]\n",
    "    kruskal_wallis_test(data, print_flag=True, alpha=ALPHA)"
   ],
   "metadata": {
    "collapsed": false,
    "ExecuteTime": {
     "end_time": "2024-04-12T13:48:27.855565Z",
     "start_time": "2024-04-12T13:48:27.568003Z"
    }
   },
   "id": "31b4727d91968ad3"
  },
  {
   "cell_type": "code",
   "execution_count": 34,
   "outputs": [
    {
     "name": "stdout",
     "output_type": "stream",
     "text": [
      "-------------------------------------\n",
      "Zsumowane wszystkie grafiki:\n",
      "H: 4.735775285819684\n",
      "p-value: 0.19219939593349217\n",
      "No reason to reject H0, accept H0.\n",
      "-------------------------------------\n",
      "Zsumowane grafiki A:\n",
      "H: 5.931322727621361\n",
      "p-value: 0.11499975196608873\n",
      "No reason to reject H0, accept H0.\n",
      "-------------------------------------\n",
      "Zsumowane grafiki B:\n",
      "H: 3.244465639542453\n",
      "p-value: 0.35544708446883766\n",
      "No reason to reject H0, accept H0.\n",
      "-------------------------------------\n",
      "Zsumowane grafiki 1:\n",
      "H: 2.8481624607969582\n",
      "p-value: 0.4156327635309951\n",
      "No reason to reject H0, accept H0.\n",
      "-------------------------------------\n",
      "Zsumowane grafiki 2:\n",
      "H: 1.5490686492423287\n",
      "p-value: 0.6709924815985111\n",
      "No reason to reject H0, accept H0.\n",
      "-------------------------------------\n",
      "Zsumowane grafiki 3:\n",
      "H: 10.451229319852947\n",
      "p-value: 0.015095412780192365\n",
      "\u001B[31mThere are grounds to reject H0, accept H1.\u001B[0m\n"
     ]
    }
   ],
   "source": [
    "# perceptiveness\n",
    "var = 'Spostrzeg'\n",
    "param = 'diff'\n",
    "for i, df in enumerate(dfs):\n",
    "    print('-------------------------------------')\n",
    "    print(names[i+1])\n",
    "    data = [df[param][df[var] == category] for category in pd.unique(df[var])]\n",
    "    kruskal_wallis_test(data, print_flag=True, alpha=ALPHA)"
   ],
   "metadata": {
    "collapsed": false,
    "ExecuteTime": {
     "end_time": "2024-04-12T13:48:27.855742Z",
     "start_time": "2024-04-12T13:48:27.580081Z"
    }
   },
   "id": "25ab038c1f9b0d1a"
  },
  {
   "cell_type": "code",
   "execution_count": 35,
   "outputs": [
    {
     "name": "stdout",
     "output_type": "stream",
     "text": [
      "+----+----------+----------+----------+----------+\n",
      "|    |        4 |        5 |        3 |        2 |\n",
      "+====+==========+==========+==========+==========+\n",
      "|  4 | 1        | 0.141555 | 0.999961 | 0.502265 |\n",
      "+----+----------+----------+----------+----------+\n",
      "|  5 | 0.141555 | 1        | 0.184509 | \u001B[31m0.027199\u001B[0m |\n",
      "+----+----------+----------+----------+----------+\n",
      "|  3 | 0.999961 | 0.184509 | 1        | 0.565824 |\n",
      "+----+----------+----------+----------+----------+\n",
      "|  2 | 0.502265 | \u001B[31m0.027199\u001B[0m | 0.565824 | 1        |\n",
      "+----+----------+----------+----------+----------+\n"
     ]
    }
   ],
   "source": [
    "posthocNemenyi2_test(df_sum3, var)"
   ],
   "metadata": {
    "collapsed": false,
    "ExecuteTime": {
     "end_time": "2024-04-12T13:48:27.855842Z",
     "start_time": "2024-04-12T13:48:27.591291Z"
    }
   },
   "id": "b4a56f1c0a12a12"
  },
  {
   "cell_type": "code",
   "execution_count": 36,
   "outputs": [
    {
     "name": "stdout",
     "output_type": "stream",
     "text": [
      "-------------------------------------\n",
      "Zsumowane wszystkie grafiki:\n",
      "H: 2.910394114542352\n",
      "p-value: 0.5729309752769332\n",
      "No reason to reject H0, accept H0.\n",
      "-------------------------------------\n",
      "Zsumowane grafiki A:\n",
      "H: 1.3710626362670004\n",
      "p-value: 0.8492085493255179\n",
      "No reason to reject H0, accept H0.\n",
      "-------------------------------------\n",
      "Zsumowane grafiki B:\n",
      "H: 5.052637045548233\n",
      "p-value: 0.28193912294368495\n",
      "No reason to reject H0, accept H0.\n",
      "-------------------------------------\n",
      "Zsumowane grafiki 1:\n",
      "H: 5.955244058082035\n",
      "p-value: 0.20251569921610246\n",
      "No reason to reject H0, accept H0.\n",
      "-------------------------------------\n",
      "Zsumowane grafiki 2:\n",
      "H: 3.8357632368350885\n",
      "p-value: 0.42868892545586057\n",
      "No reason to reject H0, accept H0.\n",
      "-------------------------------------\n",
      "Zsumowane grafiki 3:\n",
      "H: 1.707288820436153\n",
      "p-value: 0.78939317825957\n",
      "No reason to reject H0, accept H0.\n"
     ]
    }
   ],
   "source": [
    "# reading with understanding\n",
    "var = 'Czyt_ze_zroz'\n",
    "param = 'diff'\n",
    "for i, df in enumerate(dfs):\n",
    "    print('-------------------------------------')\n",
    "    print(names[i+1])\n",
    "    data = [df[param][df[var] == category] for category in pd.unique(df[var])]\n",
    "    kruskal_wallis_test(data, print_flag=True, alpha=ALPHA)"
   ],
   "metadata": {
    "collapsed": false,
    "ExecuteTime": {
     "end_time": "2024-04-12T13:48:27.855984Z",
     "start_time": "2024-04-12T13:48:27.599465Z"
    }
   },
   "id": "9959c3197b3dc070"
  },
  {
   "cell_type": "code",
   "execution_count": 37,
   "outputs": [
    {
     "name": "stdout",
     "output_type": "stream",
     "text": [
      "-------------------------------------\n",
      "Zsumowane wszystkie grafiki:\n",
      "H: 4.684517945109088\n",
      "p-value: 0.19641048387003973\n",
      "No reason to reject H0, accept H0.\n",
      "-------------------------------------\n",
      "Zsumowane grafiki A:\n",
      "H: 8.748407524678726\n",
      "p-value: 0.032829895839042555\n",
      "\u001B[31mThere are grounds to reject H0, accept H1.\u001B[0m\n",
      "-------------------------------------\n",
      "Zsumowane grafiki B:\n",
      "H: 0.6903253692361342\n",
      "p-value: 0.8754771266264871\n",
      "No reason to reject H0, accept H0.\n",
      "-------------------------------------\n",
      "Zsumowane grafiki 1:\n",
      "H: 4.1435767706821265\n",
      "p-value: 0.2463719820310401\n",
      "No reason to reject H0, accept H0.\n",
      "-------------------------------------\n",
      "Zsumowane grafiki 2:\n",
      "H: 0.622368378158121\n",
      "p-value: 0.8912930912867831\n",
      "No reason to reject H0, accept H0.\n",
      "-------------------------------------\n",
      "Zsumowane grafiki 3:\n",
      "H: 5.343033112401401\n",
      "p-value: 0.14833428439008087\n",
      "No reason to reject H0, accept H0.\n"
     ]
    }
   ],
   "source": [
    "# type of learning: visual\n",
    "var = 'Wzrokowiec'\n",
    "param = 'diff'\n",
    "for i, df in enumerate(dfs):\n",
    "    print('-------------------------------------')\n",
    "    print(names[i+1])\n",
    "    data = [df[param][df[var] == category] for category in pd.unique(df[var])]\n",
    "    kruskal_wallis_test(data, print_flag=True, alpha=ALPHA)"
   ],
   "metadata": {
    "collapsed": false,
    "ExecuteTime": {
     "end_time": "2024-04-12T13:48:27.857916Z",
     "start_time": "2024-04-12T13:48:27.619127Z"
    }
   },
   "id": "aeff81dbf1e2ac90"
  },
  {
   "cell_type": "code",
   "execution_count": 38,
   "outputs": [
    {
     "name": "stdout",
     "output_type": "stream",
     "text": [
      "+----+----------+----------+----------+----------+\n",
      "|    |        4 |        3 |        5 |        2 |\n",
      "+====+==========+==========+==========+==========+\n",
      "|  4 | 1        | 0.524298 | 0.339003 | 0.481383 |\n",
      "+----+----------+----------+----------+----------+\n",
      "|  3 | 0.524298 | 1        | 0.999562 | 0.146025 |\n",
      "+----+----------+----------+----------+----------+\n",
      "|  5 | 0.339003 | 0.999562 | 1        | 0.107862 |\n",
      "+----+----------+----------+----------+----------+\n",
      "|  2 | 0.481383 | 0.146025 | 0.107862 | 1        |\n",
      "+----+----------+----------+----------+----------+\n"
     ]
    }
   ],
   "source": [
    "posthocNemenyi2_test(df_sumA, var)"
   ],
   "metadata": {
    "collapsed": false,
    "ExecuteTime": {
     "end_time": "2024-04-12T13:48:27.905148Z",
     "start_time": "2024-04-12T13:48:27.632106Z"
    }
   },
   "id": "29efec955a425513"
  },
  {
   "cell_type": "code",
   "execution_count": 39,
   "outputs": [
    {
     "name": "stdout",
     "output_type": "stream",
     "text": [
      "-------------------------------------\n",
      "Zsumowane wszystkie grafiki:\n",
      "H: 4.314140570021123\n",
      "p-value: 0.3651577553065407\n",
      "No reason to reject H0, accept H0.\n",
      "-------------------------------------\n",
      "Zsumowane grafiki A:\n",
      "H: 2.2611985472155256\n",
      "p-value: 0.6878420923355089\n",
      "No reason to reject H0, accept H0.\n",
      "-------------------------------------\n",
      "Zsumowane grafiki B:\n",
      "H: 6.886481094465612\n",
      "p-value: 0.14201017286940953\n",
      "No reason to reject H0, accept H0.\n",
      "-------------------------------------\n",
      "Zsumowane grafiki 1:\n",
      "H: 3.3811949319420016\n",
      "p-value: 0.4961712296765247\n",
      "No reason to reject H0, accept H0.\n",
      "-------------------------------------\n",
      "Zsumowane grafiki 2:\n",
      "H: 5.422673244848071\n",
      "p-value: 0.24661064179628575\n",
      "No reason to reject H0, accept H0.\n",
      "-------------------------------------\n",
      "Zsumowane grafiki 3:\n",
      "H: 1.260205035330874\n",
      "p-value: 0.868090236562957\n",
      "No reason to reject H0, accept H0.\n"
     ]
    }
   ],
   "source": [
    "# type of learning: auditory\n",
    "var = 'Słuchowiec'\n",
    "param = 'diff'\n",
    "for i, df in enumerate(dfs):\n",
    "    print('-------------------------------------')\n",
    "    print(names[i+1])\n",
    "    data = [df[param][df[var] == category] for category in pd.unique(df[var])]\n",
    "    kruskal_wallis_test(data, print_flag=True, alpha=ALPHA)"
   ],
   "metadata": {
    "collapsed": false,
    "ExecuteTime": {
     "end_time": "2024-04-12T13:48:27.905462Z",
     "start_time": "2024-04-12T13:48:27.639711Z"
    }
   },
   "id": "ef47390fb154b0a8"
  },
  {
   "cell_type": "code",
   "execution_count": 40,
   "outputs": [
    {
     "name": "stdout",
     "output_type": "stream",
     "text": [
      "-------------------------------------\n",
      "Zsumowane wszystkie grafiki:\n",
      "H: 4.962024292475618\n",
      "p-value: 0.2912162827694289\n",
      "No reason to reject H0, accept H0.\n",
      "-------------------------------------\n",
      "Zsumowane grafiki A:\n",
      "H: 9.128198737121961\n",
      "p-value: 0.057973791835403965\n",
      "No reason to reject H0, accept H0.\n",
      "-------------------------------------\n",
      "Zsumowane grafiki B:\n",
      "H: 2.9011367853437333\n",
      "p-value: 0.5745038972373079\n",
      "No reason to reject H0, accept H0.\n",
      "-------------------------------------\n",
      "Zsumowane grafiki 1:\n",
      "H: 0.4117657909325229\n",
      "p-value: 0.9815023180959477\n",
      "No reason to reject H0, accept H0.\n",
      "-------------------------------------\n",
      "Zsumowane grafiki 2:\n",
      "H: 3.017879668248743\n",
      "p-value: 0.5548377518135508\n",
      "No reason to reject H0, accept H0.\n",
      "-------------------------------------\n",
      "Zsumowane grafiki 3:\n",
      "H: 7.188967111000838\n",
      "p-value: 0.12623283269593288\n",
      "No reason to reject H0, accept H0.\n"
     ]
    }
   ],
   "source": [
    "# type of learning: kinesthetic\n",
    "var = 'Kinestetyk'\n",
    "param = 'diff'\n",
    "for i, df in enumerate(dfs):\n",
    "    print('-------------------------------------')\n",
    "    print(names[i+1])\n",
    "    data = [df[param][df[var] == category] for category in pd.unique(df[var])]\n",
    "    kruskal_wallis_test(data, print_flag=True, alpha=ALPHA)"
   ],
   "metadata": {
    "collapsed": false,
    "ExecuteTime": {
     "end_time": "2024-04-12T13:48:27.905668Z",
     "start_time": "2024-04-12T13:48:27.652509Z"
    }
   },
   "id": "e88effa94ec3ba42"
  },
  {
   "cell_type": "code",
   "execution_count": 41,
   "outputs": [
    {
     "name": "stdout",
     "output_type": "stream",
     "text": [
      "-------------------------------------\n",
      "Zsumowane wszystkie grafiki:\n",
      "H: 1.6168383340797354\n",
      "p-value: 0.6555778958722058\n",
      "No reason to reject H0, accept H0.\n",
      "-------------------------------------\n",
      "Zsumowane grafiki A:\n",
      "H: 1.9000829678795972\n",
      "p-value: 0.5934015337211782\n",
      "No reason to reject H0, accept H0.\n",
      "-------------------------------------\n",
      "Zsumowane grafiki B:\n",
      "H: 2.2907712700586482\n",
      "p-value: 0.5142911918238899\n",
      "No reason to reject H0, accept H0.\n",
      "-------------------------------------\n",
      "Zsumowane grafiki 1:\n",
      "H: 1.4502510770244166\n",
      "p-value: 0.6937990125656261\n",
      "No reason to reject H0, accept H0.\n",
      "-------------------------------------\n",
      "Zsumowane grafiki 2:\n",
      "H: 2.197418981996001\n",
      "p-value: 0.532456930184467\n",
      "No reason to reject H0, accept H0.\n",
      "-------------------------------------\n",
      "Zsumowane grafiki 3:\n",
      "H: 0.33805075292805103\n",
      "p-value: 0.9527202618718195\n",
      "No reason to reject H0, accept H0.\n"
     ]
    }
   ],
   "source": [
    "# dominant type of learning\n",
    "var = 'Typ_uczenia'\n",
    "param = 'diff'\n",
    "for i, df in enumerate(dfs):\n",
    "    print('-------------------------------------')\n",
    "    print(names[i+1])\n",
    "    data = [df[param][df[var] == category] for category in pd.unique(df[var])]\n",
    "    kruskal_wallis_test(data, print_flag=True, alpha=ALPHA)"
   ],
   "metadata": {
    "collapsed": false,
    "ExecuteTime": {
     "end_time": "2024-04-12T13:48:27.922382Z",
     "start_time": "2024-04-12T13:48:27.666454Z"
    }
   },
   "id": "2b183ae5dc8ad014"
  },
  {
   "cell_type": "markdown",
   "source": [
    "### Summary:\n",
    "\n",
    "Significant statistically:\n",
    "\n",
    "- matura exam, history, wrote / did not write (3)\n",
    "- year of birth (2 - weakly differentiates)\n",
    "- well-being (2 - 3 vs 4, 3 - 5 vs 4)\n",
    "- perceptiveness (3 - 2 vs 5)\n",
    "- type of learning: visual (1 - weakly differentiates)"
   ],
   "metadata": {
    "collapsed": false
   },
   "id": "1f73f8d892ef596a"
  },
  {
   "cell_type": "markdown",
   "source": [
    "Each graphic separately:"
   ],
   "metadata": {
    "collapsed": false
   },
   "id": "582a922df43b685b"
  },
  {
   "cell_type": "code",
   "execution_count": 42,
   "outputs": [],
   "source": [
    "columns = ['Płeć', 'Rok_urodzenia', 'Kierunek_studiów',\n",
    "       'Rok_studiów', 'Specjalność', 'Wady_wzroku', 'Ilość_snu',\n",
    "       'JP_podst', 'MAT_podst', 'JP_roz', 'MAT_roz', 'HIST_roz',\n",
    "       'Samopocz', 'Stres', 'Zmęcz', 'Czyt_map', 'Podziel_uwg', 'Analit_myśl',\n",
    "       'Spostrzeg', 'Czyt_ze_zroz', 'Wzrokowiec', 'Słuchowiec', 'Kinestetyk', 'MAT', 'POL', 'HIST', 'Typ_uczenia']\n",
    "\n",
    "prefix = ['1a', '1b', '2a', '2b', '3a', '3b']"
   ],
   "metadata": {
    "collapsed": false,
    "ExecuteTime": {
     "end_time": "2024-04-12T13:48:27.922572Z",
     "start_time": "2024-04-12T13:48:27.679206Z"
    }
   },
   "id": "d33045f274aadabe"
  },
  {
   "cell_type": "code",
   "execution_count": 43,
   "outputs": [
    {
     "name": "stdout",
     "output_type": "stream",
     "text": [
      "##############################################################\n",
      "Płeć\n",
      "-------------------------------------\n",
      "1a\n",
      "U-statistic: 170.0\n",
      "p-value: 0.472984485873845\n",
      "No reason to reject H0, accept H0.\n",
      "-------------------------------------\n",
      "1b\n",
      "U-statistic: 123.0\n",
      "p-value: 0.03300139133560838\n",
      "\u001B[31mThere are grounds to reject H0, accept H1.\u001B[0m\n",
      "-------------------------------------\n",
      "2a\n",
      "U-statistic: 144.0\n",
      "p-value: 0.1450988351231113\n",
      "No reason to reject H0, accept H0.\n",
      "-------------------------------------\n",
      "2b\n",
      "U-statistic: 172.5\n",
      "p-value: 0.5195266959385567\n",
      "No reason to reject H0, accept H0.\n",
      "-------------------------------------\n",
      "3a\n",
      "U-statistic: 222.5\n",
      "p-value: 0.4530956659255446\n",
      "No reason to reject H0, accept H0.\n",
      "-------------------------------------\n",
      "3b\n",
      "U-statistic: 167.5\n",
      "p-value: 0.4357450402677764\n",
      "No reason to reject H0, accept H0.\n",
      "##############################################################\n",
      "Rok_urodzenia\n",
      "-------------------------------------\n",
      "1a\n",
      "H: 3.199817612214409\n",
      "p-value: 0.5249604060568736\n",
      "No reason to reject H0, accept H0.\n",
      "-------------------------------------\n",
      "1b\n",
      "H: 4.314440412528652\n",
      "p-value: 0.36512035231691314\n",
      "No reason to reject H0, accept H0.\n",
      "-------------------------------------\n",
      "2a\n",
      "H: 4.303515491665725\n",
      "p-value: 0.36648509239453303\n",
      "No reason to reject H0, accept H0.\n",
      "-------------------------------------\n",
      "2b\n",
      "H: 10.428000237231513\n",
      "p-value: 0.03380335271853345\n",
      "\u001B[31mThere are grounds to reject H0, accept H1.\u001B[0m\n",
      "-------------------------------------\n",
      "3a\n",
      "H: 1.4986870059653532\n",
      "p-value: 0.8268740222455824\n",
      "No reason to reject H0, accept H0.\n",
      "-------------------------------------\n",
      "3b\n",
      "H: 5.008385188500809\n",
      "p-value: 0.2864382041039467\n",
      "No reason to reject H0, accept H0.\n",
      "##############################################################\n",
      "Kierunek_studiów\n",
      "-------------------------------------\n",
      "1a\n",
      "H: 0.2159786761668801\n",
      "p-value: 0.8976371669119897\n",
      "No reason to reject H0, accept H0.\n",
      "-------------------------------------\n",
      "1b\n",
      "H: 0.07912500000001127\n",
      "p-value: 0.9612098764959096\n",
      "No reason to reject H0, accept H0.\n",
      "-------------------------------------\n",
      "2a\n",
      "H: 0.16362616356383206\n",
      "p-value: 0.9214441773041352\n",
      "No reason to reject H0, accept H0.\n",
      "-------------------------------------\n",
      "2b\n",
      "H: 1.110433353871417\n",
      "p-value: 0.5739478864530605\n",
      "No reason to reject H0, accept H0.\n",
      "-------------------------------------\n",
      "3a\n",
      "H: 5.6789954796584725\n",
      "p-value: 0.05845501822008254\n",
      "No reason to reject H0, accept H0.\n",
      "-------------------------------------\n",
      "3b\n",
      "H: 1.122139873162861\n",
      "p-value: 0.5705982332090531\n",
      "No reason to reject H0, accept H0.\n",
      "##############################################################\n",
      "Rok_studiów\n",
      "-------------------------------------\n",
      "1a\n",
      "H: 1.6034130517093947\n",
      "p-value: 0.44856282652542634\n",
      "No reason to reject H0, accept H0.\n",
      "-------------------------------------\n",
      "1b\n",
      "H: 0.9903726708074857\n",
      "p-value: 0.6094573332369513\n",
      "No reason to reject H0, accept H0.\n",
      "-------------------------------------\n",
      "2a\n",
      "H: 0.021507863089738444\n",
      "p-value: 0.9893036852562983\n",
      "No reason to reject H0, accept H0.\n",
      "-------------------------------------\n",
      "2b\n",
      "H: 5.76573880599238\n",
      "p-value: 0.055973920448636076\n",
      "No reason to reject H0, accept H0.\n",
      "-------------------------------------\n",
      "3a\n",
      "H: 4.425047496342232\n",
      "p-value: 0.10942414076917319\n",
      "No reason to reject H0, accept H0.\n",
      "-------------------------------------\n",
      "3b\n",
      "H: 1.1477315499689515\n",
      "p-value: 0.5633434648328466\n",
      "No reason to reject H0, accept H0.\n",
      "##############################################################\n",
      "Specjalność\n",
      "-------------------------------------\n",
      "1a\n",
      "H: 1.788400540410299\n",
      "p-value: 0.6174623555835701\n",
      "No reason to reject H0, accept H0.\n",
      "-------------------------------------\n",
      "1b\n",
      "H: 0.07469047619047485\n",
      "p-value: 0.9946910804981965\n",
      "No reason to reject H0, accept H0.\n",
      "-------------------------------------\n",
      "2a\n",
      "H: 2.5638574911347596\n",
      "p-value: 0.4638610548431258\n",
      "No reason to reject H0, accept H0.\n",
      "-------------------------------------\n",
      "2b\n",
      "H: 1.0337000239611234\n",
      "p-value: 0.7930982966191042\n",
      "No reason to reject H0, accept H0.\n",
      "-------------------------------------\n",
      "3a\n",
      "H: 2.058915536581297\n",
      "p-value: 0.5602690387660223\n",
      "No reason to reject H0, accept H0.\n",
      "-------------------------------------\n",
      "3b\n",
      "H: 1.8457888732299832\n",
      "p-value: 0.6050218124736932\n",
      "No reason to reject H0, accept H0.\n",
      "##############################################################\n",
      "Wady_wzroku\n",
      "-------------------------------------\n",
      "1a\n",
      "U-statistic: 173.5\n",
      "p-value: 0.602100047736343\n",
      "No reason to reject H0, accept H0.\n",
      "-------------------------------------\n",
      "1b\n",
      "U-statistic: 163.0\n",
      "p-value: 0.39443592632427293\n",
      "No reason to reject H0, accept H0.\n",
      "-------------------------------------\n",
      "2a\n",
      "U-statistic: 205.5\n",
      "p-value: 0.7078253516299049\n",
      "No reason to reject H0, accept H0.\n",
      "-------------------------------------\n",
      "2b\n",
      "U-statistic: 147.0\n",
      "p-value: 0.19865407619387565\n",
      "No reason to reject H0, accept H0.\n",
      "-------------------------------------\n",
      "3a\n",
      "U-statistic: 192.5\n",
      "p-value: 1.0\n",
      "No reason to reject H0, accept H0.\n",
      "-------------------------------------\n",
      "3b\n",
      "U-statistic: 166.5\n",
      "p-value: 0.4746257534939824\n",
      "No reason to reject H0, accept H0.\n",
      "##############################################################\n",
      "Ilość_snu\n",
      "-------------------------------------\n",
      "1a\n",
      "H: 7.929843587673528\n",
      "p-value: 0.09418218370256849\n",
      "No reason to reject H0, accept H0.\n",
      "-------------------------------------\n",
      "1b\n",
      "H: 3.108419913419916\n",
      "p-value: 0.5398483590329082\n",
      "No reason to reject H0, accept H0.\n",
      "-------------------------------------\n",
      "2a\n",
      "H: 0.19813628304318817\n",
      "p-value: 0.995405124073402\n",
      "No reason to reject H0, accept H0.\n",
      "-------------------------------------\n",
      "2b\n",
      "H: 3.541326232130298\n",
      "p-value: 0.4716224854263965\n",
      "No reason to reject H0, accept H0.\n",
      "-------------------------------------\n",
      "3a\n",
      "H: 4.2347228437057804\n",
      "p-value: 0.37517058017944216\n",
      "No reason to reject H0, accept H0.\n",
      "-------------------------------------\n",
      "3b\n",
      "H: 5.3873145334968475\n",
      "p-value: 0.24981361720658515\n",
      "No reason to reject H0, accept H0.\n",
      "##############################################################\n",
      "JP_podst\n",
      "-------------------------------------\n",
      "1a\n",
      "H: 1.1857095998250646\n",
      "p-value: 0.7564337408814601\n",
      "No reason to reject H0, accept H0.\n",
      "-------------------------------------\n",
      "1b\n",
      "H: 3.220793794440869\n",
      "p-value: 0.35881967997198155\n",
      "No reason to reject H0, accept H0.\n",
      "-------------------------------------\n",
      "2a\n",
      "H: 3.259886155771643\n",
      "p-value: 0.35326488080194607\n",
      "No reason to reject H0, accept H0.\n",
      "-------------------------------------\n",
      "2b\n",
      "H: 6.645953390598411\n",
      "p-value: 0.0840808056815485\n",
      "No reason to reject H0, accept H0.\n",
      "-------------------------------------\n",
      "3a\n",
      "H: 2.2958336041599043\n",
      "p-value: 0.513319547692088\n",
      "No reason to reject H0, accept H0.\n",
      "-------------------------------------\n",
      "3b\n",
      "H: 2.4579578157012767\n",
      "p-value: 0.48293698251853356\n",
      "No reason to reject H0, accept H0.\n",
      "##############################################################\n",
      "MAT_podst\n",
      "-------------------------------------\n",
      "1a\n",
      "H: 2.8990409438248883\n",
      "p-value: 0.4074544272036641\n",
      "No reason to reject H0, accept H0.\n",
      "-------------------------------------\n",
      "1b\n",
      "H: 2.7803571428571447\n",
      "p-value: 0.4267436972292793\n",
      "No reason to reject H0, accept H0.\n",
      "-------------------------------------\n",
      "2a\n",
      "H: 0.9808843085106449\n",
      "p-value: 0.8058772524143594\n",
      "No reason to reject H0, accept H0.\n",
      "-------------------------------------\n",
      "2b\n",
      "H: 3.027058944341739\n",
      "p-value: 0.3874720056269666\n",
      "No reason to reject H0, accept H0.\n",
      "-------------------------------------\n",
      "3a\n",
      "H: 2.255493470617783\n",
      "p-value: 0.5211007522846947\n",
      "No reason to reject H0, accept H0.\n",
      "-------------------------------------\n",
      "3b\n",
      "H: 2.2164221360982608\n",
      "p-value: 0.5287209702198536\n",
      "No reason to reject H0, accept H0.\n",
      "##############################################################\n",
      "JP_roz\n",
      "-------------------------------------\n",
      "1a\n",
      "H: 2.8068280236106085\n",
      "p-value: 0.42237713589835757\n",
      "No reason to reject H0, accept H0.\n",
      "-------------------------------------\n",
      "1b\n",
      "H: 4.3848479262672715\n",
      "p-value: 0.22279445545541204\n",
      "No reason to reject H0, accept H0.\n",
      "-------------------------------------\n",
      "2a\n",
      "H: 4.775943719972557\n",
      "p-value: 0.18895830203032002\n",
      "No reason to reject H0, accept H0.\n",
      "-------------------------------------\n",
      "2b\n",
      "H: 3.5037014953060686\n",
      "p-value: 0.3202823665030724\n",
      "No reason to reject H0, accept H0.\n",
      "-------------------------------------\n",
      "3a\n",
      "H: 2.1832569141783265\n",
      "p-value: 0.5352537619712043\n",
      "No reason to reject H0, accept H0.\n",
      "-------------------------------------\n",
      "3b\n",
      "H: 7.970367652311688\n",
      "p-value: 0.04662810318349337\n",
      "\u001B[31mThere are grounds to reject H0, accept H1.\u001B[0m\n",
      "##############################################################\n",
      "MAT_roz\n",
      "-------------------------------------\n",
      "1a\n",
      "H: 4.073574969021068\n",
      "p-value: 0.3961401261674231\n",
      "No reason to reject H0, accept H0.\n",
      "-------------------------------------\n",
      "1b\n",
      "H: 10.651333333333367\n",
      "p-value: 0.030775042197129288\n",
      "\u001B[31mThere are grounds to reject H0, accept H1.\u001B[0m\n",
      "-------------------------------------\n",
      "2a\n",
      "H: 1.3170877659574576\n",
      "p-value: 0.8584697419789876\n",
      "No reason to reject H0, accept H0.\n",
      "-------------------------------------\n",
      "2b\n",
      "H: 3.9771393852262844\n",
      "p-value: 0.40910853829627414\n",
      "No reason to reject H0, accept H0.\n",
      "-------------------------------------\n",
      "3a\n",
      "H: 2.0442625146492674\n",
      "p-value: 0.7276179050787045\n",
      "No reason to reject H0, accept H0.\n",
      "-------------------------------------\n",
      "3b\n",
      "H: 1.5269830883833289\n",
      "p-value: 0.821851244215414\n",
      "No reason to reject H0, accept H0.\n",
      "##############################################################\n",
      "HIST_roz\n",
      "-------------------------------------\n",
      "1a\n",
      "H: 1.2887236679058252\n",
      "p-value: 0.5249974707858327\n",
      "No reason to reject H0, accept H0.\n",
      "-------------------------------------\n",
      "1b\n",
      "H: 2.345952380952395\n",
      "p-value: 0.30944460333825824\n",
      "No reason to reject H0, accept H0.\n",
      "-------------------------------------\n",
      "2a\n",
      "H: 3.8504543439716623\n",
      "p-value: 0.1458426217346859\n",
      "No reason to reject H0, accept H0.\n",
      "-------------------------------------\n",
      "2b\n",
      "H: 0.6561965153693378\n",
      "p-value: 0.7202922419801485\n",
      "No reason to reject H0, accept H0.\n",
      "-------------------------------------\n",
      "3a\n",
      "H: 6.24279675205091\n",
      "p-value: 0.044095463247594585\n",
      "\u001B[31mThere are grounds to reject H0, accept H1.\u001B[0m\n",
      "-------------------------------------\n",
      "3b\n",
      "H: 2.7248003489699055\n",
      "p-value: 0.2560454850048249\n",
      "No reason to reject H0, accept H0.\n",
      "##############################################################\n",
      "Samopocz\n",
      "-------------------------------------\n",
      "1a\n",
      "H: 1.34385240258846\n",
      "p-value: 0.7187471557548173\n",
      "No reason to reject H0, accept H0.\n",
      "-------------------------------------\n",
      "1b\n",
      "H: 1.467380952380933\n",
      "p-value: 0.6898189899398562\n",
      "No reason to reject H0, accept H0.\n",
      "-------------------------------------\n",
      "2a\n",
      "H: 8.315159574468115\n",
      "p-value: 0.03992814783733243\n",
      "\u001B[31mThere are grounds to reject H0, accept H1.\u001B[0m\n",
      "-------------------------------------\n",
      "2b\n",
      "H: 8.912858560963905\n",
      "p-value: 0.030472198464900967\n",
      "\u001B[31mThere are grounds to reject H0, accept H1.\u001B[0m\n",
      "-------------------------------------\n",
      "3a\n",
      "H: 17.16991377867071\n",
      "p-value: 0.0006520899943427676\n",
      "\u001B[31mThere are grounds to reject H0, accept H1.\u001B[0m\n",
      "-------------------------------------\n",
      "3b\n",
      "H: 4.412516777397472\n",
      "p-value: 0.22022759377872073\n",
      "No reason to reject H0, accept H0.\n",
      "##############################################################\n",
      "Stres\n",
      "-------------------------------------\n",
      "1a\n",
      "H: 0.9873055211345424\n",
      "p-value: 0.9117147394586904\n",
      "No reason to reject H0, accept H0.\n",
      "-------------------------------------\n",
      "1b\n",
      "H: 2.052571428571443\n",
      "p-value: 0.7260900075000263\n",
      "No reason to reject H0, accept H0.\n",
      "-------------------------------------\n",
      "2a\n",
      "H: 3.723847517730503\n",
      "p-value: 0.4446669441290525\n",
      "No reason to reject H0, accept H0.\n",
      "-------------------------------------\n",
      "2b\n",
      "H: 12.434593003354571\n",
      "p-value: 0.014395839112922176\n",
      "\u001B[31mThere are grounds to reject H0, accept H1.\u001B[0m\n",
      "-------------------------------------\n",
      "3a\n",
      "H: 5.047125397622626\n",
      "p-value: 0.28249622516978906\n",
      "No reason to reject H0, accept H0.\n",
      "-------------------------------------\n",
      "3b\n",
      "H: 0.5240654989598127\n",
      "p-value: 0.9711163089299426\n",
      "No reason to reject H0, accept H0.\n",
      "##############################################################\n",
      "Zmęcz\n",
      "-------------------------------------\n",
      "1a\n",
      "H: 9.468897149938066\n",
      "p-value: 0.05039027999006644\n",
      "No reason to reject H0, accept H0.\n",
      "-------------------------------------\n",
      "1b\n",
      "H: 1.723666666666697\n",
      "p-value: 0.7864141884955919\n",
      "No reason to reject H0, accept H0.\n",
      "-------------------------------------\n",
      "2a\n",
      "H: 2.4615691489361784\n",
      "p-value: 0.6515303988263406\n",
      "No reason to reject H0, accept H0.\n",
      "-------------------------------------\n",
      "2b\n",
      "H: 3.321843978914216\n",
      "p-value: 0.5054787322323518\n",
      "No reason to reject H0, accept H0.\n",
      "-------------------------------------\n",
      "3a\n",
      "H: 5.3928017746525985\n",
      "p-value: 0.24931421404763254\n",
      "No reason to reject H0, accept H0.\n",
      "-------------------------------------\n",
      "3b\n",
      "H: 7.666290014092995\n",
      "p-value: 0.10459624662654612\n",
      "No reason to reject H0, accept H0.\n",
      "##############################################################\n",
      "Czyt_map\n",
      "-------------------------------------\n",
      "1a\n",
      "H: 2.7551301115241795\n",
      "p-value: 0.25219187921236996\n",
      "No reason to reject H0, accept H0.\n",
      "-------------------------------------\n",
      "1b\n",
      "H: 4.546799999999997\n",
      "p-value: 0.10296151513902992\n",
      "No reason to reject H0, accept H0.\n",
      "-------------------------------------\n",
      "2a\n",
      "H: 0.3287234042553301\n",
      "p-value: 0.8484350855981534\n",
      "No reason to reject H0, accept H0.\n",
      "-------------------------------------\n",
      "2b\n",
      "H: 0.24718422674061546\n",
      "p-value: 0.8837402332033946\n",
      "No reason to reject H0, accept H0.\n",
      "-------------------------------------\n",
      "3a\n",
      "H: 2.057852335509791\n",
      "p-value: 0.3573905320639946\n",
      "No reason to reject H0, accept H0.\n",
      "-------------------------------------\n",
      "3b\n",
      "H: 0.35097644453394017\n",
      "p-value: 0.8390472791901237\n",
      "No reason to reject H0, accept H0.\n",
      "##############################################################\n",
      "Podziel_uwg\n",
      "-------------------------------------\n",
      "1a\n",
      "H: 2.5450814180484524\n",
      "p-value: 0.6365818672044361\n",
      "No reason to reject H0, accept H0.\n",
      "-------------------------------------\n",
      "1b\n",
      "H: 3.9768707482993295\n",
      "p-value: 0.40914510334750176\n",
      "No reason to reject H0, accept H0.\n",
      "-------------------------------------\n",
      "2a\n",
      "H: 2.3042323644883536\n",
      "p-value: 0.6799985906618335\n",
      "No reason to reject H0, accept H0.\n",
      "-------------------------------------\n",
      "2b\n",
      "H: 4.401019814374719\n",
      "p-value: 0.3544458255255978\n",
      "No reason to reject H0, accept H0.\n",
      "-------------------------------------\n",
      "3a\n",
      "H: 7.304699720169329\n",
      "p-value: 0.12063601325739083\n",
      "No reason to reject H0, accept H0.\n",
      "-------------------------------------\n",
      "3b\n",
      "H: 5.321712588800364\n",
      "p-value: 0.2558512100705953\n",
      "No reason to reject H0, accept H0.\n",
      "##############################################################\n",
      "Analit_myśl\n",
      "-------------------------------------\n",
      "1a\n",
      "H: 4.24678467977237\n",
      "p-value: 0.23601939384530218\n",
      "No reason to reject H0, accept H0.\n",
      "-------------------------------------\n",
      "1b\n",
      "H: 6.15552517657781\n",
      "p-value: 0.10428394182224565\n",
      "No reason to reject H0, accept H0.\n",
      "-------------------------------------\n",
      "2a\n",
      "H: 5.263223641793089\n",
      "p-value: 0.15350663306603507\n",
      "No reason to reject H0, accept H0.\n",
      "-------------------------------------\n",
      "2b\n",
      "H: 4.4115689108879375\n",
      "p-value: 0.22031507486691332\n",
      "No reason to reject H0, accept H0.\n",
      "-------------------------------------\n",
      "3a\n",
      "H: 3.6643601149350937\n",
      "p-value: 0.30006241686921503\n",
      "No reason to reject H0, accept H0.\n",
      "-------------------------------------\n",
      "3b\n",
      "H: 3.9662971786036856\n",
      "p-value: 0.26512649884312045\n",
      "No reason to reject H0, accept H0.\n",
      "##############################################################\n",
      "Spostrzeg\n",
      "-------------------------------------\n",
      "1a\n",
      "H: 2.586870750750446\n",
      "p-value: 0.45979592441945993\n",
      "No reason to reject H0, accept H0.\n",
      "-------------------------------------\n",
      "1b\n",
      "H: 5.062173414820481\n",
      "p-value: 0.1673007029234897\n",
      "No reason to reject H0, accept H0.\n",
      "-------------------------------------\n",
      "2a\n",
      "H: 1.5556430623506763\n",
      "p-value: 0.6694887415398949\n",
      "No reason to reject H0, accept H0.\n",
      "-------------------------------------\n",
      "2b\n",
      "H: 0.6823558653843314\n",
      "p-value: 0.877345970709579\n",
      "No reason to reject H0, accept H0.\n",
      "-------------------------------------\n",
      "3a\n",
      "H: 12.435394804695996\n",
      "p-value: 0.0060312127664522005\n",
      "\u001B[31mThere are grounds to reject H0, accept H1.\u001B[0m\n",
      "-------------------------------------\n",
      "3b\n",
      "H: 6.503976209560657\n",
      "p-value: 0.08950582394355512\n",
      "No reason to reject H0, accept H0.\n",
      "##############################################################\n",
      "Czyt_ze_zroz\n",
      "-------------------------------------\n",
      "1a\n",
      "H: 4.795053360563579\n",
      "p-value: 0.30897992854673845\n",
      "No reason to reject H0, accept H0.\n",
      "-------------------------------------\n",
      "1b\n",
      "H: 6.991179471788692\n",
      "p-value: 0.13635508476503388\n",
      "No reason to reject H0, accept H0.\n",
      "-------------------------------------\n",
      "2a\n",
      "H: 2.253844090827836\n",
      "p-value: 0.6891845720474544\n",
      "No reason to reject H0, accept H0.\n",
      "-------------------------------------\n",
      "2b\n",
      "H: 7.834059987211139\n",
      "p-value: 0.09784944029240632\n",
      "No reason to reject H0, accept H0.\n",
      "-------------------------------------\n",
      "3a\n",
      "H: 1.1467001190229946\n",
      "p-value: 0.8867936892404119\n",
      "No reason to reject H0, accept H0.\n",
      "-------------------------------------\n",
      "3b\n",
      "H: 3.055395917678532\n",
      "p-value: 0.5485982074407023\n",
      "No reason to reject H0, accept H0.\n",
      "##############################################################\n",
      "Wzrokowiec\n",
      "-------------------------------------\n",
      "1a\n",
      "H: 3.538083436596452\n",
      "p-value: 0.31585631325172625\n",
      "No reason to reject H0, accept H0.\n",
      "-------------------------------------\n",
      "1b\n",
      "H: 1.5873197278911468\n",
      "p-value: 0.6622683920145154\n",
      "No reason to reject H0, accept H0.\n",
      "-------------------------------------\n",
      "2a\n",
      "H: 0.6918439716312117\n",
      "p-value: 0.8751206323143633\n",
      "No reason to reject H0, accept H0.\n",
      "-------------------------------------\n",
      "2b\n",
      "H: 1.502156744809263\n",
      "p-value: 0.6817726442861959\n",
      "No reason to reject H0, accept H0.\n",
      "-------------------------------------\n",
      "3a\n",
      "H: 6.640030374781747\n",
      "p-value: 0.08430065623710732\n",
      "No reason to reject H0, accept H0.\n",
      "-------------------------------------\n",
      "3b\n",
      "H: 3.8051643226245653\n",
      "p-value: 0.2832860045994569\n",
      "No reason to reject H0, accept H0.\n",
      "##############################################################\n",
      "Słuchowiec\n",
      "-------------------------------------\n",
      "1a\n",
      "H: 3.615735270254321\n",
      "p-value: 0.46050006204070437\n",
      "No reason to reject H0, accept H0.\n",
      "-------------------------------------\n",
      "1b\n",
      "H: 3.82485714285716\n",
      "p-value: 0.43022744095827614\n",
      "No reason to reject H0, accept H0.\n",
      "-------------------------------------\n",
      "2a\n",
      "H: 0.8466137917933267\n",
      "p-value: 0.9320918368034977\n",
      "No reason to reject H0, accept H0.\n",
      "-------------------------------------\n",
      "2b\n",
      "H: 11.179518931725502\n",
      "p-value: 0.02461885618979756\n",
      "\u001B[31mThere are grounds to reject H0, accept H1.\u001B[0m\n",
      "-------------------------------------\n",
      "3a\n",
      "H: 1.0030856712348302\n",
      "p-value: 0.9093277406354683\n",
      "No reason to reject H0, accept H0.\n",
      "-------------------------------------\n",
      "3b\n",
      "H: 2.2889790474273153\n",
      "p-value: 0.6827763100659835\n",
      "No reason to reject H0, accept H0.\n",
      "##############################################################\n",
      "Kinestetyk\n",
      "-------------------------------------\n",
      "1a\n",
      "H: 3.3378206218464554\n",
      "p-value: 0.5029623085120161\n",
      "No reason to reject H0, accept H0.\n",
      "-------------------------------------\n",
      "1b\n",
      "H: 2.8003809523809693\n",
      "p-value: 0.5917669560590045\n",
      "No reason to reject H0, accept H0.\n",
      "-------------------------------------\n",
      "2a\n",
      "H: 4.086653890279534\n",
      "p-value: 0.3944055287271485\n",
      "No reason to reject H0, accept H0.\n",
      "-------------------------------------\n",
      "2b\n",
      "H: 1.2588984330639124\n",
      "p-value: 0.8683094116690775\n",
      "No reason to reject H0, accept H0.\n",
      "-------------------------------------\n",
      "3a\n",
      "H: 6.602982440590521\n",
      "p-value: 0.15841621105842774\n",
      "No reason to reject H0, accept H0.\n",
      "-------------------------------------\n",
      "3b\n",
      "H: 7.4129308336984865\n",
      "p-value: 0.11561053047408205\n",
      "No reason to reject H0, accept H0.\n",
      "##############################################################\n",
      "MAT\n",
      "-------------------------------------\n",
      "1a\n",
      "U-statistic: 184.5\n",
      "p-value: 0.7107827233392556\n",
      "No reason to reject H0, accept H0.\n",
      "-------------------------------------\n",
      "1b\n",
      "U-statistic: 181.0\n",
      "p-value: 0.6273187651806514\n",
      "No reason to reject H0, accept H0.\n",
      "-------------------------------------\n",
      "2a\n",
      "U-statistic: 190.5\n",
      "p-value: 0.8424797848162531\n",
      "No reason to reject H0, accept H0.\n",
      "-------------------------------------\n",
      "2b\n",
      "U-statistic: 188.0\n",
      "p-value: 0.7869905597224207\n",
      "No reason to reject H0, accept H0.\n",
      "-------------------------------------\n",
      "3a\n",
      "U-statistic: 219.5\n",
      "p-value: 0.5546654834758132\n",
      "No reason to reject H0, accept H0.\n",
      "-------------------------------------\n",
      "3b\n",
      "U-statistic: 192.0\n",
      "p-value: 0.8769060871514525\n",
      "No reason to reject H0, accept H0.\n",
      "##############################################################\n",
      "POL\n",
      "-------------------------------------\n",
      "1a\n",
      "U-statistic: 120.5\n",
      "p-value: 0.5295681584399505\n",
      "No reason to reject H0, accept H0.\n",
      "-------------------------------------\n",
      "1b\n",
      "U-statistic: 156.0\n",
      "p-value: 0.5748753584917847\n",
      "No reason to reject H0, accept H0.\n",
      "-------------------------------------\n",
      "2a\n",
      "U-statistic: 204.0\n",
      "p-value: 0.030419508124572982\n",
      "\u001B[31mThere are grounds to reject H0, accept H1.\u001B[0m\n",
      "-------------------------------------\n",
      "2b\n",
      "U-statistic: 105.5\n",
      "p-value: 0.25627758552755675\n",
      "No reason to reject H0, accept H0.\n",
      "-------------------------------------\n",
      "3a\n",
      "U-statistic: 167.0\n",
      "p-value: 0.36549878397141\n",
      "No reason to reject H0, accept H0.\n",
      "-------------------------------------\n",
      "3b\n",
      "U-statistic: 193.5\n",
      "p-value: 0.07265208878839988\n",
      "No reason to reject H0, accept H0.\n",
      "##############################################################\n",
      "HIST\n",
      "-------------------------------------\n",
      "1a\n",
      "U-statistic: 96.0\n",
      "p-value: 0.2663234013249447\n",
      "No reason to reject H0, accept H0.\n",
      "-------------------------------------\n",
      "1b\n",
      "U-statistic: 49.0\n",
      "p-value: 0.2722535810629988\n",
      "No reason to reject H0, accept H0.\n",
      "-------------------------------------\n",
      "2a\n",
      "U-statistic: 80.5\n",
      "p-value: 0.7064546931910858\n",
      "No reason to reject H0, accept H0.\n",
      "-------------------------------------\n",
      "2b\n",
      "U-statistic: 87.5\n",
      "p-value: 0.4792295193763231\n",
      "No reason to reject H0, accept H0.\n",
      "-------------------------------------\n",
      "3a\n",
      "U-statistic: 18.5\n",
      "p-value: 0.01341396860768849\n",
      "\u001B[31mThere are grounds to reject H0, accept H1.\u001B[0m\n",
      "-------------------------------------\n",
      "3b\n",
      "U-statistic: 49.0\n",
      "p-value: 0.29335442701953196\n",
      "No reason to reject H0, accept H0.\n",
      "##############################################################\n",
      "Typ_uczenia\n",
      "-------------------------------------\n",
      "1a\n",
      "H: 5.7550298524276124\n",
      "p-value: 0.12415622161856595\n",
      "No reason to reject H0, accept H0.\n",
      "-------------------------------------\n",
      "1b\n",
      "H: 4.439168831168839\n",
      "p-value: 0.21778089343817217\n",
      "No reason to reject H0, accept H0.\n",
      "-------------------------------------\n",
      "2a\n",
      "H: 0.6110251450677003\n",
      "p-value: 0.8939038450918502\n",
      "No reason to reject H0, accept H0.\n",
      "-------------------------------------\n",
      "2b\n",
      "H: 4.062017588080443\n",
      "p-value: 0.25484475367979015\n",
      "No reason to reject H0, accept H0.\n",
      "-------------------------------------\n",
      "3a\n",
      "H: 0.060853842290311905\n",
      "p-value: 0.9960795486863415\n",
      "No reason to reject H0, accept H0.\n",
      "-------------------------------------\n",
      "3b\n",
      "H: 0.9391730878342666\n",
      "p-value: 0.8159656089430699\n",
      "No reason to reject H0, accept H0.\n"
     ]
    }
   ],
   "source": [
    "for var in columns:\n",
    "    print('##############################################################')\n",
    "    print(var)\n",
    "    for pref in prefix:\n",
    "        print('-------------------------------------')\n",
    "        print(pref)\n",
    "        param = f'{pref}_trud'\n",
    "        data = [df_merge[param][df_merge[var] == category] for category in pd.unique(df_merge[var])]\n",
    "        \n",
    "        if var in ['Płeć', 'Wady_wzroku', 'MAT', 'POL', 'HIST']:\n",
    "            mann_whitney_test(data, print_flag=True, alpha=ALPHA)\n",
    "        else:\n",
    "            kruskal_wallis_test(data, print_flag=True, alpha=ALPHA)"
   ],
   "metadata": {
    "collapsed": false,
    "ExecuteTime": {
     "end_time": "2024-04-12T13:48:28.293693Z",
     "start_time": "2024-04-12T13:48:27.684414Z"
    }
   },
   "id": "f7cf03e2e60cd807"
  },
  {
   "cell_type": "code",
   "execution_count": 44,
   "outputs": [
    {
     "data": {
      "text/plain": "           SumCorr_3   Trud_all\nSpostrzeg                      \n2           1.250000  17.000000\n3           0.909091  15.000000\n4           1.117647  14.882353\n5           0.750000  12.625000",
      "text/html": "<div>\n<style scoped>\n    .dataframe tbody tr th:only-of-type {\n        vertical-align: middle;\n    }\n\n    .dataframe tbody tr th {\n        vertical-align: top;\n    }\n\n    .dataframe thead th {\n        text-align: right;\n    }\n</style>\n<table border=\"1\" class=\"dataframe\">\n  <thead>\n    <tr style=\"text-align: right;\">\n      <th></th>\n      <th>SumCorr_3</th>\n      <th>Trud_all</th>\n    </tr>\n    <tr>\n      <th>Spostrzeg</th>\n      <th></th>\n      <th></th>\n    </tr>\n  </thead>\n  <tbody>\n    <tr>\n      <th>2</th>\n      <td>1.250000</td>\n      <td>17.000000</td>\n    </tr>\n    <tr>\n      <th>3</th>\n      <td>0.909091</td>\n      <td>15.000000</td>\n    </tr>\n    <tr>\n      <th>4</th>\n      <td>1.117647</td>\n      <td>14.882353</td>\n    </tr>\n    <tr>\n      <th>5</th>\n      <td>0.750000</td>\n      <td>12.625000</td>\n    </tr>\n  </tbody>\n</table>\n</div>"
     },
     "execution_count": 44,
     "metadata": {},
     "output_type": "execute_result"
    }
   ],
   "source": [
    "df_merge[['Spostrzeg', 'SumCorr_3', 'Trud_all']].groupby('Spostrzeg').mean()"
   ],
   "metadata": {
    "collapsed": false,
    "ExecuteTime": {
     "end_time": "2024-04-12T13:48:28.303625Z",
     "start_time": "2024-04-12T13:48:27.867509Z"
    }
   },
   "id": "635d60fa0eacd474"
  },
  {
   "cell_type": "code",
   "execution_count": 45,
   "outputs": [
    {
     "name": "stdout",
     "output_type": "stream",
     "text": [
      "+------+----------+----------+----------+----------+----------+\n",
      "|      |     2002 |     2003 |     2001 |     2000 |     2004 |\n",
      "+======+==========+==========+==========+==========+==========+\n",
      "| 2002 | 1        | 0.889256 | 0.488802 | 0.575202 | 0.113956 |\n",
      "+------+----------+----------+----------+----------+----------+\n",
      "| 2003 | 0.889256 | 1        | 0.894945 | 0.779299 | 0.312899 |\n",
      "+------+----------+----------+----------+----------+----------+\n",
      "| 2001 | 0.488802 | 0.894945 | 1        | 0.945276 | 0.765875 |\n",
      "+------+----------+----------+----------+----------+----------+\n",
      "| 2000 | 0.575202 | 0.779299 | 0.945276 | 1        | 1        |\n",
      "+------+----------+----------+----------+----------+----------+\n",
      "| 2004 | 0.113956 | 0.312899 | 0.765875 | 1        | 1        |\n",
      "+------+----------+----------+----------+----------+----------+\n",
      "\n",
      "+----+----------+----------+----------+----------+\n",
      "|    |        4 |        3 |        0 |        2 |\n",
      "+====+==========+==========+==========+==========+\n",
      "|  4 | 1        | 0.644832 | 0.969223 | 0.757358 |\n",
      "+----+----------+----------+----------+----------+\n",
      "|  3 | 0.644832 | 1        | 0.083347 | 0.25885  |\n",
      "+----+----------+----------+----------+----------+\n",
      "|  0 | 0.969223 | 0.083347 | 1        | 0.830169 |\n",
      "+----+----------+----------+----------+----------+\n",
      "|  2 | 0.757358 | 0.25885  | 0.830169 | 1        |\n",
      "+----+----------+----------+----------+----------+\n",
      "\n",
      "+----+----------+----------+----------+----------+----------+\n",
      "|    |        3 |        2 |        0 |        4 |        1 |\n",
      "+====+==========+==========+==========+==========+==========+\n",
      "|  3 | 1        | 0.984738 | 0.952281 | 0.252076 | 0.791807 |\n",
      "+----+----------+----------+----------+----------+----------+\n",
      "|  2 | 0.984738 | 1        | 0.999828 | 0.923751 | 0.734618 |\n",
      "+----+----------+----------+----------+----------+----------+\n",
      "|  0 | 0.952281 | 0.999828 | 1        | 0.48411  | 0.374402 |\n",
      "+----+----------+----------+----------+----------+----------+\n",
      "|  4 | 0.252076 | 0.923751 | 0.48411  | 1        | \u001B[31m0.043691\u001B[0m |\n",
      "+----+----------+----------+----------+----------+----------+\n",
      "|  1 | 0.791807 | 0.734618 | 0.374402 | \u001B[31m0.043691\u001B[0m | 1        |\n",
      "+----+----------+----------+----------+----------+----------+\n",
      "\n",
      "+----+----------+----------+----------+\n",
      "|    |        0 |        4 |        2 |\n",
      "+====+==========+==========+==========+\n",
      "|  0 | 1        | 0.102633 | 0.377527 |\n",
      "+----+----------+----------+----------+\n",
      "|  4 | 0.102633 | 1        | 0.993411 |\n",
      "+----+----------+----------+----------+\n",
      "|  2 | 0.377527 | 0.993411 | 1        |\n",
      "+----+----------+----------+----------+\n"
     ]
    }
   ],
   "source": [
    "posthocNemenyi2_test(df_merge, 'Rok_urodzenia', '2b_trud')\n",
    "print()\n",
    "posthocNemenyi2_test(df_merge, 'JP_roz', '3b_trud')\n",
    "print()\n",
    "posthocNemenyi2_test(df_merge, 'MAT_roz', '1b_trud')\n",
    "print()\n",
    "posthocNemenyi2_test(df_merge, 'HIST_roz', '3a_trud')"
   ],
   "metadata": {
    "collapsed": false,
    "ExecuteTime": {
     "end_time": "2024-04-12T13:48:28.306851Z",
     "start_time": "2024-04-12T13:48:27.877587Z"
    }
   },
   "id": "ef63fd023f68a49e"
  },
  {
   "cell_type": "code",
   "execution_count": 46,
   "outputs": [
    {
     "name": "stdout",
     "output_type": "stream",
     "text": [
      "+----+----------+----------+----------+----------+\n",
      "|    |        4 |        3 |        5 |        2 |\n",
      "+====+==========+==========+==========+==========+\n",
      "|  4 | 1        | \u001B[31m0.046144\u001B[0m | 0.860614 | 0.717672 |\n",
      "+----+----------+----------+----------+----------+\n",
      "|  3 | \u001B[31m0.046144\u001B[0m | 1        | 0.337881 | 0.688035 |\n",
      "+----+----------+----------+----------+----------+\n",
      "|  5 | 0.860614 | 0.337881 | 1        | 0.98177  |\n",
      "+----+----------+----------+----------+----------+\n",
      "|  2 | 0.717672 | 0.688035 | 0.98177  | 1        |\n",
      "+----+----------+----------+----------+----------+\n",
      "\n",
      "+----+----------+----------+----------+----------+\n",
      "|    |        4 |        3 |        5 |        2 |\n",
      "+====+==========+==========+==========+==========+\n",
      "|  4 | 1        | 0.300598 | 0.983318 | 0.084164 |\n",
      "+----+----------+----------+----------+----------+\n",
      "|  3 | 0.300598 | 1        | 0.591272 | 0.933431 |\n",
      "+----+----------+----------+----------+----------+\n",
      "|  5 | 0.983318 | 0.591272 | 1        | 0.252931 |\n",
      "+----+----------+----------+----------+----------+\n",
      "|  2 | 0.084164 | 0.933431 | 0.252931 | 1        |\n",
      "+----+----------+----------+----------+----------+\n",
      "\n",
      "+----+----------+----------+----------+----------+\n",
      "|    |        4 |        3 |        5 |        2 |\n",
      "+====+==========+==========+==========+==========+\n",
      "|  4 | 1        | 0.776135 | \u001B[31m0.000965\u001B[0m | 0.320129 |\n",
      "+----+----------+----------+----------+----------+\n",
      "|  3 | 0.776135 | 1        | 0.201371 | 0.908909 |\n",
      "+----+----------+----------+----------+----------+\n",
      "|  5 | \u001B[31m0.000965\u001B[0m | 0.201371 | 1        | 0.678852 |\n",
      "+----+----------+----------+----------+----------+\n",
      "|  2 | 0.320129 | 0.908909 | 0.678852 | 1        |\n",
      "+----+----------+----------+----------+----------+\n"
     ]
    }
   ],
   "source": [
    "posthocNemenyi2_test(df_merge, 'Samopocz', '2a_trud')\n",
    "print()\n",
    "posthocNemenyi2_test(df_merge, 'Samopocz', '2b_trud')\n",
    "print()\n",
    "posthocNemenyi2_test(df_merge, 'Samopocz', '3a_trud')"
   ],
   "metadata": {
    "collapsed": false,
    "ExecuteTime": {
     "end_time": "2024-04-12T13:48:28.345394Z",
     "start_time": "2024-04-12T13:48:27.897232Z"
    }
   },
   "id": "ec38f969a1b0eb9f"
  },
  {
   "cell_type": "code",
   "execution_count": 47,
   "outputs": [
    {
     "name": "stdout",
     "output_type": "stream",
     "text": [
      "+----+----------+----------+----------+----------+----------+\n",
      "|    |        2 |        1 |        3 |        4 |        5 |\n",
      "+====+==========+==========+==========+==========+==========+\n",
      "|  2 | 1        | 0.707825 | 0.982759 | 0.237241 | 0.928157 |\n",
      "+----+----------+----------+----------+----------+----------+\n",
      "|  1 | 0.707825 | 1        | 0.967318 | \u001B[31m0.028951\u001B[0m | 0.581118 |\n",
      "+----+----------+----------+----------+----------+----------+\n",
      "|  3 | 0.982759 | 0.967318 | 1        | 0.13391  | 0.819844 |\n",
      "+----+----------+----------+----------+----------+----------+\n",
      "|  4 | 0.237241 | \u001B[31m0.028951\u001B[0m | 0.13391  | 1        | 0.984722 |\n",
      "+----+----------+----------+----------+----------+----------+\n",
      "|  5 | 0.928157 | 0.581118 | 0.819844 | 0.984722 | 1        |\n",
      "+----+----------+----------+----------+----------+----------+\n",
      "\n",
      "+----+----------+----------+----------+----------+\n",
      "|    |        4 |        5 |        3 |        2 |\n",
      "+====+==========+==========+==========+==========+\n",
      "|  4 | 1        | 0.224518 | 0.964116 | 0.212392 |\n",
      "+----+----------+----------+----------+----------+\n",
      "|  5 | 0.224518 | 1        | 0.132581 | \u001B[31m0.009405\u001B[0m |\n",
      "+----+----------+----------+----------+----------+\n",
      "|  3 | 0.964116 | 0.132581 | 1        | 0.425687 |\n",
      "+----+----------+----------+----------+----------+\n",
      "|  2 | 0.212392 | \u001B[31m0.009405\u001B[0m | 0.425687 | 1        |\n",
      "+----+----------+----------+----------+----------+\n",
      "\n",
      "+----+----------+----------+----------+----------+----------+\n",
      "|    |        1 |        3 |        4 |        2 |        5 |\n",
      "+====+==========+==========+==========+==========+==========+\n",
      "|  1 | 1        | 1        | 0.798324 | 0.944634 | 0.752973 |\n",
      "+----+----------+----------+----------+----------+----------+\n",
      "|  3 | 1        | 1        | 0.533177 | 0.83643  | 0.498781 |\n",
      "+----+----------+----------+----------+----------+----------+\n",
      "|  4 | 0.798324 | 0.533177 | 1        | 0.153306 | 0.053612 |\n",
      "+----+----------+----------+----------+----------+----------+\n",
      "|  2 | 0.944634 | 0.83643  | 0.153306 | 1        | 0.97872  |\n",
      "+----+----------+----------+----------+----------+----------+\n",
      "|  5 | 0.752973 | 0.498781 | 0.053612 | 0.97872  | 1        |\n",
      "+----+----------+----------+----------+----------+----------+\n"
     ]
    }
   ],
   "source": [
    "posthocNemenyi2_test(df_merge, 'Stres', '2b_trud')\n",
    "print()\n",
    "posthocNemenyi2_test(df_merge, 'Spostrzeg', '3a_trud')\n",
    "print()\n",
    "posthocNemenyi2_test(df_merge, 'Słuchowiec', '2b_trud')"
   ],
   "metadata": {
    "collapsed": false,
    "ExecuteTime": {
     "end_time": "2024-04-12T13:48:28.437093Z",
     "start_time": "2024-04-12T13:48:27.918739Z"
    }
   },
   "id": "d2883203faf09f08"
  },
  {
   "cell_type": "markdown",
   "source": [
    "### Summary:\n",
    "Statistically significant:\n",
    "- sex (1b)\n",
    "- year of birth (2b) - weakly differentiates\n",
    "- JP_roz (3b) - weakly differentiates\n",
    "- MAT_roz (1b) - 1 vs 4 !!!\n",
    "- HIST_roz (3a) - weakly differentiates\n",
    "- Well-being (2a - 3 vs 4, 2b - weakly, 3a - 5 vs 4)\n",
    "- Stress (2b) - 1 vs 4\n",
    "- Perceptiveness (3a) - 2 vs 5\n",
    "- Auditory (2b) - weakly differentiates\n",
    "- POL - wrote/did not write (2a)\n",
    "- HIST - wrote/did not write (3a)"
   ],
   "metadata": {
    "collapsed": false
   },
   "id": "6058713c8a46e8b8"
  }
 ],
 "metadata": {
  "kernelspec": {
   "display_name": "Python 3",
   "language": "python",
   "name": "python3"
  },
  "language_info": {
   "codemirror_mode": {
    "name": "ipython",
    "version": 2
   },
   "file_extension": ".py",
   "mimetype": "text/x-python",
   "name": "python",
   "nbconvert_exporter": "python",
   "pygments_lexer": "ipython2",
   "version": "2.7.6"
  }
 },
 "nbformat": 4,
 "nbformat_minor": 5
}
