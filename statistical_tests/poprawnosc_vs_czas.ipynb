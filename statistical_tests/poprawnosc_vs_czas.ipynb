{
 "cells": [
  {
   "cell_type": "markdown",
   "source": [
    "# Temat testów:\n",
    "\n",
    "### Czy istnieje istotna statystycznie różnica w poprawności odpowiedzi w zależności od czasu odpowiedzi? (grupy: wszystkie grafiki, grafiki A, grafiki B, grafiki 1,2,3)"
   ],
   "metadata": {
    "collapsed": false
   },
   "id": "827ca98d4c198e40"
  },
  {
   "cell_type": "code",
   "execution_count": 1,
   "outputs": [],
   "source": [
    "import statsmodels.api as sm\n",
    "import pandas as pd\n",
    "import matplotlib.pyplot as plt\n",
    "import numpy as np"
   ],
   "metadata": {
    "collapsed": false,
    "ExecuteTime": {
     "end_time": "2023-10-14T17:31:54.644994Z",
     "start_time": "2023-10-14T17:31:53.351664Z"
    }
   },
   "id": "initial_id"
  },
  {
   "cell_type": "code",
   "execution_count": 2,
   "outputs": [
    {
     "data": {
      "text/plain": "   ID  1a_corr  1b_corr  2a_corr  2b_corr  3a_corr  3b_corr  Duration_1a  \\\n0   1        1        1        0        0        1        1        28015   \n1   2        1        1        1        1        0        1        66230   \n2   3        1        1        1        1        0        0        68830   \n3   4        1        1        1        1        1        0        46048   \n4   5        1        1        1        1        1        1        67980   \n\n   Duration_1b  Duration_2a  Duration_2b  Duration_3a  Duration_3b  \n0        15516        54481        58697        56314        63897  \n1        88463        42248        85329        47948       129427  \n2        83963        45165        32732         8000        61197  \n3        78446        12449        37715        60980       101795  \n4        27582        55931        22132        34898        62930  ",
      "text/html": "<div>\n<style scoped>\n    .dataframe tbody tr th:only-of-type {\n        vertical-align: middle;\n    }\n\n    .dataframe tbody tr th {\n        vertical-align: top;\n    }\n\n    .dataframe thead th {\n        text-align: right;\n    }\n</style>\n<table border=\"1\" class=\"dataframe\">\n  <thead>\n    <tr style=\"text-align: right;\">\n      <th></th>\n      <th>ID</th>\n      <th>1a_corr</th>\n      <th>1b_corr</th>\n      <th>2a_corr</th>\n      <th>2b_corr</th>\n      <th>3a_corr</th>\n      <th>3b_corr</th>\n      <th>Duration_1a</th>\n      <th>Duration_1b</th>\n      <th>Duration_2a</th>\n      <th>Duration_2b</th>\n      <th>Duration_3a</th>\n      <th>Duration_3b</th>\n    </tr>\n  </thead>\n  <tbody>\n    <tr>\n      <th>0</th>\n      <td>1</td>\n      <td>1</td>\n      <td>1</td>\n      <td>0</td>\n      <td>0</td>\n      <td>1</td>\n      <td>1</td>\n      <td>28015</td>\n      <td>15516</td>\n      <td>54481</td>\n      <td>58697</td>\n      <td>56314</td>\n      <td>63897</td>\n    </tr>\n    <tr>\n      <th>1</th>\n      <td>2</td>\n      <td>1</td>\n      <td>1</td>\n      <td>1</td>\n      <td>1</td>\n      <td>0</td>\n      <td>1</td>\n      <td>66230</td>\n      <td>88463</td>\n      <td>42248</td>\n      <td>85329</td>\n      <td>47948</td>\n      <td>129427</td>\n    </tr>\n    <tr>\n      <th>2</th>\n      <td>3</td>\n      <td>1</td>\n      <td>1</td>\n      <td>1</td>\n      <td>1</td>\n      <td>0</td>\n      <td>0</td>\n      <td>68830</td>\n      <td>83963</td>\n      <td>45165</td>\n      <td>32732</td>\n      <td>8000</td>\n      <td>61197</td>\n    </tr>\n    <tr>\n      <th>3</th>\n      <td>4</td>\n      <td>1</td>\n      <td>1</td>\n      <td>1</td>\n      <td>1</td>\n      <td>1</td>\n      <td>0</td>\n      <td>46048</td>\n      <td>78446</td>\n      <td>12449</td>\n      <td>37715</td>\n      <td>60980</td>\n      <td>101795</td>\n    </tr>\n    <tr>\n      <th>4</th>\n      <td>5</td>\n      <td>1</td>\n      <td>1</td>\n      <td>1</td>\n      <td>1</td>\n      <td>1</td>\n      <td>1</td>\n      <td>67980</td>\n      <td>27582</td>\n      <td>55931</td>\n      <td>22132</td>\n      <td>34898</td>\n      <td>62930</td>\n    </tr>\n  </tbody>\n</table>\n</div>"
     },
     "execution_count": 2,
     "metadata": {},
     "output_type": "execute_result"
    }
   ],
   "source": [
    "df_corr = pd.read_csv('/Users/martasolarz/Studies/Thesis/data/correctness.csv',\n",
    "    usecols=['ID', '1a_corr', '1b_corr', '2a_corr', '2b_corr', '3a_corr', '3b_corr']\n",
    ")\n",
    "\n",
    "df_corr = df_corr[df_corr.ID != 6] # odrzucony uczestnik ze względu na metryki eye trackingowe\n",
    "\n",
    "df_time =  pd.read_csv('/Users/martasolarz/Studies/Thesis/data/metrics/times.csv',\n",
    "    usecols=['ID', 'Duration_1a', 'Duration_1b', 'Duration_2a', 'Duration_2b', 'Duration_3a', 'Duration_3b']\n",
    ")\n",
    "\n",
    "df_merge = df_corr.merge(df_time, on='ID')\n",
    "df_merge.head()"
   ],
   "metadata": {
    "collapsed": false,
    "ExecuteTime": {
     "end_time": "2023-10-14T17:31:56.828699Z",
     "start_time": "2023-10-14T17:31:56.813093Z"
    }
   },
   "id": "40c4849b55b1dcbc"
  },
  {
   "cell_type": "code",
   "execution_count": 3,
   "outputs": [
    {
     "data": {
      "text/plain": "             count       mean           std      min       25%      50%  \\\nDuration_1a   40.0  52403.675  18085.029493  28015.0  39714.50  52705.5   \nDuration_1b   40.0  50364.550  24844.453825  15516.0  30481.50  44781.0   \nDuration_2a   40.0  34225.000  23195.850356   8416.0  15745.00  27232.0   \nDuration_2b   40.0  55594.400  28714.159003  12066.0  33344.00  53205.5   \nDuration_3a   40.0  42925.775  22404.602238   8000.0  22594.75  39856.0   \nDuration_3b   40.0  80122.275  35611.747787  18282.0  56526.50  73571.0   \n\n                  75%       max  \nDuration_1a   62955.5  117478.0  \nDuration_1b   66255.0  112511.0  \nDuration_2a   45294.0   98295.0  \nDuration_2b   71830.0  121461.0  \nDuration_3a   57476.5  100562.0  \nDuration_3b  105428.0  144209.0  ",
      "text/html": "<div>\n<style scoped>\n    .dataframe tbody tr th:only-of-type {\n        vertical-align: middle;\n    }\n\n    .dataframe tbody tr th {\n        vertical-align: top;\n    }\n\n    .dataframe thead th {\n        text-align: right;\n    }\n</style>\n<table border=\"1\" class=\"dataframe\">\n  <thead>\n    <tr style=\"text-align: right;\">\n      <th></th>\n      <th>count</th>\n      <th>mean</th>\n      <th>std</th>\n      <th>min</th>\n      <th>25%</th>\n      <th>50%</th>\n      <th>75%</th>\n      <th>max</th>\n    </tr>\n  </thead>\n  <tbody>\n    <tr>\n      <th>Duration_1a</th>\n      <td>40.0</td>\n      <td>52403.675</td>\n      <td>18085.029493</td>\n      <td>28015.0</td>\n      <td>39714.50</td>\n      <td>52705.5</td>\n      <td>62955.5</td>\n      <td>117478.0</td>\n    </tr>\n    <tr>\n      <th>Duration_1b</th>\n      <td>40.0</td>\n      <td>50364.550</td>\n      <td>24844.453825</td>\n      <td>15516.0</td>\n      <td>30481.50</td>\n      <td>44781.0</td>\n      <td>66255.0</td>\n      <td>112511.0</td>\n    </tr>\n    <tr>\n      <th>Duration_2a</th>\n      <td>40.0</td>\n      <td>34225.000</td>\n      <td>23195.850356</td>\n      <td>8416.0</td>\n      <td>15745.00</td>\n      <td>27232.0</td>\n      <td>45294.0</td>\n      <td>98295.0</td>\n    </tr>\n    <tr>\n      <th>Duration_2b</th>\n      <td>40.0</td>\n      <td>55594.400</td>\n      <td>28714.159003</td>\n      <td>12066.0</td>\n      <td>33344.00</td>\n      <td>53205.5</td>\n      <td>71830.0</td>\n      <td>121461.0</td>\n    </tr>\n    <tr>\n      <th>Duration_3a</th>\n      <td>40.0</td>\n      <td>42925.775</td>\n      <td>22404.602238</td>\n      <td>8000.0</td>\n      <td>22594.75</td>\n      <td>39856.0</td>\n      <td>57476.5</td>\n      <td>100562.0</td>\n    </tr>\n    <tr>\n      <th>Duration_3b</th>\n      <td>40.0</td>\n      <td>80122.275</td>\n      <td>35611.747787</td>\n      <td>18282.0</td>\n      <td>56526.50</td>\n      <td>73571.0</td>\n      <td>105428.0</td>\n      <td>144209.0</td>\n    </tr>\n  </tbody>\n</table>\n</div>"
     },
     "execution_count": 3,
     "metadata": {},
     "output_type": "execute_result"
    }
   ],
   "source": [
    "df_merge[['Duration_1a', 'Duration_1b', 'Duration_2a', 'Duration_2b', 'Duration_3a', 'Duration_3b']].describe().T"
   ],
   "metadata": {
    "collapsed": false,
    "ExecuteTime": {
     "end_time": "2023-10-14T17:31:58.338223Z",
     "start_time": "2023-10-14T17:31:58.318751Z"
    }
   },
   "id": "bab9af325b3bf0da"
  },
  {
   "cell_type": "markdown",
   "source": [
    "Funkcje:"
   ],
   "metadata": {
    "collapsed": false
   },
   "id": "d1ad5b4db8c62f6e"
  },
  {
   "cell_type": "code",
   "execution_count": 4,
   "outputs": [],
   "source": [
    "def prepate_set(list_of_cols_czas, list_of_cols_popr):\n",
    "    new_row_czas = list_of_cols_czas[0]\n",
    "    for i in list_of_cols_czas[1:]:\n",
    "        new_row_czas = pd.concat([new_row_czas, i], ignore_index=True)\n",
    "\n",
    "    new_row_popr = list_of_cols_popr[0]\n",
    "    for i in list_of_cols_popr[1:]:\n",
    "        new_row_popr = pd.concat([new_row_popr, i], ignore_index=True)\n",
    "\n",
    "    df = pd.DataFrame({'poprawnosc': new_row_popr, 'czas': new_row_czas})\n",
    "    df['intercept'] = 1 # specjalna kolumna dla regresji logistycznej\n",
    "    \n",
    "    return df"
   ],
   "metadata": {
    "collapsed": false,
    "ExecuteTime": {
     "end_time": "2023-10-14T17:32:01.162662Z",
     "start_time": "2023-10-14T17:32:01.153597Z"
    }
   },
   "id": "5bd6bbfeb48bd6c"
  },
  {
   "cell_type": "code",
   "execution_count": 16,
   "outputs": [],
   "source": [
    "def conduct_logistic_regression(df):\n",
    "    X = df[['czas']] # zmienne niezależne\n",
    "    y = df['poprawnosc'] # zmienna zależna\n",
    "\n",
    "    # Tworzenie modelu regresji logistycznej\n",
    "    model = sm.Logit(y, X)\n",
    "\n",
    "    # Dopasowanie modelu\n",
    "    result = model.fit()\n",
    "    \n",
    "    print(result.summary())\n",
    "    \n",
    "    print(result.pvalues)"
   ],
   "metadata": {
    "collapsed": false,
    "ExecuteTime": {
     "end_time": "2023-10-14T17:38:22.533579Z",
     "start_time": "2023-10-14T17:38:22.525186Z"
    }
   },
   "id": "e88b058fdcb1513a"
  },
  {
   "cell_type": "markdown",
   "source": [
    "a) wszystkie grafiki"
   ],
   "metadata": {
    "collapsed": false
   },
   "id": "1c5dc5f31439d071"
  },
  {
   "cell_type": "code",
   "execution_count": 13,
   "outputs": [],
   "source": [
    "popr = []\n",
    "for col in df_merge.columns.tolist():\n",
    "    if col.endswith('corr'):\n",
    "        popr.append(df_merge[col])\n",
    "\n",
    "czas = []\n",
    "for col in df_merge.columns.tolist():\n",
    "    if col.startswith('Duration'):\n",
    "        czas.append(df_merge[col])\n",
    "        \n",
    "df = prepate_set(czas, popr)\n",
    "df.tail()"
   ],
   "metadata": {
    "collapsed": false,
    "ExecuteTime": {
     "end_time": "2023-10-14T17:37:12.258929Z",
     "start_time": "2023-10-14T17:37:12.253645Z"
    }
   },
   "id": "468354a8d7c139d4"
  },
  {
   "cell_type": "code",
   "execution_count": 9,
   "outputs": [
    {
     "data": {
      "text/plain": "count       240.000000\nmean      52605.945833\nstd       29437.719595\nmin        8000.000000\n25%       30969.000000\n50%       47589.000000\n75%       68163.500000\nmax      144209.000000\nName: czas, dtype: float64"
     },
     "execution_count": 9,
     "metadata": {},
     "output_type": "execute_result"
    }
   ],
   "source": [
    "df['czas'].describe()"
   ],
   "metadata": {
    "collapsed": false,
    "ExecuteTime": {
     "end_time": "2023-10-14T17:32:26.142620Z",
     "start_time": "2023-10-14T17:32:26.136218Z"
    }
   },
   "id": "95cefe27d89a24c3"
  },
  {
   "cell_type": "code",
   "execution_count": 14,
   "outputs": [
    {
     "data": {
      "text/plain": "     poprawnosc    czas  intercept\n235           1   55214          1\n236           0  113828          1\n237           0   93112          1\n238           0   35898          1\n239           0  119944          1",
      "text/html": "<div>\n<style scoped>\n    .dataframe tbody tr th:only-of-type {\n        vertical-align: middle;\n    }\n\n    .dataframe tbody tr th {\n        vertical-align: top;\n    }\n\n    .dataframe thead th {\n        text-align: right;\n    }\n</style>\n<table border=\"1\" class=\"dataframe\">\n  <thead>\n    <tr style=\"text-align: right;\">\n      <th></th>\n      <th>poprawnosc</th>\n      <th>czas</th>\n      <th>intercept</th>\n    </tr>\n  </thead>\n  <tbody>\n    <tr>\n      <th>235</th>\n      <td>1</td>\n      <td>55214</td>\n      <td>1</td>\n    </tr>\n    <tr>\n      <th>236</th>\n      <td>0</td>\n      <td>113828</td>\n      <td>1</td>\n    </tr>\n    <tr>\n      <th>237</th>\n      <td>0</td>\n      <td>93112</td>\n      <td>1</td>\n    </tr>\n    <tr>\n      <th>238</th>\n      <td>0</td>\n      <td>35898</td>\n      <td>1</td>\n    </tr>\n    <tr>\n      <th>239</th>\n      <td>0</td>\n      <td>119944</td>\n      <td>1</td>\n    </tr>\n  </tbody>\n</table>\n</div>"
     },
     "execution_count": 14,
     "metadata": {},
     "output_type": "execute_result"
    }
   ],
   "source": [
    "conduct_logistic_regression(df)"
   ],
   "metadata": {
    "collapsed": false,
    "ExecuteTime": {
     "end_time": "2023-10-14T17:37:34.951599Z",
     "start_time": "2023-10-14T17:37:34.945504Z"
    }
   },
   "id": "9411df38cb601971"
  },
  {
   "cell_type": "code",
   "execution_count": 15,
   "outputs": [
    {
     "data": {
      "text/plain": "count       240.000000\nmean      52605.945833\nstd       29437.719595\nmin        8000.000000\n25%       30969.000000\n50%       47589.000000\n75%       68163.500000\nmax      144209.000000\nName: czas, dtype: float64"
     },
     "execution_count": 15,
     "metadata": {},
     "output_type": "execute_result"
    }
   ],
   "source": [],
   "metadata": {
    "collapsed": false,
    "ExecuteTime": {
     "end_time": "2023-10-14T17:37:35.053980Z",
     "start_time": "2023-10-14T17:37:35.032930Z"
    }
   },
   "id": "55ef880b1d01a153"
  }
 ],
 "metadata": {
  "kernelspec": {
   "display_name": "Python 3",
   "language": "python",
   "name": "python3"
  },
  "language_info": {
   "codemirror_mode": {
    "name": "ipython",
    "version": 2
   },
   "file_extension": ".py",
   "mimetype": "text/x-python",
   "name": "python",
   "nbconvert_exporter": "python",
   "pygments_lexer": "ipython2",
   "version": "2.7.6"
  }
 },
 "nbformat": 4,
 "nbformat_minor": 5
}
