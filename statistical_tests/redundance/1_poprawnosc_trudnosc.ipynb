{
 "cells": [
  {
   "cell_type": "markdown",
   "source": [
    "# Temat testów\n",
    "\n",
    "1. Poprawność\n",
    "\n",
    "HO: Brak istotnej statystycznie różnicy w poprawności odpowiedzi między grupami grafik A i B.\n",
    "\n",
    "H1:  Istnieje istotna statystycznie różnica w poprawności odpowiedzi między grupami grafik A i B.\n",
    "\n",
    "2. Trudność\n",
    "\n",
    "HO: Brak istotnej statystycznie różnicy w trudności zadania między grupami grafik A i B.\n",
    "\n",
    "H1:  Istnieje istotna statystycznie różnica w trudności zadania między grupami grafik A i B.\n",
    "\n",
    "3. Czas odpowiedzi\n",
    "\n",
    "HO: Brak istotnej statystycznie różnicy w czasie odpowiedzi między grupami grafik A i B.\n",
    "\n",
    "H1:  Istnieje istotna statystycznie różnica w czasie odpowiedzi między grupami grafik A i B.\n",
    "\n",
    "Poziom istotności: $\\alpha=0.05$"
   ],
   "metadata": {
    "collapsed": false
   },
   "id": "dc594eceb56239b7"
  },
  {
   "cell_type": "code",
   "execution_count": 1,
   "outputs": [],
   "source": [
    "import pandas as pd\n",
    "\n",
    "from functions.tests.dependent_groups import wilcoxon_test, ttest_or_wilcoxon, mcnemar_test\n",
    "from functions.plots import plot_heatmap\n",
    "from functions.set_preparations import prepare_row"
   ],
   "metadata": {
    "collapsed": false,
    "ExecuteTime": {
     "end_time": "2023-10-31T23:09:22.462046Z",
     "start_time": "2023-10-31T23:09:20.984836Z"
    }
   },
   "id": "initial_id"
  },
  {
   "cell_type": "code",
   "execution_count": 17,
   "outputs": [],
   "source": [
    "df_answers = pd.read_csv('/Users/martasolarz/Studies/Thesis/Master_thesis/prepare_datasets/sets/correctness.csv', index_col='ID')\n",
    "\n",
    "df_time = pd.read_csv('/Users/martasolarz/Studies/Thesis/Master_thesis/prepare_datasets/sets/times.csv', index_col='ID')"
   ],
   "metadata": {
    "collapsed": false,
    "ExecuteTime": {
     "end_time": "2023-10-31T23:12:14.224481Z",
     "start_time": "2023-10-31T23:12:14.213807Z"
    }
   },
   "id": "e5697be5b4d2d4f6"
  },
  {
   "cell_type": "markdown",
   "source": [
    "Sety:\n",
    "- kolekcja A vs kolekcja B\n",
    "- suma A vs suma B\n",
    "- 1a vs 1b\n",
    "- 2a vs 2b\n",
    "- 3a vs 3b"
   ],
   "metadata": {
    "collapsed": false
   },
   "id": "62f4eddd763aeced"
  },
  {
   "cell_type": "code",
   "execution_count": 24,
   "outputs": [
    {
     "data": {
      "text/plain": "   corr_A  corr_B  diff_A  diff_B  time_A  time_B\n0       1       1       3       1   34682   96628\n1       1       1       1       2   53564   33598\n2       1       1       2       1   85546   33632\n3       1       1       3       2   61197   30882\n4       1       1       4       2   42031   30282",
      "text/html": "<div>\n<style scoped>\n    .dataframe tbody tr th:only-of-type {\n        vertical-align: middle;\n    }\n\n    .dataframe tbody tr th {\n        vertical-align: top;\n    }\n\n    .dataframe thead th {\n        text-align: right;\n    }\n</style>\n<table border=\"1\" class=\"dataframe\">\n  <thead>\n    <tr style=\"text-align: right;\">\n      <th></th>\n      <th>corr_A</th>\n      <th>corr_B</th>\n      <th>diff_A</th>\n      <th>diff_B</th>\n      <th>time_A</th>\n      <th>time_B</th>\n    </tr>\n  </thead>\n  <tbody>\n    <tr>\n      <th>0</th>\n      <td>1</td>\n      <td>1</td>\n      <td>3</td>\n      <td>1</td>\n      <td>34682</td>\n      <td>96628</td>\n    </tr>\n    <tr>\n      <th>1</th>\n      <td>1</td>\n      <td>1</td>\n      <td>1</td>\n      <td>2</td>\n      <td>53564</td>\n      <td>33598</td>\n    </tr>\n    <tr>\n      <th>2</th>\n      <td>1</td>\n      <td>1</td>\n      <td>2</td>\n      <td>1</td>\n      <td>85546</td>\n      <td>33632</td>\n    </tr>\n    <tr>\n      <th>3</th>\n      <td>1</td>\n      <td>1</td>\n      <td>3</td>\n      <td>2</td>\n      <td>61197</td>\n      <td>30882</td>\n    </tr>\n    <tr>\n      <th>4</th>\n      <td>1</td>\n      <td>1</td>\n      <td>4</td>\n      <td>2</td>\n      <td>42031</td>\n      <td>30282</td>\n    </tr>\n  </tbody>\n</table>\n</div>"
     },
     "execution_count": 24,
     "metadata": {},
     "output_type": "execute_result"
    }
   ],
   "source": [
    "# przygotowanie kolekcji - reszta setów już jest\n",
    "corrA = prepare_row(df_answers.filter(regex='.*a_corr$'))\n",
    "confA = prepare_row(df_answers.filter(regex='.*a_trud$'))\n",
    "timeA = prepare_row(df_time.filter(regex='^Duration.*a'))\n",
    "corrB = prepare_row(df_answers.filter(regex='.*b_corr$'))\n",
    "confB = prepare_row(df_answers.filter(regex='.*b_trud$'))\n",
    "timeB = prepare_row(df_time.filter(regex='^Duration.*b'))\n",
    "df_coll = pd.DataFrame({'corr_A': corrA, 'corr_B': corrB, 'diff_A': confA, 'diff_B': confB, 'time_A': timeA, 'time_B': timeB})\n",
    "\n",
    "df_coll.head()"
   ],
   "metadata": {
    "collapsed": false,
    "ExecuteTime": {
     "end_time": "2023-10-31T23:15:47.992692Z",
     "start_time": "2023-10-31T23:15:47.985471Z"
    }
   },
   "id": "e4eecd4f9002259d"
  },
  {
   "cell_type": "code",
   "execution_count": 25,
   "outputs": [],
   "source": [
    "ALPHA = 0.05"
   ],
   "metadata": {
    "collapsed": false,
    "ExecuteTime": {
     "end_time": "2023-10-31T23:15:52.811606Z",
     "start_time": "2023-10-31T23:15:52.805890Z"
    }
   },
   "id": "4d2456479d02db5d"
  },
  {
   "cell_type": "markdown",
   "source": [
    "Poprawność A vs B"
   ],
   "metadata": {
    "collapsed": false
   },
   "id": "84c3e8343649b0e5"
  },
  {
   "cell_type": "code",
   "execution_count": 26,
   "outputs": [
    {
     "name": "stdout",
     "output_type": "stream",
     "text": [
      "corr_B   0   1\n",
      "corr_A        \n",
      "0       22  13\n",
      "1       14  71\n",
      "McNemar statistic: 13.0\n",
      "p-value: 1.0\n",
      "Brak podstaw do odrzucenia H0.\n"
     ]
    }
   ],
   "source": [
    "# kolekcje\n",
    "var1 = 'corr_A'\n",
    "var2 = 'corr_B'\n",
    "label1 = 'Poprawność - grafiki A'\n",
    "mcnemar_test(df_coll, var1, var2, ALPHA)"
   ],
   "metadata": {
    "collapsed": false,
    "ExecuteTime": {
     "end_time": "2023-10-31T23:15:54.789533Z",
     "start_time": "2023-10-31T23:15:54.781471Z"
    }
   },
   "id": "5f21c4d4b81aa011"
  },
  {
   "cell_type": "code",
   "execution_count": 27,
   "outputs": [
    {
     "name": "stdout",
     "output_type": "stream",
     "text": [
      "SumCorr_b  0  1  2  3\n",
      "SumCorr_a            \n",
      "0          1  0  0  0\n",
      "1          0  3  5  0\n",
      "2          0  3  8  5\n",
      "3          0  0  8  7\n",
      "McNemar statistic: 0.0\n",
      "p-value: 1.0\n",
      "Brak podstaw do odrzucenia H0.\n"
     ]
    }
   ],
   "source": [
    "# sumy\n",
    "var1 = 'SumCorr_a'\n",
    "var2 = 'SumCorr_b'\n",
    "mcnemar_test(df_answers, var1, var2, ALPHA)"
   ],
   "metadata": {
    "collapsed": false,
    "ExecuteTime": {
     "end_time": "2023-10-31T23:15:55.472344Z",
     "start_time": "2023-10-31T23:15:55.466977Z"
    }
   },
   "id": "1f665a91b5f7719d"
  },
  {
   "cell_type": "code",
   "execution_count": 28,
   "outputs": [
    {
     "name": "stdout",
     "output_type": "stream",
     "text": [
      "1b_corr  0   1\n",
      "1a_corr       \n",
      "0        2   3\n",
      "1        1  34\n",
      "McNemar statistic: 1.0\n",
      "p-value: 0.625\n",
      "Brak podstaw do odrzucenia H0.\n"
     ]
    }
   ],
   "source": [
    "# 1\n",
    "var1 = '1a_corr'\n",
    "var2 = '1b_corr'\n",
    "mcnemar_test(df_answers, var1, var2, ALPHA)"
   ],
   "metadata": {
    "collapsed": false,
    "ExecuteTime": {
     "end_time": "2023-10-31T23:15:55.887504Z",
     "start_time": "2023-10-31T23:15:55.884226Z"
    }
   },
   "id": "d865c08108d47062"
  },
  {
   "cell_type": "code",
   "execution_count": 29,
   "outputs": [
    {
     "name": "stdout",
     "output_type": "stream",
     "text": [
      "2b_corr  0   1\n",
      "2a_corr       \n",
      "0        8   4\n",
      "1        3  25\n",
      "McNemar statistic: 3.0\n",
      "p-value: 1.0\n",
      "Brak podstaw do odrzucenia H0.\n"
     ]
    }
   ],
   "source": [
    "# 2\n",
    "var1 = '2a_corr'\n",
    "var2 = '2b_corr'\n",
    "mcnemar_test(df_answers, var1, var2, ALPHA)"
   ],
   "metadata": {
    "collapsed": false,
    "ExecuteTime": {
     "end_time": "2023-10-31T23:15:56.354811Z",
     "start_time": "2023-10-31T23:15:56.350133Z"
    }
   },
   "id": "62fbb61c25d3bfe9"
  },
  {
   "cell_type": "code",
   "execution_count": 30,
   "outputs": [
    {
     "name": "stdout",
     "output_type": "stream",
     "text": [
      "3b_corr   0   1\n",
      "3a_corr        \n",
      "0        12   6\n",
      "1        10  12\n",
      "McNemar statistic: 6.0\n",
      "p-value: 0.454498291015625\n",
      "Brak podstaw do odrzucenia H0.\n"
     ]
    }
   ],
   "source": [
    "# 3\n",
    "var1 = '3a_corr'\n",
    "var2 = '3b_corr'\n",
    "mcnemar_test(df_answers, var1, var2, ALPHA)"
   ],
   "metadata": {
    "collapsed": false,
    "ExecuteTime": {
     "end_time": "2023-10-31T23:15:56.791891Z",
     "start_time": "2023-10-31T23:15:56.780510Z"
    }
   },
   "id": "e0b3743eb04ff8a1"
  },
  {
   "cell_type": "markdown",
   "source": [
    "Trudność - A vs B"
   ],
   "metadata": {
    "collapsed": false
   },
   "id": "16e4a51bfb166b7"
  },
  {
   "cell_type": "code",
   "execution_count": 31,
   "outputs": [
    {
     "name": "stdout",
     "output_type": "stream",
     "text": [
      "Wilcoxon statistic: 1584.5\n",
      "p-value: 0.5745636497346267\n",
      "Brak podstaw do odrzucenia H0.\n"
     ]
    }
   ],
   "source": [
    "# kolekcje\n",
    "var1 = 'diff_A'\n",
    "var2 = 'diff_B'\n",
    "wilcoxon_test([df_coll[var1], df_coll[var2]], ALPHA)"
   ],
   "metadata": {
    "collapsed": false,
    "ExecuteTime": {
     "end_time": "2023-10-31T23:16:03.047186Z",
     "start_time": "2023-10-31T23:16:03.041570Z"
    }
   },
   "id": "a9f0ea2d2ab6131e"
  },
  {
   "cell_type": "code",
   "execution_count": 32,
   "outputs": [
    {
     "name": "stdout",
     "output_type": "stream",
     "text": [
      "Wilcoxon statistic: 197.5\n",
      "p-value: 0.47293064949196106\n",
      "Brak podstaw do odrzucenia H0.\n"
     ]
    },
    {
     "name": "stderr",
     "output_type": "stream",
     "text": [
      "/Library/Frameworks/Python.framework/Versions/3.11/lib/python3.11/site-packages/scipy/stats/_morestats.py:4088: UserWarning: Exact p-value calculation does not work if there are zeros. Switching to normal approximation.\n",
      "  warnings.warn(\"Exact p-value calculation does not work if there are \"\n"
     ]
    }
   ],
   "source": [
    "# sumy\n",
    "var1 = 'SumTrud_a'\n",
    "var2 = 'SumTrud_b'\n",
    "wilcoxon_test([df_answers[var1], df_answers[var2]], ALPHA)"
   ],
   "metadata": {
    "collapsed": false,
    "ExecuteTime": {
     "end_time": "2023-10-31T23:16:03.623562Z",
     "start_time": "2023-10-31T23:16:03.604263Z"
    }
   },
   "id": "efbc0935fa93a477"
  },
  {
   "cell_type": "code",
   "execution_count": 33,
   "outputs": [
    {
     "name": "stdout",
     "output_type": "stream",
     "text": [
      "Wilcoxon statistic: 121.0\n",
      "p-value: 0.009446658584125115\n",
      "\u001B[31mIstnieją podstawy do odrzucenia H0, przyjmujemy hipotezę H1.\u001B[0m\n"
     ]
    },
    {
     "name": "stderr",
     "output_type": "stream",
     "text": [
      "/Library/Frameworks/Python.framework/Versions/3.11/lib/python3.11/site-packages/scipy/stats/_morestats.py:4088: UserWarning: Exact p-value calculation does not work if there are zeros. Switching to normal approximation.\n",
      "  warnings.warn(\"Exact p-value calculation does not work if there are \"\n"
     ]
    }
   ],
   "source": [
    "# 1\n",
    "var1 = '1a_trud'\n",
    "var2 = '1b_trud'\n",
    "wilcoxon_test([df_answers[var1], df_answers[var2]], ALPHA)"
   ],
   "metadata": {
    "collapsed": false,
    "ExecuteTime": {
     "end_time": "2023-10-31T23:16:04.208064Z",
     "start_time": "2023-10-31T23:16:04.200408Z"
    }
   },
   "id": "d6bbc99e8dfbe2a4"
  },
  {
   "cell_type": "code",
   "execution_count": 34,
   "outputs": [
    {
     "name": "stdout",
     "output_type": "stream",
     "text": [
      "Wilcoxon statistic: 149.0\n",
      "p-value: 0.32824331181008215\n",
      "Brak podstaw do odrzucenia H0.\n"
     ]
    },
    {
     "name": "stderr",
     "output_type": "stream",
     "text": [
      "/Library/Frameworks/Python.framework/Versions/3.11/lib/python3.11/site-packages/scipy/stats/_morestats.py:4088: UserWarning: Exact p-value calculation does not work if there are zeros. Switching to normal approximation.\n",
      "  warnings.warn(\"Exact p-value calculation does not work if there are \"\n"
     ]
    }
   ],
   "source": [
    "# 2\n",
    "var1 = '2a_trud'\n",
    "var2 = '2b_trud'\n",
    "wilcoxon_test([df_answers[var1], df_answers[var2]], ALPHA)"
   ],
   "metadata": {
    "collapsed": false,
    "ExecuteTime": {
     "end_time": "2023-10-31T23:16:04.694212Z",
     "start_time": "2023-10-31T23:16:04.685571Z"
    }
   },
   "id": "b6381be4a8283a13"
  },
  {
   "cell_type": "code",
   "execution_count": 35,
   "outputs": [
    {
     "name": "stdout",
     "output_type": "stream",
     "text": [
      "Wilcoxon statistic: 45.0\n",
      "p-value: 0.001759249396365463\n",
      "\u001B[31mIstnieją podstawy do odrzucenia H0, przyjmujemy hipotezę H1.\u001B[0m\n"
     ]
    },
    {
     "name": "stderr",
     "output_type": "stream",
     "text": [
      "/Library/Frameworks/Python.framework/Versions/3.11/lib/python3.11/site-packages/scipy/stats/_morestats.py:4088: UserWarning: Exact p-value calculation does not work if there are zeros. Switching to normal approximation.\n",
      "  warnings.warn(\"Exact p-value calculation does not work if there are \"\n"
     ]
    }
   ],
   "source": [
    "# 3\n",
    "var1 = '3a_trud'\n",
    "var2 = '3b_trud'\n",
    "wilcoxon_test([df_answers[var1], df_answers[var2]], ALPHA)"
   ],
   "metadata": {
    "collapsed": false,
    "ExecuteTime": {
     "end_time": "2023-10-31T23:16:06.183262Z",
     "start_time": "2023-10-31T23:16:06.176726Z"
    }
   },
   "id": "451800d99bb353a3"
  },
  {
   "cell_type": "markdown",
   "source": [
    "Czas - A vs B"
   ],
   "metadata": {
    "collapsed": false
   },
   "id": "50d1567d8f7e93ca"
  },
  {
   "cell_type": "code",
   "execution_count": 38,
   "outputs": [
    {
     "name": "stdout",
     "output_type": "stream",
     "text": [
      "Conducting normality test...\n",
      "Conducting Wilcoxon test...\n",
      "Wilcoxon statistic: 1580.5\n",
      "p-value: 8.047291306218659e-08\n",
      "\u001B[31mIstnieją podstawy do odrzucenia H0, przyjmujemy hipotezę H1.\u001B[0m\n"
     ]
    }
   ],
   "source": [
    "# kolekcje\n",
    "var1 = 'time_A'\n",
    "var2 = 'time_B'\n",
    "ttest_or_wilcoxon(df_coll, var1, var2, ALPHA)"
   ],
   "metadata": {
    "collapsed": false,
    "ExecuteTime": {
     "end_time": "2023-10-31T23:17:03.558739Z",
     "start_time": "2023-10-31T23:17:03.550292Z"
    }
   },
   "id": "5b18698f3166411e"
  },
  {
   "cell_type": "code",
   "execution_count": 42,
   "outputs": [
    {
     "name": "stdout",
     "output_type": "stream",
     "text": [
      "Conducting normality test...\n",
      "Conducting homogeneity variance test...\n",
      "Conducting Wilcoxon test...\n",
      "Wilcoxon statistic: 78.0\n",
      "p-value: 1.1621450539678335e-06\n",
      "\u001B[31mIstnieją podstawy do odrzucenia H0, przyjmujemy hipotezę H1.\u001B[0m\n"
     ]
    }
   ],
   "source": [
    "# sumy\n",
    "var1 = 'SumTime_a'\n",
    "var2 = 'SumTime_b'\n",
    "ttest_or_wilcoxon(df_time, var1, var2, ALPHA)"
   ],
   "metadata": {
    "collapsed": false,
    "ExecuteTime": {
     "end_time": "2023-10-31T23:18:01.543964Z",
     "start_time": "2023-10-31T23:18:01.535702Z"
    }
   },
   "id": "e50dd56ee527c340"
  },
  {
   "cell_type": "code",
   "execution_count": 43,
   "outputs": [
    {
     "name": "stdout",
     "output_type": "stream",
     "text": [
      "Conducting normality test...\n",
      "Conducting Wilcoxon test...\n",
      "Wilcoxon statistic: 364.0\n",
      "p-value: 0.5448004511072213\n",
      "Brak podstaw do odrzucenia H0.\n"
     ]
    }
   ],
   "source": [
    "# 1\n",
    "var1 = 'Duration_1a'\n",
    "var2 = 'Duration_1b'\n",
    "ttest_or_wilcoxon(df_time, var1, var2, ALPHA)"
   ],
   "metadata": {
    "collapsed": false,
    "ExecuteTime": {
     "end_time": "2023-10-31T23:18:29.877367Z",
     "start_time": "2023-10-31T23:18:29.852147Z"
    }
   },
   "id": "a365c6bc53c046f0"
  },
  {
   "cell_type": "code",
   "execution_count": 44,
   "outputs": [
    {
     "name": "stdout",
     "output_type": "stream",
     "text": [
      "Conducting normality test...\n",
      "Conducting Wilcoxon test...\n",
      "Wilcoxon statistic: 133.0\n",
      "p-value: 9.446514923183713e-05\n",
      "\u001B[31mIstnieją podstawy do odrzucenia H0, przyjmujemy hipotezę H1.\u001B[0m\n"
     ]
    }
   ],
   "source": [
    "# 2\n",
    "var1 = 'Duration_2a'\n",
    "var2 = 'Duration_2b'\n",
    "ttest_or_wilcoxon(df_time, var1, var2, ALPHA)"
   ],
   "metadata": {
    "collapsed": false,
    "ExecuteTime": {
     "end_time": "2023-10-31T23:18:39.684764Z",
     "start_time": "2023-10-31T23:18:39.659910Z"
    }
   },
   "id": "de0d06ee2f4cdeee"
  },
  {
   "cell_type": "code",
   "execution_count": 45,
   "outputs": [
    {
     "name": "stdout",
     "output_type": "stream",
     "text": [
      "Conducting normality test...\n",
      "Conducting homogeneity variance test...\n",
      "Conducting Wilcoxon test...\n",
      "Wilcoxon statistic: 34.0\n",
      "p-value: 6.775735528208315e-09\n",
      "\u001B[31mIstnieją podstawy do odrzucenia H0, przyjmujemy hipotezę H1.\u001B[0m\n"
     ]
    }
   ],
   "source": [
    "# 3\n",
    "var1 = 'Duration_3a'\n",
    "var2 = 'Duration_3b'\n",
    "ttest_or_wilcoxon(df_time, var1, var2, ALPHA)"
   ],
   "metadata": {
    "collapsed": false,
    "ExecuteTime": {
     "end_time": "2023-10-31T23:18:47.132461Z",
     "start_time": "2023-10-31T23:18:47.107505Z"
    }
   },
   "id": "4db6cd3826adb70a"
  },
  {
   "cell_type": "markdown",
   "source": [
    "Podsumowanie:\n",
    "Istotna różnica statystyczna występuje w:\n",
    "- ocenie trudności zadania: między grupami 1a vs 1b oraz 3a vs 3b\n",
    "- czasie odpowiedzi: między grupami kolekcja A vs kolekcja B, suma A vs suma B, 2a vs 2b, 3a vs 3b"
   ],
   "metadata": {
    "collapsed": false
   },
   "id": "8c2ac1f152d1fc5c"
  },
  {
   "cell_type": "code",
   "execution_count": null,
   "outputs": [],
   "source": [],
   "metadata": {
    "collapsed": false
   },
   "id": "d4b0fca9cd7b8927"
  }
 ],
 "metadata": {
  "kernelspec": {
   "display_name": "Python 3",
   "language": "python",
   "name": "python3"
  },
  "language_info": {
   "codemirror_mode": {
    "name": "ipython",
    "version": 2
   },
   "file_extension": ".py",
   "mimetype": "text/x-python",
   "name": "python",
   "nbconvert_exporter": "python",
   "pygments_lexer": "ipython2",
   "version": "2.7.6"
  }
 },
 "nbformat": 4,
 "nbformat_minor": 5
}
