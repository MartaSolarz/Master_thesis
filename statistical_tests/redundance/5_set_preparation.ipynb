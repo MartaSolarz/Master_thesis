{
 "cells": [
  {
   "cell_type": "code",
   "execution_count": 121,
   "id": "initial_id",
   "metadata": {
    "collapsed": true,
    "ExecuteTime": {
     "end_time": "2023-11-08T16:45:15.174045Z",
     "start_time": "2023-11-08T16:45:15.161568Z"
    }
   },
   "outputs": [],
   "source": [
    "import pandas as pd\n",
    "from statsmodels.regression.mixed_linear_model import MixedLM\n",
    "import statsmodels.api as sm\n",
    "from statsmodels.formula.api import ols\n",
    "from functions.others import choose_dominant_kind, replace_to_categories\n",
    "from functions.tests.helper import make_decision"
   ]
  },
  {
   "cell_type": "code",
   "execution_count": 106,
   "outputs": [],
   "source": [
    "df_answers = pd.read_csv('/Users/martasolarz/Studies/Thesis/Master_thesis/prepare_datasets/sets/correctness.csv')\n",
    "\n",
    "df_survey = pd.read_csv(\n",
    "    '/Users/martasolarz/Studies/Thesis/data/survey.csv',\n",
    ").fillna('NO_VAL')\n",
    "\n",
    "df_survey = df_survey[df_survey.ID != 6] \n",
    "\n",
    "df_survey['MAT'] = df_survey['MAT_roz'].apply(lambda x: x if x == 'NO_VAL' else 'VAL')\n",
    "df_survey['POL'] = df_survey['JP_roz'].apply(lambda x: x if x == 'NO_VAL' else 'VAL')\n",
    "df_survey['HIST'] = df_survey['HIST_roz'].apply(lambda x: x if x == 'NO_VAL' else 'VAL')\n",
    "df_survey['Typ_uczenia'] = df_survey.apply(choose_dominant_kind, axis=1)\n",
    "df_survey['Kierunek_studiów'] = df_survey['Kierunek_studiów'].apply(lambda x: 'MISMaP Geografia' if x == 'Geografia, w ramach studiów międzyobszarowych' else x)\n",
    "df_survey['Samopocz'] = df_survey['Samopocz'].apply(replace_to_categories)\n",
    "df_survey['Stres'] = df_survey['Stres'].apply(replace_to_categories)\n",
    "df_survey['Zmęcz'] = df_survey['Zmęcz'].apply(replace_to_categories)\n",
    "df_survey['Czyt_map'] = df_survey['Czyt_map'].apply(replace_to_categories)\n",
    "df_survey['Podziel_uwg'] = df_survey['Podziel_uwg'].apply(replace_to_categories)\n",
    "df_survey['Analit_myśl'] = df_survey['Analit_myśl'].apply(replace_to_categories)\n",
    "df_survey['Spostrzeg'] = df_survey['Spostrzeg'].apply(replace_to_categories)\n",
    "df_survey['Czyt_ze_zroz'] = df_survey['Czyt_ze_zroz'].apply(replace_to_categories)\n",
    "\n",
    "df_survey.drop(columns=['Daltonizm', 'JP_podst', 'MAT_podst', 'JP_roz', 'MAT_roz', 'FIZ_roz', 'HIST_roz', 'Wzrokowiec', 'Słuchowiec', 'Kinestetyk', 'Quest1_after', 'Quest2_after', 'Rank_map', 'Rank_plt', 'Rank_tab', 'Rank_txt', 'Data', 'Godzina'], inplace=True)\n",
    "\n",
    "df_quest = pd.read_csv(\n",
    "    '/Users/martasolarz/Studies/Thesis/Master_thesis/prepare_datasets/sets/quest12.csv', usecols=['ID', 'Quest1_before', 'Quest2_before', 'Quest1_after', 'Quest2_after', 'is_change_1', 'is_change_2'], index_col='ID')\n",
    "\n",
    "df_time = pd.read_csv('/Users/martasolarz/Studies/Thesis/Master_thesis/prepare_datasets/sets/times.csv', index_col='ID')\n",
    "\n",
    "df_variables = df_survey.join(df_quest, on='ID')"
   ],
   "metadata": {
    "collapsed": false,
    "ExecuteTime": {
     "end_time": "2023-11-08T16:41:03.037844Z",
     "start_time": "2023-11-08T16:41:03.021126Z"
    }
   },
   "id": "d6c10975872eae30"
  },
  {
   "cell_type": "code",
   "execution_count": 107,
   "outputs": [
    {
     "data": {
      "text/plain": "    ID Płeć  Rok_urodzenia         Kierunek_studiów  Rok_studiów Specjalność  \\\n0    1    M           2002         MISMaP Geografia            2    SPOŁ-EKO   \n1    2    M           2003  Gospodarka przestrzenna            1      NO_VAL   \n2    3    M           2001                Geografia            3     GEOINF    \n3    4    K           2000                Geografia            3     GEOINF    \n4    5    K           2002                Geografia            3     GEOINF    \n6    7    K           2001         MISMaP Geografia            3     GEOINF    \n7   11    M           2003                Geografia            1     GEOINF    \n8   12    K           2003                Geografia            1        FIZ    \n9   13    K           2004                Geografia            1        FIZ    \n10  14    M           2002         MISMaP Geografia            2     GEOINF    \n11  15    K           2002                Geografia            2    SPOŁ-EKO   \n12  16    M           2002                Geografia            2     GEOINF    \n13  17    K           2002                Geografia            2     GEOINF    \n14  18    K           2002  Gospodarka przestrzenna            1      NO_VAL   \n15  19    M           2003  Gospodarka przestrzenna            1      NO_VAL   \n16  20    K           2003                Geografia            1    SPOŁ-EKO   \n17  21    M           2002                Geografia            2        FIZ    \n18  22    K           2002                Geografia            2     GEOINF    \n19  23    M           2003                Geografia            1    SPOŁ-EKO   \n20  24    M           2004                Geografia            1     GEOINF    \n21  25    K           2001                Geografia            1        FIZ    \n22  26    K           2003                Geografia            1        FIZ    \n23  27    K           2001  Gospodarka przestrzenna            3      NO_VAL   \n24  29    M           2003                Geografia            1    SPOŁ-EKO   \n25  30    K           2001                Geografia            3     GEOINF    \n26  31    K           2001                Geografia            3     GEOINF    \n27  32    K           2001                Geografia            3     GEOINF    \n28  33    M           2003                Geografia            1     GEOINF    \n29  34    M           2002                Geografia            2     GEOINF    \n30  35    M           2001                Geografia            3     GEOINF    \n31  37    K           2003                Geografia            1    SPOŁ-EKO   \n32  38    K           2004                Geografia            1        FIZ    \n33  39    K           2003                Geografia            1     GEOINF    \n34  40    K           2003                Geografia            1    SPOŁ-EKO   \n35  41    M           2003                Geografia            1    SPOŁ-EKO   \n36  42    K           2003                Geografia            1        FIZ    \n37  43    M           2003  Gospodarka przestrzenna            1      NO_VAL   \n38  44    K           2003                Geografia            1        FIZ    \n39  45    M           2003                Geografia            1     GEOINF    \n40  46    K           2002                Geografia            1        FIZ    \n\n    Wady_wzroku Ilość_snu Samopocz   Stres  ...     MAT     POL    HIST  \\\n0             0         6   wysoki   niski  ...     VAL     VAL  NO_VAL   \n1             1        <6   średni   niski  ...     VAL     VAL  NO_VAL   \n2             0         8   wysoki  średni  ...     VAL  NO_VAL  NO_VAL   \n3             0         8   wysoki   niski  ...  NO_VAL     VAL  NO_VAL   \n4             0         7   wysoki   niski  ...  NO_VAL  NO_VAL  NO_VAL   \n6             0         7   wysoki   niski  ...     VAL  NO_VAL     VAL   \n7             0        8<   wysoki   niski  ...  NO_VAL  NO_VAL  NO_VAL   \n8             0        8<    niski  średni  ...     VAL  NO_VAL  NO_VAL   \n9             0        8<   wysoki   niski  ...     VAL  NO_VAL  NO_VAL   \n10            1         6   średni  wysoki  ...     VAL  NO_VAL  NO_VAL   \n11            0         7   wysoki  średni  ...     VAL     VAL     VAL   \n12            1         7   wysoki  średni  ...     VAL  NO_VAL  NO_VAL   \n13            1         7   wysoki   niski  ...  NO_VAL     VAL  NO_VAL   \n14            1         6   średni  wysoki  ...     VAL  NO_VAL  NO_VAL   \n15            1        <6    niski   niski  ...     VAL  NO_VAL  NO_VAL   \n16            1        <6   średni  średni  ...  NO_VAL     VAL  NO_VAL   \n17            0        <6   wysoki   niski  ...  NO_VAL  NO_VAL     VAL   \n18            1         6   wysoki   niski  ...  NO_VAL  NO_VAL  NO_VAL   \n19            0         6   wysoki   niski  ...     VAL  NO_VAL  NO_VAL   \n20            1        <6   wysoki  średni  ...     VAL  NO_VAL  NO_VAL   \n21            1         6    niski  wysoki  ...  NO_VAL  NO_VAL  NO_VAL   \n22            1         6    niski  wysoki  ...     VAL  NO_VAL  NO_VAL   \n23            1         6   wysoki   niski  ...     VAL  NO_VAL  NO_VAL   \n24            1         6   wysoki  średni  ...  NO_VAL     VAL  NO_VAL   \n25            0        <6   wysoki  średni  ...     VAL  NO_VAL  NO_VAL   \n26            0        <6    niski  wysoki  ...  NO_VAL     VAL  NO_VAL   \n27            0         8   wysoki  średni  ...     VAL  NO_VAL  NO_VAL   \n28            1        8<   wysoki  wysoki  ...  NO_VAL  NO_VAL  NO_VAL   \n29            1        <6   średni   niski  ...     VAL  NO_VAL  NO_VAL   \n30            1         6   wysoki   niski  ...     VAL  NO_VAL  NO_VAL   \n31            0        <6   wysoki   niski  ...  NO_VAL  NO_VAL  NO_VAL   \n32            1         6   wysoki   niski  ...  NO_VAL  NO_VAL  NO_VAL   \n33            1        8<   średni  wysoki  ...  NO_VAL  NO_VAL  NO_VAL   \n34            1         7   wysoki   niski  ...  NO_VAL  NO_VAL  NO_VAL   \n35            1         7   wysoki   niski  ...     VAL     VAL     VAL   \n36            0         7   wysoki   niski  ...  NO_VAL  NO_VAL  NO_VAL   \n37            1         8   wysoki   niski  ...  NO_VAL  NO_VAL  NO_VAL   \n38            1        <6   wysoki   niski  ...     VAL  NO_VAL  NO_VAL   \n39            1        8<   wysoki   niski  ...     VAL  NO_VAL  NO_VAL   \n40            1         7   wysoki   niski  ...  NO_VAL  NO_VAL  NO_VAL   \n\n          Typ_uczenia Quest1_before Quest2_before Quest1_after Quest2_after  \\\n0          Kinestetyk             B        wykres            B       wykres   \n1   Brak dominującego             B        wykres            B       wykres   \n2          Wzrokowiec             B          mapa            B         mapa   \n3   Brak dominującego             B          mapa            B       wykres   \n4          Wzrokowiec             B        tabela            B       tabela   \n6   Brak dominującego             B         tekst            B       wykres   \n7          Wzrokowiec             B          mapa            B       wykres   \n8   Brak dominującego             B          mapa            B         mapa   \n9          Wzrokowiec             A          mapa            A         mapa   \n10         Wzrokowiec             B          mapa            B       tabela   \n11         Słuchowiec             B         tekst            B         mapa   \n12         Słuchowiec             B        tabela            B       wykres   \n13         Wzrokowiec             B        wykres            B         mapa   \n14         Wzrokowiec             B          mapa            A       wykres   \n15         Wzrokowiec             B          mapa            B       tabela   \n16         Wzrokowiec             B        tabela            B         mapa   \n17         Wzrokowiec             B          mapa            B         mapa   \n18  Brak dominującego             B          mapa            A         mapa   \n19         Kinestetyk             B        tabela            B       wykres   \n20         Wzrokowiec             B        tabela            B       tabela   \n21         Słuchowiec             B        tabela            A         mapa   \n22         Wzrokowiec             B        wykres            B         mapa   \n23         Wzrokowiec             B        wykres            A         mapa   \n24         Wzrokowiec             B          mapa            B       tabela   \n25         Wzrokowiec             B        wykres            A         mapa   \n26         Wzrokowiec             A          mapa            A         mapa   \n27  Brak dominującego             B          mapa            A         mapa   \n28         Wzrokowiec             B         tekst            B       wykres   \n29         Wzrokowiec             B        wykres            B       wykres   \n30  Brak dominującego             A        tabela            B       wykres   \n31         Wzrokowiec             B        wykres            B         mapa   \n32         Wzrokowiec             B        wykres            B       wykres   \n33         Wzrokowiec             B          mapa            B         mapa   \n34         Słuchowiec             B          mapa            A         mapa   \n35         Słuchowiec             A          mapa            A       wykres   \n36         Wzrokowiec             B          mapa            B       wykres   \n37  Brak dominującego             B          mapa            B       wykres   \n38  Brak dominującego             B          mapa            B        tekst   \n39         Słuchowiec             B          mapa            B       tabela   \n40  Brak dominującego             B          mapa            A         mapa   \n\n   is_change_1 is_change_2  \n0        False       False  \n1        False       False  \n2        False       False  \n3        False        True  \n4        False       False  \n6        False        True  \n7        False        True  \n8        False       False  \n9        False       False  \n10       False        True  \n11       False        True  \n12       False        True  \n13       False        True  \n14        True        True  \n15       False        True  \n16       False        True  \n17       False       False  \n18        True       False  \n19       False        True  \n20       False       False  \n21        True        True  \n22       False        True  \n23        True        True  \n24       False        True  \n25        True        True  \n26       False       False  \n27        True       False  \n28       False        True  \n29       False       False  \n30        True        True  \n31       False        True  \n32       False       False  \n33       False       False  \n34        True       False  \n35       False        True  \n36       False        True  \n37       False        True  \n38       False        True  \n39       False        True  \n40        True       False  \n\n[40 rows x 26 columns]",
      "text/html": "<div>\n<style scoped>\n    .dataframe tbody tr th:only-of-type {\n        vertical-align: middle;\n    }\n\n    .dataframe tbody tr th {\n        vertical-align: top;\n    }\n\n    .dataframe thead th {\n        text-align: right;\n    }\n</style>\n<table border=\"1\" class=\"dataframe\">\n  <thead>\n    <tr style=\"text-align: right;\">\n      <th></th>\n      <th>ID</th>\n      <th>Płeć</th>\n      <th>Rok_urodzenia</th>\n      <th>Kierunek_studiów</th>\n      <th>Rok_studiów</th>\n      <th>Specjalność</th>\n      <th>Wady_wzroku</th>\n      <th>Ilość_snu</th>\n      <th>Samopocz</th>\n      <th>Stres</th>\n      <th>...</th>\n      <th>MAT</th>\n      <th>POL</th>\n      <th>HIST</th>\n      <th>Typ_uczenia</th>\n      <th>Quest1_before</th>\n      <th>Quest2_before</th>\n      <th>Quest1_after</th>\n      <th>Quest2_after</th>\n      <th>is_change_1</th>\n      <th>is_change_2</th>\n    </tr>\n  </thead>\n  <tbody>\n    <tr>\n      <th>0</th>\n      <td>1</td>\n      <td>M</td>\n      <td>2002</td>\n      <td>MISMaP Geografia</td>\n      <td>2</td>\n      <td>SPOŁ-EKO</td>\n      <td>0</td>\n      <td>6</td>\n      <td>wysoki</td>\n      <td>niski</td>\n      <td>...</td>\n      <td>VAL</td>\n      <td>VAL</td>\n      <td>NO_VAL</td>\n      <td>Kinestetyk</td>\n      <td>B</td>\n      <td>wykres</td>\n      <td>B</td>\n      <td>wykres</td>\n      <td>False</td>\n      <td>False</td>\n    </tr>\n    <tr>\n      <th>1</th>\n      <td>2</td>\n      <td>M</td>\n      <td>2003</td>\n      <td>Gospodarka przestrzenna</td>\n      <td>1</td>\n      <td>NO_VAL</td>\n      <td>1</td>\n      <td>&lt;6</td>\n      <td>średni</td>\n      <td>niski</td>\n      <td>...</td>\n      <td>VAL</td>\n      <td>VAL</td>\n      <td>NO_VAL</td>\n      <td>Brak dominującego</td>\n      <td>B</td>\n      <td>wykres</td>\n      <td>B</td>\n      <td>wykres</td>\n      <td>False</td>\n      <td>False</td>\n    </tr>\n    <tr>\n      <th>2</th>\n      <td>3</td>\n      <td>M</td>\n      <td>2001</td>\n      <td>Geografia</td>\n      <td>3</td>\n      <td>GEOINF</td>\n      <td>0</td>\n      <td>8</td>\n      <td>wysoki</td>\n      <td>średni</td>\n      <td>...</td>\n      <td>VAL</td>\n      <td>NO_VAL</td>\n      <td>NO_VAL</td>\n      <td>Wzrokowiec</td>\n      <td>B</td>\n      <td>mapa</td>\n      <td>B</td>\n      <td>mapa</td>\n      <td>False</td>\n      <td>False</td>\n    </tr>\n    <tr>\n      <th>3</th>\n      <td>4</td>\n      <td>K</td>\n      <td>2000</td>\n      <td>Geografia</td>\n      <td>3</td>\n      <td>GEOINF</td>\n      <td>0</td>\n      <td>8</td>\n      <td>wysoki</td>\n      <td>niski</td>\n      <td>...</td>\n      <td>NO_VAL</td>\n      <td>VAL</td>\n      <td>NO_VAL</td>\n      <td>Brak dominującego</td>\n      <td>B</td>\n      <td>mapa</td>\n      <td>B</td>\n      <td>wykres</td>\n      <td>False</td>\n      <td>True</td>\n    </tr>\n    <tr>\n      <th>4</th>\n      <td>5</td>\n      <td>K</td>\n      <td>2002</td>\n      <td>Geografia</td>\n      <td>3</td>\n      <td>GEOINF</td>\n      <td>0</td>\n      <td>7</td>\n      <td>wysoki</td>\n      <td>niski</td>\n      <td>...</td>\n      <td>NO_VAL</td>\n      <td>NO_VAL</td>\n      <td>NO_VAL</td>\n      <td>Wzrokowiec</td>\n      <td>B</td>\n      <td>tabela</td>\n      <td>B</td>\n      <td>tabela</td>\n      <td>False</td>\n      <td>False</td>\n    </tr>\n    <tr>\n      <th>6</th>\n      <td>7</td>\n      <td>K</td>\n      <td>2001</td>\n      <td>MISMaP Geografia</td>\n      <td>3</td>\n      <td>GEOINF</td>\n      <td>0</td>\n      <td>7</td>\n      <td>wysoki</td>\n      <td>niski</td>\n      <td>...</td>\n      <td>VAL</td>\n      <td>NO_VAL</td>\n      <td>VAL</td>\n      <td>Brak dominującego</td>\n      <td>B</td>\n      <td>tekst</td>\n      <td>B</td>\n      <td>wykres</td>\n      <td>False</td>\n      <td>True</td>\n    </tr>\n    <tr>\n      <th>7</th>\n      <td>11</td>\n      <td>M</td>\n      <td>2003</td>\n      <td>Geografia</td>\n      <td>1</td>\n      <td>GEOINF</td>\n      <td>0</td>\n      <td>8&lt;</td>\n      <td>wysoki</td>\n      <td>niski</td>\n      <td>...</td>\n      <td>NO_VAL</td>\n      <td>NO_VAL</td>\n      <td>NO_VAL</td>\n      <td>Wzrokowiec</td>\n      <td>B</td>\n      <td>mapa</td>\n      <td>B</td>\n      <td>wykres</td>\n      <td>False</td>\n      <td>True</td>\n    </tr>\n    <tr>\n      <th>8</th>\n      <td>12</td>\n      <td>K</td>\n      <td>2003</td>\n      <td>Geografia</td>\n      <td>1</td>\n      <td>FIZ</td>\n      <td>0</td>\n      <td>8&lt;</td>\n      <td>niski</td>\n      <td>średni</td>\n      <td>...</td>\n      <td>VAL</td>\n      <td>NO_VAL</td>\n      <td>NO_VAL</td>\n      <td>Brak dominującego</td>\n      <td>B</td>\n      <td>mapa</td>\n      <td>B</td>\n      <td>mapa</td>\n      <td>False</td>\n      <td>False</td>\n    </tr>\n    <tr>\n      <th>9</th>\n      <td>13</td>\n      <td>K</td>\n      <td>2004</td>\n      <td>Geografia</td>\n      <td>1</td>\n      <td>FIZ</td>\n      <td>0</td>\n      <td>8&lt;</td>\n      <td>wysoki</td>\n      <td>niski</td>\n      <td>...</td>\n      <td>VAL</td>\n      <td>NO_VAL</td>\n      <td>NO_VAL</td>\n      <td>Wzrokowiec</td>\n      <td>A</td>\n      <td>mapa</td>\n      <td>A</td>\n      <td>mapa</td>\n      <td>False</td>\n      <td>False</td>\n    </tr>\n    <tr>\n      <th>10</th>\n      <td>14</td>\n      <td>M</td>\n      <td>2002</td>\n      <td>MISMaP Geografia</td>\n      <td>2</td>\n      <td>GEOINF</td>\n      <td>1</td>\n      <td>6</td>\n      <td>średni</td>\n      <td>wysoki</td>\n      <td>...</td>\n      <td>VAL</td>\n      <td>NO_VAL</td>\n      <td>NO_VAL</td>\n      <td>Wzrokowiec</td>\n      <td>B</td>\n      <td>mapa</td>\n      <td>B</td>\n      <td>tabela</td>\n      <td>False</td>\n      <td>True</td>\n    </tr>\n    <tr>\n      <th>11</th>\n      <td>15</td>\n      <td>K</td>\n      <td>2002</td>\n      <td>Geografia</td>\n      <td>2</td>\n      <td>SPOŁ-EKO</td>\n      <td>0</td>\n      <td>7</td>\n      <td>wysoki</td>\n      <td>średni</td>\n      <td>...</td>\n      <td>VAL</td>\n      <td>VAL</td>\n      <td>VAL</td>\n      <td>Słuchowiec</td>\n      <td>B</td>\n      <td>tekst</td>\n      <td>B</td>\n      <td>mapa</td>\n      <td>False</td>\n      <td>True</td>\n    </tr>\n    <tr>\n      <th>12</th>\n      <td>16</td>\n      <td>M</td>\n      <td>2002</td>\n      <td>Geografia</td>\n      <td>2</td>\n      <td>GEOINF</td>\n      <td>1</td>\n      <td>7</td>\n      <td>wysoki</td>\n      <td>średni</td>\n      <td>...</td>\n      <td>VAL</td>\n      <td>NO_VAL</td>\n      <td>NO_VAL</td>\n      <td>Słuchowiec</td>\n      <td>B</td>\n      <td>tabela</td>\n      <td>B</td>\n      <td>wykres</td>\n      <td>False</td>\n      <td>True</td>\n    </tr>\n    <tr>\n      <th>13</th>\n      <td>17</td>\n      <td>K</td>\n      <td>2002</td>\n      <td>Geografia</td>\n      <td>2</td>\n      <td>GEOINF</td>\n      <td>1</td>\n      <td>7</td>\n      <td>wysoki</td>\n      <td>niski</td>\n      <td>...</td>\n      <td>NO_VAL</td>\n      <td>VAL</td>\n      <td>NO_VAL</td>\n      <td>Wzrokowiec</td>\n      <td>B</td>\n      <td>wykres</td>\n      <td>B</td>\n      <td>mapa</td>\n      <td>False</td>\n      <td>True</td>\n    </tr>\n    <tr>\n      <th>14</th>\n      <td>18</td>\n      <td>K</td>\n      <td>2002</td>\n      <td>Gospodarka przestrzenna</td>\n      <td>1</td>\n      <td>NO_VAL</td>\n      <td>1</td>\n      <td>6</td>\n      <td>średni</td>\n      <td>wysoki</td>\n      <td>...</td>\n      <td>VAL</td>\n      <td>NO_VAL</td>\n      <td>NO_VAL</td>\n      <td>Wzrokowiec</td>\n      <td>B</td>\n      <td>mapa</td>\n      <td>A</td>\n      <td>wykres</td>\n      <td>True</td>\n      <td>True</td>\n    </tr>\n    <tr>\n      <th>15</th>\n      <td>19</td>\n      <td>M</td>\n      <td>2003</td>\n      <td>Gospodarka przestrzenna</td>\n      <td>1</td>\n      <td>NO_VAL</td>\n      <td>1</td>\n      <td>&lt;6</td>\n      <td>niski</td>\n      <td>niski</td>\n      <td>...</td>\n      <td>VAL</td>\n      <td>NO_VAL</td>\n      <td>NO_VAL</td>\n      <td>Wzrokowiec</td>\n      <td>B</td>\n      <td>mapa</td>\n      <td>B</td>\n      <td>tabela</td>\n      <td>False</td>\n      <td>True</td>\n    </tr>\n    <tr>\n      <th>16</th>\n      <td>20</td>\n      <td>K</td>\n      <td>2003</td>\n      <td>Geografia</td>\n      <td>1</td>\n      <td>SPOŁ-EKO</td>\n      <td>1</td>\n      <td>&lt;6</td>\n      <td>średni</td>\n      <td>średni</td>\n      <td>...</td>\n      <td>NO_VAL</td>\n      <td>VAL</td>\n      <td>NO_VAL</td>\n      <td>Wzrokowiec</td>\n      <td>B</td>\n      <td>tabela</td>\n      <td>B</td>\n      <td>mapa</td>\n      <td>False</td>\n      <td>True</td>\n    </tr>\n    <tr>\n      <th>17</th>\n      <td>21</td>\n      <td>M</td>\n      <td>2002</td>\n      <td>Geografia</td>\n      <td>2</td>\n      <td>FIZ</td>\n      <td>0</td>\n      <td>&lt;6</td>\n      <td>wysoki</td>\n      <td>niski</td>\n      <td>...</td>\n      <td>NO_VAL</td>\n      <td>NO_VAL</td>\n      <td>VAL</td>\n      <td>Wzrokowiec</td>\n      <td>B</td>\n      <td>mapa</td>\n      <td>B</td>\n      <td>mapa</td>\n      <td>False</td>\n      <td>False</td>\n    </tr>\n    <tr>\n      <th>18</th>\n      <td>22</td>\n      <td>K</td>\n      <td>2002</td>\n      <td>Geografia</td>\n      <td>2</td>\n      <td>GEOINF</td>\n      <td>1</td>\n      <td>6</td>\n      <td>wysoki</td>\n      <td>niski</td>\n      <td>...</td>\n      <td>NO_VAL</td>\n      <td>NO_VAL</td>\n      <td>NO_VAL</td>\n      <td>Brak dominującego</td>\n      <td>B</td>\n      <td>mapa</td>\n      <td>A</td>\n      <td>mapa</td>\n      <td>True</td>\n      <td>False</td>\n    </tr>\n    <tr>\n      <th>19</th>\n      <td>23</td>\n      <td>M</td>\n      <td>2003</td>\n      <td>Geografia</td>\n      <td>1</td>\n      <td>SPOŁ-EKO</td>\n      <td>0</td>\n      <td>6</td>\n      <td>wysoki</td>\n      <td>niski</td>\n      <td>...</td>\n      <td>VAL</td>\n      <td>NO_VAL</td>\n      <td>NO_VAL</td>\n      <td>Kinestetyk</td>\n      <td>B</td>\n      <td>tabela</td>\n      <td>B</td>\n      <td>wykres</td>\n      <td>False</td>\n      <td>True</td>\n    </tr>\n    <tr>\n      <th>20</th>\n      <td>24</td>\n      <td>M</td>\n      <td>2004</td>\n      <td>Geografia</td>\n      <td>1</td>\n      <td>GEOINF</td>\n      <td>1</td>\n      <td>&lt;6</td>\n      <td>wysoki</td>\n      <td>średni</td>\n      <td>...</td>\n      <td>VAL</td>\n      <td>NO_VAL</td>\n      <td>NO_VAL</td>\n      <td>Wzrokowiec</td>\n      <td>B</td>\n      <td>tabela</td>\n      <td>B</td>\n      <td>tabela</td>\n      <td>False</td>\n      <td>False</td>\n    </tr>\n    <tr>\n      <th>21</th>\n      <td>25</td>\n      <td>K</td>\n      <td>2001</td>\n      <td>Geografia</td>\n      <td>1</td>\n      <td>FIZ</td>\n      <td>1</td>\n      <td>6</td>\n      <td>niski</td>\n      <td>wysoki</td>\n      <td>...</td>\n      <td>NO_VAL</td>\n      <td>NO_VAL</td>\n      <td>NO_VAL</td>\n      <td>Słuchowiec</td>\n      <td>B</td>\n      <td>tabela</td>\n      <td>A</td>\n      <td>mapa</td>\n      <td>True</td>\n      <td>True</td>\n    </tr>\n    <tr>\n      <th>22</th>\n      <td>26</td>\n      <td>K</td>\n      <td>2003</td>\n      <td>Geografia</td>\n      <td>1</td>\n      <td>FIZ</td>\n      <td>1</td>\n      <td>6</td>\n      <td>niski</td>\n      <td>wysoki</td>\n      <td>...</td>\n      <td>VAL</td>\n      <td>NO_VAL</td>\n      <td>NO_VAL</td>\n      <td>Wzrokowiec</td>\n      <td>B</td>\n      <td>wykres</td>\n      <td>B</td>\n      <td>mapa</td>\n      <td>False</td>\n      <td>True</td>\n    </tr>\n    <tr>\n      <th>23</th>\n      <td>27</td>\n      <td>K</td>\n      <td>2001</td>\n      <td>Gospodarka przestrzenna</td>\n      <td>3</td>\n      <td>NO_VAL</td>\n      <td>1</td>\n      <td>6</td>\n      <td>wysoki</td>\n      <td>niski</td>\n      <td>...</td>\n      <td>VAL</td>\n      <td>NO_VAL</td>\n      <td>NO_VAL</td>\n      <td>Wzrokowiec</td>\n      <td>B</td>\n      <td>wykres</td>\n      <td>A</td>\n      <td>mapa</td>\n      <td>True</td>\n      <td>True</td>\n    </tr>\n    <tr>\n      <th>24</th>\n      <td>29</td>\n      <td>M</td>\n      <td>2003</td>\n      <td>Geografia</td>\n      <td>1</td>\n      <td>SPOŁ-EKO</td>\n      <td>1</td>\n      <td>6</td>\n      <td>wysoki</td>\n      <td>średni</td>\n      <td>...</td>\n      <td>NO_VAL</td>\n      <td>VAL</td>\n      <td>NO_VAL</td>\n      <td>Wzrokowiec</td>\n      <td>B</td>\n      <td>mapa</td>\n      <td>B</td>\n      <td>tabela</td>\n      <td>False</td>\n      <td>True</td>\n    </tr>\n    <tr>\n      <th>25</th>\n      <td>30</td>\n      <td>K</td>\n      <td>2001</td>\n      <td>Geografia</td>\n      <td>3</td>\n      <td>GEOINF</td>\n      <td>0</td>\n      <td>&lt;6</td>\n      <td>wysoki</td>\n      <td>średni</td>\n      <td>...</td>\n      <td>VAL</td>\n      <td>NO_VAL</td>\n      <td>NO_VAL</td>\n      <td>Wzrokowiec</td>\n      <td>B</td>\n      <td>wykres</td>\n      <td>A</td>\n      <td>mapa</td>\n      <td>True</td>\n      <td>True</td>\n    </tr>\n    <tr>\n      <th>26</th>\n      <td>31</td>\n      <td>K</td>\n      <td>2001</td>\n      <td>Geografia</td>\n      <td>3</td>\n      <td>GEOINF</td>\n      <td>0</td>\n      <td>&lt;6</td>\n      <td>niski</td>\n      <td>wysoki</td>\n      <td>...</td>\n      <td>NO_VAL</td>\n      <td>VAL</td>\n      <td>NO_VAL</td>\n      <td>Wzrokowiec</td>\n      <td>A</td>\n      <td>mapa</td>\n      <td>A</td>\n      <td>mapa</td>\n      <td>False</td>\n      <td>False</td>\n    </tr>\n    <tr>\n      <th>27</th>\n      <td>32</td>\n      <td>K</td>\n      <td>2001</td>\n      <td>Geografia</td>\n      <td>3</td>\n      <td>GEOINF</td>\n      <td>0</td>\n      <td>8</td>\n      <td>wysoki</td>\n      <td>średni</td>\n      <td>...</td>\n      <td>VAL</td>\n      <td>NO_VAL</td>\n      <td>NO_VAL</td>\n      <td>Brak dominującego</td>\n      <td>B</td>\n      <td>mapa</td>\n      <td>A</td>\n      <td>mapa</td>\n      <td>True</td>\n      <td>False</td>\n    </tr>\n    <tr>\n      <th>28</th>\n      <td>33</td>\n      <td>M</td>\n      <td>2003</td>\n      <td>Geografia</td>\n      <td>1</td>\n      <td>GEOINF</td>\n      <td>1</td>\n      <td>8&lt;</td>\n      <td>wysoki</td>\n      <td>wysoki</td>\n      <td>...</td>\n      <td>NO_VAL</td>\n      <td>NO_VAL</td>\n      <td>NO_VAL</td>\n      <td>Wzrokowiec</td>\n      <td>B</td>\n      <td>tekst</td>\n      <td>B</td>\n      <td>wykres</td>\n      <td>False</td>\n      <td>True</td>\n    </tr>\n    <tr>\n      <th>29</th>\n      <td>34</td>\n      <td>M</td>\n      <td>2002</td>\n      <td>Geografia</td>\n      <td>2</td>\n      <td>GEOINF</td>\n      <td>1</td>\n      <td>&lt;6</td>\n      <td>średni</td>\n      <td>niski</td>\n      <td>...</td>\n      <td>VAL</td>\n      <td>NO_VAL</td>\n      <td>NO_VAL</td>\n      <td>Wzrokowiec</td>\n      <td>B</td>\n      <td>wykres</td>\n      <td>B</td>\n      <td>wykres</td>\n      <td>False</td>\n      <td>False</td>\n    </tr>\n    <tr>\n      <th>30</th>\n      <td>35</td>\n      <td>M</td>\n      <td>2001</td>\n      <td>Geografia</td>\n      <td>3</td>\n      <td>GEOINF</td>\n      <td>1</td>\n      <td>6</td>\n      <td>wysoki</td>\n      <td>niski</td>\n      <td>...</td>\n      <td>VAL</td>\n      <td>NO_VAL</td>\n      <td>NO_VAL</td>\n      <td>Brak dominującego</td>\n      <td>A</td>\n      <td>tabela</td>\n      <td>B</td>\n      <td>wykres</td>\n      <td>True</td>\n      <td>True</td>\n    </tr>\n    <tr>\n      <th>31</th>\n      <td>37</td>\n      <td>K</td>\n      <td>2003</td>\n      <td>Geografia</td>\n      <td>1</td>\n      <td>SPOŁ-EKO</td>\n      <td>0</td>\n      <td>&lt;6</td>\n      <td>wysoki</td>\n      <td>niski</td>\n      <td>...</td>\n      <td>NO_VAL</td>\n      <td>NO_VAL</td>\n      <td>NO_VAL</td>\n      <td>Wzrokowiec</td>\n      <td>B</td>\n      <td>wykres</td>\n      <td>B</td>\n      <td>mapa</td>\n      <td>False</td>\n      <td>True</td>\n    </tr>\n    <tr>\n      <th>32</th>\n      <td>38</td>\n      <td>K</td>\n      <td>2004</td>\n      <td>Geografia</td>\n      <td>1</td>\n      <td>FIZ</td>\n      <td>1</td>\n      <td>6</td>\n      <td>wysoki</td>\n      <td>niski</td>\n      <td>...</td>\n      <td>NO_VAL</td>\n      <td>NO_VAL</td>\n      <td>NO_VAL</td>\n      <td>Wzrokowiec</td>\n      <td>B</td>\n      <td>wykres</td>\n      <td>B</td>\n      <td>wykres</td>\n      <td>False</td>\n      <td>False</td>\n    </tr>\n    <tr>\n      <th>33</th>\n      <td>39</td>\n      <td>K</td>\n      <td>2003</td>\n      <td>Geografia</td>\n      <td>1</td>\n      <td>GEOINF</td>\n      <td>1</td>\n      <td>8&lt;</td>\n      <td>średni</td>\n      <td>wysoki</td>\n      <td>...</td>\n      <td>NO_VAL</td>\n      <td>NO_VAL</td>\n      <td>NO_VAL</td>\n      <td>Wzrokowiec</td>\n      <td>B</td>\n      <td>mapa</td>\n      <td>B</td>\n      <td>mapa</td>\n      <td>False</td>\n      <td>False</td>\n    </tr>\n    <tr>\n      <th>34</th>\n      <td>40</td>\n      <td>K</td>\n      <td>2003</td>\n      <td>Geografia</td>\n      <td>1</td>\n      <td>SPOŁ-EKO</td>\n      <td>1</td>\n      <td>7</td>\n      <td>wysoki</td>\n      <td>niski</td>\n      <td>...</td>\n      <td>NO_VAL</td>\n      <td>NO_VAL</td>\n      <td>NO_VAL</td>\n      <td>Słuchowiec</td>\n      <td>B</td>\n      <td>mapa</td>\n      <td>A</td>\n      <td>mapa</td>\n      <td>True</td>\n      <td>False</td>\n    </tr>\n    <tr>\n      <th>35</th>\n      <td>41</td>\n      <td>M</td>\n      <td>2003</td>\n      <td>Geografia</td>\n      <td>1</td>\n      <td>SPOŁ-EKO</td>\n      <td>1</td>\n      <td>7</td>\n      <td>wysoki</td>\n      <td>niski</td>\n      <td>...</td>\n      <td>VAL</td>\n      <td>VAL</td>\n      <td>VAL</td>\n      <td>Słuchowiec</td>\n      <td>A</td>\n      <td>mapa</td>\n      <td>A</td>\n      <td>wykres</td>\n      <td>False</td>\n      <td>True</td>\n    </tr>\n    <tr>\n      <th>36</th>\n      <td>42</td>\n      <td>K</td>\n      <td>2003</td>\n      <td>Geografia</td>\n      <td>1</td>\n      <td>FIZ</td>\n      <td>0</td>\n      <td>7</td>\n      <td>wysoki</td>\n      <td>niski</td>\n      <td>...</td>\n      <td>NO_VAL</td>\n      <td>NO_VAL</td>\n      <td>NO_VAL</td>\n      <td>Wzrokowiec</td>\n      <td>B</td>\n      <td>mapa</td>\n      <td>B</td>\n      <td>wykres</td>\n      <td>False</td>\n      <td>True</td>\n    </tr>\n    <tr>\n      <th>37</th>\n      <td>43</td>\n      <td>M</td>\n      <td>2003</td>\n      <td>Gospodarka przestrzenna</td>\n      <td>1</td>\n      <td>NO_VAL</td>\n      <td>1</td>\n      <td>8</td>\n      <td>wysoki</td>\n      <td>niski</td>\n      <td>...</td>\n      <td>NO_VAL</td>\n      <td>NO_VAL</td>\n      <td>NO_VAL</td>\n      <td>Brak dominującego</td>\n      <td>B</td>\n      <td>mapa</td>\n      <td>B</td>\n      <td>wykres</td>\n      <td>False</td>\n      <td>True</td>\n    </tr>\n    <tr>\n      <th>38</th>\n      <td>44</td>\n      <td>K</td>\n      <td>2003</td>\n      <td>Geografia</td>\n      <td>1</td>\n      <td>FIZ</td>\n      <td>1</td>\n      <td>&lt;6</td>\n      <td>wysoki</td>\n      <td>niski</td>\n      <td>...</td>\n      <td>VAL</td>\n      <td>NO_VAL</td>\n      <td>NO_VAL</td>\n      <td>Brak dominującego</td>\n      <td>B</td>\n      <td>mapa</td>\n      <td>B</td>\n      <td>tekst</td>\n      <td>False</td>\n      <td>True</td>\n    </tr>\n    <tr>\n      <th>39</th>\n      <td>45</td>\n      <td>M</td>\n      <td>2003</td>\n      <td>Geografia</td>\n      <td>1</td>\n      <td>GEOINF</td>\n      <td>1</td>\n      <td>8&lt;</td>\n      <td>wysoki</td>\n      <td>niski</td>\n      <td>...</td>\n      <td>VAL</td>\n      <td>NO_VAL</td>\n      <td>NO_VAL</td>\n      <td>Słuchowiec</td>\n      <td>B</td>\n      <td>mapa</td>\n      <td>B</td>\n      <td>tabela</td>\n      <td>False</td>\n      <td>True</td>\n    </tr>\n    <tr>\n      <th>40</th>\n      <td>46</td>\n      <td>K</td>\n      <td>2002</td>\n      <td>Geografia</td>\n      <td>1</td>\n      <td>FIZ</td>\n      <td>1</td>\n      <td>7</td>\n      <td>wysoki</td>\n      <td>niski</td>\n      <td>...</td>\n      <td>NO_VAL</td>\n      <td>NO_VAL</td>\n      <td>NO_VAL</td>\n      <td>Brak dominującego</td>\n      <td>B</td>\n      <td>mapa</td>\n      <td>A</td>\n      <td>mapa</td>\n      <td>True</td>\n      <td>False</td>\n    </tr>\n  </tbody>\n</table>\n<p>40 rows × 26 columns</p>\n</div>"
     },
     "execution_count": 107,
     "metadata": {},
     "output_type": "execute_result"
    }
   ],
   "source": [
    "df_variables"
   ],
   "metadata": {
    "collapsed": false,
    "ExecuteTime": {
     "end_time": "2023-11-08T16:41:03.637318Z",
     "start_time": "2023-11-08T16:41:03.628192Z"
    }
   },
   "id": "d20c928e33f129b7"
  },
  {
   "cell_type": "code",
   "execution_count": 108,
   "outputs": [],
   "source": [
    "df = pd.concat([df_variables, df_variables])\n",
    "df['idx'] = range(0, 80)\n",
    "df.set_index('idx', inplace=True)\n",
    "\n",
    "df['Group'] = 'A'\n",
    "df.loc[40:81, 'Group'] = 'B'\n",
    "\n",
    "df['SumCorr'] = pd.concat([df_answers['SumCorr_a'], df_answers['SumCorr_b']]).reset_index(drop=True)\n",
    "df['Corr_1'] = pd.concat([df_answers['1a_corr'], df_answers['1b_corr']]).reset_index(drop=True)\n",
    "df['Corr_2'] = pd.concat([df_answers['2a_corr'], df_answers['2b_corr']]).reset_index(drop=True)\n",
    "df['Corr_3'] = pd.concat([df_answers['3a_corr'], df_answers['3b_corr']]).reset_index(drop=True)\n",
    "\n",
    "df['SumDiff'] = pd.concat([df_answers['SumTrud_a'], df_answers['SumTrud_b']]).reset_index(drop=True)\n",
    "df['Diff_1'] = pd.concat([df_answers['1a_trud'], df_answers['1b_trud']]).reset_index(drop=True)\n",
    "df['Diff_2'] = pd.concat([df_answers['2a_trud'], df_answers['2b_trud']]).reset_index(drop=True)\n",
    "df['Diff_3'] = pd.concat([df_answers['3a_trud'], df_answers['3b_trud']]).reset_index(drop=True)\n",
    "\n",
    "df['SumTime'] = pd.concat([df_time['SumTime_a'], df_time['SumTime_b']]).reset_index(drop=True)\n",
    "df['Time_1'] = pd.concat([df_time['Duration_1a'], df_time['Duration_1b']]).reset_index(drop=True)\n",
    "df['Time_2'] = pd.concat([df_time['Duration_2a'], df_time['Duration_2b']]).reset_index(drop=True)\n",
    "df['Time_3'] = pd.concat([df_time['Duration_3a'], df_time['Duration_3b']]).reset_index(drop=True)"
   ],
   "metadata": {
    "collapsed": false,
    "ExecuteTime": {
     "end_time": "2023-11-08T16:41:04.936725Z",
     "start_time": "2023-11-08T16:41:04.931312Z"
    }
   },
   "id": "2d2307af67146540"
  },
  {
   "cell_type": "code",
   "execution_count": 109,
   "outputs": [
    {
     "data": {
      "text/plain": "     ID Płeć  Rok_urodzenia         Kierunek_studiów  Rok_studiów Specjalność  \\\nidx                                                                             \n0     1    M           2002         MISMaP Geografia            2    SPOŁ-EKO   \n1     2    M           2003  Gospodarka przestrzenna            1      NO_VAL   \n2     3    M           2001                Geografia            3     GEOINF    \n3     4    K           2000                Geografia            3     GEOINF    \n4     5    K           2002                Geografia            3     GEOINF    \n..   ..  ...            ...                      ...          ...         ...   \n75   42    K           2003                Geografia            1        FIZ    \n76   43    M           2003  Gospodarka przestrzenna            1      NO_VAL   \n77   44    K           2003                Geografia            1        FIZ    \n78   45    M           2003                Geografia            1     GEOINF    \n79   46    K           2002                Geografia            1        FIZ    \n\n     Wady_wzroku Ilość_snu Samopocz   Stres  ... Corr_2 Corr_3 SumDiff Diff_1  \\\nidx                                          ...                                \n0              0         6   wysoki   niski  ...      0      1      11      3   \n1              1        <6   średni   niski  ...      1      0       6      1   \n2              0         8   wysoki  średni  ...      1      0       6      2   \n3              0         8   wysoki   niski  ...      1      1       8      3   \n4              0         7   wysoki   niski  ...      1      1      10      4   \n..           ...       ...      ...     ...  ...    ...    ...     ...    ...   \n75             0         7   wysoki   niski  ...      1      1       4      1   \n76             1         8   wysoki   niski  ...      1      0       7      2   \n77             1        <6   wysoki   niski  ...      1      0       5      1   \n78             1        8<   wysoki   niski  ...      0      0       5      1   \n79             1         7   wysoki   niski  ...      1      0       8      3   \n\n    Diff_2 Diff_3 SumTime Time_1  Time_2  Time_3  \nidx                                               \n0        4      4  141444  34682   38765   67997  \n1        3      2  137677  53564   35032   49081  \n2        3      1  119128  85546   12266   21316  \n3        2      3   92095  61197   10999   19899  \n4        3      3   99761  42031   12816   44914  \n..     ...    ...     ...    ...     ...     ...  \n75       1      2  178475  23282  121461   33732  \n76       2      3  162293  50181   36282   75830  \n77       1      3  285552  40498  114394  130660  \n78       2      2  303219  88463   85329  129427  \n79       2      3  290419  88712   62364  139343  \n\n[80 rows x 39 columns]",
      "text/html": "<div>\n<style scoped>\n    .dataframe tbody tr th:only-of-type {\n        vertical-align: middle;\n    }\n\n    .dataframe tbody tr th {\n        vertical-align: top;\n    }\n\n    .dataframe thead th {\n        text-align: right;\n    }\n</style>\n<table border=\"1\" class=\"dataframe\">\n  <thead>\n    <tr style=\"text-align: right;\">\n      <th></th>\n      <th>ID</th>\n      <th>Płeć</th>\n      <th>Rok_urodzenia</th>\n      <th>Kierunek_studiów</th>\n      <th>Rok_studiów</th>\n      <th>Specjalność</th>\n      <th>Wady_wzroku</th>\n      <th>Ilość_snu</th>\n      <th>Samopocz</th>\n      <th>Stres</th>\n      <th>...</th>\n      <th>Corr_2</th>\n      <th>Corr_3</th>\n      <th>SumDiff</th>\n      <th>Diff_1</th>\n      <th>Diff_2</th>\n      <th>Diff_3</th>\n      <th>SumTime</th>\n      <th>Time_1</th>\n      <th>Time_2</th>\n      <th>Time_3</th>\n    </tr>\n    <tr>\n      <th>idx</th>\n      <th></th>\n      <th></th>\n      <th></th>\n      <th></th>\n      <th></th>\n      <th></th>\n      <th></th>\n      <th></th>\n      <th></th>\n      <th></th>\n      <th></th>\n      <th></th>\n      <th></th>\n      <th></th>\n      <th></th>\n      <th></th>\n      <th></th>\n      <th></th>\n      <th></th>\n      <th></th>\n      <th></th>\n    </tr>\n  </thead>\n  <tbody>\n    <tr>\n      <th>0</th>\n      <td>1</td>\n      <td>M</td>\n      <td>2002</td>\n      <td>MISMaP Geografia</td>\n      <td>2</td>\n      <td>SPOŁ-EKO</td>\n      <td>0</td>\n      <td>6</td>\n      <td>wysoki</td>\n      <td>niski</td>\n      <td>...</td>\n      <td>0</td>\n      <td>1</td>\n      <td>11</td>\n      <td>3</td>\n      <td>4</td>\n      <td>4</td>\n      <td>141444</td>\n      <td>34682</td>\n      <td>38765</td>\n      <td>67997</td>\n    </tr>\n    <tr>\n      <th>1</th>\n      <td>2</td>\n      <td>M</td>\n      <td>2003</td>\n      <td>Gospodarka przestrzenna</td>\n      <td>1</td>\n      <td>NO_VAL</td>\n      <td>1</td>\n      <td>&lt;6</td>\n      <td>średni</td>\n      <td>niski</td>\n      <td>...</td>\n      <td>1</td>\n      <td>0</td>\n      <td>6</td>\n      <td>1</td>\n      <td>3</td>\n      <td>2</td>\n      <td>137677</td>\n      <td>53564</td>\n      <td>35032</td>\n      <td>49081</td>\n    </tr>\n    <tr>\n      <th>2</th>\n      <td>3</td>\n      <td>M</td>\n      <td>2001</td>\n      <td>Geografia</td>\n      <td>3</td>\n      <td>GEOINF</td>\n      <td>0</td>\n      <td>8</td>\n      <td>wysoki</td>\n      <td>średni</td>\n      <td>...</td>\n      <td>1</td>\n      <td>0</td>\n      <td>6</td>\n      <td>2</td>\n      <td>3</td>\n      <td>1</td>\n      <td>119128</td>\n      <td>85546</td>\n      <td>12266</td>\n      <td>21316</td>\n    </tr>\n    <tr>\n      <th>3</th>\n      <td>4</td>\n      <td>K</td>\n      <td>2000</td>\n      <td>Geografia</td>\n      <td>3</td>\n      <td>GEOINF</td>\n      <td>0</td>\n      <td>8</td>\n      <td>wysoki</td>\n      <td>niski</td>\n      <td>...</td>\n      <td>1</td>\n      <td>1</td>\n      <td>8</td>\n      <td>3</td>\n      <td>2</td>\n      <td>3</td>\n      <td>92095</td>\n      <td>61197</td>\n      <td>10999</td>\n      <td>19899</td>\n    </tr>\n    <tr>\n      <th>4</th>\n      <td>5</td>\n      <td>K</td>\n      <td>2002</td>\n      <td>Geografia</td>\n      <td>3</td>\n      <td>GEOINF</td>\n      <td>0</td>\n      <td>7</td>\n      <td>wysoki</td>\n      <td>niski</td>\n      <td>...</td>\n      <td>1</td>\n      <td>1</td>\n      <td>10</td>\n      <td>4</td>\n      <td>3</td>\n      <td>3</td>\n      <td>99761</td>\n      <td>42031</td>\n      <td>12816</td>\n      <td>44914</td>\n    </tr>\n    <tr>\n      <th>...</th>\n      <td>...</td>\n      <td>...</td>\n      <td>...</td>\n      <td>...</td>\n      <td>...</td>\n      <td>...</td>\n      <td>...</td>\n      <td>...</td>\n      <td>...</td>\n      <td>...</td>\n      <td>...</td>\n      <td>...</td>\n      <td>...</td>\n      <td>...</td>\n      <td>...</td>\n      <td>...</td>\n      <td>...</td>\n      <td>...</td>\n      <td>...</td>\n      <td>...</td>\n      <td>...</td>\n    </tr>\n    <tr>\n      <th>75</th>\n      <td>42</td>\n      <td>K</td>\n      <td>2003</td>\n      <td>Geografia</td>\n      <td>1</td>\n      <td>FIZ</td>\n      <td>0</td>\n      <td>7</td>\n      <td>wysoki</td>\n      <td>niski</td>\n      <td>...</td>\n      <td>1</td>\n      <td>1</td>\n      <td>4</td>\n      <td>1</td>\n      <td>1</td>\n      <td>2</td>\n      <td>178475</td>\n      <td>23282</td>\n      <td>121461</td>\n      <td>33732</td>\n    </tr>\n    <tr>\n      <th>76</th>\n      <td>43</td>\n      <td>M</td>\n      <td>2003</td>\n      <td>Gospodarka przestrzenna</td>\n      <td>1</td>\n      <td>NO_VAL</td>\n      <td>1</td>\n      <td>8</td>\n      <td>wysoki</td>\n      <td>niski</td>\n      <td>...</td>\n      <td>1</td>\n      <td>0</td>\n      <td>7</td>\n      <td>2</td>\n      <td>2</td>\n      <td>3</td>\n      <td>162293</td>\n      <td>50181</td>\n      <td>36282</td>\n      <td>75830</td>\n    </tr>\n    <tr>\n      <th>77</th>\n      <td>44</td>\n      <td>K</td>\n      <td>2003</td>\n      <td>Geografia</td>\n      <td>1</td>\n      <td>FIZ</td>\n      <td>1</td>\n      <td>&lt;6</td>\n      <td>wysoki</td>\n      <td>niski</td>\n      <td>...</td>\n      <td>1</td>\n      <td>0</td>\n      <td>5</td>\n      <td>1</td>\n      <td>1</td>\n      <td>3</td>\n      <td>285552</td>\n      <td>40498</td>\n      <td>114394</td>\n      <td>130660</td>\n    </tr>\n    <tr>\n      <th>78</th>\n      <td>45</td>\n      <td>M</td>\n      <td>2003</td>\n      <td>Geografia</td>\n      <td>1</td>\n      <td>GEOINF</td>\n      <td>1</td>\n      <td>8&lt;</td>\n      <td>wysoki</td>\n      <td>niski</td>\n      <td>...</td>\n      <td>0</td>\n      <td>0</td>\n      <td>5</td>\n      <td>1</td>\n      <td>2</td>\n      <td>2</td>\n      <td>303219</td>\n      <td>88463</td>\n      <td>85329</td>\n      <td>129427</td>\n    </tr>\n    <tr>\n      <th>79</th>\n      <td>46</td>\n      <td>K</td>\n      <td>2002</td>\n      <td>Geografia</td>\n      <td>1</td>\n      <td>FIZ</td>\n      <td>1</td>\n      <td>7</td>\n      <td>wysoki</td>\n      <td>niski</td>\n      <td>...</td>\n      <td>1</td>\n      <td>0</td>\n      <td>8</td>\n      <td>3</td>\n      <td>2</td>\n      <td>3</td>\n      <td>290419</td>\n      <td>88712</td>\n      <td>62364</td>\n      <td>139343</td>\n    </tr>\n  </tbody>\n</table>\n<p>80 rows × 39 columns</p>\n</div>"
     },
     "execution_count": 109,
     "metadata": {},
     "output_type": "execute_result"
    }
   ],
   "source": [
    "df"
   ],
   "metadata": {
    "collapsed": false,
    "ExecuteTime": {
     "end_time": "2023-11-08T16:41:05.761405Z",
     "start_time": "2023-11-08T16:41:05.756097Z"
    }
   },
   "id": "6d56da97bf23ffea"
  },
  {
   "cell_type": "markdown",
   "source": [
    "Test dla płci + grupy"
   ],
   "metadata": {
    "collapsed": false
   },
   "id": "986178d6063872ec"
  },
  {
   "cell_type": "code",
   "execution_count": 117,
   "outputs": [
    {
     "data": {
      "text/plain": "    Płeć Group Płeć_Group  Corr_1\nidx                              \n0      M     A        M_A       1\n1      M     A        M_A       1\n2      M     A        M_A       1\n3      K     A        K_A       1\n4      K     A        K_A       1\n..   ...   ...        ...     ...\n75     K     B        K_B       1\n76     M     B        M_B       1\n77     K     B        K_B       1\n78     M     B        M_B       1\n79     K     B        K_B       1\n\n[80 rows x 4 columns]",
      "text/html": "<div>\n<style scoped>\n    .dataframe tbody tr th:only-of-type {\n        vertical-align: middle;\n    }\n\n    .dataframe tbody tr th {\n        vertical-align: top;\n    }\n\n    .dataframe thead th {\n        text-align: right;\n    }\n</style>\n<table border=\"1\" class=\"dataframe\">\n  <thead>\n    <tr style=\"text-align: right;\">\n      <th></th>\n      <th>Płeć</th>\n      <th>Group</th>\n      <th>Płeć_Group</th>\n      <th>Corr_1</th>\n    </tr>\n    <tr>\n      <th>idx</th>\n      <th></th>\n      <th></th>\n      <th></th>\n      <th></th>\n    </tr>\n  </thead>\n  <tbody>\n    <tr>\n      <th>0</th>\n      <td>M</td>\n      <td>A</td>\n      <td>M_A</td>\n      <td>1</td>\n    </tr>\n    <tr>\n      <th>1</th>\n      <td>M</td>\n      <td>A</td>\n      <td>M_A</td>\n      <td>1</td>\n    </tr>\n    <tr>\n      <th>2</th>\n      <td>M</td>\n      <td>A</td>\n      <td>M_A</td>\n      <td>1</td>\n    </tr>\n    <tr>\n      <th>3</th>\n      <td>K</td>\n      <td>A</td>\n      <td>K_A</td>\n      <td>1</td>\n    </tr>\n    <tr>\n      <th>4</th>\n      <td>K</td>\n      <td>A</td>\n      <td>K_A</td>\n      <td>1</td>\n    </tr>\n    <tr>\n      <th>...</th>\n      <td>...</td>\n      <td>...</td>\n      <td>...</td>\n      <td>...</td>\n    </tr>\n    <tr>\n      <th>75</th>\n      <td>K</td>\n      <td>B</td>\n      <td>K_B</td>\n      <td>1</td>\n    </tr>\n    <tr>\n      <th>76</th>\n      <td>M</td>\n      <td>B</td>\n      <td>M_B</td>\n      <td>1</td>\n    </tr>\n    <tr>\n      <th>77</th>\n      <td>K</td>\n      <td>B</td>\n      <td>K_B</td>\n      <td>1</td>\n    </tr>\n    <tr>\n      <th>78</th>\n      <td>M</td>\n      <td>B</td>\n      <td>M_B</td>\n      <td>1</td>\n    </tr>\n    <tr>\n      <th>79</th>\n      <td>K</td>\n      <td>B</td>\n      <td>K_B</td>\n      <td>1</td>\n    </tr>\n  </tbody>\n</table>\n<p>80 rows × 4 columns</p>\n</div>"
     },
     "execution_count": 117,
     "metadata": {},
     "output_type": "execute_result"
    }
   ],
   "source": [
    "df['Płeć_Group'] = df['Płeć'] + '_' + df['Group']\n",
    "df[['Płeć', 'Group', 'Płeć_Group', 'Corr_1']]"
   ],
   "metadata": {
    "collapsed": false,
    "ExecuteTime": {
     "end_time": "2023-11-08T16:43:20.233737Z",
     "start_time": "2023-11-08T16:43:20.222217Z"
    }
   },
   "id": "46e91fe25351b4a7"
  },
  {
   "cell_type": "code",
   "execution_count": 136,
   "outputs": [],
   "source": [
    "ALPHA = 0.05"
   ],
   "metadata": {
    "collapsed": false,
    "ExecuteTime": {
     "end_time": "2023-11-08T16:52:37.342091Z",
     "start_time": "2023-11-08T16:52:37.303032Z"
    }
   },
   "id": "663d24a15ddc0325"
  },
  {
   "cell_type": "markdown",
   "source": [
    "Wieloczynnikowa analiza regresji "
   ],
   "metadata": {
    "collapsed": false
   },
   "id": "96228041aa8398ae"
  },
  {
   "cell_type": "code",
   "execution_count": 151,
   "outputs": [
    {
     "name": "stdout",
     "output_type": "stream",
     "text": [
      "         Mixed Linear Model Regression Results\n",
      "=======================================================\n",
      "Model:             MixedLM Dependent Variable: Corr_1  \n",
      "No. Observations:  80      Method:             REML    \n",
      "No. Groups:        40      Scale:              0.0500  \n",
      "Min. group size:   2       Log-Likelihood:     -17.1190\n",
      "Max. group size:   2       Converged:          Yes     \n",
      "Mean group size:   2.0                                 \n",
      "-------------------------------------------------------\n",
      "              Coef. Std.Err.   z    P>|z| [0.025 0.975]\n",
      "-------------------------------------------------------\n",
      "Intercept     0.823    0.059 14.047 0.000  0.708  0.938\n",
      "C(Group)[T.B] 0.050    0.050  1.000 0.317 -0.048  0.148\n",
      "C(Płeć)[T.M]  0.123    0.081  1.511 0.131 -0.037  0.282\n",
      "Group Var     0.040    0.093                           \n",
      "=======================================================\n",
      "\n",
      "-------------------\n",
      "Zmienna: C(Group)[T.B], P-value: 0.31730761965954013\n",
      "Brak podstaw do odrzucenia H0.\n",
      "-------------------\n",
      "Zmienna: C(Płeć)[T.M], P-value: 0.13085351164490155\n",
      "Brak podstaw do odrzucenia H0.\n"
     ]
    }
   ],
   "source": [
    "# Płeć + Grupa oddzielnie\n",
    "md = MixedLM.from_formula('Corr_1 ~ C(Group) + C(Płeć)', data=df, groups=df[\"ID\"])\n",
    "mdf = md.fit()\n",
    "print(mdf.summary())\n",
    "\n",
    "p_values = mdf.pvalues[1:-1]\n",
    "names = mdf.model.exog_names[1:]\n",
    "for i, p_val in enumerate(p_values):\n",
    "    print('-------------------')\n",
    "    print(f\"Zmienna: {names[i]}, P-value: {p_val}\")\n",
    "    make_decision(p_val, ALPHA)"
   ],
   "metadata": {
    "collapsed": false,
    "ExecuteTime": {
     "end_time": "2023-11-08T16:59:17.847810Z",
     "start_time": "2023-11-08T16:59:17.799248Z"
    }
   },
   "id": "fc531ad629c4087"
  },
  {
   "cell_type": "code",
   "execution_count": 152,
   "outputs": [
    {
     "name": "stdout",
     "output_type": "stream",
     "text": [
      "           Mixed Linear Model Regression Results\n",
      "===========================================================\n",
      "Model:               MixedLM  Dependent Variable:  Corr_1  \n",
      "No. Observations:    80       Method:              REML    \n",
      "No. Groups:          40       Scale:               0.0467  \n",
      "Min. group size:     2        Log-Likelihood:      -16.6976\n",
      "Max. group size:     2        Converged:           Yes     \n",
      "Mean group size:     2.0                                   \n",
      "-----------------------------------------------------------\n",
      "                  Coef. Std.Err.   z    P>|z| [0.025 0.975]\n",
      "-----------------------------------------------------------\n",
      "Intercept         0.783    0.062 12.660 0.000  0.661  0.904\n",
      "Płeć_Group[T.K_B] 0.130    0.064  2.047 0.041  0.006  0.255\n",
      "Płeć_Group[T.M_A] 0.217    0.095  2.292 0.022  0.032  0.403\n",
      "Płeć_Group[T.M_B] 0.159    0.095  1.672 0.094 -0.027  0.344\n",
      "Group Var         0.041    0.097                           \n",
      "===========================================================\n",
      "\n",
      "-------------------\n",
      "Zmienna: Płeć_Group[T.K_B], P-value: 0.040692588684053836\n",
      "\u001B[31mIstnieją podstawy do odrzucenia H0, przyjmujemy hipotezę H1.\u001B[0m\n",
      "-------------------\n",
      "Zmienna: Płeć_Group[T.M_A], P-value: 0.021876944627807208\n",
      "\u001B[31mIstnieją podstawy do odrzucenia H0, przyjmujemy hipotezę H1.\u001B[0m\n",
      "-------------------\n",
      "Zmienna: Płeć_Group[T.M_B], P-value: 0.09448987079860521\n",
      "Brak podstaw do odrzucenia H0.\n"
     ]
    }
   ],
   "source": [
    "# Płeć + Grupa razem\n",
    "md = MixedLM.from_formula('Corr_1 ~ Płeć_Group', data=df, groups=df[\"ID\"])\n",
    "mdf = md.fit()\n",
    "print(mdf.summary())\n",
    "\n",
    "p_values = mdf.pvalues[1:-1]\n",
    "names = mdf.model.exog_names[1:]\n",
    "for i, p_val in enumerate(p_values):\n",
    "    print('-------------------')\n",
    "    print(f\"Zmienna: {names[i]}, P-value: {p_val}\")\n",
    "    make_decision(p_val, ALPHA)"
   ],
   "metadata": {
    "collapsed": false,
    "ExecuteTime": {
     "end_time": "2023-11-08T16:59:22.312076Z",
     "start_time": "2023-11-08T16:59:22.263726Z"
    }
   },
   "id": "582f36618da52f36"
  },
  {
   "cell_type": "markdown",
   "source": [
    "Wieloczynnikowa analiza wariancji"
   ],
   "metadata": {
    "collapsed": false
   },
   "id": "1c301257ff547a71"
  },
  {
   "cell_type": "code",
   "execution_count": 153,
   "outputs": [
    {
     "name": "stdout",
     "output_type": "stream",
     "text": [
      "            sum_sq    df         F    PR(>F)\n",
      "C(Group)  0.050000   1.0  0.561603  0.455898\n",
      "C(Płeć)   0.294629   1.0  3.309295  0.072777\n",
      "Residual  6.855371  77.0       NaN       NaN\n",
      "-------------------\n",
      "Zmienna: C(Group), P-value: 0.4558983461662266\n",
      "Brak podstaw do odrzucenia H0.\n",
      "-------------------\n",
      "Zmienna: C(Płeć), P-value: 0.07277659180179832\n",
      "Brak podstaw do odrzucenia H0.\n"
     ]
    }
   ],
   "source": [
    "# Płeć i grupa oddzielnie\n",
    "model = ols('Corr_1 ~ C(Group) + C(Płeć)', data=df).fit()\n",
    "anova_table = sm.stats.anova_lm(model, typ=2)\n",
    "print(anova_table)\n",
    "\n",
    "p_values = anova_table['PR(>F)'][:-1]\n",
    "names = anova_table.index[:-1]\n",
    "for i, p_val in enumerate(p_values):\n",
    "    print('-------------------')\n",
    "    print(f\"Zmienna: {names[i]}, P-value: {p_val}\")\n",
    "    make_decision(p_val, ALPHA)"
   ],
   "metadata": {
    "collapsed": false,
    "ExecuteTime": {
     "end_time": "2023-11-08T16:59:25.914030Z",
     "start_time": "2023-11-08T16:59:25.908312Z"
    }
   },
   "id": "ad5e68cc66cc9e2"
  },
  {
   "cell_type": "code",
   "execution_count": 154,
   "outputs": [
    {
     "name": "stdout",
     "output_type": "stream",
     "text": [
      "              sum_sq    df         F    PR(>F)\n",
      "Płeć_Group  0.519693   3.0  1.970801  0.125472\n",
      "Residual    6.680307  76.0       NaN       NaN\n",
      "-------------------\n",
      "Zmienna: Płeć_Group, P-value: 0.12547208145524164\n",
      "Brak podstaw do odrzucenia H0.\n"
     ]
    }
   ],
   "source": [
    "# Płeć i grupa razem\n",
    "model = ols('Corr_1 ~ Płeć_Group', data=df).fit()\n",
    "anova_table = sm.stats.anova_lm(model, typ=2)\n",
    "print(anova_table)\n",
    "\n",
    "p_values = anova_table['PR(>F)'][:-1]\n",
    "names = anova_table.index[:-1]\n",
    "for i, p_val in enumerate(p_values):\n",
    "    print('-------------------')\n",
    "    print(f\"Zmienna: {names[i]}, P-value: {p_val}\")\n",
    "    make_decision(p_val, ALPHA)"
   ],
   "metadata": {
    "collapsed": false,
    "ExecuteTime": {
     "end_time": "2023-11-08T16:59:27.078336Z",
     "start_time": "2023-11-08T16:59:27.074150Z"
    }
   },
   "id": "71104fa379fafaa3"
  },
  {
   "cell_type": "code",
   "execution_count": null,
   "outputs": [],
   "source": [],
   "metadata": {
    "collapsed": false
   },
   "id": "44571fa1a7a96bd5"
  }
 ],
 "metadata": {
  "kernelspec": {
   "display_name": "Python 3",
   "language": "python",
   "name": "python3"
  },
  "language_info": {
   "codemirror_mode": {
    "name": "ipython",
    "version": 2
   },
   "file_extension": ".py",
   "mimetype": "text/x-python",
   "name": "python",
   "nbconvert_exporter": "python",
   "pygments_lexer": "ipython2",
   "version": "2.7.6"
  }
 },
 "nbformat": 4,
 "nbformat_minor": 5
}
