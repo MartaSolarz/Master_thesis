{
 "cells": [
  {
   "cell_type": "markdown",
   "source": [
    "# Redundance analysis - map, table, plot, text\n",
    "\n",
    "\n",
    "SUMS:\n",
    "\n",
    "- Is there a statistically significant difference in the total sum of fixation/visits lengths between different data presentation forms?\n",
    "- Is there a statistically significant difference in the total sum of average fixation/visits lengths between different data presentation forms?\n",
    "- Is there a statistically significant difference in the total sum of numbers of fixations/visits between different data presentation forms?\n",
    "\n",
    "TASKS:\n",
    "\n",
    "- Is there a statistically significant difference in the total length of fixation/visits between different data presentation forms?\n",
    "- Is there a statistically significant difference in the average length of fixation/visits between different data presentation forms?\n",
    "- Is there a statistically significant difference in the average pupil size between different data presentation forms?\n",
    "- Is there a statistically significant difference in the number of fixations/visits between different data presentation forms?\n",
    "\n",
    "AVERAGES:\n",
    "\n",
    "- Is there a statistically significant difference in the average total length of fixation/visits between different data presentation forms?\n",
    "- Is there a statistically significant difference in the average average length of fixation/visits between different data presentation forms?\n",
    "- Is there a statistically significant difference in the average average pupil size between different data presentation forms?\n",
    "- Is there a statistically significant difference in the average number of fixations/visits between different data presentation forms?"
   ],
   "metadata": {
    "collapsed": false
   },
   "id": "2f76ae9c7ae5ab92"
  },
  {
   "cell_type": "code",
   "execution_count": 1,
   "id": "initial_id",
   "metadata": {
    "collapsed": true,
    "ExecuteTime": {
     "end_time": "2024-04-13T20:59:23.879388Z",
     "start_time": "2024-04-13T20:59:23.379665Z"
    }
   },
   "outputs": [],
   "source": [
    "import pandas as pd\n",
    "import seaborn as sns\n",
    "import matplotlib.pyplot as plt\n",
    "\n",
    "from functions.tests.multivariate_analysis import anova\n",
    "from functions.tests.posthoc import anova_posthoc"
   ]
  },
  {
   "cell_type": "code",
   "execution_count": 2,
   "outputs": [
    {
     "data": {
      "text/plain": "     ID  Total_fix_1  Avg_fix_1  Num_fix_1  Avg_pupil_1  Total_visit_1  \\\nidx                                                                      \n104  24        10133      178.0         57      4.09132          18814   \n114  13        41061      268.0        153      3.48387          49982   \n53   16        11075      217.0         51      3.24876          13032   \n\n     Avg_visit_1  Num_visit_1  Total_fix_2  Avg_fix_2  ...  Avg_Total_visit  \\\nidx                                                    ...                    \n104       4703.0            4            0        NaN  ...          13432.0   \n114       9996.0            5          183      183.0  ...          27115.5   \n53        4344.0            3        11923      178.0  ...          28400.5   \n\n     Sum_Avg_fix  Avg_Avg_fix  Sum_Avg_visit  Avg_Avg_visit  Sum_Num_fix  \\\nidx                                                                        \n104        326.0   217.333333         7386.0         4924.0           96   \n114        637.0   318.500000        14245.0         7122.5          171   \n53         563.0   281.500000        22488.0        11244.0          235   \n\n     Avg_Num_fix  Sum_Num_visit  Avg_Num_visit  Avg_AvgPupil  \nidx                                                           \n104         48.0              7            3.5      4.041170  \n114         85.5              7            3.5      3.480120  \n53         117.5             26           13.0      3.181687  \n\n[3 rows x 36 columns]",
      "text/html": "<div>\n<style scoped>\n    .dataframe tbody tr th:only-of-type {\n        vertical-align: middle;\n    }\n\n    .dataframe tbody tr th {\n        vertical-align: top;\n    }\n\n    .dataframe thead th {\n        text-align: right;\n    }\n</style>\n<table border=\"1\" class=\"dataframe\">\n  <thead>\n    <tr style=\"text-align: right;\">\n      <th></th>\n      <th>ID</th>\n      <th>Total_fix_1</th>\n      <th>Avg_fix_1</th>\n      <th>Num_fix_1</th>\n      <th>Avg_pupil_1</th>\n      <th>Total_visit_1</th>\n      <th>Avg_visit_1</th>\n      <th>Num_visit_1</th>\n      <th>Total_fix_2</th>\n      <th>Avg_fix_2</th>\n      <th>...</th>\n      <th>Avg_Total_visit</th>\n      <th>Sum_Avg_fix</th>\n      <th>Avg_Avg_fix</th>\n      <th>Sum_Avg_visit</th>\n      <th>Avg_Avg_visit</th>\n      <th>Sum_Num_fix</th>\n      <th>Avg_Num_fix</th>\n      <th>Sum_Num_visit</th>\n      <th>Avg_Num_visit</th>\n      <th>Avg_AvgPupil</th>\n    </tr>\n    <tr>\n      <th>idx</th>\n      <th></th>\n      <th></th>\n      <th></th>\n      <th></th>\n      <th></th>\n      <th></th>\n      <th></th>\n      <th></th>\n      <th></th>\n      <th></th>\n      <th></th>\n      <th></th>\n      <th></th>\n      <th></th>\n      <th></th>\n      <th></th>\n      <th></th>\n      <th></th>\n      <th></th>\n      <th></th>\n      <th></th>\n    </tr>\n  </thead>\n  <tbody>\n    <tr>\n      <th>104</th>\n      <td>24</td>\n      <td>10133</td>\n      <td>178.0</td>\n      <td>57</td>\n      <td>4.09132</td>\n      <td>18814</td>\n      <td>4703.0</td>\n      <td>4</td>\n      <td>0</td>\n      <td>NaN</td>\n      <td>...</td>\n      <td>13432.0</td>\n      <td>326.0</td>\n      <td>217.333333</td>\n      <td>7386.0</td>\n      <td>4924.0</td>\n      <td>96</td>\n      <td>48.0</td>\n      <td>7</td>\n      <td>3.5</td>\n      <td>4.041170</td>\n    </tr>\n    <tr>\n      <th>114</th>\n      <td>13</td>\n      <td>41061</td>\n      <td>268.0</td>\n      <td>153</td>\n      <td>3.48387</td>\n      <td>49982</td>\n      <td>9996.0</td>\n      <td>5</td>\n      <td>183</td>\n      <td>183.0</td>\n      <td>...</td>\n      <td>27115.5</td>\n      <td>637.0</td>\n      <td>318.500000</td>\n      <td>14245.0</td>\n      <td>7122.5</td>\n      <td>171</td>\n      <td>85.5</td>\n      <td>7</td>\n      <td>3.5</td>\n      <td>3.480120</td>\n    </tr>\n    <tr>\n      <th>53</th>\n      <td>16</td>\n      <td>11075</td>\n      <td>217.0</td>\n      <td>51</td>\n      <td>3.24876</td>\n      <td>13032</td>\n      <td>4344.0</td>\n      <td>3</td>\n      <td>11923</td>\n      <td>178.0</td>\n      <td>...</td>\n      <td>28400.5</td>\n      <td>563.0</td>\n      <td>281.500000</td>\n      <td>22488.0</td>\n      <td>11244.0</td>\n      <td>235</td>\n      <td>117.5</td>\n      <td>26</td>\n      <td>13.0</td>\n      <td>3.181687</td>\n    </tr>\n  </tbody>\n</table>\n<p>3 rows × 36 columns</p>\n</div>"
     },
     "execution_count": 2,
     "metadata": {},
     "output_type": "execute_result"
    }
   ],
   "source": [
    "df = pd.read_csv('/Users/martasolarz/Studies/Thesis/Master_thesis/prepare_datasets/sets/map_tab_plt_txt.csv', index_col='idx')\n",
    "\n",
    "df.sample(3)"
   ],
   "metadata": {
    "collapsed": false,
    "ExecuteTime": {
     "end_time": "2024-04-13T20:59:23.909634Z",
     "start_time": "2024-04-13T20:59:23.883932Z"
    }
   },
   "id": "80b0eaaa0176b543"
  },
  {
   "cell_type": "code",
   "execution_count": 3,
   "outputs": [],
   "source": [
    "ALPHA = 0.05"
   ],
   "metadata": {
    "collapsed": false,
    "ExecuteTime": {
     "end_time": "2024-04-13T20:59:23.932011Z",
     "start_time": "2024-04-13T20:59:23.908282Z"
    }
   },
   "id": "c6bd442114991b4b"
  },
  {
   "cell_type": "code",
   "execution_count": 4,
   "outputs": [],
   "source": [
    "def test(data, columns, flag=True):\n",
    "    for col in columns:\n",
    "        print('#################################')\n",
    "        print(col)\n",
    "        if flag:\n",
    "            data_copy = data.fillna(0)\n",
    "        else:\n",
    "            data_copy = data.copy()\n",
    "        anova(data_copy, col, ['Group'], 'ID', ALPHA)\n",
    "        \n",
    "def posthoc_tests(df, columns):\n",
    "    for col in columns:\n",
    "        print('#################################')\n",
    "        print(col)\n",
    "        anova_posthoc(df, col, 'Group', 'ID')"
   ],
   "metadata": {
    "collapsed": false,
    "ExecuteTime": {
     "end_time": "2024-04-13T20:59:23.933735Z",
     "start_time": "2024-04-13T20:59:23.914994Z"
    }
   },
   "id": "a25770d5ba0f8166"
  },
  {
   "cell_type": "code",
   "execution_count": 5,
   "outputs": [],
   "source": [
    "fixations = df.filter(regex='.*fix.*').columns\n",
    "visits = df.filter(regex='.*visit.*').columns"
   ],
   "metadata": {
    "collapsed": false,
    "ExecuteTime": {
     "end_time": "2024-04-13T20:59:23.958862Z",
     "start_time": "2024-04-13T20:59:23.922652Z"
    }
   },
   "id": "9551916e843702d5"
  },
  {
   "cell_type": "markdown",
   "source": [
    "### Analyzing outliers"
   ],
   "metadata": {
    "collapsed": false
   },
   "id": "f72930550070b53"
  },
  {
   "cell_type": "code",
   "execution_count": 6,
   "outputs": [
    {
     "data": {
      "text/plain": "             count      mean       std      min      50%      75%       90%  \\\nAvg_pupil_1  141.0  3.416394  0.438379  2.68364  3.35424  3.74963  4.076160   \nAvg_pupil_2  153.0  3.413406  0.438701  2.70799  3.36283  3.68014  4.008874   \nAvg_pupil_3  153.0  3.334845  0.416731  2.63962  3.29306  3.62817  3.861874   \n\n                  95%       99%     99.9%      max  \nAvg_pupil_1  4.216680  4.454400  4.486297  4.48699  \nAvg_pupil_2  4.275562  4.508463  4.586104  4.59915  \nAvg_pupil_3  4.140084  4.350662  4.380160  4.38166  ",
      "text/html": "<div>\n<style scoped>\n    .dataframe tbody tr th:only-of-type {\n        vertical-align: middle;\n    }\n\n    .dataframe tbody tr th {\n        vertical-align: top;\n    }\n\n    .dataframe thead th {\n        text-align: right;\n    }\n</style>\n<table border=\"1\" class=\"dataframe\">\n  <thead>\n    <tr style=\"text-align: right;\">\n      <th></th>\n      <th>count</th>\n      <th>mean</th>\n      <th>std</th>\n      <th>min</th>\n      <th>50%</th>\n      <th>75%</th>\n      <th>90%</th>\n      <th>95%</th>\n      <th>99%</th>\n      <th>99.9%</th>\n      <th>max</th>\n    </tr>\n  </thead>\n  <tbody>\n    <tr>\n      <th>Avg_pupil_1</th>\n      <td>141.0</td>\n      <td>3.416394</td>\n      <td>0.438379</td>\n      <td>2.68364</td>\n      <td>3.35424</td>\n      <td>3.74963</td>\n      <td>4.076160</td>\n      <td>4.216680</td>\n      <td>4.454400</td>\n      <td>4.486297</td>\n      <td>4.48699</td>\n    </tr>\n    <tr>\n      <th>Avg_pupil_2</th>\n      <td>153.0</td>\n      <td>3.413406</td>\n      <td>0.438701</td>\n      <td>2.70799</td>\n      <td>3.36283</td>\n      <td>3.68014</td>\n      <td>4.008874</td>\n      <td>4.275562</td>\n      <td>4.508463</td>\n      <td>4.586104</td>\n      <td>4.59915</td>\n    </tr>\n    <tr>\n      <th>Avg_pupil_3</th>\n      <td>153.0</td>\n      <td>3.334845</td>\n      <td>0.416731</td>\n      <td>2.63962</td>\n      <td>3.29306</td>\n      <td>3.62817</td>\n      <td>3.861874</td>\n      <td>4.140084</td>\n      <td>4.350662</td>\n      <td>4.380160</td>\n      <td>4.38166</td>\n    </tr>\n  </tbody>\n</table>\n</div>"
     },
     "execution_count": 6,
     "metadata": {},
     "output_type": "execute_result"
    }
   ],
   "source": [
    "df.filter(regex='.*pupil.*').describe([.75, .9, .95, .99, .999]).T"
   ],
   "metadata": {
    "collapsed": false,
    "ExecuteTime": {
     "end_time": "2024-04-13T20:59:24.016473Z",
     "start_time": "2024-04-13T20:59:23.934173Z"
    }
   },
   "id": "59f3400cacb077c4"
  },
  {
   "cell_type": "code",
   "execution_count": 7,
   "outputs": [
    {
     "data": {
      "text/plain": "Avg_pupil_1    3.35424\nAvg_pupil_2    3.36283\nAvg_pupil_3    3.29306\ndtype: float64"
     },
     "execution_count": 7,
     "metadata": {},
     "output_type": "execute_result"
    }
   ],
   "source": [
    "df.filter(regex='.*pupil.*').median()"
   ],
   "metadata": {
    "collapsed": false,
    "ExecuteTime": {
     "end_time": "2024-04-13T20:59:24.020681Z",
     "start_time": "2024-04-13T20:59:23.959783Z"
    }
   },
   "id": "42bfaab08939cbed"
  },
  {
   "cell_type": "code",
   "execution_count": 8,
   "outputs": [
    {
     "data": {
      "text/plain": "                 count          mean           std    min       50%  \\\nTotal_fix_1      160.0   7371.168750  10378.888974    0.0   3092.00   \nTotal_visit_1    160.0   9796.237500  12862.922321    0.0   5237.00   \nTotal_fix_2      160.0   7990.206250   9848.588394    0.0   4341.00   \nTotal_visit_2    160.0  11002.275000  13142.518800    0.0   6166.50   \nTotal_fix_3      160.0  11317.393750  11586.486423    0.0   7807.50   \nTotal_visit_3    160.0  15078.612500  14362.943484    0.0  11618.00   \nSum_Total_fix    160.0  26678.768750  22139.078219  550.0  21121.50   \nAvg_Total_fix    160.0  13339.384375  11069.539109  275.0  10560.75   \nSum_Total_visit  160.0  35877.125000  27322.949501  575.0  30460.50   \nAvg_Total_visit  160.0  17938.562500  13661.474751  287.5  15230.25   \n\n                       75%       90%       95%         99%        99.9%  \\\nTotal_fix_1      10160.000  18253.10  29716.15   48565.740   57294.4670   \nTotal_visit_1    13792.500  23604.70  39290.10   56992.100   66447.5930   \nTotal_fix_2       9699.000  20778.40  30453.80   44049.690   51988.7900   \nTotal_visit_2    14471.250  32393.60  41565.80   54191.860   65663.5990   \nTotal_fix_3      15623.250  26100.50  31381.55   51745.040   70309.4390   \nTotal_visit_3    20867.500  32605.30  42009.75   62326.520   80151.2130   \nSum_Total_fix    35983.250  55495.10  67413.00  102440.780  133511.5190   \nAvg_Total_fix    17991.625  27747.55  33706.50   51220.390   66755.7595   \nSum_Total_visit  48195.500  70824.70  86588.60  121174.850  165452.6570   \nAvg_Total_visit  24097.750  35412.35  43294.30   60587.425   82726.3285   \n\n                      max  \nTotal_fix_1       58787.0  \nTotal_visit_1     67286.0  \nTotal_fix_2       52496.0  \nTotal_visit_2     66433.0  \nTotal_fix_3       73502.0  \nTotal_visit_3     82710.0  \nSum_Total_fix    138275.0  \nAvg_Total_fix     69137.5  \nSum_Total_visit  172922.0  \nAvg_Total_visit   86461.0  ",
      "text/html": "<div>\n<style scoped>\n    .dataframe tbody tr th:only-of-type {\n        vertical-align: middle;\n    }\n\n    .dataframe tbody tr th {\n        vertical-align: top;\n    }\n\n    .dataframe thead th {\n        text-align: right;\n    }\n</style>\n<table border=\"1\" class=\"dataframe\">\n  <thead>\n    <tr style=\"text-align: right;\">\n      <th></th>\n      <th>count</th>\n      <th>mean</th>\n      <th>std</th>\n      <th>min</th>\n      <th>50%</th>\n      <th>75%</th>\n      <th>90%</th>\n      <th>95%</th>\n      <th>99%</th>\n      <th>99.9%</th>\n      <th>max</th>\n    </tr>\n  </thead>\n  <tbody>\n    <tr>\n      <th>Total_fix_1</th>\n      <td>160.0</td>\n      <td>7371.168750</td>\n      <td>10378.888974</td>\n      <td>0.0</td>\n      <td>3092.00</td>\n      <td>10160.000</td>\n      <td>18253.10</td>\n      <td>29716.15</td>\n      <td>48565.740</td>\n      <td>57294.4670</td>\n      <td>58787.0</td>\n    </tr>\n    <tr>\n      <th>Total_visit_1</th>\n      <td>160.0</td>\n      <td>9796.237500</td>\n      <td>12862.922321</td>\n      <td>0.0</td>\n      <td>5237.00</td>\n      <td>13792.500</td>\n      <td>23604.70</td>\n      <td>39290.10</td>\n      <td>56992.100</td>\n      <td>66447.5930</td>\n      <td>67286.0</td>\n    </tr>\n    <tr>\n      <th>Total_fix_2</th>\n      <td>160.0</td>\n      <td>7990.206250</td>\n      <td>9848.588394</td>\n      <td>0.0</td>\n      <td>4341.00</td>\n      <td>9699.000</td>\n      <td>20778.40</td>\n      <td>30453.80</td>\n      <td>44049.690</td>\n      <td>51988.7900</td>\n      <td>52496.0</td>\n    </tr>\n    <tr>\n      <th>Total_visit_2</th>\n      <td>160.0</td>\n      <td>11002.275000</td>\n      <td>13142.518800</td>\n      <td>0.0</td>\n      <td>6166.50</td>\n      <td>14471.250</td>\n      <td>32393.60</td>\n      <td>41565.80</td>\n      <td>54191.860</td>\n      <td>65663.5990</td>\n      <td>66433.0</td>\n    </tr>\n    <tr>\n      <th>Total_fix_3</th>\n      <td>160.0</td>\n      <td>11317.393750</td>\n      <td>11586.486423</td>\n      <td>0.0</td>\n      <td>7807.50</td>\n      <td>15623.250</td>\n      <td>26100.50</td>\n      <td>31381.55</td>\n      <td>51745.040</td>\n      <td>70309.4390</td>\n      <td>73502.0</td>\n    </tr>\n    <tr>\n      <th>Total_visit_3</th>\n      <td>160.0</td>\n      <td>15078.612500</td>\n      <td>14362.943484</td>\n      <td>0.0</td>\n      <td>11618.00</td>\n      <td>20867.500</td>\n      <td>32605.30</td>\n      <td>42009.75</td>\n      <td>62326.520</td>\n      <td>80151.2130</td>\n      <td>82710.0</td>\n    </tr>\n    <tr>\n      <th>Sum_Total_fix</th>\n      <td>160.0</td>\n      <td>26678.768750</td>\n      <td>22139.078219</td>\n      <td>550.0</td>\n      <td>21121.50</td>\n      <td>35983.250</td>\n      <td>55495.10</td>\n      <td>67413.00</td>\n      <td>102440.780</td>\n      <td>133511.5190</td>\n      <td>138275.0</td>\n    </tr>\n    <tr>\n      <th>Avg_Total_fix</th>\n      <td>160.0</td>\n      <td>13339.384375</td>\n      <td>11069.539109</td>\n      <td>275.0</td>\n      <td>10560.75</td>\n      <td>17991.625</td>\n      <td>27747.55</td>\n      <td>33706.50</td>\n      <td>51220.390</td>\n      <td>66755.7595</td>\n      <td>69137.5</td>\n    </tr>\n    <tr>\n      <th>Sum_Total_visit</th>\n      <td>160.0</td>\n      <td>35877.125000</td>\n      <td>27322.949501</td>\n      <td>575.0</td>\n      <td>30460.50</td>\n      <td>48195.500</td>\n      <td>70824.70</td>\n      <td>86588.60</td>\n      <td>121174.850</td>\n      <td>165452.6570</td>\n      <td>172922.0</td>\n    </tr>\n    <tr>\n      <th>Avg_Total_visit</th>\n      <td>160.0</td>\n      <td>17938.562500</td>\n      <td>13661.474751</td>\n      <td>287.5</td>\n      <td>15230.25</td>\n      <td>24097.750</td>\n      <td>35412.35</td>\n      <td>43294.30</td>\n      <td>60587.425</td>\n      <td>82726.3285</td>\n      <td>86461.0</td>\n    </tr>\n  </tbody>\n</table>\n</div>"
     },
     "execution_count": 8,
     "metadata": {},
     "output_type": "execute_result"
    }
   ],
   "source": [
    "df.filter(regex='Total.*').describe([.75, .9, .95, .99, .999]).T"
   ],
   "metadata": {
    "collapsed": false,
    "ExecuteTime": {
     "end_time": "2024-04-13T20:59:24.168615Z",
     "start_time": "2024-04-13T20:59:23.986210Z"
    }
   },
   "id": "7939c061da83c974"
  },
  {
   "cell_type": "code",
   "execution_count": 9,
   "outputs": [
    {
     "data": {
      "text/plain": "Total_fix_1         3092.00\nTotal_visit_1       5237.00\nTotal_fix_2         4341.00\nTotal_visit_2       6166.50\nTotal_fix_3         7807.50\nTotal_visit_3      11618.00\nSum_Total_fix      21121.50\nAvg_Total_fix      10560.75\nSum_Total_visit    30460.50\nAvg_Total_visit    15230.25\ndtype: float64"
     },
     "execution_count": 9,
     "metadata": {},
     "output_type": "execute_result"
    }
   ],
   "source": [
    "df.filter(regex='Total.*').median()"
   ],
   "metadata": {
    "collapsed": false,
    "ExecuteTime": {
     "end_time": "2024-04-13T20:59:24.168893Z",
     "start_time": "2024-04-13T20:59:24.006048Z"
    }
   },
   "id": "9ca12cf98bd96c01"
  },
  {
   "cell_type": "code",
   "execution_count": 10,
   "outputs": [
    {
     "name": "stdout",
     "output_type": "stream",
     "text": [
      "Number of records in the column 'Total_fix_1' that are greater than 99% of the values: (2, [7, 20])\n",
      "Number of records in the column 'Total_visit_1' that are greater than 99% of the values: (2, [7, 20])\n",
      "Number of records in the column 'Total_fix_2' that are greater than 99% of the values: (2, [15, 2])\n",
      "Number of records in the column 'Total_visit_2' that are greater than 99% of the values: (2, [15, 2])\n",
      "Number of records in the column 'Total_fix_3' that are greater than 99% of the values: (2, [19, 2])\n",
      "Number of records in the column 'Total_visit_3' that are greater than 99% of the values: (2, [19, 2])\n",
      "Number of records in the column 'Sum_Total_fix' that are greater than 99% of the values: (2, [29, 2])\n",
      "Number of records in the column 'Avg_Total_fix' that are greater than 99% of the values: (2, [29, 2])\n",
      "Number of records in the column 'Sum_Total_visit' that are greater than 99% of the values: (2, [29, 2])\n",
      "Number of records in the column 'Avg_Total_visit' that are greater than 99% of the values: (2, [29, 2])\n"
     ]
    }
   ],
   "source": [
    "for column in df.filter(regex='Total.*').columns:\n",
    "    if pd.api.types.is_numeric_dtype(df[column]):\n",
    "        percentile_99 = df[column].quantile(0.99)\n",
    "        records_above_99_percentile = df[df[column] > percentile_99]\n",
    "        print(f\"Number of records in the column '{column}' that are greater than 99% of the values: {len(records_above_99_percentile), list(records_above_99_percentile.ID)}\")"
   ],
   "metadata": {
    "collapsed": false,
    "ExecuteTime": {
     "end_time": "2024-04-13T20:59:24.278464Z",
     "start_time": "2024-04-13T20:59:24.016858Z"
    }
   },
   "id": "73d156d39decdd42"
  },
  {
   "cell_type": "code",
   "execution_count": 11,
   "outputs": [
    {
     "data": {
      "text/plain": "                 count          mean           std         min           50%  \\\nAvg_fix_1        141.0    187.042553     49.544046   75.000000    186.000000   \nAvg_visit_1      141.0   2572.226950   3373.798200   92.000000   1320.000000   \nAvg_fix_2        153.0    181.143791     43.724379   99.000000    178.000000   \nAvg_visit_2      153.0   2030.470588   2420.900833  108.000000   1326.000000   \nAvg_fix_3        153.0    186.143791     45.003277   79.000000    189.000000   \nAvg_visit_3      153.0   2631.071895   2711.385185   79.000000   1938.000000   \nAvg_Total_fix    160.0  13339.384375  11069.539109  275.000000  10560.750000   \nAvg_Total_visit  160.0  17938.562500  13661.474751  287.500000  15230.250000   \nSum_Avg_fix      160.0    516.050000    141.948560  155.000000    529.000000   \nAvg_Avg_fix      160.0    269.137500     58.804930  128.000000    272.250000   \nSum_Avg_visit    160.0   6724.375000   5850.412950  287.000000   5338.000000   \nAvg_Avg_visit    160.0   3488.678125   2972.387903  214.000000   2731.166667   \nAvg_Num_fix      160.0     67.412500     49.091000    1.500000     58.500000   \nAvg_Num_visit    160.0      8.159375      4.357229    1.000000      7.500000   \nAvg_AvgPupil     160.0      3.394842      0.420935    2.723587      3.354507   \n\n                          75%           90%           95%           99%  \\\nAvg_fix_1          225.000000    246.000000    265.000000    285.400000   \nAvg_visit_1       4013.000000   5816.000000   6783.000000  16732.000000   \nAvg_fix_2          214.000000    239.200000    251.400000    277.400000   \nAvg_visit_2       2452.000000   4197.400000   5715.400000  12866.080000   \nAvg_fix_3          215.000000    242.600000    259.400000    290.880000   \nAvg_visit_3       3022.000000   5267.400000   9085.800000  12237.000000   \nAvg_Total_fix    17991.625000  27747.550000  33706.500000  51220.390000   \nAvg_Total_visit  24097.750000  35412.350000  43294.300000  60587.425000   \nSum_Avg_fix        617.750000    690.600000    737.050000    786.050000   \nAvg_Avg_fix        310.625000    345.300000    368.525000    393.025000   \nSum_Avg_visit     8963.250000  12657.600000  17536.950000  29474.570000   \nAvg_Avg_visit     4548.125000   6619.650000   8923.550000  14737.285000   \nAvg_Num_fix         91.500000    126.600000    155.525000    208.380000   \nAvg_Num_visit       10.500000     13.500000     15.525000     22.320000   \nAvg_AvgPupil         3.699113      3.984183      4.229208      4.368155   \n\n                        99.9%           max  \nAvg_fix_1          325.700000    332.000000  \nAvg_visit_1      23599.480000  24344.000000  \nAvg_fix_2          321.552000    329.000000  \nAvg_visit_2      16875.968000  16924.000000  \nAvg_fix_3          302.480000    304.000000  \nAvg_visit_3      15297.824000  15695.000000  \nAvg_Total_fix    66755.759500  69137.500000  \nAvg_Total_visit  82726.328500  86461.000000  \nSum_Avg_fix        789.841000    790.000000  \nAvg_Avg_fix        394.920500    395.000000  \nSum_Avg_visit    37506.054000  38157.000000  \nAvg_Avg_visit    18753.027000  19078.500000  \nAvg_Num_fix        294.269500    308.500000  \nAvg_Num_visit       25.602500     26.000000  \nAvg_AvgPupil         4.373549      4.374495  ",
      "text/html": "<div>\n<style scoped>\n    .dataframe tbody tr th:only-of-type {\n        vertical-align: middle;\n    }\n\n    .dataframe tbody tr th {\n        vertical-align: top;\n    }\n\n    .dataframe thead th {\n        text-align: right;\n    }\n</style>\n<table border=\"1\" class=\"dataframe\">\n  <thead>\n    <tr style=\"text-align: right;\">\n      <th></th>\n      <th>count</th>\n      <th>mean</th>\n      <th>std</th>\n      <th>min</th>\n      <th>50%</th>\n      <th>75%</th>\n      <th>90%</th>\n      <th>95%</th>\n      <th>99%</th>\n      <th>99.9%</th>\n      <th>max</th>\n    </tr>\n  </thead>\n  <tbody>\n    <tr>\n      <th>Avg_fix_1</th>\n      <td>141.0</td>\n      <td>187.042553</td>\n      <td>49.544046</td>\n      <td>75.000000</td>\n      <td>186.000000</td>\n      <td>225.000000</td>\n      <td>246.000000</td>\n      <td>265.000000</td>\n      <td>285.400000</td>\n      <td>325.700000</td>\n      <td>332.000000</td>\n    </tr>\n    <tr>\n      <th>Avg_visit_1</th>\n      <td>141.0</td>\n      <td>2572.226950</td>\n      <td>3373.798200</td>\n      <td>92.000000</td>\n      <td>1320.000000</td>\n      <td>4013.000000</td>\n      <td>5816.000000</td>\n      <td>6783.000000</td>\n      <td>16732.000000</td>\n      <td>23599.480000</td>\n      <td>24344.000000</td>\n    </tr>\n    <tr>\n      <th>Avg_fix_2</th>\n      <td>153.0</td>\n      <td>181.143791</td>\n      <td>43.724379</td>\n      <td>99.000000</td>\n      <td>178.000000</td>\n      <td>214.000000</td>\n      <td>239.200000</td>\n      <td>251.400000</td>\n      <td>277.400000</td>\n      <td>321.552000</td>\n      <td>329.000000</td>\n    </tr>\n    <tr>\n      <th>Avg_visit_2</th>\n      <td>153.0</td>\n      <td>2030.470588</td>\n      <td>2420.900833</td>\n      <td>108.000000</td>\n      <td>1326.000000</td>\n      <td>2452.000000</td>\n      <td>4197.400000</td>\n      <td>5715.400000</td>\n      <td>12866.080000</td>\n      <td>16875.968000</td>\n      <td>16924.000000</td>\n    </tr>\n    <tr>\n      <th>Avg_fix_3</th>\n      <td>153.0</td>\n      <td>186.143791</td>\n      <td>45.003277</td>\n      <td>79.000000</td>\n      <td>189.000000</td>\n      <td>215.000000</td>\n      <td>242.600000</td>\n      <td>259.400000</td>\n      <td>290.880000</td>\n      <td>302.480000</td>\n      <td>304.000000</td>\n    </tr>\n    <tr>\n      <th>Avg_visit_3</th>\n      <td>153.0</td>\n      <td>2631.071895</td>\n      <td>2711.385185</td>\n      <td>79.000000</td>\n      <td>1938.000000</td>\n      <td>3022.000000</td>\n      <td>5267.400000</td>\n      <td>9085.800000</td>\n      <td>12237.000000</td>\n      <td>15297.824000</td>\n      <td>15695.000000</td>\n    </tr>\n    <tr>\n      <th>Avg_Total_fix</th>\n      <td>160.0</td>\n      <td>13339.384375</td>\n      <td>11069.539109</td>\n      <td>275.000000</td>\n      <td>10560.750000</td>\n      <td>17991.625000</td>\n      <td>27747.550000</td>\n      <td>33706.500000</td>\n      <td>51220.390000</td>\n      <td>66755.759500</td>\n      <td>69137.500000</td>\n    </tr>\n    <tr>\n      <th>Avg_Total_visit</th>\n      <td>160.0</td>\n      <td>17938.562500</td>\n      <td>13661.474751</td>\n      <td>287.500000</td>\n      <td>15230.250000</td>\n      <td>24097.750000</td>\n      <td>35412.350000</td>\n      <td>43294.300000</td>\n      <td>60587.425000</td>\n      <td>82726.328500</td>\n      <td>86461.000000</td>\n    </tr>\n    <tr>\n      <th>Sum_Avg_fix</th>\n      <td>160.0</td>\n      <td>516.050000</td>\n      <td>141.948560</td>\n      <td>155.000000</td>\n      <td>529.000000</td>\n      <td>617.750000</td>\n      <td>690.600000</td>\n      <td>737.050000</td>\n      <td>786.050000</td>\n      <td>789.841000</td>\n      <td>790.000000</td>\n    </tr>\n    <tr>\n      <th>Avg_Avg_fix</th>\n      <td>160.0</td>\n      <td>269.137500</td>\n      <td>58.804930</td>\n      <td>128.000000</td>\n      <td>272.250000</td>\n      <td>310.625000</td>\n      <td>345.300000</td>\n      <td>368.525000</td>\n      <td>393.025000</td>\n      <td>394.920500</td>\n      <td>395.000000</td>\n    </tr>\n    <tr>\n      <th>Sum_Avg_visit</th>\n      <td>160.0</td>\n      <td>6724.375000</td>\n      <td>5850.412950</td>\n      <td>287.000000</td>\n      <td>5338.000000</td>\n      <td>8963.250000</td>\n      <td>12657.600000</td>\n      <td>17536.950000</td>\n      <td>29474.570000</td>\n      <td>37506.054000</td>\n      <td>38157.000000</td>\n    </tr>\n    <tr>\n      <th>Avg_Avg_visit</th>\n      <td>160.0</td>\n      <td>3488.678125</td>\n      <td>2972.387903</td>\n      <td>214.000000</td>\n      <td>2731.166667</td>\n      <td>4548.125000</td>\n      <td>6619.650000</td>\n      <td>8923.550000</td>\n      <td>14737.285000</td>\n      <td>18753.027000</td>\n      <td>19078.500000</td>\n    </tr>\n    <tr>\n      <th>Avg_Num_fix</th>\n      <td>160.0</td>\n      <td>67.412500</td>\n      <td>49.091000</td>\n      <td>1.500000</td>\n      <td>58.500000</td>\n      <td>91.500000</td>\n      <td>126.600000</td>\n      <td>155.525000</td>\n      <td>208.380000</td>\n      <td>294.269500</td>\n      <td>308.500000</td>\n    </tr>\n    <tr>\n      <th>Avg_Num_visit</th>\n      <td>160.0</td>\n      <td>8.159375</td>\n      <td>4.357229</td>\n      <td>1.000000</td>\n      <td>7.500000</td>\n      <td>10.500000</td>\n      <td>13.500000</td>\n      <td>15.525000</td>\n      <td>22.320000</td>\n      <td>25.602500</td>\n      <td>26.000000</td>\n    </tr>\n    <tr>\n      <th>Avg_AvgPupil</th>\n      <td>160.0</td>\n      <td>3.394842</td>\n      <td>0.420935</td>\n      <td>2.723587</td>\n      <td>3.354507</td>\n      <td>3.699113</td>\n      <td>3.984183</td>\n      <td>4.229208</td>\n      <td>4.368155</td>\n      <td>4.373549</td>\n      <td>4.374495</td>\n    </tr>\n  </tbody>\n</table>\n</div>"
     },
     "execution_count": 11,
     "metadata": {},
     "output_type": "execute_result"
    }
   ],
   "source": [
    "df.filter(regex='Avg_(?!pupil).*').describe([.75, .9, .95, .99, .999]).T"
   ],
   "metadata": {
    "collapsed": false,
    "ExecuteTime": {
     "end_time": "2024-04-13T20:59:24.299389Z",
     "start_time": "2024-04-13T20:59:24.027917Z"
    }
   },
   "id": "4d03dcbceffe2ff9"
  },
  {
   "cell_type": "code",
   "execution_count": 12,
   "outputs": [
    {
     "data": {
      "text/plain": "Avg_fix_1            186.000000\nAvg_visit_1         1320.000000\nAvg_fix_2            178.000000\nAvg_visit_2         1326.000000\nAvg_fix_3            189.000000\nAvg_visit_3         1938.000000\nAvg_Total_fix      10560.750000\nAvg_Total_visit    15230.250000\nSum_Avg_fix          529.000000\nAvg_Avg_fix          272.250000\nSum_Avg_visit       5338.000000\nAvg_Avg_visit       2731.166667\nAvg_Num_fix           58.500000\nAvg_Num_visit          7.500000\nAvg_AvgPupil           3.354507\ndtype: float64"
     },
     "execution_count": 12,
     "metadata": {},
     "output_type": "execute_result"
    }
   ],
   "source": [
    "df.filter(regex='Avg_(?!pupil).*').median()"
   ],
   "metadata": {
    "collapsed": false,
    "ExecuteTime": {
     "end_time": "2024-04-13T20:59:24.299731Z",
     "start_time": "2024-04-13T20:59:24.055483Z"
    }
   },
   "id": "7243744d1a7f629f"
  },
  {
   "cell_type": "code",
   "execution_count": 13,
   "outputs": [
    {
     "data": {
      "text/plain": "               count        mean        std  min    50%     75%    90%  \\\nNum_fix_1      160.0   35.687500  45.413431  0.0   18.5   56.25   88.2   \nNum_visit_1    160.0    3.975000   3.315582  0.0    3.0    6.00    9.0   \nNum_fix_2      160.0   41.925000  48.354112  0.0   25.5   55.00  110.3   \nNum_visit_2    160.0    5.506250   3.938197  0.0    5.0    7.00   12.0   \nNum_fix_3      160.0   57.212500  52.549035  0.0   45.0   80.00  122.1   \nNum_visit_3    160.0    6.837500   5.958861  0.0    6.0   10.00   14.0   \nSum_Num_fix    160.0  134.825000  98.182000  3.0  117.0  183.00  253.2   \nAvg_Num_fix    160.0   67.412500  49.091000  1.5   58.5   91.50  126.6   \nSum_Num_visit  160.0   16.318750   8.714458  2.0   15.0   21.00   27.0   \nAvg_Num_visit  160.0    8.159375   4.357229  1.0    7.5   10.50   13.5   \n\n                   95%     99%     99.9%    max  \nNum_fix_1      140.000  201.58  233.2510  235.0  \nNum_visit_1     10.000   13.00   13.8410   14.0  \nNum_fix_2      148.700  206.27  249.1380  252.0  \nNum_visit_2     13.000   17.05   21.6820   22.0  \nNum_fix_3      145.600  233.56  255.6150  258.0  \nNum_visit_3     16.000   29.33   38.6820   39.0  \nSum_Num_fix    311.050  416.76  588.5390  617.0  \nAvg_Num_fix    155.525  208.38  294.2695  308.5  \nSum_Num_visit   31.050   44.64   51.2050   52.0  \nAvg_Num_visit   15.525   22.32   25.6025   26.0  ",
      "text/html": "<div>\n<style scoped>\n    .dataframe tbody tr th:only-of-type {\n        vertical-align: middle;\n    }\n\n    .dataframe tbody tr th {\n        vertical-align: top;\n    }\n\n    .dataframe thead th {\n        text-align: right;\n    }\n</style>\n<table border=\"1\" class=\"dataframe\">\n  <thead>\n    <tr style=\"text-align: right;\">\n      <th></th>\n      <th>count</th>\n      <th>mean</th>\n      <th>std</th>\n      <th>min</th>\n      <th>50%</th>\n      <th>75%</th>\n      <th>90%</th>\n      <th>95%</th>\n      <th>99%</th>\n      <th>99.9%</th>\n      <th>max</th>\n    </tr>\n  </thead>\n  <tbody>\n    <tr>\n      <th>Num_fix_1</th>\n      <td>160.0</td>\n      <td>35.687500</td>\n      <td>45.413431</td>\n      <td>0.0</td>\n      <td>18.5</td>\n      <td>56.25</td>\n      <td>88.2</td>\n      <td>140.000</td>\n      <td>201.58</td>\n      <td>233.2510</td>\n      <td>235.0</td>\n    </tr>\n    <tr>\n      <th>Num_visit_1</th>\n      <td>160.0</td>\n      <td>3.975000</td>\n      <td>3.315582</td>\n      <td>0.0</td>\n      <td>3.0</td>\n      <td>6.00</td>\n      <td>9.0</td>\n      <td>10.000</td>\n      <td>13.00</td>\n      <td>13.8410</td>\n      <td>14.0</td>\n    </tr>\n    <tr>\n      <th>Num_fix_2</th>\n      <td>160.0</td>\n      <td>41.925000</td>\n      <td>48.354112</td>\n      <td>0.0</td>\n      <td>25.5</td>\n      <td>55.00</td>\n      <td>110.3</td>\n      <td>148.700</td>\n      <td>206.27</td>\n      <td>249.1380</td>\n      <td>252.0</td>\n    </tr>\n    <tr>\n      <th>Num_visit_2</th>\n      <td>160.0</td>\n      <td>5.506250</td>\n      <td>3.938197</td>\n      <td>0.0</td>\n      <td>5.0</td>\n      <td>7.00</td>\n      <td>12.0</td>\n      <td>13.000</td>\n      <td>17.05</td>\n      <td>21.6820</td>\n      <td>22.0</td>\n    </tr>\n    <tr>\n      <th>Num_fix_3</th>\n      <td>160.0</td>\n      <td>57.212500</td>\n      <td>52.549035</td>\n      <td>0.0</td>\n      <td>45.0</td>\n      <td>80.00</td>\n      <td>122.1</td>\n      <td>145.600</td>\n      <td>233.56</td>\n      <td>255.6150</td>\n      <td>258.0</td>\n    </tr>\n    <tr>\n      <th>Num_visit_3</th>\n      <td>160.0</td>\n      <td>6.837500</td>\n      <td>5.958861</td>\n      <td>0.0</td>\n      <td>6.0</td>\n      <td>10.00</td>\n      <td>14.0</td>\n      <td>16.000</td>\n      <td>29.33</td>\n      <td>38.6820</td>\n      <td>39.0</td>\n    </tr>\n    <tr>\n      <th>Sum_Num_fix</th>\n      <td>160.0</td>\n      <td>134.825000</td>\n      <td>98.182000</td>\n      <td>3.0</td>\n      <td>117.0</td>\n      <td>183.00</td>\n      <td>253.2</td>\n      <td>311.050</td>\n      <td>416.76</td>\n      <td>588.5390</td>\n      <td>617.0</td>\n    </tr>\n    <tr>\n      <th>Avg_Num_fix</th>\n      <td>160.0</td>\n      <td>67.412500</td>\n      <td>49.091000</td>\n      <td>1.5</td>\n      <td>58.5</td>\n      <td>91.50</td>\n      <td>126.6</td>\n      <td>155.525</td>\n      <td>208.38</td>\n      <td>294.2695</td>\n      <td>308.5</td>\n    </tr>\n    <tr>\n      <th>Sum_Num_visit</th>\n      <td>160.0</td>\n      <td>16.318750</td>\n      <td>8.714458</td>\n      <td>2.0</td>\n      <td>15.0</td>\n      <td>21.00</td>\n      <td>27.0</td>\n      <td>31.050</td>\n      <td>44.64</td>\n      <td>51.2050</td>\n      <td>52.0</td>\n    </tr>\n    <tr>\n      <th>Avg_Num_visit</th>\n      <td>160.0</td>\n      <td>8.159375</td>\n      <td>4.357229</td>\n      <td>1.0</td>\n      <td>7.5</td>\n      <td>10.50</td>\n      <td>13.5</td>\n      <td>15.525</td>\n      <td>22.32</td>\n      <td>25.6025</td>\n      <td>26.0</td>\n    </tr>\n  </tbody>\n</table>\n</div>"
     },
     "execution_count": 13,
     "metadata": {},
     "output_type": "execute_result"
    }
   ],
   "source": [
    "df.filter(regex='Num.*').describe([.75, .9, .95, .99, .999]).T"
   ],
   "metadata": {
    "collapsed": false,
    "ExecuteTime": {
     "end_time": "2024-04-13T20:59:24.300415Z",
     "start_time": "2024-04-13T20:59:24.070013Z"
    }
   },
   "id": "f0624d09a9f2200b"
  },
  {
   "cell_type": "code",
   "execution_count": 14,
   "outputs": [
    {
     "data": {
      "text/plain": "Num_fix_1         18.5\nNum_visit_1        3.0\nNum_fix_2         25.5\nNum_visit_2        5.0\nNum_fix_3         45.0\nNum_visit_3        6.0\nSum_Num_fix      117.0\nAvg_Num_fix       58.5\nSum_Num_visit     15.0\nAvg_Num_visit      7.5\ndtype: float64"
     },
     "execution_count": 14,
     "metadata": {},
     "output_type": "execute_result"
    }
   ],
   "source": [
    "df.filter(regex='Num.*').median()"
   ],
   "metadata": {
    "collapsed": false,
    "ExecuteTime": {
     "end_time": "2024-04-13T20:59:24.300587Z",
     "start_time": "2024-04-13T20:59:24.089195Z"
    }
   },
   "id": "cbdd7483e6ec73e1"
  },
  {
   "cell_type": "code",
   "execution_count": 15,
   "outputs": [
    {
     "name": "stdout",
     "output_type": "stream",
     "text": [
      "Number of records in the column 'Num_fix_1' that are greater than 99% of the values: (2, [7, 20])\n",
      "Number of records in the column 'Num_fix_2' that are greater than 99% of the values: (2, [15, 2])\n",
      "Number of records in the column 'Num_fix_3' that are greater than 99% of the values: (2, [19, 2])\n",
      "Number of records in the column 'Sum_Num_fix' that are greater than 99% of the values: (2, [29, 2])\n",
      "Number of records in the column 'Avg_Num_fix' that are greater than 99% of the values: (2, [29, 2])\n"
     ]
    }
   ],
   "source": [
    "for column in df.filter(regex='Num_fix.*').columns:\n",
    "    if pd.api.types.is_numeric_dtype(df[column]):\n",
    "        percentile_99 = df[column].quantile(0.99)\n",
    "        records_above_99_percentile = df[df[column] > percentile_99]\n",
    "        print(f\"Number of records in the column '{column}' that are greater than 99% of the values: {len(records_above_99_percentile), list(records_above_99_percentile.ID)}\")"
   ],
   "metadata": {
    "collapsed": false,
    "ExecuteTime": {
     "end_time": "2024-04-13T20:59:24.300718Z",
     "start_time": "2024-04-13T20:59:24.098370Z"
    }
   },
   "id": "611590d94ae59fb3"
  },
  {
   "cell_type": "markdown",
   "source": [
    "Wartości odstające wyjaśnienia:\n",
    "- wielkość źrenicy: w normie (brak błędów, nie ma potrzeby odrzucać)\n",
    "- całkowita długość fiksacji/wizyt: do sprawdzenia: 2, 7, 15, 19, 20, 29 \n",
    "- średnia długość fiksacji/wizyt: mediany i średnie zbliżone - nie ma potrzeby odrzucać wartości odstających, są to poprawne wartości\n",
    "- liczba fiksacji: do sprawdzenia: 2, 7, 15, 19, 20, 29\n",
    "- liczba wizyt: mediany i średnie zbliżone, nie ma potrzeby odrzucać wartości odstających\n",
    "\n",
    "Outliers - explanation:\n",
    "- pupil size: normal (no errors, no need to reject)\n",
    "- total length of fixations/visits: to check: 2, 7, 15, 19, 20, 29\n",
    "- average length of fixations/visits: medians and averages are similar - no need to reject outliers, these are correct values\n",
    "- number of fixations: to check: 2, 7, 15, 19, 20, 29\n",
    "- number of visits: medians and averages are similar, no need to reject outliers\n",
    "\n",
    "Validate gaze data for participants: 2, 7, 15, 19, 20, 29\n",
    "\n",
    "2 - 94%\n",
    "7 - 95%\n",
    "15 - 92%\n",
    "19 - 97%\n",
    "20 - 93%\n",
    "29 - 97%\n",
    "\n",
    "Conclusion: data is legit, no need to reject outliers!"
   ],
   "metadata": {
    "collapsed": false
   },
   "id": "19a60e85f8a30075"
  },
  {
   "cell_type": "markdown",
   "source": [
    "### STATISTICAL ANALYSIS"
   ],
   "metadata": {
    "collapsed": false
   },
   "id": "578ecccc8c17cf32"
  },
  {
   "cell_type": "code",
   "execution_count": 16,
   "outputs": [
    {
     "name": "stdout",
     "output_type": "stream",
     "text": [
      "#################################\n",
      "Total_fix_1\n",
      "       F Value  Num DF  Den DF    Pr > F\n",
      "Group  4.78925     3.0   117.0  0.003489\n",
      "-------------------\n",
      "Zmienna: Group, P-value: 0.0034889053\n",
      "\u001B[31mThere are grounds to reject H0, accept H1.\u001B[0m\n",
      "#################################\n",
      "Avg_fix_1\n",
      "        F Value  Num DF  Den DF   Pr > F\n",
      "Group  8.105871     3.0   117.0  0.00006\n",
      "-------------------\n",
      "Zmienna: Group, P-value: 0.0000596570\n",
      "\u001B[31mThere are grounds to reject H0, accept H1.\u001B[0m\n",
      "#################################\n",
      "Num_fix_1\n",
      "        F Value  Num DF  Den DF    Pr > F\n",
      "Group  4.295674     3.0   117.0  0.006492\n",
      "-------------------\n",
      "Zmienna: Group, P-value: 0.0064918927\n",
      "\u001B[31mThere are grounds to reject H0, accept H1.\u001B[0m\n",
      "#################################\n",
      "Total_fix_2\n",
      "        F Value  Num DF  Den DF    Pr > F\n",
      "Group  2.053489     3.0   117.0  0.110197\n",
      "-------------------\n",
      "Zmienna: Group, P-value: 0.1101974483\n",
      "No reason to reject H0, accept H0.\n",
      "#################################\n",
      "Avg_fix_2\n",
      "        F Value  Num DF  Den DF    Pr > F\n",
      "Group  6.076634     3.0   117.0  0.000702\n",
      "-------------------\n",
      "Zmienna: Group, P-value: 0.0007023556\n",
      "\u001B[31mThere are grounds to reject H0, accept H1.\u001B[0m\n",
      "#################################\n",
      "Num_fix_2\n",
      "        F Value  Num DF  Den DF    Pr > F\n",
      "Group  2.557025     3.0   117.0  0.058555\n",
      "-------------------\n",
      "Zmienna: Group, P-value: 0.0585547172\n",
      "No reason to reject H0, accept H0.\n",
      "#################################\n",
      "Total_fix_3\n"
     ]
    },
    {
     "name": "stderr",
     "output_type": "stream",
     "text": [
      "/Library/Frameworks/Python.framework/Versions/3.11/lib/python3.11/site-packages/outdated/utils.py:14: OutdatedPackageWarning: The package pingouin is out of date. Your version is 0.5.3, the latest is 0.5.4.\n",
      "Set the environment variable OUTDATED_IGNORE=1 to disable these warnings.\n",
      "  return warn(\n"
     ]
    },
    {
     "name": "stdout",
     "output_type": "stream",
     "text": [
      "        F Value  Num DF  Den DF    Pr > F\n",
      "Group  2.655954     3.0   117.0  0.051681\n",
      "-------------------\n",
      "Zmienna: Group, P-value: 0.0516809338\n",
      "No reason to reject H0, accept H0.\n",
      "#################################\n",
      "Avg_fix_3\n",
      "         F Value  Num DF  Den DF        Pr > F\n",
      "Group  13.310646     3.0   117.0  1.554864e-07\n",
      "-------------------\n",
      "Zmienna: Group, P-value: 0.0000001555\n",
      "\u001B[31mThere are grounds to reject H0, accept H1.\u001B[0m\n",
      "#################################\n",
      "Num_fix_3\n",
      "        F Value  Num DF  Den DF   Pr > F\n",
      "Group  3.221947     3.0   117.0  0.02525\n",
      "-------------------\n",
      "Zmienna: Group, P-value: 0.0252497418\n",
      "\u001B[31mThere are grounds to reject H0, accept H1.\u001B[0m\n",
      "#################################\n",
      "Sum_Total_fix\n",
      "       F Value  Num DF  Den DF    Pr > F\n",
      "Group  1.66887     3.0   117.0  0.177504\n",
      "-------------------\n",
      "Zmienna: Group, P-value: 0.1775038305\n",
      "No reason to reject H0, accept H0.\n",
      "#################################\n",
      "Avg_Total_fix\n",
      "       F Value  Num DF  Den DF    Pr > F\n",
      "Group  1.66887     3.0   117.0  0.177504\n",
      "-------------------\n",
      "Zmienna: Group, P-value: 0.1775038305\n",
      "No reason to reject H0, accept H0.\n",
      "#################################\n",
      "Sum_Avg_fix\n",
      "         F Value  Num DF  Den DF        Pr > F\n",
      "Group  17.525494     3.0   117.0  1.834025e-09\n",
      "-------------------\n",
      "Zmienna: Group, P-value: 0.0000000018\n",
      "\u001B[31mThere are grounds to reject H0, accept H1.\u001B[0m\n",
      "#################################\n",
      "Avg_Avg_fix\n",
      "         F Value  Num DF  Den DF        Pr > F\n",
      "Group  16.612562     3.0   117.0  4.671189e-09\n",
      "-------------------\n",
      "Zmienna: Group, P-value: 0.0000000047\n",
      "\u001B[31mThere are grounds to reject H0, accept H1.\u001B[0m\n",
      "#################################\n",
      "Sum_Num_fix\n",
      "        F Value  Num DF  Den DF    Pr > F\n",
      "Group  1.091615     3.0   117.0  0.355574\n",
      "-------------------\n",
      "Zmienna: Group, P-value: 0.3555735761\n",
      "No reason to reject H0, accept H0.\n",
      "#################################\n",
      "Avg_Num_fix\n",
      "        F Value  Num DF  Den DF    Pr > F\n",
      "Group  1.091615     3.0   117.0  0.355574\n",
      "-------------------\n",
      "Zmienna: Group, P-value: 0.3555735761\n",
      "No reason to reject H0, accept H0.\n"
     ]
    }
   ],
   "source": [
    "# fixations\n",
    "test(df, fixations)"
   ],
   "metadata": {
    "collapsed": false,
    "ExecuteTime": {
     "end_time": "2024-04-13T20:59:24.915477Z",
     "start_time": "2024-04-13T20:59:24.107834Z"
    }
   },
   "id": "439592eaa932e669"
  },
  {
   "cell_type": "code",
   "execution_count": 17,
   "outputs": [
    {
     "name": "stdout",
     "output_type": "stream",
     "text": [
      "#################################\n",
      "Avg_fix_1\n",
      "-----------------------\n",
      "Groups: mapa vs tabela\n",
      "P-value: 0.1606753171356828\n",
      "No reason to reject H0, accept H0.\n",
      "-----------------------\n",
      "Groups: mapa vs tekst\n",
      "P-value: 0.7935573164422152\n",
      "No reason to reject H0, accept H0.\n",
      "-----------------------\n",
      "Groups: mapa vs wykres\n",
      "P-value: 0.08133677861126677\n",
      "No reason to reject H0, accept H0.\n",
      "-----------------------\n",
      "Groups: tabela vs tekst\n",
      "P-value: 0.1606753171356828\n",
      "No reason to reject H0, accept H0.\n",
      "-----------------------\n",
      "Groups: tabela vs wykres\n",
      "P-value: 0.7935573164422152\n",
      "No reason to reject H0, accept H0.\n",
      "-----------------------\n",
      "Groups: tekst vs wykres\n",
      "P-value: 0.07021645754056251\n",
      "No reason to reject H0, accept H0.\n",
      "#################################\n",
      "Avg_fix_2\n",
      "-----------------------\n",
      "Groups: mapa vs tabela\n",
      "P-value: 0.6854500938195374\n",
      "No reason to reject H0, accept H0.\n",
      "-----------------------\n",
      "Groups: mapa vs tekst\n",
      "P-value: 0.005560036172547058\n",
      "\u001B[31mThere are grounds to reject H0, accept H1.\u001B[0m\n",
      "-----------------------\n",
      "Groups: mapa vs wykres\n",
      "P-value: 0.25890928610542596\n",
      "No reason to reject H0, accept H0.\n",
      "-----------------------\n",
      "Groups: tabela vs tekst\n",
      "P-value: 0.04109138865748611\n",
      "\u001B[31mThere are grounds to reject H0, accept H1.\u001B[0m\n",
      "-----------------------\n",
      "Groups: tabela vs wykres\n",
      "P-value: 0.2821875654314324\n",
      "No reason to reject H0, accept H0.\n",
      "-----------------------\n",
      "Groups: tekst vs wykres\n",
      "P-value: 0.2821875654314324\n",
      "No reason to reject H0, accept H0.\n",
      "#################################\n",
      "Avg_fix_3\n",
      "-----------------------\n",
      "Groups: mapa vs tabela\n",
      "P-value: 0.10184539102006575\n",
      "No reason to reject H0, accept H0.\n",
      "-----------------------\n",
      "Groups: mapa vs tekst\n",
      "P-value: 0.2287767403332109\n",
      "No reason to reject H0, accept H0.\n",
      "-----------------------\n",
      "Groups: mapa vs wykres\n",
      "P-value: 0.901545479290361\n",
      "No reason to reject H0, accept H0.\n",
      "-----------------------\n",
      "Groups: tabela vs tekst\n",
      "P-value: 0.004623660899611365\n",
      "\u001B[31mThere are grounds to reject H0, accept H1.\u001B[0m\n",
      "-----------------------\n",
      "Groups: tabela vs wykres\n",
      "P-value: 0.0836685775965853\n",
      "No reason to reject H0, accept H0.\n",
      "-----------------------\n",
      "Groups: tekst vs wykres\n",
      "P-value: 0.2287767403332109\n",
      "No reason to reject H0, accept H0.\n"
     ]
    }
   ],
   "source": [
    "posthoc_tests(df, ['Avg_fix_1', 'Avg_fix_2', 'Avg_fix_3'])"
   ],
   "metadata": {
    "collapsed": false,
    "ExecuteTime": {
     "end_time": "2024-04-13T20:59:24.984553Z",
     "start_time": "2024-04-13T20:59:24.721417Z"
    }
   },
   "id": "2216c4d54650bfe2"
  },
  {
   "cell_type": "markdown",
   "source": [
    "### Summary:\n",
    "\n",
    "Statistically significant (fixations):\n",
    "\n",
    "- total_fix_1: table vs text, text vs plot\n",
    "- avg_fix_1: weakly differentiated\n",
    "- num_fix_1: table vs text, text vs plot\n",
    "- avg_fix_2: map vs text, table vs text\n",
    "- avg_fix_3: table vs text\n",
    "- num_fix_3: weakly differentiated\n",
    "- Sum_avg_fix: map vs text, table vs text, table vs plot, text vs plot\n",
    "- Avg_avg_fix: map vs text, table vs text, table vs plot, text vs plot"
   ],
   "metadata": {
    "collapsed": false
   },
   "id": "7c4527580ff8b8a6"
  },
  {
   "cell_type": "code",
   "execution_count": 18,
   "outputs": [
    {
     "name": "stdout",
     "output_type": "stream",
     "text": [
      "#################################\n",
      "Avg_AvgPupil\n",
      "        F Value  Num DF  Den DF    Pr > F\n",
      "Group  0.889447     3.0   117.0  0.448863\n",
      "-------------------\n",
      "Zmienna: Group, P-value: 0.4488632651\n",
      "No reason to reject H0, accept H0.\n"
     ]
    }
   ],
   "source": [
    "# average pupil size\n",
    "test(df, ['Avg_AvgPupil'], flag=False)"
   ],
   "metadata": {
    "collapsed": false,
    "ExecuteTime": {
     "end_time": "2024-04-13T20:59:25.015619Z",
     "start_time": "2024-04-13T20:59:24.730407Z"
    }
   },
   "id": "80440b14cc6a6948"
  },
  {
   "cell_type": "code",
   "execution_count": 19,
   "outputs": [
    {
     "name": "stdout",
     "output_type": "stream",
     "text": [
      "#################################\n",
      "Total_visit_1\n",
      "        F Value  Num DF  Den DF    Pr > F\n",
      "Group  3.866321     3.0   117.0  0.011166\n",
      "-------------------\n",
      "Zmienna: Group, P-value: 0.0111656340\n",
      "\u001B[31mThere are grounds to reject H0, accept H1.\u001B[0m\n",
      "#################################\n",
      "Avg_visit_1\n",
      "        F Value  Num DF  Den DF    Pr > F\n",
      "Group  1.053147     3.0   117.0  0.371898\n",
      "-------------------\n",
      "Zmienna: Group, P-value: 0.3718975634\n",
      "No reason to reject H0, accept H0.\n",
      "#################################\n",
      "Num_visit_1\n",
      "         F Value  Num DF  Den DF        Pr > F\n",
      "Group  23.709747     3.0   117.0  4.641525e-12\n",
      "-------------------\n",
      "Zmienna: Group, P-value: 0.0000000000\n",
      "\u001B[31mThere are grounds to reject H0, accept H1.\u001B[0m\n",
      "#################################\n",
      "Total_visit_2\n",
      "        F Value  Num DF  Den DF    Pr > F\n",
      "Group  2.302248     3.0   117.0  0.080699\n",
      "-------------------\n",
      "Zmienna: Group, P-value: 0.0806985690\n",
      "No reason to reject H0, accept H0.\n",
      "#################################\n",
      "Avg_visit_2\n",
      "        F Value  Num DF  Den DF    Pr > F\n",
      "Group  0.031614     3.0   117.0  0.992406\n",
      "-------------------\n",
      "Zmienna: Group, P-value: 0.9924064428\n",
      "No reason to reject H0, accept H0.\n",
      "#################################\n",
      "Num_visit_2\n",
      "        F Value  Num DF  Den DF    Pr > F\n",
      "Group  9.692352     3.0   117.0  0.000009\n",
      "-------------------\n",
      "Zmienna: Group, P-value: 0.0000091859\n",
      "\u001B[31mThere are grounds to reject H0, accept H1.\u001B[0m\n",
      "#################################\n",
      "Total_visit_3\n",
      "       F Value  Num DF  Den DF    Pr > F\n",
      "Group  2.82855     3.0   117.0  0.041551\n",
      "-------------------\n",
      "Zmienna: Group, P-value: 0.0415511454\n",
      "\u001B[31mThere are grounds to reject H0, accept H1.\u001B[0m\n",
      "#################################\n",
      "Avg_visit_3\n",
      "        F Value  Num DF  Den DF    Pr > F\n",
      "Group  1.339749     3.0   117.0  0.264882\n",
      "-------------------\n",
      "Zmienna: Group, P-value: 0.2648821008\n",
      "No reason to reject H0, accept H0.\n",
      "#################################\n",
      "Num_visit_3\n",
      "         F Value  Num DF  Den DF        Pr > F\n",
      "Group  23.172481     3.0   117.0  7.625907e-12\n",
      "-------------------\n",
      "Zmienna: Group, P-value: 0.0000000000\n",
      "\u001B[31mThere are grounds to reject H0, accept H1.\u001B[0m\n",
      "#################################\n",
      "Sum_Total_visit\n",
      "        F Value  Num DF  Den DF    Pr > F\n",
      "Group  1.172847     3.0   117.0  0.323183\n",
      "-------------------\n",
      "Zmienna: Group, P-value: 0.3231829164\n",
      "No reason to reject H0, accept H0.\n",
      "#################################\n",
      "Avg_Total_visit\n",
      "        F Value  Num DF  Den DF    Pr > F\n",
      "Group  1.172847     3.0   117.0  0.323183\n",
      "-------------------\n",
      "Zmienna: Group, P-value: 0.3231829164\n",
      "No reason to reject H0, accept H0.\n",
      "#################################\n",
      "Sum_Avg_visit\n",
      "        F Value  Num DF  Den DF    Pr > F\n",
      "Group  0.033855     3.0   117.0  0.991602\n",
      "-------------------\n",
      "Zmienna: Group, P-value: 0.9916021314\n",
      "No reason to reject H0, accept H0.\n",
      "#################################\n",
      "Avg_Avg_visit\n",
      "        F Value  Num DF  Den DF    Pr > F\n",
      "Group  0.034845     3.0   117.0  0.991239\n",
      "-------------------\n",
      "Zmienna: Group, P-value: 0.9912387523\n",
      "No reason to reject H0, accept H0.\n",
      "#################################\n",
      "Sum_Num_visit\n",
      "         F Value  Num DF  Den DF        Pr > F\n",
      "Group  13.256742     3.0   117.0  1.649184e-07\n",
      "-------------------\n",
      "Zmienna: Group, P-value: 0.0000001649\n",
      "\u001B[31mThere are grounds to reject H0, accept H1.\u001B[0m\n",
      "#################################\n",
      "Avg_Num_visit\n",
      "         F Value  Num DF  Den DF        Pr > F\n",
      "Group  13.256742     3.0   117.0  1.649184e-07\n",
      "-------------------\n",
      "Zmienna: Group, P-value: 0.0000001649\n",
      "\u001B[31mThere are grounds to reject H0, accept H1.\u001B[0m\n"
     ]
    }
   ],
   "source": [
    "# visits\n",
    "test(df, visits)"
   ],
   "metadata": {
    "collapsed": false,
    "ExecuteTime": {
     "end_time": "2024-04-13T20:59:25.240487Z",
     "start_time": "2024-04-13T20:59:24.778424Z"
    }
   },
   "id": "83eee4ba70d97267"
  },
  {
   "cell_type": "code",
   "execution_count": 20,
   "outputs": [
    {
     "name": "stdout",
     "output_type": "stream",
     "text": [
      "#################################\n",
      "Total_visit_1\n",
      "-----------------------\n",
      "Groups: mapa vs tabela\n",
      "P-value: 0.3950469246847968\n",
      "No reason to reject H0, accept H0.\n",
      "-----------------------\n",
      "Groups: mapa vs tekst\n",
      "P-value: 0.38764684924351195\n",
      "No reason to reject H0, accept H0.\n",
      "-----------------------\n",
      "Groups: mapa vs wykres\n",
      "P-value: 0.7302470580916633\n",
      "No reason to reject H0, accept H0.\n",
      "-----------------------\n",
      "Groups: tabela vs tekst\n",
      "P-value: 0.013956875231309876\n",
      "\u001B[31mThere are grounds to reject H0, accept H1.\u001B[0m\n",
      "-----------------------\n",
      "Groups: tabela vs wykres\n",
      "P-value: 0.7302470580916633\n",
      "No reason to reject H0, accept H0.\n",
      "-----------------------\n",
      "Groups: tekst vs wykres\n",
      "P-value: 0.004948047840629065\n",
      "\u001B[31mThere are grounds to reject H0, accept H1.\u001B[0m\n",
      "#################################\n",
      "Num_visit_1\n",
      "-----------------------\n",
      "Groups: mapa vs tabela\n",
      "P-value: 0.0014443159557107343\n",
      "\u001B[31mThere are grounds to reject H0, accept H1.\u001B[0m\n",
      "-----------------------\n",
      "Groups: mapa vs tekst\n",
      "P-value: 0.0001555388977071558\n",
      "\u001B[31mThere are grounds to reject H0, accept H1.\u001B[0m\n",
      "-----------------------\n",
      "Groups: mapa vs wykres\n",
      "P-value: 0.3993490459480551\n",
      "No reason to reject H0, accept H0.\n",
      "-----------------------\n",
      "Groups: tabela vs tekst\n",
      "P-value: 2.0614127831973772e-10\n",
      "\u001B[31mThere are grounds to reject H0, accept H1.\u001B[0m\n",
      "-----------------------\n",
      "Groups: tabela vs wykres\n",
      "P-value: 7.872402389492026e-05\n",
      "\u001B[31mThere are grounds to reject H0, accept H1.\u001B[0m\n",
      "-----------------------\n",
      "Groups: tekst vs wykres\n",
      "P-value: 0.0005137215563048732\n",
      "\u001B[31mThere are grounds to reject H0, accept H1.\u001B[0m\n",
      "#################################\n",
      "Num_visit_2\n",
      "-----------------------\n",
      "Groups: mapa vs tabela\n",
      "P-value: 0.0027382807462918045\n",
      "\u001B[31mThere are grounds to reject H0, accept H1.\u001B[0m\n",
      "-----------------------\n",
      "Groups: mapa vs tekst\n",
      "P-value: 0.7071578016046061\n",
      "No reason to reject H0, accept H0.\n",
      "-----------------------\n",
      "Groups: mapa vs wykres\n",
      "P-value: 8.936124097884545e-07\n",
      "\u001B[31mThere are grounds to reject H0, accept H1.\u001B[0m\n",
      "-----------------------\n",
      "Groups: tabela vs tekst\n",
      "P-value: 0.01099439141315362\n",
      "\u001B[31mThere are grounds to reject H0, accept H1.\u001B[0m\n",
      "-----------------------\n",
      "Groups: tabela vs wykres\n",
      "P-value: 0.7071578016046061\n",
      "No reason to reject H0, accept H0.\n",
      "-----------------------\n",
      "Groups: tekst vs wykres\n",
      "P-value: 0.01300311447357971\n",
      "\u001B[31mThere are grounds to reject H0, accept H1.\u001B[0m\n",
      "#################################\n",
      "Total_visit_3\n",
      "-----------------------\n",
      "Groups: mapa vs tabela\n",
      "P-value: 0.6561294497640061\n",
      "No reason to reject H0, accept H0.\n",
      "-----------------------\n",
      "Groups: mapa vs tekst\n",
      "P-value: 0.6561294497640061\n",
      "No reason to reject H0, accept H0.\n",
      "-----------------------\n",
      "Groups: mapa vs wykres\n",
      "P-value: 0.2016621846821161\n",
      "No reason to reject H0, accept H0.\n",
      "-----------------------\n",
      "Groups: tabela vs tekst\n",
      "P-value: 0.3996591044464117\n",
      "No reason to reject H0, accept H0.\n",
      "-----------------------\n",
      "Groups: tabela vs wykres\n",
      "P-value: 0.6561294497640061\n",
      "No reason to reject H0, accept H0.\n",
      "-----------------------\n",
      "Groups: tekst vs wykres\n",
      "P-value: 0.07731973738990841\n",
      "No reason to reject H0, accept H0.\n",
      "#################################\n",
      "Num_visit_3\n",
      "-----------------------\n",
      "Groups: mapa vs tabela\n",
      "P-value: 0.5361612204821486\n",
      "No reason to reject H0, accept H0.\n",
      "-----------------------\n",
      "Groups: mapa vs tekst\n",
      "P-value: 0.0001333725742779642\n",
      "\u001B[31mThere are grounds to reject H0, accept H1.\u001B[0m\n",
      "-----------------------\n",
      "Groups: mapa vs wykres\n",
      "P-value: 0.0008939613679404182\n",
      "\u001B[31mThere are grounds to reject H0, accept H1.\u001B[0m\n",
      "-----------------------\n",
      "Groups: tabela vs tekst\n",
      "P-value: 0.0014874355534841672\n",
      "\u001B[31mThere are grounds to reject H0, accept H1.\u001B[0m\n",
      "-----------------------\n",
      "Groups: tabela vs wykres\n",
      "P-value: 0.0008939613679404182\n",
      "\u001B[31mThere are grounds to reject H0, accept H1.\u001B[0m\n",
      "-----------------------\n",
      "Groups: tekst vs wykres\n",
      "P-value: 2.797730846167251e-07\n",
      "\u001B[31mThere are grounds to reject H0, accept H1.\u001B[0m\n",
      "#################################\n",
      "Sum_Num_visit\n",
      "-----------------------\n",
      "Groups: mapa vs tabela\n",
      "P-value: 1.0\n",
      "No reason to reject H0, accept H0.\n",
      "-----------------------\n",
      "Groups: mapa vs tekst\n",
      "P-value: 6.054626509979334e-06\n",
      "\u001B[31mThere are grounds to reject H0, accept H1.\u001B[0m\n",
      "-----------------------\n",
      "Groups: mapa vs wykres\n",
      "P-value: 1.0\n",
      "No reason to reject H0, accept H0.\n",
      "-----------------------\n",
      "Groups: tabela vs tekst\n",
      "P-value: 0.0001238338097657575\n",
      "\u001B[31mThere are grounds to reject H0, accept H1.\u001B[0m\n",
      "-----------------------\n",
      "Groups: tabela vs wykres\n",
      "P-value: 1.0\n",
      "No reason to reject H0, accept H0.\n",
      "-----------------------\n",
      "Groups: tekst vs wykres\n",
      "P-value: 1.7378817506174502e-05\n",
      "\u001B[31mThere are grounds to reject H0, accept H1.\u001B[0m\n",
      "#################################\n",
      "Avg_Num_visit\n",
      "-----------------------\n",
      "Groups: mapa vs tabela\n",
      "P-value: 1.0\n",
      "No reason to reject H0, accept H0.\n",
      "-----------------------\n",
      "Groups: mapa vs tekst\n",
      "P-value: 6.054626509979334e-06\n",
      "\u001B[31mThere are grounds to reject H0, accept H1.\u001B[0m\n",
      "-----------------------\n",
      "Groups: mapa vs wykres\n",
      "P-value: 1.0\n",
      "No reason to reject H0, accept H0.\n",
      "-----------------------\n",
      "Groups: tabela vs tekst\n",
      "P-value: 0.0001238338097657575\n",
      "\u001B[31mThere are grounds to reject H0, accept H1.\u001B[0m\n",
      "-----------------------\n",
      "Groups: tabela vs wykres\n",
      "P-value: 1.0\n",
      "No reason to reject H0, accept H0.\n",
      "-----------------------\n",
      "Groups: tekst vs wykres\n",
      "P-value: 1.7378817506174502e-05\n",
      "\u001B[31mThere are grounds to reject H0, accept H1.\u001B[0m\n"
     ]
    }
   ],
   "source": [
    "posthoc_tests(df, ['Total_visit_1', 'Num_visit_1', 'Num_visit_2', 'Total_visit_3', 'Num_visit_3', 'Sum_Num_visit', 'Avg_Num_visit'])"
   ],
   "metadata": {
    "collapsed": false,
    "ExecuteTime": {
     "end_time": "2024-04-13T20:59:25.432792Z",
     "start_time": "2024-04-13T20:59:25.219732Z"
    }
   },
   "id": "7efacfdfbee0638f"
  },
  {
   "cell_type": "markdown",
   "source": [
    "### Summary:\n",
    "\n",
    "Statistically significant (visits):\n",
    "\n",
    "- total_visit_1: table vs text, text vs plot\n",
    "- num_visit_1: map vs table, map vs text, table vs text, table vs plot, text vs plot\n",
    "- num_visit_2: map vs table, map vs plot, table vs text, text vs plot\n",
    "- total_visit_3: weakly differentiated\n",
    "- num_visit_3: map vs text, map vs plot, table vs text, table vs plot, text vs plot\n",
    "- Sum_num_visit: map vs text, table vs text, text vs plot\n",
    "- Avg_num_visit: map vs text, table vs text, text vs plot"
   ],
   "metadata": {
    "collapsed": false
   },
   "id": "97ed66505cea0bf3"
  },
  {
   "cell_type": "markdown",
   "source": [
    "### Plots"
   ],
   "metadata": {
    "collapsed": false
   },
   "id": "2b01681b97aa9c74"
  },
  {
   "cell_type": "code",
   "execution_count": 21,
   "outputs": [],
   "source": [
    "def plots(df, var, typee, y1, y2, label, tt1=False, wtxt1=False, tabw1=False, mtxt1=False, mtab1=False, tt2=False, wtxt2=False, mtxt2=False, mtab2=False, mw2=False, tt3=False, wtxt3=False, tabw3=False, mtxt3=False, mtab3=False, mw3=False):\n",
    "    value_vars=[f'{var}_{typee}_1', f'{var}_{typee}_2', f'{var}_{typee}_3']\n",
    "    if var != 'Num':\n",
    "        for val in value_vars:\n",
    "            df[val] = df[val]/1000\n",
    "\n",
    "    df_new = pd.DataFrame()\n",
    "    \n",
    "    for i, col in enumerate(value_vars):\n",
    "        df_new[f'{i+1}map_{var}_{typee}'] = df[col][df['Group'] == 'mapa'].values\n",
    "        df_new[f'{i+1}tab_{var}_{typee}'] = df[col][df['Group'] == 'tabela'].values\n",
    "        df_new[f'{i+1}plt_{var}_{typee}'] = df[col][df['Group'] == 'wykres'].values\n",
    "        df_new[f'{i+1}txt_{var}_{typee}'] = df[col][df['Group'] == 'tekst'].values\n",
    "        \n",
    "    df_long = pd.melt(df_new, value_vars=[f'{1}map_{var}_{typee}', f'{1}tab_{var}_{typee}', f'{1}plt_{var}_{typee}', f'{1}txt_{var}_{typee}', f'{2}map_{var}_{typee}', f'{2}tab_{var}_{typee}', f'{2}plt_{var}_{typee}', f'{2}txt_{var}_{typee}', f'{3}map_{var}_{typee}', f'{3}tab_{var}_{typee}', f'{3}plt_{var}_{typee}', f'{3}txt_{var}_{typee}'], var_name='Pair', value_name='Value')\n",
    "\n",
    "    colors = sns.color_palette('pastel', n_colors=4)\n",
    "    hue_order = [f'{1}map_{var}_{typee}', f'{1}tab_{var}_{typee}', f'{1}plt_{var}_{typee}', f'{1}txt_{var}_{typee}', f'{2}map_{var}_{typee}', f'{2}tab_{var}_{typee}', f'{2}plt_{var}_{typee}', f'{2}txt_{var}_{typee}', f'{3}map_{var}_{typee}', f'{3}tab_{var}_{typee}', f'{3}plt_{var}_{typee}', f'{3}txt_{var}_{typee}']\n",
    "\n",
    "    labels = ['mapa\\n(1)', 'tabela\\n(1)', 'wykres\\n(1)', 'tekst\\n(1)', 'mapa\\n(2)\\n', 'tabela\\n(2)', 'wykres\\n(2)', 'tekst\\n(2)\\n', 'mapa\\n(3)', 'tabela\\n(3)', 'wykres\\n(3)\\n', 'tekst\\n(3)\\n']\n",
    "\n",
    "    sns.set(style=\"whitegrid\")\n",
    "    plt.figure(figsize=(8, 4))\n",
    "    ax = sns.boxplot(data=df_long, x='Pair', y='Value', hue='Pair', palette=colors, \n",
    "                     hue_order=hue_order, width=0.4)\n",
    "\n",
    "    #1\n",
    "    # map vs text\n",
    "    if mtxt1:\n",
    "        plt.annotate('', xy=(0.035, 1.02), xycoords='axes fraction', xytext=(0.3, 1.02),\n",
    "                     textcoords='axes fraction', arrowprops=dict(arrowstyle=\"-\", color=\"black\"))\n",
    "        plt.annotate('*', xy=(0.16, 0.99), xycoords='axes fraction', textcoords='axes fraction',\n",
    "                     ha='center', va='bottom', fontsize=15)\n",
    "        \n",
    "    # map vs table\n",
    "    if mtab1:\n",
    "        plt.annotate('', xy=(0.035, 1.07), xycoords='axes fraction', xytext=(0.13, 1.07),\n",
    "                     textcoords='axes fraction', arrowprops=dict(arrowstyle=\"-\", color=\"black\"))\n",
    "        plt.annotate('*', xy=(0.08, 1.04), xycoords='axes fraction', textcoords='axes fraction',\n",
    "                     ha='center', va='bottom', fontsize=15)\n",
    "        \n",
    "    #table vs text\n",
    "    if tt1:\n",
    "        plt.annotate('', xy=(0.12, 1.12), xycoords='axes fraction', xytext=(0.3, 1.12),\n",
    "                     textcoords='axes fraction', arrowprops=dict(arrowstyle=\"-\", color=\"black\"))\n",
    "        plt.annotate('*', xy=(0.21, 1.09), xycoords='axes fraction', textcoords='axes fraction',\n",
    "                     ha='center', va='bottom', fontsize=15)\n",
    "        \n",
    "    #table vs plot\n",
    "    if tabw1:\n",
    "        plt.annotate('', xy=(0.12, 1.17), xycoords='axes fraction', xytext=(0.21, 1.17),\n",
    "                     textcoords='axes fraction', arrowprops=dict(arrowstyle=\"-\", color=\"black\"))\n",
    "        plt.annotate('*', xy=(0.16, 1.14), xycoords='axes fraction', textcoords='axes fraction',\n",
    "                     ha='center', va='bottom', fontsize=15)\n",
    "\n",
    "    # plot vs text\n",
    "    if wtxt1:\n",
    "        plt.annotate('', xy=(0.2, 1.07), xycoords='axes fraction', xytext=(0.3, 1.07),\n",
    "                     textcoords='axes fraction', arrowprops=dict(arrowstyle=\"-\", color=\"black\"))\n",
    "        plt.annotate('*', xy=(0.25, 1.04), xycoords='axes fraction', textcoords='axes fraction',\n",
    "                     ha='center', va='bottom', fontsize=15)\n",
    "\n",
    "    # 2\n",
    "    # table vs text\n",
    "    if tt2:\n",
    "        plt.annotate('', xy=(0.46, 1.12), xycoords='axes fraction', xytext=(0.63, 1.12),\n",
    "                     textcoords='axes fraction', arrowprops=dict(arrowstyle=\"-\", color=\"black\"))\n",
    "        plt.annotate('*', xy=(0.54, 1.09), xycoords='axes fraction', textcoords='axes fraction',\n",
    "                     ha='center', va='bottom', fontsize=15) \n",
    "\n",
    "    # plot vs text\n",
    "    if wtxt2:\n",
    "        plt.annotate('', xy=(0.53, 1.17), xycoords='axes fraction', xytext=(0.63, 1.17),\n",
    "                     textcoords='axes fraction', arrowprops=dict(arrowstyle=\"-\", color=\"black\"))\n",
    "        plt.annotate('*', xy=(0.58, 1.14), xycoords='axes fraction', textcoords='axes fraction',\n",
    "                     ha='center', va='bottom', fontsize=15)\n",
    "        \n",
    "    # map vs text\n",
    "    if mtxt2:\n",
    "        plt.annotate('', xy=(0.37, 1.02), xycoords='axes fraction', xytext=(0.63, 1.02),\n",
    "                     textcoords='axes fraction', arrowprops=dict(arrowstyle=\"-\", color=\"black\"))\n",
    "        plt.annotate('*', xy=(0.5, 0.99), xycoords='axes fraction', textcoords='axes fraction',\n",
    "                     ha='center', va='bottom', fontsize=15)\n",
    "\n",
    "    # map vs table\n",
    "    if mtab2:\n",
    "        plt.annotate('', xy=(0.37, 1.07), xycoords='axes fraction', xytext=(0.47, 1.07),\n",
    "                     textcoords='axes fraction', arrowprops=dict(arrowstyle=\"-\", color=\"black\"))\n",
    "        plt.annotate('*', xy=(0.42, 1.04), xycoords='axes fraction', textcoords='axes fraction',\n",
    "                     ha='center', va='bottom', fontsize=15)\n",
    "\n",
    "    # map vs plot\n",
    "    if mw2:\n",
    "        plt.annotate('', xy=(0.37, 1.02), xycoords='axes fraction', xytext=(0.55, 1.02),\n",
    "                     textcoords='axes fraction', arrowprops=dict(arrowstyle=\"-\", color=\"black\"))\n",
    "        plt.annotate('*', xy=(0.46, 0.99), xycoords='axes fraction', textcoords='axes fraction',\n",
    "                     ha='center', va='bottom', fontsize=15)\n",
    "\n",
    "    # 3\n",
    "    # table vs text\n",
    "    if tt3:\n",
    "        plt.annotate('', xy=(0.79, 1.12), xycoords='axes fraction', xytext=(0.97, 1.12),\n",
    "                     textcoords='axes fraction', arrowprops=dict(arrowstyle=\"-\", color=\"black\"))\n",
    "        plt.annotate('*', xy=(0.88, 1.09), xycoords='axes fraction', textcoords='axes fraction',\n",
    "                     ha='center', va='bottom', fontsize=15)\n",
    "\n",
    "    # plot vs text\n",
    "    if wtxt3:\n",
    "        plt.annotate('', xy=(0.88, 1.22), xycoords='axes fraction', xytext=(0.97, 1.22),\n",
    "                     textcoords='axes fraction', arrowprops=dict(arrowstyle=\"-\", color=\"black\"))\n",
    "        plt.annotate('*', xy=(0.92, 1.19), xycoords='axes fraction', textcoords='axes fraction',\n",
    "                     ha='center', va='bottom', fontsize=15)\n",
    "\n",
    "    #table vs plot\n",
    "    if tabw3:\n",
    "        plt.annotate('', xy=(0.79, 1.17), xycoords='axes fraction', xytext=(0.89, 1.17),\n",
    "                     textcoords='axes fraction', arrowprops=dict(arrowstyle=\"-\", color=\"black\"))\n",
    "        plt.annotate('*', xy=(0.84, 1.14), xycoords='axes fraction', textcoords='axes fraction',\n",
    "                     ha='center', va='bottom', fontsize=15)\n",
    "\n",
    "    # map vs text\n",
    "    if mtxt3:\n",
    "        plt.annotate('', xy=(0.7, 1.02), xycoords='axes fraction', xytext=(0.97, 1.02),\n",
    "                     textcoords='axes fraction', arrowprops=dict(arrowstyle=\"-\", color=\"black\"))\n",
    "        plt.annotate('*', xy=(0.84, 0.99), xycoords='axes fraction', textcoords='axes fraction',\n",
    "                     ha='center', va='bottom', fontsize=15)\n",
    "\n",
    "    # map vs table\n",
    "    if mtab3:\n",
    "        plt.annotate('', xy=(0.7, 1.07), xycoords='axes fraction', xytext=(0.89, 1.07),\n",
    "                     textcoords='axes fraction', arrowprops=dict(arrowstyle=\"-\", color=\"black\"))\n",
    "        plt.annotate('*', xy=(0.795, 1.04), xycoords='axes fraction', textcoords='axes fraction',\n",
    "                     ha='center', va='bottom', fontsize=15)\n",
    "\n",
    "    # map vs plot\n",
    "    if mw3:\n",
    "        plt.annotate('', xy=(0.7, 1.07), xycoords='axes fraction', xytext=(0.89, 1.07),\n",
    "                     textcoords='axes fraction', arrowprops=dict(arrowstyle=\"-\", color=\"black\"))\n",
    "        plt.annotate('*', xy=(0.795, 1.04), xycoords='axes fraction', textcoords='axes fraction',\n",
    "                     ha='center', va='bottom', fontsize=15)\n",
    "\n",
    "    plt.xlabel('')\n",
    "    plt.ylim(y1, y2)\n",
    "    plt.xticks(rotation=0)\n",
    "    ax.set_xticklabels(labels)\n",
    "    plt.ylabel(label)\n",
    "    plt.show()"
   ],
   "metadata": {
    "collapsed": false,
    "ExecuteTime": {
     "end_time": "2024-04-13T20:59:25.486420Z",
     "start_time": "2024-04-13T20:59:25.430358Z"
    }
   },
   "id": "9105cb781cd6e04d"
  },
  {
   "cell_type": "code",
   "execution_count": 22,
   "outputs": [
    {
     "name": "stderr",
     "output_type": "stream",
     "text": [
      "/var/folders/vw/8y99f8gn61ddx6t8ck0zm6ch0000gn/T/ipykernel_4051/2291542343.py:24: UserWarning: \n",
      "The palette list has fewer values (4) than needed (12) and will cycle, which may produce an uninterpretable plot.\n",
      "  ax = sns.boxplot(data=df_long, x='Pair', y='Value', hue='Pair', palette=colors,\n",
      "/var/folders/vw/8y99f8gn61ddx6t8ck0zm6ch0000gn/T/ipykernel_4051/2291542343.py:145: UserWarning: set_ticklabels() should only be used with a fixed number of ticks, i.e. after set_ticks() or using a FixedLocator.\n",
      "  ax.set_xticklabels(labels)\n"
     ]
    },
    {
     "data": {
      "text/plain": "<Figure size 800x400 with 1 Axes>",
      "image/png": "[encoded data removed]"
     },
     "metadata": {},
     "output_type": "display_data"
    },
    {
     "name": "stderr",
     "output_type": "stream",
     "text": [
      "/var/folders/vw/8y99f8gn61ddx6t8ck0zm6ch0000gn/T/ipykernel_4051/2291542343.py:24: UserWarning: \n",
      "The palette list has fewer values (4) than needed (12) and will cycle, which may produce an uninterpretable plot.\n",
      "  ax = sns.boxplot(data=df_long, x='Pair', y='Value', hue='Pair', palette=colors,\n",
      "/var/folders/vw/8y99f8gn61ddx6t8ck0zm6ch0000gn/T/ipykernel_4051/2291542343.py:145: UserWarning: set_ticklabels() should only be used with a fixed number of ticks, i.e. after set_ticks() or using a FixedLocator.\n",
      "  ax.set_xticklabels(labels)\n"
     ]
    },
    {
     "data": {
      "text/plain": "<Figure size 800x400 with 1 Axes>",
      "image/png": "[encoded data removed]"
     },
     "metadata": {},
     "output_type": "display_data"
    },
    {
     "name": "stderr",
     "output_type": "stream",
     "text": [
      "/var/folders/vw/8y99f8gn61ddx6t8ck0zm6ch0000gn/T/ipykernel_4051/2291542343.py:24: UserWarning: \n",
      "The palette list has fewer values (4) than needed (12) and will cycle, which may produce an uninterpretable plot.\n",
      "  ax = sns.boxplot(data=df_long, x='Pair', y='Value', hue='Pair', palette=colors,\n",
      "/var/folders/vw/8y99f8gn61ddx6t8ck0zm6ch0000gn/T/ipykernel_4051/2291542343.py:145: UserWarning: set_ticklabels() should only be used with a fixed number of ticks, i.e. after set_ticks() or using a FixedLocator.\n",
      "  ax.set_xticklabels(labels)\n"
     ]
    },
    {
     "data": {
      "text/plain": "<Figure size 800x400 with 1 Axes>",
      "image/png": "[encoded data removed]"
     },
     "metadata": {},
     "output_type": "display_data"
    }
   ],
   "source": [
    "plots(df, 'Total', 'fix', -5, 80, 'Całkowita długość fiksacji [s]', tt1=True, wtxt1=True)\n",
    "plots(df, 'Avg', 'fix', 0, 0.35, 'Średnia długość fiksacji [s]', mtab2=True, tt2=True, tt3=True)\n",
    "plots(df, 'Num', 'fix', -10, 300, 'Liczba fiksacji', tt1=True, wtxt1=True)"
   ],
   "metadata": {
    "collapsed": false,
    "ExecuteTime": {
     "end_time": "2024-04-13T20:59:26.267728Z",
     "start_time": "2024-04-13T20:59:25.468507Z"
    }
   },
   "id": "3b0e79d21a9b5b0c"
  },
  {
   "cell_type": "code",
   "execution_count": 23,
   "outputs": [
    {
     "name": "stderr",
     "output_type": "stream",
     "text": [
      "/var/folders/vw/8y99f8gn61ddx6t8ck0zm6ch0000gn/T/ipykernel_4051/2291542343.py:24: UserWarning: \n",
      "The palette list has fewer values (4) than needed (12) and will cycle, which may produce an uninterpretable plot.\n",
      "  ax = sns.boxplot(data=df_long, x='Pair', y='Value', hue='Pair', palette=colors,\n",
      "/var/folders/vw/8y99f8gn61ddx6t8ck0zm6ch0000gn/T/ipykernel_4051/2291542343.py:145: UserWarning: set_ticklabels() should only be used with a fixed number of ticks, i.e. after set_ticks() or using a FixedLocator.\n",
      "  ax.set_xticklabels(labels)\n"
     ]
    },
    {
     "data": {
      "text/plain": "<Figure size 800x400 with 1 Axes>",
      "image/png": "[encoded data removed]"
     },
     "metadata": {},
     "output_type": "display_data"
    },
    {
     "name": "stderr",
     "output_type": "stream",
     "text": [
      "/var/folders/vw/8y99f8gn61ddx6t8ck0zm6ch0000gn/T/ipykernel_4051/2291542343.py:24: UserWarning: \n",
      "The palette list has fewer values (4) than needed (12) and will cycle, which may produce an uninterpretable plot.\n",
      "  ax = sns.boxplot(data=df_long, x='Pair', y='Value', hue='Pair', palette=colors,\n",
      "/var/folders/vw/8y99f8gn61ddx6t8ck0zm6ch0000gn/T/ipykernel_4051/2291542343.py:145: UserWarning: set_ticklabels() should only be used with a fixed number of ticks, i.e. after set_ticks() or using a FixedLocator.\n",
      "  ax.set_xticklabels(labels)\n"
     ]
    },
    {
     "data": {
      "text/plain": "<Figure size 800x400 with 1 Axes>",
      "image/png": "[encoded data removed]"
     },
     "metadata": {},
     "output_type": "display_data"
    },
    {
     "name": "stderr",
     "output_type": "stream",
     "text": [
      "/var/folders/vw/8y99f8gn61ddx6t8ck0zm6ch0000gn/T/ipykernel_4051/2291542343.py:24: UserWarning: \n",
      "The palette list has fewer values (4) than needed (12) and will cycle, which may produce an uninterpretable plot.\n",
      "  ax = sns.boxplot(data=df_long, x='Pair', y='Value', hue='Pair', palette=colors,\n",
      "/var/folders/vw/8y99f8gn61ddx6t8ck0zm6ch0000gn/T/ipykernel_4051/2291542343.py:145: UserWarning: set_ticklabels() should only be used with a fixed number of ticks, i.e. after set_ticks() or using a FixedLocator.\n",
      "  ax.set_xticklabels(labels)\n"
     ]
    },
    {
     "data": {
      "text/plain": "<Figure size 800x400 with 1 Axes>",
      "image/png": "[encoded data removed]"
     },
     "metadata": {},
     "output_type": "display_data"
    }
   ],
   "source": [
    "plots(df, 'Total', 'visit', -2, 80, 'Całkowita długość wizyt [s]', tt1=True, wtxt1=True)\n",
    "plots(df, 'Avg', 'visit', -3, 25, 'Średnia długość wizyty [s]')\n",
    "plots(df, 'Num', 'visit', -3, 40, 'Liczba wizyt', tt1=True, wtxt1=True, tabw1=True, mtxt1=True, mtab1=True, tt2=True, wtxt2=True, mtab2=True, mw2=True, tt3=True, wtxt3=True, tabw3=True, mtxt3=True, mtab3=True, mw3=True)"
   ],
   "metadata": {
    "collapsed": false,
    "ExecuteTime": {
     "end_time": "2024-04-13T20:59:27.014108Z",
     "start_time": "2024-04-13T20:59:26.264291Z"
    }
   },
   "id": "aecca7b1b895fef8"
  },
  {
   "cell_type": "code",
   "execution_count": 23,
   "outputs": [],
   "source": [],
   "metadata": {
    "collapsed": false,
    "ExecuteTime": {
     "end_time": "2024-04-13T20:59:27.017952Z",
     "start_time": "2024-04-13T20:59:27.012860Z"
    }
   },
   "id": "568f9748eb43cd0a"
  }
 ],
 "metadata": {
  "kernelspec": {
   "display_name": "Python 3",
   "language": "python",
   "name": "python3"
  },
  "language_info": {
   "codemirror_mode": {
    "name": "ipython",
    "version": 2
   },
   "file_extension": ".py",
   "mimetype": "text/x-python",
   "name": "python",
   "nbconvert_exporter": "python",
   "pygments_lexer": "ipython2",
   "version": "2.7.6"
  }
 },
 "nbformat": 4,
 "nbformat_minor": 5
}
