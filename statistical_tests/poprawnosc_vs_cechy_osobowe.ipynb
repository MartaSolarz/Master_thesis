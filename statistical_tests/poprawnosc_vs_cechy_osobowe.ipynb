{
 "cells": [
  {
   "cell_type": "markdown",
   "source": [
    "# Temat testów:\n",
    "Czy istnieje istotna statystycznie różnica w poprawności/pewności/czasie odpowiedzi w zalezności od cech osobowościowych z ankiety."
   ],
   "metadata": {
    "collapsed": false
   },
   "id": "a1ec9284217d2903"
  },
  {
   "cell_type": "code",
   "execution_count": 81,
   "outputs": [],
   "source": [
    "from scipy import stats\n",
    "import pandas as pd\n",
    "import statsmodels.api as sm"
   ],
   "metadata": {
    "collapsed": false,
    "ExecuteTime": {
     "end_time": "2023-10-18T19:28:35.877290Z",
     "start_time": "2023-10-18T19:28:35.525844Z"
    }
   },
   "id": "2b7d70f653339cca"
  },
  {
   "cell_type": "code",
   "execution_count": 220,
   "outputs": [],
   "source": [
    "df_answers = pd.read_csv(\n",
    "    '/Users/martasolarz/Studies/Thesis/data/correctness.csv',\n",
    "    usecols=['ID', '1a_corr', '1b_corr', '2a_corr', '2b_corr', '3a_corr', '3b_corr', 'Wynik']\n",
    ").fillna('NO_VAL')\n",
    "\n",
    "df_quest = pd.read_csv(\n",
    "    '/Users/martasolarz/Studies/Thesis/data/survey.csv',\n",
    ").fillna('NO_VAL')"
   ],
   "metadata": {
    "collapsed": false,
    "ExecuteTime": {
     "end_time": "2023-10-18T21:09:11.036555Z",
     "start_time": "2023-10-18T21:09:11.018216Z"
    }
   },
   "id": "4b76b2ea71a0ebf8"
  },
  {
   "cell_type": "code",
   "execution_count": 221,
   "outputs": [
    {
     "data": {
      "text/plain": "    ID Płeć  Rok_urodzenia                               Kierunek_studiów  \\\n0    1    M           2002  Geografia, w ramach studiów międzyobszarowych   \n1    2    M           2003                        Gospodarka przestrzenna   \n2    3    M           2001                                      Geografia   \n3    4    K           2000                                      Geografia   \n4    5    K           2002                                      Geografia   \n5    6    M           2003                                      Geografia   \n6    7    K           2001  Geografia, w ramach studiów międzyobszarowych   \n7   11    M           2003                                      Geografia   \n8   12    K           2003                                      Geografia   \n9   13    K           2004                                      Geografia   \n10  14    M           2002  Geografia, w ramach studiów międzyobszarowych   \n11  15    K           2002                                      Geografia   \n12  16    M           2002                                      Geografia   \n13  17    K           2002                                      Geografia   \n14  18    K           2002                        Gospodarka przestrzenna   \n15  19    M           2003                        Gospodarka przestrzenna   \n16  20    K           2003                                      Geografia   \n17  21    M           2002                                      Geografia   \n18  22    K           2002                                      Geografia   \n19  23    M           2003                                      Geografia   \n20  24    M           2004                                      Geografia   \n21  25    K           2001                                      Geografia   \n22  26    K           2003                                      Geografia   \n23  27    K           2001                        Gospodarka przestrzenna   \n24  29    M           2003                                      Geografia   \n25  30    K           2001                                      Geografia   \n26  31    K           2001                                      Geografia   \n27  32    K           2001                                      Geografia   \n28  33    M           2003                                      Geografia   \n29  34    M           2002                                      Geografia   \n30  35    M           2001                                      Geografia   \n31  37    K           2003                                      Geografia   \n32  38    K           2004                                      Geografia   \n33  39    K           2003                                      Geografia   \n34  40    K           2003                                      Geografia   \n35  41    M           2003                                      Geografia   \n36  42    K           2003                                      Geografia   \n37  43    M           2003                        Gospodarka przestrzenna   \n38  44    K           2003                                      Geografia   \n39  45    M           2003                                      Geografia   \n40  46    K           2002                                      Geografia   \n\n    Rok_studiów Specjalność  Wady_wzroku  Daltonizm Ilość_snu   JP_podst  ...  \\\n0             2    SPOŁ-EKO            0          1         6  90 - 100%  ...   \n1             1      NO_VAL            1          1        <6   50 - 69%  ...   \n2             3     GEOINF             0          1         8   50 - 69%  ...   \n3             3     GEOINF             0          1         8   50 - 69%  ...   \n4             3     GEOINF             0          1         7   50 - 69%  ...   \n5             1        FIZ             1          1         6   50 - 69%  ...   \n6             3     GEOINF             0          1         7   70 - 89%  ...   \n7             1     GEOINF             0          1        8<   50 - 69%  ...   \n8             1        FIZ             0          1        8<   30 - 49%  ...   \n9             1        FIZ             0          1        8<   70 - 89%  ...   \n10            2     GEOINF             1          1         6  90 - 100%  ...   \n11            2    SPOŁ-EKO            0          1         7   50 - 69%  ...   \n12            2     GEOINF             1          1         7  90 - 100%  ...   \n13            2     GEOINF             1          1         7   70 - 89%  ...   \n14            1      NO_VAL            1          1         6   50 - 69%  ...   \n15            1      NO_VAL            1          1        <6   70 - 89%  ...   \n16            1    SPOŁ-EKO            1          1        <6   70 - 89%  ...   \n17            2        FIZ             0          1        <6   50 - 69%  ...   \n18            2     GEOINF             1          1         6   70 - 89%  ...   \n19            1    SPOŁ-EKO            0          1         6   30 - 49%  ...   \n20            1     GEOINF             1          1        <6   30 - 49%  ...   \n21            1        FIZ             1          1         6   30 - 49%  ...   \n22            1        FIZ             1          1         6   50 - 69%  ...   \n23            3      NO_VAL            1          1         6   70 - 89%  ...   \n24            1    SPOŁ-EKO            1          1         6   70 - 89%  ...   \n25            3     GEOINF             0          1        <6   70 - 89%  ...   \n26            3     GEOINF             0          1        <6  90 - 100%  ...   \n27            3     GEOINF             0          1         8   70 - 89%  ...   \n28            1     GEOINF             1          1        8<   70 - 89%  ...   \n29            2     GEOINF             1          1        <6   70 - 89%  ...   \n30            3     GEOINF             1          1         6   50 - 69%  ...   \n31            1    SPOŁ-EKO            0          1        <6   70 - 89%  ...   \n32            1        FIZ             1          1         6   70 - 89%  ...   \n33            1     GEOINF             1          1        8<   50 - 69%  ...   \n34            1    SPOŁ-EKO            1          1         7  90 - 100%  ...   \n35            1    SPOŁ-EKO            1          1         7   70 - 89%  ...   \n36            1        FIZ             0          1         7   70 - 89%  ...   \n37            1      NO_VAL            1          1         8   50 - 69%  ...   \n38            1        FIZ             1          1        <6   50 - 69%  ...   \n39            1     GEOINF             1          1        8<   30 - 49%  ...   \n40            1        FIZ             1          1         7   70 - 89%  ...   \n\n   Quest2_after Rank_map Rank_txt Rank_plt Rank_tab        Data   Godzina  \\\n0        wykres        3        4        1        2  2023-05-24  11:44:20   \n1        wykres        2        3        1        4  2023-05-24  12:21:03   \n2          mapa        1        4        3        2  2023-05-24  12:41:09   \n3        wykres        2        4        3        1  2023-05-24  13:15:20   \n4        tabela        2        4        1        3  2023-05-24  13:35:17   \n5          mapa        1        4        2        2  2023-05-24  15:42:35   \n6        wykres        2        4        1        3  2023-05-25  13:46:15   \n7        wykres        1        4        1        3  2023-05-25  14:12:48   \n8          mapa        1        4        2        3  2023-05-25  14:47:58   \n9          mapa        1        4        2        3  2023-05-25  15:13:03   \n10       tabela        2        4        3        1  2023-05-25  16:03:22   \n11         mapa        1        3        2        4  2023-05-26  14:15:39   \n12       wykres        2        4        1        3  2023-05-29  11:14:17   \n13         mapa        1        4        2        2  2023-05-29  11:27:10   \n14       wykres        1        4        1        2  2023-05-29  12:12:06   \n15       tabela        1        4        2        1  2023-05-29  13:47:24   \n16         mapa        1        4        3        1  2023-05-29  14:19:08   \n17         mapa        1        4        3        2  2023-05-30  07:41:39   \n18         mapa        1        4        3        2  2023-05-30  08:10:34   \n19       wykres        4        3        2        1  2023-05-30  08:44:33   \n20       tabela        2        4        3        1  2023-05-30  09:13:10   \n21         mapa        1        4        2        2  2023-05-30  10:33:34   \n22         mapa        1        4        2        3  2023-05-30  10:54:04   \n23         mapa        1        4        2        3  2023-05-30  12:16:48   \n24       tabela        3        2        4        1  2023-05-31  11:53:01   \n25         mapa        1        4        2        3  2023-05-31  12:06:03   \n26         mapa        1        3        2        3  2023-05-31  12:28:25   \n27         mapa        1        2        4        3  2023-05-31  13:16:56   \n28       wykres        2        3        1        4  2023-05-31  14:15:16   \n29       wykres        2        4        1        3  2023-05-31  15:52:34   \n30       wykres        2        4        1        3  2023-06-01  13:44:11   \n31         mapa        1        3        2        4  2023-06-01  15:19:26   \n32       wykres        2        4        1        3  2023-06-05  10:39:00   \n33         mapa        1        4        2        3  2023-06-05  11:13:04   \n34         mapa        1        4        2        3  2023-06-05  11:37:34   \n35       wykres        2        4        1        3  2023-06-05  14:18:15   \n36       wykres        2        4        1        3  2023-06-07  11:42:55   \n37       wykres        2        3        1        2  2023-06-07  13:04:51   \n38        tekst        2        1        2        1  2023-06-07  14:13:38   \n39       tabela        2        4        3        1  2023-06-07  14:27:37   \n40         mapa        1        3        3        3  2023-06-07  15:19:52   \n\n       MAT     POL    HIST  \n0      VAL     VAL  NO_VAL  \n1      VAL     VAL  NO_VAL  \n2      VAL  NO_VAL  NO_VAL  \n3   NO_VAL     VAL  NO_VAL  \n4   NO_VAL  NO_VAL  NO_VAL  \n5      VAL  NO_VAL  NO_VAL  \n6      VAL  NO_VAL     VAL  \n7   NO_VAL  NO_VAL  NO_VAL  \n8      VAL  NO_VAL  NO_VAL  \n9      VAL  NO_VAL  NO_VAL  \n10     VAL  NO_VAL  NO_VAL  \n11     VAL     VAL     VAL  \n12     VAL  NO_VAL  NO_VAL  \n13  NO_VAL     VAL  NO_VAL  \n14     VAL  NO_VAL  NO_VAL  \n15     VAL  NO_VAL  NO_VAL  \n16  NO_VAL     VAL  NO_VAL  \n17  NO_VAL  NO_VAL     VAL  \n18  NO_VAL  NO_VAL  NO_VAL  \n19     VAL  NO_VAL  NO_VAL  \n20     VAL  NO_VAL  NO_VAL  \n21  NO_VAL  NO_VAL  NO_VAL  \n22     VAL  NO_VAL  NO_VAL  \n23     VAL  NO_VAL  NO_VAL  \n24  NO_VAL     VAL  NO_VAL  \n25     VAL  NO_VAL  NO_VAL  \n26  NO_VAL     VAL  NO_VAL  \n27     VAL  NO_VAL  NO_VAL  \n28  NO_VAL  NO_VAL  NO_VAL  \n29     VAL  NO_VAL  NO_VAL  \n30     VAL  NO_VAL  NO_VAL  \n31  NO_VAL  NO_VAL  NO_VAL  \n32  NO_VAL  NO_VAL  NO_VAL  \n33  NO_VAL  NO_VAL  NO_VAL  \n34  NO_VAL  NO_VAL  NO_VAL  \n35     VAL     VAL     VAL  \n36  NO_VAL  NO_VAL  NO_VAL  \n37  NO_VAL  NO_VAL  NO_VAL  \n38     VAL  NO_VAL  NO_VAL  \n39     VAL  NO_VAL  NO_VAL  \n40  NO_VAL  NO_VAL  NO_VAL  \n\n[41 rows x 37 columns]",
      "text/html": "<div>\n<style scoped>\n    .dataframe tbody tr th:only-of-type {\n        vertical-align: middle;\n    }\n\n    .dataframe tbody tr th {\n        vertical-align: top;\n    }\n\n    .dataframe thead th {\n        text-align: right;\n    }\n</style>\n<table border=\"1\" class=\"dataframe\">\n  <thead>\n    <tr style=\"text-align: right;\">\n      <th></th>\n      <th>ID</th>\n      <th>Płeć</th>\n      <th>Rok_urodzenia</th>\n      <th>Kierunek_studiów</th>\n      <th>Rok_studiów</th>\n      <th>Specjalność</th>\n      <th>Wady_wzroku</th>\n      <th>Daltonizm</th>\n      <th>Ilość_snu</th>\n      <th>JP_podst</th>\n      <th>...</th>\n      <th>Quest2_after</th>\n      <th>Rank_map</th>\n      <th>Rank_txt</th>\n      <th>Rank_plt</th>\n      <th>Rank_tab</th>\n      <th>Data</th>\n      <th>Godzina</th>\n      <th>MAT</th>\n      <th>POL</th>\n      <th>HIST</th>\n    </tr>\n  </thead>\n  <tbody>\n    <tr>\n      <th>0</th>\n      <td>1</td>\n      <td>M</td>\n      <td>2002</td>\n      <td>Geografia, w ramach studiów międzyobszarowych</td>\n      <td>2</td>\n      <td>SPOŁ-EKO</td>\n      <td>0</td>\n      <td>1</td>\n      <td>6</td>\n      <td>90 - 100%</td>\n      <td>...</td>\n      <td>wykres</td>\n      <td>3</td>\n      <td>4</td>\n      <td>1</td>\n      <td>2</td>\n      <td>2023-05-24</td>\n      <td>11:44:20</td>\n      <td>VAL</td>\n      <td>VAL</td>\n      <td>NO_VAL</td>\n    </tr>\n    <tr>\n      <th>1</th>\n      <td>2</td>\n      <td>M</td>\n      <td>2003</td>\n      <td>Gospodarka przestrzenna</td>\n      <td>1</td>\n      <td>NO_VAL</td>\n      <td>1</td>\n      <td>1</td>\n      <td>&lt;6</td>\n      <td>50 - 69%</td>\n      <td>...</td>\n      <td>wykres</td>\n      <td>2</td>\n      <td>3</td>\n      <td>1</td>\n      <td>4</td>\n      <td>2023-05-24</td>\n      <td>12:21:03</td>\n      <td>VAL</td>\n      <td>VAL</td>\n      <td>NO_VAL</td>\n    </tr>\n    <tr>\n      <th>2</th>\n      <td>3</td>\n      <td>M</td>\n      <td>2001</td>\n      <td>Geografia</td>\n      <td>3</td>\n      <td>GEOINF</td>\n      <td>0</td>\n      <td>1</td>\n      <td>8</td>\n      <td>50 - 69%</td>\n      <td>...</td>\n      <td>mapa</td>\n      <td>1</td>\n      <td>4</td>\n      <td>3</td>\n      <td>2</td>\n      <td>2023-05-24</td>\n      <td>12:41:09</td>\n      <td>VAL</td>\n      <td>NO_VAL</td>\n      <td>NO_VAL</td>\n    </tr>\n    <tr>\n      <th>3</th>\n      <td>4</td>\n      <td>K</td>\n      <td>2000</td>\n      <td>Geografia</td>\n      <td>3</td>\n      <td>GEOINF</td>\n      <td>0</td>\n      <td>1</td>\n      <td>8</td>\n      <td>50 - 69%</td>\n      <td>...</td>\n      <td>wykres</td>\n      <td>2</td>\n      <td>4</td>\n      <td>3</td>\n      <td>1</td>\n      <td>2023-05-24</td>\n      <td>13:15:20</td>\n      <td>NO_VAL</td>\n      <td>VAL</td>\n      <td>NO_VAL</td>\n    </tr>\n    <tr>\n      <th>4</th>\n      <td>5</td>\n      <td>K</td>\n      <td>2002</td>\n      <td>Geografia</td>\n      <td>3</td>\n      <td>GEOINF</td>\n      <td>0</td>\n      <td>1</td>\n      <td>7</td>\n      <td>50 - 69%</td>\n      <td>...</td>\n      <td>tabela</td>\n      <td>2</td>\n      <td>4</td>\n      <td>1</td>\n      <td>3</td>\n      <td>2023-05-24</td>\n      <td>13:35:17</td>\n      <td>NO_VAL</td>\n      <td>NO_VAL</td>\n      <td>NO_VAL</td>\n    </tr>\n    <tr>\n      <th>5</th>\n      <td>6</td>\n      <td>M</td>\n      <td>2003</td>\n      <td>Geografia</td>\n      <td>1</td>\n      <td>FIZ</td>\n      <td>1</td>\n      <td>1</td>\n      <td>6</td>\n      <td>50 - 69%</td>\n      <td>...</td>\n      <td>mapa</td>\n      <td>1</td>\n      <td>4</td>\n      <td>2</td>\n      <td>2</td>\n      <td>2023-05-24</td>\n      <td>15:42:35</td>\n      <td>VAL</td>\n      <td>NO_VAL</td>\n      <td>NO_VAL</td>\n    </tr>\n    <tr>\n      <th>6</th>\n      <td>7</td>\n      <td>K</td>\n      <td>2001</td>\n      <td>Geografia, w ramach studiów międzyobszarowych</td>\n      <td>3</td>\n      <td>GEOINF</td>\n      <td>0</td>\n      <td>1</td>\n      <td>7</td>\n      <td>70 - 89%</td>\n      <td>...</td>\n      <td>wykres</td>\n      <td>2</td>\n      <td>4</td>\n      <td>1</td>\n      <td>3</td>\n      <td>2023-05-25</td>\n      <td>13:46:15</td>\n      <td>VAL</td>\n      <td>NO_VAL</td>\n      <td>VAL</td>\n    </tr>\n    <tr>\n      <th>7</th>\n      <td>11</td>\n      <td>M</td>\n      <td>2003</td>\n      <td>Geografia</td>\n      <td>1</td>\n      <td>GEOINF</td>\n      <td>0</td>\n      <td>1</td>\n      <td>8&lt;</td>\n      <td>50 - 69%</td>\n      <td>...</td>\n      <td>wykres</td>\n      <td>1</td>\n      <td>4</td>\n      <td>1</td>\n      <td>3</td>\n      <td>2023-05-25</td>\n      <td>14:12:48</td>\n      <td>NO_VAL</td>\n      <td>NO_VAL</td>\n      <td>NO_VAL</td>\n    </tr>\n    <tr>\n      <th>8</th>\n      <td>12</td>\n      <td>K</td>\n      <td>2003</td>\n      <td>Geografia</td>\n      <td>1</td>\n      <td>FIZ</td>\n      <td>0</td>\n      <td>1</td>\n      <td>8&lt;</td>\n      <td>30 - 49%</td>\n      <td>...</td>\n      <td>mapa</td>\n      <td>1</td>\n      <td>4</td>\n      <td>2</td>\n      <td>3</td>\n      <td>2023-05-25</td>\n      <td>14:47:58</td>\n      <td>VAL</td>\n      <td>NO_VAL</td>\n      <td>NO_VAL</td>\n    </tr>\n    <tr>\n      <th>9</th>\n      <td>13</td>\n      <td>K</td>\n      <td>2004</td>\n      <td>Geografia</td>\n      <td>1</td>\n      <td>FIZ</td>\n      <td>0</td>\n      <td>1</td>\n      <td>8&lt;</td>\n      <td>70 - 89%</td>\n      <td>...</td>\n      <td>mapa</td>\n      <td>1</td>\n      <td>4</td>\n      <td>2</td>\n      <td>3</td>\n      <td>2023-05-25</td>\n      <td>15:13:03</td>\n      <td>VAL</td>\n      <td>NO_VAL</td>\n      <td>NO_VAL</td>\n    </tr>\n    <tr>\n      <th>10</th>\n      <td>14</td>\n      <td>M</td>\n      <td>2002</td>\n      <td>Geografia, w ramach studiów międzyobszarowych</td>\n      <td>2</td>\n      <td>GEOINF</td>\n      <td>1</td>\n      <td>1</td>\n      <td>6</td>\n      <td>90 - 100%</td>\n      <td>...</td>\n      <td>tabela</td>\n      <td>2</td>\n      <td>4</td>\n      <td>3</td>\n      <td>1</td>\n      <td>2023-05-25</td>\n      <td>16:03:22</td>\n      <td>VAL</td>\n      <td>NO_VAL</td>\n      <td>NO_VAL</td>\n    </tr>\n    <tr>\n      <th>11</th>\n      <td>15</td>\n      <td>K</td>\n      <td>2002</td>\n      <td>Geografia</td>\n      <td>2</td>\n      <td>SPOŁ-EKO</td>\n      <td>0</td>\n      <td>1</td>\n      <td>7</td>\n      <td>50 - 69%</td>\n      <td>...</td>\n      <td>mapa</td>\n      <td>1</td>\n      <td>3</td>\n      <td>2</td>\n      <td>4</td>\n      <td>2023-05-26</td>\n      <td>14:15:39</td>\n      <td>VAL</td>\n      <td>VAL</td>\n      <td>VAL</td>\n    </tr>\n    <tr>\n      <th>12</th>\n      <td>16</td>\n      <td>M</td>\n      <td>2002</td>\n      <td>Geografia</td>\n      <td>2</td>\n      <td>GEOINF</td>\n      <td>1</td>\n      <td>1</td>\n      <td>7</td>\n      <td>90 - 100%</td>\n      <td>...</td>\n      <td>wykres</td>\n      <td>2</td>\n      <td>4</td>\n      <td>1</td>\n      <td>3</td>\n      <td>2023-05-29</td>\n      <td>11:14:17</td>\n      <td>VAL</td>\n      <td>NO_VAL</td>\n      <td>NO_VAL</td>\n    </tr>\n    <tr>\n      <th>13</th>\n      <td>17</td>\n      <td>K</td>\n      <td>2002</td>\n      <td>Geografia</td>\n      <td>2</td>\n      <td>GEOINF</td>\n      <td>1</td>\n      <td>1</td>\n      <td>7</td>\n      <td>70 - 89%</td>\n      <td>...</td>\n      <td>mapa</td>\n      <td>1</td>\n      <td>4</td>\n      <td>2</td>\n      <td>2</td>\n      <td>2023-05-29</td>\n      <td>11:27:10</td>\n      <td>NO_VAL</td>\n      <td>VAL</td>\n      <td>NO_VAL</td>\n    </tr>\n    <tr>\n      <th>14</th>\n      <td>18</td>\n      <td>K</td>\n      <td>2002</td>\n      <td>Gospodarka przestrzenna</td>\n      <td>1</td>\n      <td>NO_VAL</td>\n      <td>1</td>\n      <td>1</td>\n      <td>6</td>\n      <td>50 - 69%</td>\n      <td>...</td>\n      <td>wykres</td>\n      <td>1</td>\n      <td>4</td>\n      <td>1</td>\n      <td>2</td>\n      <td>2023-05-29</td>\n      <td>12:12:06</td>\n      <td>VAL</td>\n      <td>NO_VAL</td>\n      <td>NO_VAL</td>\n    </tr>\n    <tr>\n      <th>15</th>\n      <td>19</td>\n      <td>M</td>\n      <td>2003</td>\n      <td>Gospodarka przestrzenna</td>\n      <td>1</td>\n      <td>NO_VAL</td>\n      <td>1</td>\n      <td>1</td>\n      <td>&lt;6</td>\n      <td>70 - 89%</td>\n      <td>...</td>\n      <td>tabela</td>\n      <td>1</td>\n      <td>4</td>\n      <td>2</td>\n      <td>1</td>\n      <td>2023-05-29</td>\n      <td>13:47:24</td>\n      <td>VAL</td>\n      <td>NO_VAL</td>\n      <td>NO_VAL</td>\n    </tr>\n    <tr>\n      <th>16</th>\n      <td>20</td>\n      <td>K</td>\n      <td>2003</td>\n      <td>Geografia</td>\n      <td>1</td>\n      <td>SPOŁ-EKO</td>\n      <td>1</td>\n      <td>1</td>\n      <td>&lt;6</td>\n      <td>70 - 89%</td>\n      <td>...</td>\n      <td>mapa</td>\n      <td>1</td>\n      <td>4</td>\n      <td>3</td>\n      <td>1</td>\n      <td>2023-05-29</td>\n      <td>14:19:08</td>\n      <td>NO_VAL</td>\n      <td>VAL</td>\n      <td>NO_VAL</td>\n    </tr>\n    <tr>\n      <th>17</th>\n      <td>21</td>\n      <td>M</td>\n      <td>2002</td>\n      <td>Geografia</td>\n      <td>2</td>\n      <td>FIZ</td>\n      <td>0</td>\n      <td>1</td>\n      <td>&lt;6</td>\n      <td>50 - 69%</td>\n      <td>...</td>\n      <td>mapa</td>\n      <td>1</td>\n      <td>4</td>\n      <td>3</td>\n      <td>2</td>\n      <td>2023-05-30</td>\n      <td>07:41:39</td>\n      <td>NO_VAL</td>\n      <td>NO_VAL</td>\n      <td>VAL</td>\n    </tr>\n    <tr>\n      <th>18</th>\n      <td>22</td>\n      <td>K</td>\n      <td>2002</td>\n      <td>Geografia</td>\n      <td>2</td>\n      <td>GEOINF</td>\n      <td>1</td>\n      <td>1</td>\n      <td>6</td>\n      <td>70 - 89%</td>\n      <td>...</td>\n      <td>mapa</td>\n      <td>1</td>\n      <td>4</td>\n      <td>3</td>\n      <td>2</td>\n      <td>2023-05-30</td>\n      <td>08:10:34</td>\n      <td>NO_VAL</td>\n      <td>NO_VAL</td>\n      <td>NO_VAL</td>\n    </tr>\n    <tr>\n      <th>19</th>\n      <td>23</td>\n      <td>M</td>\n      <td>2003</td>\n      <td>Geografia</td>\n      <td>1</td>\n      <td>SPOŁ-EKO</td>\n      <td>0</td>\n      <td>1</td>\n      <td>6</td>\n      <td>30 - 49%</td>\n      <td>...</td>\n      <td>wykres</td>\n      <td>4</td>\n      <td>3</td>\n      <td>2</td>\n      <td>1</td>\n      <td>2023-05-30</td>\n      <td>08:44:33</td>\n      <td>VAL</td>\n      <td>NO_VAL</td>\n      <td>NO_VAL</td>\n    </tr>\n    <tr>\n      <th>20</th>\n      <td>24</td>\n      <td>M</td>\n      <td>2004</td>\n      <td>Geografia</td>\n      <td>1</td>\n      <td>GEOINF</td>\n      <td>1</td>\n      <td>1</td>\n      <td>&lt;6</td>\n      <td>30 - 49%</td>\n      <td>...</td>\n      <td>tabela</td>\n      <td>2</td>\n      <td>4</td>\n      <td>3</td>\n      <td>1</td>\n      <td>2023-05-30</td>\n      <td>09:13:10</td>\n      <td>VAL</td>\n      <td>NO_VAL</td>\n      <td>NO_VAL</td>\n    </tr>\n    <tr>\n      <th>21</th>\n      <td>25</td>\n      <td>K</td>\n      <td>2001</td>\n      <td>Geografia</td>\n      <td>1</td>\n      <td>FIZ</td>\n      <td>1</td>\n      <td>1</td>\n      <td>6</td>\n      <td>30 - 49%</td>\n      <td>...</td>\n      <td>mapa</td>\n      <td>1</td>\n      <td>4</td>\n      <td>2</td>\n      <td>2</td>\n      <td>2023-05-30</td>\n      <td>10:33:34</td>\n      <td>NO_VAL</td>\n      <td>NO_VAL</td>\n      <td>NO_VAL</td>\n    </tr>\n    <tr>\n      <th>22</th>\n      <td>26</td>\n      <td>K</td>\n      <td>2003</td>\n      <td>Geografia</td>\n      <td>1</td>\n      <td>FIZ</td>\n      <td>1</td>\n      <td>1</td>\n      <td>6</td>\n      <td>50 - 69%</td>\n      <td>...</td>\n      <td>mapa</td>\n      <td>1</td>\n      <td>4</td>\n      <td>2</td>\n      <td>3</td>\n      <td>2023-05-30</td>\n      <td>10:54:04</td>\n      <td>VAL</td>\n      <td>NO_VAL</td>\n      <td>NO_VAL</td>\n    </tr>\n    <tr>\n      <th>23</th>\n      <td>27</td>\n      <td>K</td>\n      <td>2001</td>\n      <td>Gospodarka przestrzenna</td>\n      <td>3</td>\n      <td>NO_VAL</td>\n      <td>1</td>\n      <td>1</td>\n      <td>6</td>\n      <td>70 - 89%</td>\n      <td>...</td>\n      <td>mapa</td>\n      <td>1</td>\n      <td>4</td>\n      <td>2</td>\n      <td>3</td>\n      <td>2023-05-30</td>\n      <td>12:16:48</td>\n      <td>VAL</td>\n      <td>NO_VAL</td>\n      <td>NO_VAL</td>\n    </tr>\n    <tr>\n      <th>24</th>\n      <td>29</td>\n      <td>M</td>\n      <td>2003</td>\n      <td>Geografia</td>\n      <td>1</td>\n      <td>SPOŁ-EKO</td>\n      <td>1</td>\n      <td>1</td>\n      <td>6</td>\n      <td>70 - 89%</td>\n      <td>...</td>\n      <td>tabela</td>\n      <td>3</td>\n      <td>2</td>\n      <td>4</td>\n      <td>1</td>\n      <td>2023-05-31</td>\n      <td>11:53:01</td>\n      <td>NO_VAL</td>\n      <td>VAL</td>\n      <td>NO_VAL</td>\n    </tr>\n    <tr>\n      <th>25</th>\n      <td>30</td>\n      <td>K</td>\n      <td>2001</td>\n      <td>Geografia</td>\n      <td>3</td>\n      <td>GEOINF</td>\n      <td>0</td>\n      <td>1</td>\n      <td>&lt;6</td>\n      <td>70 - 89%</td>\n      <td>...</td>\n      <td>mapa</td>\n      <td>1</td>\n      <td>4</td>\n      <td>2</td>\n      <td>3</td>\n      <td>2023-05-31</td>\n      <td>12:06:03</td>\n      <td>VAL</td>\n      <td>NO_VAL</td>\n      <td>NO_VAL</td>\n    </tr>\n    <tr>\n      <th>26</th>\n      <td>31</td>\n      <td>K</td>\n      <td>2001</td>\n      <td>Geografia</td>\n      <td>3</td>\n      <td>GEOINF</td>\n      <td>0</td>\n      <td>1</td>\n      <td>&lt;6</td>\n      <td>90 - 100%</td>\n      <td>...</td>\n      <td>mapa</td>\n      <td>1</td>\n      <td>3</td>\n      <td>2</td>\n      <td>3</td>\n      <td>2023-05-31</td>\n      <td>12:28:25</td>\n      <td>NO_VAL</td>\n      <td>VAL</td>\n      <td>NO_VAL</td>\n    </tr>\n    <tr>\n      <th>27</th>\n      <td>32</td>\n      <td>K</td>\n      <td>2001</td>\n      <td>Geografia</td>\n      <td>3</td>\n      <td>GEOINF</td>\n      <td>0</td>\n      <td>1</td>\n      <td>8</td>\n      <td>70 - 89%</td>\n      <td>...</td>\n      <td>mapa</td>\n      <td>1</td>\n      <td>2</td>\n      <td>4</td>\n      <td>3</td>\n      <td>2023-05-31</td>\n      <td>13:16:56</td>\n      <td>VAL</td>\n      <td>NO_VAL</td>\n      <td>NO_VAL</td>\n    </tr>\n    <tr>\n      <th>28</th>\n      <td>33</td>\n      <td>M</td>\n      <td>2003</td>\n      <td>Geografia</td>\n      <td>1</td>\n      <td>GEOINF</td>\n      <td>1</td>\n      <td>1</td>\n      <td>8&lt;</td>\n      <td>70 - 89%</td>\n      <td>...</td>\n      <td>wykres</td>\n      <td>2</td>\n      <td>3</td>\n      <td>1</td>\n      <td>4</td>\n      <td>2023-05-31</td>\n      <td>14:15:16</td>\n      <td>NO_VAL</td>\n      <td>NO_VAL</td>\n      <td>NO_VAL</td>\n    </tr>\n    <tr>\n      <th>29</th>\n      <td>34</td>\n      <td>M</td>\n      <td>2002</td>\n      <td>Geografia</td>\n      <td>2</td>\n      <td>GEOINF</td>\n      <td>1</td>\n      <td>1</td>\n      <td>&lt;6</td>\n      <td>70 - 89%</td>\n      <td>...</td>\n      <td>wykres</td>\n      <td>2</td>\n      <td>4</td>\n      <td>1</td>\n      <td>3</td>\n      <td>2023-05-31</td>\n      <td>15:52:34</td>\n      <td>VAL</td>\n      <td>NO_VAL</td>\n      <td>NO_VAL</td>\n    </tr>\n    <tr>\n      <th>30</th>\n      <td>35</td>\n      <td>M</td>\n      <td>2001</td>\n      <td>Geografia</td>\n      <td>3</td>\n      <td>GEOINF</td>\n      <td>1</td>\n      <td>1</td>\n      <td>6</td>\n      <td>50 - 69%</td>\n      <td>...</td>\n      <td>wykres</td>\n      <td>2</td>\n      <td>4</td>\n      <td>1</td>\n      <td>3</td>\n      <td>2023-06-01</td>\n      <td>13:44:11</td>\n      <td>VAL</td>\n      <td>NO_VAL</td>\n      <td>NO_VAL</td>\n    </tr>\n    <tr>\n      <th>31</th>\n      <td>37</td>\n      <td>K</td>\n      <td>2003</td>\n      <td>Geografia</td>\n      <td>1</td>\n      <td>SPOŁ-EKO</td>\n      <td>0</td>\n      <td>1</td>\n      <td>&lt;6</td>\n      <td>70 - 89%</td>\n      <td>...</td>\n      <td>mapa</td>\n      <td>1</td>\n      <td>3</td>\n      <td>2</td>\n      <td>4</td>\n      <td>2023-06-01</td>\n      <td>15:19:26</td>\n      <td>NO_VAL</td>\n      <td>NO_VAL</td>\n      <td>NO_VAL</td>\n    </tr>\n    <tr>\n      <th>32</th>\n      <td>38</td>\n      <td>K</td>\n      <td>2004</td>\n      <td>Geografia</td>\n      <td>1</td>\n      <td>FIZ</td>\n      <td>1</td>\n      <td>1</td>\n      <td>6</td>\n      <td>70 - 89%</td>\n      <td>...</td>\n      <td>wykres</td>\n      <td>2</td>\n      <td>4</td>\n      <td>1</td>\n      <td>3</td>\n      <td>2023-06-05</td>\n      <td>10:39:00</td>\n      <td>NO_VAL</td>\n      <td>NO_VAL</td>\n      <td>NO_VAL</td>\n    </tr>\n    <tr>\n      <th>33</th>\n      <td>39</td>\n      <td>K</td>\n      <td>2003</td>\n      <td>Geografia</td>\n      <td>1</td>\n      <td>GEOINF</td>\n      <td>1</td>\n      <td>1</td>\n      <td>8&lt;</td>\n      <td>50 - 69%</td>\n      <td>...</td>\n      <td>mapa</td>\n      <td>1</td>\n      <td>4</td>\n      <td>2</td>\n      <td>3</td>\n      <td>2023-06-05</td>\n      <td>11:13:04</td>\n      <td>NO_VAL</td>\n      <td>NO_VAL</td>\n      <td>NO_VAL</td>\n    </tr>\n    <tr>\n      <th>34</th>\n      <td>40</td>\n      <td>K</td>\n      <td>2003</td>\n      <td>Geografia</td>\n      <td>1</td>\n      <td>SPOŁ-EKO</td>\n      <td>1</td>\n      <td>1</td>\n      <td>7</td>\n      <td>90 - 100%</td>\n      <td>...</td>\n      <td>mapa</td>\n      <td>1</td>\n      <td>4</td>\n      <td>2</td>\n      <td>3</td>\n      <td>2023-06-05</td>\n      <td>11:37:34</td>\n      <td>NO_VAL</td>\n      <td>NO_VAL</td>\n      <td>NO_VAL</td>\n    </tr>\n    <tr>\n      <th>35</th>\n      <td>41</td>\n      <td>M</td>\n      <td>2003</td>\n      <td>Geografia</td>\n      <td>1</td>\n      <td>SPOŁ-EKO</td>\n      <td>1</td>\n      <td>1</td>\n      <td>7</td>\n      <td>70 - 89%</td>\n      <td>...</td>\n      <td>wykres</td>\n      <td>2</td>\n      <td>4</td>\n      <td>1</td>\n      <td>3</td>\n      <td>2023-06-05</td>\n      <td>14:18:15</td>\n      <td>VAL</td>\n      <td>VAL</td>\n      <td>VAL</td>\n    </tr>\n    <tr>\n      <th>36</th>\n      <td>42</td>\n      <td>K</td>\n      <td>2003</td>\n      <td>Geografia</td>\n      <td>1</td>\n      <td>FIZ</td>\n      <td>0</td>\n      <td>1</td>\n      <td>7</td>\n      <td>70 - 89%</td>\n      <td>...</td>\n      <td>wykres</td>\n      <td>2</td>\n      <td>4</td>\n      <td>1</td>\n      <td>3</td>\n      <td>2023-06-07</td>\n      <td>11:42:55</td>\n      <td>NO_VAL</td>\n      <td>NO_VAL</td>\n      <td>NO_VAL</td>\n    </tr>\n    <tr>\n      <th>37</th>\n      <td>43</td>\n      <td>M</td>\n      <td>2003</td>\n      <td>Gospodarka przestrzenna</td>\n      <td>1</td>\n      <td>NO_VAL</td>\n      <td>1</td>\n      <td>1</td>\n      <td>8</td>\n      <td>50 - 69%</td>\n      <td>...</td>\n      <td>wykres</td>\n      <td>2</td>\n      <td>3</td>\n      <td>1</td>\n      <td>2</td>\n      <td>2023-06-07</td>\n      <td>13:04:51</td>\n      <td>NO_VAL</td>\n      <td>NO_VAL</td>\n      <td>NO_VAL</td>\n    </tr>\n    <tr>\n      <th>38</th>\n      <td>44</td>\n      <td>K</td>\n      <td>2003</td>\n      <td>Geografia</td>\n      <td>1</td>\n      <td>FIZ</td>\n      <td>1</td>\n      <td>1</td>\n      <td>&lt;6</td>\n      <td>50 - 69%</td>\n      <td>...</td>\n      <td>tekst</td>\n      <td>2</td>\n      <td>1</td>\n      <td>2</td>\n      <td>1</td>\n      <td>2023-06-07</td>\n      <td>14:13:38</td>\n      <td>VAL</td>\n      <td>NO_VAL</td>\n      <td>NO_VAL</td>\n    </tr>\n    <tr>\n      <th>39</th>\n      <td>45</td>\n      <td>M</td>\n      <td>2003</td>\n      <td>Geografia</td>\n      <td>1</td>\n      <td>GEOINF</td>\n      <td>1</td>\n      <td>1</td>\n      <td>8&lt;</td>\n      <td>30 - 49%</td>\n      <td>...</td>\n      <td>tabela</td>\n      <td>2</td>\n      <td>4</td>\n      <td>3</td>\n      <td>1</td>\n      <td>2023-06-07</td>\n      <td>14:27:37</td>\n      <td>VAL</td>\n      <td>NO_VAL</td>\n      <td>NO_VAL</td>\n    </tr>\n    <tr>\n      <th>40</th>\n      <td>46</td>\n      <td>K</td>\n      <td>2002</td>\n      <td>Geografia</td>\n      <td>1</td>\n      <td>FIZ</td>\n      <td>1</td>\n      <td>1</td>\n      <td>7</td>\n      <td>70 - 89%</td>\n      <td>...</td>\n      <td>mapa</td>\n      <td>1</td>\n      <td>3</td>\n      <td>3</td>\n      <td>3</td>\n      <td>2023-06-07</td>\n      <td>15:19:52</td>\n      <td>NO_VAL</td>\n      <td>NO_VAL</td>\n      <td>NO_VAL</td>\n    </tr>\n  </tbody>\n</table>\n<p>41 rows × 37 columns</p>\n</div>"
     },
     "execution_count": 221,
     "metadata": {},
     "output_type": "execute_result"
    }
   ],
   "source": [
    "# zagregowane kolumny:\n",
    "df_quest['MAT'] = df_quest['MAT_roz'].apply(lambda x: x if x == 'NO_VAL' else 'VAL' )\n",
    "df_quest['POL'] = df_quest['JP_roz'].apply(lambda x: x if x == 'NO_VAL' else 'VAL' )\n",
    "df_quest['HIST'] = df_quest['HIST_roz'].apply(lambda x: x if x == 'NO_VAL' else 'VAL' )\n",
    "\n",
    "df_quest"
   ],
   "metadata": {
    "collapsed": false,
    "ExecuteTime": {
     "end_time": "2023-10-18T21:09:47.931161Z",
     "start_time": "2023-10-18T21:09:47.891995Z"
    }
   },
   "id": "f4ddfe54fd72661d"
  },
  {
   "cell_type": "code",
   "execution_count": 222,
   "outputs": [],
   "source": [
    "def choose_dominant_kind(x):\n",
    "    k = x['Kinestetyk']\n",
    "    s = x['Słuchowiec']\n",
    "    w = x['Wzrokowiec']\n",
    "    if k > s and k > w:\n",
    "        return 'Kinestetyk'\n",
    "    elif s > k and s > w:\n",
    "        return 'Słuchowiec'\n",
    "    elif w > k and w > s:\n",
    "        return 'Wzrokowiec'\n",
    "    else:\n",
    "        return \"Brak dominującego\""
   ],
   "metadata": {
    "collapsed": false,
    "ExecuteTime": {
     "end_time": "2023-10-18T21:09:56.042878Z",
     "start_time": "2023-10-18T21:09:55.965137Z"
    }
   },
   "id": "e35c9e75bc8317ef"
  },
  {
   "cell_type": "code",
   "execution_count": 223,
   "outputs": [
    {
     "data": {
      "text/plain": "    ID Płeć  Rok_urodzenia                               Kierunek_studiów  \\\n0    1    M           2002  Geografia, w ramach studiów międzyobszarowych   \n1    2    M           2003                        Gospodarka przestrzenna   \n2    3    M           2001                                      Geografia   \n3    4    K           2000                                      Geografia   \n4    5    K           2002                                      Geografia   \n5    6    M           2003                                      Geografia   \n6    7    K           2001  Geografia, w ramach studiów międzyobszarowych   \n7   11    M           2003                                      Geografia   \n8   12    K           2003                                      Geografia   \n9   13    K           2004                                      Geografia   \n10  14    M           2002  Geografia, w ramach studiów międzyobszarowych   \n11  15    K           2002                                      Geografia   \n12  16    M           2002                                      Geografia   \n13  17    K           2002                                      Geografia   \n14  18    K           2002                        Gospodarka przestrzenna   \n15  19    M           2003                        Gospodarka przestrzenna   \n16  20    K           2003                                      Geografia   \n17  21    M           2002                                      Geografia   \n18  22    K           2002                                      Geografia   \n19  23    M           2003                                      Geografia   \n20  24    M           2004                                      Geografia   \n21  25    K           2001                                      Geografia   \n22  26    K           2003                                      Geografia   \n23  27    K           2001                        Gospodarka przestrzenna   \n24  29    M           2003                                      Geografia   \n25  30    K           2001                                      Geografia   \n26  31    K           2001                                      Geografia   \n27  32    K           2001                                      Geografia   \n28  33    M           2003                                      Geografia   \n29  34    M           2002                                      Geografia   \n30  35    M           2001                                      Geografia   \n31  37    K           2003                                      Geografia   \n32  38    K           2004                                      Geografia   \n33  39    K           2003                                      Geografia   \n34  40    K           2003                                      Geografia   \n35  41    M           2003                                      Geografia   \n36  42    K           2003                                      Geografia   \n37  43    M           2003                        Gospodarka przestrzenna   \n38  44    K           2003                                      Geografia   \n39  45    M           2003                                      Geografia   \n40  46    K           2002                                      Geografia   \n\n    Rok_studiów Specjalność  Wady_wzroku  Daltonizm Ilość_snu   JP_podst  ...  \\\n0             2    SPOŁ-EKO            0          1         6  90 - 100%  ...   \n1             1      NO_VAL            1          1        <6   50 - 69%  ...   \n2             3     GEOINF             0          1         8   50 - 69%  ...   \n3             3     GEOINF             0          1         8   50 - 69%  ...   \n4             3     GEOINF             0          1         7   50 - 69%  ...   \n5             1        FIZ             1          1         6   50 - 69%  ...   \n6             3     GEOINF             0          1         7   70 - 89%  ...   \n7             1     GEOINF             0          1        8<   50 - 69%  ...   \n8             1        FIZ             0          1        8<   30 - 49%  ...   \n9             1        FIZ             0          1        8<   70 - 89%  ...   \n10            2     GEOINF             1          1         6  90 - 100%  ...   \n11            2    SPOŁ-EKO            0          1         7   50 - 69%  ...   \n12            2     GEOINF             1          1         7  90 - 100%  ...   \n13            2     GEOINF             1          1         7   70 - 89%  ...   \n14            1      NO_VAL            1          1         6   50 - 69%  ...   \n15            1      NO_VAL            1          1        <6   70 - 89%  ...   \n16            1    SPOŁ-EKO            1          1        <6   70 - 89%  ...   \n17            2        FIZ             0          1        <6   50 - 69%  ...   \n18            2     GEOINF             1          1         6   70 - 89%  ...   \n19            1    SPOŁ-EKO            0          1         6   30 - 49%  ...   \n20            1     GEOINF             1          1        <6   30 - 49%  ...   \n21            1        FIZ             1          1         6   30 - 49%  ...   \n22            1        FIZ             1          1         6   50 - 69%  ...   \n23            3      NO_VAL            1          1         6   70 - 89%  ...   \n24            1    SPOŁ-EKO            1          1         6   70 - 89%  ...   \n25            3     GEOINF             0          1        <6   70 - 89%  ...   \n26            3     GEOINF             0          1        <6  90 - 100%  ...   \n27            3     GEOINF             0          1         8   70 - 89%  ...   \n28            1     GEOINF             1          1        8<   70 - 89%  ...   \n29            2     GEOINF             1          1        <6   70 - 89%  ...   \n30            3     GEOINF             1          1         6   50 - 69%  ...   \n31            1    SPOŁ-EKO            0          1        <6   70 - 89%  ...   \n32            1        FIZ             1          1         6   70 - 89%  ...   \n33            1     GEOINF             1          1        8<   50 - 69%  ...   \n34            1    SPOŁ-EKO            1          1         7  90 - 100%  ...   \n35            1    SPOŁ-EKO            1          1         7   70 - 89%  ...   \n36            1        FIZ             0          1         7   70 - 89%  ...   \n37            1      NO_VAL            1          1         8   50 - 69%  ...   \n38            1        FIZ             1          1        <6   50 - 69%  ...   \n39            1     GEOINF             1          1        8<   30 - 49%  ...   \n40            1        FIZ             1          1         7   70 - 89%  ...   \n\n   Rank_map Rank_txt Rank_plt Rank_tab        Data   Godzina     MAT     POL  \\\n0         3        4        1        2  2023-05-24  11:44:20     VAL     VAL   \n1         2        3        1        4  2023-05-24  12:21:03     VAL     VAL   \n2         1        4        3        2  2023-05-24  12:41:09     VAL  NO_VAL   \n3         2        4        3        1  2023-05-24  13:15:20  NO_VAL     VAL   \n4         2        4        1        3  2023-05-24  13:35:17  NO_VAL  NO_VAL   \n5         1        4        2        2  2023-05-24  15:42:35     VAL  NO_VAL   \n6         2        4        1        3  2023-05-25  13:46:15     VAL  NO_VAL   \n7         1        4        1        3  2023-05-25  14:12:48  NO_VAL  NO_VAL   \n8         1        4        2        3  2023-05-25  14:47:58     VAL  NO_VAL   \n9         1        4        2        3  2023-05-25  15:13:03     VAL  NO_VAL   \n10        2        4        3        1  2023-05-25  16:03:22     VAL  NO_VAL   \n11        1        3        2        4  2023-05-26  14:15:39     VAL     VAL   \n12        2        4        1        3  2023-05-29  11:14:17     VAL  NO_VAL   \n13        1        4        2        2  2023-05-29  11:27:10  NO_VAL     VAL   \n14        1        4        1        2  2023-05-29  12:12:06     VAL  NO_VAL   \n15        1        4        2        1  2023-05-29  13:47:24     VAL  NO_VAL   \n16        1        4        3        1  2023-05-29  14:19:08  NO_VAL     VAL   \n17        1        4        3        2  2023-05-30  07:41:39  NO_VAL  NO_VAL   \n18        1        4        3        2  2023-05-30  08:10:34  NO_VAL  NO_VAL   \n19        4        3        2        1  2023-05-30  08:44:33     VAL  NO_VAL   \n20        2        4        3        1  2023-05-30  09:13:10     VAL  NO_VAL   \n21        1        4        2        2  2023-05-30  10:33:34  NO_VAL  NO_VAL   \n22        1        4        2        3  2023-05-30  10:54:04     VAL  NO_VAL   \n23        1        4        2        3  2023-05-30  12:16:48     VAL  NO_VAL   \n24        3        2        4        1  2023-05-31  11:53:01  NO_VAL     VAL   \n25        1        4        2        3  2023-05-31  12:06:03     VAL  NO_VAL   \n26        1        3        2        3  2023-05-31  12:28:25  NO_VAL     VAL   \n27        1        2        4        3  2023-05-31  13:16:56     VAL  NO_VAL   \n28        2        3        1        4  2023-05-31  14:15:16  NO_VAL  NO_VAL   \n29        2        4        1        3  2023-05-31  15:52:34     VAL  NO_VAL   \n30        2        4        1        3  2023-06-01  13:44:11     VAL  NO_VAL   \n31        1        3        2        4  2023-06-01  15:19:26  NO_VAL  NO_VAL   \n32        2        4        1        3  2023-06-05  10:39:00  NO_VAL  NO_VAL   \n33        1        4        2        3  2023-06-05  11:13:04  NO_VAL  NO_VAL   \n34        1        4        2        3  2023-06-05  11:37:34  NO_VAL  NO_VAL   \n35        2        4        1        3  2023-06-05  14:18:15     VAL     VAL   \n36        2        4        1        3  2023-06-07  11:42:55  NO_VAL  NO_VAL   \n37        2        3        1        2  2023-06-07  13:04:51  NO_VAL  NO_VAL   \n38        2        1        2        1  2023-06-07  14:13:38     VAL  NO_VAL   \n39        2        4        3        1  2023-06-07  14:27:37     VAL  NO_VAL   \n40        1        3        3        3  2023-06-07  15:19:52  NO_VAL  NO_VAL   \n\n      HIST        Typ_uczenia  \n0   NO_VAL         Kinestetyk  \n1   NO_VAL  Brak dominującego  \n2   NO_VAL         Wzrokowiec  \n3   NO_VAL  Brak dominującego  \n4   NO_VAL         Wzrokowiec  \n5   NO_VAL         Wzrokowiec  \n6      VAL  Brak dominującego  \n7   NO_VAL         Wzrokowiec  \n8   NO_VAL  Brak dominującego  \n9   NO_VAL         Wzrokowiec  \n10  NO_VAL         Wzrokowiec  \n11     VAL         Słuchowiec  \n12  NO_VAL         Słuchowiec  \n13  NO_VAL         Wzrokowiec  \n14  NO_VAL         Wzrokowiec  \n15  NO_VAL         Wzrokowiec  \n16  NO_VAL         Wzrokowiec  \n17     VAL         Wzrokowiec  \n18  NO_VAL  Brak dominującego  \n19  NO_VAL         Kinestetyk  \n20  NO_VAL         Wzrokowiec  \n21  NO_VAL         Słuchowiec  \n22  NO_VAL         Wzrokowiec  \n23  NO_VAL         Wzrokowiec  \n24  NO_VAL         Wzrokowiec  \n25  NO_VAL         Wzrokowiec  \n26  NO_VAL         Wzrokowiec  \n27  NO_VAL  Brak dominującego  \n28  NO_VAL         Wzrokowiec  \n29  NO_VAL         Wzrokowiec  \n30  NO_VAL  Brak dominującego  \n31  NO_VAL         Wzrokowiec  \n32  NO_VAL         Wzrokowiec  \n33  NO_VAL         Wzrokowiec  \n34  NO_VAL         Słuchowiec  \n35     VAL         Słuchowiec  \n36  NO_VAL         Wzrokowiec  \n37  NO_VAL  Brak dominującego  \n38  NO_VAL  Brak dominującego  \n39  NO_VAL         Słuchowiec  \n40  NO_VAL  Brak dominującego  \n\n[41 rows x 38 columns]",
      "text/html": "<div>\n<style scoped>\n    .dataframe tbody tr th:only-of-type {\n        vertical-align: middle;\n    }\n\n    .dataframe tbody tr th {\n        vertical-align: top;\n    }\n\n    .dataframe thead th {\n        text-align: right;\n    }\n</style>\n<table border=\"1\" class=\"dataframe\">\n  <thead>\n    <tr style=\"text-align: right;\">\n      <th></th>\n      <th>ID</th>\n      <th>Płeć</th>\n      <th>Rok_urodzenia</th>\n      <th>Kierunek_studiów</th>\n      <th>Rok_studiów</th>\n      <th>Specjalność</th>\n      <th>Wady_wzroku</th>\n      <th>Daltonizm</th>\n      <th>Ilość_snu</th>\n      <th>JP_podst</th>\n      <th>...</th>\n      <th>Rank_map</th>\n      <th>Rank_txt</th>\n      <th>Rank_plt</th>\n      <th>Rank_tab</th>\n      <th>Data</th>\n      <th>Godzina</th>\n      <th>MAT</th>\n      <th>POL</th>\n      <th>HIST</th>\n      <th>Typ_uczenia</th>\n    </tr>\n  </thead>\n  <tbody>\n    <tr>\n      <th>0</th>\n      <td>1</td>\n      <td>M</td>\n      <td>2002</td>\n      <td>Geografia, w ramach studiów międzyobszarowych</td>\n      <td>2</td>\n      <td>SPOŁ-EKO</td>\n      <td>0</td>\n      <td>1</td>\n      <td>6</td>\n      <td>90 - 100%</td>\n      <td>...</td>\n      <td>3</td>\n      <td>4</td>\n      <td>1</td>\n      <td>2</td>\n      <td>2023-05-24</td>\n      <td>11:44:20</td>\n      <td>VAL</td>\n      <td>VAL</td>\n      <td>NO_VAL</td>\n      <td>Kinestetyk</td>\n    </tr>\n    <tr>\n      <th>1</th>\n      <td>2</td>\n      <td>M</td>\n      <td>2003</td>\n      <td>Gospodarka przestrzenna</td>\n      <td>1</td>\n      <td>NO_VAL</td>\n      <td>1</td>\n      <td>1</td>\n      <td>&lt;6</td>\n      <td>50 - 69%</td>\n      <td>...</td>\n      <td>2</td>\n      <td>3</td>\n      <td>1</td>\n      <td>4</td>\n      <td>2023-05-24</td>\n      <td>12:21:03</td>\n      <td>VAL</td>\n      <td>VAL</td>\n      <td>NO_VAL</td>\n      <td>Brak dominującego</td>\n    </tr>\n    <tr>\n      <th>2</th>\n      <td>3</td>\n      <td>M</td>\n      <td>2001</td>\n      <td>Geografia</td>\n      <td>3</td>\n      <td>GEOINF</td>\n      <td>0</td>\n      <td>1</td>\n      <td>8</td>\n      <td>50 - 69%</td>\n      <td>...</td>\n      <td>1</td>\n      <td>4</td>\n      <td>3</td>\n      <td>2</td>\n      <td>2023-05-24</td>\n      <td>12:41:09</td>\n      <td>VAL</td>\n      <td>NO_VAL</td>\n      <td>NO_VAL</td>\n      <td>Wzrokowiec</td>\n    </tr>\n    <tr>\n      <th>3</th>\n      <td>4</td>\n      <td>K</td>\n      <td>2000</td>\n      <td>Geografia</td>\n      <td>3</td>\n      <td>GEOINF</td>\n      <td>0</td>\n      <td>1</td>\n      <td>8</td>\n      <td>50 - 69%</td>\n      <td>...</td>\n      <td>2</td>\n      <td>4</td>\n      <td>3</td>\n      <td>1</td>\n      <td>2023-05-24</td>\n      <td>13:15:20</td>\n      <td>NO_VAL</td>\n      <td>VAL</td>\n      <td>NO_VAL</td>\n      <td>Brak dominującego</td>\n    </tr>\n    <tr>\n      <th>4</th>\n      <td>5</td>\n      <td>K</td>\n      <td>2002</td>\n      <td>Geografia</td>\n      <td>3</td>\n      <td>GEOINF</td>\n      <td>0</td>\n      <td>1</td>\n      <td>7</td>\n      <td>50 - 69%</td>\n      <td>...</td>\n      <td>2</td>\n      <td>4</td>\n      <td>1</td>\n      <td>3</td>\n      <td>2023-05-24</td>\n      <td>13:35:17</td>\n      <td>NO_VAL</td>\n      <td>NO_VAL</td>\n      <td>NO_VAL</td>\n      <td>Wzrokowiec</td>\n    </tr>\n    <tr>\n      <th>5</th>\n      <td>6</td>\n      <td>M</td>\n      <td>2003</td>\n      <td>Geografia</td>\n      <td>1</td>\n      <td>FIZ</td>\n      <td>1</td>\n      <td>1</td>\n      <td>6</td>\n      <td>50 - 69%</td>\n      <td>...</td>\n      <td>1</td>\n      <td>4</td>\n      <td>2</td>\n      <td>2</td>\n      <td>2023-05-24</td>\n      <td>15:42:35</td>\n      <td>VAL</td>\n      <td>NO_VAL</td>\n      <td>NO_VAL</td>\n      <td>Wzrokowiec</td>\n    </tr>\n    <tr>\n      <th>6</th>\n      <td>7</td>\n      <td>K</td>\n      <td>2001</td>\n      <td>Geografia, w ramach studiów międzyobszarowych</td>\n      <td>3</td>\n      <td>GEOINF</td>\n      <td>0</td>\n      <td>1</td>\n      <td>7</td>\n      <td>70 - 89%</td>\n      <td>...</td>\n      <td>2</td>\n      <td>4</td>\n      <td>1</td>\n      <td>3</td>\n      <td>2023-05-25</td>\n      <td>13:46:15</td>\n      <td>VAL</td>\n      <td>NO_VAL</td>\n      <td>VAL</td>\n      <td>Brak dominującego</td>\n    </tr>\n    <tr>\n      <th>7</th>\n      <td>11</td>\n      <td>M</td>\n      <td>2003</td>\n      <td>Geografia</td>\n      <td>1</td>\n      <td>GEOINF</td>\n      <td>0</td>\n      <td>1</td>\n      <td>8&lt;</td>\n      <td>50 - 69%</td>\n      <td>...</td>\n      <td>1</td>\n      <td>4</td>\n      <td>1</td>\n      <td>3</td>\n      <td>2023-05-25</td>\n      <td>14:12:48</td>\n      <td>NO_VAL</td>\n      <td>NO_VAL</td>\n      <td>NO_VAL</td>\n      <td>Wzrokowiec</td>\n    </tr>\n    <tr>\n      <th>8</th>\n      <td>12</td>\n      <td>K</td>\n      <td>2003</td>\n      <td>Geografia</td>\n      <td>1</td>\n      <td>FIZ</td>\n      <td>0</td>\n      <td>1</td>\n      <td>8&lt;</td>\n      <td>30 - 49%</td>\n      <td>...</td>\n      <td>1</td>\n      <td>4</td>\n      <td>2</td>\n      <td>3</td>\n      <td>2023-05-25</td>\n      <td>14:47:58</td>\n      <td>VAL</td>\n      <td>NO_VAL</td>\n      <td>NO_VAL</td>\n      <td>Brak dominującego</td>\n    </tr>\n    <tr>\n      <th>9</th>\n      <td>13</td>\n      <td>K</td>\n      <td>2004</td>\n      <td>Geografia</td>\n      <td>1</td>\n      <td>FIZ</td>\n      <td>0</td>\n      <td>1</td>\n      <td>8&lt;</td>\n      <td>70 - 89%</td>\n      <td>...</td>\n      <td>1</td>\n      <td>4</td>\n      <td>2</td>\n      <td>3</td>\n      <td>2023-05-25</td>\n      <td>15:13:03</td>\n      <td>VAL</td>\n      <td>NO_VAL</td>\n      <td>NO_VAL</td>\n      <td>Wzrokowiec</td>\n    </tr>\n    <tr>\n      <th>10</th>\n      <td>14</td>\n      <td>M</td>\n      <td>2002</td>\n      <td>Geografia, w ramach studiów międzyobszarowych</td>\n      <td>2</td>\n      <td>GEOINF</td>\n      <td>1</td>\n      <td>1</td>\n      <td>6</td>\n      <td>90 - 100%</td>\n      <td>...</td>\n      <td>2</td>\n      <td>4</td>\n      <td>3</td>\n      <td>1</td>\n      <td>2023-05-25</td>\n      <td>16:03:22</td>\n      <td>VAL</td>\n      <td>NO_VAL</td>\n      <td>NO_VAL</td>\n      <td>Wzrokowiec</td>\n    </tr>\n    <tr>\n      <th>11</th>\n      <td>15</td>\n      <td>K</td>\n      <td>2002</td>\n      <td>Geografia</td>\n      <td>2</td>\n      <td>SPOŁ-EKO</td>\n      <td>0</td>\n      <td>1</td>\n      <td>7</td>\n      <td>50 - 69%</td>\n      <td>...</td>\n      <td>1</td>\n      <td>3</td>\n      <td>2</td>\n      <td>4</td>\n      <td>2023-05-26</td>\n      <td>14:15:39</td>\n      <td>VAL</td>\n      <td>VAL</td>\n      <td>VAL</td>\n      <td>Słuchowiec</td>\n    </tr>\n    <tr>\n      <th>12</th>\n      <td>16</td>\n      <td>M</td>\n      <td>2002</td>\n      <td>Geografia</td>\n      <td>2</td>\n      <td>GEOINF</td>\n      <td>1</td>\n      <td>1</td>\n      <td>7</td>\n      <td>90 - 100%</td>\n      <td>...</td>\n      <td>2</td>\n      <td>4</td>\n      <td>1</td>\n      <td>3</td>\n      <td>2023-05-29</td>\n      <td>11:14:17</td>\n      <td>VAL</td>\n      <td>NO_VAL</td>\n      <td>NO_VAL</td>\n      <td>Słuchowiec</td>\n    </tr>\n    <tr>\n      <th>13</th>\n      <td>17</td>\n      <td>K</td>\n      <td>2002</td>\n      <td>Geografia</td>\n      <td>2</td>\n      <td>GEOINF</td>\n      <td>1</td>\n      <td>1</td>\n      <td>7</td>\n      <td>70 - 89%</td>\n      <td>...</td>\n      <td>1</td>\n      <td>4</td>\n      <td>2</td>\n      <td>2</td>\n      <td>2023-05-29</td>\n      <td>11:27:10</td>\n      <td>NO_VAL</td>\n      <td>VAL</td>\n      <td>NO_VAL</td>\n      <td>Wzrokowiec</td>\n    </tr>\n    <tr>\n      <th>14</th>\n      <td>18</td>\n      <td>K</td>\n      <td>2002</td>\n      <td>Gospodarka przestrzenna</td>\n      <td>1</td>\n      <td>NO_VAL</td>\n      <td>1</td>\n      <td>1</td>\n      <td>6</td>\n      <td>50 - 69%</td>\n      <td>...</td>\n      <td>1</td>\n      <td>4</td>\n      <td>1</td>\n      <td>2</td>\n      <td>2023-05-29</td>\n      <td>12:12:06</td>\n      <td>VAL</td>\n      <td>NO_VAL</td>\n      <td>NO_VAL</td>\n      <td>Wzrokowiec</td>\n    </tr>\n    <tr>\n      <th>15</th>\n      <td>19</td>\n      <td>M</td>\n      <td>2003</td>\n      <td>Gospodarka przestrzenna</td>\n      <td>1</td>\n      <td>NO_VAL</td>\n      <td>1</td>\n      <td>1</td>\n      <td>&lt;6</td>\n      <td>70 - 89%</td>\n      <td>...</td>\n      <td>1</td>\n      <td>4</td>\n      <td>2</td>\n      <td>1</td>\n      <td>2023-05-29</td>\n      <td>13:47:24</td>\n      <td>VAL</td>\n      <td>NO_VAL</td>\n      <td>NO_VAL</td>\n      <td>Wzrokowiec</td>\n    </tr>\n    <tr>\n      <th>16</th>\n      <td>20</td>\n      <td>K</td>\n      <td>2003</td>\n      <td>Geografia</td>\n      <td>1</td>\n      <td>SPOŁ-EKO</td>\n      <td>1</td>\n      <td>1</td>\n      <td>&lt;6</td>\n      <td>70 - 89%</td>\n      <td>...</td>\n      <td>1</td>\n      <td>4</td>\n      <td>3</td>\n      <td>1</td>\n      <td>2023-05-29</td>\n      <td>14:19:08</td>\n      <td>NO_VAL</td>\n      <td>VAL</td>\n      <td>NO_VAL</td>\n      <td>Wzrokowiec</td>\n    </tr>\n    <tr>\n      <th>17</th>\n      <td>21</td>\n      <td>M</td>\n      <td>2002</td>\n      <td>Geografia</td>\n      <td>2</td>\n      <td>FIZ</td>\n      <td>0</td>\n      <td>1</td>\n      <td>&lt;6</td>\n      <td>50 - 69%</td>\n      <td>...</td>\n      <td>1</td>\n      <td>4</td>\n      <td>3</td>\n      <td>2</td>\n      <td>2023-05-30</td>\n      <td>07:41:39</td>\n      <td>NO_VAL</td>\n      <td>NO_VAL</td>\n      <td>VAL</td>\n      <td>Wzrokowiec</td>\n    </tr>\n    <tr>\n      <th>18</th>\n      <td>22</td>\n      <td>K</td>\n      <td>2002</td>\n      <td>Geografia</td>\n      <td>2</td>\n      <td>GEOINF</td>\n      <td>1</td>\n      <td>1</td>\n      <td>6</td>\n      <td>70 - 89%</td>\n      <td>...</td>\n      <td>1</td>\n      <td>4</td>\n      <td>3</td>\n      <td>2</td>\n      <td>2023-05-30</td>\n      <td>08:10:34</td>\n      <td>NO_VAL</td>\n      <td>NO_VAL</td>\n      <td>NO_VAL</td>\n      <td>Brak dominującego</td>\n    </tr>\n    <tr>\n      <th>19</th>\n      <td>23</td>\n      <td>M</td>\n      <td>2003</td>\n      <td>Geografia</td>\n      <td>1</td>\n      <td>SPOŁ-EKO</td>\n      <td>0</td>\n      <td>1</td>\n      <td>6</td>\n      <td>30 - 49%</td>\n      <td>...</td>\n      <td>4</td>\n      <td>3</td>\n      <td>2</td>\n      <td>1</td>\n      <td>2023-05-30</td>\n      <td>08:44:33</td>\n      <td>VAL</td>\n      <td>NO_VAL</td>\n      <td>NO_VAL</td>\n      <td>Kinestetyk</td>\n    </tr>\n    <tr>\n      <th>20</th>\n      <td>24</td>\n      <td>M</td>\n      <td>2004</td>\n      <td>Geografia</td>\n      <td>1</td>\n      <td>GEOINF</td>\n      <td>1</td>\n      <td>1</td>\n      <td>&lt;6</td>\n      <td>30 - 49%</td>\n      <td>...</td>\n      <td>2</td>\n      <td>4</td>\n      <td>3</td>\n      <td>1</td>\n      <td>2023-05-30</td>\n      <td>09:13:10</td>\n      <td>VAL</td>\n      <td>NO_VAL</td>\n      <td>NO_VAL</td>\n      <td>Wzrokowiec</td>\n    </tr>\n    <tr>\n      <th>21</th>\n      <td>25</td>\n      <td>K</td>\n      <td>2001</td>\n      <td>Geografia</td>\n      <td>1</td>\n      <td>FIZ</td>\n      <td>1</td>\n      <td>1</td>\n      <td>6</td>\n      <td>30 - 49%</td>\n      <td>...</td>\n      <td>1</td>\n      <td>4</td>\n      <td>2</td>\n      <td>2</td>\n      <td>2023-05-30</td>\n      <td>10:33:34</td>\n      <td>NO_VAL</td>\n      <td>NO_VAL</td>\n      <td>NO_VAL</td>\n      <td>Słuchowiec</td>\n    </tr>\n    <tr>\n      <th>22</th>\n      <td>26</td>\n      <td>K</td>\n      <td>2003</td>\n      <td>Geografia</td>\n      <td>1</td>\n      <td>FIZ</td>\n      <td>1</td>\n      <td>1</td>\n      <td>6</td>\n      <td>50 - 69%</td>\n      <td>...</td>\n      <td>1</td>\n      <td>4</td>\n      <td>2</td>\n      <td>3</td>\n      <td>2023-05-30</td>\n      <td>10:54:04</td>\n      <td>VAL</td>\n      <td>NO_VAL</td>\n      <td>NO_VAL</td>\n      <td>Wzrokowiec</td>\n    </tr>\n    <tr>\n      <th>23</th>\n      <td>27</td>\n      <td>K</td>\n      <td>2001</td>\n      <td>Gospodarka przestrzenna</td>\n      <td>3</td>\n      <td>NO_VAL</td>\n      <td>1</td>\n      <td>1</td>\n      <td>6</td>\n      <td>70 - 89%</td>\n      <td>...</td>\n      <td>1</td>\n      <td>4</td>\n      <td>2</td>\n      <td>3</td>\n      <td>2023-05-30</td>\n      <td>12:16:48</td>\n      <td>VAL</td>\n      <td>NO_VAL</td>\n      <td>NO_VAL</td>\n      <td>Wzrokowiec</td>\n    </tr>\n    <tr>\n      <th>24</th>\n      <td>29</td>\n      <td>M</td>\n      <td>2003</td>\n      <td>Geografia</td>\n      <td>1</td>\n      <td>SPOŁ-EKO</td>\n      <td>1</td>\n      <td>1</td>\n      <td>6</td>\n      <td>70 - 89%</td>\n      <td>...</td>\n      <td>3</td>\n      <td>2</td>\n      <td>4</td>\n      <td>1</td>\n      <td>2023-05-31</td>\n      <td>11:53:01</td>\n      <td>NO_VAL</td>\n      <td>VAL</td>\n      <td>NO_VAL</td>\n      <td>Wzrokowiec</td>\n    </tr>\n    <tr>\n      <th>25</th>\n      <td>30</td>\n      <td>K</td>\n      <td>2001</td>\n      <td>Geografia</td>\n      <td>3</td>\n      <td>GEOINF</td>\n      <td>0</td>\n      <td>1</td>\n      <td>&lt;6</td>\n      <td>70 - 89%</td>\n      <td>...</td>\n      <td>1</td>\n      <td>4</td>\n      <td>2</td>\n      <td>3</td>\n      <td>2023-05-31</td>\n      <td>12:06:03</td>\n      <td>VAL</td>\n      <td>NO_VAL</td>\n      <td>NO_VAL</td>\n      <td>Wzrokowiec</td>\n    </tr>\n    <tr>\n      <th>26</th>\n      <td>31</td>\n      <td>K</td>\n      <td>2001</td>\n      <td>Geografia</td>\n      <td>3</td>\n      <td>GEOINF</td>\n      <td>0</td>\n      <td>1</td>\n      <td>&lt;6</td>\n      <td>90 - 100%</td>\n      <td>...</td>\n      <td>1</td>\n      <td>3</td>\n      <td>2</td>\n      <td>3</td>\n      <td>2023-05-31</td>\n      <td>12:28:25</td>\n      <td>NO_VAL</td>\n      <td>VAL</td>\n      <td>NO_VAL</td>\n      <td>Wzrokowiec</td>\n    </tr>\n    <tr>\n      <th>27</th>\n      <td>32</td>\n      <td>K</td>\n      <td>2001</td>\n      <td>Geografia</td>\n      <td>3</td>\n      <td>GEOINF</td>\n      <td>0</td>\n      <td>1</td>\n      <td>8</td>\n      <td>70 - 89%</td>\n      <td>...</td>\n      <td>1</td>\n      <td>2</td>\n      <td>4</td>\n      <td>3</td>\n      <td>2023-05-31</td>\n      <td>13:16:56</td>\n      <td>VAL</td>\n      <td>NO_VAL</td>\n      <td>NO_VAL</td>\n      <td>Brak dominującego</td>\n    </tr>\n    <tr>\n      <th>28</th>\n      <td>33</td>\n      <td>M</td>\n      <td>2003</td>\n      <td>Geografia</td>\n      <td>1</td>\n      <td>GEOINF</td>\n      <td>1</td>\n      <td>1</td>\n      <td>8&lt;</td>\n      <td>70 - 89%</td>\n      <td>...</td>\n      <td>2</td>\n      <td>3</td>\n      <td>1</td>\n      <td>4</td>\n      <td>2023-05-31</td>\n      <td>14:15:16</td>\n      <td>NO_VAL</td>\n      <td>NO_VAL</td>\n      <td>NO_VAL</td>\n      <td>Wzrokowiec</td>\n    </tr>\n    <tr>\n      <th>29</th>\n      <td>34</td>\n      <td>M</td>\n      <td>2002</td>\n      <td>Geografia</td>\n      <td>2</td>\n      <td>GEOINF</td>\n      <td>1</td>\n      <td>1</td>\n      <td>&lt;6</td>\n      <td>70 - 89%</td>\n      <td>...</td>\n      <td>2</td>\n      <td>4</td>\n      <td>1</td>\n      <td>3</td>\n      <td>2023-05-31</td>\n      <td>15:52:34</td>\n      <td>VAL</td>\n      <td>NO_VAL</td>\n      <td>NO_VAL</td>\n      <td>Wzrokowiec</td>\n    </tr>\n    <tr>\n      <th>30</th>\n      <td>35</td>\n      <td>M</td>\n      <td>2001</td>\n      <td>Geografia</td>\n      <td>3</td>\n      <td>GEOINF</td>\n      <td>1</td>\n      <td>1</td>\n      <td>6</td>\n      <td>50 - 69%</td>\n      <td>...</td>\n      <td>2</td>\n      <td>4</td>\n      <td>1</td>\n      <td>3</td>\n      <td>2023-06-01</td>\n      <td>13:44:11</td>\n      <td>VAL</td>\n      <td>NO_VAL</td>\n      <td>NO_VAL</td>\n      <td>Brak dominującego</td>\n    </tr>\n    <tr>\n      <th>31</th>\n      <td>37</td>\n      <td>K</td>\n      <td>2003</td>\n      <td>Geografia</td>\n      <td>1</td>\n      <td>SPOŁ-EKO</td>\n      <td>0</td>\n      <td>1</td>\n      <td>&lt;6</td>\n      <td>70 - 89%</td>\n      <td>...</td>\n      <td>1</td>\n      <td>3</td>\n      <td>2</td>\n      <td>4</td>\n      <td>2023-06-01</td>\n      <td>15:19:26</td>\n      <td>NO_VAL</td>\n      <td>NO_VAL</td>\n      <td>NO_VAL</td>\n      <td>Wzrokowiec</td>\n    </tr>\n    <tr>\n      <th>32</th>\n      <td>38</td>\n      <td>K</td>\n      <td>2004</td>\n      <td>Geografia</td>\n      <td>1</td>\n      <td>FIZ</td>\n      <td>1</td>\n      <td>1</td>\n      <td>6</td>\n      <td>70 - 89%</td>\n      <td>...</td>\n      <td>2</td>\n      <td>4</td>\n      <td>1</td>\n      <td>3</td>\n      <td>2023-06-05</td>\n      <td>10:39:00</td>\n      <td>NO_VAL</td>\n      <td>NO_VAL</td>\n      <td>NO_VAL</td>\n      <td>Wzrokowiec</td>\n    </tr>\n    <tr>\n      <th>33</th>\n      <td>39</td>\n      <td>K</td>\n      <td>2003</td>\n      <td>Geografia</td>\n      <td>1</td>\n      <td>GEOINF</td>\n      <td>1</td>\n      <td>1</td>\n      <td>8&lt;</td>\n      <td>50 - 69%</td>\n      <td>...</td>\n      <td>1</td>\n      <td>4</td>\n      <td>2</td>\n      <td>3</td>\n      <td>2023-06-05</td>\n      <td>11:13:04</td>\n      <td>NO_VAL</td>\n      <td>NO_VAL</td>\n      <td>NO_VAL</td>\n      <td>Wzrokowiec</td>\n    </tr>\n    <tr>\n      <th>34</th>\n      <td>40</td>\n      <td>K</td>\n      <td>2003</td>\n      <td>Geografia</td>\n      <td>1</td>\n      <td>SPOŁ-EKO</td>\n      <td>1</td>\n      <td>1</td>\n      <td>7</td>\n      <td>90 - 100%</td>\n      <td>...</td>\n      <td>1</td>\n      <td>4</td>\n      <td>2</td>\n      <td>3</td>\n      <td>2023-06-05</td>\n      <td>11:37:34</td>\n      <td>NO_VAL</td>\n      <td>NO_VAL</td>\n      <td>NO_VAL</td>\n      <td>Słuchowiec</td>\n    </tr>\n    <tr>\n      <th>35</th>\n      <td>41</td>\n      <td>M</td>\n      <td>2003</td>\n      <td>Geografia</td>\n      <td>1</td>\n      <td>SPOŁ-EKO</td>\n      <td>1</td>\n      <td>1</td>\n      <td>7</td>\n      <td>70 - 89%</td>\n      <td>...</td>\n      <td>2</td>\n      <td>4</td>\n      <td>1</td>\n      <td>3</td>\n      <td>2023-06-05</td>\n      <td>14:18:15</td>\n      <td>VAL</td>\n      <td>VAL</td>\n      <td>VAL</td>\n      <td>Słuchowiec</td>\n    </tr>\n    <tr>\n      <th>36</th>\n      <td>42</td>\n      <td>K</td>\n      <td>2003</td>\n      <td>Geografia</td>\n      <td>1</td>\n      <td>FIZ</td>\n      <td>0</td>\n      <td>1</td>\n      <td>7</td>\n      <td>70 - 89%</td>\n      <td>...</td>\n      <td>2</td>\n      <td>4</td>\n      <td>1</td>\n      <td>3</td>\n      <td>2023-06-07</td>\n      <td>11:42:55</td>\n      <td>NO_VAL</td>\n      <td>NO_VAL</td>\n      <td>NO_VAL</td>\n      <td>Wzrokowiec</td>\n    </tr>\n    <tr>\n      <th>37</th>\n      <td>43</td>\n      <td>M</td>\n      <td>2003</td>\n      <td>Gospodarka przestrzenna</td>\n      <td>1</td>\n      <td>NO_VAL</td>\n      <td>1</td>\n      <td>1</td>\n      <td>8</td>\n      <td>50 - 69%</td>\n      <td>...</td>\n      <td>2</td>\n      <td>3</td>\n      <td>1</td>\n      <td>2</td>\n      <td>2023-06-07</td>\n      <td>13:04:51</td>\n      <td>NO_VAL</td>\n      <td>NO_VAL</td>\n      <td>NO_VAL</td>\n      <td>Brak dominującego</td>\n    </tr>\n    <tr>\n      <th>38</th>\n      <td>44</td>\n      <td>K</td>\n      <td>2003</td>\n      <td>Geografia</td>\n      <td>1</td>\n      <td>FIZ</td>\n      <td>1</td>\n      <td>1</td>\n      <td>&lt;6</td>\n      <td>50 - 69%</td>\n      <td>...</td>\n      <td>2</td>\n      <td>1</td>\n      <td>2</td>\n      <td>1</td>\n      <td>2023-06-07</td>\n      <td>14:13:38</td>\n      <td>VAL</td>\n      <td>NO_VAL</td>\n      <td>NO_VAL</td>\n      <td>Brak dominującego</td>\n    </tr>\n    <tr>\n      <th>39</th>\n      <td>45</td>\n      <td>M</td>\n      <td>2003</td>\n      <td>Geografia</td>\n      <td>1</td>\n      <td>GEOINF</td>\n      <td>1</td>\n      <td>1</td>\n      <td>8&lt;</td>\n      <td>30 - 49%</td>\n      <td>...</td>\n      <td>2</td>\n      <td>4</td>\n      <td>3</td>\n      <td>1</td>\n      <td>2023-06-07</td>\n      <td>14:27:37</td>\n      <td>VAL</td>\n      <td>NO_VAL</td>\n      <td>NO_VAL</td>\n      <td>Słuchowiec</td>\n    </tr>\n    <tr>\n      <th>40</th>\n      <td>46</td>\n      <td>K</td>\n      <td>2002</td>\n      <td>Geografia</td>\n      <td>1</td>\n      <td>FIZ</td>\n      <td>1</td>\n      <td>1</td>\n      <td>7</td>\n      <td>70 - 89%</td>\n      <td>...</td>\n      <td>1</td>\n      <td>3</td>\n      <td>3</td>\n      <td>3</td>\n      <td>2023-06-07</td>\n      <td>15:19:52</td>\n      <td>NO_VAL</td>\n      <td>NO_VAL</td>\n      <td>NO_VAL</td>\n      <td>Brak dominującego</td>\n    </tr>\n  </tbody>\n</table>\n<p>41 rows × 38 columns</p>\n</div>"
     },
     "execution_count": 223,
     "metadata": {},
     "output_type": "execute_result"
    }
   ],
   "source": [
    "df_quest['Typ_uczenia'] = df_quest.apply(choose_dominant_kind, axis=1)\n",
    "df_quest"
   ],
   "metadata": {
    "collapsed": false,
    "ExecuteTime": {
     "end_time": "2023-10-18T21:10:07.237752Z",
     "start_time": "2023-10-18T21:10:07.203028Z"
    }
   },
   "id": "f300e37506c06181"
  },
  {
   "cell_type": "code",
   "execution_count": 228,
   "outputs": [
    {
     "data": {
      "text/plain": "    Wynik  1a_corr  1b_corr  2a_corr  2b_corr  3a_corr  3b_corr Płeć  \\\nID                                                                     \n1       4        1        1        0        0        1        1    M   \n2       5        1        1        1        1        0        1    M   \n3       4        1        1        1        1        0        0    M   \n4       5        1        1        1        1        1        0    K   \n5       6        1        1        1        1        1        1    K   \n6       5        1        1        1        1        0        1    M   \n7       6        1        1        1        1        1        1    K   \n11      2        1        0        0        0        0        1    M   \n12      2        1        1        0        0        0        0    K   \n13      5        1        1        1        1        1        0    K   \n14      5        1        1        1        0        1        1    M   \n15      4        1        1        0        1        1        0    K   \n16      5        1        1        1        0        1        1    M   \n17      4        1        1        1        1        0        0    K   \n18      2        1        1        0        0        0        0    K   \n19      5        1        1        1        1        0        1    M   \n20      3        1        1        0        0        0        1    K   \n21      5        1        1        1        1        1        0    M   \n22      4        1        1        1        1        0        0    K   \n23      4        1        1        1        1        0        0    M   \n24      6        1        1        1        1        1        1    M   \n25      0        0        0        0        0        0        0    K   \n26      5        1        1        1        1        0        1    K   \n27      3        1        1        0        0        1        0    K   \n29      5        1        1        0        1        1        1    M   \n30      3        0        0        1        1        1        0    K   \n31      3        0        1        1        1        0        0    K   \n32      6        1        1        1        1        1        1    K   \n33      5        1        1        1        1        1        0    M   \n34      3        1        1        0        1        0        0    M   \n35      6        1        1        1        1        1        1    M   \n37      6        1        1        1        1        1        1    K   \n38      6        1        1        1        1        1        1    K   \n39      3        0        1        1        1        0        0    K   \n40      4        1        1        1        1        0        0    K   \n41      5        1        1        1        0        1        1    M   \n42      5        1        1        1        1        0        1    K   \n43      5        1        1        1        1        1        0    M   \n44      3        1        1        0        1        0        0    K   \n45      3        1        1        0        0        1        0    M   \n46      4        0        1        1        1        1        0    K   \n\n    Rok_urodzenia                               Kierunek_studiów  ...  \\\nID                                                                ...   \n1            2002  Geografia, w ramach studiów międzyobszarowych  ...   \n2            2003                        Gospodarka przestrzenna  ...   \n3            2001                                      Geografia  ...   \n4            2000                                      Geografia  ...   \n5            2002                                      Geografia  ...   \n6            2003                                      Geografia  ...   \n7            2001  Geografia, w ramach studiów międzyobszarowych  ...   \n11           2003                                      Geografia  ...   \n12           2003                                      Geografia  ...   \n13           2004                                      Geografia  ...   \n14           2002  Geografia, w ramach studiów międzyobszarowych  ...   \n15           2002                                      Geografia  ...   \n16           2002                                      Geografia  ...   \n17           2002                                      Geografia  ...   \n18           2002                        Gospodarka przestrzenna  ...   \n19           2003                        Gospodarka przestrzenna  ...   \n20           2003                                      Geografia  ...   \n21           2002                                      Geografia  ...   \n22           2002                                      Geografia  ...   \n23           2003                                      Geografia  ...   \n24           2004                                      Geografia  ...   \n25           2001                                      Geografia  ...   \n26           2003                                      Geografia  ...   \n27           2001                        Gospodarka przestrzenna  ...   \n29           2003                                      Geografia  ...   \n30           2001                                      Geografia  ...   \n31           2001                                      Geografia  ...   \n32           2001                                      Geografia  ...   \n33           2003                                      Geografia  ...   \n34           2002                                      Geografia  ...   \n35           2001                                      Geografia  ...   \n37           2003                                      Geografia  ...   \n38           2004                                      Geografia  ...   \n39           2003                                      Geografia  ...   \n40           2003                                      Geografia  ...   \n41           2003                                      Geografia  ...   \n42           2003                                      Geografia  ...   \n43           2003                        Gospodarka przestrzenna  ...   \n44           2003                                      Geografia  ...   \n45           2003                                      Geografia  ...   \n46           2002                                      Geografia  ...   \n\n    Rank_map Rank_txt  Rank_plt  Rank_tab        Data   Godzina     MAT  \\\nID                                                                        \n1          3        4         1         2  2023-05-24  11:44:20     VAL   \n2          2        3         1         4  2023-05-24  12:21:03     VAL   \n3          1        4         3         2  2023-05-24  12:41:09     VAL   \n4          2        4         3         1  2023-05-24  13:15:20  NO_VAL   \n5          2        4         1         3  2023-05-24  13:35:17  NO_VAL   \n6          1        4         2         2  2023-05-24  15:42:35     VAL   \n7          2        4         1         3  2023-05-25  13:46:15     VAL   \n11         1        4         1         3  2023-05-25  14:12:48  NO_VAL   \n12         1        4         2         3  2023-05-25  14:47:58     VAL   \n13         1        4         2         3  2023-05-25  15:13:03     VAL   \n14         2        4         3         1  2023-05-25  16:03:22     VAL   \n15         1        3         2         4  2023-05-26  14:15:39     VAL   \n16         2        4         1         3  2023-05-29  11:14:17     VAL   \n17         1        4         2         2  2023-05-29  11:27:10  NO_VAL   \n18         1        4         1         2  2023-05-29  12:12:06     VAL   \n19         1        4         2         1  2023-05-29  13:47:24     VAL   \n20         1        4         3         1  2023-05-29  14:19:08  NO_VAL   \n21         1        4         3         2  2023-05-30  07:41:39  NO_VAL   \n22         1        4         3         2  2023-05-30  08:10:34  NO_VAL   \n23         4        3         2         1  2023-05-30  08:44:33     VAL   \n24         2        4         3         1  2023-05-30  09:13:10     VAL   \n25         1        4         2         2  2023-05-30  10:33:34  NO_VAL   \n26         1        4         2         3  2023-05-30  10:54:04     VAL   \n27         1        4         2         3  2023-05-30  12:16:48     VAL   \n29         3        2         4         1  2023-05-31  11:53:01  NO_VAL   \n30         1        4         2         3  2023-05-31  12:06:03     VAL   \n31         1        3         2         3  2023-05-31  12:28:25  NO_VAL   \n32         1        2         4         3  2023-05-31  13:16:56     VAL   \n33         2        3         1         4  2023-05-31  14:15:16  NO_VAL   \n34         2        4         1         3  2023-05-31  15:52:34     VAL   \n35         2        4         1         3  2023-06-01  13:44:11     VAL   \n37         1        3         2         4  2023-06-01  15:19:26  NO_VAL   \n38         2        4         1         3  2023-06-05  10:39:00  NO_VAL   \n39         1        4         2         3  2023-06-05  11:13:04  NO_VAL   \n40         1        4         2         3  2023-06-05  11:37:34  NO_VAL   \n41         2        4         1         3  2023-06-05  14:18:15     VAL   \n42         2        4         1         3  2023-06-07  11:42:55  NO_VAL   \n43         2        3         1         2  2023-06-07  13:04:51  NO_VAL   \n44         2        1         2         1  2023-06-07  14:13:38     VAL   \n45         2        4         3         1  2023-06-07  14:27:37     VAL   \n46         1        3         3         3  2023-06-07  15:19:52  NO_VAL   \n\n       POL    HIST        Typ_uczenia  \nID                                     \n1      VAL  NO_VAL         Kinestetyk  \n2      VAL  NO_VAL  Brak dominującego  \n3   NO_VAL  NO_VAL         Wzrokowiec  \n4      VAL  NO_VAL  Brak dominującego  \n5   NO_VAL  NO_VAL         Wzrokowiec  \n6   NO_VAL  NO_VAL         Wzrokowiec  \n7   NO_VAL     VAL  Brak dominującego  \n11  NO_VAL  NO_VAL         Wzrokowiec  \n12  NO_VAL  NO_VAL  Brak dominującego  \n13  NO_VAL  NO_VAL         Wzrokowiec  \n14  NO_VAL  NO_VAL         Wzrokowiec  \n15     VAL     VAL         Słuchowiec  \n16  NO_VAL  NO_VAL         Słuchowiec  \n17     VAL  NO_VAL         Wzrokowiec  \n18  NO_VAL  NO_VAL         Wzrokowiec  \n19  NO_VAL  NO_VAL         Wzrokowiec  \n20     VAL  NO_VAL         Wzrokowiec  \n21  NO_VAL     VAL         Wzrokowiec  \n22  NO_VAL  NO_VAL  Brak dominującego  \n23  NO_VAL  NO_VAL         Kinestetyk  \n24  NO_VAL  NO_VAL         Wzrokowiec  \n25  NO_VAL  NO_VAL         Słuchowiec  \n26  NO_VAL  NO_VAL         Wzrokowiec  \n27  NO_VAL  NO_VAL         Wzrokowiec  \n29     VAL  NO_VAL         Wzrokowiec  \n30  NO_VAL  NO_VAL         Wzrokowiec  \n31     VAL  NO_VAL         Wzrokowiec  \n32  NO_VAL  NO_VAL  Brak dominującego  \n33  NO_VAL  NO_VAL         Wzrokowiec  \n34  NO_VAL  NO_VAL         Wzrokowiec  \n35  NO_VAL  NO_VAL  Brak dominującego  \n37  NO_VAL  NO_VAL         Wzrokowiec  \n38  NO_VAL  NO_VAL         Wzrokowiec  \n39  NO_VAL  NO_VAL         Wzrokowiec  \n40  NO_VAL  NO_VAL         Słuchowiec  \n41     VAL     VAL         Słuchowiec  \n42  NO_VAL  NO_VAL         Wzrokowiec  \n43  NO_VAL  NO_VAL  Brak dominującego  \n44  NO_VAL  NO_VAL  Brak dominującego  \n45  NO_VAL  NO_VAL         Słuchowiec  \n46  NO_VAL  NO_VAL  Brak dominującego  \n\n[41 rows x 44 columns]",
      "text/html": "<div>\n<style scoped>\n    .dataframe tbody tr th:only-of-type {\n        vertical-align: middle;\n    }\n\n    .dataframe tbody tr th {\n        vertical-align: top;\n    }\n\n    .dataframe thead th {\n        text-align: right;\n    }\n</style>\n<table border=\"1\" class=\"dataframe\">\n  <thead>\n    <tr style=\"text-align: right;\">\n      <th></th>\n      <th>Wynik</th>\n      <th>1a_corr</th>\n      <th>1b_corr</th>\n      <th>2a_corr</th>\n      <th>2b_corr</th>\n      <th>3a_corr</th>\n      <th>3b_corr</th>\n      <th>Płeć</th>\n      <th>Rok_urodzenia</th>\n      <th>Kierunek_studiów</th>\n      <th>...</th>\n      <th>Rank_map</th>\n      <th>Rank_txt</th>\n      <th>Rank_plt</th>\n      <th>Rank_tab</th>\n      <th>Data</th>\n      <th>Godzina</th>\n      <th>MAT</th>\n      <th>POL</th>\n      <th>HIST</th>\n      <th>Typ_uczenia</th>\n    </tr>\n    <tr>\n      <th>ID</th>\n      <th></th>\n      <th></th>\n      <th></th>\n      <th></th>\n      <th></th>\n      <th></th>\n      <th></th>\n      <th></th>\n      <th></th>\n      <th></th>\n      <th></th>\n      <th></th>\n      <th></th>\n      <th></th>\n      <th></th>\n      <th></th>\n      <th></th>\n      <th></th>\n      <th></th>\n      <th></th>\n      <th></th>\n    </tr>\n  </thead>\n  <tbody>\n    <tr>\n      <th>1</th>\n      <td>4</td>\n      <td>1</td>\n      <td>1</td>\n      <td>0</td>\n      <td>0</td>\n      <td>1</td>\n      <td>1</td>\n      <td>M</td>\n      <td>2002</td>\n      <td>Geografia, w ramach studiów międzyobszarowych</td>\n      <td>...</td>\n      <td>3</td>\n      <td>4</td>\n      <td>1</td>\n      <td>2</td>\n      <td>2023-05-24</td>\n      <td>11:44:20</td>\n      <td>VAL</td>\n      <td>VAL</td>\n      <td>NO_VAL</td>\n      <td>Kinestetyk</td>\n    </tr>\n    <tr>\n      <th>2</th>\n      <td>5</td>\n      <td>1</td>\n      <td>1</td>\n      <td>1</td>\n      <td>1</td>\n      <td>0</td>\n      <td>1</td>\n      <td>M</td>\n      <td>2003</td>\n      <td>Gospodarka przestrzenna</td>\n      <td>...</td>\n      <td>2</td>\n      <td>3</td>\n      <td>1</td>\n      <td>4</td>\n      <td>2023-05-24</td>\n      <td>12:21:03</td>\n      <td>VAL</td>\n      <td>VAL</td>\n      <td>NO_VAL</td>\n      <td>Brak dominującego</td>\n    </tr>\n    <tr>\n      <th>3</th>\n      <td>4</td>\n      <td>1</td>\n      <td>1</td>\n      <td>1</td>\n      <td>1</td>\n      <td>0</td>\n      <td>0</td>\n      <td>M</td>\n      <td>2001</td>\n      <td>Geografia</td>\n      <td>...</td>\n      <td>1</td>\n      <td>4</td>\n      <td>3</td>\n      <td>2</td>\n      <td>2023-05-24</td>\n      <td>12:41:09</td>\n      <td>VAL</td>\n      <td>NO_VAL</td>\n      <td>NO_VAL</td>\n      <td>Wzrokowiec</td>\n    </tr>\n    <tr>\n      <th>4</th>\n      <td>5</td>\n      <td>1</td>\n      <td>1</td>\n      <td>1</td>\n      <td>1</td>\n      <td>1</td>\n      <td>0</td>\n      <td>K</td>\n      <td>2000</td>\n      <td>Geografia</td>\n      <td>...</td>\n      <td>2</td>\n      <td>4</td>\n      <td>3</td>\n      <td>1</td>\n      <td>2023-05-24</td>\n      <td>13:15:20</td>\n      <td>NO_VAL</td>\n      <td>VAL</td>\n      <td>NO_VAL</td>\n      <td>Brak dominującego</td>\n    </tr>\n    <tr>\n      <th>5</th>\n      <td>6</td>\n      <td>1</td>\n      <td>1</td>\n      <td>1</td>\n      <td>1</td>\n      <td>1</td>\n      <td>1</td>\n      <td>K</td>\n      <td>2002</td>\n      <td>Geografia</td>\n      <td>...</td>\n      <td>2</td>\n      <td>4</td>\n      <td>1</td>\n      <td>3</td>\n      <td>2023-05-24</td>\n      <td>13:35:17</td>\n      <td>NO_VAL</td>\n      <td>NO_VAL</td>\n      <td>NO_VAL</td>\n      <td>Wzrokowiec</td>\n    </tr>\n    <tr>\n      <th>6</th>\n      <td>5</td>\n      <td>1</td>\n      <td>1</td>\n      <td>1</td>\n      <td>1</td>\n      <td>0</td>\n      <td>1</td>\n      <td>M</td>\n      <td>2003</td>\n      <td>Geografia</td>\n      <td>...</td>\n      <td>1</td>\n      <td>4</td>\n      <td>2</td>\n      <td>2</td>\n      <td>2023-05-24</td>\n      <td>15:42:35</td>\n      <td>VAL</td>\n      <td>NO_VAL</td>\n      <td>NO_VAL</td>\n      <td>Wzrokowiec</td>\n    </tr>\n    <tr>\n      <th>7</th>\n      <td>6</td>\n      <td>1</td>\n      <td>1</td>\n      <td>1</td>\n      <td>1</td>\n      <td>1</td>\n      <td>1</td>\n      <td>K</td>\n      <td>2001</td>\n      <td>Geografia, w ramach studiów międzyobszarowych</td>\n      <td>...</td>\n      <td>2</td>\n      <td>4</td>\n      <td>1</td>\n      <td>3</td>\n      <td>2023-05-25</td>\n      <td>13:46:15</td>\n      <td>VAL</td>\n      <td>NO_VAL</td>\n      <td>VAL</td>\n      <td>Brak dominującego</td>\n    </tr>\n    <tr>\n      <th>11</th>\n      <td>2</td>\n      <td>1</td>\n      <td>0</td>\n      <td>0</td>\n      <td>0</td>\n      <td>0</td>\n      <td>1</td>\n      <td>M</td>\n      <td>2003</td>\n      <td>Geografia</td>\n      <td>...</td>\n      <td>1</td>\n      <td>4</td>\n      <td>1</td>\n      <td>3</td>\n      <td>2023-05-25</td>\n      <td>14:12:48</td>\n      <td>NO_VAL</td>\n      <td>NO_VAL</td>\n      <td>NO_VAL</td>\n      <td>Wzrokowiec</td>\n    </tr>\n    <tr>\n      <th>12</th>\n      <td>2</td>\n      <td>1</td>\n      <td>1</td>\n      <td>0</td>\n      <td>0</td>\n      <td>0</td>\n      <td>0</td>\n      <td>K</td>\n      <td>2003</td>\n      <td>Geografia</td>\n      <td>...</td>\n      <td>1</td>\n      <td>4</td>\n      <td>2</td>\n      <td>3</td>\n      <td>2023-05-25</td>\n      <td>14:47:58</td>\n      <td>VAL</td>\n      <td>NO_VAL</td>\n      <td>NO_VAL</td>\n      <td>Brak dominującego</td>\n    </tr>\n    <tr>\n      <th>13</th>\n      <td>5</td>\n      <td>1</td>\n      <td>1</td>\n      <td>1</td>\n      <td>1</td>\n      <td>1</td>\n      <td>0</td>\n      <td>K</td>\n      <td>2004</td>\n      <td>Geografia</td>\n      <td>...</td>\n      <td>1</td>\n      <td>4</td>\n      <td>2</td>\n      <td>3</td>\n      <td>2023-05-25</td>\n      <td>15:13:03</td>\n      <td>VAL</td>\n      <td>NO_VAL</td>\n      <td>NO_VAL</td>\n      <td>Wzrokowiec</td>\n    </tr>\n    <tr>\n      <th>14</th>\n      <td>5</td>\n      <td>1</td>\n      <td>1</td>\n      <td>1</td>\n      <td>0</td>\n      <td>1</td>\n      <td>1</td>\n      <td>M</td>\n      <td>2002</td>\n      <td>Geografia, w ramach studiów międzyobszarowych</td>\n      <td>...</td>\n      <td>2</td>\n      <td>4</td>\n      <td>3</td>\n      <td>1</td>\n      <td>2023-05-25</td>\n      <td>16:03:22</td>\n      <td>VAL</td>\n      <td>NO_VAL</td>\n      <td>NO_VAL</td>\n      <td>Wzrokowiec</td>\n    </tr>\n    <tr>\n      <th>15</th>\n      <td>4</td>\n      <td>1</td>\n      <td>1</td>\n      <td>0</td>\n      <td>1</td>\n      <td>1</td>\n      <td>0</td>\n      <td>K</td>\n      <td>2002</td>\n      <td>Geografia</td>\n      <td>...</td>\n      <td>1</td>\n      <td>3</td>\n      <td>2</td>\n      <td>4</td>\n      <td>2023-05-26</td>\n      <td>14:15:39</td>\n      <td>VAL</td>\n      <td>VAL</td>\n      <td>VAL</td>\n      <td>Słuchowiec</td>\n    </tr>\n    <tr>\n      <th>16</th>\n      <td>5</td>\n      <td>1</td>\n      <td>1</td>\n      <td>1</td>\n      <td>0</td>\n      <td>1</td>\n      <td>1</td>\n      <td>M</td>\n      <td>2002</td>\n      <td>Geografia</td>\n      <td>...</td>\n      <td>2</td>\n      <td>4</td>\n      <td>1</td>\n      <td>3</td>\n      <td>2023-05-29</td>\n      <td>11:14:17</td>\n      <td>VAL</td>\n      <td>NO_VAL</td>\n      <td>NO_VAL</td>\n      <td>Słuchowiec</td>\n    </tr>\n    <tr>\n      <th>17</th>\n      <td>4</td>\n      <td>1</td>\n      <td>1</td>\n      <td>1</td>\n      <td>1</td>\n      <td>0</td>\n      <td>0</td>\n      <td>K</td>\n      <td>2002</td>\n      <td>Geografia</td>\n      <td>...</td>\n      <td>1</td>\n      <td>4</td>\n      <td>2</td>\n      <td>2</td>\n      <td>2023-05-29</td>\n      <td>11:27:10</td>\n      <td>NO_VAL</td>\n      <td>VAL</td>\n      <td>NO_VAL</td>\n      <td>Wzrokowiec</td>\n    </tr>\n    <tr>\n      <th>18</th>\n      <td>2</td>\n      <td>1</td>\n      <td>1</td>\n      <td>0</td>\n      <td>0</td>\n      <td>0</td>\n      <td>0</td>\n      <td>K</td>\n      <td>2002</td>\n      <td>Gospodarka przestrzenna</td>\n      <td>...</td>\n      <td>1</td>\n      <td>4</td>\n      <td>1</td>\n      <td>2</td>\n      <td>2023-05-29</td>\n      <td>12:12:06</td>\n      <td>VAL</td>\n      <td>NO_VAL</td>\n      <td>NO_VAL</td>\n      <td>Wzrokowiec</td>\n    </tr>\n    <tr>\n      <th>19</th>\n      <td>5</td>\n      <td>1</td>\n      <td>1</td>\n      <td>1</td>\n      <td>1</td>\n      <td>0</td>\n      <td>1</td>\n      <td>M</td>\n      <td>2003</td>\n      <td>Gospodarka przestrzenna</td>\n      <td>...</td>\n      <td>1</td>\n      <td>4</td>\n      <td>2</td>\n      <td>1</td>\n      <td>2023-05-29</td>\n      <td>13:47:24</td>\n      <td>VAL</td>\n      <td>NO_VAL</td>\n      <td>NO_VAL</td>\n      <td>Wzrokowiec</td>\n    </tr>\n    <tr>\n      <th>20</th>\n      <td>3</td>\n      <td>1</td>\n      <td>1</td>\n      <td>0</td>\n      <td>0</td>\n      <td>0</td>\n      <td>1</td>\n      <td>K</td>\n      <td>2003</td>\n      <td>Geografia</td>\n      <td>...</td>\n      <td>1</td>\n      <td>4</td>\n      <td>3</td>\n      <td>1</td>\n      <td>2023-05-29</td>\n      <td>14:19:08</td>\n      <td>NO_VAL</td>\n      <td>VAL</td>\n      <td>NO_VAL</td>\n      <td>Wzrokowiec</td>\n    </tr>\n    <tr>\n      <th>21</th>\n      <td>5</td>\n      <td>1</td>\n      <td>1</td>\n      <td>1</td>\n      <td>1</td>\n      <td>1</td>\n      <td>0</td>\n      <td>M</td>\n      <td>2002</td>\n      <td>Geografia</td>\n      <td>...</td>\n      <td>1</td>\n      <td>4</td>\n      <td>3</td>\n      <td>2</td>\n      <td>2023-05-30</td>\n      <td>07:41:39</td>\n      <td>NO_VAL</td>\n      <td>NO_VAL</td>\n      <td>VAL</td>\n      <td>Wzrokowiec</td>\n    </tr>\n    <tr>\n      <th>22</th>\n      <td>4</td>\n      <td>1</td>\n      <td>1</td>\n      <td>1</td>\n      <td>1</td>\n      <td>0</td>\n      <td>0</td>\n      <td>K</td>\n      <td>2002</td>\n      <td>Geografia</td>\n      <td>...</td>\n      <td>1</td>\n      <td>4</td>\n      <td>3</td>\n      <td>2</td>\n      <td>2023-05-30</td>\n      <td>08:10:34</td>\n      <td>NO_VAL</td>\n      <td>NO_VAL</td>\n      <td>NO_VAL</td>\n      <td>Brak dominującego</td>\n    </tr>\n    <tr>\n      <th>23</th>\n      <td>4</td>\n      <td>1</td>\n      <td>1</td>\n      <td>1</td>\n      <td>1</td>\n      <td>0</td>\n      <td>0</td>\n      <td>M</td>\n      <td>2003</td>\n      <td>Geografia</td>\n      <td>...</td>\n      <td>4</td>\n      <td>3</td>\n      <td>2</td>\n      <td>1</td>\n      <td>2023-05-30</td>\n      <td>08:44:33</td>\n      <td>VAL</td>\n      <td>NO_VAL</td>\n      <td>NO_VAL</td>\n      <td>Kinestetyk</td>\n    </tr>\n    <tr>\n      <th>24</th>\n      <td>6</td>\n      <td>1</td>\n      <td>1</td>\n      <td>1</td>\n      <td>1</td>\n      <td>1</td>\n      <td>1</td>\n      <td>M</td>\n      <td>2004</td>\n      <td>Geografia</td>\n      <td>...</td>\n      <td>2</td>\n      <td>4</td>\n      <td>3</td>\n      <td>1</td>\n      <td>2023-05-30</td>\n      <td>09:13:10</td>\n      <td>VAL</td>\n      <td>NO_VAL</td>\n      <td>NO_VAL</td>\n      <td>Wzrokowiec</td>\n    </tr>\n    <tr>\n      <th>25</th>\n      <td>0</td>\n      <td>0</td>\n      <td>0</td>\n      <td>0</td>\n      <td>0</td>\n      <td>0</td>\n      <td>0</td>\n      <td>K</td>\n      <td>2001</td>\n      <td>Geografia</td>\n      <td>...</td>\n      <td>1</td>\n      <td>4</td>\n      <td>2</td>\n      <td>2</td>\n      <td>2023-05-30</td>\n      <td>10:33:34</td>\n      <td>NO_VAL</td>\n      <td>NO_VAL</td>\n      <td>NO_VAL</td>\n      <td>Słuchowiec</td>\n    </tr>\n    <tr>\n      <th>26</th>\n      <td>5</td>\n      <td>1</td>\n      <td>1</td>\n      <td>1</td>\n      <td>1</td>\n      <td>0</td>\n      <td>1</td>\n      <td>K</td>\n      <td>2003</td>\n      <td>Geografia</td>\n      <td>...</td>\n      <td>1</td>\n      <td>4</td>\n      <td>2</td>\n      <td>3</td>\n      <td>2023-05-30</td>\n      <td>10:54:04</td>\n      <td>VAL</td>\n      <td>NO_VAL</td>\n      <td>NO_VAL</td>\n      <td>Wzrokowiec</td>\n    </tr>\n    <tr>\n      <th>27</th>\n      <td>3</td>\n      <td>1</td>\n      <td>1</td>\n      <td>0</td>\n      <td>0</td>\n      <td>1</td>\n      <td>0</td>\n      <td>K</td>\n      <td>2001</td>\n      <td>Gospodarka przestrzenna</td>\n      <td>...</td>\n      <td>1</td>\n      <td>4</td>\n      <td>2</td>\n      <td>3</td>\n      <td>2023-05-30</td>\n      <td>12:16:48</td>\n      <td>VAL</td>\n      <td>NO_VAL</td>\n      <td>NO_VAL</td>\n      <td>Wzrokowiec</td>\n    </tr>\n    <tr>\n      <th>29</th>\n      <td>5</td>\n      <td>1</td>\n      <td>1</td>\n      <td>0</td>\n      <td>1</td>\n      <td>1</td>\n      <td>1</td>\n      <td>M</td>\n      <td>2003</td>\n      <td>Geografia</td>\n      <td>...</td>\n      <td>3</td>\n      <td>2</td>\n      <td>4</td>\n      <td>1</td>\n      <td>2023-05-31</td>\n      <td>11:53:01</td>\n      <td>NO_VAL</td>\n      <td>VAL</td>\n      <td>NO_VAL</td>\n      <td>Wzrokowiec</td>\n    </tr>\n    <tr>\n      <th>30</th>\n      <td>3</td>\n      <td>0</td>\n      <td>0</td>\n      <td>1</td>\n      <td>1</td>\n      <td>1</td>\n      <td>0</td>\n      <td>K</td>\n      <td>2001</td>\n      <td>Geografia</td>\n      <td>...</td>\n      <td>1</td>\n      <td>4</td>\n      <td>2</td>\n      <td>3</td>\n      <td>2023-05-31</td>\n      <td>12:06:03</td>\n      <td>VAL</td>\n      <td>NO_VAL</td>\n      <td>NO_VAL</td>\n      <td>Wzrokowiec</td>\n    </tr>\n    <tr>\n      <th>31</th>\n      <td>3</td>\n      <td>0</td>\n      <td>1</td>\n      <td>1</td>\n      <td>1</td>\n      <td>0</td>\n      <td>0</td>\n      <td>K</td>\n      <td>2001</td>\n      <td>Geografia</td>\n      <td>...</td>\n      <td>1</td>\n      <td>3</td>\n      <td>2</td>\n      <td>3</td>\n      <td>2023-05-31</td>\n      <td>12:28:25</td>\n      <td>NO_VAL</td>\n      <td>VAL</td>\n      <td>NO_VAL</td>\n      <td>Wzrokowiec</td>\n    </tr>\n    <tr>\n      <th>32</th>\n      <td>6</td>\n      <td>1</td>\n      <td>1</td>\n      <td>1</td>\n      <td>1</td>\n      <td>1</td>\n      <td>1</td>\n      <td>K</td>\n      <td>2001</td>\n      <td>Geografia</td>\n      <td>...</td>\n      <td>1</td>\n      <td>2</td>\n      <td>4</td>\n      <td>3</td>\n      <td>2023-05-31</td>\n      <td>13:16:56</td>\n      <td>VAL</td>\n      <td>NO_VAL</td>\n      <td>NO_VAL</td>\n      <td>Brak dominującego</td>\n    </tr>\n    <tr>\n      <th>33</th>\n      <td>5</td>\n      <td>1</td>\n      <td>1</td>\n      <td>1</td>\n      <td>1</td>\n      <td>1</td>\n      <td>0</td>\n      <td>M</td>\n      <td>2003</td>\n      <td>Geografia</td>\n      <td>...</td>\n      <td>2</td>\n      <td>3</td>\n      <td>1</td>\n      <td>4</td>\n      <td>2023-05-31</td>\n      <td>14:15:16</td>\n      <td>NO_VAL</td>\n      <td>NO_VAL</td>\n      <td>NO_VAL</td>\n      <td>Wzrokowiec</td>\n    </tr>\n    <tr>\n      <th>34</th>\n      <td>3</td>\n      <td>1</td>\n      <td>1</td>\n      <td>0</td>\n      <td>1</td>\n      <td>0</td>\n      <td>0</td>\n      <td>M</td>\n      <td>2002</td>\n      <td>Geografia</td>\n      <td>...</td>\n      <td>2</td>\n      <td>4</td>\n      <td>1</td>\n      <td>3</td>\n      <td>2023-05-31</td>\n      <td>15:52:34</td>\n      <td>VAL</td>\n      <td>NO_VAL</td>\n      <td>NO_VAL</td>\n      <td>Wzrokowiec</td>\n    </tr>\n    <tr>\n      <th>35</th>\n      <td>6</td>\n      <td>1</td>\n      <td>1</td>\n      <td>1</td>\n      <td>1</td>\n      <td>1</td>\n      <td>1</td>\n      <td>M</td>\n      <td>2001</td>\n      <td>Geografia</td>\n      <td>...</td>\n      <td>2</td>\n      <td>4</td>\n      <td>1</td>\n      <td>3</td>\n      <td>2023-06-01</td>\n      <td>13:44:11</td>\n      <td>VAL</td>\n      <td>NO_VAL</td>\n      <td>NO_VAL</td>\n      <td>Brak dominującego</td>\n    </tr>\n    <tr>\n      <th>37</th>\n      <td>6</td>\n      <td>1</td>\n      <td>1</td>\n      <td>1</td>\n      <td>1</td>\n      <td>1</td>\n      <td>1</td>\n      <td>K</td>\n      <td>2003</td>\n      <td>Geografia</td>\n      <td>...</td>\n      <td>1</td>\n      <td>3</td>\n      <td>2</td>\n      <td>4</td>\n      <td>2023-06-01</td>\n      <td>15:19:26</td>\n      <td>NO_VAL</td>\n      <td>NO_VAL</td>\n      <td>NO_VAL</td>\n      <td>Wzrokowiec</td>\n    </tr>\n    <tr>\n      <th>38</th>\n      <td>6</td>\n      <td>1</td>\n      <td>1</td>\n      <td>1</td>\n      <td>1</td>\n      <td>1</td>\n      <td>1</td>\n      <td>K</td>\n      <td>2004</td>\n      <td>Geografia</td>\n      <td>...</td>\n      <td>2</td>\n      <td>4</td>\n      <td>1</td>\n      <td>3</td>\n      <td>2023-06-05</td>\n      <td>10:39:00</td>\n      <td>NO_VAL</td>\n      <td>NO_VAL</td>\n      <td>NO_VAL</td>\n      <td>Wzrokowiec</td>\n    </tr>\n    <tr>\n      <th>39</th>\n      <td>3</td>\n      <td>0</td>\n      <td>1</td>\n      <td>1</td>\n      <td>1</td>\n      <td>0</td>\n      <td>0</td>\n      <td>K</td>\n      <td>2003</td>\n      <td>Geografia</td>\n      <td>...</td>\n      <td>1</td>\n      <td>4</td>\n      <td>2</td>\n      <td>3</td>\n      <td>2023-06-05</td>\n      <td>11:13:04</td>\n      <td>NO_VAL</td>\n      <td>NO_VAL</td>\n      <td>NO_VAL</td>\n      <td>Wzrokowiec</td>\n    </tr>\n    <tr>\n      <th>40</th>\n      <td>4</td>\n      <td>1</td>\n      <td>1</td>\n      <td>1</td>\n      <td>1</td>\n      <td>0</td>\n      <td>0</td>\n      <td>K</td>\n      <td>2003</td>\n      <td>Geografia</td>\n      <td>...</td>\n      <td>1</td>\n      <td>4</td>\n      <td>2</td>\n      <td>3</td>\n      <td>2023-06-05</td>\n      <td>11:37:34</td>\n      <td>NO_VAL</td>\n      <td>NO_VAL</td>\n      <td>NO_VAL</td>\n      <td>Słuchowiec</td>\n    </tr>\n    <tr>\n      <th>41</th>\n      <td>5</td>\n      <td>1</td>\n      <td>1</td>\n      <td>1</td>\n      <td>0</td>\n      <td>1</td>\n      <td>1</td>\n      <td>M</td>\n      <td>2003</td>\n      <td>Geografia</td>\n      <td>...</td>\n      <td>2</td>\n      <td>4</td>\n      <td>1</td>\n      <td>3</td>\n      <td>2023-06-05</td>\n      <td>14:18:15</td>\n      <td>VAL</td>\n      <td>VAL</td>\n      <td>VAL</td>\n      <td>Słuchowiec</td>\n    </tr>\n    <tr>\n      <th>42</th>\n      <td>5</td>\n      <td>1</td>\n      <td>1</td>\n      <td>1</td>\n      <td>1</td>\n      <td>0</td>\n      <td>1</td>\n      <td>K</td>\n      <td>2003</td>\n      <td>Geografia</td>\n      <td>...</td>\n      <td>2</td>\n      <td>4</td>\n      <td>1</td>\n      <td>3</td>\n      <td>2023-06-07</td>\n      <td>11:42:55</td>\n      <td>NO_VAL</td>\n      <td>NO_VAL</td>\n      <td>NO_VAL</td>\n      <td>Wzrokowiec</td>\n    </tr>\n    <tr>\n      <th>43</th>\n      <td>5</td>\n      <td>1</td>\n      <td>1</td>\n      <td>1</td>\n      <td>1</td>\n      <td>1</td>\n      <td>0</td>\n      <td>M</td>\n      <td>2003</td>\n      <td>Gospodarka przestrzenna</td>\n      <td>...</td>\n      <td>2</td>\n      <td>3</td>\n      <td>1</td>\n      <td>2</td>\n      <td>2023-06-07</td>\n      <td>13:04:51</td>\n      <td>NO_VAL</td>\n      <td>NO_VAL</td>\n      <td>NO_VAL</td>\n      <td>Brak dominującego</td>\n    </tr>\n    <tr>\n      <th>44</th>\n      <td>3</td>\n      <td>1</td>\n      <td>1</td>\n      <td>0</td>\n      <td>1</td>\n      <td>0</td>\n      <td>0</td>\n      <td>K</td>\n      <td>2003</td>\n      <td>Geografia</td>\n      <td>...</td>\n      <td>2</td>\n      <td>1</td>\n      <td>2</td>\n      <td>1</td>\n      <td>2023-06-07</td>\n      <td>14:13:38</td>\n      <td>VAL</td>\n      <td>NO_VAL</td>\n      <td>NO_VAL</td>\n      <td>Brak dominującego</td>\n    </tr>\n    <tr>\n      <th>45</th>\n      <td>3</td>\n      <td>1</td>\n      <td>1</td>\n      <td>0</td>\n      <td>0</td>\n      <td>1</td>\n      <td>0</td>\n      <td>M</td>\n      <td>2003</td>\n      <td>Geografia</td>\n      <td>...</td>\n      <td>2</td>\n      <td>4</td>\n      <td>3</td>\n      <td>1</td>\n      <td>2023-06-07</td>\n      <td>14:27:37</td>\n      <td>VAL</td>\n      <td>NO_VAL</td>\n      <td>NO_VAL</td>\n      <td>Słuchowiec</td>\n    </tr>\n    <tr>\n      <th>46</th>\n      <td>4</td>\n      <td>0</td>\n      <td>1</td>\n      <td>1</td>\n      <td>1</td>\n      <td>1</td>\n      <td>0</td>\n      <td>K</td>\n      <td>2002</td>\n      <td>Geografia</td>\n      <td>...</td>\n      <td>1</td>\n      <td>3</td>\n      <td>3</td>\n      <td>3</td>\n      <td>2023-06-07</td>\n      <td>15:19:52</td>\n      <td>NO_VAL</td>\n      <td>NO_VAL</td>\n      <td>NO_VAL</td>\n      <td>Brak dominującego</td>\n    </tr>\n  </tbody>\n</table>\n<p>41 rows × 44 columns</p>\n</div>"
     },
     "execution_count": 228,
     "metadata": {},
     "output_type": "execute_result"
    }
   ],
   "source": [
    "df_merge = df_answers.merge(df_quest, on='ID').set_index('ID')\n",
    "df_merge"
   ],
   "metadata": {
    "collapsed": false,
    "ExecuteTime": {
     "end_time": "2023-10-18T21:10:20.661362Z",
     "start_time": "2023-10-18T21:10:20.641632Z"
    }
   },
   "id": "29feb229f7e7ff3"
  },
  {
   "cell_type": "code",
   "execution_count": 229,
   "outputs": [],
   "source": [
    "def prepate_col(list_of_cols_popr):\n",
    "    new_row_popr = list_of_cols_popr[0]\n",
    "    for i in list_of_cols_popr[1:]:\n",
    "        new_row_popr = pd.concat([new_row_popr, i], ignore_index=True)\n",
    "\n",
    "    return new_row_popr"
   ],
   "metadata": {
    "collapsed": false,
    "ExecuteTime": {
     "end_time": "2023-10-18T21:10:26.534495Z",
     "start_time": "2023-10-18T21:10:26.510732Z"
    }
   },
   "id": "2cfc87eb4e95f97f"
  },
  {
   "cell_type": "code",
   "execution_count": 230,
   "outputs": [],
   "source": [
    "\n",
    "def make_decision(p_val, alpha):\n",
    "    if p_val < alpha:\n",
    "        print('Istnieją podstawy do odrzucenia H0, przyjmujemy hipotezę H1:')\n",
    "    else:\n",
    "        print('Brak podstaw do odrzucenia H0.')\n",
    "        \n",
    "def conduct_chi2test(contingency_table, alpha):\n",
    "    chi2_stat, p_val, _, _ = stats.chi2_contingency(contingency_table)\n",
    "\n",
    "    print('Wartość statystyki chi-kwadrat:', chi2_stat)\n",
    "    print('P-value:', p_val)\n",
    "    make_decision(p_val, alpha)"
   ],
   "metadata": {
    "collapsed": false,
    "ExecuteTime": {
     "end_time": "2023-10-18T21:10:26.823890Z",
     "start_time": "2023-10-18T21:10:26.803013Z"
    }
   },
   "id": "ed726add52b6d4ef"
  },
  {
   "cell_type": "code",
   "execution_count": 231,
   "outputs": [],
   "source": [
    "def test_parametr(dfs, names, dependent_variable, independent_variable):\n",
    "    for i, df in enumerate(dfs):\n",
    "        print('-----------------------------------------------')\n",
    "        print(names[i+1])\n",
    "        tab = pd.crosstab(df[dependent_variable], df[independent_variable])\n",
    "        print(tab)\n",
    "        conduct_chi2test(tab, ALPHA)"
   ],
   "metadata": {
    "collapsed": false,
    "ExecuteTime": {
     "end_time": "2023-10-18T21:10:27.144085Z",
     "start_time": "2023-10-18T21:10:27.123806Z"
    }
   },
   "id": "6a8854be705d23b7"
  },
  {
   "cell_type": "code",
   "execution_count": 232,
   "outputs": [],
   "source": [
    "def test_posthoc(df, dependent_variable, independent_variable):\n",
    "    posthoc = sm.stats.multicomp.MultiComparison(df[dependent_variable], df[independent_variable])\n",
    "    result = posthoc.tukeyhsd()\n",
    "    print(result)"
   ],
   "metadata": {
    "collapsed": false,
    "ExecuteTime": {
     "end_time": "2023-10-18T21:10:27.742804Z",
     "start_time": "2023-10-18T21:10:27.716820Z"
    }
   },
   "id": "c4eb34430b4b7d81"
  },
  {
   "cell_type": "markdown",
   "source": [
    "Przygotowanie data setów dla wszystkich testowanych przypadków:"
   ],
   "metadata": {
    "collapsed": false
   },
   "id": "8787e28959913403"
  },
  {
   "cell_type": "code",
   "execution_count": 233,
   "outputs": [],
   "source": [
    "# zsumowany wynik\n",
    "df_wynik = df_merge.drop(columns=['1a_corr', '1b_corr', '2a_corr', '2b_corr', '3a_corr', '3b_corr'])\n",
    "df_wynik.rename(columns={'Wynik':'corr'}, inplace=True)"
   ],
   "metadata": {
    "collapsed": false,
    "ExecuteTime": {
     "end_time": "2023-10-18T21:10:33.010989Z",
     "start_time": "2023-10-18T21:10:32.994539Z"
    }
   },
   "id": "95f65e8caa2205d1"
  },
  {
   "cell_type": "code",
   "execution_count": 234,
   "outputs": [
    {
     "data": {
      "text/plain": "     ID Płeć  Rok_urodzenia                               Kierunek_studiów  \\\n0     1    M           2002  Geografia, w ramach studiów międzyobszarowych   \n1     2    M           2003                        Gospodarka przestrzenna   \n2     3    M           2001                                      Geografia   \n3     4    K           2000                                      Geografia   \n4     5    K           2002                                      Geografia   \n..   ..  ...            ...                                            ...   \n241  42    K           2003                                      Geografia   \n242  43    M           2003                        Gospodarka przestrzenna   \n243  44    K           2003                                      Geografia   \n244  45    M           2003                                      Geografia   \n245  46    K           2002                                      Geografia   \n\n     Rok_studiów Specjalność  Wady_wzroku  Daltonizm Ilość_snu   JP_podst  \\\n0              2    SPOŁ-EKO            0          1         6  90 - 100%   \n1              1      NO_VAL            1          1        <6   50 - 69%   \n2              3     GEOINF             0          1         8   50 - 69%   \n3              3     GEOINF             0          1         8   50 - 69%   \n4              3     GEOINF             0          1         7   50 - 69%   \n..           ...         ...          ...        ...       ...        ...   \n241            1        FIZ             0          1         7   70 - 89%   \n242            1      NO_VAL            1          1         8   50 - 69%   \n243            1        FIZ             1          1        <6   50 - 69%   \n244            1     GEOINF             1          1        8<   30 - 49%   \n245            1        FIZ             1          1         7   70 - 89%   \n\n     ... Rank_txt Rank_plt Rank_tab        Data   Godzina     MAT     POL  \\\n0    ...        4        1        2  2023-05-24  11:44:20     VAL     VAL   \n1    ...        3        1        4  2023-05-24  12:21:03     VAL     VAL   \n2    ...        4        3        2  2023-05-24  12:41:09     VAL  NO_VAL   \n3    ...        4        3        1  2023-05-24  13:15:20  NO_VAL     VAL   \n4    ...        4        1        3  2023-05-24  13:35:17  NO_VAL  NO_VAL   \n..   ...      ...      ...      ...         ...       ...     ...     ...   \n241  ...        4        1        3  2023-06-07  11:42:55  NO_VAL  NO_VAL   \n242  ...        3        1        2  2023-06-07  13:04:51  NO_VAL  NO_VAL   \n243  ...        1        2        1  2023-06-07  14:13:38     VAL  NO_VAL   \n244  ...        4        3        1  2023-06-07  14:27:37     VAL  NO_VAL   \n245  ...        3        3        3  2023-06-07  15:19:52  NO_VAL  NO_VAL   \n\n       HIST        Typ_uczenia  corr  \n0    NO_VAL         Kinestetyk     1  \n1    NO_VAL  Brak dominującego     1  \n2    NO_VAL         Wzrokowiec     1  \n3    NO_VAL  Brak dominującego     1  \n4    NO_VAL         Wzrokowiec     1  \n..      ...                ...   ...  \n241  NO_VAL         Wzrokowiec     1  \n242  NO_VAL  Brak dominującego     0  \n243  NO_VAL  Brak dominującego     0  \n244  NO_VAL         Słuchowiec     0  \n245  NO_VAL  Brak dominującego     0  \n\n[246 rows x 39 columns]",
      "text/html": "<div>\n<style scoped>\n    .dataframe tbody tr th:only-of-type {\n        vertical-align: middle;\n    }\n\n    .dataframe tbody tr th {\n        vertical-align: top;\n    }\n\n    .dataframe thead th {\n        text-align: right;\n    }\n</style>\n<table border=\"1\" class=\"dataframe\">\n  <thead>\n    <tr style=\"text-align: right;\">\n      <th></th>\n      <th>ID</th>\n      <th>Płeć</th>\n      <th>Rok_urodzenia</th>\n      <th>Kierunek_studiów</th>\n      <th>Rok_studiów</th>\n      <th>Specjalność</th>\n      <th>Wady_wzroku</th>\n      <th>Daltonizm</th>\n      <th>Ilość_snu</th>\n      <th>JP_podst</th>\n      <th>...</th>\n      <th>Rank_txt</th>\n      <th>Rank_plt</th>\n      <th>Rank_tab</th>\n      <th>Data</th>\n      <th>Godzina</th>\n      <th>MAT</th>\n      <th>POL</th>\n      <th>HIST</th>\n      <th>Typ_uczenia</th>\n      <th>corr</th>\n    </tr>\n  </thead>\n  <tbody>\n    <tr>\n      <th>0</th>\n      <td>1</td>\n      <td>M</td>\n      <td>2002</td>\n      <td>Geografia, w ramach studiów międzyobszarowych</td>\n      <td>2</td>\n      <td>SPOŁ-EKO</td>\n      <td>0</td>\n      <td>1</td>\n      <td>6</td>\n      <td>90 - 100%</td>\n      <td>...</td>\n      <td>4</td>\n      <td>1</td>\n      <td>2</td>\n      <td>2023-05-24</td>\n      <td>11:44:20</td>\n      <td>VAL</td>\n      <td>VAL</td>\n      <td>NO_VAL</td>\n      <td>Kinestetyk</td>\n      <td>1</td>\n    </tr>\n    <tr>\n      <th>1</th>\n      <td>2</td>\n      <td>M</td>\n      <td>2003</td>\n      <td>Gospodarka przestrzenna</td>\n      <td>1</td>\n      <td>NO_VAL</td>\n      <td>1</td>\n      <td>1</td>\n      <td>&lt;6</td>\n      <td>50 - 69%</td>\n      <td>...</td>\n      <td>3</td>\n      <td>1</td>\n      <td>4</td>\n      <td>2023-05-24</td>\n      <td>12:21:03</td>\n      <td>VAL</td>\n      <td>VAL</td>\n      <td>NO_VAL</td>\n      <td>Brak dominującego</td>\n      <td>1</td>\n    </tr>\n    <tr>\n      <th>2</th>\n      <td>3</td>\n      <td>M</td>\n      <td>2001</td>\n      <td>Geografia</td>\n      <td>3</td>\n      <td>GEOINF</td>\n      <td>0</td>\n      <td>1</td>\n      <td>8</td>\n      <td>50 - 69%</td>\n      <td>...</td>\n      <td>4</td>\n      <td>3</td>\n      <td>2</td>\n      <td>2023-05-24</td>\n      <td>12:41:09</td>\n      <td>VAL</td>\n      <td>NO_VAL</td>\n      <td>NO_VAL</td>\n      <td>Wzrokowiec</td>\n      <td>1</td>\n    </tr>\n    <tr>\n      <th>3</th>\n      <td>4</td>\n      <td>K</td>\n      <td>2000</td>\n      <td>Geografia</td>\n      <td>3</td>\n      <td>GEOINF</td>\n      <td>0</td>\n      <td>1</td>\n      <td>8</td>\n      <td>50 - 69%</td>\n      <td>...</td>\n      <td>4</td>\n      <td>3</td>\n      <td>1</td>\n      <td>2023-05-24</td>\n      <td>13:15:20</td>\n      <td>NO_VAL</td>\n      <td>VAL</td>\n      <td>NO_VAL</td>\n      <td>Brak dominującego</td>\n      <td>1</td>\n    </tr>\n    <tr>\n      <th>4</th>\n      <td>5</td>\n      <td>K</td>\n      <td>2002</td>\n      <td>Geografia</td>\n      <td>3</td>\n      <td>GEOINF</td>\n      <td>0</td>\n      <td>1</td>\n      <td>7</td>\n      <td>50 - 69%</td>\n      <td>...</td>\n      <td>4</td>\n      <td>1</td>\n      <td>3</td>\n      <td>2023-05-24</td>\n      <td>13:35:17</td>\n      <td>NO_VAL</td>\n      <td>NO_VAL</td>\n      <td>NO_VAL</td>\n      <td>Wzrokowiec</td>\n      <td>1</td>\n    </tr>\n    <tr>\n      <th>...</th>\n      <td>...</td>\n      <td>...</td>\n      <td>...</td>\n      <td>...</td>\n      <td>...</td>\n      <td>...</td>\n      <td>...</td>\n      <td>...</td>\n      <td>...</td>\n      <td>...</td>\n      <td>...</td>\n      <td>...</td>\n      <td>...</td>\n      <td>...</td>\n      <td>...</td>\n      <td>...</td>\n      <td>...</td>\n      <td>...</td>\n      <td>...</td>\n      <td>...</td>\n      <td>...</td>\n    </tr>\n    <tr>\n      <th>241</th>\n      <td>42</td>\n      <td>K</td>\n      <td>2003</td>\n      <td>Geografia</td>\n      <td>1</td>\n      <td>FIZ</td>\n      <td>0</td>\n      <td>1</td>\n      <td>7</td>\n      <td>70 - 89%</td>\n      <td>...</td>\n      <td>4</td>\n      <td>1</td>\n      <td>3</td>\n      <td>2023-06-07</td>\n      <td>11:42:55</td>\n      <td>NO_VAL</td>\n      <td>NO_VAL</td>\n      <td>NO_VAL</td>\n      <td>Wzrokowiec</td>\n      <td>1</td>\n    </tr>\n    <tr>\n      <th>242</th>\n      <td>43</td>\n      <td>M</td>\n      <td>2003</td>\n      <td>Gospodarka przestrzenna</td>\n      <td>1</td>\n      <td>NO_VAL</td>\n      <td>1</td>\n      <td>1</td>\n      <td>8</td>\n      <td>50 - 69%</td>\n      <td>...</td>\n      <td>3</td>\n      <td>1</td>\n      <td>2</td>\n      <td>2023-06-07</td>\n      <td>13:04:51</td>\n      <td>NO_VAL</td>\n      <td>NO_VAL</td>\n      <td>NO_VAL</td>\n      <td>Brak dominującego</td>\n      <td>0</td>\n    </tr>\n    <tr>\n      <th>243</th>\n      <td>44</td>\n      <td>K</td>\n      <td>2003</td>\n      <td>Geografia</td>\n      <td>1</td>\n      <td>FIZ</td>\n      <td>1</td>\n      <td>1</td>\n      <td>&lt;6</td>\n      <td>50 - 69%</td>\n      <td>...</td>\n      <td>1</td>\n      <td>2</td>\n      <td>1</td>\n      <td>2023-06-07</td>\n      <td>14:13:38</td>\n      <td>VAL</td>\n      <td>NO_VAL</td>\n      <td>NO_VAL</td>\n      <td>Brak dominującego</td>\n      <td>0</td>\n    </tr>\n    <tr>\n      <th>244</th>\n      <td>45</td>\n      <td>M</td>\n      <td>2003</td>\n      <td>Geografia</td>\n      <td>1</td>\n      <td>GEOINF</td>\n      <td>1</td>\n      <td>1</td>\n      <td>8&lt;</td>\n      <td>30 - 49%</td>\n      <td>...</td>\n      <td>4</td>\n      <td>3</td>\n      <td>1</td>\n      <td>2023-06-07</td>\n      <td>14:27:37</td>\n      <td>VAL</td>\n      <td>NO_VAL</td>\n      <td>NO_VAL</td>\n      <td>Słuchowiec</td>\n      <td>0</td>\n    </tr>\n    <tr>\n      <th>245</th>\n      <td>46</td>\n      <td>K</td>\n      <td>2002</td>\n      <td>Geografia</td>\n      <td>1</td>\n      <td>FIZ</td>\n      <td>1</td>\n      <td>1</td>\n      <td>7</td>\n      <td>70 - 89%</td>\n      <td>...</td>\n      <td>3</td>\n      <td>3</td>\n      <td>3</td>\n      <td>2023-06-07</td>\n      <td>15:19:52</td>\n      <td>NO_VAL</td>\n      <td>NO_VAL</td>\n      <td>NO_VAL</td>\n      <td>Brak dominującego</td>\n      <td>0</td>\n    </tr>\n  </tbody>\n</table>\n<p>246 rows × 39 columns</p>\n</div>"
     },
     "execution_count": 234,
     "metadata": {},
     "output_type": "execute_result"
    }
   ],
   "source": [
    "df_list = [df_quest] * 6\n",
    "df_all = pd.concat(df_list, ignore_index=True)\n",
    "\n",
    "popr = []\n",
    "for col in df_answers.columns.tolist():\n",
    "    if col.endswith('corr'):\n",
    "        popr.append(df_answers[col])\n",
    "col = prepate_col(popr)\n",
    "\n",
    "df_all[\"corr\"] = col\n",
    "df_all"
   ],
   "metadata": {
    "collapsed": false,
    "ExecuteTime": {
     "end_time": "2023-10-18T21:10:43.697446Z",
     "start_time": "2023-10-18T21:10:43.666999Z"
    }
   },
   "id": "75d548659dab76d3"
  },
  {
   "cell_type": "code",
   "execution_count": 235,
   "outputs": [
    {
     "data": {
      "text/plain": "     ID Płeć  Rok_urodzenia                               Kierunek_studiów  \\\n0     1    M           2002  Geografia, w ramach studiów międzyobszarowych   \n1     2    M           2003                        Gospodarka przestrzenna   \n2     3    M           2001                                      Geografia   \n3     4    K           2000                                      Geografia   \n4     5    K           2002                                      Geografia   \n..   ..  ...            ...                                            ...   \n118  42    K           2003                                      Geografia   \n119  43    M           2003                        Gospodarka przestrzenna   \n120  44    K           2003                                      Geografia   \n121  45    M           2003                                      Geografia   \n122  46    K           2002                                      Geografia   \n\n     Rok_studiów Specjalność  Wady_wzroku  Daltonizm Ilość_snu   JP_podst  \\\n0              2    SPOŁ-EKO            0          1         6  90 - 100%   \n1              1      NO_VAL            1          1        <6   50 - 69%   \n2              3     GEOINF             0          1         8   50 - 69%   \n3              3     GEOINF             0          1         8   50 - 69%   \n4              3     GEOINF             0          1         7   50 - 69%   \n..           ...         ...          ...        ...       ...        ...   \n118            1        FIZ             0          1         7   70 - 89%   \n119            1      NO_VAL            1          1         8   50 - 69%   \n120            1        FIZ             1          1        <6   50 - 69%   \n121            1     GEOINF             1          1        8<   30 - 49%   \n122            1        FIZ             1          1         7   70 - 89%   \n\n     ... Rank_txt Rank_plt Rank_tab        Data   Godzina     MAT     POL  \\\n0    ...        4        1        2  2023-05-24  11:44:20     VAL     VAL   \n1    ...        3        1        4  2023-05-24  12:21:03     VAL     VAL   \n2    ...        4        3        2  2023-05-24  12:41:09     VAL  NO_VAL   \n3    ...        4        3        1  2023-05-24  13:15:20  NO_VAL     VAL   \n4    ...        4        1        3  2023-05-24  13:35:17  NO_VAL  NO_VAL   \n..   ...      ...      ...      ...         ...       ...     ...     ...   \n118  ...        4        1        3  2023-06-07  11:42:55  NO_VAL  NO_VAL   \n119  ...        3        1        2  2023-06-07  13:04:51  NO_VAL  NO_VAL   \n120  ...        1        2        1  2023-06-07  14:13:38     VAL  NO_VAL   \n121  ...        4        3        1  2023-06-07  14:27:37     VAL  NO_VAL   \n122  ...        3        3        3  2023-06-07  15:19:52  NO_VAL  NO_VAL   \n\n       HIST        Typ_uczenia  corr  \n0    NO_VAL         Kinestetyk     1  \n1    NO_VAL  Brak dominującego     1  \n2    NO_VAL         Wzrokowiec     1  \n3    NO_VAL  Brak dominującego     1  \n4    NO_VAL         Wzrokowiec     1  \n..      ...                ...   ...  \n118  NO_VAL         Wzrokowiec     0  \n119  NO_VAL  Brak dominującego     1  \n120  NO_VAL  Brak dominującego     0  \n121  NO_VAL         Słuchowiec     1  \n122  NO_VAL  Brak dominującego     1  \n\n[123 rows x 39 columns]",
      "text/html": "<div>\n<style scoped>\n    .dataframe tbody tr th:only-of-type {\n        vertical-align: middle;\n    }\n\n    .dataframe tbody tr th {\n        vertical-align: top;\n    }\n\n    .dataframe thead th {\n        text-align: right;\n    }\n</style>\n<table border=\"1\" class=\"dataframe\">\n  <thead>\n    <tr style=\"text-align: right;\">\n      <th></th>\n      <th>ID</th>\n      <th>Płeć</th>\n      <th>Rok_urodzenia</th>\n      <th>Kierunek_studiów</th>\n      <th>Rok_studiów</th>\n      <th>Specjalność</th>\n      <th>Wady_wzroku</th>\n      <th>Daltonizm</th>\n      <th>Ilość_snu</th>\n      <th>JP_podst</th>\n      <th>...</th>\n      <th>Rank_txt</th>\n      <th>Rank_plt</th>\n      <th>Rank_tab</th>\n      <th>Data</th>\n      <th>Godzina</th>\n      <th>MAT</th>\n      <th>POL</th>\n      <th>HIST</th>\n      <th>Typ_uczenia</th>\n      <th>corr</th>\n    </tr>\n  </thead>\n  <tbody>\n    <tr>\n      <th>0</th>\n      <td>1</td>\n      <td>M</td>\n      <td>2002</td>\n      <td>Geografia, w ramach studiów międzyobszarowych</td>\n      <td>2</td>\n      <td>SPOŁ-EKO</td>\n      <td>0</td>\n      <td>1</td>\n      <td>6</td>\n      <td>90 - 100%</td>\n      <td>...</td>\n      <td>4</td>\n      <td>1</td>\n      <td>2</td>\n      <td>2023-05-24</td>\n      <td>11:44:20</td>\n      <td>VAL</td>\n      <td>VAL</td>\n      <td>NO_VAL</td>\n      <td>Kinestetyk</td>\n      <td>1</td>\n    </tr>\n    <tr>\n      <th>1</th>\n      <td>2</td>\n      <td>M</td>\n      <td>2003</td>\n      <td>Gospodarka przestrzenna</td>\n      <td>1</td>\n      <td>NO_VAL</td>\n      <td>1</td>\n      <td>1</td>\n      <td>&lt;6</td>\n      <td>50 - 69%</td>\n      <td>...</td>\n      <td>3</td>\n      <td>1</td>\n      <td>4</td>\n      <td>2023-05-24</td>\n      <td>12:21:03</td>\n      <td>VAL</td>\n      <td>VAL</td>\n      <td>NO_VAL</td>\n      <td>Brak dominującego</td>\n      <td>1</td>\n    </tr>\n    <tr>\n      <th>2</th>\n      <td>3</td>\n      <td>M</td>\n      <td>2001</td>\n      <td>Geografia</td>\n      <td>3</td>\n      <td>GEOINF</td>\n      <td>0</td>\n      <td>1</td>\n      <td>8</td>\n      <td>50 - 69%</td>\n      <td>...</td>\n      <td>4</td>\n      <td>3</td>\n      <td>2</td>\n      <td>2023-05-24</td>\n      <td>12:41:09</td>\n      <td>VAL</td>\n      <td>NO_VAL</td>\n      <td>NO_VAL</td>\n      <td>Wzrokowiec</td>\n      <td>1</td>\n    </tr>\n    <tr>\n      <th>3</th>\n      <td>4</td>\n      <td>K</td>\n      <td>2000</td>\n      <td>Geografia</td>\n      <td>3</td>\n      <td>GEOINF</td>\n      <td>0</td>\n      <td>1</td>\n      <td>8</td>\n      <td>50 - 69%</td>\n      <td>...</td>\n      <td>4</td>\n      <td>3</td>\n      <td>1</td>\n      <td>2023-05-24</td>\n      <td>13:15:20</td>\n      <td>NO_VAL</td>\n      <td>VAL</td>\n      <td>NO_VAL</td>\n      <td>Brak dominującego</td>\n      <td>1</td>\n    </tr>\n    <tr>\n      <th>4</th>\n      <td>5</td>\n      <td>K</td>\n      <td>2002</td>\n      <td>Geografia</td>\n      <td>3</td>\n      <td>GEOINF</td>\n      <td>0</td>\n      <td>1</td>\n      <td>7</td>\n      <td>50 - 69%</td>\n      <td>...</td>\n      <td>4</td>\n      <td>1</td>\n      <td>3</td>\n      <td>2023-05-24</td>\n      <td>13:35:17</td>\n      <td>NO_VAL</td>\n      <td>NO_VAL</td>\n      <td>NO_VAL</td>\n      <td>Wzrokowiec</td>\n      <td>1</td>\n    </tr>\n    <tr>\n      <th>...</th>\n      <td>...</td>\n      <td>...</td>\n      <td>...</td>\n      <td>...</td>\n      <td>...</td>\n      <td>...</td>\n      <td>...</td>\n      <td>...</td>\n      <td>...</td>\n      <td>...</td>\n      <td>...</td>\n      <td>...</td>\n      <td>...</td>\n      <td>...</td>\n      <td>...</td>\n      <td>...</td>\n      <td>...</td>\n      <td>...</td>\n      <td>...</td>\n      <td>...</td>\n      <td>...</td>\n    </tr>\n    <tr>\n      <th>118</th>\n      <td>42</td>\n      <td>K</td>\n      <td>2003</td>\n      <td>Geografia</td>\n      <td>1</td>\n      <td>FIZ</td>\n      <td>0</td>\n      <td>1</td>\n      <td>7</td>\n      <td>70 - 89%</td>\n      <td>...</td>\n      <td>4</td>\n      <td>1</td>\n      <td>3</td>\n      <td>2023-06-07</td>\n      <td>11:42:55</td>\n      <td>NO_VAL</td>\n      <td>NO_VAL</td>\n      <td>NO_VAL</td>\n      <td>Wzrokowiec</td>\n      <td>0</td>\n    </tr>\n    <tr>\n      <th>119</th>\n      <td>43</td>\n      <td>M</td>\n      <td>2003</td>\n      <td>Gospodarka przestrzenna</td>\n      <td>1</td>\n      <td>NO_VAL</td>\n      <td>1</td>\n      <td>1</td>\n      <td>8</td>\n      <td>50 - 69%</td>\n      <td>...</td>\n      <td>3</td>\n      <td>1</td>\n      <td>2</td>\n      <td>2023-06-07</td>\n      <td>13:04:51</td>\n      <td>NO_VAL</td>\n      <td>NO_VAL</td>\n      <td>NO_VAL</td>\n      <td>Brak dominującego</td>\n      <td>1</td>\n    </tr>\n    <tr>\n      <th>120</th>\n      <td>44</td>\n      <td>K</td>\n      <td>2003</td>\n      <td>Geografia</td>\n      <td>1</td>\n      <td>FIZ</td>\n      <td>1</td>\n      <td>1</td>\n      <td>&lt;6</td>\n      <td>50 - 69%</td>\n      <td>...</td>\n      <td>1</td>\n      <td>2</td>\n      <td>1</td>\n      <td>2023-06-07</td>\n      <td>14:13:38</td>\n      <td>VAL</td>\n      <td>NO_VAL</td>\n      <td>NO_VAL</td>\n      <td>Brak dominującego</td>\n      <td>0</td>\n    </tr>\n    <tr>\n      <th>121</th>\n      <td>45</td>\n      <td>M</td>\n      <td>2003</td>\n      <td>Geografia</td>\n      <td>1</td>\n      <td>GEOINF</td>\n      <td>1</td>\n      <td>1</td>\n      <td>8&lt;</td>\n      <td>30 - 49%</td>\n      <td>...</td>\n      <td>4</td>\n      <td>3</td>\n      <td>1</td>\n      <td>2023-06-07</td>\n      <td>14:27:37</td>\n      <td>VAL</td>\n      <td>NO_VAL</td>\n      <td>NO_VAL</td>\n      <td>Słuchowiec</td>\n      <td>1</td>\n    </tr>\n    <tr>\n      <th>122</th>\n      <td>46</td>\n      <td>K</td>\n      <td>2002</td>\n      <td>Geografia</td>\n      <td>1</td>\n      <td>FIZ</td>\n      <td>1</td>\n      <td>1</td>\n      <td>7</td>\n      <td>70 - 89%</td>\n      <td>...</td>\n      <td>3</td>\n      <td>3</td>\n      <td>3</td>\n      <td>2023-06-07</td>\n      <td>15:19:52</td>\n      <td>NO_VAL</td>\n      <td>NO_VAL</td>\n      <td>NO_VAL</td>\n      <td>Brak dominującego</td>\n      <td>1</td>\n    </tr>\n  </tbody>\n</table>\n<p>123 rows × 39 columns</p>\n</div>"
     },
     "execution_count": 235,
     "metadata": {},
     "output_type": "execute_result"
    }
   ],
   "source": [
    "# grafiki A\n",
    "df_list = [df_quest] * 3\n",
    "df_a = pd.concat(df_list, ignore_index=True)\n",
    "\n",
    "popr = []\n",
    "for col in df_answers.columns.tolist():\n",
    "    if col.endswith('a_corr'):\n",
    "        popr.append(df_answers[col])\n",
    "col = prepate_col(popr)\n",
    "\n",
    "df_a[\"corr\"] = col\n",
    "df_a"
   ],
   "metadata": {
    "collapsed": false,
    "ExecuteTime": {
     "end_time": "2023-10-18T21:10:48.866225Z",
     "start_time": "2023-10-18T21:10:48.803879Z"
    }
   },
   "id": "4cd1f1cdb54c7b72"
  },
  {
   "cell_type": "code",
   "execution_count": 236,
   "outputs": [
    {
     "data": {
      "text/plain": "     ID Płeć  Rok_urodzenia                               Kierunek_studiów  \\\n0     1    M           2002  Geografia, w ramach studiów międzyobszarowych   \n1     2    M           2003                        Gospodarka przestrzenna   \n2     3    M           2001                                      Geografia   \n3     4    K           2000                                      Geografia   \n4     5    K           2002                                      Geografia   \n..   ..  ...            ...                                            ...   \n118  42    K           2003                                      Geografia   \n119  43    M           2003                        Gospodarka przestrzenna   \n120  44    K           2003                                      Geografia   \n121  45    M           2003                                      Geografia   \n122  46    K           2002                                      Geografia   \n\n     Rok_studiów Specjalność  Wady_wzroku  Daltonizm Ilość_snu   JP_podst  \\\n0              2    SPOŁ-EKO            0          1         6  90 - 100%   \n1              1      NO_VAL            1          1        <6   50 - 69%   \n2              3     GEOINF             0          1         8   50 - 69%   \n3              3     GEOINF             0          1         8   50 - 69%   \n4              3     GEOINF             0          1         7   50 - 69%   \n..           ...         ...          ...        ...       ...        ...   \n118            1        FIZ             0          1         7   70 - 89%   \n119            1      NO_VAL            1          1         8   50 - 69%   \n120            1        FIZ             1          1        <6   50 - 69%   \n121            1     GEOINF             1          1        8<   30 - 49%   \n122            1        FIZ             1          1         7   70 - 89%   \n\n     ... Rank_txt Rank_plt Rank_tab        Data   Godzina     MAT     POL  \\\n0    ...        4        1        2  2023-05-24  11:44:20     VAL     VAL   \n1    ...        3        1        4  2023-05-24  12:21:03     VAL     VAL   \n2    ...        4        3        2  2023-05-24  12:41:09     VAL  NO_VAL   \n3    ...        4        3        1  2023-05-24  13:15:20  NO_VAL     VAL   \n4    ...        4        1        3  2023-05-24  13:35:17  NO_VAL  NO_VAL   \n..   ...      ...      ...      ...         ...       ...     ...     ...   \n118  ...        4        1        3  2023-06-07  11:42:55  NO_VAL  NO_VAL   \n119  ...        3        1        2  2023-06-07  13:04:51  NO_VAL  NO_VAL   \n120  ...        1        2        1  2023-06-07  14:13:38     VAL  NO_VAL   \n121  ...        4        3        1  2023-06-07  14:27:37     VAL  NO_VAL   \n122  ...        3        3        3  2023-06-07  15:19:52  NO_VAL  NO_VAL   \n\n       HIST        Typ_uczenia  corr  \n0    NO_VAL         Kinestetyk     1  \n1    NO_VAL  Brak dominującego     1  \n2    NO_VAL         Wzrokowiec     1  \n3    NO_VAL  Brak dominującego     1  \n4    NO_VAL         Wzrokowiec     1  \n..      ...                ...   ...  \n118  NO_VAL         Wzrokowiec     1  \n119  NO_VAL  Brak dominującego     0  \n120  NO_VAL  Brak dominującego     0  \n121  NO_VAL         Słuchowiec     0  \n122  NO_VAL  Brak dominującego     0  \n\n[123 rows x 39 columns]",
      "text/html": "<div>\n<style scoped>\n    .dataframe tbody tr th:only-of-type {\n        vertical-align: middle;\n    }\n\n    .dataframe tbody tr th {\n        vertical-align: top;\n    }\n\n    .dataframe thead th {\n        text-align: right;\n    }\n</style>\n<table border=\"1\" class=\"dataframe\">\n  <thead>\n    <tr style=\"text-align: right;\">\n      <th></th>\n      <th>ID</th>\n      <th>Płeć</th>\n      <th>Rok_urodzenia</th>\n      <th>Kierunek_studiów</th>\n      <th>Rok_studiów</th>\n      <th>Specjalność</th>\n      <th>Wady_wzroku</th>\n      <th>Daltonizm</th>\n      <th>Ilość_snu</th>\n      <th>JP_podst</th>\n      <th>...</th>\n      <th>Rank_txt</th>\n      <th>Rank_plt</th>\n      <th>Rank_tab</th>\n      <th>Data</th>\n      <th>Godzina</th>\n      <th>MAT</th>\n      <th>POL</th>\n      <th>HIST</th>\n      <th>Typ_uczenia</th>\n      <th>corr</th>\n    </tr>\n  </thead>\n  <tbody>\n    <tr>\n      <th>0</th>\n      <td>1</td>\n      <td>M</td>\n      <td>2002</td>\n      <td>Geografia, w ramach studiów międzyobszarowych</td>\n      <td>2</td>\n      <td>SPOŁ-EKO</td>\n      <td>0</td>\n      <td>1</td>\n      <td>6</td>\n      <td>90 - 100%</td>\n      <td>...</td>\n      <td>4</td>\n      <td>1</td>\n      <td>2</td>\n      <td>2023-05-24</td>\n      <td>11:44:20</td>\n      <td>VAL</td>\n      <td>VAL</td>\n      <td>NO_VAL</td>\n      <td>Kinestetyk</td>\n      <td>1</td>\n    </tr>\n    <tr>\n      <th>1</th>\n      <td>2</td>\n      <td>M</td>\n      <td>2003</td>\n      <td>Gospodarka przestrzenna</td>\n      <td>1</td>\n      <td>NO_VAL</td>\n      <td>1</td>\n      <td>1</td>\n      <td>&lt;6</td>\n      <td>50 - 69%</td>\n      <td>...</td>\n      <td>3</td>\n      <td>1</td>\n      <td>4</td>\n      <td>2023-05-24</td>\n      <td>12:21:03</td>\n      <td>VAL</td>\n      <td>VAL</td>\n      <td>NO_VAL</td>\n      <td>Brak dominującego</td>\n      <td>1</td>\n    </tr>\n    <tr>\n      <th>2</th>\n      <td>3</td>\n      <td>M</td>\n      <td>2001</td>\n      <td>Geografia</td>\n      <td>3</td>\n      <td>GEOINF</td>\n      <td>0</td>\n      <td>1</td>\n      <td>8</td>\n      <td>50 - 69%</td>\n      <td>...</td>\n      <td>4</td>\n      <td>3</td>\n      <td>2</td>\n      <td>2023-05-24</td>\n      <td>12:41:09</td>\n      <td>VAL</td>\n      <td>NO_VAL</td>\n      <td>NO_VAL</td>\n      <td>Wzrokowiec</td>\n      <td>1</td>\n    </tr>\n    <tr>\n      <th>3</th>\n      <td>4</td>\n      <td>K</td>\n      <td>2000</td>\n      <td>Geografia</td>\n      <td>3</td>\n      <td>GEOINF</td>\n      <td>0</td>\n      <td>1</td>\n      <td>8</td>\n      <td>50 - 69%</td>\n      <td>...</td>\n      <td>4</td>\n      <td>3</td>\n      <td>1</td>\n      <td>2023-05-24</td>\n      <td>13:15:20</td>\n      <td>NO_VAL</td>\n      <td>VAL</td>\n      <td>NO_VAL</td>\n      <td>Brak dominującego</td>\n      <td>1</td>\n    </tr>\n    <tr>\n      <th>4</th>\n      <td>5</td>\n      <td>K</td>\n      <td>2002</td>\n      <td>Geografia</td>\n      <td>3</td>\n      <td>GEOINF</td>\n      <td>0</td>\n      <td>1</td>\n      <td>7</td>\n      <td>50 - 69%</td>\n      <td>...</td>\n      <td>4</td>\n      <td>1</td>\n      <td>3</td>\n      <td>2023-05-24</td>\n      <td>13:35:17</td>\n      <td>NO_VAL</td>\n      <td>NO_VAL</td>\n      <td>NO_VAL</td>\n      <td>Wzrokowiec</td>\n      <td>1</td>\n    </tr>\n    <tr>\n      <th>...</th>\n      <td>...</td>\n      <td>...</td>\n      <td>...</td>\n      <td>...</td>\n      <td>...</td>\n      <td>...</td>\n      <td>...</td>\n      <td>...</td>\n      <td>...</td>\n      <td>...</td>\n      <td>...</td>\n      <td>...</td>\n      <td>...</td>\n      <td>...</td>\n      <td>...</td>\n      <td>...</td>\n      <td>...</td>\n      <td>...</td>\n      <td>...</td>\n      <td>...</td>\n      <td>...</td>\n    </tr>\n    <tr>\n      <th>118</th>\n      <td>42</td>\n      <td>K</td>\n      <td>2003</td>\n      <td>Geografia</td>\n      <td>1</td>\n      <td>FIZ</td>\n      <td>0</td>\n      <td>1</td>\n      <td>7</td>\n      <td>70 - 89%</td>\n      <td>...</td>\n      <td>4</td>\n      <td>1</td>\n      <td>3</td>\n      <td>2023-06-07</td>\n      <td>11:42:55</td>\n      <td>NO_VAL</td>\n      <td>NO_VAL</td>\n      <td>NO_VAL</td>\n      <td>Wzrokowiec</td>\n      <td>1</td>\n    </tr>\n    <tr>\n      <th>119</th>\n      <td>43</td>\n      <td>M</td>\n      <td>2003</td>\n      <td>Gospodarka przestrzenna</td>\n      <td>1</td>\n      <td>NO_VAL</td>\n      <td>1</td>\n      <td>1</td>\n      <td>8</td>\n      <td>50 - 69%</td>\n      <td>...</td>\n      <td>3</td>\n      <td>1</td>\n      <td>2</td>\n      <td>2023-06-07</td>\n      <td>13:04:51</td>\n      <td>NO_VAL</td>\n      <td>NO_VAL</td>\n      <td>NO_VAL</td>\n      <td>Brak dominującego</td>\n      <td>0</td>\n    </tr>\n    <tr>\n      <th>120</th>\n      <td>44</td>\n      <td>K</td>\n      <td>2003</td>\n      <td>Geografia</td>\n      <td>1</td>\n      <td>FIZ</td>\n      <td>1</td>\n      <td>1</td>\n      <td>&lt;6</td>\n      <td>50 - 69%</td>\n      <td>...</td>\n      <td>1</td>\n      <td>2</td>\n      <td>1</td>\n      <td>2023-06-07</td>\n      <td>14:13:38</td>\n      <td>VAL</td>\n      <td>NO_VAL</td>\n      <td>NO_VAL</td>\n      <td>Brak dominującego</td>\n      <td>0</td>\n    </tr>\n    <tr>\n      <th>121</th>\n      <td>45</td>\n      <td>M</td>\n      <td>2003</td>\n      <td>Geografia</td>\n      <td>1</td>\n      <td>GEOINF</td>\n      <td>1</td>\n      <td>1</td>\n      <td>8&lt;</td>\n      <td>30 - 49%</td>\n      <td>...</td>\n      <td>4</td>\n      <td>3</td>\n      <td>1</td>\n      <td>2023-06-07</td>\n      <td>14:27:37</td>\n      <td>VAL</td>\n      <td>NO_VAL</td>\n      <td>NO_VAL</td>\n      <td>Słuchowiec</td>\n      <td>0</td>\n    </tr>\n    <tr>\n      <th>122</th>\n      <td>46</td>\n      <td>K</td>\n      <td>2002</td>\n      <td>Geografia</td>\n      <td>1</td>\n      <td>FIZ</td>\n      <td>1</td>\n      <td>1</td>\n      <td>7</td>\n      <td>70 - 89%</td>\n      <td>...</td>\n      <td>3</td>\n      <td>3</td>\n      <td>3</td>\n      <td>2023-06-07</td>\n      <td>15:19:52</td>\n      <td>NO_VAL</td>\n      <td>NO_VAL</td>\n      <td>NO_VAL</td>\n      <td>Brak dominującego</td>\n      <td>0</td>\n    </tr>\n  </tbody>\n</table>\n<p>123 rows × 39 columns</p>\n</div>"
     },
     "execution_count": 236,
     "metadata": {},
     "output_type": "execute_result"
    }
   ],
   "source": [
    "# grafiki B\n",
    "df_list = [df_quest] * 3\n",
    "df_b = pd.concat(df_list, ignore_index=True)\n",
    "\n",
    "popr = []\n",
    "for col in df_answers.columns.tolist():\n",
    "    if col.endswith('b_corr'):\n",
    "        popr.append(df_answers[col])\n",
    "col = prepate_col(popr)\n",
    "\n",
    "df_b[\"corr\"] = col\n",
    "df_b"
   ],
   "metadata": {
    "collapsed": false,
    "ExecuteTime": {
     "end_time": "2023-10-18T21:10:49.310739Z",
     "start_time": "2023-10-18T21:10:49.300561Z"
    }
   },
   "id": "1ecaee74889a5142"
  },
  {
   "cell_type": "code",
   "execution_count": 237,
   "outputs": [
    {
     "data": {
      "text/plain": "    ID Płeć  Rok_urodzenia                               Kierunek_studiów  \\\n0    1    M           2002  Geografia, w ramach studiów międzyobszarowych   \n1    2    M           2003                        Gospodarka przestrzenna   \n2    3    M           2001                                      Geografia   \n3    4    K           2000                                      Geografia   \n4    5    K           2002                                      Geografia   \n..  ..  ...            ...                                            ...   \n77  42    K           2003                                      Geografia   \n78  43    M           2003                        Gospodarka przestrzenna   \n79  44    K           2003                                      Geografia   \n80  45    M           2003                                      Geografia   \n81  46    K           2002                                      Geografia   \n\n    Rok_studiów Specjalność  Wady_wzroku  Daltonizm Ilość_snu   JP_podst  ...  \\\n0             2    SPOŁ-EKO            0          1         6  90 - 100%  ...   \n1             1      NO_VAL            1          1        <6   50 - 69%  ...   \n2             3     GEOINF             0          1         8   50 - 69%  ...   \n3             3     GEOINF             0          1         8   50 - 69%  ...   \n4             3     GEOINF             0          1         7   50 - 69%  ...   \n..          ...         ...          ...        ...       ...        ...  ...   \n77            1        FIZ             0          1         7   70 - 89%  ...   \n78            1      NO_VAL            1          1         8   50 - 69%  ...   \n79            1        FIZ             1          1        <6   50 - 69%  ...   \n80            1     GEOINF             1          1        8<   30 - 49%  ...   \n81            1        FIZ             1          1         7   70 - 89%  ...   \n\n   Rank_txt Rank_plt Rank_tab        Data   Godzina     MAT     POL    HIST  \\\n0         4        1        2  2023-05-24  11:44:20     VAL     VAL  NO_VAL   \n1         3        1        4  2023-05-24  12:21:03     VAL     VAL  NO_VAL   \n2         4        3        2  2023-05-24  12:41:09     VAL  NO_VAL  NO_VAL   \n3         4        3        1  2023-05-24  13:15:20  NO_VAL     VAL  NO_VAL   \n4         4        1        3  2023-05-24  13:35:17  NO_VAL  NO_VAL  NO_VAL   \n..      ...      ...      ...         ...       ...     ...     ...     ...   \n77        4        1        3  2023-06-07  11:42:55  NO_VAL  NO_VAL  NO_VAL   \n78        3        1        2  2023-06-07  13:04:51  NO_VAL  NO_VAL  NO_VAL   \n79        1        2        1  2023-06-07  14:13:38     VAL  NO_VAL  NO_VAL   \n80        4        3        1  2023-06-07  14:27:37     VAL  NO_VAL  NO_VAL   \n81        3        3        3  2023-06-07  15:19:52  NO_VAL  NO_VAL  NO_VAL   \n\n          Typ_uczenia  corr  \n0          Kinestetyk     1  \n1   Brak dominującego     1  \n2          Wzrokowiec     1  \n3   Brak dominującego     1  \n4          Wzrokowiec     1  \n..                ...   ...  \n77         Wzrokowiec     1  \n78  Brak dominującego     1  \n79  Brak dominującego     1  \n80         Słuchowiec     1  \n81  Brak dominującego     1  \n\n[82 rows x 39 columns]",
      "text/html": "<div>\n<style scoped>\n    .dataframe tbody tr th:only-of-type {\n        vertical-align: middle;\n    }\n\n    .dataframe tbody tr th {\n        vertical-align: top;\n    }\n\n    .dataframe thead th {\n        text-align: right;\n    }\n</style>\n<table border=\"1\" class=\"dataframe\">\n  <thead>\n    <tr style=\"text-align: right;\">\n      <th></th>\n      <th>ID</th>\n      <th>Płeć</th>\n      <th>Rok_urodzenia</th>\n      <th>Kierunek_studiów</th>\n      <th>Rok_studiów</th>\n      <th>Specjalność</th>\n      <th>Wady_wzroku</th>\n      <th>Daltonizm</th>\n      <th>Ilość_snu</th>\n      <th>JP_podst</th>\n      <th>...</th>\n      <th>Rank_txt</th>\n      <th>Rank_plt</th>\n      <th>Rank_tab</th>\n      <th>Data</th>\n      <th>Godzina</th>\n      <th>MAT</th>\n      <th>POL</th>\n      <th>HIST</th>\n      <th>Typ_uczenia</th>\n      <th>corr</th>\n    </tr>\n  </thead>\n  <tbody>\n    <tr>\n      <th>0</th>\n      <td>1</td>\n      <td>M</td>\n      <td>2002</td>\n      <td>Geografia, w ramach studiów międzyobszarowych</td>\n      <td>2</td>\n      <td>SPOŁ-EKO</td>\n      <td>0</td>\n      <td>1</td>\n      <td>6</td>\n      <td>90 - 100%</td>\n      <td>...</td>\n      <td>4</td>\n      <td>1</td>\n      <td>2</td>\n      <td>2023-05-24</td>\n      <td>11:44:20</td>\n      <td>VAL</td>\n      <td>VAL</td>\n      <td>NO_VAL</td>\n      <td>Kinestetyk</td>\n      <td>1</td>\n    </tr>\n    <tr>\n      <th>1</th>\n      <td>2</td>\n      <td>M</td>\n      <td>2003</td>\n      <td>Gospodarka przestrzenna</td>\n      <td>1</td>\n      <td>NO_VAL</td>\n      <td>1</td>\n      <td>1</td>\n      <td>&lt;6</td>\n      <td>50 - 69%</td>\n      <td>...</td>\n      <td>3</td>\n      <td>1</td>\n      <td>4</td>\n      <td>2023-05-24</td>\n      <td>12:21:03</td>\n      <td>VAL</td>\n      <td>VAL</td>\n      <td>NO_VAL</td>\n      <td>Brak dominującego</td>\n      <td>1</td>\n    </tr>\n    <tr>\n      <th>2</th>\n      <td>3</td>\n      <td>M</td>\n      <td>2001</td>\n      <td>Geografia</td>\n      <td>3</td>\n      <td>GEOINF</td>\n      <td>0</td>\n      <td>1</td>\n      <td>8</td>\n      <td>50 - 69%</td>\n      <td>...</td>\n      <td>4</td>\n      <td>3</td>\n      <td>2</td>\n      <td>2023-05-24</td>\n      <td>12:41:09</td>\n      <td>VAL</td>\n      <td>NO_VAL</td>\n      <td>NO_VAL</td>\n      <td>Wzrokowiec</td>\n      <td>1</td>\n    </tr>\n    <tr>\n      <th>3</th>\n      <td>4</td>\n      <td>K</td>\n      <td>2000</td>\n      <td>Geografia</td>\n      <td>3</td>\n      <td>GEOINF</td>\n      <td>0</td>\n      <td>1</td>\n      <td>8</td>\n      <td>50 - 69%</td>\n      <td>...</td>\n      <td>4</td>\n      <td>3</td>\n      <td>1</td>\n      <td>2023-05-24</td>\n      <td>13:15:20</td>\n      <td>NO_VAL</td>\n      <td>VAL</td>\n      <td>NO_VAL</td>\n      <td>Brak dominującego</td>\n      <td>1</td>\n    </tr>\n    <tr>\n      <th>4</th>\n      <td>5</td>\n      <td>K</td>\n      <td>2002</td>\n      <td>Geografia</td>\n      <td>3</td>\n      <td>GEOINF</td>\n      <td>0</td>\n      <td>1</td>\n      <td>7</td>\n      <td>50 - 69%</td>\n      <td>...</td>\n      <td>4</td>\n      <td>1</td>\n      <td>3</td>\n      <td>2023-05-24</td>\n      <td>13:35:17</td>\n      <td>NO_VAL</td>\n      <td>NO_VAL</td>\n      <td>NO_VAL</td>\n      <td>Wzrokowiec</td>\n      <td>1</td>\n    </tr>\n    <tr>\n      <th>...</th>\n      <td>...</td>\n      <td>...</td>\n      <td>...</td>\n      <td>...</td>\n      <td>...</td>\n      <td>...</td>\n      <td>...</td>\n      <td>...</td>\n      <td>...</td>\n      <td>...</td>\n      <td>...</td>\n      <td>...</td>\n      <td>...</td>\n      <td>...</td>\n      <td>...</td>\n      <td>...</td>\n      <td>...</td>\n      <td>...</td>\n      <td>...</td>\n      <td>...</td>\n      <td>...</td>\n    </tr>\n    <tr>\n      <th>77</th>\n      <td>42</td>\n      <td>K</td>\n      <td>2003</td>\n      <td>Geografia</td>\n      <td>1</td>\n      <td>FIZ</td>\n      <td>0</td>\n      <td>1</td>\n      <td>7</td>\n      <td>70 - 89%</td>\n      <td>...</td>\n      <td>4</td>\n      <td>1</td>\n      <td>3</td>\n      <td>2023-06-07</td>\n      <td>11:42:55</td>\n      <td>NO_VAL</td>\n      <td>NO_VAL</td>\n      <td>NO_VAL</td>\n      <td>Wzrokowiec</td>\n      <td>1</td>\n    </tr>\n    <tr>\n      <th>78</th>\n      <td>43</td>\n      <td>M</td>\n      <td>2003</td>\n      <td>Gospodarka przestrzenna</td>\n      <td>1</td>\n      <td>NO_VAL</td>\n      <td>1</td>\n      <td>1</td>\n      <td>8</td>\n      <td>50 - 69%</td>\n      <td>...</td>\n      <td>3</td>\n      <td>1</td>\n      <td>2</td>\n      <td>2023-06-07</td>\n      <td>13:04:51</td>\n      <td>NO_VAL</td>\n      <td>NO_VAL</td>\n      <td>NO_VAL</td>\n      <td>Brak dominującego</td>\n      <td>1</td>\n    </tr>\n    <tr>\n      <th>79</th>\n      <td>44</td>\n      <td>K</td>\n      <td>2003</td>\n      <td>Geografia</td>\n      <td>1</td>\n      <td>FIZ</td>\n      <td>1</td>\n      <td>1</td>\n      <td>&lt;6</td>\n      <td>50 - 69%</td>\n      <td>...</td>\n      <td>1</td>\n      <td>2</td>\n      <td>1</td>\n      <td>2023-06-07</td>\n      <td>14:13:38</td>\n      <td>VAL</td>\n      <td>NO_VAL</td>\n      <td>NO_VAL</td>\n      <td>Brak dominującego</td>\n      <td>1</td>\n    </tr>\n    <tr>\n      <th>80</th>\n      <td>45</td>\n      <td>M</td>\n      <td>2003</td>\n      <td>Geografia</td>\n      <td>1</td>\n      <td>GEOINF</td>\n      <td>1</td>\n      <td>1</td>\n      <td>8&lt;</td>\n      <td>30 - 49%</td>\n      <td>...</td>\n      <td>4</td>\n      <td>3</td>\n      <td>1</td>\n      <td>2023-06-07</td>\n      <td>14:27:37</td>\n      <td>VAL</td>\n      <td>NO_VAL</td>\n      <td>NO_VAL</td>\n      <td>Słuchowiec</td>\n      <td>1</td>\n    </tr>\n    <tr>\n      <th>81</th>\n      <td>46</td>\n      <td>K</td>\n      <td>2002</td>\n      <td>Geografia</td>\n      <td>1</td>\n      <td>FIZ</td>\n      <td>1</td>\n      <td>1</td>\n      <td>7</td>\n      <td>70 - 89%</td>\n      <td>...</td>\n      <td>3</td>\n      <td>3</td>\n      <td>3</td>\n      <td>2023-06-07</td>\n      <td>15:19:52</td>\n      <td>NO_VAL</td>\n      <td>NO_VAL</td>\n      <td>NO_VAL</td>\n      <td>Brak dominującego</td>\n      <td>1</td>\n    </tr>\n  </tbody>\n</table>\n<p>82 rows × 39 columns</p>\n</div>"
     },
     "execution_count": 237,
     "metadata": {},
     "output_type": "execute_result"
    }
   ],
   "source": [
    "# grafiki 1,2,3\n",
    "df_list = [df_quest] * 2\n",
    "df_1 = pd.concat(df_list, ignore_index=True)\n",
    "\n",
    "popr1 = []\n",
    "for col in df_answers.columns.tolist():\n",
    "    if col.startswith('1') and col.endswith('_corr'):\n",
    "        popr1.append(df_answers[col])\n",
    "col = prepate_col(popr1)\n",
    "\n",
    "df_1[\"corr\"] = col\n",
    "\n",
    "df_list = [df_quest] * 2\n",
    "df_2 = pd.concat(df_list, ignore_index=True)\n",
    "\n",
    "popr2 = []\n",
    "for col in df_answers.columns.tolist():\n",
    "    if col.startswith('2') and col.endswith('_corr'):\n",
    "        popr2.append(df_answers[col])\n",
    "col = prepate_col(popr2)\n",
    "\n",
    "df_2[\"corr\"] = col\n",
    "\n",
    "df_list = [df_quest] * 2\n",
    "df_3 = pd.concat(df_list, ignore_index=True)\n",
    "\n",
    "popr3 = []\n",
    "for col in df_answers.columns.tolist():\n",
    "    if col.startswith('3') and col.endswith('_corr'):\n",
    "        popr3.append(df_answers[col])\n",
    "col = prepate_col(popr3)\n",
    "\n",
    "df_3[\"corr\"] = col\n",
    "df_1"
   ],
   "metadata": {
    "collapsed": false,
    "ExecuteTime": {
     "end_time": "2023-10-18T21:10:49.866282Z",
     "start_time": "2023-10-18T21:10:49.836090Z"
    }
   },
   "id": "3cd5269e20ccf5"
  },
  {
   "cell_type": "markdown",
   "source": [
    "**H0:** Nie ma istotnej statystycznie zależności między poprawnością odpowiedzi a wartością cechy X.\n",
    "**H1:** Istnieje istotna statystycznie zależność między poprawnością odpowiedzi a wartością cechy X.\n",
    "**Poziom istotności:** $\\alpha=0.05$"
   ],
   "metadata": {
    "collapsed": false
   },
   "id": "910d174c485d645f"
  },
  {
   "cell_type": "code",
   "execution_count": 238,
   "outputs": [],
   "source": [
    "ALPHA = 0.05"
   ],
   "metadata": {
    "collapsed": false,
    "ExecuteTime": {
     "end_time": "2023-10-18T21:10:51.022880Z",
     "start_time": "2023-10-18T21:10:51.003188Z"
    }
   },
   "id": "c6e3830c5d0790d4"
  },
  {
   "cell_type": "code",
   "execution_count": 240,
   "outputs": [
    {
     "data": {
      "text/plain": "Index(['ID', 'Płeć', 'Rok_urodzenia', 'Kierunek_studiów', 'Rok_studiów',\n       'Specjalność', 'Wady_wzroku', 'Daltonizm', 'Ilość_snu', 'JP_podst',\n       'MAT_podst', 'JP_roz', 'MAT_roz', 'FIZ_roz', 'HIST_roz', 'Samopocz',\n       'Stres', 'Zmęcz', 'Czyt_map', 'Podziel_uwg', 'Analit_myśl', 'Spostrzeg',\n       'Czyt_ze_zroz', 'Wzrokowiec', 'Słuchowiec', 'Kinestetyk',\n       'Quest1_after', 'Quest2_after', 'Rank_map', 'Rank_txt', 'Rank_plt',\n       'Rank_tab', 'Data', 'Godzina', 'MAT', 'POL', 'HIST', 'Typ_uczenia'],\n      dtype='object')"
     },
     "execution_count": 240,
     "metadata": {},
     "output_type": "execute_result"
    }
   ],
   "source": [
    "df_quest.columns"
   ],
   "metadata": {
    "collapsed": false,
    "ExecuteTime": {
     "end_time": "2023-10-18T21:11:00.596363Z",
     "start_time": "2023-10-18T21:11:00.566926Z"
    }
   },
   "id": "464df3b4cdc1569c"
  },
  {
   "cell_type": "code",
   "execution_count": 241,
   "outputs": [],
   "source": [
    "dfs = [df_wynik, df_all, df_a, df_b, df_1, df_2, df_3]\n",
    "names = {\n",
    "    1: 'Zsumowany wynik:',\n",
    "    2: 'Wszystkie grafiki:',\n",
    "    3: 'Grafiki A:',\n",
    "    4: 'Grafiki B:',\n",
    "    5: 'Grafiki 1:',\n",
    "    6: 'Grafiki 2:',\n",
    "    7: 'Grafiki 3:',\n",
    "}"
   ],
   "metadata": {
    "collapsed": false,
    "ExecuteTime": {
     "end_time": "2023-10-18T21:11:01.144917Z",
     "start_time": "2023-10-18T21:11:01.119580Z"
    }
   },
   "id": "ac35f464e8f372b8"
  },
  {
   "cell_type": "markdown",
   "source": [
    "Testowane cechy:"
   ],
   "metadata": {
    "collapsed": false
   },
   "id": "114bd1b4e16de6bb"
  },
  {
   "cell_type": "code",
   "execution_count": 163,
   "outputs": [
    {
     "name": "stdout",
     "output_type": "stream",
     "text": [
      "-----------------------------------------------\n",
      "Zsumowany wynik:\n",
      "Płeć  K   M\n",
      "corr       \n",
      "0     1   0\n",
      "2     2   1\n",
      "3     6   2\n",
      "4     5   3\n",
      "5     4  10\n",
      "6     5   2\n",
      "Wartość statystyki chi-kwadrat: 7.1876150218541515\n",
      "P-value: 0.20705689729289914\n",
      "Brak podstaw do odrzucenia H0.\n",
      "-----------------------------------------------\n",
      "Wszystkie grafiki:\n",
      "Płeć   K   M\n",
      "corr        \n",
      "0     46  26\n",
      "1     92  82\n",
      "Wartość statystyki chi-kwadrat: 2.081714061950506\n",
      "P-value: 0.149072696245845\n",
      "Brak podstaw do odrzucenia H0.\n",
      "-----------------------------------------------\n",
      "Grafiki A:\n",
      "Płeć   K   M\n",
      "corr        \n",
      "0     24  12\n",
      "1     45  42\n",
      "Wartość statystyki chi-kwadrat: 1.741652900401651\n",
      "P-value: 0.1869295295546119\n",
      "Brak podstaw do odrzucenia H0.\n",
      "-----------------------------------------------\n",
      "Grafiki B:\n",
      "Płeć   K   M\n",
      "corr        \n",
      "0     22  14\n",
      "1     47  40\n",
      "Wartość statystyki chi-kwadrat: 0.27151297036666844\n",
      "P-value: 0.6023186601021169\n",
      "Brak podstaw do odrzucenia H0.\n",
      "-----------------------------------------------\n",
      "Grafiki 1:\n",
      "Płeć   K   M\n",
      "corr        \n",
      "0      7   1\n",
      "1     39  35\n",
      "Wartość statystyki chi-kwadrat: 2.2771922737955346\n",
      "P-value: 0.13128936097056562\n",
      "Brak podstaw do odrzucenia H0.\n",
      "-----------------------------------------------\n",
      "Grafiki 2:\n",
      "Płeć   K   M\n",
      "corr        \n",
      "0     12  11\n",
      "1     34  25\n",
      "Wartość statystyki chi-kwadrat: 0.03973759251545936\n",
      "P-value: 0.8419945217215196\n",
      "Brak podstaw do odrzucenia H0.\n",
      "-----------------------------------------------\n",
      "Grafiki 3:\n",
      "Płeć   K   M\n",
      "corr        \n",
      "0     27  14\n",
      "1     19  22\n",
      "Wartość statystyki chi-kwadrat: 2.4263285024154593\n",
      "P-value: 0.11931205335783962\n",
      "Brak podstaw do odrzucenia H0.\n"
     ]
    }
   ],
   "source": [
    "# płeć\n",
    "test_parametr(dfs, names, 'corr', 'Płeć')"
   ],
   "metadata": {
    "collapsed": false,
    "ExecuteTime": {
     "end_time": "2023-10-18T19:48:11.844530Z",
     "start_time": "2023-10-18T19:48:11.813333Z"
    }
   },
   "id": "23f82e405ad59835"
  },
  {
   "cell_type": "code",
   "execution_count": 164,
   "outputs": [
    {
     "name": "stdout",
     "output_type": "stream",
     "text": [
      "-----------------------------------------------\n",
      "Zsumowany wynik:\n",
      "Rok_urodzenia  2000  2001  2002  2003  2004\n",
      "corr                                       \n",
      "0                 0     1     0     0     0\n",
      "2                 0     0     1     2     0\n",
      "3                 0     3     1     4     0\n",
      "4                 0     1     5     2     0\n",
      "5                 1     0     3     9     1\n",
      "6                 0     3     1     1     2\n",
      "Wartość statystyki chi-kwadrat: 27.3549031986532\n",
      "P-value: 0.12557108742908202\n",
      "Brak podstaw do odrzucenia H0.\n",
      "-----------------------------------------------\n",
      "Wszystkie grafiki:\n",
      "Rok_urodzenia  2000  2001  2002  2003  2004\n",
      "corr                                       \n",
      "0                 1    17    20    33     1\n",
      "1                 5    31    46    75    17\n",
      "Wartość statystyki chi-kwadrat: 6.346375029025891\n",
      "P-value: 0.17473104399734973\n",
      "Brak podstaw do odrzucenia H0.\n",
      "-----------------------------------------------\n",
      "Grafiki A:\n",
      "Rok_urodzenia  2000  2001  2002  2003  2004\n",
      "corr                                       \n",
      "0                 0     8     9    19     0\n",
      "1                 3    16    24    35     9\n",
      "Wartość statystyki chi-kwadrat: 6.133775494407678\n",
      "P-value: 0.1893781022103508\n",
      "Brak podstaw do odrzucenia H0.\n",
      "-----------------------------------------------\n",
      "Grafiki B:\n",
      "Rok_urodzenia  2000  2001  2002  2003  2004\n",
      "corr                                       \n",
      "0                 1     9    11    14     1\n",
      "1                 2    15    22    40     8\n",
      "Wartość statystyki chi-kwadrat: 2.7975867390378886\n",
      "P-value: 0.5922493572019385\n",
      "Brak podstaw do odrzucenia H0.\n",
      "-----------------------------------------------\n",
      "Grafiki 1:\n",
      "Rok_urodzenia  2000  2001  2002  2003  2004\n",
      "corr                                       \n",
      "0                 0     5     1     2     0\n",
      "1                 2    11    21    34     6\n",
      "Wartość statystyki chi-kwadrat: 10.660468707343705\n",
      "P-value: 0.030656913001070787\n",
      "Istnieją podstawy do odrzucenia H0, przyjmujemy hipotezę H1:\n",
      "-----------------------------------------------\n",
      "Grafiki 2:\n",
      "Rok_urodzenia  2000  2001  2002  2003  2004\n",
      "corr                                       \n",
      "0                 0     4     8    11     0\n",
      "1                 2    12    14    25     6\n",
      "Wartość statystyki chi-kwadrat: 4.058097556255257\n",
      "P-value: 0.398200296598011\n",
      "Brak podstaw do odrzucenia H0.\n",
      "-----------------------------------------------\n",
      "Grafiki 3:\n",
      "Rok_urodzenia  2000  2001  2002  2003  2004\n",
      "corr                                       \n",
      "0                 1     8    11    20     1\n",
      "1                 1     8    11    16     5\n",
      "Wartość statystyki chi-kwadrat: 3.1111111111111107\n",
      "P-value: 0.5394064465772306\n",
      "Brak podstaw do odrzucenia H0.\n"
     ]
    }
   ],
   "source": [
    "# rok urodzenia\n",
    "test_parametr(dfs, names, 'corr', 'Rok_urodzenia')"
   ],
   "metadata": {
    "collapsed": false,
    "ExecuteTime": {
     "end_time": "2023-10-18T19:48:12.412085Z",
     "start_time": "2023-10-18T19:48:12.408106Z"
    }
   },
   "id": "79ef12e25331a355"
  },
  {
   "cell_type": "code",
   "execution_count": 165,
   "outputs": [
    {
     "name": "stdout",
     "output_type": "stream",
     "text": [
      "Multiple Comparison of Means - Tukey HSD, FWER=0.05\n",
      "===================================================\n",
      "group1 group2 meandiff p-adj   lower  upper  reject\n",
      "---------------------------------------------------\n",
      "  2000   2001  -0.3125  0.592 -0.9109 0.2859  False\n",
      "  2000   2002  -0.0455 0.9995 -0.6347 0.5438  False\n",
      "  2000   2003  -0.0556 0.9988 -0.6352 0.5241  False\n",
      "  2000   2004      0.0    1.0 -0.6514 0.6514  False\n",
      "  2001   2002    0.267 0.0437  0.0049 0.5292   True\n",
      "  2001   2003   0.2569 0.0295  0.0172 0.4967   True\n",
      "  2001   2004   0.3125 0.1607 -0.0694 0.6944  False\n",
      "  2002   2003  -0.0101 0.9999  -0.226 0.2058  False\n",
      "  2002   2004   0.0455 0.9969  -0.322 0.4129  False\n",
      "  2003   2004   0.0556  0.992 -0.2963 0.4074  False\n",
      "---------------------------------------------------\n"
     ]
    }
   ],
   "source": [
    "test_posthoc(df_1, 'corr', 'Rok_urodzenia')"
   ],
   "metadata": {
    "collapsed": false,
    "ExecuteTime": {
     "end_time": "2023-10-18T19:48:13.767169Z",
     "start_time": "2023-10-18T19:48:13.178866Z"
    }
   },
   "id": "cf3ed7a0b4a3080e"
  },
  {
   "cell_type": "code",
   "execution_count": 166,
   "outputs": [
    {
     "name": "stdout",
     "output_type": "stream",
     "text": [
      "-----------------------------------------------\n",
      "Zsumowany wynik:\n",
      "Kierunek_studiów  Geografia  Geografia, w ramach studiów międzyobszarowych  \\\n",
      "corr                                                                         \n",
      "0                         1                                              0   \n",
      "2                         2                                              0   \n",
      "3                         7                                              0   \n",
      "4                         7                                              1   \n",
      "5                        10                                              1   \n",
      "6                         6                                              1   \n",
      "\n",
      "Kierunek_studiów  Gospodarka przestrzenna  \n",
      "corr                                       \n",
      "0                                       0  \n",
      "2                                       1  \n",
      "3                                       1  \n",
      "4                                       0  \n",
      "5                                       3  \n",
      "6                                       0  \n",
      "Wartość statystyki chi-kwadrat: 6.049422799422799\n",
      "P-value: 0.8110939941970634\n",
      "Brak podstaw do odrzucenia H0.\n",
      "-----------------------------------------------\n",
      "Wszystkie grafiki:\n",
      "Kierunek_studiów  Geografia  Geografia, w ramach studiów międzyobszarowych  \\\n",
      "corr                                                                         \n",
      "0                        59                                              3   \n",
      "1                       139                                             15   \n",
      "\n",
      "Kierunek_studiów  Gospodarka przestrzenna  \n",
      "corr                                       \n",
      "0                                      10  \n",
      "1                                      20  \n",
      "Wartość statystyki chi-kwadrat: 1.6470451642865431\n",
      "P-value: 0.438882927185566\n",
      "Brak podstaw do odrzucenia H0.\n",
      "-----------------------------------------------\n",
      "Grafiki A:\n",
      "Kierunek_studiów  Geografia  Geografia, w ramach studiów międzyobszarowych  \\\n",
      "corr                                                                         \n",
      "0                        30                                              1   \n",
      "1                        69                                              8   \n",
      "\n",
      "Kierunek_studiów  Gospodarka przestrzenna  \n",
      "corr                                       \n",
      "0                                       5  \n",
      "1                                      10  \n",
      "Wartość statystyki chi-kwadrat: 1.6042029490305347\n",
      "P-value: 0.448385702217715\n",
      "Brak podstaw do odrzucenia H0.\n",
      "-----------------------------------------------\n",
      "Grafiki B:\n",
      "Kierunek_studiów  Geografia  Geografia, w ramach studiów międzyobszarowych  \\\n",
      "corr                                                                         \n",
      "0                        29                                              2   \n",
      "1                        70                                              7   \n",
      "\n",
      "Kierunek_studiów  Gospodarka przestrzenna  \n",
      "corr                                       \n",
      "0                                       5  \n",
      "1                                      10  \n",
      "Wartość statystyki chi-kwadrat: 0.33559735283873204\n",
      "P-value: 0.8455240414783058\n",
      "Brak podstaw do odrzucenia H0.\n",
      "-----------------------------------------------\n",
      "Grafiki 1:\n",
      "Kierunek_studiów  Geografia  Geografia, w ramach studiów międzyobszarowych  \\\n",
      "corr                                                                         \n",
      "0                         8                                              0   \n",
      "1                        58                                              6   \n",
      "\n",
      "Kierunek_studiów  Gospodarka przestrzenna  \n",
      "corr                                       \n",
      "0                                       0  \n",
      "1                                      10  \n",
      "Wartość statystyki chi-kwadrat: 2.1490581490581486\n",
      "P-value: 0.341458518958014\n",
      "Brak podstaw do odrzucenia H0.\n",
      "-----------------------------------------------\n",
      "Grafiki 2:\n",
      "Kierunek_studiów  Geografia  Geografia, w ramach studiów międzyobszarowych  \\\n",
      "corr                                                                         \n",
      "0                        16                                              3   \n",
      "1                        50                                              3   \n",
      "\n",
      "Kierunek_studiów  Gospodarka przestrzenna  \n",
      "corr                                       \n",
      "0                                       4  \n",
      "1                                       6  \n",
      "Wartość statystyki chi-kwadrat: 2.614126526875238\n",
      "P-value: 0.2706136114703233\n",
      "Brak podstaw do odrzucenia H0.\n",
      "-----------------------------------------------\n",
      "Grafiki 3:\n",
      "Kierunek_studiów  Geografia  Geografia, w ramach studiów międzyobszarowych  \\\n",
      "corr                                                                         \n",
      "0                        35                                              0   \n",
      "1                        31                                              6   \n",
      "\n",
      "Kierunek_studiów  Gospodarka przestrzenna  \n",
      "corr                                       \n",
      "0                                       6  \n",
      "1                                       4  \n",
      "Wartość statystyki chi-kwadrat: 6.642424242424243\n",
      "P-value: 0.0361090366876257\n",
      "Istnieją podstawy do odrzucenia H0, przyjmujemy hipotezę H1:\n"
     ]
    }
   ],
   "source": [
    "# kierunek studiów\n",
    "test_parametr(dfs, names, 'corr', 'Kierunek_studiów')"
   ],
   "metadata": {
    "collapsed": false,
    "ExecuteTime": {
     "end_time": "2023-10-18T19:48:13.927868Z",
     "start_time": "2023-10-18T19:48:13.877072Z"
    }
   },
   "id": "e71b9848e511fdeb"
  },
  {
   "cell_type": "code",
   "execution_count": 167,
   "outputs": [
    {
     "name": "stdout",
     "output_type": "stream",
     "text": [
      "                                       Multiple Comparison of Means - Tukey HSD, FWER=0.05                                       \n",
      "=================================================================================================================================\n",
      "                    group1                                        group2                    meandiff p-adj   lower  upper  reject\n",
      "---------------------------------------------------------------------------------------------------------------------------------\n",
      "                                    Geografia Geografia, w ramach studiów międzyobszarowych   0.5303 0.0339  0.0329 1.0277   True\n",
      "                                    Geografia                       Gospodarka przestrzenna  -0.0697 0.9072 -0.4655 0.3261  False\n",
      "Geografia, w ramach studiów międzyobszarowych                       Gospodarka przestrzenna     -0.6 0.0511 -1.2024 0.0024  False\n",
      "---------------------------------------------------------------------------------------------------------------------------------\n"
     ]
    }
   ],
   "source": [
    "test_posthoc(df_3, 'corr', 'Kierunek_studiów')"
   ],
   "metadata": {
    "collapsed": false,
    "ExecuteTime": {
     "end_time": "2023-10-18T19:48:15.342821Z",
     "start_time": "2023-10-18T19:48:14.904388Z"
    }
   },
   "id": "82dd857a5cf58e62"
  },
  {
   "cell_type": "code",
   "execution_count": 168,
   "outputs": [
    {
     "name": "stdout",
     "output_type": "stream",
     "text": [
      "-----------------------------------------------\n",
      "Zsumowany wynik:\n",
      "Rok_studiów   1  2  3\n",
      "corr                 \n",
      "0             1  0  0\n",
      "2             3  0  0\n",
      "3             4  1  3\n",
      "4             3  4  1\n",
      "5            10  3  1\n",
      "6             3  0  4\n",
      "Wartość statystyki chi-kwadrat: 16.188492063492063\n",
      "P-value: 0.09436223810908975\n",
      "Brak podstaw do odrzucenia H0.\n",
      "-----------------------------------------------\n",
      "Wszystkie grafiki:\n",
      "Rok_studiów   1   2   3\n",
      "corr                   \n",
      "0            46  14  12\n",
      "1            98  34  42\n",
      "Wartość statystyki chi-kwadrat: 1.7934227330779056\n",
      "P-value: 0.40790891928772866\n",
      "Brak podstaw do odrzucenia H0.\n",
      "-----------------------------------------------\n",
      "Grafiki A:\n",
      "Rok_studiów   1   2   3\n",
      "corr                   \n",
      "0            25   6   5\n",
      "1            47  18  22\n",
      "Wartość statystyki chi-kwadrat: 2.7528602596849723\n",
      "P-value: 0.25247826079300134\n",
      "Brak podstaw do odrzucenia H0.\n",
      "-----------------------------------------------\n",
      "Grafiki B:\n",
      "Rok_studiów   1   2   3\n",
      "corr                   \n",
      "0            21   8   7\n",
      "1            51  16  20\n",
      "Wartość statystyki chi-kwadrat: 0.3376303746275011\n",
      "P-value: 0.8446649937683279\n",
      "Brak podstaw do odrzucenia H0.\n",
      "-----------------------------------------------\n",
      "Grafiki 1:\n",
      "Rok_studiów   1   2   3\n",
      "corr                   \n",
      "0             5   0   3\n",
      "1            43  16  15\n",
      "Wartość statystyki chi-kwadrat: 2.7298704954954958\n",
      "P-value: 0.2553972129974281\n",
      "Brak podstaw do odrzucenia H0.\n",
      "-----------------------------------------------\n",
      "Grafiki 2:\n",
      "Rok_studiów   1   2   3\n",
      "corr                   \n",
      "0            15   6   2\n",
      "1            33  10  16\n",
      "Wartość statystyki chi-kwadrat: 3.5106648653074597\n",
      "P-value: 0.17284977183137032\n",
      "Brak podstaw do odrzucenia H0.\n",
      "-----------------------------------------------\n",
      "Grafiki 3:\n",
      "Rok_studiów   1  2   3\n",
      "corr                  \n",
      "0            26  8   7\n",
      "1            22  8  11\n",
      "Wartość statystyki chi-kwadrat: 1.222222222222222\n",
      "P-value: 0.5427474811642219\n",
      "Brak podstaw do odrzucenia H0.\n"
     ]
    }
   ],
   "source": [
    "# rok studiów\n",
    "test_parametr(dfs, names, 'corr', 'Rok_studiów')"
   ],
   "metadata": {
    "collapsed": false,
    "ExecuteTime": {
     "end_time": "2023-10-18T19:48:16.699332Z",
     "start_time": "2023-10-18T19:48:16.665366Z"
    }
   },
   "id": "49c6404c223f12e9"
  },
  {
   "cell_type": "code",
   "execution_count": 169,
   "outputs": [
    {
     "name": "stdout",
     "output_type": "stream",
     "text": [
      "-----------------------------------------------\n",
      "Zsumowany wynik:\n",
      "Specjalność  FIZ   GEOINF   NO_VAL  SPOŁ-EKO\n",
      "corr                                        \n",
      "0               1        0       0         0\n",
      "2               1        1       1         0\n",
      "3               1        5       1         1\n",
      "4               1        3       0         4\n",
      "5               5        4       3         2\n",
      "6               1        5       0         1\n",
      "Wartość statystyki chi-kwadrat: 16.69353505291005\n",
      "P-value: 0.337512521148565\n",
      "Brak podstaw do odrzucenia H0.\n",
      "-----------------------------------------------\n",
      "Wszystkie grafiki:\n",
      "Specjalność  FIZ   GEOINF   NO_VAL  SPOŁ-EKO\n",
      "corr                                        \n",
      "0              20       29      10        13\n",
      "1              40       79      20        35\n",
      "Wartość statystyki chi-kwadrat: 1.1337071626223914\n",
      "P-value: 0.7689438968268528\n",
      "Brak podstaw do odrzucenia H0.\n",
      "-----------------------------------------------\n",
      "Grafiki A:\n",
      "Specjalność  FIZ   GEOINF   NO_VAL  SPOŁ-EKO\n",
      "corr                                        \n",
      "0              11       13       5         7\n",
      "1              19       41      10        17\n",
      "Wartość statystyki chi-kwadrat: 1.6168076841209018\n",
      "P-value: 0.655584823468103\n",
      "Brak podstaw do odrzucenia H0.\n",
      "-----------------------------------------------\n",
      "Grafiki B:\n",
      "Specjalność  FIZ   GEOINF   NO_VAL  SPOŁ-EKO\n",
      "corr                                        \n",
      "0               9       16       5         6\n",
      "1              21       38      10        18\n",
      "Wartość statystyki chi-kwadrat: 0.34210302256279235\n",
      "P-value: 0.9519249285158023\n",
      "Brak podstaw do odrzucenia H0.\n",
      "-----------------------------------------------\n",
      "Grafiki 1:\n",
      "Specjalność  FIZ   GEOINF   NO_VAL  SPOŁ-EKO\n",
      "corr                                        \n",
      "0               3        5       0         0\n",
      "1              17       31      10        16\n",
      "Wartość statystyki chi-kwadrat: 4.133858858858859\n",
      "P-value: 0.2473678573503681\n",
      "Brak podstaw do odrzucenia H0.\n",
      "-----------------------------------------------\n",
      "Grafiki 2:\n",
      "Specjalność  FIZ   GEOINF   NO_VAL  SPOŁ-EKO\n",
      "corr                                        \n",
      "0               5        7       4         7\n",
      "1              15       29       6         9\n",
      "Wartość statystyki chi-kwadrat: 4.074989765004503\n",
      "P-value: 0.2534796165520062\n",
      "Brak podstaw do odrzucenia H0.\n",
      "-----------------------------------------------\n",
      "Grafiki 3:\n",
      "Specjalność  FIZ   GEOINF   NO_VAL  SPOŁ-EKO\n",
      "corr                                        \n",
      "0              12       17       6         6\n",
      "1               8       19       4        10\n",
      "Wartość statystyki chi-kwadrat: 2.311111111111111\n",
      "P-value: 0.510395655663048\n",
      "Brak podstaw do odrzucenia H0.\n"
     ]
    }
   ],
   "source": [
    "# specjalność\n",
    "test_parametr(dfs, names, 'corr', 'Specjalność')"
   ],
   "metadata": {
    "collapsed": false,
    "ExecuteTime": {
     "end_time": "2023-10-18T19:48:18.360670Z",
     "start_time": "2023-10-18T19:48:18.310710Z"
    }
   },
   "id": "350faed34ec2def1"
  },
  {
   "cell_type": "code",
   "execution_count": 170,
   "outputs": [
    {
     "name": "stdout",
     "output_type": "stream",
     "text": [
      "-----------------------------------------------\n",
      "Zsumowany wynik:\n",
      "Wady_wzroku  0   1\n",
      "corr              \n",
      "0            0   1\n",
      "2            2   1\n",
      "3            2   6\n",
      "4            4   4\n",
      "5            4  10\n",
      "6            4   3\n",
      "Wartość statystyki chi-kwadrat: 4.278154761904762\n",
      "P-value: 0.5101021303841938\n",
      "Brak podstaw do odrzucenia H0.\n",
      "-----------------------------------------------\n",
      "Wszystkie grafiki:\n",
      "Wady_wzroku   0    1\n",
      "corr                \n",
      "0            26   46\n",
      "1            70  104\n",
      "Wartość statystyki chi-kwadrat: 0.21060853687739414\n",
      "P-value: 0.6462908566505332\n",
      "Brak podstaw do odrzucenia H0.\n",
      "-----------------------------------------------\n",
      "Grafiki A:\n",
      "Wady_wzroku   0   1\n",
      "corr               \n",
      "0            12  24\n",
      "1            36  51\n",
      "Wartość statystyki chi-kwadrat: 0.3958866139846738\n",
      "P-value: 0.5292212634953144\n",
      "Brak podstaw do odrzucenia H0.\n",
      "-----------------------------------------------\n",
      "Grafiki B:\n",
      "Wady_wzroku   0   1\n",
      "corr               \n",
      "0            14  22\n",
      "1            34  53\n",
      "Wartość statystyki chi-kwadrat: 0.0\n",
      "P-value: 1.0\n",
      "Brak podstaw do odrzucenia H0.\n",
      "-----------------------------------------------\n",
      "Grafiki 1:\n",
      "Wady_wzroku   0   1\n",
      "corr               \n",
      "0             4   4\n",
      "1            28  46\n",
      "Wartość statystyki chi-kwadrat: 0.08319467905405399\n",
      "P-value: 0.7730138725521942\n",
      "Brak podstaw do odrzucenia H0.\n",
      "-----------------------------------------------\n",
      "Grafiki 2:\n",
      "Wady_wzroku   0   1\n",
      "corr               \n",
      "0             7  16\n",
      "1            25  34\n",
      "Wartość statystyki chi-kwadrat: 0.5529485998526167\n",
      "P-value: 0.4571153945027724\n",
      "Brak podstaw do odrzucenia H0.\n",
      "-----------------------------------------------\n",
      "Grafiki 3:\n",
      "Wady_wzroku   0   1\n",
      "corr               \n",
      "0            15  26\n",
      "1            17  24\n",
      "Wartość statystyki chi-kwadrat: 0.051250000000000004\n",
      "P-value: 0.8209022823378579\n",
      "Brak podstaw do odrzucenia H0.\n"
     ]
    }
   ],
   "source": [
    "# wady wzroku\n",
    "test_parametr(dfs, names, 'corr', 'Wady_wzroku')"
   ],
   "metadata": {
    "collapsed": false,
    "ExecuteTime": {
     "end_time": "2023-10-18T19:48:31.565032Z",
     "start_time": "2023-10-18T19:48:31.533307Z"
    }
   },
   "id": "b8a12358f83b01dd"
  },
  {
   "cell_type": "code",
   "execution_count": 171,
   "outputs": [
    {
     "name": "stdout",
     "output_type": "stream",
     "text": [
      "-----------------------------------------------\n",
      "Zsumowany wynik:\n",
      "Ilość_snu  6  7  8  8<  <6\n",
      "corr                      \n",
      "0          1  0  0   0   0\n",
      "2          1  0  0   2   0\n",
      "3          1  0  0   2   5\n",
      "4          3  4  1   0   0\n",
      "5          4  3  2   2   3\n",
      "6          2  2  1   0   2\n",
      "Wartość statystyki chi-kwadrat: 26.27172619047619\n",
      "P-value: 0.15702399232133712\n",
      "Brak podstaw do odrzucenia H0.\n",
      "-----------------------------------------------\n",
      "Wszystkie grafiki:\n",
      "Ilość_snu   6   7   8  8<  <6\n",
      "corr                         \n",
      "0          23  11   4  16  18\n",
      "1          49  43  20  20  42\n",
      "Wartość statystyki chi-kwadrat: 8.175891336739037\n",
      "P-value: 0.08534345467127644\n",
      "Brak podstaw do odrzucenia H0.\n",
      "-----------------------------------------------\n",
      "Grafiki A:\n",
      "Ilość_snu   6   7   8  8<  <6\n",
      "corr                         \n",
      "0          12   5   1   7  11\n",
      "1          24  22  11  11  19\n",
      "Wartość statystyki chi-kwadrat: 5.932912941677308\n",
      "P-value: 0.20421470740433081\n",
      "Brak podstaw do odrzucenia H0.\n",
      "-----------------------------------------------\n",
      "Grafiki B:\n",
      "Ilość_snu   6   7  8  8<  <6\n",
      "corr                        \n",
      "0          11   6  3   9   7\n",
      "1          25  21  9   9  23\n",
      "Wartość statystyki chi-kwadrat: 5.029438058748404\n",
      "P-value: 0.2842902823015182\n",
      "Brak podstaw do odrzucenia H0.\n",
      "-----------------------------------------------\n",
      "Grafiki 1:\n",
      "Ilość_snu   6   7  8  8<  <6\n",
      "corr                        \n",
      "0           2   1  0   2   3\n",
      "1          22  17  8  10  17\n",
      "Wartość statystyki chi-kwadrat: 2.556343843843844\n",
      "P-value: 0.6345757654963642\n",
      "Brak podstaw do odrzucenia H0.\n",
      "-----------------------------------------------\n",
      "Grafiki 2:\n",
      "Ilość_snu   6   7  8  8<  <6\n",
      "corr                        \n",
      "0          10   3  0   6   4\n",
      "1          14  15  8   6  16\n",
      "Wartość statystyki chi-kwadrat: 9.986637189879637\n",
      "P-value: 0.04065337934607968\n",
      "Istnieją podstawy do odrzucenia H0, przyjmujemy hipotezę H1:\n",
      "-----------------------------------------------\n",
      "Grafiki 3:\n",
      "Ilość_snu   6   7  8  8<  <6\n",
      "corr                        \n",
      "0          11   7  4   8  11\n",
      "1          13  11  4   4   9\n",
      "Wartość statystyki chi-kwadrat: 2.588888888888889\n",
      "P-value: 0.6287926654011016\n",
      "Brak podstaw do odrzucenia H0.\n"
     ]
    }
   ],
   "source": [
    "# ilość snu\n",
    "test_parametr(dfs, names, 'corr', 'Ilość_snu')"
   ],
   "metadata": {
    "collapsed": false,
    "ExecuteTime": {
     "end_time": "2023-10-18T19:48:33.359761Z",
     "start_time": "2023-10-18T19:48:33.325815Z"
    }
   },
   "id": "2363520e00c30ad7"
  },
  {
   "cell_type": "code",
   "execution_count": 172,
   "outputs": [
    {
     "name": "stdout",
     "output_type": "stream",
     "text": [
      "Multiple Comparison of Means - Tukey HSD, FWER=0.05\n",
      "===================================================\n",
      "group1 group2 meandiff p-adj   lower  upper  reject\n",
      "---------------------------------------------------\n",
      "     6      7     0.25 0.3555 -0.1284 0.6284  False\n",
      "     6      8   0.4167 0.1408 -0.0788 0.9121  False\n",
      "     6     8<  -0.0833 0.9825 -0.5124 0.3457  False\n",
      "     6     <6   0.2167 0.4724 -0.1508 0.5841  False\n",
      "     7      8   0.1667  0.895  -0.349 0.6824  False\n",
      "     7     8<  -0.3333 0.2486 -0.7856  0.119  False\n",
      "     7     <6  -0.0333 0.9993 -0.4276  0.361  False\n",
      "     8     8<     -0.5 0.0964 -1.0539 0.0539  False\n",
      "     8     <6     -0.2 0.8058 -0.7077 0.3077  False\n",
      "    8<     <6      0.3 0.3308 -0.1431 0.7431  False\n",
      "---------------------------------------------------\n"
     ]
    }
   ],
   "source": [
    "test_posthoc(df_2, 'corr', 'Ilość_snu')"
   ],
   "metadata": {
    "collapsed": false,
    "ExecuteTime": {
     "end_time": "2023-10-18T19:48:36.213547Z",
     "start_time": "2023-10-18T19:48:35.563405Z"
    }
   },
   "id": "bc3abbe50cb7ad12"
  },
  {
   "cell_type": "code",
   "execution_count": 173,
   "outputs": [
    {
     "name": "stdout",
     "output_type": "stream",
     "text": [
      "-----------------------------------------------\n",
      "Zsumowany wynik:\n",
      "JP_podst  30 - 49%  50 - 69%  70 - 89%  90 - 100%\n",
      "corr                                             \n",
      "0                1         0         0          0\n",
      "2                1         2         0          0\n",
      "3                1         2         4          1\n",
      "4                1         2         3          2\n",
      "5                0         6         6          2\n",
      "6                1         2         4          0\n",
      "Wartość statystyki chi-kwadrat: 15.91108443377351\n",
      "P-value: 0.38798556952908253\n",
      "Brak podstaw do odrzucenia H0.\n",
      "-----------------------------------------------\n",
      "Wszystkie grafiki:\n",
      "JP_podst  30 - 49%  50 - 69%  70 - 89%  90 - 100%\n",
      "corr                                             \n",
      "0               15        24        24          9\n",
      "1               15        60        78         21\n",
      "Wartość statystyki chi-kwadrat: 7.878629382787597\n",
      "P-value: 0.04858781121195582\n",
      "Istnieją podstawy do odrzucenia H0, przyjmujemy hipotezę H1:\n",
      "-----------------------------------------------\n",
      "Grafiki A:\n",
      "JP_podst  30 - 49%  50 - 69%  70 - 89%  90 - 100%\n",
      "corr                                             \n",
      "0                7        13        12          4\n",
      "1                8        29        39         11\n",
      "Wartość statystyki chi-kwadrat: 3.111235873659809\n",
      "P-value: 0.3747907315400665\n",
      "Brak podstaw do odrzucenia H0.\n",
      "-----------------------------------------------\n",
      "Grafiki B:\n",
      "JP_podst  30 - 49%  50 - 69%  70 - 89%  90 - 100%\n",
      "corr                                             \n",
      "0                8        11        12          5\n",
      "1                7        31        39         10\n",
      "Wartość statystyki chi-kwadrat: 5.319446054283782\n",
      "P-value: 0.149845531421133\n",
      "Brak podstaw do odrzucenia H0.\n",
      "-----------------------------------------------\n",
      "Grafiki 1:\n",
      "JP_podst  30 - 49%  50 - 69%  70 - 89%  90 - 100%\n",
      "corr                                             \n",
      "0                2         2         3          1\n",
      "1                8        26        31          9\n",
      "Wartość statystyki chi-kwadrat: 1.443334090392914\n",
      "P-value: 0.6954091499555917\n",
      "Brak podstaw do odrzucenia H0.\n",
      "-----------------------------------------------\n",
      "Grafiki 2:\n",
      "JP_podst  30 - 49%  50 - 69%  70 - 89%  90 - 100%\n",
      "corr                                             \n",
      "0                6         6         7          4\n",
      "1                4        22        27          6\n",
      "Wartość statystyki chi-kwadrat: 7.312021698878521\n",
      "P-value: 0.06259031601789411\n",
      "Brak podstaw do odrzucenia H0.\n",
      "-----------------------------------------------\n",
      "Grafiki 3:\n",
      "JP_podst  30 - 49%  50 - 69%  70 - 89%  90 - 100%\n",
      "corr                                             \n",
      "0                7        16        14          4\n",
      "1                3        12        20          6\n",
      "Wartość statystyki chi-kwadrat: 3.6302521008403366\n",
      "P-value: 0.30425761164972465\n",
      "Brak podstaw do odrzucenia H0.\n"
     ]
    }
   ],
   "source": [
    "# matura - j.pol - podst\n",
    "test_parametr(dfs, names, 'corr', 'JP_podst')"
   ],
   "metadata": {
    "collapsed": false,
    "ExecuteTime": {
     "end_time": "2023-10-18T19:48:40.877478Z",
     "start_time": "2023-10-18T19:48:40.841356Z"
    }
   },
   "id": "e45b7a3570fa3b78"
  },
  {
   "cell_type": "code",
   "execution_count": 174,
   "outputs": [
    {
     "name": "stdout",
     "output_type": "stream",
     "text": [
      "  Multiple Comparison of Means - Tukey HSD, FWER=0.05   \n",
      "========================================================\n",
      " group1    group2  meandiff p-adj   lower  upper  reject\n",
      "--------------------------------------------------------\n",
      "30 - 49%  50 - 69%   0.2143 0.1175 -0.0341 0.4626  False\n",
      "30 - 49%  70 - 89%   0.2647 0.0263  0.0222 0.5072   True\n",
      "30 - 49% 90 - 100%      0.2 0.3175 -0.1015 0.5015  False\n",
      "50 - 69%  70 - 89%   0.0504 0.8731 -0.1216 0.2225  False\n",
      "50 - 69% 90 - 100%  -0.0143 0.9988 -0.2626 0.2341  False\n",
      "70 - 89% 90 - 100%  -0.0647 0.9007 -0.3072 0.1778  False\n",
      "--------------------------------------------------------\n"
     ]
    }
   ],
   "source": [
    "test_posthoc(df_all, 'corr', 'JP_podst')"
   ],
   "metadata": {
    "collapsed": false,
    "ExecuteTime": {
     "end_time": "2023-10-18T19:48:44.608678Z",
     "start_time": "2023-10-18T19:48:44.020999Z"
    }
   },
   "id": "dec20fb3be5dd0e3"
  },
  {
   "cell_type": "code",
   "execution_count": 175,
   "outputs": [
    {
     "name": "stdout",
     "output_type": "stream",
     "text": [
      "-----------------------------------------------\n",
      "Zsumowany wynik:\n",
      "MAT_podst  30 - 49%  50 - 69%  70 - 89%  90 - 100%\n",
      "corr                                              \n",
      "0                 0         0         1          0\n",
      "2                 0         0         2          1\n",
      "3                 0         1         1          6\n",
      "4                 1         1         4          2\n",
      "5                 0         0         4         10\n",
      "6                 0         1         0          6\n",
      "Wartość statystyki chi-kwadrat: 17.52668650793651\n",
      "P-value: 0.28836537999378187\n",
      "Brak podstaw do odrzucenia H0.\n",
      "-----------------------------------------------\n",
      "Wszystkie grafiki:\n",
      "MAT_podst  30 - 49%  50 - 69%  70 - 89%  90 - 100%\n",
      "corr                                              \n",
      "0                 2         5        29         36\n",
      "1                 4        13        43        114\n",
      "Wartość statystyki chi-kwadrat: 6.293801085568329\n",
      "P-value: 0.09815899164514029\n",
      "Brak podstaw do odrzucenia H0.\n",
      "-----------------------------------------------\n",
      "Grafiki A:\n",
      "MAT_podst  30 - 49%  50 - 69%  70 - 89%  90 - 100%\n",
      "corr                                              \n",
      "0                 1         3        13         19\n",
      "1                 2         6        23         56\n",
      "Wartość statystyki chi-kwadrat: 1.4709993614303967\n",
      "P-value: 0.6889796534701622\n",
      "Brak podstaw do odrzucenia H0.\n",
      "-----------------------------------------------\n",
      "Grafiki B:\n",
      "MAT_podst  30 - 49%  50 - 69%  70 - 89%  90 - 100%\n",
      "corr                                              \n",
      "0                 1         2        16         17\n",
      "1                 2         7        20         58\n",
      "Wartość statystyki chi-kwadrat: 5.823780332056195\n",
      "P-value: 0.12050563394734674\n",
      "Brak podstaw do odrzucenia H0.\n",
      "-----------------------------------------------\n",
      "Grafiki 1:\n",
      "MAT_podst  30 - 49%  50 - 69%  70 - 89%  90 - 100%\n",
      "corr                                              \n",
      "0                 0         0         5          3\n",
      "1                 2         6        19         47\n",
      "Wartość statystyki chi-kwadrat: 5.010957207207207\n",
      "P-value: 0.1709965597903874\n",
      "Brak podstaw do odrzucenia H0.\n",
      "-----------------------------------------------\n",
      "Grafiki 2:\n",
      "MAT_podst  30 - 49%  50 - 69%  70 - 89%  90 - 100%\n",
      "corr                                              \n",
      "0                 0         1         8         14\n",
      "1                 2         5        16         36\n",
      "Wartość statystyki chi-kwadrat: 1.49698845492508\n",
      "P-value: 0.6829655676160402\n",
      "Brak podstaw do odrzucenia H0.\n",
      "-----------------------------------------------\n",
      "Grafiki 3:\n",
      "MAT_podst  30 - 49%  50 - 69%  70 - 89%  90 - 100%\n",
      "corr                                              \n",
      "0                 2         4        16         19\n",
      "1                 0         2         8         31\n",
      "Wartość statystyki chi-kwadrat: 8.213333333333333\n",
      "P-value: 0.041802486050045204\n",
      "Istnieją podstawy do odrzucenia H0, przyjmujemy hipotezę H1:\n"
     ]
    }
   ],
   "source": [
    "# matura - mat - podst\n",
    "test_parametr(dfs, names, 'corr', 'MAT_podst')"
   ],
   "metadata": {
    "collapsed": false,
    "ExecuteTime": {
     "end_time": "2023-10-18T19:48:46.027879Z",
     "start_time": "2023-10-18T19:48:45.986762Z"
    }
   },
   "id": "f76ed64cfdb3feb6"
  },
  {
   "cell_type": "code",
   "execution_count": 176,
   "outputs": [
    {
     "name": "stdout",
     "output_type": "stream",
     "text": [
      "  Multiple Comparison of Means - Tukey HSD, FWER=0.05   \n",
      "========================================================\n",
      " group1    group2  meandiff p-adj   lower  upper  reject\n",
      "--------------------------------------------------------\n",
      "30 - 49%  50 - 69%   0.3333 0.8355 -0.7091 1.3758  False\n",
      "30 - 49%  70 - 89%   0.3333 0.7881 -0.6063  1.273  False\n",
      "30 - 49% 90 - 100%     0.62 0.2965 -0.3006 1.5406  False\n",
      "50 - 69%  70 - 89%      0.0    1.0 -0.5827 0.5827  False\n",
      "50 - 69% 90 - 100%   0.2867 0.5253 -0.2649 0.8383  False\n",
      "70 - 89% 90 - 100%   0.2867 0.0907 -0.0304 0.6037  False\n",
      "--------------------------------------------------------\n"
     ]
    }
   ],
   "source": [
    "test_posthoc(df_3, 'corr', 'MAT_podst')"
   ],
   "metadata": {
    "collapsed": false,
    "ExecuteTime": {
     "end_time": "2023-10-18T19:48:47.313915Z",
     "start_time": "2023-10-18T19:48:46.836788Z"
    }
   },
   "id": "794122ca99adfb93"
  },
  {
   "cell_type": "code",
   "execution_count": 177,
   "outputs": [
    {
     "name": "stdout",
     "output_type": "stream",
     "text": [
      "-----------------------------------------------\n",
      "Zsumowany wynik:\n",
      "JP_roz  20 - 49%  50 - 70%  NO_VAL  powyżej 70%\n",
      "corr                                           \n",
      "0              0         0       1            0\n",
      "2              0         0       3            0\n",
      "3              0         1       6            1\n",
      "4              0         1       5            2\n",
      "5              1         3      10            0\n",
      "6              0         0       7            0\n",
      "Wartość statystyki chi-kwadrat: 10.806733630952381\n",
      "P-value: 0.7661704957717559\n",
      "Brak podstaw do odrzucenia H0.\n",
      "-----------------------------------------------\n",
      "Wszystkie grafiki:\n",
      "JP_roz  20 - 49%  50 - 70%  NO_VAL  powyżej 70%\n",
      "corr                                           \n",
      "0              1         8      56            7\n",
      "1              5        22     136           11\n",
      "Wartość statystyki chi-kwadrat: 1.3640485312899107\n",
      "P-value: 0.7139831630446276\n",
      "Brak podstaw do odrzucenia H0.\n",
      "-----------------------------------------------\n",
      "Grafiki A:\n",
      "JP_roz  20 - 49%  50 - 70%  NO_VAL  powyżej 70%\n",
      "corr                                           \n",
      "0              1         4      27            4\n",
      "1              2        11      69            5\n",
      "Wartość statystyki chi-kwadrat: 1.134879869093231\n",
      "P-value: 0.768661309035483\n",
      "Brak podstaw do odrzucenia H0.\n",
      "-----------------------------------------------\n",
      "Grafiki B:\n",
      "JP_roz  20 - 49%  50 - 70%  NO_VAL  powyżej 70%\n",
      "corr                                           \n",
      "0              0         4      29            3\n",
      "1              3        11      67            6\n",
      "Wartość statystyki chi-kwadrat: 1.4032387452107282\n",
      "P-value: 0.7047757271924571\n",
      "Brak podstaw do odrzucenia H0.\n",
      "-----------------------------------------------\n",
      "Grafiki 1:\n",
      "JP_roz  20 - 49%  50 - 70%  NO_VAL  powyżej 70%\n",
      "corr                                           \n",
      "0              0         0       7            1\n",
      "1              2        10      57            5\n",
      "Wartość statystyki chi-kwadrat: 1.7242046734234235\n",
      "P-value: 0.6315660181638165\n",
      "Brak podstaw do odrzucenia H0.\n",
      "-----------------------------------------------\n",
      "Grafiki 2:\n",
      "JP_roz  20 - 49%  50 - 70%  NO_VAL  powyżej 70%\n",
      "corr                                           \n",
      "0              1         4      16            2\n",
      "1              1         6      48            4\n",
      "Wartość statystyki chi-kwadrat: 1.5630557602554662\n",
      "P-value: 0.6677953807761019\n",
      "Brak podstaw do odrzucenia H0.\n",
      "-----------------------------------------------\n",
      "Grafiki 3:\n",
      "JP_roz  20 - 49%  50 - 70%  NO_VAL  powyżej 70%\n",
      "corr                                           \n",
      "0              0         4      33            4\n",
      "1              2         6      31            2\n",
      "Wartość statystyki chi-kwadrat: 3.1291666666666664\n",
      "P-value: 0.37213577055588604\n",
      "Brak podstaw do odrzucenia H0.\n"
     ]
    }
   ],
   "source": [
    "# matura - j.pol - roz\n",
    "test_parametr(dfs, names, 'corr', 'JP_roz')"
   ],
   "metadata": {
    "collapsed": false,
    "ExecuteTime": {
     "end_time": "2023-10-18T19:48:48.567416Z",
     "start_time": "2023-10-18T19:48:48.530168Z"
    }
   },
   "id": "5130fb16be4359b9"
  },
  {
   "cell_type": "code",
   "execution_count": 178,
   "outputs": [
    {
     "name": "stdout",
     "output_type": "stream",
     "text": [
      "-----------------------------------------------\n",
      "Zsumowany wynik:\n",
      "MAT_roz  20 - 49%  50 - 70%  NO_VAL  poniżej 20%  powyżej 70%\n",
      "corr                                                         \n",
      "0               0         0       1            0            0\n",
      "2               0         1       1            1            0\n",
      "3               0         2       3            2            1\n",
      "4               0         2       4            1            1\n",
      "5               2         4       6            0            2\n",
      "6               0         2       3            1            1\n",
      "Wartość statystyki chi-kwadrat: 9.751304713804712\n",
      "P-value: 0.9724605087534033\n",
      "Brak podstaw do odrzucenia H0.\n",
      "-----------------------------------------------\n",
      "Wszystkie grafiki:\n",
      "MAT_roz  20 - 49%  50 - 70%  NO_VAL  poniżej 20%  powyżej 70%\n",
      "corr                                                         \n",
      "0               2        18      33           12            7\n",
      "1              10        48      75           18           23\n",
      "Wartość statystyki chi-kwadrat: 3.313309822361546\n",
      "P-value: 0.5068262015166236\n",
      "Brak podstaw do odrzucenia H0.\n",
      "-----------------------------------------------\n",
      "Grafiki A:\n",
      "MAT_roz  20 - 49%  50 - 70%  NO_VAL  poniżej 20%  powyżej 70%\n",
      "corr                                                         \n",
      "0               1        10      17            6            2\n",
      "1               5        23      37            9           13\n",
      "Wartość statystyki chi-kwadrat: 3.279412902976121\n",
      "P-value: 0.5122007027831157\n",
      "Brak podstaw do odrzucenia H0.\n",
      "-----------------------------------------------\n",
      "Grafiki B:\n",
      "MAT_roz  20 - 49%  50 - 70%  NO_VAL  poniżej 20%  powyżej 70%\n",
      "corr                                                         \n",
      "0               1         8      16            6            5\n",
      "1               5        25      38            9           10\n",
      "Wartość statystyki chi-kwadrat: 1.8205164673555472\n",
      "P-value: 0.7687266764648094\n",
      "Brak podstaw do odrzucenia H0.\n",
      "-----------------------------------------------\n",
      "Grafiki 1:\n",
      "MAT_roz  20 - 49%  50 - 70%  NO_VAL  poniżej 20%  powyżej 70%\n",
      "corr                                                         \n",
      "0               0         0       6            0            2\n",
      "1               4        22      30           10            8\n",
      "Wartość statystyki chi-kwadrat: 7.036486486486486\n",
      "P-value: 0.1339725986072393\n",
      "Brak podstaw do odrzucenia H0.\n",
      "-----------------------------------------------\n",
      "Grafiki 2:\n",
      "MAT_roz  20 - 49%  50 - 70%  NO_VAL  poniżej 20%  powyżej 70%\n",
      "corr                                                         \n",
      "0               1         8       7            5            2\n",
      "1               3        14      29            5            8\n",
      "Wartość statystyki chi-kwadrat: 4.801354741222096\n",
      "P-value: 0.3082935910979788\n",
      "Brak podstaw do odrzucenia H0.\n",
      "-----------------------------------------------\n",
      "Grafiki 3:\n",
      "MAT_roz  20 - 49%  50 - 70%  NO_VAL  poniżej 20%  powyżej 70%\n",
      "corr                                                         \n",
      "0               1        10      20            7            3\n",
      "1               3        12      16            3            7\n",
      "Wartość statystyki chi-kwadrat: 4.826262626262626\n",
      "P-value: 0.3055929872157053\n",
      "Brak podstaw do odrzucenia H0.\n"
     ]
    }
   ],
   "source": [
    "# matura - mat - roz\n",
    "test_parametr(dfs, names, 'corr', 'MAT_roz')"
   ],
   "metadata": {
    "collapsed": false,
    "ExecuteTime": {
     "end_time": "2023-10-18T19:49:04.961087Z",
     "start_time": "2023-10-18T19:49:04.925038Z"
    }
   },
   "id": "6b94aae9a6c9ec6"
  },
  {
   "cell_type": "code",
   "execution_count": 179,
   "outputs": [
    {
     "name": "stdout",
     "output_type": "stream",
     "text": [
      "-----------------------------------------------\n",
      "Zsumowany wynik:\n",
      "HIST_roz  20 - 49%  NO_VAL  powyżej 70%\n",
      "corr                                   \n",
      "0                0       1            0\n",
      "2                0       3            0\n",
      "3                0       8            0\n",
      "4                1       7            0\n",
      "5                0      12            2\n",
      "6                0       6            1\n",
      "Wartość statystyki chi-kwadrat: 7.163127413127413\n",
      "P-value: 0.7099602106772773\n",
      "Brak podstaw do odrzucenia H0.\n",
      "-----------------------------------------------\n",
      "Wszystkie grafiki:\n",
      "HIST_roz  20 - 49%  NO_VAL  powyżej 70%\n",
      "corr                                   \n",
      "0                2      68            2\n",
      "1                4     154           16\n",
      "Wartość statystyki chi-kwadrat: 3.1134582858720794\n",
      "P-value: 0.2108245215512082\n",
      "Brak podstaw do odrzucenia H0.\n",
      "-----------------------------------------------\n",
      "Grafiki A:\n",
      "HIST_roz  20 - 49%  NO_VAL  powyżej 70%\n",
      "corr                                   \n",
      "0                1      35            0\n",
      "1                2      76            9\n",
      "Wartość statystyki chi-kwadrat: 4.022729626177902\n",
      "P-value: 0.13380592990643436\n",
      "Brak podstaw do odrzucenia H0.\n",
      "-----------------------------------------------\n",
      "Grafiki B:\n",
      "HIST_roz  20 - 49%  NO_VAL  powyżej 70%\n",
      "corr                                   \n",
      "0                1      33            2\n",
      "1                2      78            7\n",
      "Wartość statystyki chi-kwadrat: 0.2511994753374065\n",
      "P-value: 0.8819677946284469\n",
      "Brak podstaw do odrzucenia H0.\n",
      "-----------------------------------------------\n",
      "Grafiki 1:\n",
      "HIST_roz  20 - 49%  NO_VAL  powyżej 70%\n",
      "corr                                   \n",
      "0                0       8            0\n",
      "1                2      66            6\n",
      "Wartość statystyki chi-kwadrat: 0.9583637691745799\n",
      "P-value: 0.6192898351724209\n",
      "Brak podstaw do odrzucenia H0.\n",
      "-----------------------------------------------\n",
      "Grafiki 2:\n",
      "HIST_roz  20 - 49%  NO_VAL  powyżej 70%\n",
      "corr                                   \n",
      "0                1      21            1\n",
      "1                1      53            5\n",
      "Wartość statystyki chi-kwadrat: 0.866670650016265\n",
      "P-value: 0.6483430497117104\n",
      "Brak podstaw do odrzucenia H0.\n",
      "-----------------------------------------------\n",
      "Grafiki 3:\n",
      "HIST_roz  20 - 49%  NO_VAL  powyżej 70%\n",
      "corr                                   \n",
      "0                1      39            1\n",
      "1                1      35            5\n",
      "Wartość statystyki chi-kwadrat: 2.8828828828828827\n",
      "P-value: 0.2365864872126388\n",
      "Brak podstaw do odrzucenia H0.\n"
     ]
    }
   ],
   "source": [
    "# matura - hist - roz\n",
    "test_parametr(dfs, names, 'corr', 'HIST_roz')"
   ],
   "metadata": {
    "collapsed": false,
    "ExecuteTime": {
     "end_time": "2023-10-18T19:49:51.310617Z",
     "start_time": "2023-10-18T19:49:51.272440Z"
    }
   },
   "id": "9acee7ad33f5ecb8"
  },
  {
   "cell_type": "code",
   "execution_count": 180,
   "outputs": [
    {
     "name": "stdout",
     "output_type": "stream",
     "text": [
      "-----------------------------------------------\n",
      "Zsumowany wynik:\n",
      "FIZ_roz  NO_VAL\n",
      "corr           \n",
      "0             1\n",
      "2             3\n",
      "3             8\n",
      "4             8\n",
      "5            14\n",
      "6             7\n",
      "Wartość statystyki chi-kwadrat: 0.0\n",
      "P-value: 1.0\n",
      "Brak podstaw do odrzucenia H0.\n",
      "-----------------------------------------------\n",
      "Wszystkie grafiki:\n",
      "FIZ_roz  NO_VAL\n",
      "corr           \n",
      "0            72\n",
      "1           174\n",
      "Wartość statystyki chi-kwadrat: 0.0\n",
      "P-value: 1.0\n",
      "Brak podstaw do odrzucenia H0.\n",
      "-----------------------------------------------\n",
      "Grafiki A:\n",
      "FIZ_roz  NO_VAL\n",
      "corr           \n",
      "0            36\n",
      "1            87\n",
      "Wartość statystyki chi-kwadrat: 0.0\n",
      "P-value: 1.0\n",
      "Brak podstaw do odrzucenia H0.\n",
      "-----------------------------------------------\n",
      "Grafiki B:\n",
      "FIZ_roz  NO_VAL\n",
      "corr           \n",
      "0            36\n",
      "1            87\n",
      "Wartość statystyki chi-kwadrat: 0.0\n",
      "P-value: 1.0\n",
      "Brak podstaw do odrzucenia H0.\n",
      "-----------------------------------------------\n",
      "Grafiki 1:\n",
      "FIZ_roz  NO_VAL\n",
      "corr           \n",
      "0             8\n",
      "1            74\n",
      "Wartość statystyki chi-kwadrat: 0.0\n",
      "P-value: 1.0\n",
      "Brak podstaw do odrzucenia H0.\n",
      "-----------------------------------------------\n",
      "Grafiki 2:\n",
      "FIZ_roz  NO_VAL\n",
      "corr           \n",
      "0            23\n",
      "1            59\n",
      "Wartość statystyki chi-kwadrat: 0.0\n",
      "P-value: 1.0\n",
      "Brak podstaw do odrzucenia H0.\n",
      "-----------------------------------------------\n",
      "Grafiki 3:\n",
      "FIZ_roz  NO_VAL\n",
      "corr           \n",
      "0            41\n",
      "1            41\n",
      "Wartość statystyki chi-kwadrat: 0.0\n",
      "P-value: 1.0\n",
      "Brak podstaw do odrzucenia H0.\n"
     ]
    }
   ],
   "source": [
    "# matura - fiz - roz\n",
    "test_parametr(dfs, names, 'corr', 'FIZ_roz')"
   ],
   "metadata": {
    "collapsed": false,
    "ExecuteTime": {
     "end_time": "2023-10-18T19:50:10.203540Z",
     "start_time": "2023-10-18T19:50:10.174942Z"
    }
   },
   "id": "d2f1b9fd43ec8ed6"
  },
  {
   "cell_type": "code",
   "execution_count": 181,
   "outputs": [
    {
     "name": "stdout",
     "output_type": "stream",
     "text": [
      "-----------------------------------------------\n",
      "Zsumowany wynik:\n",
      "Samopocz  2  3  4  5\n",
      "corr                \n",
      "0         1  0  0  0\n",
      "2         1  1  0  1\n",
      "3         1  3  2  2\n",
      "4         0  0  3  5\n",
      "5         2  2  9  1\n",
      "6         0  0  7  0\n",
      "Wartość statystyki chi-kwadrat: 31.711857520786097\n",
      "P-value: 0.007045137302814013\n",
      "Istnieją podstawy do odrzucenia H0, przyjmujemy hipotezę H1:\n",
      "-----------------------------------------------\n",
      "Wszystkie grafiki:\n",
      "Samopocz   2   3    4   5\n",
      "corr                     \n",
      "0         15  15   21  21\n",
      "1         15  21  105  33\n",
      "Wartość statystyki chi-kwadrat: 20.98108237547892\n",
      "P-value: 0.00010623282905172462\n",
      "Istnieją podstawy do odrzucenia H0, przyjmujemy hipotezę H1:\n",
      "-----------------------------------------------\n",
      "Grafiki A:\n",
      "Samopocz  2  3   4   5\n",
      "corr                  \n",
      "0         9  9   8  10\n",
      "1         6  9  55  17\n",
      "Wartość statystyki chi-kwadrat: 19.722725475886392\n",
      "P-value: 0.00019374713580511398\n",
      "Istnieją podstawy do odrzucenia H0, przyjmujemy hipotezę H1:\n",
      "-----------------------------------------------\n",
      "Grafiki B:\n",
      "Samopocz  2   3   4   5\n",
      "corr                   \n",
      "0         6   6  13  11\n",
      "1         9  12  50  16\n",
      "Wartość statystyki chi-kwadrat: 4.96298728942407\n",
      "P-value: 0.1745275463766058\n",
      "Brak podstaw do odrzucenia H0.\n",
      "-----------------------------------------------\n",
      "Grafiki 1:\n",
      "Samopocz  2   3   4   5\n",
      "corr                   \n",
      "0         3   1   3   1\n",
      "1         7  11  39  17\n",
      "Wartość statystyki chi-kwadrat: 5.3688277563277556\n",
      "P-value: 0.14669809590729885\n",
      "Brak podstaw do odrzucenia H0.\n",
      "-----------------------------------------------\n",
      "Grafiki 2:\n",
      "Samopocz  2  3   4   5\n",
      "corr                  \n",
      "0         4  6   8   5\n",
      "1         6  6  34  13\n",
      "Wartość statystyki chi-kwadrat: 5.2596787965984735\n",
      "P-value: 0.15374027485963437\n",
      "Brak podstaw do odrzucenia H0.\n",
      "-----------------------------------------------\n",
      "Grafiki 3:\n",
      "Samopocz  2  3   4   5\n",
      "corr                  \n",
      "0         8  8  10  15\n",
      "1         2  4  32   3\n",
      "Wartość statystyki chi-kwadrat: 24.45714285714286\n",
      "P-value: 2.005023938715148e-05\n",
      "Istnieją podstawy do odrzucenia H0, przyjmujemy hipotezę H1:\n"
     ]
    }
   ],
   "source": [
    "# samopoczucie\n",
    "test_parametr(dfs, names, 'corr', 'Samopocz')"
   ],
   "metadata": {
    "collapsed": false,
    "ExecuteTime": {
     "end_time": "2023-10-18T19:50:19.270070Z",
     "start_time": "2023-10-18T19:50:19.240978Z"
    }
   },
   "id": "694411e275774707"
  },
  {
   "cell_type": "code",
   "execution_count": 182,
   "outputs": [
    {
     "name": "stdout",
     "output_type": "stream",
     "text": [
      "Multiple Comparison of Means - Tukey HSD, FWER=0.05 \n",
      "====================================================\n",
      "group1 group2 meandiff p-adj   lower   upper  reject\n",
      "----------------------------------------------------\n",
      "     2      3      0.5 0.8909 -1.3839  2.3839  False\n",
      "     2      4      2.0 0.0069  0.4519  3.5481   True\n",
      "     2      5   0.6667 0.7312 -1.0686   2.402  False\n",
      "     3      4      1.5 0.0385  0.0598  2.9402   True\n",
      "     3      5   0.1667 0.9927  -1.473  1.8064  False\n",
      "     4      5  -1.3333 0.0309 -2.5728 -0.0938   True\n",
      "----------------------------------------------------\n",
      "Multiple Comparison of Means - Tukey HSD, FWER=0.05 \n",
      "====================================================\n",
      "group1 group2 meandiff p-adj   lower   upper  reject\n",
      "----------------------------------------------------\n",
      "     2      3   0.0833 0.8687 -0.1972  0.3639  False\n",
      "     2      4   0.3333 0.0013  0.1028  0.5639   True\n",
      "     2      5   0.1111 0.6824 -0.1473  0.3696  False\n",
      "     3      4     0.25  0.015  0.0355  0.4645   True\n",
      "     3      5   0.0278 0.9911 -0.2164   0.272  False\n",
      "     4      5  -0.2222 0.0111 -0.4068 -0.0376   True\n",
      "----------------------------------------------------\n",
      "Multiple Comparison of Means - Tukey HSD, FWER=0.05\n",
      "===================================================\n",
      "group1 group2 meandiff p-adj   lower  upper  reject\n",
      "---------------------------------------------------\n",
      "     2      3      0.1 0.9064 -0.2861 0.4861  False\n",
      "     2      4    0.473  0.001  0.1557 0.7903   True\n",
      "     2      5   0.2296 0.3376  -0.126 0.5853  False\n",
      "     3      4    0.373 0.0071  0.0778 0.6682   True\n",
      "     3      5   0.1296 0.7468 -0.2065 0.4657  False\n",
      "     4      5  -0.2434 0.0656 -0.4974 0.0107  False\n",
      "---------------------------------------------------\n",
      "Multiple Comparison of Means - Tukey HSD, FWER=0.05 \n",
      "====================================================\n",
      "group1 group2 meandiff p-adj   lower   upper  reject\n",
      "----------------------------------------------------\n",
      "     2      3   0.1333 0.8868 -0.3494  0.6161  False\n",
      "     2      4   0.5619 0.0021  0.1652  0.9586   True\n",
      "     2      5  -0.0333 0.9973  -0.478  0.4113  False\n",
      "     3      4   0.4286 0.0162  0.0595  0.7976   True\n",
      "     3      5  -0.1667 0.7258 -0.5868  0.2535  False\n",
      "     4      5  -0.5952    0.0 -0.9129 -0.2776   True\n",
      "----------------------------------------------------\n"
     ]
    }
   ],
   "source": [
    "test_posthoc(df_wynik, 'corr', 'Samopocz')\n",
    "test_posthoc(df_all, 'corr', 'Samopocz')\n",
    "test_posthoc(df_a, 'corr', 'Samopocz')\n",
    "test_posthoc(df_3, 'corr', 'Samopocz')"
   ],
   "metadata": {
    "collapsed": false,
    "ExecuteTime": {
     "end_time": "2023-10-18T19:52:01.826170Z",
     "start_time": "2023-10-18T19:51:59.795246Z"
    }
   },
   "id": "6d106a523d313bb3"
  },
  {
   "cell_type": "code",
   "execution_count": 183,
   "outputs": [
    {
     "name": "stdout",
     "output_type": "stream",
     "text": [
      "-----------------------------------------------\n",
      "Zsumowany wynik:\n",
      "Zmęcz  1  2  3  4  5\n",
      "corr                \n",
      "0      0  0  0  1  0\n",
      "2      2  0  0  1  0\n",
      "3      0  2  3  1  2\n",
      "4      1  4  2  1  0\n",
      "5      3  3  5  2  1\n",
      "6      0  3  1  3  0\n",
      "Wartość statystyki chi-kwadrat: 23.915434102934103\n",
      "P-value: 0.24610570903881462\n",
      "Brak podstaw do odrzucenia H0.\n",
      "-----------------------------------------------\n",
      "Wszystkie grafiki:\n",
      "Zmęcz   1   2   3   4   5\n",
      "corr                     \n",
      "0      13  17  18  17   7\n",
      "1      23  55  48  37  11\n",
      "Wartość statystyki chi-kwadrat: 2.986806523085259\n",
      "P-value: 0.5600357194559189\n",
      "Brak podstaw do odrzucenia H0.\n",
      "-----------------------------------------------\n",
      "Grafiki A:\n",
      "Zmęcz   1   2   3   4  5\n",
      "corr                    \n",
      "0       6   8  10   8  4\n",
      "1      12  28  23  19  5\n",
      "Wartość statystyki chi-kwadrat: 2.0270714810944694\n",
      "P-value: 0.7307795127044739\n",
      "Brak podstaw do odrzucenia H0.\n",
      "-----------------------------------------------\n",
      "Grafiki B:\n",
      "Zmęcz   1   2   3   4  5\n",
      "corr                    \n",
      "0       7   9   8   9  3\n",
      "1      11  27  25  18  6\n",
      "Wartość statystyki chi-kwadrat: 1.8115711714849647\n",
      "P-value: 0.7703646681829919\n",
      "Brak podstaw do odrzucenia H0.\n",
      "-----------------------------------------------\n",
      "Grafiki 1:\n",
      "Zmęcz   1   2   3   4  5\n",
      "corr                    \n",
      "0       1   1   3   2  1\n",
      "1      11  23  19  16  5\n",
      "Wartość statystyki chi-kwadrat: 1.6184394621894618\n",
      "P-value: 0.8054742323141861\n",
      "Brak podstaw do odrzucenia H0.\n",
      "-----------------------------------------------\n",
      "Grafiki 2:\n",
      "Zmęcz  1   2   3   4  5\n",
      "corr                   \n",
      "0      5   4   6   7  1\n",
      "1      7  20  16  11  5\n",
      "Wartość statystyki chi-kwadrat: 4.0831230506985845\n",
      "P-value: 0.39487323795524687\n",
      "Brak podstaw do odrzucenia H0.\n",
      "-----------------------------------------------\n",
      "Grafiki 3:\n",
      "Zmęcz  1   2   3   4  5\n",
      "corr                   \n",
      "0      7  12   9   8  5\n",
      "1      5  12  13  10  1\n",
      "Wartość statystyki chi-kwadrat: 3.94949494949495\n",
      "P-value: 0.41288411368895406\n",
      "Brak podstaw do odrzucenia H0.\n"
     ]
    }
   ],
   "source": [
    "# zmęczenie\n",
    "test_parametr(dfs, names, 'corr', 'Zmęcz')"
   ],
   "metadata": {
    "collapsed": false,
    "ExecuteTime": {
     "end_time": "2023-10-18T19:54:16.447693Z",
     "start_time": "2023-10-18T19:54:16.404184Z"
    }
   },
   "id": "2646272df091ce52"
  },
  {
   "cell_type": "code",
   "execution_count": 184,
   "outputs": [
    {
     "name": "stdout",
     "output_type": "stream",
     "text": [
      "-----------------------------------------------\n",
      "Zsumowany wynik:\n",
      "Czyt_map  3  4  5\n",
      "corr             \n",
      "0         0  1  0\n",
      "2         1  0  2\n",
      "3         1  7  0\n",
      "4         1  5  2\n",
      "5         1  7  6\n",
      "6         1  5  1\n",
      "Wartość statystyki chi-kwadrat: 10.8978354978355\n",
      "P-value: 0.36553281587992115\n",
      "Brak podstaw do odrzucenia H0.\n",
      "-----------------------------------------------\n",
      "Wszystkie grafiki:\n",
      "Czyt_map   3    4   5\n",
      "corr                 \n",
      "0         10   44  18\n",
      "1         20  106  48\n",
      "Wartość statystyki chi-kwadrat: 0.36672936259143135\n",
      "P-value: 0.8324645161362327\n",
      "Brak podstaw do odrzucenia H0.\n",
      "-----------------------------------------------\n",
      "Grafiki A:\n",
      "Czyt_map   3   4   5\n",
      "corr                \n",
      "0          5  22   9\n",
      "1         10  53  24\n",
      "Wartość statystyki chi-kwadrat: 0.18336468129571568\n",
      "P-value: 0.9123949342999624\n",
      "Brak podstaw do odrzucenia H0.\n",
      "-----------------------------------------------\n",
      "Grafiki B:\n",
      "Czyt_map   3   4   5\n",
      "corr                \n",
      "0          5  22   9\n",
      "1         10  53  24\n",
      "Wartość statystyki chi-kwadrat: 0.18336468129571568\n",
      "P-value: 0.9123949342999624\n",
      "Brak podstaw do odrzucenia H0.\n",
      "-----------------------------------------------\n",
      "Grafiki 1:\n",
      "Czyt_map   3   4   5\n",
      "corr                \n",
      "0          0   7   1\n",
      "1         10  43  21\n",
      "Wartość statystyki chi-kwadrat: 2.782358722358722\n",
      "P-value: 0.24878172803709545\n",
      "Brak podstaw do odrzucenia H0.\n",
      "-----------------------------------------------\n",
      "Grafiki 2:\n",
      "Czyt_map  3   4   5\n",
      "corr               \n",
      "0         4  12   7\n",
      "1         6  38  15\n",
      "Wartość statystyki chi-kwadrat: 1.268755945601929\n",
      "P-value: 0.5302652251470427\n",
      "Brak podstaw do odrzucenia H0.\n",
      "-----------------------------------------------\n",
      "Grafiki 3:\n",
      "Czyt_map  3   4   5\n",
      "corr               \n",
      "0         6  25  10\n",
      "1         4  25  12\n",
      "Wartość statystyki chi-kwadrat: 0.5818181818181818\n",
      "P-value: 0.7475836370778213\n",
      "Brak podstaw do odrzucenia H0.\n"
     ]
    }
   ],
   "source": [
    "# czytanie map\n",
    "test_parametr(dfs, names, 'corr', 'Czyt_map')"
   ],
   "metadata": {
    "collapsed": false,
    "ExecuteTime": {
     "end_time": "2023-10-18T19:54:30.287925Z",
     "start_time": "2023-10-18T19:54:30.255058Z"
    }
   },
   "id": "3545c6bda6a5814c"
  },
  {
   "cell_type": "code",
   "execution_count": 185,
   "outputs": [
    {
     "name": "stdout",
     "output_type": "stream",
     "text": [
      "-----------------------------------------------\n",
      "Zsumowany wynik:\n",
      "Podziel_uwg  1  2  3  4  5\n",
      "corr                      \n",
      "0            0  0  1  0  0\n",
      "2            0  1  1  1  0\n",
      "3            0  1  3  2  2\n",
      "4            1  2  3  1  1\n",
      "5            1  3  3  4  3\n",
      "6            0  1  3  1  2\n",
      "Wartość statystyki chi-kwadrat: 7.756259448223734\n",
      "P-value: 0.9933613989615059\n",
      "Brak podstaw do odrzucenia H0.\n",
      "-----------------------------------------------\n",
      "Wszystkie grafiki:\n",
      "Podziel_uwg  1   2   3   4   5\n",
      "corr                          \n",
      "0            3  14  28  16  11\n",
      "1            9  34  56  38  37\n",
      "Wartość statystyki chi-kwadrat: 1.7151513942103016\n",
      "P-value: 0.7879635487048399\n",
      "Brak podstaw do odrzucenia H0.\n",
      "-----------------------------------------------\n",
      "Grafiki A:\n",
      "Podziel_uwg  1   2   3   4   5\n",
      "corr                          \n",
      "0            1   7  16   8   4\n",
      "1            5  17  26  19  20\n",
      "Wartość statystyki chi-kwadrat: 3.8838012376087088\n",
      "P-value: 0.42195999106490467\n",
      "Brak podstaw do odrzucenia H0.\n",
      "-----------------------------------------------\n",
      "Grafiki B:\n",
      "Podziel_uwg  1   2   3   4   5\n",
      "corr                          \n",
      "0            2   7  12   8   7\n",
      "1            4  17  30  19  17\n",
      "Wartość statystyki chi-kwadrat: 0.0596872529343794\n",
      "P-value: 0.9995634406045915\n",
      "Brak podstaw do odrzucenia H0.\n",
      "-----------------------------------------------\n",
      "Grafiki 1:\n",
      "Podziel_uwg  1   2   3   4   5\n",
      "corr                          \n",
      "0            0   1   4   0   3\n",
      "1            4  15  24  18  13\n",
      "Wartość statystyki chi-kwadrat: 4.724300193050193\n",
      "P-value: 0.3167731369795967\n",
      "Brak podstaw do odrzucenia H0.\n",
      "-----------------------------------------------\n",
      "Grafiki 2:\n",
      "Podziel_uwg  1   2   3   4   5\n",
      "corr                          \n",
      "0            1   3   8   7   4\n",
      "1            3  13  20  11  12\n",
      "Wartość statystyki chi-kwadrat: 1.8294878993110393\n",
      "P-value: 0.767083173311086\n",
      "Brak podstaw do odrzucenia H0.\n",
      "-----------------------------------------------\n",
      "Grafiki 3:\n",
      "Podziel_uwg  1   2   3  4   5\n",
      "corr                         \n",
      "0            2  10  16  9   4\n",
      "1            2   6  12  9  12\n",
      "Wartość statystyki chi-kwadrat: 5.571428571428571\n",
      "P-value: 0.23352183329305212\n",
      "Brak podstaw do odrzucenia H0.\n"
     ]
    }
   ],
   "source": [
    "# podzielność uwagi\n",
    "test_parametr(dfs, names, 'corr', 'Podziel_uwg')"
   ],
   "metadata": {
    "collapsed": false,
    "ExecuteTime": {
     "end_time": "2023-10-18T19:54:59.295113Z",
     "start_time": "2023-10-18T19:54:59.265181Z"
    }
   },
   "id": "bd0caecb7e4d85d4"
  },
  {
   "cell_type": "code",
   "execution_count": 186,
   "outputs": [
    {
     "name": "stdout",
     "output_type": "stream",
     "text": [
      "-----------------------------------------------\n",
      "Zsumowany wynik:\n",
      "Analit_myśl  2  3  4  5\n",
      "corr                   \n",
      "0            0  0  1  0\n",
      "2            0  2  0  1\n",
      "3            1  0  6  1\n",
      "4            0  4  4  0\n",
      "5            0  3  6  5\n",
      "6            0  3  2  2\n",
      "Wartość statystyki chi-kwadrat: 17.89539821776664\n",
      "P-value: 0.2682047319931148\n",
      "Brak podstaw do odrzucenia H0.\n",
      "-----------------------------------------------\n",
      "Wszystkie grafiki:\n",
      "Analit_myśl  2   3   4   5\n",
      "corr                      \n",
      "0            3  19  38  12\n",
      "1            3  53  76  42\n",
      "Wartość statystyki chi-kwadrat: 3.7390245849297576\n",
      "P-value: 0.29105870299635156\n",
      "Brak podstaw do odrzucenia H0.\n",
      "-----------------------------------------------\n",
      "Grafiki A:\n",
      "Analit_myśl  2   3   4   5\n",
      "corr                      \n",
      "0            2  10  20   4\n",
      "1            1  26  37  23\n",
      "Wartość statystyki chi-kwadrat: 5.7224630861956935\n",
      "P-value: 0.1259220286413105\n",
      "Brak podstaw do odrzucenia H0.\n",
      "-----------------------------------------------\n",
      "Grafiki B:\n",
      "Analit_myśl  2   3   4   5\n",
      "corr                      \n",
      "0            1   9  18   8\n",
      "1            2  27  39  19\n",
      "Wartość statystyki chi-kwadrat: 0.4894650019045059\n",
      "P-value: 0.9211997335523844\n",
      "Brak podstaw do odrzucenia H0.\n",
      "-----------------------------------------------\n",
      "Grafiki 1:\n",
      "Analit_myśl  2   3   4   5\n",
      "corr                      \n",
      "0            0   2   6   0\n",
      "1            2  22  32  18\n",
      "Wartość statystyki chi-kwadrat: 3.7884660976766233\n",
      "P-value: 0.2852305704991943\n",
      "Brak podstaw do odrzucenia H0.\n",
      "-----------------------------------------------\n",
      "Grafiki 2:\n",
      "Analit_myśl  2   3   4   5\n",
      "corr                      \n",
      "0            1   5  11   6\n",
      "1            1  19  27  12\n",
      "Wartość statystyki chi-kwadrat: 1.36094196434343\n",
      "P-value: 0.714715137884254\n",
      "Brak podstaw do odrzucenia H0.\n",
      "-----------------------------------------------\n",
      "Grafiki 3:\n",
      "Analit_myśl  2   3   4   5\n",
      "corr                      \n",
      "0            2  12  21   6\n",
      "1            0  12  17  12\n",
      "Wartość statystyki chi-kwadrat: 4.421052631578947\n",
      "P-value: 0.21944124046853966\n",
      "Brak podstaw do odrzucenia H0.\n"
     ]
    }
   ],
   "source": [
    "# analityczne myślenie\n",
    "test_parametr(dfs, names, 'corr', 'Analit_myśl')"
   ],
   "metadata": {
    "collapsed": false,
    "ExecuteTime": {
     "end_time": "2023-10-18T19:55:08.204397Z",
     "start_time": "2023-10-18T19:55:08.160149Z"
    }
   },
   "id": "31b4727d91968ad3"
  },
  {
   "cell_type": "code",
   "execution_count": 187,
   "outputs": [
    {
     "name": "stdout",
     "output_type": "stream",
     "text": [
      "-----------------------------------------------\n",
      "Zsumowany wynik:\n",
      "Spostrzeg  2  3  4  5\n",
      "corr                 \n",
      "0          0  0  0  1\n",
      "2          0  1  0  2\n",
      "3          1  4  2  1\n",
      "4          0  2  5  1\n",
      "5          2  1  8  3\n",
      "6          1  3  3  0\n",
      "Wartość statystyki chi-kwadrat: 18.425595238095237\n",
      "P-value: 0.24095198190252065\n",
      "Brak podstaw do odrzucenia H0.\n",
      "-----------------------------------------------\n",
      "Wszystkie grafiki:\n",
      "Spostrzeg   2   3   4   5\n",
      "corr                     \n",
      "0           5  21  24  22\n",
      "1          19  45  84  26\n",
      "Wartość statystyki chi-kwadrat: 9.984467520027865\n",
      "P-value: 0.018698629712990897\n",
      "Istnieją podstawy do odrzucenia H0, przyjmujemy hipotezę H1:\n",
      "-----------------------------------------------\n",
      "Grafiki A:\n",
      "Spostrzeg   2   3   4   5\n",
      "corr                     \n",
      "0           2  11  12  11\n",
      "1          10  22  42  13\n",
      "Wartość statystyki chi-kwadrat: 5.6600814176245215\n",
      "P-value: 0.12937138878510396\n",
      "Brak podstaw do odrzucenia H0.\n",
      "-----------------------------------------------\n",
      "Grafiki B:\n",
      "Spostrzeg  2   3   4   5\n",
      "corr                    \n",
      "0          3  10  12  11\n",
      "1          9  23  42  13\n",
      "Wartość statystyki chi-kwadrat: 4.598844043887148\n",
      "P-value: 0.20364126787730927\n",
      "Brak podstaw do odrzucenia H0.\n",
      "-----------------------------------------------\n",
      "Grafiki 1:\n",
      "Spostrzeg  2   3   4   5\n",
      "corr                    \n",
      "0          0   4   1   3\n",
      "1          8  18  35  13\n",
      "Wartość statystyki chi-kwadrat: 6.10001620939121\n",
      "P-value: 0.10684432511418308\n",
      "Brak podstaw do odrzucenia H0.\n",
      "-----------------------------------------------\n",
      "Grafiki 2:\n",
      "Spostrzeg  2   3   4  5\n",
      "corr                   \n",
      "0          2   5   7  9\n",
      "1          6  17  29  7\n",
      "Wartość statystyki chi-kwadrat: 7.971459249830656\n",
      "P-value: 0.046605254310022694\n",
      "Istnieją podstawy do odrzucenia H0, przyjmujemy hipotezę H1:\n",
      "-----------------------------------------------\n",
      "Grafiki 3:\n",
      "Spostrzeg  2   3   4   5\n",
      "corr                    \n",
      "0          3  12  16  10\n",
      "1          5  10  20   6\n",
      "Wartość statystyki chi-kwadrat: 2.1262626262626263\n",
      "P-value: 0.546617954371003\n",
      "Brak podstaw do odrzucenia H0.\n"
     ]
    }
   ],
   "source": [
    "# spostrzegawczość\n",
    "test_parametr(dfs, names, 'corr', 'Spostrzeg')"
   ],
   "metadata": {
    "collapsed": false,
    "ExecuteTime": {
     "end_time": "2023-10-18T19:55:15.882380Z",
     "start_time": "2023-10-18T19:55:15.847343Z"
    }
   },
   "id": "25ab038c1f9b0d1a"
  },
  {
   "cell_type": "code",
   "execution_count": 189,
   "outputs": [
    {
     "name": "stdout",
     "output_type": "stream",
     "text": [
      "Multiple Comparison of Means - Tukey HSD, FWER=0.05 \n",
      "====================================================\n",
      "group1 group2 meandiff p-adj   lower   upper  reject\n",
      "----------------------------------------------------\n",
      "     2      3  -0.1098 0.7346 -0.3869  0.1672  False\n",
      "     2      4  -0.0139 0.9991 -0.2762  0.2484  False\n",
      "     2      5    -0.25 0.1193 -0.5406  0.0406  False\n",
      "     3      4    0.096 0.5214 -0.0857  0.2776  False\n",
      "     3      5  -0.1402 0.3558 -0.3607  0.0804  False\n",
      "     4      5  -0.2361 0.0144 -0.4378 -0.0345   True\n",
      "----------------------------------------------------\n",
      "Multiple Comparison of Means - Tukey HSD, FWER=0.05 \n",
      "====================================================\n",
      "group1 group2 meandiff p-adj   lower   upper  reject\n",
      "----------------------------------------------------\n",
      "     2      3   0.0227 0.9993 -0.4516  0.4971  False\n",
      "     2      4   0.0556 0.9881 -0.3935  0.5046  False\n",
      "     2      5  -0.3125 0.3577   -0.81   0.185  False\n",
      "     3      4   0.0328 0.9925 -0.2781  0.3438  False\n",
      "     3      5  -0.3352 0.0997 -0.7127  0.0423  False\n",
      "     4      5  -0.3681 0.0321 -0.7133 -0.0228   True\n",
      "----------------------------------------------------\n"
     ]
    }
   ],
   "source": [
    "test_posthoc(df_all, 'corr', 'Spostrzeg')\n",
    "test_posthoc(df_2, 'corr', 'Spostrzeg')"
   ],
   "metadata": {
    "collapsed": false,
    "ExecuteTime": {
     "end_time": "2023-10-18T19:56:33.242723Z",
     "start_time": "2023-10-18T19:56:32.158664Z"
    }
   },
   "id": "b4a56f1c0a12a12"
  },
  {
   "cell_type": "code",
   "execution_count": 190,
   "outputs": [
    {
     "name": "stdout",
     "output_type": "stream",
     "text": [
      "-----------------------------------------------\n",
      "Zsumowany wynik:\n",
      "Czyt_ze_zroz  1  2  3  4  5\n",
      "corr                       \n",
      "0             0  0  0  1  0\n",
      "2             0  1  1  0  1\n",
      "3             1  2  2  2  1\n",
      "4             0  2  0  4  2\n",
      "5             1  2  2  6  3\n",
      "6             0  1  1  4  1\n",
      "Wartość statystyki chi-kwadrat: 9.773269724556489\n",
      "P-value: 0.9720992822107443\n",
      "Brak podstaw do odrzucenia H0.\n",
      "-----------------------------------------------\n",
      "Wszystkie grafiki:\n",
      "Czyt_ze_zroz  1   2   3   4   5\n",
      "corr                           \n",
      "0             4  16  12  26  14\n",
      "1             8  32  24  76  34\n",
      "Wartość statystyki chi-kwadrat: 1.46981350011269\n",
      "P-value: 0.8319748354538102\n",
      "Brak podstaw do odrzucenia H0.\n",
      "-----------------------------------------------\n",
      "Grafiki A:\n",
      "Czyt_ze_zroz  1   2   3   4   5\n",
      "corr                           \n",
      "0             2   8   7  11   8\n",
      "1             4  16  11  40  16\n",
      "Wartość statystyki chi-kwadrat: 2.6962944181504036\n",
      "P-value: 0.609863197379616\n",
      "Brak podstaw do odrzucenia H0.\n",
      "-----------------------------------------------\n",
      "Grafiki B:\n",
      "Czyt_ze_zroz  1   2   3   4   5\n",
      "corr                           \n",
      "0             2   8   5  15   6\n",
      "1             4  16  13  36  18\n",
      "Wartość statystyki chi-kwadrat: 0.47049432799939894\n",
      "P-value: 0.9763090616682655\n",
      "Brak podstaw do odrzucenia H0.\n",
      "-----------------------------------------------\n",
      "Grafiki 1:\n",
      "Czyt_ze_zroz  1   2   3   4   5\n",
      "corr                           \n",
      "0             0   1   2   5   0\n",
      "1             4  15  10  29  16\n",
      "Wartość statystyki chi-kwadrat: 3.982603007419184\n",
      "P-value: 0.4083653965892865\n",
      "Brak podstaw do odrzucenia H0.\n",
      "-----------------------------------------------\n",
      "Grafiki 2:\n",
      "Czyt_ze_zroz  1   2  3   4   5\n",
      "corr                          \n",
      "0             2   6  3   8   4\n",
      "1             2  10  9  26  12\n",
      "Wartość statystyki chi-kwadrat: 2.136286791798517\n",
      "P-value: 0.7107090812895864\n",
      "Brak podstaw do odrzucenia H0.\n",
      "-----------------------------------------------\n",
      "Grafiki 3:\n",
      "Czyt_ze_zroz  1  2  3   4   5\n",
      "corr                         \n",
      "0             2  9  7  13  10\n",
      "1             2  7  5  21   6\n",
      "Wartość statystyki chi-kwadrat: 3.465686274509804\n",
      "P-value: 0.483114966504091\n",
      "Brak podstaw do odrzucenia H0.\n"
     ]
    }
   ],
   "source": [
    "# czytanie ze zrozumieniem\n",
    "test_parametr(dfs, names, 'corr', 'Czyt_ze_zroz')"
   ],
   "metadata": {
    "collapsed": false,
    "ExecuteTime": {
     "end_time": "2023-10-18T19:56:53.686844Z",
     "start_time": "2023-10-18T19:56:53.652408Z"
    }
   },
   "id": "9959c3197b3dc070"
  },
  {
   "cell_type": "code",
   "execution_count": 191,
   "outputs": [
    {
     "name": "stdout",
     "output_type": "stream",
     "text": [
      "-----------------------------------------------\n",
      "Zsumowany wynik:\n",
      "Wzrokowiec  2  3  4  5\n",
      "corr                  \n",
      "0           0  0  1  0\n",
      "2           0  0  1  2\n",
      "3           0  2  3  3\n",
      "4           1  2  3  2\n",
      "5           0  3  4  7\n",
      "6           1  2  3  1\n",
      "Wartość statystyki chi-kwadrat: 9.054166666666665\n",
      "P-value: 0.8746682389600227\n",
      "Brak podstaw do odrzucenia H0.\n",
      "-----------------------------------------------\n",
      "Wszystkie grafiki:\n",
      "Wzrokowiec   2   3   4   5\n",
      "corr                      \n",
      "0            2  13  29  28\n",
      "1           10  41  61  62\n",
      "Wartość statystyki chi-kwadrat: 2.1512345679012346\n",
      "P-value: 0.5416173965281323\n",
      "Brak podstaw do odrzucenia H0.\n",
      "-----------------------------------------------\n",
      "Grafiki A:\n",
      "Wzrokowiec  2   3   4   5\n",
      "corr                     \n",
      "0           1   6  14  15\n",
      "1           5  21  31  30\n",
      "Wartość statystyki chi-kwadrat: 1.5407726692209454\n",
      "P-value: 0.6728924893506323\n",
      "Brak podstaw do odrzucenia H0.\n",
      "-----------------------------------------------\n",
      "Grafiki B:\n",
      "Wzrokowiec  2   3   4   5\n",
      "corr                     \n",
      "0           1   7  15  13\n",
      "1           5  20  30  32\n",
      "Wartość statystyki chi-kwadrat: 0.9682737335036186\n",
      "P-value: 0.808928130298856\n",
      "Brak podstaw do odrzucenia H0.\n",
      "-----------------------------------------------\n",
      "Grafiki 1:\n",
      "Wzrokowiec  2   3   4   5\n",
      "corr                     \n",
      "0           0   0   5   3\n",
      "1           4  18  25  27\n",
      "Wartość statystyki chi-kwadrat: 4.007657657657659\n",
      "P-value: 0.2606384276446091\n",
      "Brak podstaw do odrzucenia H0.\n",
      "-----------------------------------------------\n",
      "Grafiki 2:\n",
      "Wzrokowiec  2   3   4   5\n",
      "corr                     \n",
      "0           1   4  10   8\n",
      "1           3  14  20  22\n",
      "Wartość statystyki chi-kwadrat: 0.7647424875133058\n",
      "P-value: 0.8578802190976651\n",
      "Brak podstaw do odrzucenia H0.\n",
      "-----------------------------------------------\n",
      "Grafiki 3:\n",
      "Wzrokowiec  2  3   4   5\n",
      "corr                    \n",
      "0           1  9  14  17\n",
      "1           3  9  16  13\n",
      "Wartość statystyki chi-kwadrat: 1.6666666666666665\n",
      "P-value: 0.6443698056370253\n",
      "Brak podstaw do odrzucenia H0.\n"
     ]
    }
   ],
   "source": [
    "# wzrokowiec\n",
    "test_parametr(dfs, names, 'corr', 'Wzrokowiec')"
   ],
   "metadata": {
    "collapsed": false,
    "ExecuteTime": {
     "end_time": "2023-10-18T19:57:02.176871Z",
     "start_time": "2023-10-18T19:57:02.147189Z"
    }
   },
   "id": "aeff81dbf1e2ac90"
  },
  {
   "cell_type": "code",
   "execution_count": 192,
   "outputs": [
    {
     "name": "stdout",
     "output_type": "stream",
     "text": [
      "-----------------------------------------------\n",
      "Zsumowany wynik:\n",
      "Słuchowiec  1  2  3  4  5\n",
      "corr                     \n",
      "0           0  0  0  0  1\n",
      "2           1  1  1  0  0\n",
      "3           1  2  3  2  0\n",
      "4           1  1  2  1  3\n",
      "5           0  4  6  2  2\n",
      "6           1  1  3  2  0\n",
      "Wartość statystyki chi-kwadrat: 17.716307634164778\n",
      "P-value: 0.6060902624084501\n",
      "Brak podstaw do odrzucenia H0.\n",
      "-----------------------------------------------\n",
      "Wszystkie grafiki:\n",
      "Słuchowiec   1   2   3   4   5\n",
      "corr                          \n",
      "0            9  16  23  10  14\n",
      "1           15  38  67  32  22\n",
      "Wartość statystyki chi-kwadrat: 3.6022893480508427\n",
      "P-value: 0.4624963896449312\n",
      "Brak podstaw do odrzucenia H0.\n",
      "-----------------------------------------------\n",
      "Grafiki A:\n",
      "Słuchowiec  1   2   3   4   5\n",
      "corr                         \n",
      "0           4   9  12   5   6\n",
      "1           8  18  33  16  12\n",
      "Wartość statystyki chi-kwadrat: 0.9043787629994526\n",
      "P-value: 0.9239317759928483\n",
      "Brak podstaw do odrzucenia H0.\n",
      "-----------------------------------------------\n",
      "Grafiki B:\n",
      "Słuchowiec  1   2   3   4   5\n",
      "corr                         \n",
      "0           5   7  11   5   8\n",
      "1           7  20  34  16  10\n",
      "Wartość statystyki chi-kwadrat: 3.847381104421334\n",
      "P-value: 0.4270544116069174\n",
      "Brak podstaw do odrzucenia H0.\n",
      "-----------------------------------------------\n",
      "Grafiki 1:\n",
      "Słuchowiec  1   2   3   4   5\n",
      "corr                         \n",
      "0           1   2   2   1   2\n",
      "1           7  16  28  13  10\n",
      "Wartość statystyki chi-kwadrat: 1.1906665594165595\n",
      "P-value: 0.879632904514229\n",
      "Brak podstaw do odrzucenia H0.\n",
      "-----------------------------------------------\n",
      "Grafiki 2:\n",
      "Słuchowiec  1   2   3   4  5\n",
      "corr                        \n",
      "0           6   2   6   4  5\n",
      "1           2  16  24  10  7\n",
      "Wartość statystyki chi-kwadrat: 13.364721432665425\n",
      "P-value: 0.00962459159432438\n",
      "Istnieją podstawy do odrzucenia H0, przyjmujemy hipotezę H1:\n",
      "-----------------------------------------------\n",
      "Grafiki 3:\n",
      "Słuchowiec  1   2   3  4  5\n",
      "corr                       \n",
      "0           2  12  15  5  7\n",
      "1           6   6  15  9  5\n",
      "Wartość statystyki chi-kwadrat: 5.476190476190476\n",
      "P-value: 0.24183029696457342\n",
      "Brak podstaw do odrzucenia H0.\n"
     ]
    }
   ],
   "source": [
    "# słuchowiec\n",
    "test_parametr(dfs, names, 'corr', 'Słuchowiec')"
   ],
   "metadata": {
    "collapsed": false,
    "ExecuteTime": {
     "end_time": "2023-10-18T19:57:09.129369Z",
     "start_time": "2023-10-18T19:57:09.067872Z"
    }
   },
   "id": "ef47390fb154b0a8"
  },
  {
   "cell_type": "code",
   "execution_count": 193,
   "outputs": [
    {
     "name": "stdout",
     "output_type": "stream",
     "text": [
      "Multiple Comparison of Means - Tukey HSD, FWER=0.05\n",
      "===================================================\n",
      "group1 group2 meandiff p-adj   lower  upper  reject\n",
      "---------------------------------------------------\n",
      "     1      2   0.6389 0.0059  0.1354 1.1423   True\n",
      "     1      3     0.55  0.014  0.0786 1.0214   True\n",
      "     1      4   0.4643 0.1083 -0.0608 0.9894  False\n",
      "     1      5   0.3333 0.4269 -0.2075 0.8741  False\n",
      "     2      3  -0.0889 0.9552 -0.4421 0.2644  False\n",
      "     2      4  -0.1746 0.7765 -0.5968 0.2476  False\n",
      "     2      5  -0.3056 0.3089 -0.7471  0.136  False\n",
      "     3      4  -0.0857 0.9707 -0.4692 0.2978  False\n",
      "     3      5  -0.2167 0.5685 -0.6214  0.188  False\n",
      "     4      5   -0.131 0.9343 -0.5971 0.3351  False\n",
      "---------------------------------------------------\n"
     ]
    }
   ],
   "source": [
    "test_posthoc(df_2, 'corr', 'Słuchowiec')"
   ],
   "metadata": {
    "collapsed": false,
    "ExecuteTime": {
     "end_time": "2023-10-18T19:57:53.287992Z",
     "start_time": "2023-10-18T19:57:52.652894Z"
    }
   },
   "id": "f03746be3afb9ad2"
  },
  {
   "cell_type": "code",
   "execution_count": 194,
   "outputs": [
    {
     "name": "stdout",
     "output_type": "stream",
     "text": [
      "-----------------------------------------------\n",
      "Zsumowany wynik:\n",
      "Kinestetyk  1  2  3  4  5\n",
      "corr                     \n",
      "0           0  1  0  0  0\n",
      "2           1  0  0  2  0\n",
      "3           3  3  0  2  0\n",
      "4           1  2  1  3  1\n",
      "5           3  7  2  2  0\n",
      "6           2  4  0  1  0\n",
      "Wartość statystyki chi-kwadrat: 15.379306722689075\n",
      "P-value: 0.7543078440196341\n",
      "Brak podstaw do odrzucenia H0.\n",
      "-----------------------------------------------\n",
      "Wszystkie grafiki:\n",
      "Kinestetyk   1   2   3   4  5\n",
      "corr                         \n",
      "0           18  26   4  22  2\n",
      "1           42  76  14  38  4\n",
      "Wartość statystyki chi-kwadrat: 2.784771993088423\n",
      "P-value: 0.5944641879049541\n",
      "Brak podstaw do odrzucenia H0.\n",
      "-----------------------------------------------\n",
      "Grafiki A:\n",
      "Kinestetyk   1   2  3   4  5\n",
      "corr                        \n",
      "0            8  13  3  11  1\n",
      "1           22  38  6  19  2\n",
      "Wartość statystyki chi-kwadrat: 1.3387142213207124\n",
      "P-value: 0.854773701210176\n",
      "Brak podstaw do odrzucenia H0.\n",
      "-----------------------------------------------\n",
      "Grafiki B:\n",
      "Kinestetyk   1   2  3   4  5\n",
      "corr                        \n",
      "0           10  13  1  11  1\n",
      "1           20  38  8  19  2\n",
      "Wartość statystyki chi-kwadrat: 2.841523927578694\n",
      "P-value: 0.5846864185656957\n",
      "Brak podstaw do odrzucenia H0.\n",
      "-----------------------------------------------\n",
      "Grafiki 1:\n",
      "Kinestetyk   1   2  3   4  5\n",
      "corr                        \n",
      "0            2   3  0   3  0\n",
      "1           18  31  6  17  2\n",
      "Wartość statystyki chi-kwadrat: 1.5244634340222574\n",
      "P-value: 0.8222994217699987\n",
      "Brak podstaw do odrzucenia H0.\n",
      "-----------------------------------------------\n",
      "Grafiki 2:\n",
      "Kinestetyk   1   2  3   4  5\n",
      "corr                        \n",
      "0            5   9  1   6  2\n",
      "1           15  25  5  14  0\n",
      "Wartość statystyki chi-kwadrat: 5.687404453306746\n",
      "P-value: 0.2237409872699826\n",
      "Brak podstaw do odrzucenia H0.\n",
      "-----------------------------------------------\n",
      "Grafiki 3:\n",
      "Kinestetyk   1   2  3   4  5\n",
      "corr                        \n",
      "0           11  14  3  13  0\n",
      "1            9  20  3   7  2\n",
      "Wartość statystyki chi-kwadrat: 5.0588235294117645\n",
      "P-value: 0.2813149140623476\n",
      "Brak podstaw do odrzucenia H0.\n"
     ]
    }
   ],
   "source": [
    "# kinestetyk\n",
    "test_parametr(dfs, names, 'corr', 'Kinestetyk')"
   ],
   "metadata": {
    "collapsed": false,
    "ExecuteTime": {
     "end_time": "2023-10-18T19:58:17.658054Z",
     "start_time": "2023-10-18T19:58:17.625248Z"
    }
   },
   "id": "e88effa94ec3ba42"
  },
  {
   "cell_type": "code",
   "execution_count": 242,
   "outputs": [
    {
     "name": "stdout",
     "output_type": "stream",
     "text": [
      "-----------------------------------------------\n",
      "Zsumowany wynik:\n",
      "MAT   NO_VAL  VAL\n",
      "corr             \n",
      "0          1    0\n",
      "2          1    2\n",
      "3          3    5\n",
      "4          4    4\n",
      "5          6    8\n",
      "6          3    4\n",
      "Wartość statystyki chi-kwadrat: 1.6770905221992185\n",
      "P-value: 0.8917732287271253\n",
      "Brak podstaw do odrzucenia H0.\n",
      "-----------------------------------------------\n",
      "Wszystkie grafiki:\n",
      "MAT   NO_VAL  VAL\n",
      "corr             \n",
      "0         33   39\n",
      "1         75   99\n",
      "Wartość statystyki chi-kwadrat: 0.06318860245803029\n",
      "P-value: 0.8015254063424021\n",
      "Brak podstaw do odrzucenia H0.\n",
      "-----------------------------------------------\n",
      "Grafiki A:\n",
      "MAT   NO_VAL  VAL\n",
      "corr             \n",
      "0         17   19\n",
      "1         37   50\n",
      "Wartość statystyki chi-kwadrat: 0.07705001665833755\n",
      "P-value: 0.7813356714061968\n",
      "Brak podstaw do odrzucenia H0.\n",
      "-----------------------------------------------\n",
      "Grafiki B:\n",
      "MAT   NO_VAL  VAL\n",
      "corr             \n",
      "0         16   20\n",
      "1         38   49\n",
      "Wartość statystyki chi-kwadrat: 0.0\n",
      "P-value: 1.0\n",
      "Brak podstaw do odrzucenia H0.\n",
      "-----------------------------------------------\n",
      "Grafiki 1:\n",
      "MAT   NO_VAL  VAL\n",
      "corr             \n",
      "0          6    2\n",
      "1         30   44\n",
      "Wartość statystyki chi-kwadrat: 2.222322186316751\n",
      "P-value: 0.13602832177924143\n",
      "Brak podstaw do odrzucenia H0.\n",
      "-----------------------------------------------\n",
      "Grafiki 2:\n",
      "MAT   NO_VAL  VAL\n",
      "corr             \n",
      "0          7   16\n",
      "1         29   30\n",
      "Wartość statystyki chi-kwadrat: 1.6555140815738034\n",
      "P-value: 0.19821009362087644\n",
      "Brak podstaw do odrzucenia H0.\n",
      "-----------------------------------------------\n",
      "Grafiki 3:\n",
      "MAT   NO_VAL  VAL\n",
      "corr             \n",
      "0         20   21\n",
      "1         16   25\n",
      "Wartość statystyki chi-kwadrat: 0.44565217391304346\n",
      "P-value: 0.5044069320893072\n",
      "Brak podstaw do odrzucenia H0.\n"
     ]
    }
   ],
   "source": [
    "# MAT - pisał / nie pisał matury rozszerzonej\n",
    "test_parametr(dfs, names, 'corr', 'MAT')"
   ],
   "metadata": {
    "collapsed": false,
    "ExecuteTime": {
     "end_time": "2023-10-18T21:12:36.143120Z",
     "start_time": "2023-10-18T21:12:36.098747Z"
    }
   },
   "id": "c0e8a3398eac8337"
  },
  {
   "cell_type": "code",
   "execution_count": 243,
   "outputs": [
    {
     "name": "stdout",
     "output_type": "stream",
     "text": [
      "-----------------------------------------------\n",
      "Zsumowany wynik:\n",
      "POL   NO_VAL  VAL\n",
      "corr             \n",
      "0          1    0\n",
      "2          3    0\n",
      "3          6    2\n",
      "4          5    3\n",
      "5         10    4\n",
      "6          7    0\n",
      "Wartość statystyki chi-kwadrat: 4.624193948412698\n",
      "P-value: 0.46344058010173084\n",
      "Brak podstaw do odrzucenia H0.\n",
      "-----------------------------------------------\n",
      "Wszystkie grafiki:\n",
      "POL   NO_VAL  VAL\n",
      "corr             \n",
      "0         56   16\n",
      "1        136   38\n",
      "Wartość statystyki chi-kwadrat: 0.0\n",
      "P-value: 1.0\n",
      "Brak podstaw do odrzucenia H0.\n",
      "-----------------------------------------------\n",
      "Grafiki A:\n",
      "POL   NO_VAL  VAL\n",
      "corr             \n",
      "0         27    9\n",
      "1         69   18\n",
      "Wartość statystyki chi-kwadrat: 0.08185082082801189\n",
      "P-value: 0.7748047294825963\n",
      "Brak podstaw do odrzucenia H0.\n",
      "-----------------------------------------------\n",
      "Grafiki B:\n",
      "POL   NO_VAL  VAL\n",
      "corr             \n",
      "0         29    7\n",
      "1         67   20\n",
      "Wartość statystyki chi-kwadrat: 0.03712434147509581\n",
      "P-value: 0.8472121097197656\n",
      "Brak podstaw do odrzucenia H0.\n",
      "-----------------------------------------------\n",
      "Grafiki 1:\n",
      "POL   NO_VAL  VAL\n",
      "corr             \n",
      "0          7    1\n",
      "1         57   17\n",
      "Wartość statystyki chi-kwadrat: 0.053024704391891934\n",
      "P-value: 0.817881242798534\n",
      "Brak podstaw do odrzucenia H0.\n",
      "-----------------------------------------------\n",
      "Grafiki 2:\n",
      "POL   NO_VAL  VAL\n",
      "corr             \n",
      "0         16    7\n",
      "1         48   11\n",
      "Wartość statystyki chi-kwadrat: 0.7428060775403261\n",
      "P-value: 0.38876347152441415\n",
      "Brak podstaw do odrzucenia H0.\n",
      "-----------------------------------------------\n",
      "Grafiki 3:\n",
      "POL   NO_VAL  VAL\n",
      "corr             \n",
      "0         33    8\n",
      "1         31   10\n",
      "Wartość statystyki chi-kwadrat: 0.07118055555555555\n",
      "P-value: 0.789625584927334\n",
      "Brak podstaw do odrzucenia H0.\n"
     ]
    }
   ],
   "source": [
    "# POL - pisał / nie pisał matury rozszerzonej\n",
    "test_parametr(dfs, names, 'corr', 'POL')"
   ],
   "metadata": {
    "collapsed": false,
    "ExecuteTime": {
     "end_time": "2023-10-18T21:13:03.148544Z",
     "start_time": "2023-10-18T21:13:03.115215Z"
    }
   },
   "id": "3386b71755ced28c"
  },
  {
   "cell_type": "code",
   "execution_count": 244,
   "outputs": [
    {
     "name": "stdout",
     "output_type": "stream",
     "text": [
      "-----------------------------------------------\n",
      "Zsumowany wynik:\n",
      "HIST  NO_VAL  VAL\n",
      "corr             \n",
      "0          1    0\n",
      "2          3    0\n",
      "3          8    0\n",
      "4          7    1\n",
      "5         12    2\n",
      "6          6    1\n",
      "Wartość statystyki chi-kwadrat: 1.8550916988416986\n",
      "P-value: 0.8688104858884139\n",
      "Brak podstaw do odrzucenia H0.\n",
      "-----------------------------------------------\n",
      "Wszystkie grafiki:\n",
      "HIST  NO_VAL  VAL\n",
      "corr             \n",
      "0         68    4\n",
      "1        154   20\n",
      "Wartość statystyki chi-kwadrat: 1.4212561160298232\n",
      "P-value: 0.23319676316900462\n",
      "Brak podstaw do odrzucenia H0.\n",
      "-----------------------------------------------\n",
      "Grafiki A:\n",
      "HIST  NO_VAL  VAL\n",
      "corr             \n",
      "0         35    1\n",
      "1         76   11\n",
      "Wartość statystyki chi-kwadrat: 1.80604904473439\n",
      "P-value: 0.17898291181029136\n",
      "Brak podstaw do odrzucenia H0.\n",
      "-----------------------------------------------\n",
      "Grafiki B:\n",
      "HIST  NO_VAL  VAL\n",
      "corr             \n",
      "0         33    3\n",
      "1         78    9\n",
      "Wartość statystyki chi-kwadrat: 6.633788961375382e-05\n",
      "P-value: 0.9935014556753952\n",
      "Brak podstaw do odrzucenia H0.\n",
      "-----------------------------------------------\n",
      "Grafiki 1:\n",
      "HIST  NO_VAL  VAL\n",
      "corr             \n",
      "0          8    0\n",
      "1         66    8\n",
      "Wartość statystyki chi-kwadrat: 0.12377305514974432\n",
      "P-value: 0.7249777962749717\n",
      "Brak podstaw do odrzucenia H0.\n",
      "-----------------------------------------------\n",
      "Grafiki 2:\n",
      "HIST  NO_VAL  VAL\n",
      "corr             \n",
      "0         21    2\n",
      "1         53    6\n",
      "Wartość statystyki chi-kwadrat: 0.0\n",
      "P-value: 1.0\n",
      "Brak podstaw do odrzucenia H0.\n",
      "-----------------------------------------------\n",
      "Grafiki 3:\n",
      "HIST  NO_VAL  VAL\n",
      "corr             \n",
      "0         39    2\n",
      "1         35    6\n",
      "Wartość statystyki chi-kwadrat: 1.2466216216216217\n",
      "P-value: 0.2641987115369144\n",
      "Brak podstaw do odrzucenia H0.\n"
     ]
    }
   ],
   "source": [
    "# HIST - pisał / nie pisał matury rozszerzonej\n",
    "test_parametr(dfs, names, 'corr', 'HIST')"
   ],
   "metadata": {
    "collapsed": false,
    "ExecuteTime": {
     "end_time": "2023-10-18T21:13:10.558478Z",
     "start_time": "2023-10-18T21:13:10.517141Z"
    }
   },
   "id": "802e9e318f748304"
  },
  {
   "cell_type": "code",
   "execution_count": 245,
   "outputs": [
    {
     "name": "stdout",
     "output_type": "stream",
     "text": [
      "-----------------------------------------------\n",
      "Zsumowany wynik:\n",
      "Typ_uczenia  Brak dominującego  Kinestetyk  Słuchowiec  Wzrokowiec\n",
      "corr                                                              \n",
      "0                            0           0           1           0\n",
      "2                            1           0           0           2\n",
      "3                            1           0           1           6\n",
      "4                            2           2           2           2\n",
      "5                            3           0           2           9\n",
      "6                            3           0           0           4\n",
      "Wartość statystyki chi-kwadrat: 19.820910973084885\n",
      "P-value: 0.1789109382341189\n",
      "Brak podstaw do odrzucenia H0.\n",
      "-----------------------------------------------\n",
      "Wszystkie grafiki:\n",
      "Typ_uczenia  Brak dominującego  Kinestetyk  Słuchowiec  Wzrokowiec\n",
      "corr                                                              \n",
      "0                           14           4          15          39\n",
      "1                           46           8          21          99\n",
      "Wartość statystyki chi-kwadrat: 3.8574525237381314\n",
      "P-value: 0.2772737918542681\n",
      "Brak podstaw do odrzucenia H0.\n",
      "-----------------------------------------------\n",
      "Grafiki A:\n",
      "Typ_uczenia  Brak dominującego  Kinestetyk  Słuchowiec  Wzrokowiec\n",
      "corr                                                              \n",
      "0                            7           2           6          21\n",
      "1                           23           4          12          48\n",
      "Wartość statystyki chi-kwadrat: 0.7473638180909549\n",
      "P-value: 0.8620109153233075\n",
      "Brak podstaw do odrzucenia H0.\n",
      "-----------------------------------------------\n",
      "Grafiki B:\n",
      "Typ_uczenia  Brak dominującego  Kinestetyk  Słuchowiec  Wzrokowiec\n",
      "corr                                                              \n",
      "0                            7           2           9          18\n",
      "1                           23           4           9          51\n",
      "Wartość statystyki chi-kwadrat: 4.632733633183408\n",
      "P-value: 0.2007519439952483\n",
      "Brak podstaw do odrzucenia H0.\n",
      "-----------------------------------------------\n",
      "Grafiki 1:\n",
      "Typ_uczenia  Brak dominującego  Kinestetyk  Słuchowiec  Wzrokowiec\n",
      "corr                                                              \n",
      "0                            1           0           2           5\n",
      "1                           19           4          10          41\n",
      "Wartość statystyki chi-kwadrat: 1.661961417939679\n",
      "P-value: 0.645423486352652\n",
      "Brak podstaw do odrzucenia H0.\n",
      "-----------------------------------------------\n",
      "Grafiki 2:\n",
      "Typ_uczenia  Brak dominującego  Kinestetyk  Słuchowiec  Wzrokowiec\n",
      "corr                                                              \n",
      "0                            3           2           7          11\n",
      "1                           17           2           5          35\n",
      "Wartość statystyki chi-kwadrat: 8.485760362265442\n",
      "P-value: 0.03697010558185149\n",
      "Istnieją podstawy do odrzucenia H0, przyjmujemy hipotezę H1:\n",
      "-----------------------------------------------\n",
      "Grafiki 3:\n",
      "Typ_uczenia  Brak dominującego  Kinestetyk  Słuchowiec  Wzrokowiec\n",
      "corr                                                              \n",
      "0                           10           2           6          23\n",
      "1                           10           2           6          23\n",
      "Wartość statystyki chi-kwadrat: 0.0\n",
      "P-value: 1.0\n",
      "Brak podstaw do odrzucenia H0.\n"
     ]
    }
   ],
   "source": [
    "# dominujący typ uczenia poznawczego\n",
    "test_parametr(dfs, names, 'corr', 'Typ_uczenia')"
   ],
   "metadata": {
    "collapsed": false,
    "ExecuteTime": {
     "end_time": "2023-10-18T21:13:19.633136Z",
     "start_time": "2023-10-18T21:13:19.581243Z"
    }
   },
   "id": "2b183ae5dc8ad014"
  },
  {
   "cell_type": "code",
   "execution_count": 246,
   "outputs": [
    {
     "name": "stdout",
     "output_type": "stream",
     "text": [
      "        Multiple Comparison of Means - Tukey HSD, FWER=0.05        \n",
      "===================================================================\n",
      "      group1        group2   meandiff p-adj   lower   upper  reject\n",
      "-------------------------------------------------------------------\n",
      "Brak dominującego Kinestetyk    -0.35 0.4633 -0.9771  0.2771  False\n",
      "Brak dominującego Słuchowiec  -0.4333 0.0393 -0.8514 -0.0153   True\n",
      "Brak dominującego Wzrokowiec  -0.0891 0.8708 -0.3958  0.2175  False\n",
      "       Kinestetyk Słuchowiec  -0.0833 0.9874 -0.7444  0.5777  False\n",
      "       Kinestetyk Wzrokowiec   0.2609 0.6615  -0.336  0.8577  False\n",
      "       Słuchowiec Wzrokowiec   0.3442 0.0789 -0.0269  0.7153  False\n",
      "-------------------------------------------------------------------\n"
     ]
    }
   ],
   "source": [
    "test_posthoc(df_2, 'corr', 'Typ_uczenia')"
   ],
   "metadata": {
    "collapsed": false,
    "ExecuteTime": {
     "end_time": "2023-10-18T21:14:22.095315Z",
     "start_time": "2023-10-18T21:14:21.559297Z"
    }
   },
   "id": "ecc8d582e7af0203"
  },
  {
   "cell_type": "markdown",
   "source": [
    "Podsumowanie:\n",
    "Istotne statystycznie:\n",
    "- rok urodzenia: dla grafik 1 (2001 vs 2003 oraz 2001 vs 2002 --> na korzyść 2003, 2002, generalnie młodsi lepiej)\n",
    "- kierunek studiów: dla grafik 3 (geografia vs geografia w ramach MISMap --> na korzyść MISMaP)\n",
    "- ilość snu: dla grafik 2 (bardzo słabo się różnicuje w postHoc)\n",
    "- matura podstawowa j.pol: wszystkie grafiki (30 - 49% vs 70 - 89%); generalnie lepsze wyniki matury skutkowały większym prawdopodobieństwem poprawnej odpowiedzi\n",
    "- matura podstawowa mat: grafiki 3 (bardzo słabo się różnicuje w postHoc), ale generalnie lepsze wyniki matury skutkowały większym prawdopodobieństwem poprawnej odpowiedzi\n",
    "- samopoczucie: zsumowane grafiki, grafiki wszystkie, grafiki A, grafiki 3 --> test postHoc wykazuje że różnice istotne statystycznie nie są dla skrajnych wartości sampoczucia, ale dla sąsiednich np. 3-4 \n",
    "- spostrzegawczość: wszystkie grafiki, grafiki 2 (co się super zgadza bo to zadanie było proste, ale trzeba było to zauważyć!!!)\n",
    "- słuchowiec: grafiki 2\n",
    "- dominujący typ uczenia poznawczego: grafiki 2 (brak dominującego vs słuchowiec)\n"
   ],
   "metadata": {
    "collapsed": false
   },
   "id": "1f73f8d892ef596a"
  },
  {
   "cell_type": "code",
   "execution_count": 247,
   "outputs": [],
   "source": [
    "# TODO: trudność analogicznie - to będzie proste, czas - inny zestaw testów"
   ],
   "metadata": {
    "collapsed": false,
    "ExecuteTime": {
     "end_time": "2023-10-18T21:15:30.565129Z",
     "start_time": "2023-10-18T21:15:30.491163Z"
    }
   },
   "id": "2eccf5c472a0f94e"
  },
  {
   "cell_type": "code",
   "execution_count": null,
   "outputs": [],
   "source": [],
   "metadata": {
    "collapsed": false
   },
   "id": "333220f7a339650b"
  }
 ],
 "metadata": {
  "kernelspec": {
   "display_name": "Python 3",
   "language": "python",
   "name": "python3"
  },
  "language_info": {
   "codemirror_mode": {
    "name": "ipython",
    "version": 2
   },
   "file_extension": ".py",
   "mimetype": "text/x-python",
   "name": "python",
   "nbconvert_exporter": "python",
   "pygments_lexer": "ipython2",
   "version": "2.7.6"
  }
 },
 "nbformat": 4,
 "nbformat_minor": 5
}
