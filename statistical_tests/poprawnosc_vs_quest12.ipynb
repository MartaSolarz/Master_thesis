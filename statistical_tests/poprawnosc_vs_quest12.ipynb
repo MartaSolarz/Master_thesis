{
 "cells": [
  {
   "cell_type": "markdown",
   "source": [
    "# Temat testów:\n",
    "### Czy istnieje istotna statystycznie różnica w poprawności odpowiedzi w zależności od odpowiedzi na pytania dotyczące preferowanego typu grafiki i formy graficznej? (grupy: wszystkie grafiki, grafiki A, grafiki B, grafiki 1,2,3)"
   ],
   "metadata": {
    "collapsed": false
   },
   "id": "fb4ed10b0fd535f2"
  },
  {
   "cell_type": "code",
   "execution_count": 1,
   "outputs": [],
   "source": [
    "from scipy import stats\n",
    "import seaborn as sns\n",
    "import pandas as pd\n",
    "import matplotlib.pyplot as plt\n",
    "import numpy as np"
   ],
   "metadata": {
    "collapsed": false,
    "ExecuteTime": {
     "end_time": "2023-10-18T16:18:55.594791Z",
     "start_time": "2023-10-18T16:18:55.591685Z"
    }
   },
   "id": "initial_id"
  },
  {
   "cell_type": "code",
   "execution_count": 2,
   "outputs": [
    {
     "data": {
      "text/plain": "   ID Quest1_before Quest2_before  1a_corr  1b_corr  2a_corr  2b_corr  \\\n0   1             B        wykres        1        1        0        0   \n1   2             B        wykres        1        1        1        1   \n2   3             B          mapa        1        1        1        1   \n3   4             B          mapa        1        1        1        1   \n4   5             B        tabela        1        1        1        1   \n\n   3a_corr  3b_corr Quest1_after Quest2_after  \n0        1        1            B       wykres  \n1        0        1            B       wykres  \n2        0        0            B         mapa  \n3        1        0            B       wykres  \n4        1        1            B       tabela  ",
      "text/html": "<div>\n<style scoped>\n    .dataframe tbody tr th:only-of-type {\n        vertical-align: middle;\n    }\n\n    .dataframe tbody tr th {\n        vertical-align: top;\n    }\n\n    .dataframe thead th {\n        text-align: right;\n    }\n</style>\n<table border=\"1\" class=\"dataframe\">\n  <thead>\n    <tr style=\"text-align: right;\">\n      <th></th>\n      <th>ID</th>\n      <th>Quest1_before</th>\n      <th>Quest2_before</th>\n      <th>1a_corr</th>\n      <th>1b_corr</th>\n      <th>2a_corr</th>\n      <th>2b_corr</th>\n      <th>3a_corr</th>\n      <th>3b_corr</th>\n      <th>Quest1_after</th>\n      <th>Quest2_after</th>\n    </tr>\n  </thead>\n  <tbody>\n    <tr>\n      <th>0</th>\n      <td>1</td>\n      <td>B</td>\n      <td>wykres</td>\n      <td>1</td>\n      <td>1</td>\n      <td>0</td>\n      <td>0</td>\n      <td>1</td>\n      <td>1</td>\n      <td>B</td>\n      <td>wykres</td>\n    </tr>\n    <tr>\n      <th>1</th>\n      <td>2</td>\n      <td>B</td>\n      <td>wykres</td>\n      <td>1</td>\n      <td>1</td>\n      <td>1</td>\n      <td>1</td>\n      <td>0</td>\n      <td>1</td>\n      <td>B</td>\n      <td>wykres</td>\n    </tr>\n    <tr>\n      <th>2</th>\n      <td>3</td>\n      <td>B</td>\n      <td>mapa</td>\n      <td>1</td>\n      <td>1</td>\n      <td>1</td>\n      <td>1</td>\n      <td>0</td>\n      <td>0</td>\n      <td>B</td>\n      <td>mapa</td>\n    </tr>\n    <tr>\n      <th>3</th>\n      <td>4</td>\n      <td>B</td>\n      <td>mapa</td>\n      <td>1</td>\n      <td>1</td>\n      <td>1</td>\n      <td>1</td>\n      <td>1</td>\n      <td>0</td>\n      <td>B</td>\n      <td>wykres</td>\n    </tr>\n    <tr>\n      <th>4</th>\n      <td>5</td>\n      <td>B</td>\n      <td>tabela</td>\n      <td>1</td>\n      <td>1</td>\n      <td>1</td>\n      <td>1</td>\n      <td>1</td>\n      <td>1</td>\n      <td>B</td>\n      <td>tabela</td>\n    </tr>\n  </tbody>\n</table>\n</div>"
     },
     "execution_count": 2,
     "metadata": {},
     "output_type": "execute_result"
    }
   ],
   "source": [
    "df_answers = pd.read_csv(\n",
    "    '/Users/martasolarz/Studies/Thesis/data/correctness.csv',\n",
    "    usecols=['ID', 'Quest1_before', 'Quest2_before', '1a_corr', '1b_corr', '2a_corr', '2b_corr', '3a_corr', '3b_corr']\n",
    ")\n",
    "\n",
    "df_quest = pd.read_csv(\n",
    "    '/Users/martasolarz/Studies/Thesis/data/survey.csv',\n",
    "    usecols=['ID', 'Quest1_after', 'Quest2_after']\n",
    ")\n",
    "\n",
    "df_merge = df_answers.merge(df_quest, on='ID')\n",
    "df_merge.head()"
   ],
   "metadata": {
    "collapsed": false,
    "ExecuteTime": {
     "end_time": "2023-10-18T16:19:04.708147Z",
     "start_time": "2023-10-18T16:19:04.646072Z"
    }
   },
   "id": "c3d943fb39805fc6"
  },
  {
   "cell_type": "markdown",
   "source": [
    "Funkcje:"
   ],
   "metadata": {
    "collapsed": false
   },
   "id": "6e5b694942d03ea4"
  },
  {
   "cell_type": "code",
   "execution_count": 51,
   "outputs": [],
   "source": [
    "def prepate_set(list_of_cols_popr, quest1_before, quest1_after, quest2_before, quest2_after):\n",
    "    new_row_popr = list_of_cols_popr[0]\n",
    "    for i in list_of_cols_popr[1:]:\n",
    "        new_row_popr = pd.concat([new_row_popr, i], ignore_index=True)\n",
    "\n",
    "    new_row_quest1_b = quest1_before[0]\n",
    "    for i in quest1_before[1:]:\n",
    "        new_row_quest1_b = pd.concat([new_row_quest1_b, i], ignore_index=True)\n",
    "        \n",
    "    new_row_quest2_b = quest2_before[0]\n",
    "    for i in quest2_before[1:]:\n",
    "        new_row_quest2_b = pd.concat([new_row_quest2_b, i], ignore_index=True)\n",
    "       \n",
    "    new_row_quest1_a = quest1_after[0]\n",
    "    for i in quest1_after[1:]:\n",
    "        new_row_quest1_a = pd.concat([new_row_quest1_a, i], ignore_index=True)\n",
    "        \n",
    "    new_row_quest2_a = quest2_after[0]\n",
    "    for i in quest2_after[1:]:\n",
    "        new_row_quest2_a = pd.concat([new_row_quest2_a, i], ignore_index=True) \n",
    "        \n",
    "    return pd.DataFrame({'poprawnosc': new_row_popr, 'quest1_before': new_row_quest1_b, \n",
    "                         'quest2_before': new_row_quest2_b, 'quest1_after': new_row_quest1_a,\n",
    "                         'quest2_after': new_row_quest2_a})\n",
    "\n",
    "def prepate_set_changes(list_of_cols_popr, quest1, quest2):\n",
    "    new_row_popr = list_of_cols_popr[0]\n",
    "    for i in list_of_cols_popr[1:]:\n",
    "        new_row_popr = pd.concat([new_row_popr, i], ignore_index=True)\n",
    "\n",
    "    new_row_quest1 = quest1[0]\n",
    "    for i in quest1[1:]:\n",
    "        new_row_quest1 = pd.concat([new_row_quest1, i], ignore_index=True)\n",
    "        \n",
    "    new_row_quest2 = quest2[0]\n",
    "    for i in quest2[1:]:\n",
    "        new_row_quest2 = pd.concat([new_row_quest2, i], ignore_index=True)\n",
    "\n",
    "        \n",
    "    return pd.DataFrame({'poprawnosc': new_row_popr, 'quest1': new_row_quest1, \n",
    "                         'quest2': new_row_quest2})"
   ],
   "metadata": {
    "collapsed": false,
    "ExecuteTime": {
     "end_time": "2023-10-18T17:38:03.058995Z",
     "start_time": "2023-10-18T17:38:03.047618Z"
    }
   },
   "id": "33e24b5614a86785"
  },
  {
   "cell_type": "code",
   "execution_count": 4,
   "outputs": [],
   "source": [
    "def create_contingency_table(df, col):\n",
    "    return pd.crosstab(df['poprawnosc'], df[col])"
   ],
   "metadata": {
    "collapsed": false,
    "ExecuteTime": {
     "end_time": "2023-10-18T16:19:07.513542Z",
     "start_time": "2023-10-18T16:19:07.496125Z"
    }
   },
   "id": "4f74d7e65d824621"
  },
  {
   "cell_type": "code",
   "execution_count": 5,
   "outputs": [],
   "source": [
    "def make_decision(p_val, alpha):\n",
    "    if p_val < alpha:\n",
    "        print('Istnieją podstawy do odrzucenia H0, przyjmujemy hipotezę H1:')\n",
    "    else:\n",
    "        print('Brak podstaw do odrzucenia H0.')"
   ],
   "metadata": {
    "collapsed": false,
    "ExecuteTime": {
     "end_time": "2023-10-18T16:19:07.921336Z",
     "start_time": "2023-10-18T16:19:07.905014Z"
    }
   },
   "id": "b1e2d317f6934b44"
  },
  {
   "cell_type": "code",
   "execution_count": 6,
   "outputs": [],
   "source": [
    "def conduct_chi2test(contingency_table, alpha):\n",
    "    chi2_stat, p_val, _, _ = stats.chi2_contingency(contingency_table)\n",
    "\n",
    "    print('Wartość statystyki chi-kwadrat:', chi2_stat)\n",
    "    print('P-value:', p_val)\n",
    "    make_decision(p_val, alpha)"
   ],
   "metadata": {
    "collapsed": false,
    "ExecuteTime": {
     "end_time": "2023-10-18T16:19:08.385258Z",
     "start_time": "2023-10-18T16:19:08.366533Z"
    }
   },
   "id": "1d740b7e6be3d975"
  },
  {
   "cell_type": "markdown",
   "source": [
    "### TESTY"
   ],
   "metadata": {
    "collapsed": false
   },
   "id": "a3640bf0cf623b6b"
  },
  {
   "cell_type": "markdown",
   "source": [
    "**H0:** Nie ma istotnej statystycznie zależności między poprawnością odpowiedzi a wybraną preferowaną formą (mapa vs mapa + inne elementy; mapa vs tabela vs wykres vs tekst).\n",
    "**H1:** Istnieje istotna statystycznie zależność między poprawnością odpowiedzi a wybraną preferowaną formą (mapa vs mapa + inne elementy; mapa vs tabela vs wykres vs tekst).\n",
    "**Poziom istotności:** $\\alpha=0.05$\n",
    "\n",
    "Mamy dwie zmienne kategoryczne (dyskretne):\n",
    "- poprawność $ \\text{{0,1}} $\n",
    "- preferowane formy\n",
    "\n",
    "Stąd wykonujemy test chi-kwadrat."
   ],
   "metadata": {
    "collapsed": false
   },
   "id": "18c14ed55cdc2169"
  },
  {
   "cell_type": "code",
   "execution_count": 8,
   "outputs": [],
   "source": [
    "ALPHA = 0.05"
   ],
   "metadata": {
    "collapsed": false,
    "ExecuteTime": {
     "end_time": "2023-10-18T16:19:11.841114Z",
     "start_time": "2023-10-18T16:19:11.826557Z"
    }
   },
   "id": "549109b822a6d751"
  },
  {
   "cell_type": "markdown",
   "source": [
    "a) wszystkie grafiki"
   ],
   "metadata": {
    "collapsed": false
   },
   "id": "9bb2497ee1c322ab"
  },
  {
   "cell_type": "code",
   "execution_count": 9,
   "outputs": [
    {
     "data": {
      "text/plain": "     poprawnosc quest1_before quest2_before quest1_after quest2_after\n0             1             B        wykres            B       wykres\n1             1             B        wykres            B       wykres\n2             1             B          mapa            B         mapa\n3             1             B          mapa            B       wykres\n4             1             B        tabela            B       tabela\n..          ...           ...           ...          ...          ...\n241           1             B          mapa            B       wykres\n242           0             B          mapa            B       wykres\n243           0             B          mapa            B        tekst\n244           0             B          mapa            B       tabela\n245           0             B          mapa            A         mapa\n\n[246 rows x 5 columns]",
      "text/html": "<div>\n<style scoped>\n    .dataframe tbody tr th:only-of-type {\n        vertical-align: middle;\n    }\n\n    .dataframe tbody tr th {\n        vertical-align: top;\n    }\n\n    .dataframe thead th {\n        text-align: right;\n    }\n</style>\n<table border=\"1\" class=\"dataframe\">\n  <thead>\n    <tr style=\"text-align: right;\">\n      <th></th>\n      <th>poprawnosc</th>\n      <th>quest1_before</th>\n      <th>quest2_before</th>\n      <th>quest1_after</th>\n      <th>quest2_after</th>\n    </tr>\n  </thead>\n  <tbody>\n    <tr>\n      <th>0</th>\n      <td>1</td>\n      <td>B</td>\n      <td>wykres</td>\n      <td>B</td>\n      <td>wykres</td>\n    </tr>\n    <tr>\n      <th>1</th>\n      <td>1</td>\n      <td>B</td>\n      <td>wykres</td>\n      <td>B</td>\n      <td>wykres</td>\n    </tr>\n    <tr>\n      <th>2</th>\n      <td>1</td>\n      <td>B</td>\n      <td>mapa</td>\n      <td>B</td>\n      <td>mapa</td>\n    </tr>\n    <tr>\n      <th>3</th>\n      <td>1</td>\n      <td>B</td>\n      <td>mapa</td>\n      <td>B</td>\n      <td>wykres</td>\n    </tr>\n    <tr>\n      <th>4</th>\n      <td>1</td>\n      <td>B</td>\n      <td>tabela</td>\n      <td>B</td>\n      <td>tabela</td>\n    </tr>\n    <tr>\n      <th>...</th>\n      <td>...</td>\n      <td>...</td>\n      <td>...</td>\n      <td>...</td>\n      <td>...</td>\n    </tr>\n    <tr>\n      <th>241</th>\n      <td>1</td>\n      <td>B</td>\n      <td>mapa</td>\n      <td>B</td>\n      <td>wykres</td>\n    </tr>\n    <tr>\n      <th>242</th>\n      <td>0</td>\n      <td>B</td>\n      <td>mapa</td>\n      <td>B</td>\n      <td>wykres</td>\n    </tr>\n    <tr>\n      <th>243</th>\n      <td>0</td>\n      <td>B</td>\n      <td>mapa</td>\n      <td>B</td>\n      <td>tekst</td>\n    </tr>\n    <tr>\n      <th>244</th>\n      <td>0</td>\n      <td>B</td>\n      <td>mapa</td>\n      <td>B</td>\n      <td>tabela</td>\n    </tr>\n    <tr>\n      <th>245</th>\n      <td>0</td>\n      <td>B</td>\n      <td>mapa</td>\n      <td>A</td>\n      <td>mapa</td>\n    </tr>\n  </tbody>\n</table>\n<p>246 rows × 5 columns</p>\n</div>"
     },
     "execution_count": 9,
     "metadata": {},
     "output_type": "execute_result"
    }
   ],
   "source": [
    "quest1_before = [df_merge['Quest1_before'] for i in range(6)]\n",
    "quest2_before = [df_merge['Quest2_before'] for i in range(6)]\n",
    "quest1_after = [df_merge['Quest1_after'] for i in range(6)]\n",
    "quest2_after = [df_merge['Quest2_after'] for i in range(6)]\n",
    "\n",
    "popr = []\n",
    "for col in df_answers.columns.tolist():\n",
    "    if col.endswith('corr'):\n",
    "        popr.append(df_answers[col])\n",
    "        \n",
    "df = prepate_set(popr, quest1_before, quest1_after, quest2_before, quest2_after)\n",
    "\n",
    "df"
   ],
   "metadata": {
    "collapsed": false,
    "ExecuteTime": {
     "end_time": "2023-10-18T16:19:12.696353Z",
     "start_time": "2023-10-18T16:19:12.679133Z"
    }
   },
   "id": "f87219709fefc4ff"
  },
  {
   "cell_type": "code",
   "execution_count": 10,
   "outputs": [
    {
     "data": {
      "text/plain": "quest1_before   A    B\npoprawnosc            \n0               5   67\n1              19  155",
      "text/html": "<div>\n<style scoped>\n    .dataframe tbody tr th:only-of-type {\n        vertical-align: middle;\n    }\n\n    .dataframe tbody tr th {\n        vertical-align: top;\n    }\n\n    .dataframe thead th {\n        text-align: right;\n    }\n</style>\n<table border=\"1\" class=\"dataframe\">\n  <thead>\n    <tr style=\"text-align: right;\">\n      <th>quest1_before</th>\n      <th>A</th>\n      <th>B</th>\n    </tr>\n    <tr>\n      <th>poprawnosc</th>\n      <th></th>\n      <th></th>\n    </tr>\n  </thead>\n  <tbody>\n    <tr>\n      <th>0</th>\n      <td>5</td>\n      <td>67</td>\n    </tr>\n    <tr>\n      <th>1</th>\n      <td>19</td>\n      <td>155</td>\n    </tr>\n  </tbody>\n</table>\n</div>"
     },
     "execution_count": 10,
     "metadata": {},
     "output_type": "execute_result"
    }
   ],
   "source": [
    "# Mapa vs Inne formy - before\n",
    "contingency_table_q1_b = create_contingency_table(df, 'quest1_before')\n",
    "contingency_table_q1_b"
   ],
   "metadata": {
    "collapsed": false,
    "ExecuteTime": {
     "end_time": "2023-10-18T16:19:13.053453Z",
     "start_time": "2023-10-18T16:19:13.026397Z"
    }
   },
   "id": "69b02db849c66027"
  },
  {
   "cell_type": "code",
   "execution_count": 11,
   "outputs": [
    {
     "name": "stdout",
     "output_type": "stream",
     "text": [
      "Wartość statystyki chi-kwadrat: 0.5182647626074353\n",
      "P-value: 0.4715828248989259\n",
      "Brak podstaw do odrzucenia H0.\n"
     ]
    }
   ],
   "source": [
    "conduct_chi2test(contingency_table_q1_b, ALPHA)"
   ],
   "metadata": {
    "collapsed": false,
    "ExecuteTime": {
     "end_time": "2023-10-18T16:19:13.450868Z",
     "start_time": "2023-10-18T16:19:13.444158Z"
    }
   },
   "id": "f50976c811b36ee8"
  },
  {
   "cell_type": "code",
   "execution_count": 12,
   "outputs": [
    {
     "data": {
      "text/plain": "quest1_after   A    B\npoprawnosc           \n0             27   45\n1             39  135",
      "text/html": "<div>\n<style scoped>\n    .dataframe tbody tr th:only-of-type {\n        vertical-align: middle;\n    }\n\n    .dataframe tbody tr th {\n        vertical-align: top;\n    }\n\n    .dataframe thead th {\n        text-align: right;\n    }\n</style>\n<table border=\"1\" class=\"dataframe\">\n  <thead>\n    <tr style=\"text-align: right;\">\n      <th>quest1_after</th>\n      <th>A</th>\n      <th>B</th>\n    </tr>\n    <tr>\n      <th>poprawnosc</th>\n      <th></th>\n      <th></th>\n    </tr>\n  </thead>\n  <tbody>\n    <tr>\n      <th>0</th>\n      <td>27</td>\n      <td>45</td>\n    </tr>\n    <tr>\n      <th>1</th>\n      <td>39</td>\n      <td>135</td>\n    </tr>\n  </tbody>\n</table>\n</div>"
     },
     "execution_count": 12,
     "metadata": {},
     "output_type": "execute_result"
    }
   ],
   "source": [
    "# Mapa vs Inne formy - after\n",
    "contingency_table_q1_a = create_contingency_table(df, 'quest1_after')\n",
    "contingency_table_q1_a"
   ],
   "metadata": {
    "collapsed": false,
    "ExecuteTime": {
     "end_time": "2023-10-18T16:19:13.885675Z",
     "start_time": "2023-10-18T16:19:13.858965Z"
    }
   },
   "id": "24281e2095d0a6c0"
  },
  {
   "cell_type": "code",
   "execution_count": 13,
   "outputs": [
    {
     "name": "stdout",
     "output_type": "stream",
     "text": [
      "Wartość statystyki chi-kwadrat: 5.160716721815859\n",
      "P-value: 0.023103361396515018\n",
      "Istnieją podstawy do odrzucenia H0, przyjmujemy hipotezę H1:\n"
     ]
    }
   ],
   "source": [
    "conduct_chi2test(contingency_table_q1_a, ALPHA)"
   ],
   "metadata": {
    "collapsed": false,
    "ExecuteTime": {
     "end_time": "2023-10-18T16:19:14.320289Z",
     "start_time": "2023-10-18T16:19:14.300555Z"
    }
   },
   "id": "c0c47c2b22220c0d"
  },
  {
   "cell_type": "code",
   "execution_count": 14,
   "outputs": [
    {
     "data": {
      "text/plain": "quest2_before  mapa  tabela  tekst  wykres\npoprawnosc                                \n0                41      12      3      16\n1                85      30     15      44",
      "text/html": "<div>\n<style scoped>\n    .dataframe tbody tr th:only-of-type {\n        vertical-align: middle;\n    }\n\n    .dataframe tbody tr th {\n        vertical-align: top;\n    }\n\n    .dataframe thead th {\n        text-align: right;\n    }\n</style>\n<table border=\"1\" class=\"dataframe\">\n  <thead>\n    <tr style=\"text-align: right;\">\n      <th>quest2_before</th>\n      <th>mapa</th>\n      <th>tabela</th>\n      <th>tekst</th>\n      <th>wykres</th>\n    </tr>\n    <tr>\n      <th>poprawnosc</th>\n      <th></th>\n      <th></th>\n      <th></th>\n      <th></th>\n    </tr>\n  </thead>\n  <tbody>\n    <tr>\n      <th>0</th>\n      <td>41</td>\n      <td>12</td>\n      <td>3</td>\n      <td>16</td>\n    </tr>\n    <tr>\n      <th>1</th>\n      <td>85</td>\n      <td>30</td>\n      <td>15</td>\n      <td>44</td>\n    </tr>\n  </tbody>\n</table>\n</div>"
     },
     "execution_count": 14,
     "metadata": {},
     "output_type": "execute_result"
    }
   ],
   "source": [
    "# Mapa vs Wykres vs Tabela vs Tekst - before\n",
    "contingency_table_q2_b = create_contingency_table(df, 'quest2_before')\n",
    "contingency_table_q2_b"
   ],
   "metadata": {
    "collapsed": false,
    "ExecuteTime": {
     "end_time": "2023-10-18T16:19:14.711567Z",
     "start_time": "2023-10-18T16:19:14.690019Z"
    }
   },
   "id": "72f742ae6e11e2ec"
  },
  {
   "cell_type": "code",
   "execution_count": 15,
   "outputs": [
    {
     "name": "stdout",
     "output_type": "stream",
     "text": [
      "Wartość statystyki chi-kwadrat: 0.5182647626074353\n",
      "P-value: 0.4715828248989259\n",
      "Brak podstaw do odrzucenia H0.\n"
     ]
    }
   ],
   "source": [
    "conduct_chi2test(contingency_table_q1_b, ALPHA)"
   ],
   "metadata": {
    "collapsed": false,
    "ExecuteTime": {
     "end_time": "2023-10-18T16:19:15.102830Z",
     "start_time": "2023-10-18T16:19:15.081545Z"
    }
   },
   "id": "5ef97e64b91bbcd5"
  },
  {
   "cell_type": "code",
   "execution_count": 16,
   "outputs": [
    {
     "data": {
      "text/plain": "quest2_after  mapa  tabela  tekst  wykres\npoprawnosc                               \n0               41       6      3      22\n1               73      30      3      68",
      "text/html": "<div>\n<style scoped>\n    .dataframe tbody tr th:only-of-type {\n        vertical-align: middle;\n    }\n\n    .dataframe tbody tr th {\n        vertical-align: top;\n    }\n\n    .dataframe thead th {\n        text-align: right;\n    }\n</style>\n<table border=\"1\" class=\"dataframe\">\n  <thead>\n    <tr style=\"text-align: right;\">\n      <th>quest2_after</th>\n      <th>mapa</th>\n      <th>tabela</th>\n      <th>tekst</th>\n      <th>wykres</th>\n    </tr>\n    <tr>\n      <th>poprawnosc</th>\n      <th></th>\n      <th></th>\n      <th></th>\n      <th></th>\n    </tr>\n  </thead>\n  <tbody>\n    <tr>\n      <th>0</th>\n      <td>41</td>\n      <td>6</td>\n      <td>3</td>\n      <td>22</td>\n    </tr>\n    <tr>\n      <th>1</th>\n      <td>73</td>\n      <td>30</td>\n      <td>3</td>\n      <td>68</td>\n    </tr>\n  </tbody>\n</table>\n</div>"
     },
     "execution_count": 16,
     "metadata": {},
     "output_type": "execute_result"
    }
   ],
   "source": [
    "# Mapa vs Wykres vs Tabela vs Tekst - after\n",
    "contingency_table_q2_a = create_contingency_table(df, 'quest2_after')\n",
    "contingency_table_q2_a"
   ],
   "metadata": {
    "collapsed": false,
    "ExecuteTime": {
     "end_time": "2023-10-18T16:19:15.486002Z",
     "start_time": "2023-10-18T16:19:15.460032Z"
    }
   },
   "id": "b94c590f5d014087"
  },
  {
   "cell_type": "code",
   "execution_count": 17,
   "outputs": [
    {
     "name": "stdout",
     "output_type": "stream",
     "text": [
      "Wartość statystyki chi-kwadrat: 0.5182647626074353\n",
      "P-value: 0.4715828248989259\n",
      "Brak podstaw do odrzucenia H0.\n"
     ]
    }
   ],
   "source": [
    "conduct_chi2test(contingency_table_q1_b, ALPHA)"
   ],
   "metadata": {
    "collapsed": false,
    "ExecuteTime": {
     "end_time": "2023-10-18T16:19:16.068376Z",
     "start_time": "2023-10-18T16:19:16.062357Z"
    }
   },
   "id": "4eaa77f86e12492"
  },
  {
   "cell_type": "markdown",
   "source": [
    "b) grafiki A"
   ],
   "metadata": {
    "collapsed": false
   },
   "id": "f233da8c1bfb037a"
  },
  {
   "cell_type": "code",
   "execution_count": 18,
   "outputs": [
    {
     "data": {
      "text/plain": "     poprawnosc quest1_before quest2_before quest1_after quest2_after\n0             1             B        wykres            B       wykres\n1             1             B        wykres            B       wykres\n2             1             B          mapa            B         mapa\n3             1             B          mapa            B       wykres\n4             1             B        tabela            B       tabela\n..          ...           ...           ...          ...          ...\n118           0             B          mapa            B       wykres\n119           1             B          mapa            B       wykres\n120           0             B          mapa            B        tekst\n121           1             B          mapa            B       tabela\n122           1             B          mapa            A         mapa\n\n[123 rows x 5 columns]",
      "text/html": "<div>\n<style scoped>\n    .dataframe tbody tr th:only-of-type {\n        vertical-align: middle;\n    }\n\n    .dataframe tbody tr th {\n        vertical-align: top;\n    }\n\n    .dataframe thead th {\n        text-align: right;\n    }\n</style>\n<table border=\"1\" class=\"dataframe\">\n  <thead>\n    <tr style=\"text-align: right;\">\n      <th></th>\n      <th>poprawnosc</th>\n      <th>quest1_before</th>\n      <th>quest2_before</th>\n      <th>quest1_after</th>\n      <th>quest2_after</th>\n    </tr>\n  </thead>\n  <tbody>\n    <tr>\n      <th>0</th>\n      <td>1</td>\n      <td>B</td>\n      <td>wykres</td>\n      <td>B</td>\n      <td>wykres</td>\n    </tr>\n    <tr>\n      <th>1</th>\n      <td>1</td>\n      <td>B</td>\n      <td>wykres</td>\n      <td>B</td>\n      <td>wykres</td>\n    </tr>\n    <tr>\n      <th>2</th>\n      <td>1</td>\n      <td>B</td>\n      <td>mapa</td>\n      <td>B</td>\n      <td>mapa</td>\n    </tr>\n    <tr>\n      <th>3</th>\n      <td>1</td>\n      <td>B</td>\n      <td>mapa</td>\n      <td>B</td>\n      <td>wykres</td>\n    </tr>\n    <tr>\n      <th>4</th>\n      <td>1</td>\n      <td>B</td>\n      <td>tabela</td>\n      <td>B</td>\n      <td>tabela</td>\n    </tr>\n    <tr>\n      <th>...</th>\n      <td>...</td>\n      <td>...</td>\n      <td>...</td>\n      <td>...</td>\n      <td>...</td>\n    </tr>\n    <tr>\n      <th>118</th>\n      <td>0</td>\n      <td>B</td>\n      <td>mapa</td>\n      <td>B</td>\n      <td>wykres</td>\n    </tr>\n    <tr>\n      <th>119</th>\n      <td>1</td>\n      <td>B</td>\n      <td>mapa</td>\n      <td>B</td>\n      <td>wykres</td>\n    </tr>\n    <tr>\n      <th>120</th>\n      <td>0</td>\n      <td>B</td>\n      <td>mapa</td>\n      <td>B</td>\n      <td>tekst</td>\n    </tr>\n    <tr>\n      <th>121</th>\n      <td>1</td>\n      <td>B</td>\n      <td>mapa</td>\n      <td>B</td>\n      <td>tabela</td>\n    </tr>\n    <tr>\n      <th>122</th>\n      <td>1</td>\n      <td>B</td>\n      <td>mapa</td>\n      <td>A</td>\n      <td>mapa</td>\n    </tr>\n  </tbody>\n</table>\n<p>123 rows × 5 columns</p>\n</div>"
     },
     "execution_count": 18,
     "metadata": {},
     "output_type": "execute_result"
    }
   ],
   "source": [
    "quest1_before = [df_merge['Quest1_before'] for i in range(3)]\n",
    "quest2_before = [df_merge['Quest2_before'] for i in range(3)]\n",
    "quest1_after = [df_merge['Quest1_after'] for i in range(3)]\n",
    "quest2_after = [df_merge['Quest2_after'] for i in range(3)]\n",
    "\n",
    "popr = [df_answers['1a_corr'], df_answers['2a_corr'], df_answers['3a_corr']]\n",
    "        \n",
    "df = prepate_set(popr, quest1_before, quest1_after, quest2_before, quest2_after)\n",
    "df"
   ],
   "metadata": {
    "collapsed": false,
    "ExecuteTime": {
     "end_time": "2023-10-18T17:23:23.883828Z",
     "start_time": "2023-10-18T17:23:23.859651Z"
    }
   },
   "id": "baa21029068bf9e"
  },
  {
   "cell_type": "code",
   "execution_count": 19,
   "outputs": [
    {
     "data": {
      "text/plain": "quest1_before   A   B\npoprawnosc           \n0               2  34\n1              10  77",
      "text/html": "<div>\n<style scoped>\n    .dataframe tbody tr th:only-of-type {\n        vertical-align: middle;\n    }\n\n    .dataframe tbody tr th {\n        vertical-align: top;\n    }\n\n    .dataframe thead th {\n        text-align: right;\n    }\n</style>\n<table border=\"1\" class=\"dataframe\">\n  <thead>\n    <tr style=\"text-align: right;\">\n      <th>quest1_before</th>\n      <th>A</th>\n      <th>B</th>\n    </tr>\n    <tr>\n      <th>poprawnosc</th>\n      <th></th>\n      <th></th>\n    </tr>\n  </thead>\n  <tbody>\n    <tr>\n      <th>0</th>\n      <td>2</td>\n      <td>34</td>\n    </tr>\n    <tr>\n      <th>1</th>\n      <td>10</td>\n      <td>77</td>\n    </tr>\n  </tbody>\n</table>\n</div>"
     },
     "execution_count": 19,
     "metadata": {},
     "output_type": "execute_result"
    }
   ],
   "source": [
    "# Mapa vs Inne formy - before\n",
    "contingency_table_q1_b = create_contingency_table(df, 'quest1_before')\n",
    "contingency_table_q1_b"
   ],
   "metadata": {
    "collapsed": false,
    "ExecuteTime": {
     "end_time": "2023-10-18T17:23:24.234367Z",
     "start_time": "2023-10-18T17:23:24.219607Z"
    }
   },
   "id": "59abc6269dcb0396"
  },
  {
   "cell_type": "code",
   "execution_count": 20,
   "outputs": [
    {
     "name": "stdout",
     "output_type": "stream",
     "text": [
      "Wartość statystyki chi-kwadrat: 0.4570017215491356\n",
      "P-value: 0.49902856634830706\n",
      "Brak podstaw do odrzucenia H0.\n"
     ]
    }
   ],
   "source": [
    "conduct_chi2test(contingency_table_q1_b, ALPHA)"
   ],
   "metadata": {
    "collapsed": false,
    "ExecuteTime": {
     "end_time": "2023-10-18T17:23:24.450809Z",
     "start_time": "2023-10-18T17:23:24.432755Z"
    }
   },
   "id": "efcd7f8e81c722e2"
  },
  {
   "cell_type": "code",
   "execution_count": 21,
   "outputs": [
    {
     "data": {
      "text/plain": "quest1_after   A   B\npoprawnosc          \n0             12  24\n1             21  66",
      "text/html": "<div>\n<style scoped>\n    .dataframe tbody tr th:only-of-type {\n        vertical-align: middle;\n    }\n\n    .dataframe tbody tr th {\n        vertical-align: top;\n    }\n\n    .dataframe thead th {\n        text-align: right;\n    }\n</style>\n<table border=\"1\" class=\"dataframe\">\n  <thead>\n    <tr style=\"text-align: right;\">\n      <th>quest1_after</th>\n      <th>A</th>\n      <th>B</th>\n    </tr>\n    <tr>\n      <th>poprawnosc</th>\n      <th></th>\n      <th></th>\n    </tr>\n  </thead>\n  <tbody>\n    <tr>\n      <th>0</th>\n      <td>12</td>\n      <td>24</td>\n    </tr>\n    <tr>\n      <th>1</th>\n      <td>21</td>\n      <td>66</td>\n    </tr>\n  </tbody>\n</table>\n</div>"
     },
     "execution_count": 21,
     "metadata": {},
     "output_type": "execute_result"
    }
   ],
   "source": [
    "# Mapa vs Inne formy - after\n",
    "contingency_table_q1_a = create_contingency_table(df, 'quest1_after')\n",
    "contingency_table_q1_a"
   ],
   "metadata": {
    "collapsed": false,
    "ExecuteTime": {
     "end_time": "2023-10-18T17:23:24.651069Z",
     "start_time": "2023-10-18T17:23:24.633293Z"
    }
   },
   "id": "6de399f569dc6cfa"
  },
  {
   "cell_type": "code",
   "execution_count": 22,
   "outputs": [
    {
     "name": "stdout",
     "output_type": "stream",
     "text": [
      "Wartość statystyki chi-kwadrat: 0.6783648264251712\n",
      "P-value: 0.41015035950447143\n",
      "Brak podstaw do odrzucenia H0.\n"
     ]
    }
   ],
   "source": [
    "conduct_chi2test(contingency_table_q1_a, ALPHA)"
   ],
   "metadata": {
    "collapsed": false,
    "ExecuteTime": {
     "end_time": "2023-10-18T17:23:24.818232Z",
     "start_time": "2023-10-18T17:23:24.787016Z"
    }
   },
   "id": "764f0666f22c7275"
  },
  {
   "cell_type": "code",
   "execution_count": 23,
   "outputs": [
    {
     "data": {
      "text/plain": "quest2_before  mapa  tabela  tekst  wykres\npoprawnosc                                \n0                20       6      1       9\n1                43      15      8      21",
      "text/html": "<div>\n<style scoped>\n    .dataframe tbody tr th:only-of-type {\n        vertical-align: middle;\n    }\n\n    .dataframe tbody tr th {\n        vertical-align: top;\n    }\n\n    .dataframe thead th {\n        text-align: right;\n    }\n</style>\n<table border=\"1\" class=\"dataframe\">\n  <thead>\n    <tr style=\"text-align: right;\">\n      <th>quest2_before</th>\n      <th>mapa</th>\n      <th>tabela</th>\n      <th>tekst</th>\n      <th>wykres</th>\n    </tr>\n    <tr>\n      <th>poprawnosc</th>\n      <th></th>\n      <th></th>\n      <th></th>\n      <th></th>\n    </tr>\n  </thead>\n  <tbody>\n    <tr>\n      <th>0</th>\n      <td>20</td>\n      <td>6</td>\n      <td>1</td>\n      <td>9</td>\n    </tr>\n    <tr>\n      <th>1</th>\n      <td>43</td>\n      <td>15</td>\n      <td>8</td>\n      <td>21</td>\n    </tr>\n  </tbody>\n</table>\n</div>"
     },
     "execution_count": 23,
     "metadata": {},
     "output_type": "execute_result"
    }
   ],
   "source": [
    "# Mapa vs Wykres vs Tabela vs Tekst - before\n",
    "contingency_table_q2_b = create_contingency_table(df, 'quest2_before')\n",
    "contingency_table_q2_b"
   ],
   "metadata": {
    "collapsed": false,
    "ExecuteTime": {
     "end_time": "2023-10-18T17:23:24.962715Z",
     "start_time": "2023-10-18T17:23:24.953061Z"
    }
   },
   "id": "70ad275325c20a1a"
  },
  {
   "cell_type": "code",
   "execution_count": 24,
   "outputs": [
    {
     "name": "stdout",
     "output_type": "stream",
     "text": [
      "Wartość statystyki chi-kwadrat: 0.4570017215491356\n",
      "P-value: 0.49902856634830706\n",
      "Brak podstaw do odrzucenia H0.\n"
     ]
    }
   ],
   "source": [
    "conduct_chi2test(contingency_table_q1_b, ALPHA)"
   ],
   "metadata": {
    "collapsed": false,
    "ExecuteTime": {
     "end_time": "2023-10-18T17:23:25.155087Z",
     "start_time": "2023-10-18T17:23:25.136719Z"
    }
   },
   "id": "c9951b3552cbfbaa"
  },
  {
   "cell_type": "code",
   "execution_count": 25,
   "outputs": [
    {
     "data": {
      "text/plain": "quest2_after  mapa  tabela  tekst  wykres\npoprawnosc                               \n0               21       3      2      10\n1               36      15      1      35",
      "text/html": "<div>\n<style scoped>\n    .dataframe tbody tr th:only-of-type {\n        vertical-align: middle;\n    }\n\n    .dataframe tbody tr th {\n        vertical-align: top;\n    }\n\n    .dataframe thead th {\n        text-align: right;\n    }\n</style>\n<table border=\"1\" class=\"dataframe\">\n  <thead>\n    <tr style=\"text-align: right;\">\n      <th>quest2_after</th>\n      <th>mapa</th>\n      <th>tabela</th>\n      <th>tekst</th>\n      <th>wykres</th>\n    </tr>\n    <tr>\n      <th>poprawnosc</th>\n      <th></th>\n      <th></th>\n      <th></th>\n      <th></th>\n    </tr>\n  </thead>\n  <tbody>\n    <tr>\n      <th>0</th>\n      <td>21</td>\n      <td>3</td>\n      <td>2</td>\n      <td>10</td>\n    </tr>\n    <tr>\n      <th>1</th>\n      <td>36</td>\n      <td>15</td>\n      <td>1</td>\n      <td>35</td>\n    </tr>\n  </tbody>\n</table>\n</div>"
     },
     "execution_count": 25,
     "metadata": {},
     "output_type": "execute_result"
    }
   ],
   "source": [
    "# Mapa vs Wykres vs Tabela vs Tekst - after\n",
    "contingency_table_q2_a = create_contingency_table(df, 'quest2_after')\n",
    "contingency_table_q2_a"
   ],
   "metadata": {
    "collapsed": false,
    "ExecuteTime": {
     "end_time": "2023-10-18T17:23:25.276856Z",
     "start_time": "2023-10-18T17:23:25.260704Z"
    }
   },
   "id": "6186229c21d29c0c"
  },
  {
   "cell_type": "code",
   "execution_count": 26,
   "outputs": [
    {
     "name": "stdout",
     "output_type": "stream",
     "text": [
      "Wartość statystyki chi-kwadrat: 6.066150769644418\n",
      "P-value: 0.10843582722801164\n",
      "Brak podstaw do odrzucenia H0.\n"
     ]
    }
   ],
   "source": [
    "conduct_chi2test(contingency_table_q2_a, ALPHA)"
   ],
   "metadata": {
    "collapsed": false,
    "ExecuteTime": {
     "end_time": "2023-10-18T17:23:25.497220Z",
     "start_time": "2023-10-18T17:23:25.424774Z"
    }
   },
   "id": "84153640fc476f2"
  },
  {
   "cell_type": "markdown",
   "source": [
    "c) grafiki B"
   ],
   "metadata": {
    "collapsed": false
   },
   "id": "ecd9aa229bd85926"
  },
  {
   "cell_type": "code",
   "execution_count": 27,
   "outputs": [
    {
     "data": {
      "text/plain": "     poprawnosc quest1_before quest2_before quest1_after quest2_after\n0             1             B        wykres            B       wykres\n1             1             B        wykres            B       wykres\n2             1             B          mapa            B         mapa\n3             1             B          mapa            B       wykres\n4             1             B        tabela            B       tabela\n..          ...           ...           ...          ...          ...\n118           1             B          mapa            B       wykres\n119           0             B          mapa            B       wykres\n120           0             B          mapa            B        tekst\n121           0             B          mapa            B       tabela\n122           0             B          mapa            A         mapa\n\n[123 rows x 5 columns]",
      "text/html": "<div>\n<style scoped>\n    .dataframe tbody tr th:only-of-type {\n        vertical-align: middle;\n    }\n\n    .dataframe tbody tr th {\n        vertical-align: top;\n    }\n\n    .dataframe thead th {\n        text-align: right;\n    }\n</style>\n<table border=\"1\" class=\"dataframe\">\n  <thead>\n    <tr style=\"text-align: right;\">\n      <th></th>\n      <th>poprawnosc</th>\n      <th>quest1_before</th>\n      <th>quest2_before</th>\n      <th>quest1_after</th>\n      <th>quest2_after</th>\n    </tr>\n  </thead>\n  <tbody>\n    <tr>\n      <th>0</th>\n      <td>1</td>\n      <td>B</td>\n      <td>wykres</td>\n      <td>B</td>\n      <td>wykres</td>\n    </tr>\n    <tr>\n      <th>1</th>\n      <td>1</td>\n      <td>B</td>\n      <td>wykres</td>\n      <td>B</td>\n      <td>wykres</td>\n    </tr>\n    <tr>\n      <th>2</th>\n      <td>1</td>\n      <td>B</td>\n      <td>mapa</td>\n      <td>B</td>\n      <td>mapa</td>\n    </tr>\n    <tr>\n      <th>3</th>\n      <td>1</td>\n      <td>B</td>\n      <td>mapa</td>\n      <td>B</td>\n      <td>wykres</td>\n    </tr>\n    <tr>\n      <th>4</th>\n      <td>1</td>\n      <td>B</td>\n      <td>tabela</td>\n      <td>B</td>\n      <td>tabela</td>\n    </tr>\n    <tr>\n      <th>...</th>\n      <td>...</td>\n      <td>...</td>\n      <td>...</td>\n      <td>...</td>\n      <td>...</td>\n    </tr>\n    <tr>\n      <th>118</th>\n      <td>1</td>\n      <td>B</td>\n      <td>mapa</td>\n      <td>B</td>\n      <td>wykres</td>\n    </tr>\n    <tr>\n      <th>119</th>\n      <td>0</td>\n      <td>B</td>\n      <td>mapa</td>\n      <td>B</td>\n      <td>wykres</td>\n    </tr>\n    <tr>\n      <th>120</th>\n      <td>0</td>\n      <td>B</td>\n      <td>mapa</td>\n      <td>B</td>\n      <td>tekst</td>\n    </tr>\n    <tr>\n      <th>121</th>\n      <td>0</td>\n      <td>B</td>\n      <td>mapa</td>\n      <td>B</td>\n      <td>tabela</td>\n    </tr>\n    <tr>\n      <th>122</th>\n      <td>0</td>\n      <td>B</td>\n      <td>mapa</td>\n      <td>A</td>\n      <td>mapa</td>\n    </tr>\n  </tbody>\n</table>\n<p>123 rows × 5 columns</p>\n</div>"
     },
     "execution_count": 27,
     "metadata": {},
     "output_type": "execute_result"
    }
   ],
   "source": [
    "quest1_before = [df_merge['Quest1_before'] for i in range(3)]\n",
    "quest2_before = [df_merge['Quest2_before'] for i in range(3)]\n",
    "quest1_after = [df_merge['Quest1_after'] for i in range(3)]\n",
    "quest2_after = [df_merge['Quest2_after'] for i in range(3)]\n",
    "\n",
    "popr = [df_answers['1b_corr'], df_answers['2b_corr'], df_answers['3b_corr']]\n",
    "        \n",
    "df = prepate_set(popr, quest1_before, quest1_after, quest2_before, quest2_after)\n",
    "df"
   ],
   "metadata": {
    "collapsed": false,
    "ExecuteTime": {
     "end_time": "2023-10-18T17:23:25.746972Z",
     "start_time": "2023-10-18T17:23:25.729803Z"
    }
   },
   "id": "ab19d3294828a472"
  },
  {
   "cell_type": "code",
   "execution_count": 28,
   "outputs": [
    {
     "data": {
      "text/plain": "quest1_before  A   B\npoprawnosc          \n0              3  33\n1              9  78",
      "text/html": "<div>\n<style scoped>\n    .dataframe tbody tr th:only-of-type {\n        vertical-align: middle;\n    }\n\n    .dataframe tbody tr th {\n        vertical-align: top;\n    }\n\n    .dataframe thead th {\n        text-align: right;\n    }\n</style>\n<table border=\"1\" class=\"dataframe\">\n  <thead>\n    <tr style=\"text-align: right;\">\n      <th>quest1_before</th>\n      <th>A</th>\n      <th>B</th>\n    </tr>\n    <tr>\n      <th>poprawnosc</th>\n      <th></th>\n      <th></th>\n    </tr>\n  </thead>\n  <tbody>\n    <tr>\n      <th>0</th>\n      <td>3</td>\n      <td>33</td>\n    </tr>\n    <tr>\n      <th>1</th>\n      <td>9</td>\n      <td>78</td>\n    </tr>\n  </tbody>\n</table>\n</div>"
     },
     "execution_count": 28,
     "metadata": {},
     "output_type": "execute_result"
    }
   ],
   "source": [
    "# Mapa vs Inne formy - before\n",
    "contingency_table_q1_b = create_contingency_table(df, 'quest1_before')\n",
    "contingency_table_q1_b"
   ],
   "metadata": {
    "collapsed": false,
    "ExecuteTime": {
     "end_time": "2023-10-18T17:23:25.978289Z",
     "start_time": "2023-10-18T17:23:25.961450Z"
    }
   },
   "id": "40bea8ee21a2064b"
  },
  {
   "cell_type": "code",
   "execution_count": 29,
   "outputs": [
    {
     "name": "stdout",
     "output_type": "stream",
     "text": [
      "Wartość statystyki chi-kwadrat: 6.633788961375382e-05\n",
      "P-value: 0.9935014556753952\n",
      "Brak podstaw do odrzucenia H0.\n"
     ]
    }
   ],
   "source": [
    "conduct_chi2test(contingency_table_q1_b, ALPHA)"
   ],
   "metadata": {
    "collapsed": false,
    "ExecuteTime": {
     "end_time": "2023-10-18T17:23:26.213499Z",
     "start_time": "2023-10-18T17:23:26.198394Z"
    }
   },
   "id": "e84d031e0b4cba06"
  },
  {
   "cell_type": "code",
   "execution_count": 30,
   "outputs": [
    {
     "data": {
      "text/plain": "quest1_after   A   B\npoprawnosc          \n0             15  21\n1             18  69",
      "text/html": "<div>\n<style scoped>\n    .dataframe tbody tr th:only-of-type {\n        vertical-align: middle;\n    }\n\n    .dataframe tbody tr th {\n        vertical-align: top;\n    }\n\n    .dataframe thead th {\n        text-align: right;\n    }\n</style>\n<table border=\"1\" class=\"dataframe\">\n  <thead>\n    <tr style=\"text-align: right;\">\n      <th>quest1_after</th>\n      <th>A</th>\n      <th>B</th>\n    </tr>\n    <tr>\n      <th>poprawnosc</th>\n      <th></th>\n      <th></th>\n    </tr>\n  </thead>\n  <tbody>\n    <tr>\n      <th>0</th>\n      <td>15</td>\n      <td>21</td>\n    </tr>\n    <tr>\n      <th>1</th>\n      <td>18</td>\n      <td>69</td>\n    </tr>\n  </tbody>\n</table>\n</div>"
     },
     "execution_count": 30,
     "metadata": {},
     "output_type": "execute_result"
    }
   ],
   "source": [
    "# Mapa vs Inne formy - after\n",
    "contingency_table_q1_a = create_contingency_table(df, 'quest1_after')\n",
    "contingency_table_q1_a"
   ],
   "metadata": {
    "collapsed": false,
    "ExecuteTime": {
     "end_time": "2023-10-18T17:23:26.422240Z",
     "start_time": "2023-10-18T17:23:26.400748Z"
    }
   },
   "id": "b6a831c29206db3"
  },
  {
   "cell_type": "code",
   "execution_count": 31,
   "outputs": [
    {
     "name": "stdout",
     "output_type": "stream",
     "text": [
      "Wartość statystyki chi-kwadrat: 4.689110211308487\n",
      "P-value: 0.03035436213327259\n",
      "Istnieją podstawy do odrzucenia H0, przyjmujemy hipotezę H1:\n"
     ]
    }
   ],
   "source": [
    "conduct_chi2test(contingency_table_q1_a, ALPHA)"
   ],
   "metadata": {
    "collapsed": false,
    "ExecuteTime": {
     "end_time": "2023-10-18T17:23:26.635121Z",
     "start_time": "2023-10-18T17:23:26.618327Z"
    }
   },
   "id": "c24b7a319fa90964"
  },
  {
   "cell_type": "code",
   "execution_count": 32,
   "outputs": [
    {
     "data": {
      "text/plain": "quest2_before  mapa  tabela  tekst  wykres\npoprawnosc                                \n0                21       6      2       7\n1                42      15      7      23",
      "text/html": "<div>\n<style scoped>\n    .dataframe tbody tr th:only-of-type {\n        vertical-align: middle;\n    }\n\n    .dataframe tbody tr th {\n        vertical-align: top;\n    }\n\n    .dataframe thead th {\n        text-align: right;\n    }\n</style>\n<table border=\"1\" class=\"dataframe\">\n  <thead>\n    <tr style=\"text-align: right;\">\n      <th>quest2_before</th>\n      <th>mapa</th>\n      <th>tabela</th>\n      <th>tekst</th>\n      <th>wykres</th>\n    </tr>\n    <tr>\n      <th>poprawnosc</th>\n      <th></th>\n      <th></th>\n      <th></th>\n      <th></th>\n    </tr>\n  </thead>\n  <tbody>\n    <tr>\n      <th>0</th>\n      <td>21</td>\n      <td>6</td>\n      <td>2</td>\n      <td>7</td>\n    </tr>\n    <tr>\n      <th>1</th>\n      <td>42</td>\n      <td>15</td>\n      <td>7</td>\n      <td>23</td>\n    </tr>\n  </tbody>\n</table>\n</div>"
     },
     "execution_count": 32,
     "metadata": {},
     "output_type": "execute_result"
    }
   ],
   "source": [
    "# Mapa vs Wykres vs Tabela vs Tekst - before\n",
    "contingency_table_q2_b = create_contingency_table(df, 'quest2_before')\n",
    "contingency_table_q2_b"
   ],
   "metadata": {
    "collapsed": false,
    "ExecuteTime": {
     "end_time": "2023-10-18T17:23:26.868875Z",
     "start_time": "2023-10-18T17:23:26.848861Z"
    }
   },
   "id": "e7c19e4e62118723"
  },
  {
   "cell_type": "code",
   "execution_count": 33,
   "outputs": [
    {
     "name": "stdout",
     "output_type": "stream",
     "text": [
      "Wartość statystyki chi-kwadrat: 6.633788961375382e-05\n",
      "P-value: 0.9935014556753952\n",
      "Brak podstaw do odrzucenia H0.\n"
     ]
    }
   ],
   "source": [
    "conduct_chi2test(contingency_table_q1_b, ALPHA)"
   ],
   "metadata": {
    "collapsed": false,
    "ExecuteTime": {
     "end_time": "2023-10-18T17:23:27.070095Z",
     "start_time": "2023-10-18T17:23:27.054183Z"
    }
   },
   "id": "9220f9740a9b3e1d"
  },
  {
   "cell_type": "code",
   "execution_count": 34,
   "outputs": [
    {
     "data": {
      "text/plain": "quest2_after  mapa  tabela  tekst  wykres\npoprawnosc                               \n0               20       3      1      12\n1               37      15      2      33",
      "text/html": "<div>\n<style scoped>\n    .dataframe tbody tr th:only-of-type {\n        vertical-align: middle;\n    }\n\n    .dataframe tbody tr th {\n        vertical-align: top;\n    }\n\n    .dataframe thead th {\n        text-align: right;\n    }\n</style>\n<table border=\"1\" class=\"dataframe\">\n  <thead>\n    <tr style=\"text-align: right;\">\n      <th>quest2_after</th>\n      <th>mapa</th>\n      <th>tabela</th>\n      <th>tekst</th>\n      <th>wykres</th>\n    </tr>\n    <tr>\n      <th>poprawnosc</th>\n      <th></th>\n      <th></th>\n      <th></th>\n      <th></th>\n    </tr>\n  </thead>\n  <tbody>\n    <tr>\n      <th>0</th>\n      <td>20</td>\n      <td>3</td>\n      <td>1</td>\n      <td>12</td>\n    </tr>\n    <tr>\n      <th>1</th>\n      <td>37</td>\n      <td>15</td>\n      <td>2</td>\n      <td>33</td>\n    </tr>\n  </tbody>\n</table>\n</div>"
     },
     "execution_count": 34,
     "metadata": {},
     "output_type": "execute_result"
    }
   ],
   "source": [
    "# Mapa vs Wykres vs Tabela vs Tekst - after\n",
    "contingency_table_q2_a = create_contingency_table(df, 'quest2_after')\n",
    "contingency_table_q2_a"
   ],
   "metadata": {
    "collapsed": false,
    "ExecuteTime": {
     "end_time": "2023-10-18T17:23:27.275436Z",
     "start_time": "2023-10-18T17:23:27.259190Z"
    }
   },
   "id": "a70e7f584a4639fc"
  },
  {
   "cell_type": "code",
   "execution_count": 35,
   "outputs": [
    {
     "name": "stdout",
     "output_type": "stream",
     "text": [
      "Wartość statystyki chi-kwadrat: 6.633788961375382e-05\n",
      "P-value: 0.9935014556753952\n",
      "Brak podstaw do odrzucenia H0.\n"
     ]
    }
   ],
   "source": [
    "conduct_chi2test(contingency_table_q1_b, ALPHA)"
   ],
   "metadata": {
    "collapsed": false,
    "ExecuteTime": {
     "end_time": "2023-10-18T17:23:27.500320Z",
     "start_time": "2023-10-18T17:23:27.457204Z"
    }
   },
   "id": "b874bd843344e0cf"
  },
  {
   "cell_type": "markdown",
   "source": [
    "d) grafiki 1,2,3\n",
    "\n",
    "-> 1"
   ],
   "metadata": {
    "collapsed": false
   },
   "id": "106efe8d3246c0e9"
  },
  {
   "cell_type": "code",
   "execution_count": 36,
   "outputs": [
    {
     "data": {
      "text/plain": "    poprawnosc quest1_before quest2_before quest1_after quest2_after\n0            1             B        wykres            B       wykres\n1            1             B        wykres            B       wykres\n2            1             B          mapa            B         mapa\n3            1             B          mapa            B       wykres\n4            1             B        tabela            B       tabela\n..         ...           ...           ...          ...          ...\n77           1             B          mapa            B       wykres\n78           1             B          mapa            B       wykres\n79           1             B          mapa            B        tekst\n80           1             B          mapa            B       tabela\n81           1             B          mapa            A         mapa\n\n[82 rows x 5 columns]",
      "text/html": "<div>\n<style scoped>\n    .dataframe tbody tr th:only-of-type {\n        vertical-align: middle;\n    }\n\n    .dataframe tbody tr th {\n        vertical-align: top;\n    }\n\n    .dataframe thead th {\n        text-align: right;\n    }\n</style>\n<table border=\"1\" class=\"dataframe\">\n  <thead>\n    <tr style=\"text-align: right;\">\n      <th></th>\n      <th>poprawnosc</th>\n      <th>quest1_before</th>\n      <th>quest2_before</th>\n      <th>quest1_after</th>\n      <th>quest2_after</th>\n    </tr>\n  </thead>\n  <tbody>\n    <tr>\n      <th>0</th>\n      <td>1</td>\n      <td>B</td>\n      <td>wykres</td>\n      <td>B</td>\n      <td>wykres</td>\n    </tr>\n    <tr>\n      <th>1</th>\n      <td>1</td>\n      <td>B</td>\n      <td>wykres</td>\n      <td>B</td>\n      <td>wykres</td>\n    </tr>\n    <tr>\n      <th>2</th>\n      <td>1</td>\n      <td>B</td>\n      <td>mapa</td>\n      <td>B</td>\n      <td>mapa</td>\n    </tr>\n    <tr>\n      <th>3</th>\n      <td>1</td>\n      <td>B</td>\n      <td>mapa</td>\n      <td>B</td>\n      <td>wykres</td>\n    </tr>\n    <tr>\n      <th>4</th>\n      <td>1</td>\n      <td>B</td>\n      <td>tabela</td>\n      <td>B</td>\n      <td>tabela</td>\n    </tr>\n    <tr>\n      <th>...</th>\n      <td>...</td>\n      <td>...</td>\n      <td>...</td>\n      <td>...</td>\n      <td>...</td>\n    </tr>\n    <tr>\n      <th>77</th>\n      <td>1</td>\n      <td>B</td>\n      <td>mapa</td>\n      <td>B</td>\n      <td>wykres</td>\n    </tr>\n    <tr>\n      <th>78</th>\n      <td>1</td>\n      <td>B</td>\n      <td>mapa</td>\n      <td>B</td>\n      <td>wykres</td>\n    </tr>\n    <tr>\n      <th>79</th>\n      <td>1</td>\n      <td>B</td>\n      <td>mapa</td>\n      <td>B</td>\n      <td>tekst</td>\n    </tr>\n    <tr>\n      <th>80</th>\n      <td>1</td>\n      <td>B</td>\n      <td>mapa</td>\n      <td>B</td>\n      <td>tabela</td>\n    </tr>\n    <tr>\n      <th>81</th>\n      <td>1</td>\n      <td>B</td>\n      <td>mapa</td>\n      <td>A</td>\n      <td>mapa</td>\n    </tr>\n  </tbody>\n</table>\n<p>82 rows × 5 columns</p>\n</div>"
     },
     "execution_count": 36,
     "metadata": {},
     "output_type": "execute_result"
    }
   ],
   "source": [
    "popr = []\n",
    "for col in df_merge.columns.tolist():\n",
    "    if col.startswith('1') and col.endswith('_corr'):\n",
    "        popr.append(df_merge[col])\n",
    "        \n",
    "quest1_before = [df_merge['Quest1_before'] for i in range(2)]\n",
    "quest2_before = [df_merge['Quest2_before'] for i in range(2)]\n",
    "quest1_after = [df_merge['Quest1_after'] for i in range(2)]\n",
    "quest2_after = [df_merge['Quest2_after'] for i in range(2)]\n",
    "        \n",
    "df = prepate_set(popr, quest1_before, quest1_after, quest2_before, quest2_after)\n",
    "df"
   ],
   "metadata": {
    "collapsed": false,
    "ExecuteTime": {
     "end_time": "2023-10-18T17:23:27.918906Z",
     "start_time": "2023-10-18T17:23:27.902212Z"
    }
   },
   "id": "a40dbad073d37c8a"
  },
  {
   "cell_type": "code",
   "execution_count": 37,
   "outputs": [
    {
     "name": "stdout",
     "output_type": "stream",
     "text": [
      "----------------\n",
      "quest1_before\n",
      "Wartość statystyki chi-kwadrat: 0.0\n",
      "P-value: 1.0\n",
      "Brak podstaw do odrzucenia H0.\n",
      "----------------\n",
      "quest1_after\n",
      "Wartość statystyki chi-kwadrat: 7.935670045045044\n",
      "P-value: 0.004846967594060261\n",
      "Istnieją podstawy do odrzucenia H0, przyjmujemy hipotezę H1:\n",
      "----------------\n",
      "quest2_before\n",
      "Wartość statystyki chi-kwadrat: 0.9788288288288286\n",
      "P-value: 0.8063745671387934\n",
      "Brak podstaw do odrzucenia H0.\n",
      "----------------\n",
      "quest2_after\n",
      "Wartość statystyki chi-kwadrat: 6.159720246562351\n",
      "P-value: 0.10409284868832222\n",
      "Brak podstaw do odrzucenia H0.\n"
     ]
    }
   ],
   "source": [
    "for i in ['quest1_before', 'quest1_after', 'quest2_before', 'quest2_after']:\n",
    "    print('----------------')\n",
    "    print(i)\n",
    "    tab = create_contingency_table(df, i)\n",
    "    conduct_chi2test(tab, ALPHA)"
   ],
   "metadata": {
    "collapsed": false,
    "ExecuteTime": {
     "end_time": "2023-10-18T17:23:28.221048Z",
     "start_time": "2023-10-18T17:23:28.183129Z"
    }
   },
   "id": "de3a38cb7153cb7c"
  },
  {
   "cell_type": "markdown",
   "source": [
    "-> 2"
   ],
   "metadata": {
    "collapsed": false
   },
   "id": "34d6b1b0a9361193"
  },
  {
   "cell_type": "code",
   "execution_count": 38,
   "outputs": [
    {
     "data": {
      "text/plain": "    poprawnosc quest1_before quest2_before quest1_after quest2_after\n0            0             B        wykres            B       wykres\n1            1             B        wykres            B       wykres\n2            1             B          mapa            B         mapa\n3            1             B          mapa            B       wykres\n4            1             B        tabela            B       tabela\n..         ...           ...           ...          ...          ...\n77           1             B          mapa            B       wykres\n78           1             B          mapa            B       wykres\n79           1             B          mapa            B        tekst\n80           0             B          mapa            B       tabela\n81           1             B          mapa            A         mapa\n\n[82 rows x 5 columns]",
      "text/html": "<div>\n<style scoped>\n    .dataframe tbody tr th:only-of-type {\n        vertical-align: middle;\n    }\n\n    .dataframe tbody tr th {\n        vertical-align: top;\n    }\n\n    .dataframe thead th {\n        text-align: right;\n    }\n</style>\n<table border=\"1\" class=\"dataframe\">\n  <thead>\n    <tr style=\"text-align: right;\">\n      <th></th>\n      <th>poprawnosc</th>\n      <th>quest1_before</th>\n      <th>quest2_before</th>\n      <th>quest1_after</th>\n      <th>quest2_after</th>\n    </tr>\n  </thead>\n  <tbody>\n    <tr>\n      <th>0</th>\n      <td>0</td>\n      <td>B</td>\n      <td>wykres</td>\n      <td>B</td>\n      <td>wykres</td>\n    </tr>\n    <tr>\n      <th>1</th>\n      <td>1</td>\n      <td>B</td>\n      <td>wykres</td>\n      <td>B</td>\n      <td>wykres</td>\n    </tr>\n    <tr>\n      <th>2</th>\n      <td>1</td>\n      <td>B</td>\n      <td>mapa</td>\n      <td>B</td>\n      <td>mapa</td>\n    </tr>\n    <tr>\n      <th>3</th>\n      <td>1</td>\n      <td>B</td>\n      <td>mapa</td>\n      <td>B</td>\n      <td>wykres</td>\n    </tr>\n    <tr>\n      <th>4</th>\n      <td>1</td>\n      <td>B</td>\n      <td>tabela</td>\n      <td>B</td>\n      <td>tabela</td>\n    </tr>\n    <tr>\n      <th>...</th>\n      <td>...</td>\n      <td>...</td>\n      <td>...</td>\n      <td>...</td>\n      <td>...</td>\n    </tr>\n    <tr>\n      <th>77</th>\n      <td>1</td>\n      <td>B</td>\n      <td>mapa</td>\n      <td>B</td>\n      <td>wykres</td>\n    </tr>\n    <tr>\n      <th>78</th>\n      <td>1</td>\n      <td>B</td>\n      <td>mapa</td>\n      <td>B</td>\n      <td>wykres</td>\n    </tr>\n    <tr>\n      <th>79</th>\n      <td>1</td>\n      <td>B</td>\n      <td>mapa</td>\n      <td>B</td>\n      <td>tekst</td>\n    </tr>\n    <tr>\n      <th>80</th>\n      <td>0</td>\n      <td>B</td>\n      <td>mapa</td>\n      <td>B</td>\n      <td>tabela</td>\n    </tr>\n    <tr>\n      <th>81</th>\n      <td>1</td>\n      <td>B</td>\n      <td>mapa</td>\n      <td>A</td>\n      <td>mapa</td>\n    </tr>\n  </tbody>\n</table>\n<p>82 rows × 5 columns</p>\n</div>"
     },
     "execution_count": 38,
     "metadata": {},
     "output_type": "execute_result"
    }
   ],
   "source": [
    "popr = []\n",
    "for col in df_merge.columns.tolist():\n",
    "    if col.startswith('2') and col.endswith('_corr'):\n",
    "        popr.append(df_merge[col])\n",
    "        \n",
    "quest1_before = [df_merge['Quest1_before'] for i in range(2)]\n",
    "quest2_before = [df_merge['Quest2_before'] for i in range(2)]\n",
    "quest1_after = [df_merge['Quest1_after'] for i in range(2)]\n",
    "quest2_after = [df_merge['Quest2_after'] for i in range(2)]\n",
    "        \n",
    "df = prepate_set(popr, quest1_before, quest1_after, quest2_before, quest2_after)\n",
    "df"
   ],
   "metadata": {
    "collapsed": false,
    "ExecuteTime": {
     "end_time": "2023-10-18T17:23:28.567121Z",
     "start_time": "2023-10-18T17:23:28.555574Z"
    }
   },
   "id": "2c961fe779223bc4"
  },
  {
   "cell_type": "code",
   "execution_count": 39,
   "outputs": [
    {
     "name": "stdout",
     "output_type": "stream",
     "text": [
      "----------------\n",
      "quest1_before\n",
      "Wartość statystyki chi-kwadrat: 0.37981487382740153\n",
      "P-value: 0.5377023293868424\n",
      "Brak podstaw do odrzucenia H0.\n",
      "----------------\n",
      "quest1_after\n",
      "Wartość statystyki chi-kwadrat: 0.033372412407047594\n",
      "P-value: 0.8550481858414848\n",
      "Brak podstaw do odrzucenia H0.\n",
      "----------------\n",
      "quest2_before\n",
      "Wartość statystyki chi-kwadrat: 0.8905849738568967\n",
      "P-value: 0.8276992569297563\n",
      "Brak podstaw do odrzucenia H0.\n",
      "----------------\n",
      "quest2_after\n",
      "Wartość statystyki chi-kwadrat: 1.0588579037867332\n",
      "P-value: 0.7870140608514232\n",
      "Brak podstaw do odrzucenia H0.\n"
     ]
    }
   ],
   "source": [
    "for i in ['quest1_before', 'quest1_after', 'quest2_before', 'quest2_after']:\n",
    "    print('----------------')\n",
    "    print(i)\n",
    "    tab = create_contingency_table(df, i)\n",
    "    conduct_chi2test(tab, ALPHA)"
   ],
   "metadata": {
    "collapsed": false,
    "ExecuteTime": {
     "end_time": "2023-10-18T17:23:28.777823Z",
     "start_time": "2023-10-18T17:23:28.739915Z"
    }
   },
   "id": "96f7347e62228665"
  },
  {
   "cell_type": "markdown",
   "source": [
    "-> 3"
   ],
   "metadata": {
    "collapsed": false
   },
   "id": "9522623dee2a7be6"
  },
  {
   "cell_type": "code",
   "execution_count": 40,
   "outputs": [
    {
     "data": {
      "text/plain": "    poprawnosc quest1_before quest2_before quest1_after quest2_after\n0            1             B        wykres            B       wykres\n1            0             B        wykres            B       wykres\n2            0             B          mapa            B         mapa\n3            1             B          mapa            B       wykres\n4            1             B        tabela            B       tabela\n..         ...           ...           ...          ...          ...\n77           1             B          mapa            B       wykres\n78           0             B          mapa            B       wykres\n79           0             B          mapa            B        tekst\n80           0             B          mapa            B       tabela\n81           0             B          mapa            A         mapa\n\n[82 rows x 5 columns]",
      "text/html": "<div>\n<style scoped>\n    .dataframe tbody tr th:only-of-type {\n        vertical-align: middle;\n    }\n\n    .dataframe tbody tr th {\n        vertical-align: top;\n    }\n\n    .dataframe thead th {\n        text-align: right;\n    }\n</style>\n<table border=\"1\" class=\"dataframe\">\n  <thead>\n    <tr style=\"text-align: right;\">\n      <th></th>\n      <th>poprawnosc</th>\n      <th>quest1_before</th>\n      <th>quest2_before</th>\n      <th>quest1_after</th>\n      <th>quest2_after</th>\n    </tr>\n  </thead>\n  <tbody>\n    <tr>\n      <th>0</th>\n      <td>1</td>\n      <td>B</td>\n      <td>wykres</td>\n      <td>B</td>\n      <td>wykres</td>\n    </tr>\n    <tr>\n      <th>1</th>\n      <td>0</td>\n      <td>B</td>\n      <td>wykres</td>\n      <td>B</td>\n      <td>wykres</td>\n    </tr>\n    <tr>\n      <th>2</th>\n      <td>0</td>\n      <td>B</td>\n      <td>mapa</td>\n      <td>B</td>\n      <td>mapa</td>\n    </tr>\n    <tr>\n      <th>3</th>\n      <td>1</td>\n      <td>B</td>\n      <td>mapa</td>\n      <td>B</td>\n      <td>wykres</td>\n    </tr>\n    <tr>\n      <th>4</th>\n      <td>1</td>\n      <td>B</td>\n      <td>tabela</td>\n      <td>B</td>\n      <td>tabela</td>\n    </tr>\n    <tr>\n      <th>...</th>\n      <td>...</td>\n      <td>...</td>\n      <td>...</td>\n      <td>...</td>\n      <td>...</td>\n    </tr>\n    <tr>\n      <th>77</th>\n      <td>1</td>\n      <td>B</td>\n      <td>mapa</td>\n      <td>B</td>\n      <td>wykres</td>\n    </tr>\n    <tr>\n      <th>78</th>\n      <td>0</td>\n      <td>B</td>\n      <td>mapa</td>\n      <td>B</td>\n      <td>wykres</td>\n    </tr>\n    <tr>\n      <th>79</th>\n      <td>0</td>\n      <td>B</td>\n      <td>mapa</td>\n      <td>B</td>\n      <td>tekst</td>\n    </tr>\n    <tr>\n      <th>80</th>\n      <td>0</td>\n      <td>B</td>\n      <td>mapa</td>\n      <td>B</td>\n      <td>tabela</td>\n    </tr>\n    <tr>\n      <th>81</th>\n      <td>0</td>\n      <td>B</td>\n      <td>mapa</td>\n      <td>A</td>\n      <td>mapa</td>\n    </tr>\n  </tbody>\n</table>\n<p>82 rows × 5 columns</p>\n</div>"
     },
     "execution_count": 40,
     "metadata": {},
     "output_type": "execute_result"
    }
   ],
   "source": [
    "popr = []\n",
    "for col in df_merge.columns.tolist():\n",
    "    if col.startswith('3') and col.endswith('_corr'):\n",
    "        popr.append(df_merge[col])\n",
    "        \n",
    "quest1_before = [df_merge['Quest1_before'] for i in range(2)]\n",
    "quest2_before = [df_merge['Quest2_before'] for i in range(2)]\n",
    "quest1_after = [df_merge['Quest1_after'] for i in range(2)]\n",
    "quest2_after = [df_merge['Quest2_after'] for i in range(2)]\n",
    "        \n",
    "df = prepate_set(popr, quest1_before, quest1_after, quest2_before, quest2_after)\n",
    "df"
   ],
   "metadata": {
    "collapsed": false,
    "ExecuteTime": {
     "end_time": "2023-10-18T17:23:29.459080Z",
     "start_time": "2023-10-18T17:23:29.447538Z"
    }
   },
   "id": "cbe3044ae71da3f1"
  },
  {
   "cell_type": "code",
   "execution_count": 41,
   "outputs": [
    {
     "name": "stdout",
     "output_type": "stream",
     "text": [
      "----------------\n",
      "quest1_before\n",
      "Wartość statystyki chi-kwadrat: 0.1385135135135135\n",
      "P-value: 0.7097632756475021\n",
      "Brak podstaw do odrzucenia H0.\n",
      "----------------\n",
      "quest1_after\n",
      "Wartość statystyki chi-kwadrat: 1.553030303030303\n",
      "P-value: 0.21268864307211574\n",
      "Brak podstaw do odrzucenia H0.\n",
      "----------------\n",
      "quest2_before\n",
      "Wartość statystyki chi-kwadrat: 3.533333333333333\n",
      "P-value: 0.31646456315918847\n",
      "Brak podstaw do odrzucenia H0.\n",
      "----------------\n",
      "quest2_after\n",
      "Wartość statystyki chi-kwadrat: 12.322807017543859\n",
      "P-value: 0.006355332891152612\n",
      "Istnieją podstawy do odrzucenia H0, przyjmujemy hipotezę H1:\n"
     ]
    }
   ],
   "source": [
    "for i in ['quest1_before', 'quest1_after', 'quest2_before', 'quest2_after']:\n",
    "    print('----------------')\n",
    "    print(i)\n",
    "    tab = create_contingency_table(df, i)\n",
    "    conduct_chi2test(tab, ALPHA)"
   ],
   "metadata": {
    "collapsed": false,
    "ExecuteTime": {
     "end_time": "2023-10-18T17:23:29.881559Z",
     "start_time": "2023-10-18T17:23:29.850027Z"
    }
   },
   "id": "c373ee30c60d5c98"
  },
  {
   "cell_type": "markdown",
   "source": [
    "e) zadania 1a, 1b, 2a, 2b, 3a, 3b"
   ],
   "metadata": {
    "collapsed": false
   },
   "id": "f0ccc252e69bf48"
  },
  {
   "cell_type": "code",
   "execution_count": 42,
   "outputs": [],
   "source": [
    "df1a = df_merge[['Quest1_before', 'Quest1_after', 'Quest2_before', 'Quest2_after', '1a_corr']].rename(columns={'1a_corr':'poprawnosc'})\n",
    "df2a = df_merge[['Quest1_before', 'Quest1_after', 'Quest2_before', 'Quest2_after', '2a_corr']].rename(columns={'2a_corr':'poprawnosc'})\n",
    "df3a = df_merge[['Quest1_before', 'Quest1_after', 'Quest2_before', 'Quest2_after', '3a_corr']].rename(columns={'3a_corr':'poprawnosc'})\n",
    "\n",
    "df1b = df_merge[['Quest1_before', 'Quest1_after', 'Quest2_before', 'Quest2_after', '1b_corr']].rename(columns={'1b_corr':'poprawnosc'})\n",
    "df2b = df_merge[['Quest1_before', 'Quest1_after', 'Quest2_before', 'Quest2_after', '2b_corr']].rename(columns={'2b_corr':'poprawnosc'})\n",
    "df3b = df_merge[['Quest1_before', 'Quest1_after', 'Quest2_before', 'Quest2_after', '3b_corr']].rename(columns={'3b_corr':'poprawnosc'})\n",
    "\n",
    "dfs = [df1a, df1b, df2a, df2b, df3a, df3b]"
   ],
   "metadata": {
    "collapsed": false,
    "ExecuteTime": {
     "end_time": "2023-10-18T17:23:30.766040Z",
     "start_time": "2023-10-18T17:23:30.754151Z"
    }
   },
   "id": "c8afd05360ec6596"
  },
  {
   "cell_type": "code",
   "execution_count": 43,
   "outputs": [
    {
     "name": "stdout",
     "output_type": "stream",
     "text": [
      "---------------------------------------------\n",
      "1\n",
      "----------------\n",
      "Quest1_before\n",
      "Wartość statystyki chi-kwadrat: 0.00038475975975976035\n",
      "P-value: 0.9843502633116243\n",
      "Brak podstaw do odrzucenia H0.\n",
      "----------------\n",
      "Quest1_after\n",
      "Wartość statystyki chi-kwadrat: 5.406098484848484\n",
      "P-value: 0.020066516230538914\n",
      "Istnieją podstawy do odrzucenia H0, przyjmujemy hipotezę H1:\n",
      "----------------\n",
      "Quest2_before\n",
      "Wartość statystyki chi-kwadrat: 0.5759523809523808\n",
      "P-value: 0.9019147738707174\n",
      "Brak podstaw do odrzucenia H0.\n",
      "----------------\n",
      "Quest2_after\n",
      "Wartość statystyki chi-kwadrat: 6.593567251461989\n",
      "P-value: 0.08604458771266413\n",
      "Brak podstaw do odrzucenia H0.\n",
      "---------------------------------------------\n",
      "2\n",
      "----------------\n",
      "Quest1_before\n",
      "Wartość statystyki chi-kwadrat: 0.0\n",
      "P-value: 1.0\n",
      "Brak podstaw do odrzucenia H0.\n",
      "----------------\n",
      "Quest1_after\n",
      "Wartość statystyki chi-kwadrat: 0.8852272727272728\n",
      "P-value: 0.34677395734420646\n",
      "Brak podstaw do odrzucenia H0.\n",
      "----------------\n",
      "Quest2_before\n",
      "Wartość statystyki chi-kwadrat: 1.04640768588137\n",
      "P-value: 0.7900246250688889\n",
      "Brak podstaw do odrzucenia H0.\n",
      "----------------\n",
      "Quest2_after\n",
      "Wartość statystyki chi-kwadrat: 0.8505386272699293\n",
      "P-value: 0.8373445114015542\n",
      "Brak podstaw do odrzucenia H0.\n",
      "---------------------------------------------\n",
      "3\n",
      "----------------\n",
      "Quest1_before\n",
      "Wartość statystyki chi-kwadrat: 0.6020163482447966\n",
      "P-value: 0.43780973041461047\n",
      "Brak podstaw do odrzucenia H0.\n",
      "----------------\n",
      "Quest1_after\n",
      "Wartość statystyki chi-kwadrat: 0.0\n",
      "P-value: 1.0\n",
      "Brak podstaw do odrzucenia H0.\n",
      "----------------\n",
      "Quest2_before\n",
      "Wartość statystyki chi-kwadrat: 0.03310071154898744\n",
      "P-value: 0.9984141348881518\n",
      "Brak podstaw do odrzucenia H0.\n",
      "----------------\n",
      "Quest2_after\n",
      "Wartość statystyki chi-kwadrat: 2.593607582173825\n",
      "P-value: 0.4586113225691323\n",
      "Brak podstaw do odrzucenia H0.\n",
      "---------------------------------------------\n",
      "4\n",
      "----------------\n",
      "Quest1_before\n",
      "Wartość statystyki chi-kwadrat: 0.0\n",
      "P-value: 1.0\n",
      "Brak podstaw do odrzucenia H0.\n",
      "----------------\n",
      "Quest1_after\n",
      "Wartość statystyki chi-kwadrat: 0.19059917355371891\n",
      "P-value: 0.6624183978085577\n",
      "Brak podstaw do odrzucenia H0.\n",
      "----------------\n",
      "Quest2_before\n",
      "Wartość statystyki chi-kwadrat: 2.286060606060606\n",
      "P-value: 0.5151965834264471\n",
      "Brak podstaw do odrzucenia H0.\n",
      "----------------\n",
      "Quest2_after\n",
      "Wartość statystyki chi-kwadrat: 1.1421584263689528\n",
      "P-value: 0.7669078368500353\n",
      "Brak podstaw do odrzucenia H0.\n",
      "---------------------------------------------\n",
      "5\n",
      "----------------\n",
      "Quest1_before\n",
      "Wartość statystyki chi-kwadrat: 0.13934194361825952\n",
      "P-value: 0.7089360876422948\n",
      "Brak podstaw do odrzucenia H0.\n",
      "----------------\n",
      "Quest1_after\n",
      "Wartość statystyki chi-kwadrat: 0.0\n",
      "P-value: 1.0\n",
      "Brak podstaw do odrzucenia H0.\n",
      "----------------\n",
      "Quest2_before\n",
      "Wartość statystyki chi-kwadrat: 2.98695602642971\n",
      "P-value: 0.39364067575112605\n",
      "Brak podstaw do odrzucenia H0.\n",
      "----------------\n",
      "Quest2_after\n",
      "Wartość statystyki chi-kwadrat: 4.545173340048686\n",
      "P-value: 0.20829614814340108\n",
      "Brak podstaw do odrzucenia H0.\n",
      "---------------------------------------------\n",
      "6\n",
      "----------------\n",
      "Quest1_before\n",
      "Wartość statystyki chi-kwadrat: 0.0\n",
      "P-value: 1.0\n",
      "Brak podstaw do odrzucenia H0.\n",
      "----------------\n",
      "Quest1_after\n",
      "Wartość statystyki chi-kwadrat: 3.371264680295781\n",
      "P-value: 0.06634280910760464\n",
      "Brak podstaw do odrzucenia H0.\n",
      "----------------\n",
      "Quest2_before\n",
      "Wartość statystyki chi-kwadrat: 4.155115060378218\n",
      "P-value: 0.24519431481534615\n",
      "Brak podstaw do odrzucenia H0.\n",
      "----------------\n",
      "Quest2_after\n",
      "Wartość statystyki chi-kwadrat: 8.355044908923025\n",
      "P-value: 0.039216541706365536\n",
      "Istnieją podstawy do odrzucenia H0, przyjmujemy hipotezę H1:\n"
     ]
    }
   ],
   "source": [
    "for nr, dfx in enumerate(dfs):\n",
    "    print('---------------------------------------------')\n",
    "    print(nr+1)\n",
    "    for i in ['Quest1_before', 'Quest1_after', 'Quest2_before', 'Quest2_after']:\n",
    "        print('----------------')\n",
    "        print(i)\n",
    "        tab = create_contingency_table(dfx, i)\n",
    "        conduct_chi2test(tab, ALPHA)"
   ],
   "metadata": {
    "collapsed": false,
    "ExecuteTime": {
     "end_time": "2023-10-18T17:23:31.202447Z",
     "start_time": "2023-10-18T17:23:31.117144Z"
    }
   },
   "id": "c3c87da0819a5ac1"
  },
  {
   "cell_type": "markdown",
   "source": [
    "### Podsumowanie:\n",
    "Istnieje istotna statystycznie zależność między poprawnością odpowiedzi a odpowiedzią na pytanie dotyczące preferowanej formy graficznej na poziomie istotności $\\alpha=0.05$ dla:\n",
    "- wszystkie grafiki, quest1_after\n",
    "- grafiki B, quest1_after\n",
    "- grafiki 1, quest1_after\n",
    "- grafiki 3, quest2_after\n",
    "- grafika 1a, quest1_after\n",
    "- grafika 3b, quest2_after\n",
    "\n"
   ],
   "metadata": {
    "collapsed": false
   },
   "id": "ddb02e1deb8df4eb"
  },
  {
   "cell_type": "markdown",
   "source": [
    "### Analiza ossoby które zmieniły zdanie vs osoby które pozostały przy swojej opinii\n",
    "**H0:** Nie ma istotnej statystycznie zależności między poprawnością odpowiedzi a zmianą zdania w pytaniu 1/2.\n",
    "**H1:** Istnieje istotna statystycznie zależność między poprawnością odpowiedzi a zmianą zdania w pytaniu 1/2.\n",
    "**Poziom istotności:** $\\alpha=0.05$\n"
   ],
   "metadata": {
    "collapsed": false
   },
   "id": "fe68f4591671651"
  },
  {
   "cell_type": "code",
   "execution_count": 49,
   "outputs": [
    {
     "data": {
      "text/plain": "    ID Quest1_before Quest2_before  1a_corr  1b_corr  2a_corr  2b_corr  \\\n0    1             B        wykres        1        1        0        0   \n1    2             B        wykres        1        1        1        1   \n2    3             B          mapa        1        1        1        1   \n3    4             B          mapa        1        1        1        1   \n4    5             B        tabela        1        1        1        1   \n5    6             B        wykres        1        1        1        1   \n6    7             B         tekst        1        1        1        1   \n7   11             B          mapa        1        0        0        0   \n8   12             B          mapa        1        1        0        0   \n9   13             A          mapa        1        1        1        1   \n10  14             B          mapa        1        1        1        0   \n11  15             B         tekst        1        1        0        1   \n12  16             B        tabela        1        1        1        0   \n13  17             B        wykres        1        1        1        1   \n14  18             B          mapa        1        1        0        0   \n15  19             B          mapa        1        1        1        1   \n16  20             B        tabela        1        1        0        0   \n17  21             B          mapa        1        1        1        1   \n18  22             B          mapa        1        1        1        1   \n19  23             B        tabela        1        1        1        1   \n20  24             B        tabela        1        1        1        1   \n21  25             B        tabela        0        0        0        0   \n22  26             B        wykres        1        1        1        1   \n23  27             B        wykres        1        1        0        0   \n24  29             B          mapa        1        1        0        1   \n25  30             B        wykres        0        0        1        1   \n26  31             A          mapa        0        1        1        1   \n27  32             B          mapa        1        1        1        1   \n28  33             B         tekst        1        1        1        1   \n29  34             B        wykres        1        1        0        1   \n30  35             A        tabela        1        1        1        1   \n31  37             B        wykres        1        1        1        1   \n32  38             B        wykres        1        1        1        1   \n33  39             B          mapa        0        1        1        1   \n34  40             B          mapa        1        1        1        1   \n35  41             A          mapa        1        1        1        0   \n36  42             B          mapa        1        1        1        1   \n37  43             B          mapa        1        1        1        1   \n38  44             B          mapa        1        1        0        1   \n39  45             B          mapa        1        1        0        0   \n40  46             B          mapa        0        1        1        1   \n\n    3a_corr  3b_corr Quest1_after Quest2_after  is_change_1  is_change_2  \n0         1        1            B       wykres        False        False  \n1         0        1            B       wykres        False        False  \n2         0        0            B         mapa        False        False  \n3         1        0            B       wykres        False         True  \n4         1        1            B       tabela        False        False  \n5         0        1            B         mapa        False         True  \n6         1        1            B       wykres        False         True  \n7         0        1            B       wykres        False         True  \n8         0        0            B         mapa        False        False  \n9         1        0            A         mapa        False        False  \n10        1        1            B       tabela        False         True  \n11        1        0            B         mapa        False         True  \n12        1        1            B       wykres        False         True  \n13        0        0            B         mapa        False         True  \n14        0        0            A       wykres         True         True  \n15        0        1            B       tabela        False         True  \n16        0        1            B         mapa        False         True  \n17        1        0            B         mapa        False        False  \n18        0        0            A         mapa         True        False  \n19        0        0            B       wykres        False         True  \n20        1        1            B       tabela        False        False  \n21        0        0            A         mapa         True         True  \n22        0        1            B         mapa        False         True  \n23        1        0            A         mapa         True         True  \n24        1        1            B       tabela        False         True  \n25        1        0            A         mapa         True         True  \n26        0        0            A         mapa        False        False  \n27        1        1            A         mapa         True        False  \n28        1        0            B       wykres        False         True  \n29        0        0            B       wykres        False        False  \n30        1        1            B       wykres         True         True  \n31        1        1            B         mapa        False         True  \n32        1        1            B       wykres        False        False  \n33        0        0            B         mapa        False        False  \n34        0        0            A         mapa         True        False  \n35        1        1            A       wykres        False         True  \n36        0        1            B       wykres        False         True  \n37        1        0            B       wykres        False         True  \n38        0        0            B        tekst        False         True  \n39        1        0            B       tabela        False         True  \n40        1        0            A         mapa         True        False  ",
      "text/html": "<div>\n<style scoped>\n    .dataframe tbody tr th:only-of-type {\n        vertical-align: middle;\n    }\n\n    .dataframe tbody tr th {\n        vertical-align: top;\n    }\n\n    .dataframe thead th {\n        text-align: right;\n    }\n</style>\n<table border=\"1\" class=\"dataframe\">\n  <thead>\n    <tr style=\"text-align: right;\">\n      <th></th>\n      <th>ID</th>\n      <th>Quest1_before</th>\n      <th>Quest2_before</th>\n      <th>1a_corr</th>\n      <th>1b_corr</th>\n      <th>2a_corr</th>\n      <th>2b_corr</th>\n      <th>3a_corr</th>\n      <th>3b_corr</th>\n      <th>Quest1_after</th>\n      <th>Quest2_after</th>\n      <th>is_change_1</th>\n      <th>is_change_2</th>\n    </tr>\n  </thead>\n  <tbody>\n    <tr>\n      <th>0</th>\n      <td>1</td>\n      <td>B</td>\n      <td>wykres</td>\n      <td>1</td>\n      <td>1</td>\n      <td>0</td>\n      <td>0</td>\n      <td>1</td>\n      <td>1</td>\n      <td>B</td>\n      <td>wykres</td>\n      <td>False</td>\n      <td>False</td>\n    </tr>\n    <tr>\n      <th>1</th>\n      <td>2</td>\n      <td>B</td>\n      <td>wykres</td>\n      <td>1</td>\n      <td>1</td>\n      <td>1</td>\n      <td>1</td>\n      <td>0</td>\n      <td>1</td>\n      <td>B</td>\n      <td>wykres</td>\n      <td>False</td>\n      <td>False</td>\n    </tr>\n    <tr>\n      <th>2</th>\n      <td>3</td>\n      <td>B</td>\n      <td>mapa</td>\n      <td>1</td>\n      <td>1</td>\n      <td>1</td>\n      <td>1</td>\n      <td>0</td>\n      <td>0</td>\n      <td>B</td>\n      <td>mapa</td>\n      <td>False</td>\n      <td>False</td>\n    </tr>\n    <tr>\n      <th>3</th>\n      <td>4</td>\n      <td>B</td>\n      <td>mapa</td>\n      <td>1</td>\n      <td>1</td>\n      <td>1</td>\n      <td>1</td>\n      <td>1</td>\n      <td>0</td>\n      <td>B</td>\n      <td>wykres</td>\n      <td>False</td>\n      <td>True</td>\n    </tr>\n    <tr>\n      <th>4</th>\n      <td>5</td>\n      <td>B</td>\n      <td>tabela</td>\n      <td>1</td>\n      <td>1</td>\n      <td>1</td>\n      <td>1</td>\n      <td>1</td>\n      <td>1</td>\n      <td>B</td>\n      <td>tabela</td>\n      <td>False</td>\n      <td>False</td>\n    </tr>\n    <tr>\n      <th>5</th>\n      <td>6</td>\n      <td>B</td>\n      <td>wykres</td>\n      <td>1</td>\n      <td>1</td>\n      <td>1</td>\n      <td>1</td>\n      <td>0</td>\n      <td>1</td>\n      <td>B</td>\n      <td>mapa</td>\n      <td>False</td>\n      <td>True</td>\n    </tr>\n    <tr>\n      <th>6</th>\n      <td>7</td>\n      <td>B</td>\n      <td>tekst</td>\n      <td>1</td>\n      <td>1</td>\n      <td>1</td>\n      <td>1</td>\n      <td>1</td>\n      <td>1</td>\n      <td>B</td>\n      <td>wykres</td>\n      <td>False</td>\n      <td>True</td>\n    </tr>\n    <tr>\n      <th>7</th>\n      <td>11</td>\n      <td>B</td>\n      <td>mapa</td>\n      <td>1</td>\n      <td>0</td>\n      <td>0</td>\n      <td>0</td>\n      <td>0</td>\n      <td>1</td>\n      <td>B</td>\n      <td>wykres</td>\n      <td>False</td>\n      <td>True</td>\n    </tr>\n    <tr>\n      <th>8</th>\n      <td>12</td>\n      <td>B</td>\n      <td>mapa</td>\n      <td>1</td>\n      <td>1</td>\n      <td>0</td>\n      <td>0</td>\n      <td>0</td>\n      <td>0</td>\n      <td>B</td>\n      <td>mapa</td>\n      <td>False</td>\n      <td>False</td>\n    </tr>\n    <tr>\n      <th>9</th>\n      <td>13</td>\n      <td>A</td>\n      <td>mapa</td>\n      <td>1</td>\n      <td>1</td>\n      <td>1</td>\n      <td>1</td>\n      <td>1</td>\n      <td>0</td>\n      <td>A</td>\n      <td>mapa</td>\n      <td>False</td>\n      <td>False</td>\n    </tr>\n    <tr>\n      <th>10</th>\n      <td>14</td>\n      <td>B</td>\n      <td>mapa</td>\n      <td>1</td>\n      <td>1</td>\n      <td>1</td>\n      <td>0</td>\n      <td>1</td>\n      <td>1</td>\n      <td>B</td>\n      <td>tabela</td>\n      <td>False</td>\n      <td>True</td>\n    </tr>\n    <tr>\n      <th>11</th>\n      <td>15</td>\n      <td>B</td>\n      <td>tekst</td>\n      <td>1</td>\n      <td>1</td>\n      <td>0</td>\n      <td>1</td>\n      <td>1</td>\n      <td>0</td>\n      <td>B</td>\n      <td>mapa</td>\n      <td>False</td>\n      <td>True</td>\n    </tr>\n    <tr>\n      <th>12</th>\n      <td>16</td>\n      <td>B</td>\n      <td>tabela</td>\n      <td>1</td>\n      <td>1</td>\n      <td>1</td>\n      <td>0</td>\n      <td>1</td>\n      <td>1</td>\n      <td>B</td>\n      <td>wykres</td>\n      <td>False</td>\n      <td>True</td>\n    </tr>\n    <tr>\n      <th>13</th>\n      <td>17</td>\n      <td>B</td>\n      <td>wykres</td>\n      <td>1</td>\n      <td>1</td>\n      <td>1</td>\n      <td>1</td>\n      <td>0</td>\n      <td>0</td>\n      <td>B</td>\n      <td>mapa</td>\n      <td>False</td>\n      <td>True</td>\n    </tr>\n    <tr>\n      <th>14</th>\n      <td>18</td>\n      <td>B</td>\n      <td>mapa</td>\n      <td>1</td>\n      <td>1</td>\n      <td>0</td>\n      <td>0</td>\n      <td>0</td>\n      <td>0</td>\n      <td>A</td>\n      <td>wykres</td>\n      <td>True</td>\n      <td>True</td>\n    </tr>\n    <tr>\n      <th>15</th>\n      <td>19</td>\n      <td>B</td>\n      <td>mapa</td>\n      <td>1</td>\n      <td>1</td>\n      <td>1</td>\n      <td>1</td>\n      <td>0</td>\n      <td>1</td>\n      <td>B</td>\n      <td>tabela</td>\n      <td>False</td>\n      <td>True</td>\n    </tr>\n    <tr>\n      <th>16</th>\n      <td>20</td>\n      <td>B</td>\n      <td>tabela</td>\n      <td>1</td>\n      <td>1</td>\n      <td>0</td>\n      <td>0</td>\n      <td>0</td>\n      <td>1</td>\n      <td>B</td>\n      <td>mapa</td>\n      <td>False</td>\n      <td>True</td>\n    </tr>\n    <tr>\n      <th>17</th>\n      <td>21</td>\n      <td>B</td>\n      <td>mapa</td>\n      <td>1</td>\n      <td>1</td>\n      <td>1</td>\n      <td>1</td>\n      <td>1</td>\n      <td>0</td>\n      <td>B</td>\n      <td>mapa</td>\n      <td>False</td>\n      <td>False</td>\n    </tr>\n    <tr>\n      <th>18</th>\n      <td>22</td>\n      <td>B</td>\n      <td>mapa</td>\n      <td>1</td>\n      <td>1</td>\n      <td>1</td>\n      <td>1</td>\n      <td>0</td>\n      <td>0</td>\n      <td>A</td>\n      <td>mapa</td>\n      <td>True</td>\n      <td>False</td>\n    </tr>\n    <tr>\n      <th>19</th>\n      <td>23</td>\n      <td>B</td>\n      <td>tabela</td>\n      <td>1</td>\n      <td>1</td>\n      <td>1</td>\n      <td>1</td>\n      <td>0</td>\n      <td>0</td>\n      <td>B</td>\n      <td>wykres</td>\n      <td>False</td>\n      <td>True</td>\n    </tr>\n    <tr>\n      <th>20</th>\n      <td>24</td>\n      <td>B</td>\n      <td>tabela</td>\n      <td>1</td>\n      <td>1</td>\n      <td>1</td>\n      <td>1</td>\n      <td>1</td>\n      <td>1</td>\n      <td>B</td>\n      <td>tabela</td>\n      <td>False</td>\n      <td>False</td>\n    </tr>\n    <tr>\n      <th>21</th>\n      <td>25</td>\n      <td>B</td>\n      <td>tabela</td>\n      <td>0</td>\n      <td>0</td>\n      <td>0</td>\n      <td>0</td>\n      <td>0</td>\n      <td>0</td>\n      <td>A</td>\n      <td>mapa</td>\n      <td>True</td>\n      <td>True</td>\n    </tr>\n    <tr>\n      <th>22</th>\n      <td>26</td>\n      <td>B</td>\n      <td>wykres</td>\n      <td>1</td>\n      <td>1</td>\n      <td>1</td>\n      <td>1</td>\n      <td>0</td>\n      <td>1</td>\n      <td>B</td>\n      <td>mapa</td>\n      <td>False</td>\n      <td>True</td>\n    </tr>\n    <tr>\n      <th>23</th>\n      <td>27</td>\n      <td>B</td>\n      <td>wykres</td>\n      <td>1</td>\n      <td>1</td>\n      <td>0</td>\n      <td>0</td>\n      <td>1</td>\n      <td>0</td>\n      <td>A</td>\n      <td>mapa</td>\n      <td>True</td>\n      <td>True</td>\n    </tr>\n    <tr>\n      <th>24</th>\n      <td>29</td>\n      <td>B</td>\n      <td>mapa</td>\n      <td>1</td>\n      <td>1</td>\n      <td>0</td>\n      <td>1</td>\n      <td>1</td>\n      <td>1</td>\n      <td>B</td>\n      <td>tabela</td>\n      <td>False</td>\n      <td>True</td>\n    </tr>\n    <tr>\n      <th>25</th>\n      <td>30</td>\n      <td>B</td>\n      <td>wykres</td>\n      <td>0</td>\n      <td>0</td>\n      <td>1</td>\n      <td>1</td>\n      <td>1</td>\n      <td>0</td>\n      <td>A</td>\n      <td>mapa</td>\n      <td>True</td>\n      <td>True</td>\n    </tr>\n    <tr>\n      <th>26</th>\n      <td>31</td>\n      <td>A</td>\n      <td>mapa</td>\n      <td>0</td>\n      <td>1</td>\n      <td>1</td>\n      <td>1</td>\n      <td>0</td>\n      <td>0</td>\n      <td>A</td>\n      <td>mapa</td>\n      <td>False</td>\n      <td>False</td>\n    </tr>\n    <tr>\n      <th>27</th>\n      <td>32</td>\n      <td>B</td>\n      <td>mapa</td>\n      <td>1</td>\n      <td>1</td>\n      <td>1</td>\n      <td>1</td>\n      <td>1</td>\n      <td>1</td>\n      <td>A</td>\n      <td>mapa</td>\n      <td>True</td>\n      <td>False</td>\n    </tr>\n    <tr>\n      <th>28</th>\n      <td>33</td>\n      <td>B</td>\n      <td>tekst</td>\n      <td>1</td>\n      <td>1</td>\n      <td>1</td>\n      <td>1</td>\n      <td>1</td>\n      <td>0</td>\n      <td>B</td>\n      <td>wykres</td>\n      <td>False</td>\n      <td>True</td>\n    </tr>\n    <tr>\n      <th>29</th>\n      <td>34</td>\n      <td>B</td>\n      <td>wykres</td>\n      <td>1</td>\n      <td>1</td>\n      <td>0</td>\n      <td>1</td>\n      <td>0</td>\n      <td>0</td>\n      <td>B</td>\n      <td>wykres</td>\n      <td>False</td>\n      <td>False</td>\n    </tr>\n    <tr>\n      <th>30</th>\n      <td>35</td>\n      <td>A</td>\n      <td>tabela</td>\n      <td>1</td>\n      <td>1</td>\n      <td>1</td>\n      <td>1</td>\n      <td>1</td>\n      <td>1</td>\n      <td>B</td>\n      <td>wykres</td>\n      <td>True</td>\n      <td>True</td>\n    </tr>\n    <tr>\n      <th>31</th>\n      <td>37</td>\n      <td>B</td>\n      <td>wykres</td>\n      <td>1</td>\n      <td>1</td>\n      <td>1</td>\n      <td>1</td>\n      <td>1</td>\n      <td>1</td>\n      <td>B</td>\n      <td>mapa</td>\n      <td>False</td>\n      <td>True</td>\n    </tr>\n    <tr>\n      <th>32</th>\n      <td>38</td>\n      <td>B</td>\n      <td>wykres</td>\n      <td>1</td>\n      <td>1</td>\n      <td>1</td>\n      <td>1</td>\n      <td>1</td>\n      <td>1</td>\n      <td>B</td>\n      <td>wykres</td>\n      <td>False</td>\n      <td>False</td>\n    </tr>\n    <tr>\n      <th>33</th>\n      <td>39</td>\n      <td>B</td>\n      <td>mapa</td>\n      <td>0</td>\n      <td>1</td>\n      <td>1</td>\n      <td>1</td>\n      <td>0</td>\n      <td>0</td>\n      <td>B</td>\n      <td>mapa</td>\n      <td>False</td>\n      <td>False</td>\n    </tr>\n    <tr>\n      <th>34</th>\n      <td>40</td>\n      <td>B</td>\n      <td>mapa</td>\n      <td>1</td>\n      <td>1</td>\n      <td>1</td>\n      <td>1</td>\n      <td>0</td>\n      <td>0</td>\n      <td>A</td>\n      <td>mapa</td>\n      <td>True</td>\n      <td>False</td>\n    </tr>\n    <tr>\n      <th>35</th>\n      <td>41</td>\n      <td>A</td>\n      <td>mapa</td>\n      <td>1</td>\n      <td>1</td>\n      <td>1</td>\n      <td>0</td>\n      <td>1</td>\n      <td>1</td>\n      <td>A</td>\n      <td>wykres</td>\n      <td>False</td>\n      <td>True</td>\n    </tr>\n    <tr>\n      <th>36</th>\n      <td>42</td>\n      <td>B</td>\n      <td>mapa</td>\n      <td>1</td>\n      <td>1</td>\n      <td>1</td>\n      <td>1</td>\n      <td>0</td>\n      <td>1</td>\n      <td>B</td>\n      <td>wykres</td>\n      <td>False</td>\n      <td>True</td>\n    </tr>\n    <tr>\n      <th>37</th>\n      <td>43</td>\n      <td>B</td>\n      <td>mapa</td>\n      <td>1</td>\n      <td>1</td>\n      <td>1</td>\n      <td>1</td>\n      <td>1</td>\n      <td>0</td>\n      <td>B</td>\n      <td>wykres</td>\n      <td>False</td>\n      <td>True</td>\n    </tr>\n    <tr>\n      <th>38</th>\n      <td>44</td>\n      <td>B</td>\n      <td>mapa</td>\n      <td>1</td>\n      <td>1</td>\n      <td>0</td>\n      <td>1</td>\n      <td>0</td>\n      <td>0</td>\n      <td>B</td>\n      <td>tekst</td>\n      <td>False</td>\n      <td>True</td>\n    </tr>\n    <tr>\n      <th>39</th>\n      <td>45</td>\n      <td>B</td>\n      <td>mapa</td>\n      <td>1</td>\n      <td>1</td>\n      <td>0</td>\n      <td>0</td>\n      <td>1</td>\n      <td>0</td>\n      <td>B</td>\n      <td>tabela</td>\n      <td>False</td>\n      <td>True</td>\n    </tr>\n    <tr>\n      <th>40</th>\n      <td>46</td>\n      <td>B</td>\n      <td>mapa</td>\n      <td>0</td>\n      <td>1</td>\n      <td>1</td>\n      <td>1</td>\n      <td>1</td>\n      <td>0</td>\n      <td>A</td>\n      <td>mapa</td>\n      <td>True</td>\n      <td>False</td>\n    </tr>\n  </tbody>\n</table>\n</div>"
     },
     "execution_count": 49,
     "metadata": {},
     "output_type": "execute_result"
    }
   ],
   "source": [
    "df_merge['is_change_1'] = df_merge.apply(lambda row: row['Quest1_before'] != row['Quest1_after'], axis=1)\n",
    "df_merge['is_change_2'] = df_merge.apply(lambda row: row['Quest2_before'] != row['Quest2_after'], axis=1)\n",
    "\n",
    "df_merge"
   ],
   "metadata": {
    "collapsed": false,
    "ExecuteTime": {
     "end_time": "2023-10-18T17:34:39.220660Z",
     "start_time": "2023-10-18T17:34:39.201365Z"
    }
   },
   "id": "f885b6d97f467cf2"
  },
  {
   "cell_type": "markdown",
   "source": [
    "a) wszystkie grafiki"
   ],
   "metadata": {
    "collapsed": false
   },
   "id": "ff40f5a946e3250d"
  },
  {
   "cell_type": "code",
   "execution_count": 52,
   "outputs": [
    {
     "data": {
      "text/plain": "     poprawnosc  quest1  quest2\n0             1   False   False\n1             1   False   False\n2             1   False   False\n3             1   False    True\n4             1   False   False\n..          ...     ...     ...\n241           1   False    True\n242           0   False    True\n243           0   False    True\n244           0   False    True\n245           0    True   False\n\n[246 rows x 3 columns]",
      "text/html": "<div>\n<style scoped>\n    .dataframe tbody tr th:only-of-type {\n        vertical-align: middle;\n    }\n\n    .dataframe tbody tr th {\n        vertical-align: top;\n    }\n\n    .dataframe thead th {\n        text-align: right;\n    }\n</style>\n<table border=\"1\" class=\"dataframe\">\n  <thead>\n    <tr style=\"text-align: right;\">\n      <th></th>\n      <th>poprawnosc</th>\n      <th>quest1</th>\n      <th>quest2</th>\n    </tr>\n  </thead>\n  <tbody>\n    <tr>\n      <th>0</th>\n      <td>1</td>\n      <td>False</td>\n      <td>False</td>\n    </tr>\n    <tr>\n      <th>1</th>\n      <td>1</td>\n      <td>False</td>\n      <td>False</td>\n    </tr>\n    <tr>\n      <th>2</th>\n      <td>1</td>\n      <td>False</td>\n      <td>False</td>\n    </tr>\n    <tr>\n      <th>3</th>\n      <td>1</td>\n      <td>False</td>\n      <td>True</td>\n    </tr>\n    <tr>\n      <th>4</th>\n      <td>1</td>\n      <td>False</td>\n      <td>False</td>\n    </tr>\n    <tr>\n      <th>...</th>\n      <td>...</td>\n      <td>...</td>\n      <td>...</td>\n    </tr>\n    <tr>\n      <th>241</th>\n      <td>1</td>\n      <td>False</td>\n      <td>True</td>\n    </tr>\n    <tr>\n      <th>242</th>\n      <td>0</td>\n      <td>False</td>\n      <td>True</td>\n    </tr>\n    <tr>\n      <th>243</th>\n      <td>0</td>\n      <td>False</td>\n      <td>True</td>\n    </tr>\n    <tr>\n      <th>244</th>\n      <td>0</td>\n      <td>False</td>\n      <td>True</td>\n    </tr>\n    <tr>\n      <th>245</th>\n      <td>0</td>\n      <td>True</td>\n      <td>False</td>\n    </tr>\n  </tbody>\n</table>\n<p>246 rows × 3 columns</p>\n</div>"
     },
     "execution_count": 52,
     "metadata": {},
     "output_type": "execute_result"
    }
   ],
   "source": [
    "# wszystkie\n",
    "popr = []\n",
    "for col in df_answers.columns.tolist():\n",
    "    if col.endswith('corr'):\n",
    "        popr.append(df_answers[col])\n",
    "        \n",
    "changes1 = [df_merge['is_change_1'] for i in range(6)]\n",
    "changes2 = [df_merge['is_change_2'] for i in range(6)]\n",
    "df = prepate_set_changes(popr, changes1, changes2)\n",
    "df"
   ],
   "metadata": {
    "collapsed": false,
    "ExecuteTime": {
     "end_time": "2023-10-18T17:38:13.722688Z",
     "start_time": "2023-10-18T17:38:13.707874Z"
    }
   },
   "id": "6df7a2ebb8b3be38"
  },
  {
   "cell_type": "code",
   "execution_count": 55,
   "outputs": [
    {
     "name": "stdout",
     "output_type": "stream",
     "text": [
      "----------------\n",
      "quest1\n",
      "Wartość statystyki chi-kwadrat: 3.717360196493188\n",
      "P-value: 0.05384944288623782\n",
      "Brak podstaw do odrzucenia H0.\n",
      "----------------\n",
      "quest2\n",
      "Wartość statystyki chi-kwadrat: 0.21060853687739414\n",
      "P-value: 0.6462908566505332\n",
      "Brak podstaw do odrzucenia H0.\n"
     ]
    }
   ],
   "source": [
    "for i in ['quest1', 'quest2']:\n",
    "    print('----------------')\n",
    "    print(i)\n",
    "    tab = create_contingency_table(df, i)\n",
    "    conduct_chi2test(tab, ALPHA)"
   ],
   "metadata": {
    "collapsed": false,
    "ExecuteTime": {
     "end_time": "2023-10-18T17:41:27.022484Z",
     "start_time": "2023-10-18T17:41:27.007284Z"
    }
   },
   "id": "77941e61e0e42976"
  },
  {
   "cell_type": "code",
   "execution_count": 57,
   "outputs": [
    {
     "data": {
      "text/plain": "     poprawnosc  quest1  quest2\n0             1   False   False\n1             1   False   False\n2             1   False   False\n3             1   False    True\n4             1   False   False\n..          ...     ...     ...\n118           0   False    True\n119           1   False    True\n120           0   False    True\n121           1   False    True\n122           1    True   False\n\n[123 rows x 3 columns]",
      "text/html": "<div>\n<style scoped>\n    .dataframe tbody tr th:only-of-type {\n        vertical-align: middle;\n    }\n\n    .dataframe tbody tr th {\n        vertical-align: top;\n    }\n\n    .dataframe thead th {\n        text-align: right;\n    }\n</style>\n<table border=\"1\" class=\"dataframe\">\n  <thead>\n    <tr style=\"text-align: right;\">\n      <th></th>\n      <th>poprawnosc</th>\n      <th>quest1</th>\n      <th>quest2</th>\n    </tr>\n  </thead>\n  <tbody>\n    <tr>\n      <th>0</th>\n      <td>1</td>\n      <td>False</td>\n      <td>False</td>\n    </tr>\n    <tr>\n      <th>1</th>\n      <td>1</td>\n      <td>False</td>\n      <td>False</td>\n    </tr>\n    <tr>\n      <th>2</th>\n      <td>1</td>\n      <td>False</td>\n      <td>False</td>\n    </tr>\n    <tr>\n      <th>3</th>\n      <td>1</td>\n      <td>False</td>\n      <td>True</td>\n    </tr>\n    <tr>\n      <th>4</th>\n      <td>1</td>\n      <td>False</td>\n      <td>False</td>\n    </tr>\n    <tr>\n      <th>...</th>\n      <td>...</td>\n      <td>...</td>\n      <td>...</td>\n    </tr>\n    <tr>\n      <th>118</th>\n      <td>0</td>\n      <td>False</td>\n      <td>True</td>\n    </tr>\n    <tr>\n      <th>119</th>\n      <td>1</td>\n      <td>False</td>\n      <td>True</td>\n    </tr>\n    <tr>\n      <th>120</th>\n      <td>0</td>\n      <td>False</td>\n      <td>True</td>\n    </tr>\n    <tr>\n      <th>121</th>\n      <td>1</td>\n      <td>False</td>\n      <td>True</td>\n    </tr>\n    <tr>\n      <th>122</th>\n      <td>1</td>\n      <td>True</td>\n      <td>False</td>\n    </tr>\n  </tbody>\n</table>\n<p>123 rows × 3 columns</p>\n</div>"
     },
     "execution_count": 57,
     "metadata": {},
     "output_type": "execute_result"
    }
   ],
   "source": [
    "# grafiki A\n",
    "popr = []\n",
    "for col in df_answers.columns.tolist():\n",
    "    if col.endswith('a_corr'):\n",
    "        popr.append(df_answers[col])\n",
    "        \n",
    "changes1 = [df_merge['is_change_1'] for i in range(3)]\n",
    "changes2 = [df_merge['is_change_2'] for i in range(3)]\n",
    "df = prepate_set_changes(popr, changes1, changes2)\n",
    "df"
   ],
   "metadata": {
    "collapsed": false,
    "ExecuteTime": {
     "end_time": "2023-10-18T17:42:32.618751Z",
     "start_time": "2023-10-18T17:42:32.602718Z"
    }
   },
   "id": "6ecbec4e1db8f7e7"
  },
  {
   "cell_type": "code",
   "execution_count": 58,
   "outputs": [
    {
     "name": "stdout",
     "output_type": "stream",
     "text": [
      "----------------\n",
      "quest1\n",
      "Wartość statystyki chi-kwadrat: 0.5850237135483183\n",
      "P-value: 0.4443498952350563\n",
      "Brak podstaw do odrzucenia H0.\n",
      "----------------\n",
      "quest2\n",
      "Wartość statystyki chi-kwadrat: 0.0\n",
      "P-value: 1.0\n",
      "Brak podstaw do odrzucenia H0.\n"
     ]
    }
   ],
   "source": [
    "for i in ['quest1', 'quest2']:\n",
    "    print('----------------')\n",
    "    print(i)\n",
    "    tab = create_contingency_table(df, i)\n",
    "    conduct_chi2test(tab, ALPHA)"
   ],
   "metadata": {
    "collapsed": false,
    "ExecuteTime": {
     "end_time": "2023-10-18T17:42:44.478400Z",
     "start_time": "2023-10-18T17:42:44.436936Z"
    }
   },
   "id": "2f11b608657f0345"
  },
  {
   "cell_type": "code",
   "execution_count": 59,
   "outputs": [
    {
     "data": {
      "text/plain": "     poprawnosc  quest1  quest2\n0             1   False   False\n1             1   False   False\n2             1   False   False\n3             1   False    True\n4             1   False   False\n..          ...     ...     ...\n118           1   False    True\n119           0   False    True\n120           0   False    True\n121           0   False    True\n122           0    True   False\n\n[123 rows x 3 columns]",
      "text/html": "<div>\n<style scoped>\n    .dataframe tbody tr th:only-of-type {\n        vertical-align: middle;\n    }\n\n    .dataframe tbody tr th {\n        vertical-align: top;\n    }\n\n    .dataframe thead th {\n        text-align: right;\n    }\n</style>\n<table border=\"1\" class=\"dataframe\">\n  <thead>\n    <tr style=\"text-align: right;\">\n      <th></th>\n      <th>poprawnosc</th>\n      <th>quest1</th>\n      <th>quest2</th>\n    </tr>\n  </thead>\n  <tbody>\n    <tr>\n      <th>0</th>\n      <td>1</td>\n      <td>False</td>\n      <td>False</td>\n    </tr>\n    <tr>\n      <th>1</th>\n      <td>1</td>\n      <td>False</td>\n      <td>False</td>\n    </tr>\n    <tr>\n      <th>2</th>\n      <td>1</td>\n      <td>False</td>\n      <td>False</td>\n    </tr>\n    <tr>\n      <th>3</th>\n      <td>1</td>\n      <td>False</td>\n      <td>True</td>\n    </tr>\n    <tr>\n      <th>4</th>\n      <td>1</td>\n      <td>False</td>\n      <td>False</td>\n    </tr>\n    <tr>\n      <th>...</th>\n      <td>...</td>\n      <td>...</td>\n      <td>...</td>\n    </tr>\n    <tr>\n      <th>118</th>\n      <td>1</td>\n      <td>False</td>\n      <td>True</td>\n    </tr>\n    <tr>\n      <th>119</th>\n      <td>0</td>\n      <td>False</td>\n      <td>True</td>\n    </tr>\n    <tr>\n      <th>120</th>\n      <td>0</td>\n      <td>False</td>\n      <td>True</td>\n    </tr>\n    <tr>\n      <th>121</th>\n      <td>0</td>\n      <td>False</td>\n      <td>True</td>\n    </tr>\n    <tr>\n      <th>122</th>\n      <td>0</td>\n      <td>True</td>\n      <td>False</td>\n    </tr>\n  </tbody>\n</table>\n<p>123 rows × 3 columns</p>\n</div>"
     },
     "execution_count": 59,
     "metadata": {},
     "output_type": "execute_result"
    }
   ],
   "source": [
    "# grafiki B\n",
    "popr = []\n",
    "for col in df_answers.columns.tolist():\n",
    "    if col.endswith('b_corr'):\n",
    "        popr.append(df_answers[col])\n",
    "        \n",
    "changes1 = [df_merge['is_change_1'] for i in range(3)]\n",
    "changes2 = [df_merge['is_change_2'] for i in range(3)]\n",
    "df = prepate_set_changes(popr, changes1, changes2)\n",
    "df"
   ],
   "metadata": {
    "collapsed": false,
    "ExecuteTime": {
     "end_time": "2023-10-18T17:43:09.814935Z",
     "start_time": "2023-10-18T17:43:09.770432Z"
    }
   },
   "id": "d82afdf0722e24be"
  },
  {
   "cell_type": "code",
   "execution_count": 60,
   "outputs": [
    {
     "name": "stdout",
     "output_type": "stream",
     "text": [
      "----------------\n",
      "quest1\n",
      "Wartość statystyki chi-kwadrat: 2.966708739091102\n",
      "P-value: 0.08499461498099148\n",
      "Brak podstaw do odrzucenia H0.\n",
      "----------------\n",
      "quest2\n",
      "Wartość statystyki chi-kwadrat: 0.3958866139846738\n",
      "P-value: 0.5292212634953144\n",
      "Brak podstaw do odrzucenia H0.\n"
     ]
    }
   ],
   "source": [
    "for i in ['quest1', 'quest2']:\n",
    "    print('----------------')\n",
    "    print(i)\n",
    "    tab = create_contingency_table(df, i)\n",
    "    conduct_chi2test(tab, ALPHA)"
   ],
   "metadata": {
    "collapsed": false,
    "ExecuteTime": {
     "end_time": "2023-10-18T17:43:21.398927Z",
     "start_time": "2023-10-18T17:43:21.359344Z"
    }
   },
   "id": "719ad58328dfd5e5"
  },
  {
   "cell_type": "code",
   "execution_count": 61,
   "outputs": [
    {
     "data": {
      "text/plain": "    poprawnosc  quest1  quest2\n0            1   False   False\n1            0   False   False\n2            0   False   False\n3            1   False    True\n4            1   False   False\n..         ...     ...     ...\n77           1   False    True\n78           0   False    True\n79           0   False    True\n80           0   False    True\n81           0    True   False\n\n[82 rows x 3 columns]",
      "text/html": "<div>\n<style scoped>\n    .dataframe tbody tr th:only-of-type {\n        vertical-align: middle;\n    }\n\n    .dataframe tbody tr th {\n        vertical-align: top;\n    }\n\n    .dataframe thead th {\n        text-align: right;\n    }\n</style>\n<table border=\"1\" class=\"dataframe\">\n  <thead>\n    <tr style=\"text-align: right;\">\n      <th></th>\n      <th>poprawnosc</th>\n      <th>quest1</th>\n      <th>quest2</th>\n    </tr>\n  </thead>\n  <tbody>\n    <tr>\n      <th>0</th>\n      <td>1</td>\n      <td>False</td>\n      <td>False</td>\n    </tr>\n    <tr>\n      <th>1</th>\n      <td>0</td>\n      <td>False</td>\n      <td>False</td>\n    </tr>\n    <tr>\n      <th>2</th>\n      <td>0</td>\n      <td>False</td>\n      <td>False</td>\n    </tr>\n    <tr>\n      <th>3</th>\n      <td>1</td>\n      <td>False</td>\n      <td>True</td>\n    </tr>\n    <tr>\n      <th>4</th>\n      <td>1</td>\n      <td>False</td>\n      <td>False</td>\n    </tr>\n    <tr>\n      <th>...</th>\n      <td>...</td>\n      <td>...</td>\n      <td>...</td>\n    </tr>\n    <tr>\n      <th>77</th>\n      <td>1</td>\n      <td>False</td>\n      <td>True</td>\n    </tr>\n    <tr>\n      <th>78</th>\n      <td>0</td>\n      <td>False</td>\n      <td>True</td>\n    </tr>\n    <tr>\n      <th>79</th>\n      <td>0</td>\n      <td>False</td>\n      <td>True</td>\n    </tr>\n    <tr>\n      <th>80</th>\n      <td>0</td>\n      <td>False</td>\n      <td>True</td>\n    </tr>\n    <tr>\n      <th>81</th>\n      <td>0</td>\n      <td>True</td>\n      <td>False</td>\n    </tr>\n  </tbody>\n</table>\n<p>82 rows × 3 columns</p>\n</div>"
     },
     "execution_count": 61,
     "metadata": {},
     "output_type": "execute_result"
    }
   ],
   "source": [
    "# grafiki 1,2,3\n",
    "popr = []\n",
    "for col in df_merge.columns.tolist():\n",
    "    if col.startswith('1') and col.endswith('_corr'):\n",
    "        popr.append(df_merge[col])\n",
    "\n",
    "changes1 = [df_merge['is_change_1'] for i in range(2)]\n",
    "changes2 = [df_merge['is_change_2'] for i in range(2)]\n",
    "df1 = prepate_set_changes(popr, changes1, changes2)\n",
    "\n",
    "popr = []\n",
    "for col in df_merge.columns.tolist():\n",
    "    if col.startswith('2') and col.endswith('_corr'):\n",
    "        popr.append(df_merge[col])\n",
    "\n",
    "changes1 = [df_merge['is_change_1'] for i in range(2)]\n",
    "changes2 = [df_merge['is_change_2'] for i in range(2)]\n",
    "df2 = prepate_set_changes(popr, changes1, changes2)\n",
    "\n",
    "popr = []\n",
    "for col in df_merge.columns.tolist():\n",
    "    if col.startswith('3') and col.endswith('_corr'):\n",
    "        popr.append(df_merge[col])\n",
    "\n",
    "changes1 = [df_merge['is_change_1'] for i in range(2)]\n",
    "changes2 = [df_merge['is_change_2'] for i in range(2)]\n",
    "df3 = prepate_set_changes(popr, changes1, changes2)\n",
    "df3"
   ],
   "metadata": {
    "collapsed": false,
    "ExecuteTime": {
     "end_time": "2023-10-18T17:45:01.054668Z",
     "start_time": "2023-10-18T17:45:01.044843Z"
    }
   },
   "id": "776a8122a514de4f"
  },
  {
   "cell_type": "code",
   "execution_count": 62,
   "outputs": [
    {
     "name": "stdout",
     "output_type": "stream",
     "text": [
      "----------------\n",
      "quest1\n",
      "Wartość statystyki chi-kwadrat: 6.087019636824325\n",
      "P-value: 0.013617860689217585\n",
      "Istnieją podstawy do odrzucenia H0, przyjmujemy hipotezę H1:\n",
      "----------------\n",
      "quest2\n",
      "Wartość statystyki chi-kwadrat: 0.0\n",
      "P-value: 1.0\n",
      "Brak podstaw do odrzucenia H0.\n"
     ]
    }
   ],
   "source": [
    "for i in ['quest1', 'quest2']:\n",
    "    print('----------------')\n",
    "    print(i)\n",
    "    tab = create_contingency_table(df1, i)\n",
    "    conduct_chi2test(tab, ALPHA)"
   ],
   "metadata": {
    "collapsed": false,
    "ExecuteTime": {
     "end_time": "2023-10-18T17:45:29.148994Z",
     "start_time": "2023-10-18T17:45:29.102895Z"
    }
   },
   "id": "2c23f92b31355a5a"
  },
  {
   "cell_type": "code",
   "execution_count": 68,
   "outputs": [
    {
     "name": "stdout",
     "output_type": "stream",
     "text": [
      "Wartość statystyki chi-kwadrat: 2.6148967978395055\n",
      "P-value: 0.10586441215755699\n",
      "Brak podstaw do odrzucenia H0.\n",
      "None\n",
      "Wartość statystyki chi-kwadrat: 1.486362390350877\n",
      "P-value: 0.22278171435089766\n",
      "Brak podstaw do odrzucenia H0.\n",
      "None\n"
     ]
    }
   ],
   "source": [
    "# w pytaniu 1 wyszło H1: sprawdzamy dla 1a i 1b\n",
    "df1a = df_merge[['is_change_1', '1a_corr']].rename(columns={'1a_corr':'poprawnosc', 'is_change_1': 'quest1'})\n",
    "df1b = df_merge[['is_change_1', '1b_corr']].rename(columns={'1b_corr':'poprawnosc', 'is_change_1': 'quest1'})\n",
    "\n",
    "tab = create_contingency_table(df1a, 'quest1')\n",
    "print(conduct_chi2test(tab, ALPHA))\n",
    "\n",
    "tab = create_contingency_table(df1b, 'quest1')\n",
    "print(conduct_chi2test(tab, ALPHA))"
   ],
   "metadata": {
    "collapsed": false,
    "ExecuteTime": {
     "end_time": "2023-10-18T17:50:07.804860Z",
     "start_time": "2023-10-18T17:50:07.778310Z"
    }
   },
   "id": "afb847bfae26c6d4"
  },
  {
   "cell_type": "code",
   "execution_count": 63,
   "outputs": [
    {
     "name": "stdout",
     "output_type": "stream",
     "text": [
      "----------------\n",
      "quest1\n",
      "Wartość statystyki chi-kwadrat: 0.07181000777859668\n",
      "P-value: 0.7887194137435113\n",
      "Brak podstaw do odrzucenia H0.\n",
      "----------------\n",
      "quest2\n",
      "Wartość statystyki chi-kwadrat: 3.0676354089904216\n",
      "P-value: 0.07986556189878524\n",
      "Brak podstaw do odrzucenia H0.\n"
     ]
    }
   ],
   "source": [
    "for i in ['quest1', 'quest2']:\n",
    "    print('----------------')\n",
    "    print(i)\n",
    "    tab = create_contingency_table(df2, i)\n",
    "    conduct_chi2test(tab, ALPHA)"
   ],
   "metadata": {
    "collapsed": false,
    "ExecuteTime": {
     "end_time": "2023-10-18T17:45:38.333152Z",
     "start_time": "2023-10-18T17:45:38.280985Z"
    }
   },
   "id": "92db1c249f59abb9"
  },
  {
   "cell_type": "code",
   "execution_count": 69,
   "outputs": [
    {
     "name": "stdout",
     "output_type": "stream",
     "text": [
      "----------------\n",
      "quest1\n",
      "Wartość statystyki chi-kwadrat: 0.640625\n",
      "P-value: 0.42348456621606534\n",
      "Brak podstaw do odrzucenia H0.\n",
      "----------------\n",
      "quest2\n",
      "Wartość statystyki chi-kwadrat: 0.46124999999999994\n",
      "P-value: 0.4970403627842026\n",
      "Brak podstaw do odrzucenia H0.\n"
     ]
    }
   ],
   "source": [
    "for i in ['quest1', 'quest2']:\n",
    "    print('----------------')\n",
    "    print(i)\n",
    "    tab = create_contingency_table(df3, i)\n",
    "    conduct_chi2test(tab, ALPHA)"
   ],
   "metadata": {
    "collapsed": false,
    "ExecuteTime": {
     "end_time": "2023-10-18T17:54:36.235565Z",
     "start_time": "2023-10-18T17:54:36.204077Z"
    }
   },
   "id": "33217ca5ccdf3c4a"
  },
  {
   "cell_type": "markdown",
   "source": [
    "Podsumowanie:\n",
    "Zmiana zdania nie wpłynęła na poprawność odpowiedzi w sposób istotny statystycznie poza grafikami typu 1."
   ],
   "metadata": {
    "collapsed": false
   },
   "id": "5b5e8f9b2dd72b00"
  },
  {
   "cell_type": "code",
   "execution_count": null,
   "outputs": [],
   "source": [],
   "metadata": {
    "collapsed": false
   },
   "id": "5a3dbf51d6764f95"
  }
 ],
 "metadata": {
  "kernelspec": {
   "display_name": "Python 3",
   "language": "python",
   "name": "python3"
  },
  "language_info": {
   "codemirror_mode": {
    "name": "ipython",
    "version": 2
   },
   "file_extension": ".py",
   "mimetype": "text/x-python",
   "name": "python",
   "nbconvert_exporter": "python",
   "pygments_lexer": "ipython2",
   "version": "2.7.6"
  }
 },
 "nbformat": 4,
 "nbformat_minor": 5
}
