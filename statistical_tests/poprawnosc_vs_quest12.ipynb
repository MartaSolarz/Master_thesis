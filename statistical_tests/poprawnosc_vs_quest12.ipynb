{
 "cells": [
  {
   "cell_type": "markdown",
   "source": [
    "# Temat testów:\n",
    "### Czy istnieje istotna statystycznie różnica w poprawności odpowiedzi w zależności od trudności? (grupy: wszystkie grafiki, grafiki A, grafiki B, grafiki 1,2,3)"
   ],
   "metadata": {
    "collapsed": false
   },
   "id": "fb4ed10b0fd535f2"
  },
  {
   "cell_type": "code",
   "execution_count": 87,
   "outputs": [],
   "source": [
    "from scipy import stats\n",
    "import seaborn as sns\n",
    "import pandas as pd\n",
    "import matplotlib.pyplot as plt\n",
    "import numpy as np"
   ],
   "metadata": {
    "collapsed": false,
    "ExecuteTime": {
     "end_time": "2023-10-14T21:54:12.836434Z",
     "start_time": "2023-10-14T21:54:12.827793Z"
    }
   },
   "id": "initial_id"
  },
  {
   "cell_type": "code",
   "execution_count": 88,
   "outputs": [
    {
     "data": {
      "text/plain": "   ID Quest1_before Quest2_before  1a_corr  1b_corr  2a_corr  2b_corr  \\\n0   1             B        wykres        1        1        0        0   \n1   2             B        wykres        1        1        1        1   \n2   3             B          mapa        1        1        1        1   \n3   4             B          mapa        1        1        1        1   \n4   5             B        tabela        1        1        1        1   \n\n   3a_corr  3b_corr Quest1_after Quest2_after  \n0        1        1            B       wykres  \n1        0        1            B       wykres  \n2        0        0            B         mapa  \n3        1        0            B       wykres  \n4        1        1            B       tabela  ",
      "text/html": "<div>\n<style scoped>\n    .dataframe tbody tr th:only-of-type {\n        vertical-align: middle;\n    }\n\n    .dataframe tbody tr th {\n        vertical-align: top;\n    }\n\n    .dataframe thead th {\n        text-align: right;\n    }\n</style>\n<table border=\"1\" class=\"dataframe\">\n  <thead>\n    <tr style=\"text-align: right;\">\n      <th></th>\n      <th>ID</th>\n      <th>Quest1_before</th>\n      <th>Quest2_before</th>\n      <th>1a_corr</th>\n      <th>1b_corr</th>\n      <th>2a_corr</th>\n      <th>2b_corr</th>\n      <th>3a_corr</th>\n      <th>3b_corr</th>\n      <th>Quest1_after</th>\n      <th>Quest2_after</th>\n    </tr>\n  </thead>\n  <tbody>\n    <tr>\n      <th>0</th>\n      <td>1</td>\n      <td>B</td>\n      <td>wykres</td>\n      <td>1</td>\n      <td>1</td>\n      <td>0</td>\n      <td>0</td>\n      <td>1</td>\n      <td>1</td>\n      <td>B</td>\n      <td>wykres</td>\n    </tr>\n    <tr>\n      <th>1</th>\n      <td>2</td>\n      <td>B</td>\n      <td>wykres</td>\n      <td>1</td>\n      <td>1</td>\n      <td>1</td>\n      <td>1</td>\n      <td>0</td>\n      <td>1</td>\n      <td>B</td>\n      <td>wykres</td>\n    </tr>\n    <tr>\n      <th>2</th>\n      <td>3</td>\n      <td>B</td>\n      <td>mapa</td>\n      <td>1</td>\n      <td>1</td>\n      <td>1</td>\n      <td>1</td>\n      <td>0</td>\n      <td>0</td>\n      <td>B</td>\n      <td>mapa</td>\n    </tr>\n    <tr>\n      <th>3</th>\n      <td>4</td>\n      <td>B</td>\n      <td>mapa</td>\n      <td>1</td>\n      <td>1</td>\n      <td>1</td>\n      <td>1</td>\n      <td>1</td>\n      <td>0</td>\n      <td>B</td>\n      <td>wykres</td>\n    </tr>\n    <tr>\n      <th>4</th>\n      <td>5</td>\n      <td>B</td>\n      <td>tabela</td>\n      <td>1</td>\n      <td>1</td>\n      <td>1</td>\n      <td>1</td>\n      <td>1</td>\n      <td>1</td>\n      <td>B</td>\n      <td>tabela</td>\n    </tr>\n  </tbody>\n</table>\n</div>"
     },
     "execution_count": 88,
     "metadata": {},
     "output_type": "execute_result"
    }
   ],
   "source": [
    "df_answers = pd.read_csv(\n",
    "    '/Users/martasolarz/Studies/Thesis/data/correctness.csv',\n",
    "    usecols=['ID', 'Quest1_before', 'Quest2_before', '1a_corr', '1b_corr', '2a_corr', '2b_corr', '3a_corr', '3b_corr']\n",
    ")\n",
    "\n",
    "df_quest = pd.read_csv(\n",
    "    '/Users/martasolarz/Studies/Thesis/data/survey.csv',\n",
    "    usecols=['ID', 'Quest1_after', 'Quest2_after']\n",
    ")\n",
    "\n",
    "df_merge = df_answers.merge(df_quest, on='ID')\n",
    "df_merge.head()"
   ],
   "metadata": {
    "collapsed": false,
    "ExecuteTime": {
     "end_time": "2023-10-14T21:54:13.288279Z",
     "start_time": "2023-10-14T21:54:13.272838Z"
    }
   },
   "id": "c3d943fb39805fc6"
  },
  {
   "cell_type": "markdown",
   "source": [
    "Funkcje:"
   ],
   "metadata": {
    "collapsed": false
   },
   "id": "6e5b694942d03ea4"
  },
  {
   "cell_type": "code",
   "execution_count": 9,
   "outputs": [],
   "source": [
    "def prepate_set(list_of_cols_popr, quest1_before, quest1_after, quest2_before, quest2_after):\n",
    "    new_row_popr = list_of_cols_popr[0]\n",
    "    for i in list_of_cols_popr[1:]:\n",
    "        new_row_popr = pd.concat([new_row_popr, i], ignore_index=True)\n",
    "\n",
    "    new_row_quest1_b = quest1_before[0]\n",
    "    for i in quest1_before[1:]:\n",
    "        new_row_quest1_b = pd.concat([new_row_quest1_b, i], ignore_index=True)\n",
    "        \n",
    "    new_row_quest2_b = quest2_before[0]\n",
    "    for i in quest2_before[1:]:\n",
    "        new_row_quest2_b = pd.concat([new_row_quest2_b, i], ignore_index=True)\n",
    "       \n",
    "    new_row_quest1_a = quest1_after[0]\n",
    "    for i in quest1_after[1:]:\n",
    "        new_row_quest1_a = pd.concat([new_row_quest1_a, i], ignore_index=True)\n",
    "        \n",
    "    new_row_quest2_a = quest2_after[0]\n",
    "    for i in quest2_after[1:]:\n",
    "        new_row_quest2_a = pd.concat([new_row_quest2_a, i], ignore_index=True) \n",
    "        \n",
    "    return pd.DataFrame({'poprawnosc': new_row_popr, 'quest1_before': new_row_quest1_b, \n",
    "                         'quest2_before': new_row_quest2_b, 'quest1_after': new_row_quest1_a,\n",
    "                         'quest2_after': new_row_quest2_a})"
   ],
   "metadata": {
    "collapsed": false,
    "ExecuteTime": {
     "end_time": "2023-10-14T21:06:18.416435Z",
     "start_time": "2023-10-14T21:06:18.372568Z"
    }
   },
   "id": "33e24b5614a86785"
  },
  {
   "cell_type": "code",
   "execution_count": 16,
   "outputs": [],
   "source": [
    "def create_contingency_table(df, col):\n",
    "    return pd.crosstab(df['poprawnosc'], df[col])"
   ],
   "metadata": {
    "collapsed": false,
    "ExecuteTime": {
     "end_time": "2023-10-14T21:15:09.405001Z",
     "start_time": "2023-10-14T21:15:09.400308Z"
    }
   },
   "id": "4f74d7e65d824621"
  },
  {
   "cell_type": "code",
   "execution_count": 18,
   "outputs": [],
   "source": [
    "def make_decision(p_val, alpha):\n",
    "    if p_val < alpha:\n",
    "        print('Istnieją podstawy do odrzucenia H0, przyjmujemy hipotezę H1:')\n",
    "    else:\n",
    "        print('Brak podstaw do odrzucenia H0.')"
   ],
   "metadata": {
    "collapsed": false,
    "ExecuteTime": {
     "end_time": "2023-10-14T21:15:10.217256Z",
     "start_time": "2023-10-14T21:15:10.202431Z"
    }
   },
   "id": "b1e2d317f6934b44"
  },
  {
   "cell_type": "code",
   "execution_count": 19,
   "outputs": [],
   "source": [
    "def conduct_chi2test(contingency_table, alpha):\n",
    "    chi2_stat, p_val, _, _ = stats.chi2_contingency(contingency_table)\n",
    "\n",
    "    print('Wartość statystyki chi-kwadrat:', chi2_stat)\n",
    "    print('P-value:', p_val)\n",
    "    make_decision(p_val, alpha)"
   ],
   "metadata": {
    "collapsed": false,
    "ExecuteTime": {
     "end_time": "2023-10-14T21:15:10.458674Z",
     "start_time": "2023-10-14T21:15:10.454546Z"
    }
   },
   "id": "1d740b7e6be3d975"
  },
  {
   "cell_type": "code",
   "execution_count": 135,
   "outputs": [],
   "source": [
    "def create_plots(df, columns):\n",
    "    sns.countplot(x=\"poprawnosc\", hue=columns[0], data=df)\n",
    "    plt.xlabel('Poprawność')\n",
    "    plt.ylabel('Liczba wystąpień')\n",
    "    plt.title('Mapa vs mapa i inne formy prezentacji - przed badaniem')\n",
    "    # plt.legend(labels=['mapa i inne elementy', 'mapa'])\n",
    "    plt.show()\n",
    "    \n",
    "    sns.countplot(x=\"poprawnosc\", hue=columns[1], data=df)\n",
    "    plt.xlabel('Poprawność')\n",
    "    plt.ylabel('Liczba wystąpień')\n",
    "    plt.title('Mapa vs mapa i inne formy prezentacji - po badaniu')\n",
    "    # plt.legend(labels=['mapa i inne elementy', 'mapa'])\n",
    "    plt.show()\n",
    "    \n",
    "    sns.countplot(x=\"poprawnosc\", hue=columns[2], data=df)\n",
    "    plt.xlabel('Poprawność')\n",
    "    plt.ylabel('Liczba wystąpień')\n",
    "    plt.title('Mapa vs wykres vs tabela vs tekst - przed badaniem')\n",
    "    plt.show()\n",
    "    \n",
    "    sns.countplot(x=\"poprawnosc\", hue=columns[3], data=df)\n",
    "    plt.xlabel('Poprawność')\n",
    "    plt.ylabel('Liczba wystąpień')\n",
    "    plt.title('Mapa vs wykres vs tabela vs tekst - po badaniu')\n",
    "    plt.show()"
   ],
   "metadata": {
    "collapsed": false,
    "ExecuteTime": {
     "end_time": "2023-10-14T22:04:58.708665Z",
     "start_time": "2023-10-14T22:04:58.684182Z"
    }
   },
   "id": "a3820d3aaec78b90"
  },
  {
   "cell_type": "markdown",
   "source": [
    "### TESTY"
   ],
   "metadata": {
    "collapsed": false
   },
   "id": "a3640bf0cf623b6b"
  },
  {
   "cell_type": "markdown",
   "source": [
    "**H0:** Nie ma istotnej statystycznie zależności między poprawnością odpowiedzi a wybraną preferowaną formą (mapa vs mapa + inne elementy; mapa vs tabela vs wykres vs tekst).\n",
    "**H1:** Istnieje istotna statystycznie zależność między poprawnością odpowiedzi a wybraną preferowaną formą (mapa vs mapa + inne elementy; mapa vs tabela vs wykres vs tekst).\n",
    "**Poziom istotności:** $\\alpha=0.05$\n",
    "\n",
    "Mamy dwie zmienne kategoryczne (dyskretne):\n",
    "- poprawność $ \\text{{0,1}} $\n",
    "- preferowane formy\n",
    "\n",
    "Stąd wykonujemy test chi-kwadrat."
   ],
   "metadata": {
    "collapsed": false
   },
   "id": "18c14ed55cdc2169"
  },
  {
   "cell_type": "code",
   "execution_count": 136,
   "outputs": [],
   "source": [
    "ALPHA = 0.05"
   ],
   "metadata": {
    "collapsed": false,
    "ExecuteTime": {
     "end_time": "2023-10-14T22:04:59.824380Z",
     "start_time": "2023-10-14T22:04:59.808641Z"
    }
   },
   "id": "549109b822a6d751"
  },
  {
   "cell_type": "markdown",
   "source": [
    "a) wszystkie grafiki"
   ],
   "metadata": {
    "collapsed": false
   },
   "id": "9bb2497ee1c322ab"
  },
  {
   "cell_type": "code",
   "execution_count": 137,
   "outputs": [
    {
     "data": {
      "text/plain": "     poprawnosc quest1_before quest2_before quest1_after quest2_after\n0             1             B        wykres            B       wykres\n1             1             B        wykres            B       wykres\n2             1             B          mapa            B         mapa\n3             1             B          mapa            B       wykres\n4             1             B        tabela            B       tabela\n..          ...           ...           ...          ...          ...\n241           1           NaN           NaN          NaN          NaN\n242           0           NaN           NaN          NaN          NaN\n243           0           NaN           NaN          NaN          NaN\n244           0           NaN           NaN          NaN          NaN\n245           0           NaN           NaN          NaN          NaN\n\n[246 rows x 5 columns]",
      "text/html": "<div>\n<style scoped>\n    .dataframe tbody tr th:only-of-type {\n        vertical-align: middle;\n    }\n\n    .dataframe tbody tr th {\n        vertical-align: top;\n    }\n\n    .dataframe thead th {\n        text-align: right;\n    }\n</style>\n<table border=\"1\" class=\"dataframe\">\n  <thead>\n    <tr style=\"text-align: right;\">\n      <th></th>\n      <th>poprawnosc</th>\n      <th>quest1_before</th>\n      <th>quest2_before</th>\n      <th>quest1_after</th>\n      <th>quest2_after</th>\n    </tr>\n  </thead>\n  <tbody>\n    <tr>\n      <th>0</th>\n      <td>1</td>\n      <td>B</td>\n      <td>wykres</td>\n      <td>B</td>\n      <td>wykres</td>\n    </tr>\n    <tr>\n      <th>1</th>\n      <td>1</td>\n      <td>B</td>\n      <td>wykres</td>\n      <td>B</td>\n      <td>wykres</td>\n    </tr>\n    <tr>\n      <th>2</th>\n      <td>1</td>\n      <td>B</td>\n      <td>mapa</td>\n      <td>B</td>\n      <td>mapa</td>\n    </tr>\n    <tr>\n      <th>3</th>\n      <td>1</td>\n      <td>B</td>\n      <td>mapa</td>\n      <td>B</td>\n      <td>wykres</td>\n    </tr>\n    <tr>\n      <th>4</th>\n      <td>1</td>\n      <td>B</td>\n      <td>tabela</td>\n      <td>B</td>\n      <td>tabela</td>\n    </tr>\n    <tr>\n      <th>...</th>\n      <td>...</td>\n      <td>...</td>\n      <td>...</td>\n      <td>...</td>\n      <td>...</td>\n    </tr>\n    <tr>\n      <th>241</th>\n      <td>1</td>\n      <td>NaN</td>\n      <td>NaN</td>\n      <td>NaN</td>\n      <td>NaN</td>\n    </tr>\n    <tr>\n      <th>242</th>\n      <td>0</td>\n      <td>NaN</td>\n      <td>NaN</td>\n      <td>NaN</td>\n      <td>NaN</td>\n    </tr>\n    <tr>\n      <th>243</th>\n      <td>0</td>\n      <td>NaN</td>\n      <td>NaN</td>\n      <td>NaN</td>\n      <td>NaN</td>\n    </tr>\n    <tr>\n      <th>244</th>\n      <td>0</td>\n      <td>NaN</td>\n      <td>NaN</td>\n      <td>NaN</td>\n      <td>NaN</td>\n    </tr>\n    <tr>\n      <th>245</th>\n      <td>0</td>\n      <td>NaN</td>\n      <td>NaN</td>\n      <td>NaN</td>\n      <td>NaN</td>\n    </tr>\n  </tbody>\n</table>\n<p>246 rows × 5 columns</p>\n</div>"
     },
     "execution_count": 137,
     "metadata": {},
     "output_type": "execute_result"
    }
   ],
   "source": [
    "quest1_before = [df_merge['Quest1_before'] for i in range(5)]\n",
    "quest2_before = [df_merge['Quest2_before'] for i in range(5)]\n",
    "quest1_after = [df_merge['Quest1_after'] for i in range(5)]\n",
    "quest2_after = [df_merge['Quest2_after'] for i in range(5)]\n",
    "\n",
    "popr = []\n",
    "for col in df_answers.columns.tolist():\n",
    "    if col.endswith('corr'):\n",
    "        popr.append(df_answers[col])\n",
    "        \n",
    "df = prepate_set(popr, quest1_before, quest1_after, quest2_before, quest2_after)\n",
    "\n",
    "df"
   ],
   "metadata": {
    "collapsed": false,
    "ExecuteTime": {
     "end_time": "2023-10-14T22:05:00.118471Z",
     "start_time": "2023-10-14T22:05:00.107474Z"
    }
   },
   "id": "f87219709fefc4ff"
  },
  {
   "cell_type": "code",
   "execution_count": 138,
   "outputs": [
    {
     "data": {
      "text/plain": "quest1_before   A    B\npoprawnosc            \n0               3   47\n1              17  138",
      "text/html": "<div>\n<style scoped>\n    .dataframe tbody tr th:only-of-type {\n        vertical-align: middle;\n    }\n\n    .dataframe tbody tr th {\n        vertical-align: top;\n    }\n\n    .dataframe thead th {\n        text-align: right;\n    }\n</style>\n<table border=\"1\" class=\"dataframe\">\n  <thead>\n    <tr style=\"text-align: right;\">\n      <th>quest1_before</th>\n      <th>A</th>\n      <th>B</th>\n    </tr>\n    <tr>\n      <th>poprawnosc</th>\n      <th></th>\n      <th></th>\n    </tr>\n  </thead>\n  <tbody>\n    <tr>\n      <th>0</th>\n      <td>3</td>\n      <td>47</td>\n    </tr>\n    <tr>\n      <th>1</th>\n      <td>17</td>\n      <td>138</td>\n    </tr>\n  </tbody>\n</table>\n</div>"
     },
     "execution_count": 138,
     "metadata": {},
     "output_type": "execute_result"
    }
   ],
   "source": [
    "# Mapa vs Inne formy - before\n",
    "contingency_table_q1_b = create_contingency_table(df, 'quest1_before')\n",
    "contingency_table_q1_b"
   ],
   "metadata": {
    "collapsed": false,
    "ExecuteTime": {
     "end_time": "2023-10-14T22:05:00.305598Z",
     "start_time": "2023-10-14T22:05:00.267323Z"
    }
   },
   "id": "69b02db849c66027"
  },
  {
   "cell_type": "code",
   "execution_count": 139,
   "outputs": [
    {
     "name": "stdout",
     "output_type": "stream",
     "text": [
      "Wartość statystyki chi-kwadrat: 0.5705416303400173\n",
      "P-value: 0.45004376716953165\n",
      "Brak podstaw do odrzucenia H0.\n"
     ]
    }
   ],
   "source": [
    "conduct_chi2test(contingency_table_q1_b, ALPHA)"
   ],
   "metadata": {
    "collapsed": false,
    "ExecuteTime": {
     "end_time": "2023-10-14T22:05:00.849701Z",
     "start_time": "2023-10-14T22:05:00.839259Z"
    }
   },
   "id": "f50976c811b36ee8"
  },
  {
   "cell_type": "code",
   "execution_count": 140,
   "outputs": [
    {
     "data": {
      "text/plain": "quest1_after   A    B\npoprawnosc           \n0             18   32\n1             37  118",
      "text/html": "<div>\n<style scoped>\n    .dataframe tbody tr th:only-of-type {\n        vertical-align: middle;\n    }\n\n    .dataframe tbody tr th {\n        vertical-align: top;\n    }\n\n    .dataframe thead th {\n        text-align: right;\n    }\n</style>\n<table border=\"1\" class=\"dataframe\">\n  <thead>\n    <tr style=\"text-align: right;\">\n      <th>quest1_after</th>\n      <th>A</th>\n      <th>B</th>\n    </tr>\n    <tr>\n      <th>poprawnosc</th>\n      <th></th>\n      <th></th>\n    </tr>\n  </thead>\n  <tbody>\n    <tr>\n      <th>0</th>\n      <td>18</td>\n      <td>32</td>\n    </tr>\n    <tr>\n      <th>1</th>\n      <td>37</td>\n      <td>118</td>\n    </tr>\n  </tbody>\n</table>\n</div>"
     },
     "execution_count": 140,
     "metadata": {},
     "output_type": "execute_result"
    }
   ],
   "source": [
    "# Mapa vs Inne formy - after\n",
    "contingency_table_q1_a = create_contingency_table(df, 'quest1_after')\n",
    "contingency_table_q1_a"
   ],
   "metadata": {
    "collapsed": false,
    "ExecuteTime": {
     "end_time": "2023-10-14T22:05:01.185562Z",
     "start_time": "2023-10-14T22:05:01.171601Z"
    }
   },
   "id": "24281e2095d0a6c0"
  },
  {
   "cell_type": "code",
   "execution_count": 141,
   "outputs": [
    {
     "name": "stdout",
     "output_type": "stream",
     "text": [
      "Wartość statystyki chi-kwadrat: 2.2488880742913\n",
      "P-value: 0.13371045039671625\n",
      "Brak podstaw do odrzucenia H0.\n"
     ]
    }
   ],
   "source": [
    "conduct_chi2test(contingency_table_q1_a, ALPHA)"
   ],
   "metadata": {
    "collapsed": false,
    "ExecuteTime": {
     "end_time": "2023-10-14T22:05:01.370093Z",
     "start_time": "2023-10-14T22:05:01.360412Z"
    }
   },
   "id": "c0c47c2b22220c0d"
  },
  {
   "cell_type": "code",
   "execution_count": 142,
   "outputs": [
    {
     "data": {
      "text/plain": "quest2_before  mapa  tabela  tekst  wykres\npoprawnosc                                \n0                27      10      1      12\n1                78      25     14      38",
      "text/html": "<div>\n<style scoped>\n    .dataframe tbody tr th:only-of-type {\n        vertical-align: middle;\n    }\n\n    .dataframe tbody tr th {\n        vertical-align: top;\n    }\n\n    .dataframe thead th {\n        text-align: right;\n    }\n</style>\n<table border=\"1\" class=\"dataframe\">\n  <thead>\n    <tr style=\"text-align: right;\">\n      <th>quest2_before</th>\n      <th>mapa</th>\n      <th>tabela</th>\n      <th>tekst</th>\n      <th>wykres</th>\n    </tr>\n    <tr>\n      <th>poprawnosc</th>\n      <th></th>\n      <th></th>\n      <th></th>\n      <th></th>\n    </tr>\n  </thead>\n  <tbody>\n    <tr>\n      <th>0</th>\n      <td>27</td>\n      <td>10</td>\n      <td>1</td>\n      <td>12</td>\n    </tr>\n    <tr>\n      <th>1</th>\n      <td>78</td>\n      <td>25</td>\n      <td>14</td>\n      <td>38</td>\n    </tr>\n  </tbody>\n</table>\n</div>"
     },
     "execution_count": 142,
     "metadata": {},
     "output_type": "execute_result"
    }
   ],
   "source": [
    "# Mapa vs Wykres vs Tabela vs Tekst - before\n",
    "contingency_table_q2_b = create_contingency_table(df, 'quest2_before')\n",
    "contingency_table_q2_b"
   ],
   "metadata": {
    "collapsed": false,
    "ExecuteTime": {
     "end_time": "2023-10-14T22:05:01.731247Z",
     "start_time": "2023-10-14T22:05:01.722591Z"
    }
   },
   "id": "72f742ae6e11e2ec"
  },
  {
   "cell_type": "code",
   "execution_count": 143,
   "outputs": [
    {
     "name": "stdout",
     "output_type": "stream",
     "text": [
      "Wartość statystyki chi-kwadrat: 0.5705416303400173\n",
      "P-value: 0.45004376716953165\n",
      "Brak podstaw do odrzucenia H0.\n"
     ]
    }
   ],
   "source": [
    "conduct_chi2test(contingency_table_q1_b, ALPHA)"
   ],
   "metadata": {
    "collapsed": false,
    "ExecuteTime": {
     "end_time": "2023-10-14T22:05:02.016430Z",
     "start_time": "2023-10-14T22:05:02.004562Z"
    }
   },
   "id": "5ef97e64b91bbcd5"
  },
  {
   "cell_type": "code",
   "execution_count": 144,
   "outputs": [
    {
     "data": {
      "text/plain": "quest2_after  mapa  tabela  tekst  wykres\npoprawnosc                               \n0               27       5      2      16\n1               68      25      3      59",
      "text/html": "<div>\n<style scoped>\n    .dataframe tbody tr th:only-of-type {\n        vertical-align: middle;\n    }\n\n    .dataframe tbody tr th {\n        vertical-align: top;\n    }\n\n    .dataframe thead th {\n        text-align: right;\n    }\n</style>\n<table border=\"1\" class=\"dataframe\">\n  <thead>\n    <tr style=\"text-align: right;\">\n      <th>quest2_after</th>\n      <th>mapa</th>\n      <th>tabela</th>\n      <th>tekst</th>\n      <th>wykres</th>\n    </tr>\n    <tr>\n      <th>poprawnosc</th>\n      <th></th>\n      <th></th>\n      <th></th>\n      <th></th>\n    </tr>\n  </thead>\n  <tbody>\n    <tr>\n      <th>0</th>\n      <td>27</td>\n      <td>5</td>\n      <td>2</td>\n      <td>16</td>\n    </tr>\n    <tr>\n      <th>1</th>\n      <td>68</td>\n      <td>25</td>\n      <td>3</td>\n      <td>59</td>\n    </tr>\n  </tbody>\n</table>\n</div>"
     },
     "execution_count": 144,
     "metadata": {},
     "output_type": "execute_result"
    }
   ],
   "source": [
    "# Mapa vs Wykres vs Tabela vs Tekst - after\n",
    "contingency_table_q2_a = create_contingency_table(df, 'quest2_after')\n",
    "contingency_table_q2_a"
   ],
   "metadata": {
    "collapsed": false,
    "ExecuteTime": {
     "end_time": "2023-10-14T22:05:02.367071Z",
     "start_time": "2023-10-14T22:05:02.351944Z"
    }
   },
   "id": "b94c590f5d014087"
  },
  {
   "cell_type": "code",
   "execution_count": 145,
   "outputs": [
    {
     "name": "stdout",
     "output_type": "stream",
     "text": [
      "Wartość statystyki chi-kwadrat: 0.5705416303400173\n",
      "P-value: 0.45004376716953165\n",
      "Brak podstaw do odrzucenia H0.\n"
     ]
    }
   ],
   "source": [
    "conduct_chi2test(contingency_table_q1_b, ALPHA)"
   ],
   "metadata": {
    "collapsed": false,
    "ExecuteTime": {
     "end_time": "2023-10-14T22:05:02.659790Z",
     "start_time": "2023-10-14T22:05:02.644649Z"
    }
   },
   "id": "4eaa77f86e12492"
  },
  {
   "cell_type": "code",
   "execution_count": 148,
   "outputs": [
    {
     "data": {
      "text/plain": "<Figure size 640x480 with 1 Axes>",
      "image/png": "[encoded data removed]"
     },
     "metadata": {},
     "output_type": "display_data"
    },
    {
     "data": {
      "text/plain": "<Figure size 640x480 with 1 Axes>",
      "image/png": "[encoded data removed]"
     },
     "metadata": {},
     "output_type": "display_data"
    },
    {
     "data": {
      "text/plain": "<Figure size 640x480 with 1 Axes>",
      "image/png": "[encoded data removed]"
     },
     "metadata": {},
     "output_type": "display_data"
    },
    {
     "data": {
      "text/plain": "<Figure size 640x480 with 1 Axes>",
      "image/png": "[encoded data removed]"
     },
     "metadata": {},
     "output_type": "display_data"
    }
   ],
   "source": [
    "create_plots(df, ['quest1_before', 'quest1_after', 'quest2_before', 'quest2_after'])"
   ],
   "metadata": {
    "collapsed": false,
    "ExecuteTime": {
     "end_time": "2023-10-14T22:06:57.791245Z",
     "start_time": "2023-10-14T22:06:57.496013Z"
    }
   },
   "id": "59498c4b2eb47e5f"
  },
  {
   "cell_type": "markdown",
   "source": [
    "b) grafiki A"
   ],
   "metadata": {
    "collapsed": false
   },
   "id": "f233da8c1bfb037a"
  },
  {
   "cell_type": "code",
   "execution_count": 33,
   "outputs": [
    {
     "data": {
      "text/plain": "     poprawnosc quest1_before quest2_before quest1_after quest2_after\n0             1             B        wykres            B       wykres\n1             1             B        wykres            B       wykres\n2             1             B          mapa            B         mapa\n3             1             B          mapa            B       wykres\n4             1             B        tabela            B       tabela\n..          ...           ...           ...          ...          ...\n118           0           NaN           NaN          NaN          NaN\n119           1           NaN           NaN          NaN          NaN\n120           0           NaN           NaN          NaN          NaN\n121           1           NaN           NaN          NaN          NaN\n122           1           NaN           NaN          NaN          NaN\n\n[123 rows x 5 columns]",
      "text/html": "<div>\n<style scoped>\n    .dataframe tbody tr th:only-of-type {\n        vertical-align: middle;\n    }\n\n    .dataframe tbody tr th {\n        vertical-align: top;\n    }\n\n    .dataframe thead th {\n        text-align: right;\n    }\n</style>\n<table border=\"1\" class=\"dataframe\">\n  <thead>\n    <tr style=\"text-align: right;\">\n      <th></th>\n      <th>poprawnosc</th>\n      <th>quest1_before</th>\n      <th>quest2_before</th>\n      <th>quest1_after</th>\n      <th>quest2_after</th>\n    </tr>\n  </thead>\n  <tbody>\n    <tr>\n      <th>0</th>\n      <td>1</td>\n      <td>B</td>\n      <td>wykres</td>\n      <td>B</td>\n      <td>wykres</td>\n    </tr>\n    <tr>\n      <th>1</th>\n      <td>1</td>\n      <td>B</td>\n      <td>wykres</td>\n      <td>B</td>\n      <td>wykres</td>\n    </tr>\n    <tr>\n      <th>2</th>\n      <td>1</td>\n      <td>B</td>\n      <td>mapa</td>\n      <td>B</td>\n      <td>mapa</td>\n    </tr>\n    <tr>\n      <th>3</th>\n      <td>1</td>\n      <td>B</td>\n      <td>mapa</td>\n      <td>B</td>\n      <td>wykres</td>\n    </tr>\n    <tr>\n      <th>4</th>\n      <td>1</td>\n      <td>B</td>\n      <td>tabela</td>\n      <td>B</td>\n      <td>tabela</td>\n    </tr>\n    <tr>\n      <th>...</th>\n      <td>...</td>\n      <td>...</td>\n      <td>...</td>\n      <td>...</td>\n      <td>...</td>\n    </tr>\n    <tr>\n      <th>118</th>\n      <td>0</td>\n      <td>NaN</td>\n      <td>NaN</td>\n      <td>NaN</td>\n      <td>NaN</td>\n    </tr>\n    <tr>\n      <th>119</th>\n      <td>1</td>\n      <td>NaN</td>\n      <td>NaN</td>\n      <td>NaN</td>\n      <td>NaN</td>\n    </tr>\n    <tr>\n      <th>120</th>\n      <td>0</td>\n      <td>NaN</td>\n      <td>NaN</td>\n      <td>NaN</td>\n      <td>NaN</td>\n    </tr>\n    <tr>\n      <th>121</th>\n      <td>1</td>\n      <td>NaN</td>\n      <td>NaN</td>\n      <td>NaN</td>\n      <td>NaN</td>\n    </tr>\n    <tr>\n      <th>122</th>\n      <td>1</td>\n      <td>NaN</td>\n      <td>NaN</td>\n      <td>NaN</td>\n      <td>NaN</td>\n    </tr>\n  </tbody>\n</table>\n<p>123 rows × 5 columns</p>\n</div>"
     },
     "execution_count": 33,
     "metadata": {},
     "output_type": "execute_result"
    }
   ],
   "source": [
    "quest1_before = [df_merge['Quest1_before'] for i in range(2)]\n",
    "quest2_before = [df_merge['Quest2_before'] for i in range(2)]\n",
    "quest1_after = [df_merge['Quest1_after'] for i in range(2)]\n",
    "quest2_after = [df_merge['Quest2_after'] for i in range(2)]\n",
    "\n",
    "popr = [df_answers['1a_corr'], df_answers['2a_corr'], df_answers['3a_corr']]\n",
    "        \n",
    "df = prepate_set(popr, quest1_before, quest1_after, quest2_before, quest2_after)\n",
    "df"
   ],
   "metadata": {
    "collapsed": false,
    "ExecuteTime": {
     "end_time": "2023-10-14T21:20:03.435498Z",
     "start_time": "2023-10-14T21:20:03.395960Z"
    }
   },
   "id": "baa21029068bf9e"
  },
  {
   "cell_type": "code",
   "execution_count": 34,
   "outputs": [
    {
     "data": {
      "text/plain": "quest1_before  A   B\npoprawnosc          \n0              1  16\n1              7  58",
      "text/html": "<div>\n<style scoped>\n    .dataframe tbody tr th:only-of-type {\n        vertical-align: middle;\n    }\n\n    .dataframe tbody tr th {\n        vertical-align: top;\n    }\n\n    .dataframe thead th {\n        text-align: right;\n    }\n</style>\n<table border=\"1\" class=\"dataframe\">\n  <thead>\n    <tr style=\"text-align: right;\">\n      <th>quest1_before</th>\n      <th>A</th>\n      <th>B</th>\n    </tr>\n    <tr>\n      <th>poprawnosc</th>\n      <th></th>\n      <th></th>\n    </tr>\n  </thead>\n  <tbody>\n    <tr>\n      <th>0</th>\n      <td>1</td>\n      <td>16</td>\n    </tr>\n    <tr>\n      <th>1</th>\n      <td>7</td>\n      <td>58</td>\n    </tr>\n  </tbody>\n</table>\n</div>"
     },
     "execution_count": 34,
     "metadata": {},
     "output_type": "execute_result"
    }
   ],
   "source": [
    "# Mapa vs Inne formy - before\n",
    "contingency_table_q1_b = create_contingency_table(df, 'quest1_before')\n",
    "contingency_table_q1_b"
   ],
   "metadata": {
    "collapsed": false,
    "ExecuteTime": {
     "end_time": "2023-10-14T21:21:19.736953Z",
     "start_time": "2023-10-14T21:21:19.703055Z"
    }
   },
   "id": "59abc6269dcb0396"
  },
  {
   "cell_type": "code",
   "execution_count": 35,
   "outputs": [
    {
     "name": "stdout",
     "output_type": "stream",
     "text": [
      "Wartość statystyki chi-kwadrat: 0.02118441971383143\n",
      "P-value: 0.8842776798636873\n",
      "Brak podstaw do odrzucenia H0.\n"
     ]
    }
   ],
   "source": [
    "conduct_chi2test(contingency_table_q1_b, ALPHA)"
   ],
   "metadata": {
    "collapsed": false,
    "ExecuteTime": {
     "end_time": "2023-10-14T21:21:35.775987Z",
     "start_time": "2023-10-14T21:21:35.726783Z"
    }
   },
   "id": "efcd7f8e81c722e2"
  },
  {
   "cell_type": "code",
   "execution_count": 36,
   "outputs": [
    {
     "data": {
      "text/plain": "quest1_after   A   B\npoprawnosc          \n0              7  10\n1             15  50",
      "text/html": "<div>\n<style scoped>\n    .dataframe tbody tr th:only-of-type {\n        vertical-align: middle;\n    }\n\n    .dataframe tbody tr th {\n        vertical-align: top;\n    }\n\n    .dataframe thead th {\n        text-align: right;\n    }\n</style>\n<table border=\"1\" class=\"dataframe\">\n  <thead>\n    <tr style=\"text-align: right;\">\n      <th>quest1_after</th>\n      <th>A</th>\n      <th>B</th>\n    </tr>\n    <tr>\n      <th>poprawnosc</th>\n      <th></th>\n      <th></th>\n    </tr>\n  </thead>\n  <tbody>\n    <tr>\n      <th>0</th>\n      <td>7</td>\n      <td>10</td>\n    </tr>\n    <tr>\n      <th>1</th>\n      <td>15</td>\n      <td>50</td>\n    </tr>\n  </tbody>\n</table>\n</div>"
     },
     "execution_count": 36,
     "metadata": {},
     "output_type": "execute_result"
    }
   ],
   "source": [
    "# Mapa vs Inne formy - after\n",
    "contingency_table_q1_a = create_contingency_table(df, 'quest1_after')\n",
    "contingency_table_q1_a"
   ],
   "metadata": {
    "collapsed": false,
    "ExecuteTime": {
     "end_time": "2023-10-14T21:21:44.391967Z",
     "start_time": "2023-10-14T21:21:44.351948Z"
    }
   },
   "id": "6de399f569dc6cfa"
  },
  {
   "cell_type": "code",
   "execution_count": 37,
   "outputs": [
    {
     "name": "stdout",
     "output_type": "stream",
     "text": [
      "Wartość statystyki chi-kwadrat: 1.421254627725216\n",
      "P-value: 0.2331970078747408\n",
      "Brak podstaw do odrzucenia H0.\n"
     ]
    }
   ],
   "source": [
    "conduct_chi2test(contingency_table_q1_a, ALPHA)"
   ],
   "metadata": {
    "collapsed": false,
    "ExecuteTime": {
     "end_time": "2023-10-14T21:21:52.667328Z",
     "start_time": "2023-10-14T21:21:52.647984Z"
    }
   },
   "id": "764f0666f22c7275"
  },
  {
   "cell_type": "code",
   "execution_count": 38,
   "outputs": [
    {
     "data": {
      "text/plain": "quest2_before  mapa  tabela  tekst  wykres\npoprawnosc                                \n0                 9       3      1       4\n1                33      11      5      16",
      "text/html": "<div>\n<style scoped>\n    .dataframe tbody tr th:only-of-type {\n        vertical-align: middle;\n    }\n\n    .dataframe tbody tr th {\n        vertical-align: top;\n    }\n\n    .dataframe thead th {\n        text-align: right;\n    }\n</style>\n<table border=\"1\" class=\"dataframe\">\n  <thead>\n    <tr style=\"text-align: right;\">\n      <th>quest2_before</th>\n      <th>mapa</th>\n      <th>tabela</th>\n      <th>tekst</th>\n      <th>wykres</th>\n    </tr>\n    <tr>\n      <th>poprawnosc</th>\n      <th></th>\n      <th></th>\n      <th></th>\n      <th></th>\n    </tr>\n  </thead>\n  <tbody>\n    <tr>\n      <th>0</th>\n      <td>9</td>\n      <td>3</td>\n      <td>1</td>\n      <td>4</td>\n    </tr>\n    <tr>\n      <th>1</th>\n      <td>33</td>\n      <td>11</td>\n      <td>5</td>\n      <td>16</td>\n    </tr>\n  </tbody>\n</table>\n</div>"
     },
     "execution_count": 38,
     "metadata": {},
     "output_type": "execute_result"
    }
   ],
   "source": [
    "# Mapa vs Wykres vs Tabela vs Tekst - before\n",
    "contingency_table_q2_b = create_contingency_table(df, 'quest2_before')\n",
    "contingency_table_q2_b"
   ],
   "metadata": {
    "collapsed": false,
    "ExecuteTime": {
     "end_time": "2023-10-14T21:22:00.086414Z",
     "start_time": "2023-10-14T21:22:00.040989Z"
    }
   },
   "id": "70ad275325c20a1a"
  },
  {
   "cell_type": "code",
   "execution_count": 39,
   "outputs": [
    {
     "name": "stdout",
     "output_type": "stream",
     "text": [
      "Wartość statystyki chi-kwadrat: 0.02118441971383143\n",
      "P-value: 0.8842776798636873\n",
      "Brak podstaw do odrzucenia H0.\n"
     ]
    }
   ],
   "source": [
    "conduct_chi2test(contingency_table_q1_b, ALPHA)"
   ],
   "metadata": {
    "collapsed": false,
    "ExecuteTime": {
     "end_time": "2023-10-14T21:22:08.479031Z",
     "start_time": "2023-10-14T21:22:08.435860Z"
    }
   },
   "id": "c9951b3552cbfbaa"
  },
  {
   "cell_type": "code",
   "execution_count": 40,
   "outputs": [
    {
     "data": {
      "text/plain": "quest2_after  mapa  tabela  tekst  wykres\npoprawnosc                               \n0               10       2      1       4\n1               28      10      1      26",
      "text/html": "<div>\n<style scoped>\n    .dataframe tbody tr th:only-of-type {\n        vertical-align: middle;\n    }\n\n    .dataframe tbody tr th {\n        vertical-align: top;\n    }\n\n    .dataframe thead th {\n        text-align: right;\n    }\n</style>\n<table border=\"1\" class=\"dataframe\">\n  <thead>\n    <tr style=\"text-align: right;\">\n      <th>quest2_after</th>\n      <th>mapa</th>\n      <th>tabela</th>\n      <th>tekst</th>\n      <th>wykres</th>\n    </tr>\n    <tr>\n      <th>poprawnosc</th>\n      <th></th>\n      <th></th>\n      <th></th>\n      <th></th>\n    </tr>\n  </thead>\n  <tbody>\n    <tr>\n      <th>0</th>\n      <td>10</td>\n      <td>2</td>\n      <td>1</td>\n      <td>4</td>\n    </tr>\n    <tr>\n      <th>1</th>\n      <td>28</td>\n      <td>10</td>\n      <td>1</td>\n      <td>26</td>\n    </tr>\n  </tbody>\n</table>\n</div>"
     },
     "execution_count": 40,
     "metadata": {},
     "output_type": "execute_result"
    }
   ],
   "source": [
    "# Mapa vs Wykres vs Tabela vs Tekst - after\n",
    "contingency_table_q2_a = create_contingency_table(df, 'quest2_after')\n",
    "contingency_table_q2_a"
   ],
   "metadata": {
    "collapsed": false,
    "ExecuteTime": {
     "end_time": "2023-10-14T21:22:16.604190Z",
     "start_time": "2023-10-14T21:22:16.558530Z"
    }
   },
   "id": "6186229c21d29c0c"
  },
  {
   "cell_type": "code",
   "execution_count": 41,
   "outputs": [
    {
     "name": "stdout",
     "output_type": "stream",
     "text": [
      "Wartość statystyki chi-kwadrat: 2.8834420893863624\n",
      "P-value: 0.4099474143906233\n",
      "Brak podstaw do odrzucenia H0.\n"
     ]
    }
   ],
   "source": [
    "conduct_chi2test(contingency_table_q2_a, ALPHA)"
   ],
   "metadata": {
    "collapsed": false,
    "ExecuteTime": {
     "end_time": "2023-10-14T21:22:35.043219Z",
     "start_time": "2023-10-14T21:22:35.035730Z"
    }
   },
   "id": "84153640fc476f2"
  },
  {
   "cell_type": "markdown",
   "source": [
    "c) grafiki B"
   ],
   "metadata": {
    "collapsed": false
   },
   "id": "ecd9aa229bd85926"
  },
  {
   "cell_type": "code",
   "execution_count": 42,
   "outputs": [
    {
     "data": {
      "text/plain": "     poprawnosc quest1_before quest2_before quest1_after quest2_after\n0             1             B        wykres            B       wykres\n1             1             B        wykres            B       wykres\n2             1             B          mapa            B         mapa\n3             1             B          mapa            B       wykres\n4             1             B        tabela            B       tabela\n..          ...           ...           ...          ...          ...\n118           1           NaN           NaN          NaN          NaN\n119           0           NaN           NaN          NaN          NaN\n120           0           NaN           NaN          NaN          NaN\n121           0           NaN           NaN          NaN          NaN\n122           0           NaN           NaN          NaN          NaN\n\n[123 rows x 5 columns]",
      "text/html": "<div>\n<style scoped>\n    .dataframe tbody tr th:only-of-type {\n        vertical-align: middle;\n    }\n\n    .dataframe tbody tr th {\n        vertical-align: top;\n    }\n\n    .dataframe thead th {\n        text-align: right;\n    }\n</style>\n<table border=\"1\" class=\"dataframe\">\n  <thead>\n    <tr style=\"text-align: right;\">\n      <th></th>\n      <th>poprawnosc</th>\n      <th>quest1_before</th>\n      <th>quest2_before</th>\n      <th>quest1_after</th>\n      <th>quest2_after</th>\n    </tr>\n  </thead>\n  <tbody>\n    <tr>\n      <th>0</th>\n      <td>1</td>\n      <td>B</td>\n      <td>wykres</td>\n      <td>B</td>\n      <td>wykres</td>\n    </tr>\n    <tr>\n      <th>1</th>\n      <td>1</td>\n      <td>B</td>\n      <td>wykres</td>\n      <td>B</td>\n      <td>wykres</td>\n    </tr>\n    <tr>\n      <th>2</th>\n      <td>1</td>\n      <td>B</td>\n      <td>mapa</td>\n      <td>B</td>\n      <td>mapa</td>\n    </tr>\n    <tr>\n      <th>3</th>\n      <td>1</td>\n      <td>B</td>\n      <td>mapa</td>\n      <td>B</td>\n      <td>wykres</td>\n    </tr>\n    <tr>\n      <th>4</th>\n      <td>1</td>\n      <td>B</td>\n      <td>tabela</td>\n      <td>B</td>\n      <td>tabela</td>\n    </tr>\n    <tr>\n      <th>...</th>\n      <td>...</td>\n      <td>...</td>\n      <td>...</td>\n      <td>...</td>\n      <td>...</td>\n    </tr>\n    <tr>\n      <th>118</th>\n      <td>1</td>\n      <td>NaN</td>\n      <td>NaN</td>\n      <td>NaN</td>\n      <td>NaN</td>\n    </tr>\n    <tr>\n      <th>119</th>\n      <td>0</td>\n      <td>NaN</td>\n      <td>NaN</td>\n      <td>NaN</td>\n      <td>NaN</td>\n    </tr>\n    <tr>\n      <th>120</th>\n      <td>0</td>\n      <td>NaN</td>\n      <td>NaN</td>\n      <td>NaN</td>\n      <td>NaN</td>\n    </tr>\n    <tr>\n      <th>121</th>\n      <td>0</td>\n      <td>NaN</td>\n      <td>NaN</td>\n      <td>NaN</td>\n      <td>NaN</td>\n    </tr>\n    <tr>\n      <th>122</th>\n      <td>0</td>\n      <td>NaN</td>\n      <td>NaN</td>\n      <td>NaN</td>\n      <td>NaN</td>\n    </tr>\n  </tbody>\n</table>\n<p>123 rows × 5 columns</p>\n</div>"
     },
     "execution_count": 42,
     "metadata": {},
     "output_type": "execute_result"
    }
   ],
   "source": [
    "quest1_before = [df_merge['Quest1_before'] for i in range(2)]\n",
    "quest2_before = [df_merge['Quest2_before'] for i in range(2)]\n",
    "quest1_after = [df_merge['Quest1_after'] for i in range(2)]\n",
    "quest2_after = [df_merge['Quest2_after'] for i in range(2)]\n",
    "\n",
    "popr = [df_answers['1b_corr'], df_answers['2b_corr'], df_answers['3b_corr']]\n",
    "        \n",
    "df = prepate_set(popr, quest1_before, quest1_after, quest2_before, quest2_after)\n",
    "df"
   ],
   "metadata": {
    "collapsed": false,
    "ExecuteTime": {
     "end_time": "2023-10-14T21:22:51.597671Z",
     "start_time": "2023-10-14T21:22:51.585013Z"
    }
   },
   "id": "ab19d3294828a472"
  },
  {
   "cell_type": "code",
   "execution_count": 43,
   "outputs": [
    {
     "data": {
      "text/plain": "quest1_before  A   B\npoprawnosc          \n0              1  13\n1              7  61",
      "text/html": "<div>\n<style scoped>\n    .dataframe tbody tr th:only-of-type {\n        vertical-align: middle;\n    }\n\n    .dataframe tbody tr th {\n        vertical-align: top;\n    }\n\n    .dataframe thead th {\n        text-align: right;\n    }\n</style>\n<table border=\"1\" class=\"dataframe\">\n  <thead>\n    <tr style=\"text-align: right;\">\n      <th>quest1_before</th>\n      <th>A</th>\n      <th>B</th>\n    </tr>\n    <tr>\n      <th>poprawnosc</th>\n      <th></th>\n      <th></th>\n    </tr>\n  </thead>\n  <tbody>\n    <tr>\n      <th>0</th>\n      <td>1</td>\n      <td>13</td>\n    </tr>\n    <tr>\n      <th>1</th>\n      <td>7</td>\n      <td>61</td>\n    </tr>\n  </tbody>\n</table>\n</div>"
     },
     "execution_count": 43,
     "metadata": {},
     "output_type": "execute_result"
    }
   ],
   "source": [
    "# Mapa vs Inne formy - before\n",
    "contingency_table_q1_b = create_contingency_table(df, 'quest1_before')\n",
    "contingency_table_q1_b"
   ],
   "metadata": {
    "collapsed": false,
    "ExecuteTime": {
     "end_time": "2023-10-14T21:23:48.662702Z",
     "start_time": "2023-10-14T21:23:48.630341Z"
    }
   },
   "id": "40bea8ee21a2064b"
  },
  {
   "cell_type": "code",
   "execution_count": 18,
   "outputs": [
    {
     "name": "stdout",
     "output_type": "stream",
     "text": [
      "Wartość statystyki chi-kwadrat: 6.181604634190842\n",
      "P-value: 0.1859902175015663\n",
      "Brak podstaw do odrzucenia H0.\n",
      "Nie ma istotnej statystycznie zależności między poziomem trudności a poprawnością odpowiedzi.\n"
     ]
    }
   ],
   "source": [
    "conduct_chi2test(contingency_table, H0, H1, ALPHA)"
   ],
   "metadata": {
    "collapsed": false,
    "ExecuteTime": {
     "end_time": "2023-10-14T18:30:34.857934Z",
     "start_time": "2023-10-14T18:30:34.837852Z"
    }
   },
   "id": "4a0addb3aff4af39"
  },
  {
   "cell_type": "code",
   "execution_count": 44,
   "outputs": [
    {
     "name": "stdout",
     "output_type": "stream",
     "text": [
      "Wartość statystyki chi-kwadrat: 0.0\n",
      "P-value: 1.0\n",
      "Brak podstaw do odrzucenia H0.\n"
     ]
    }
   ],
   "source": [
    "conduct_chi2test(contingency_table_q1_b, ALPHA)"
   ],
   "metadata": {
    "collapsed": false,
    "ExecuteTime": {
     "end_time": "2023-10-14T21:24:01.244938Z",
     "start_time": "2023-10-14T21:24:01.213613Z"
    }
   },
   "id": "e84d031e0b4cba06"
  },
  {
   "cell_type": "code",
   "execution_count": 45,
   "outputs": [
    {
     "data": {
      "text/plain": "quest1_after   A   B\npoprawnosc          \n0              6   8\n1             16  52",
      "text/html": "<div>\n<style scoped>\n    .dataframe tbody tr th:only-of-type {\n        vertical-align: middle;\n    }\n\n    .dataframe tbody tr th {\n        vertical-align: top;\n    }\n\n    .dataframe thead th {\n        text-align: right;\n    }\n</style>\n<table border=\"1\" class=\"dataframe\">\n  <thead>\n    <tr style=\"text-align: right;\">\n      <th>quest1_after</th>\n      <th>A</th>\n      <th>B</th>\n    </tr>\n    <tr>\n      <th>poprawnosc</th>\n      <th></th>\n      <th></th>\n    </tr>\n  </thead>\n  <tbody>\n    <tr>\n      <th>0</th>\n      <td>6</td>\n      <td>8</td>\n    </tr>\n    <tr>\n      <th>1</th>\n      <td>16</td>\n      <td>52</td>\n    </tr>\n  </tbody>\n</table>\n</div>"
     },
     "execution_count": 45,
     "metadata": {},
     "output_type": "execute_result"
    }
   ],
   "source": [
    "# Mapa vs Inne formy - after\n",
    "contingency_table_q1_a = create_contingency_table(df, 'quest1_after')\n",
    "contingency_table_q1_a"
   ],
   "metadata": {
    "collapsed": false,
    "ExecuteTime": {
     "end_time": "2023-10-14T21:24:16.601040Z",
     "start_time": "2023-10-14T21:24:16.560520Z"
    }
   },
   "id": "b6a831c29206db3"
  },
  {
   "cell_type": "code",
   "execution_count": 46,
   "outputs": [
    {
     "name": "stdout",
     "output_type": "stream",
     "text": [
      "Wartość statystyki chi-kwadrat: 1.3343662464985995\n",
      "P-value: 0.24802994091918268\n",
      "Brak podstaw do odrzucenia H0.\n"
     ]
    }
   ],
   "source": [
    "conduct_chi2test(contingency_table_q1_a, ALPHA)"
   ],
   "metadata": {
    "collapsed": false,
    "ExecuteTime": {
     "end_time": "2023-10-14T21:24:23.641317Z",
     "start_time": "2023-10-14T21:24:23.596007Z"
    }
   },
   "id": "c24b7a319fa90964"
  },
  {
   "cell_type": "code",
   "execution_count": 47,
   "outputs": [
    {
     "data": {
      "text/plain": "quest2_before  mapa  tabela  tekst  wykres\npoprawnosc                                \n0                 7       4      0       3\n1                35      10      6      17",
      "text/html": "<div>\n<style scoped>\n    .dataframe tbody tr th:only-of-type {\n        vertical-align: middle;\n    }\n\n    .dataframe tbody tr th {\n        vertical-align: top;\n    }\n\n    .dataframe thead th {\n        text-align: right;\n    }\n</style>\n<table border=\"1\" class=\"dataframe\">\n  <thead>\n    <tr style=\"text-align: right;\">\n      <th>quest2_before</th>\n      <th>mapa</th>\n      <th>tabela</th>\n      <th>tekst</th>\n      <th>wykres</th>\n    </tr>\n    <tr>\n      <th>poprawnosc</th>\n      <th></th>\n      <th></th>\n      <th></th>\n      <th></th>\n    </tr>\n  </thead>\n  <tbody>\n    <tr>\n      <th>0</th>\n      <td>7</td>\n      <td>4</td>\n      <td>0</td>\n      <td>3</td>\n    </tr>\n    <tr>\n      <th>1</th>\n      <td>35</td>\n      <td>10</td>\n      <td>6</td>\n      <td>17</td>\n    </tr>\n  </tbody>\n</table>\n</div>"
     },
     "execution_count": 47,
     "metadata": {},
     "output_type": "execute_result"
    }
   ],
   "source": [
    "# Mapa vs Wykres vs Tabela vs Tekst - before\n",
    "contingency_table_q2_b = create_contingency_table(df, 'quest2_before')\n",
    "contingency_table_q2_b"
   ],
   "metadata": {
    "collapsed": false,
    "ExecuteTime": {
     "end_time": "2023-10-14T21:24:31.753744Z",
     "start_time": "2023-10-14T21:24:31.708593Z"
    }
   },
   "id": "e7c19e4e62118723"
  },
  {
   "cell_type": "code",
   "execution_count": 48,
   "outputs": [
    {
     "name": "stdout",
     "output_type": "stream",
     "text": [
      "Wartość statystyki chi-kwadrat: 0.0\n",
      "P-value: 1.0\n",
      "Brak podstaw do odrzucenia H0.\n"
     ]
    }
   ],
   "source": [
    "conduct_chi2test(contingency_table_q1_b, ALPHA)"
   ],
   "metadata": {
    "collapsed": false,
    "ExecuteTime": {
     "end_time": "2023-10-14T21:24:39.718992Z",
     "start_time": "2023-10-14T21:24:39.674590Z"
    }
   },
   "id": "9220f9740a9b3e1d"
  },
  {
   "cell_type": "code",
   "execution_count": 49,
   "outputs": [
    {
     "data": {
      "text/plain": "quest2_after  mapa  tabela  tekst  wykres\npoprawnosc                               \n0                6       2      0       6\n1               32      10      2      24",
      "text/html": "<div>\n<style scoped>\n    .dataframe tbody tr th:only-of-type {\n        vertical-align: middle;\n    }\n\n    .dataframe tbody tr th {\n        vertical-align: top;\n    }\n\n    .dataframe thead th {\n        text-align: right;\n    }\n</style>\n<table border=\"1\" class=\"dataframe\">\n  <thead>\n    <tr style=\"text-align: right;\">\n      <th>quest2_after</th>\n      <th>mapa</th>\n      <th>tabela</th>\n      <th>tekst</th>\n      <th>wykres</th>\n    </tr>\n    <tr>\n      <th>poprawnosc</th>\n      <th></th>\n      <th></th>\n      <th></th>\n      <th></th>\n    </tr>\n  </thead>\n  <tbody>\n    <tr>\n      <th>0</th>\n      <td>6</td>\n      <td>2</td>\n      <td>0</td>\n      <td>6</td>\n    </tr>\n    <tr>\n      <th>1</th>\n      <td>32</td>\n      <td>10</td>\n      <td>2</td>\n      <td>24</td>\n    </tr>\n  </tbody>\n</table>\n</div>"
     },
     "execution_count": 49,
     "metadata": {},
     "output_type": "execute_result"
    }
   ],
   "source": [
    "# Mapa vs Wykres vs Tabela vs Tekst - after\n",
    "contingency_table_q2_a = create_contingency_table(df, 'quest2_after')\n",
    "contingency_table_q2_a"
   ],
   "metadata": {
    "collapsed": false,
    "ExecuteTime": {
     "end_time": "2023-10-14T21:24:51.839461Z",
     "start_time": "2023-10-14T21:24:51.801300Z"
    }
   },
   "id": "a70e7f584a4639fc"
  },
  {
   "cell_type": "code",
   "execution_count": 50,
   "outputs": [
    {
     "name": "stdout",
     "output_type": "stream",
     "text": [
      "Wartość statystyki chi-kwadrat: 0.0\n",
      "P-value: 1.0\n",
      "Brak podstaw do odrzucenia H0.\n"
     ]
    }
   ],
   "source": [
    "conduct_chi2test(contingency_table_q1_b, ALPHA)"
   ],
   "metadata": {
    "collapsed": false,
    "ExecuteTime": {
     "end_time": "2023-10-14T21:24:56.011294Z",
     "start_time": "2023-10-14T21:24:55.969047Z"
    }
   },
   "id": "b874bd843344e0cf"
  },
  {
   "cell_type": "markdown",
   "source": [
    "d) grafiki 1,2,3\n",
    "\n",
    "-> 1"
   ],
   "metadata": {
    "collapsed": false
   },
   "id": "106efe8d3246c0e9"
  },
  {
   "cell_type": "code",
   "execution_count": 73,
   "outputs": [
    {
     "data": {
      "text/plain": "    poprawnosc quest1_before quest2_before quest1_after quest2_after\n0            1             B        wykres            B       wykres\n1            1             B        wykres            B       wykres\n2            1             B          mapa            B         mapa\n3            1             B          mapa            B       wykres\n4            1             B        tabela            B       tabela\n..         ...           ...           ...          ...          ...\n77           1           NaN           NaN          NaN          NaN\n78           1           NaN           NaN          NaN          NaN\n79           1           NaN           NaN          NaN          NaN\n80           1           NaN           NaN          NaN          NaN\n81           1           NaN           NaN          NaN          NaN\n\n[82 rows x 5 columns]",
      "text/html": "<div>\n<style scoped>\n    .dataframe tbody tr th:only-of-type {\n        vertical-align: middle;\n    }\n\n    .dataframe tbody tr th {\n        vertical-align: top;\n    }\n\n    .dataframe thead th {\n        text-align: right;\n    }\n</style>\n<table border=\"1\" class=\"dataframe\">\n  <thead>\n    <tr style=\"text-align: right;\">\n      <th></th>\n      <th>poprawnosc</th>\n      <th>quest1_before</th>\n      <th>quest2_before</th>\n      <th>quest1_after</th>\n      <th>quest2_after</th>\n    </tr>\n  </thead>\n  <tbody>\n    <tr>\n      <th>0</th>\n      <td>1</td>\n      <td>B</td>\n      <td>wykres</td>\n      <td>B</td>\n      <td>wykres</td>\n    </tr>\n    <tr>\n      <th>1</th>\n      <td>1</td>\n      <td>B</td>\n      <td>wykres</td>\n      <td>B</td>\n      <td>wykres</td>\n    </tr>\n    <tr>\n      <th>2</th>\n      <td>1</td>\n      <td>B</td>\n      <td>mapa</td>\n      <td>B</td>\n      <td>mapa</td>\n    </tr>\n    <tr>\n      <th>3</th>\n      <td>1</td>\n      <td>B</td>\n      <td>mapa</td>\n      <td>B</td>\n      <td>wykres</td>\n    </tr>\n    <tr>\n      <th>4</th>\n      <td>1</td>\n      <td>B</td>\n      <td>tabela</td>\n      <td>B</td>\n      <td>tabela</td>\n    </tr>\n    <tr>\n      <th>...</th>\n      <td>...</td>\n      <td>...</td>\n      <td>...</td>\n      <td>...</td>\n      <td>...</td>\n    </tr>\n    <tr>\n      <th>77</th>\n      <td>1</td>\n      <td>NaN</td>\n      <td>NaN</td>\n      <td>NaN</td>\n      <td>NaN</td>\n    </tr>\n    <tr>\n      <th>78</th>\n      <td>1</td>\n      <td>NaN</td>\n      <td>NaN</td>\n      <td>NaN</td>\n      <td>NaN</td>\n    </tr>\n    <tr>\n      <th>79</th>\n      <td>1</td>\n      <td>NaN</td>\n      <td>NaN</td>\n      <td>NaN</td>\n      <td>NaN</td>\n    </tr>\n    <tr>\n      <th>80</th>\n      <td>1</td>\n      <td>NaN</td>\n      <td>NaN</td>\n      <td>NaN</td>\n      <td>NaN</td>\n    </tr>\n    <tr>\n      <th>81</th>\n      <td>1</td>\n      <td>NaN</td>\n      <td>NaN</td>\n      <td>NaN</td>\n      <td>NaN</td>\n    </tr>\n  </tbody>\n</table>\n<p>82 rows × 5 columns</p>\n</div>"
     },
     "execution_count": 73,
     "metadata": {},
     "output_type": "execute_result"
    }
   ],
   "source": [
    "popr = []\n",
    "for col in df_merge.columns.tolist():\n",
    "    if col.startswith('1') and col.endswith('_corr'):\n",
    "        popr.append(df_merge[col])\n",
    "        \n",
    "quest1_before = [df_merge['Quest1_before'] for i in range(1)]\n",
    "quest2_before = [df_merge['Quest2_before'] for i in range(1)]\n",
    "quest1_after = [df_merge['Quest1_after'] for i in range(1)]\n",
    "quest2_after = [df_merge['Quest2_after'] for i in range(1)]\n",
    "        \n",
    "df = prepate_set(popr, quest1_before, quest1_after, quest2_before, quest2_after)\n",
    "df"
   ],
   "metadata": {
    "collapsed": false,
    "ExecuteTime": {
     "end_time": "2023-10-14T21:44:31.561232Z",
     "start_time": "2023-10-14T21:44:31.537333Z"
    }
   },
   "id": "a40dbad073d37c8a"
  },
  {
   "cell_type": "code",
   "execution_count": 74,
   "outputs": [
    {
     "name": "stdout",
     "output_type": "stream",
     "text": [
      "----------------\n",
      "quest1_before\n",
      "Wartość statystyki chi-kwadrat: 0.00038475975975976035\n",
      "P-value: 0.9843502633116243\n",
      "Brak podstaw do odrzucenia H0.\n",
      "----------------\n",
      "quest1_after\n",
      "Wartość statystyki chi-kwadrat: 5.406098484848484\n",
      "P-value: 0.020066516230538914\n",
      "Istnieją podstawy do odrzucenia H0, przyjmujemy hipotezę H1:\n",
      "----------------\n",
      "quest2_before\n",
      "Wartość statystyki chi-kwadrat: 0.5759523809523808\n",
      "P-value: 0.9019147738707174\n",
      "Brak podstaw do odrzucenia H0.\n",
      "----------------\n",
      "quest2_after\n",
      "Wartość statystyki chi-kwadrat: 6.593567251461989\n",
      "P-value: 0.08604458771266413\n",
      "Brak podstaw do odrzucenia H0.\n"
     ]
    }
   ],
   "source": [
    "for i in ['quest1_before', 'quest1_after', 'quest2_before', 'quest2_after']:\n",
    "    print('----------------')\n",
    "    print(i)\n",
    "    tab = create_contingency_table(df, i)\n",
    "    conduct_chi2test(tab, ALPHA)"
   ],
   "metadata": {
    "collapsed": false,
    "ExecuteTime": {
     "end_time": "2023-10-14T21:44:35.854298Z",
     "start_time": "2023-10-14T21:44:35.826602Z"
    }
   },
   "id": "de3a38cb7153cb7c"
  },
  {
   "cell_type": "markdown",
   "source": [
    "-> 2"
   ],
   "metadata": {
    "collapsed": false
   },
   "id": "34d6b1b0a9361193"
  },
  {
   "cell_type": "code",
   "execution_count": 75,
   "outputs": [
    {
     "data": {
      "text/plain": "    poprawnosc quest1_before quest2_before quest1_after quest2_after\n0            0             B        wykres            B       wykres\n1            1             B        wykres            B       wykres\n2            1             B          mapa            B         mapa\n3            1             B          mapa            B       wykres\n4            1             B        tabela            B       tabela\n..         ...           ...           ...          ...          ...\n77           1           NaN           NaN          NaN          NaN\n78           1           NaN           NaN          NaN          NaN\n79           1           NaN           NaN          NaN          NaN\n80           0           NaN           NaN          NaN          NaN\n81           1           NaN           NaN          NaN          NaN\n\n[82 rows x 5 columns]",
      "text/html": "<div>\n<style scoped>\n    .dataframe tbody tr th:only-of-type {\n        vertical-align: middle;\n    }\n\n    .dataframe tbody tr th {\n        vertical-align: top;\n    }\n\n    .dataframe thead th {\n        text-align: right;\n    }\n</style>\n<table border=\"1\" class=\"dataframe\">\n  <thead>\n    <tr style=\"text-align: right;\">\n      <th></th>\n      <th>poprawnosc</th>\n      <th>quest1_before</th>\n      <th>quest2_before</th>\n      <th>quest1_after</th>\n      <th>quest2_after</th>\n    </tr>\n  </thead>\n  <tbody>\n    <tr>\n      <th>0</th>\n      <td>0</td>\n      <td>B</td>\n      <td>wykres</td>\n      <td>B</td>\n      <td>wykres</td>\n    </tr>\n    <tr>\n      <th>1</th>\n      <td>1</td>\n      <td>B</td>\n      <td>wykres</td>\n      <td>B</td>\n      <td>wykres</td>\n    </tr>\n    <tr>\n      <th>2</th>\n      <td>1</td>\n      <td>B</td>\n      <td>mapa</td>\n      <td>B</td>\n      <td>mapa</td>\n    </tr>\n    <tr>\n      <th>3</th>\n      <td>1</td>\n      <td>B</td>\n      <td>mapa</td>\n      <td>B</td>\n      <td>wykres</td>\n    </tr>\n    <tr>\n      <th>4</th>\n      <td>1</td>\n      <td>B</td>\n      <td>tabela</td>\n      <td>B</td>\n      <td>tabela</td>\n    </tr>\n    <tr>\n      <th>...</th>\n      <td>...</td>\n      <td>...</td>\n      <td>...</td>\n      <td>...</td>\n      <td>...</td>\n    </tr>\n    <tr>\n      <th>77</th>\n      <td>1</td>\n      <td>NaN</td>\n      <td>NaN</td>\n      <td>NaN</td>\n      <td>NaN</td>\n    </tr>\n    <tr>\n      <th>78</th>\n      <td>1</td>\n      <td>NaN</td>\n      <td>NaN</td>\n      <td>NaN</td>\n      <td>NaN</td>\n    </tr>\n    <tr>\n      <th>79</th>\n      <td>1</td>\n      <td>NaN</td>\n      <td>NaN</td>\n      <td>NaN</td>\n      <td>NaN</td>\n    </tr>\n    <tr>\n      <th>80</th>\n      <td>0</td>\n      <td>NaN</td>\n      <td>NaN</td>\n      <td>NaN</td>\n      <td>NaN</td>\n    </tr>\n    <tr>\n      <th>81</th>\n      <td>1</td>\n      <td>NaN</td>\n      <td>NaN</td>\n      <td>NaN</td>\n      <td>NaN</td>\n    </tr>\n  </tbody>\n</table>\n<p>82 rows × 5 columns</p>\n</div>"
     },
     "execution_count": 75,
     "metadata": {},
     "output_type": "execute_result"
    }
   ],
   "source": [
    "popr = []\n",
    "for col in df_merge.columns.tolist():\n",
    "    if col.startswith('2') and col.endswith('_corr'):\n",
    "        popr.append(df_merge[col])\n",
    "        \n",
    "quest1_before = [df_merge['Quest1_before'] for i in range(1)]\n",
    "quest2_before = [df_merge['Quest2_before'] for i in range(1)]\n",
    "quest1_after = [df_merge['Quest1_after'] for i in range(1)]\n",
    "quest2_after = [df_merge['Quest2_after'] for i in range(1)]\n",
    "        \n",
    "df = prepate_set(popr, quest1_before, quest1_after, quest2_before, quest2_after)\n",
    "df"
   ],
   "metadata": {
    "collapsed": false,
    "ExecuteTime": {
     "end_time": "2023-10-14T21:44:43.731096Z",
     "start_time": "2023-10-14T21:44:43.718938Z"
    }
   },
   "id": "2c961fe779223bc4"
  },
  {
   "cell_type": "code",
   "execution_count": 76,
   "outputs": [
    {
     "name": "stdout",
     "output_type": "stream",
     "text": [
      "----------------\n",
      "quest1_before\n",
      "Wartość statystyki chi-kwadrat: 0.6020163482447966\n",
      "P-value: 0.43780973041461047\n",
      "Brak podstaw do odrzucenia H0.\n",
      "----------------\n",
      "quest1_after\n",
      "Wartość statystyki chi-kwadrat: 0.0\n",
      "P-value: 1.0\n",
      "Brak podstaw do odrzucenia H0.\n",
      "----------------\n",
      "quest2_before\n",
      "Wartość statystyki chi-kwadrat: 0.03310071154898744\n",
      "P-value: 0.9984141348881518\n",
      "Brak podstaw do odrzucenia H0.\n",
      "----------------\n",
      "quest2_after\n",
      "Wartość statystyki chi-kwadrat: 2.593607582173825\n",
      "P-value: 0.4586113225691323\n",
      "Brak podstaw do odrzucenia H0.\n"
     ]
    }
   ],
   "source": [
    "for i in ['quest1_before', 'quest1_after', 'quest2_before', 'quest2_after']:\n",
    "    print('----------------')\n",
    "    print(i)\n",
    "    tab = create_contingency_table(df, i)\n",
    "    conduct_chi2test(tab, ALPHA)"
   ],
   "metadata": {
    "collapsed": false,
    "ExecuteTime": {
     "end_time": "2023-10-14T21:44:45.578344Z",
     "start_time": "2023-10-14T21:44:45.551577Z"
    }
   },
   "id": "96f7347e62228665"
  },
  {
   "cell_type": "markdown",
   "source": [
    "-> 3"
   ],
   "metadata": {
    "collapsed": false
   },
   "id": "9522623dee2a7be6"
  },
  {
   "cell_type": "code",
   "execution_count": 79,
   "outputs": [
    {
     "data": {
      "text/plain": "    poprawnosc quest1_before quest2_before quest1_after quest2_after\n0            1             B        wykres            B       wykres\n1            0             B        wykres            B       wykres\n2            0             B          mapa            B         mapa\n3            1             B          mapa            B       wykres\n4            1             B        tabela            B       tabela\n..         ...           ...           ...          ...          ...\n77           1           NaN           NaN          NaN          NaN\n78           0           NaN           NaN          NaN          NaN\n79           0           NaN           NaN          NaN          NaN\n80           0           NaN           NaN          NaN          NaN\n81           0           NaN           NaN          NaN          NaN\n\n[82 rows x 5 columns]",
      "text/html": "<div>\n<style scoped>\n    .dataframe tbody tr th:only-of-type {\n        vertical-align: middle;\n    }\n\n    .dataframe tbody tr th {\n        vertical-align: top;\n    }\n\n    .dataframe thead th {\n        text-align: right;\n    }\n</style>\n<table border=\"1\" class=\"dataframe\">\n  <thead>\n    <tr style=\"text-align: right;\">\n      <th></th>\n      <th>poprawnosc</th>\n      <th>quest1_before</th>\n      <th>quest2_before</th>\n      <th>quest1_after</th>\n      <th>quest2_after</th>\n    </tr>\n  </thead>\n  <tbody>\n    <tr>\n      <th>0</th>\n      <td>1</td>\n      <td>B</td>\n      <td>wykres</td>\n      <td>B</td>\n      <td>wykres</td>\n    </tr>\n    <tr>\n      <th>1</th>\n      <td>0</td>\n      <td>B</td>\n      <td>wykres</td>\n      <td>B</td>\n      <td>wykres</td>\n    </tr>\n    <tr>\n      <th>2</th>\n      <td>0</td>\n      <td>B</td>\n      <td>mapa</td>\n      <td>B</td>\n      <td>mapa</td>\n    </tr>\n    <tr>\n      <th>3</th>\n      <td>1</td>\n      <td>B</td>\n      <td>mapa</td>\n      <td>B</td>\n      <td>wykres</td>\n    </tr>\n    <tr>\n      <th>4</th>\n      <td>1</td>\n      <td>B</td>\n      <td>tabela</td>\n      <td>B</td>\n      <td>tabela</td>\n    </tr>\n    <tr>\n      <th>...</th>\n      <td>...</td>\n      <td>...</td>\n      <td>...</td>\n      <td>...</td>\n      <td>...</td>\n    </tr>\n    <tr>\n      <th>77</th>\n      <td>1</td>\n      <td>NaN</td>\n      <td>NaN</td>\n      <td>NaN</td>\n      <td>NaN</td>\n    </tr>\n    <tr>\n      <th>78</th>\n      <td>0</td>\n      <td>NaN</td>\n      <td>NaN</td>\n      <td>NaN</td>\n      <td>NaN</td>\n    </tr>\n    <tr>\n      <th>79</th>\n      <td>0</td>\n      <td>NaN</td>\n      <td>NaN</td>\n      <td>NaN</td>\n      <td>NaN</td>\n    </tr>\n    <tr>\n      <th>80</th>\n      <td>0</td>\n      <td>NaN</td>\n      <td>NaN</td>\n      <td>NaN</td>\n      <td>NaN</td>\n    </tr>\n    <tr>\n      <th>81</th>\n      <td>0</td>\n      <td>NaN</td>\n      <td>NaN</td>\n      <td>NaN</td>\n      <td>NaN</td>\n    </tr>\n  </tbody>\n</table>\n<p>82 rows × 5 columns</p>\n</div>"
     },
     "execution_count": 79,
     "metadata": {},
     "output_type": "execute_result"
    }
   ],
   "source": [
    "popr = []\n",
    "for col in df_merge.columns.tolist():\n",
    "    if col.startswith('3') and col.endswith('_corr'):\n",
    "        popr.append(df_merge[col])\n",
    "        \n",
    "quest1_before = [df_merge['Quest1_before'] for i in range(1)]\n",
    "quest2_before = [df_merge['Quest2_before'] for i in range(1)]\n",
    "quest1_after = [df_merge['Quest1_after'] for i in range(1)]\n",
    "quest2_after = [df_merge['Quest2_after'] for i in range(1)]\n",
    "        \n",
    "df = prepate_set(popr, quest1_before, quest1_after, quest2_before, quest2_after)\n",
    "df"
   ],
   "metadata": {
    "collapsed": false,
    "ExecuteTime": {
     "end_time": "2023-10-14T21:45:35.520562Z",
     "start_time": "2023-10-14T21:45:35.510085Z"
    }
   },
   "id": "cbe3044ae71da3f1"
  },
  {
   "cell_type": "code",
   "execution_count": 80,
   "outputs": [
    {
     "name": "stdout",
     "output_type": "stream",
     "text": [
      "----------------\n",
      "quest1_before\n",
      "Wartość statystyki chi-kwadrat: 0.13934194361825952\n",
      "P-value: 0.7089360876422948\n",
      "Brak podstaw do odrzucenia H0.\n",
      "----------------\n",
      "quest1_after\n",
      "Wartość statystyki chi-kwadrat: 0.0\n",
      "P-value: 1.0\n",
      "Brak podstaw do odrzucenia H0.\n",
      "----------------\n",
      "quest2_before\n",
      "Wartość statystyki chi-kwadrat: 2.98695602642971\n",
      "P-value: 0.39364067575112605\n",
      "Brak podstaw do odrzucenia H0.\n",
      "----------------\n",
      "quest2_after\n",
      "Wartość statystyki chi-kwadrat: 4.545173340048686\n",
      "P-value: 0.20829614814340108\n",
      "Brak podstaw do odrzucenia H0.\n"
     ]
    }
   ],
   "source": [
    "for i in ['quest1_before', 'quest1_after', 'quest2_before', 'quest2_after']:\n",
    "    print('----------------')\n",
    "    print(i)\n",
    "    tab = create_contingency_table(df, i)\n",
    "    conduct_chi2test(tab, ALPHA)"
   ],
   "metadata": {
    "collapsed": false,
    "ExecuteTime": {
     "end_time": "2023-10-14T21:45:36.027871Z",
     "start_time": "2023-10-14T21:45:36.019131Z"
    }
   },
   "id": "c373ee30c60d5c98"
  },
  {
   "cell_type": "markdown",
   "source": [
    "e) zadania 1a, 1b, 2a, 2b, 3a, 3b"
   ],
   "metadata": {
    "collapsed": false
   },
   "id": "f0ccc252e69bf48"
  },
  {
   "cell_type": "code",
   "execution_count": 64,
   "outputs": [],
   "source": [
    "df1a = df_merge[['Quest1_before', 'Quest1_after', 'Quest2_before', 'Quest2_after', '1a_corr']].rename(columns={'1a_corr':'poprawnosc'})\n",
    "df2a = df_merge[['Quest1_before', 'Quest1_after', 'Quest2_before', 'Quest2_after', '2a_corr']].rename(columns={'2a_corr':'poprawnosc'})\n",
    "df3a = df_merge[['Quest1_before', 'Quest1_after', 'Quest2_before', 'Quest2_after', '3a_corr']].rename(columns={'3a_corr':'poprawnosc'})\n",
    "\n",
    "df1b = df_merge[['Quest1_before', 'Quest1_after', 'Quest2_before', 'Quest2_after', '1b_corr']].rename(columns={'1b_corr':'poprawnosc'})\n",
    "df2b = df_merge[['Quest1_before', 'Quest1_after', 'Quest2_before', 'Quest2_after', '2b_corr']].rename(columns={'2b_corr':'poprawnosc'})\n",
    "df3b = df_merge[['Quest1_before', 'Quest1_after', 'Quest2_before', 'Quest2_after', '3b_corr']].rename(columns={'3b_corr':'poprawnosc'})\n",
    "\n",
    "dfs = [df1a, df1b, df2a, df2b, df3a, df3b]"
   ],
   "metadata": {
    "collapsed": false,
    "ExecuteTime": {
     "end_time": "2023-10-14T21:38:00.985422Z",
     "start_time": "2023-10-14T21:38:00.947479Z"
    }
   },
   "id": "c8afd05360ec6596"
  },
  {
   "cell_type": "code",
   "execution_count": 68,
   "outputs": [
    {
     "name": "stdout",
     "output_type": "stream",
     "text": [
      "---------------------------------------------\n",
      "1\n",
      "----------------\n",
      "Quest1_before\n",
      "Wartość statystyki chi-kwadrat: 0.00038475975975976035\n",
      "P-value: 0.9843502633116243\n",
      "Brak podstaw do odrzucenia H0.\n",
      "----------------\n",
      "Quest1_after\n",
      "Wartość statystyki chi-kwadrat: 5.406098484848484\n",
      "P-value: 0.020066516230538914\n",
      "Istnieją podstawy do odrzucenia H0, przyjmujemy hipotezę H1:\n",
      "----------------\n",
      "Quest2_before\n",
      "Wartość statystyki chi-kwadrat: 0.5759523809523808\n",
      "P-value: 0.9019147738707174\n",
      "Brak podstaw do odrzucenia H0.\n",
      "----------------\n",
      "Quest2_after\n",
      "Wartość statystyki chi-kwadrat: 6.593567251461989\n",
      "P-value: 0.08604458771266413\n",
      "Brak podstaw do odrzucenia H0.\n",
      "---------------------------------------------\n",
      "2\n",
      "----------------\n",
      "Quest1_before\n",
      "Wartość statystyki chi-kwadrat: 0.0\n",
      "P-value: 1.0\n",
      "Brak podstaw do odrzucenia H0.\n",
      "----------------\n",
      "Quest1_after\n",
      "Wartość statystyki chi-kwadrat: 0.8852272727272728\n",
      "P-value: 0.34677395734420646\n",
      "Brak podstaw do odrzucenia H0.\n",
      "----------------\n",
      "Quest2_before\n",
      "Wartość statystyki chi-kwadrat: 1.04640768588137\n",
      "P-value: 0.7900246250688889\n",
      "Brak podstaw do odrzucenia H0.\n",
      "----------------\n",
      "Quest2_after\n",
      "Wartość statystyki chi-kwadrat: 0.8505386272699293\n",
      "P-value: 0.8373445114015542\n",
      "Brak podstaw do odrzucenia H0.\n",
      "---------------------------------------------\n",
      "3\n",
      "----------------\n",
      "Quest1_before\n",
      "Wartość statystyki chi-kwadrat: 0.6020163482447966\n",
      "P-value: 0.43780973041461047\n",
      "Brak podstaw do odrzucenia H0.\n",
      "----------------\n",
      "Quest1_after\n",
      "Wartość statystyki chi-kwadrat: 0.0\n",
      "P-value: 1.0\n",
      "Brak podstaw do odrzucenia H0.\n",
      "----------------\n",
      "Quest2_before\n",
      "Wartość statystyki chi-kwadrat: 0.03310071154898744\n",
      "P-value: 0.9984141348881518\n",
      "Brak podstaw do odrzucenia H0.\n",
      "----------------\n",
      "Quest2_after\n",
      "Wartość statystyki chi-kwadrat: 2.593607582173825\n",
      "P-value: 0.4586113225691323\n",
      "Brak podstaw do odrzucenia H0.\n",
      "---------------------------------------------\n",
      "4\n",
      "----------------\n",
      "Quest1_before\n",
      "Wartość statystyki chi-kwadrat: 0.0\n",
      "P-value: 1.0\n",
      "Brak podstaw do odrzucenia H0.\n",
      "----------------\n",
      "Quest1_after\n",
      "Wartość statystyki chi-kwadrat: 0.19059917355371891\n",
      "P-value: 0.6624183978085577\n",
      "Brak podstaw do odrzucenia H0.\n",
      "----------------\n",
      "Quest2_before\n",
      "Wartość statystyki chi-kwadrat: 2.286060606060606\n",
      "P-value: 0.5151965834264471\n",
      "Brak podstaw do odrzucenia H0.\n",
      "----------------\n",
      "Quest2_after\n",
      "Wartość statystyki chi-kwadrat: 1.1421584263689528\n",
      "P-value: 0.7669078368500353\n",
      "Brak podstaw do odrzucenia H0.\n",
      "---------------------------------------------\n",
      "5\n",
      "----------------\n",
      "Quest1_before\n",
      "Wartość statystyki chi-kwadrat: 0.13934194361825952\n",
      "P-value: 0.7089360876422948\n",
      "Brak podstaw do odrzucenia H0.\n",
      "----------------\n",
      "Quest1_after\n",
      "Wartość statystyki chi-kwadrat: 0.0\n",
      "P-value: 1.0\n",
      "Brak podstaw do odrzucenia H0.\n",
      "----------------\n",
      "Quest2_before\n",
      "Wartość statystyki chi-kwadrat: 2.98695602642971\n",
      "P-value: 0.39364067575112605\n",
      "Brak podstaw do odrzucenia H0.\n",
      "----------------\n",
      "Quest2_after\n",
      "Wartość statystyki chi-kwadrat: 4.545173340048686\n",
      "P-value: 0.20829614814340108\n",
      "Brak podstaw do odrzucenia H0.\n",
      "---------------------------------------------\n",
      "6\n",
      "----------------\n",
      "Quest1_before\n",
      "Wartość statystyki chi-kwadrat: 0.0\n",
      "P-value: 1.0\n",
      "Brak podstaw do odrzucenia H0.\n",
      "----------------\n",
      "Quest1_after\n",
      "Wartość statystyki chi-kwadrat: 3.371264680295781\n",
      "P-value: 0.06634280910760464\n",
      "Brak podstaw do odrzucenia H0.\n",
      "----------------\n",
      "Quest2_before\n",
      "Wartość statystyki chi-kwadrat: 4.155115060378218\n",
      "P-value: 0.24519431481534615\n",
      "Brak podstaw do odrzucenia H0.\n",
      "----------------\n",
      "Quest2_after\n",
      "Wartość statystyki chi-kwadrat: 8.355044908923025\n",
      "P-value: 0.039216541706365536\n",
      "Istnieją podstawy do odrzucenia H0, przyjmujemy hipotezę H1:\n"
     ]
    }
   ],
   "source": [
    "for nr, dfx in enumerate(dfs):\n",
    "    print('---------------------------------------------')\n",
    "    print(nr+1)\n",
    "    for i in ['Quest1_before', 'Quest1_after', 'Quest2_before', 'Quest2_after']:\n",
    "        print('----------------')\n",
    "        print(i)\n",
    "        tab = create_contingency_table(dfx, i)\n",
    "        conduct_chi2test(tab, ALPHA)"
   ],
   "metadata": {
    "collapsed": false,
    "ExecuteTime": {
     "end_time": "2023-10-14T21:41:41.145516Z",
     "start_time": "2023-10-14T21:41:41.090780Z"
    }
   },
   "id": "c3c87da0819a5ac1"
  },
  {
   "cell_type": "markdown",
   "source": [
    "### Podsumowanie:\n",
    "Istnieje istotna statystycznie zależność między poziomem trudności a poprawnością odpowiedzi na poziomie istotności $\\alpha=0.05$ dla:\n",
    "- grafiki 1, quest1_after\n",
    "- grafika 1a, quest1_after\n",
    "- grafika 3b, quest2_after\n",
    "\n"
   ],
   "metadata": {
    "collapsed": false
   },
   "id": "ddb02e1deb8df4eb"
  },
  {
   "cell_type": "code",
   "execution_count": null,
   "outputs": [],
   "source": [],
   "metadata": {
    "collapsed": false
   },
   "id": "c96a8c2d3e0eb4e7"
  }
 ],
 "metadata": {
  "kernelspec": {
   "display_name": "Python 3",
   "language": "python",
   "name": "python3"
  },
  "language_info": {
   "codemirror_mode": {
    "name": "ipython",
    "version": 2
   },
   "file_extension": ".py",
   "mimetype": "text/x-python",
   "name": "python",
   "nbconvert_exporter": "python",
   "pygments_lexer": "ipython2",
   "version": "2.7.6"
  }
 },
 "nbformat": 4,
 "nbformat_minor": 5
}
