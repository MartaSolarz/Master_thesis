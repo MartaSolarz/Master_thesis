{
 "cells": [
  {
   "cell_type": "markdown",
   "source": [
    "# Temat testów\n",
    "\n",
    "Czy istnieje istotna statystycznie różnica w poprawności/pewności odpowiedzi w zależności od:\n",
    "- liczby wizyt (na wszystkich elementach grafiki, tylko na treści, tylko na poleceniu)?\n",
    "- długości całkowitej i średniej wizyty (na wszystkich elementach grafiki, tylko na treści, tylko na poleceniu)?\n",
    "\n",
    "### Przygotowanie setów do testowania \n",
    "- wizyty (liczba, długość całkowita, średnia)\n",
    "vs\n",
    "- poprawność odpowiedzi\n",
    "- pewność odpowiedzi\n",
    "\n",
    "### Jakie sety potrzebujemy do testów?\n",
    "\n",
    "Poprawność/pewność w zależności od metryki eye tracking dla: każdego elementu (mapa, tabela, tekst, wykres, polecenie); elementów treści (bez polecenia) w grupach:\n",
    "- dla każdej grafiki osobno\n",
    "- sumy: wszystkie grafiki, A, B, 1, 2, 3\n",
    "- kolekcje: wszystkie grafiki, A, B, 1, 2, 3\n",
    "\n"
   ],
   "metadata": {
    "collapsed": false
   },
   "id": "ca00621bbb388b4"
  },
  {
   "cell_type": "code",
   "execution_count": 1,
   "outputs": [],
   "source": [
    "import pandas as pd\n",
    "import re\n",
    "\n",
    "from functions.set_preparations import prepare_row_df\n",
    "from functions.tests import conduct_logistic_regression_test"
   ],
   "metadata": {
    "collapsed": false,
    "ExecuteTime": {
     "end_time": "2023-10-25T19:29:32.735618Z",
     "start_time": "2023-10-25T19:29:31.745012Z"
    }
   },
   "id": "2f99b40764a40b7b"
  },
  {
   "cell_type": "code",
   "execution_count": 2,
   "outputs": [
    {
     "data": {
      "text/plain": "    1a_trud  1b_trud  2a_trud  2b_trud  3a_trud  3b_trud  Trud_all  Corr_all  \\\nID                                                                             \n1         3        1        4        3        4        4        19         4   \n2         1        2        3        1        2        4        13         5   \n3         2        1        3        1        1        1         9         4   \n4         3        2        2        1        3        5        16         5   \n5         4        2        3        2        3        3        17         6   \n7         2        2        2        1        4        3        14         6   \n11        2        1        3        2        1        2        11         2   \n12        1        1        3        3        2        2        12         2   \n13        2        4        2        1        1        3        13         5   \n14        2        3        2        5        4        4        20         5   \n15        2        3        4        2        4        5        20         4   \n16        3        2        1        3        3        3        15         5   \n17        3        2        2        2        2        3        14         4   \n18        3        1        4        4        1        1        14         2   \n19        3        2        1        3        2        4        15         5   \n20        3        3        5        2        4        5        22         3   \n21        2        2        1        2        5        4        16         5   \n22        3        2        2        3        1        3        14         4   \n23        4        1        1        2        1        1        10         4   \n24        3        2        1        1        4        5        16         6   \n25        3        2        4        4        1        3        17         0   \n26        3        2        2        4        4        4        19         5   \n27        3        2        2        2        3        4        16         3   \n29        1        1        3        1        2        2        10         5   \n30        3        2        1        1        2        1        10         3   \n31        2        2        3        2        2        3        14         3   \n32        2        3        3        3        3        4        18         6   \n33        3        1        1        2        3        2        12         5   \n34        1        1        4        2        3        2        13         3   \n35        5        2        2        1        4        4        18         6   \n37        2        1        2        3        4        4        16         6   \n38        4        2        1        1        3        4        15         6   \n39        2        3        3        4        2        3        17         3   \n40        4        3        3        4        2        4        20         4   \n41        2        2        2        2        3        3        14         5   \n42        2        1        2        1        2        2        10         5   \n43        1        2        2        2        3        3        13         5   \n44        1        1        3        1        2        3        11         3   \n45        2        1        2        2        2        2        11         3   \n46        1        3        2        2        2        3        13         4   \n\n    1a_corr  1b_corr  ...  SumCorr_a  SumCorr_b  SumCorr_1  SumCorr_2  \\\nID                    ...                                               \n1         1        1  ...          2          2          2          0   \n2         1        1  ...          2          3          2          2   \n3         1        1  ...          2          2          2          2   \n4         1        1  ...          3          2          2          2   \n5         1        1  ...          3          3          2          2   \n7         1        1  ...          3          3          2          2   \n11        1        0  ...          1          1          1          0   \n12        1        1  ...          1          1          2          0   \n13        1        1  ...          3          2          2          2   \n14        1        1  ...          3          2          2          1   \n15        1        1  ...          2          2          2          1   \n16        1        1  ...          3          2          2          1   \n17        1        1  ...          2          2          2          2   \n18        1        1  ...          1          1          2          0   \n19        1        1  ...          2          3          2          2   \n20        1        1  ...          1          2          2          0   \n21        1        1  ...          3          2          2          2   \n22        1        1  ...          2          2          2          2   \n23        1        1  ...          2          2          2          2   \n24        1        1  ...          3          3          2          2   \n25        0        0  ...          0          0          0          0   \n26        1        1  ...          2          3          2          2   \n27        1        1  ...          2          1          2          0   \n29        1        1  ...          2          3          2          1   \n30        0        0  ...          2          1          0          2   \n31        0        1  ...          1          2          1          2   \n32        1        1  ...          3          3          2          2   \n33        1        1  ...          3          2          2          2   \n34        1        1  ...          1          2          2          1   \n35        1        1  ...          3          3          2          2   \n37        1        1  ...          3          3          2          2   \n38        1        1  ...          3          3          2          2   \n39        0        1  ...          1          2          1          2   \n40        1        1  ...          2          2          2          2   \n41        1        1  ...          3          2          2          1   \n42        1        1  ...          2          3          2          2   \n43        1        1  ...          3          2          2          2   \n44        1        1  ...          1          2          2          1   \n45        1        1  ...          2          1          2          0   \n46        0        1  ...          2          2          1          2   \n\n    SumCorr_3  SumTrud_a  SumTrud_b  SumTrud_1  SumTrud_2  SumTrud_3  \nID                                                                    \n1           2         11          8          4          7          8  \n2           1          6          7          3          4          6  \n3           0          6          3          3          4          2  \n4           1          8          8          5          3          8  \n5           2         10          7          6          5          6  \n7           2          8          6          4          3          7  \n11          1          6          5          3          5          3  \n12          0          6          6          2          6          4  \n13          1          5          8          6          3          4  \n14          2          8         12          5          7          8  \n15          1         10         10          5          6          9  \n16          2          7          8          5          4          6  \n17          0          7          7          5          4          5  \n18          0          8          6          4          8          2  \n19          1          6          9          5          4          6  \n20          1         12         10          6          7          9  \n21          1          8          8          4          3          9  \n22          0          6          8          5          5          4  \n23          0          6          4          5          3          2  \n24          2          8          8          5          2          9  \n25          0          8          9          5          8          4  \n26          1          9         10          5          6          8  \n27          1          8          8          5          4          7  \n29          2          6          4          2          4          4  \n30          1          6          4          5          2          3  \n31          0          7          7          4          5          5  \n32          2          8         10          5          6          7  \n33          1          7          5          4          3          5  \n34          0          8          5          2          6          5  \n35          2         11          7          7          3          8  \n37          2          8          8          3          5          8  \n38          2          8          7          6          2          7  \n39          0          7         10          5          7          5  \n40          0          9         11          7          7          6  \n41          2          7          7          4          4          6  \n42          1          6          4          3          3          4  \n43          1          6          7          3          4          6  \n44          0          6          5          2          4          5  \n45          1          6          5          3          4          4  \n46          1          5          8          4          4          5  \n\n[40 rows x 24 columns]",
      "text/html": "<div>\n<style scoped>\n    .dataframe tbody tr th:only-of-type {\n        vertical-align: middle;\n    }\n\n    .dataframe tbody tr th {\n        vertical-align: top;\n    }\n\n    .dataframe thead th {\n        text-align: right;\n    }\n</style>\n<table border=\"1\" class=\"dataframe\">\n  <thead>\n    <tr style=\"text-align: right;\">\n      <th></th>\n      <th>1a_trud</th>\n      <th>1b_trud</th>\n      <th>2a_trud</th>\n      <th>2b_trud</th>\n      <th>3a_trud</th>\n      <th>3b_trud</th>\n      <th>Trud_all</th>\n      <th>Corr_all</th>\n      <th>1a_corr</th>\n      <th>1b_corr</th>\n      <th>...</th>\n      <th>SumCorr_a</th>\n      <th>SumCorr_b</th>\n      <th>SumCorr_1</th>\n      <th>SumCorr_2</th>\n      <th>SumCorr_3</th>\n      <th>SumTrud_a</th>\n      <th>SumTrud_b</th>\n      <th>SumTrud_1</th>\n      <th>SumTrud_2</th>\n      <th>SumTrud_3</th>\n    </tr>\n    <tr>\n      <th>ID</th>\n      <th></th>\n      <th></th>\n      <th></th>\n      <th></th>\n      <th></th>\n      <th></th>\n      <th></th>\n      <th></th>\n      <th></th>\n      <th></th>\n      <th></th>\n      <th></th>\n      <th></th>\n      <th></th>\n      <th></th>\n      <th></th>\n      <th></th>\n      <th></th>\n      <th></th>\n      <th></th>\n      <th></th>\n    </tr>\n  </thead>\n  <tbody>\n    <tr>\n      <th>1</th>\n      <td>3</td>\n      <td>1</td>\n      <td>4</td>\n      <td>3</td>\n      <td>4</td>\n      <td>4</td>\n      <td>19</td>\n      <td>4</td>\n      <td>1</td>\n      <td>1</td>\n      <td>...</td>\n      <td>2</td>\n      <td>2</td>\n      <td>2</td>\n      <td>0</td>\n      <td>2</td>\n      <td>11</td>\n      <td>8</td>\n      <td>4</td>\n      <td>7</td>\n      <td>8</td>\n    </tr>\n    <tr>\n      <th>2</th>\n      <td>1</td>\n      <td>2</td>\n      <td>3</td>\n      <td>1</td>\n      <td>2</td>\n      <td>4</td>\n      <td>13</td>\n      <td>5</td>\n      <td>1</td>\n      <td>1</td>\n      <td>...</td>\n      <td>2</td>\n      <td>3</td>\n      <td>2</td>\n      <td>2</td>\n      <td>1</td>\n      <td>6</td>\n      <td>7</td>\n      <td>3</td>\n      <td>4</td>\n      <td>6</td>\n    </tr>\n    <tr>\n      <th>3</th>\n      <td>2</td>\n      <td>1</td>\n      <td>3</td>\n      <td>1</td>\n      <td>1</td>\n      <td>1</td>\n      <td>9</td>\n      <td>4</td>\n      <td>1</td>\n      <td>1</td>\n      <td>...</td>\n      <td>2</td>\n      <td>2</td>\n      <td>2</td>\n      <td>2</td>\n      <td>0</td>\n      <td>6</td>\n      <td>3</td>\n      <td>3</td>\n      <td>4</td>\n      <td>2</td>\n    </tr>\n    <tr>\n      <th>4</th>\n      <td>3</td>\n      <td>2</td>\n      <td>2</td>\n      <td>1</td>\n      <td>3</td>\n      <td>5</td>\n      <td>16</td>\n      <td>5</td>\n      <td>1</td>\n      <td>1</td>\n      <td>...</td>\n      <td>3</td>\n      <td>2</td>\n      <td>2</td>\n      <td>2</td>\n      <td>1</td>\n      <td>8</td>\n      <td>8</td>\n      <td>5</td>\n      <td>3</td>\n      <td>8</td>\n    </tr>\n    <tr>\n      <th>5</th>\n      <td>4</td>\n      <td>2</td>\n      <td>3</td>\n      <td>2</td>\n      <td>3</td>\n      <td>3</td>\n      <td>17</td>\n      <td>6</td>\n      <td>1</td>\n      <td>1</td>\n      <td>...</td>\n      <td>3</td>\n      <td>3</td>\n      <td>2</td>\n      <td>2</td>\n      <td>2</td>\n      <td>10</td>\n      <td>7</td>\n      <td>6</td>\n      <td>5</td>\n      <td>6</td>\n    </tr>\n    <tr>\n      <th>7</th>\n      <td>2</td>\n      <td>2</td>\n      <td>2</td>\n      <td>1</td>\n      <td>4</td>\n      <td>3</td>\n      <td>14</td>\n      <td>6</td>\n      <td>1</td>\n      <td>1</td>\n      <td>...</td>\n      <td>3</td>\n      <td>3</td>\n      <td>2</td>\n      <td>2</td>\n      <td>2</td>\n      <td>8</td>\n      <td>6</td>\n      <td>4</td>\n      <td>3</td>\n      <td>7</td>\n    </tr>\n    <tr>\n      <th>11</th>\n      <td>2</td>\n      <td>1</td>\n      <td>3</td>\n      <td>2</td>\n      <td>1</td>\n      <td>2</td>\n      <td>11</td>\n      <td>2</td>\n      <td>1</td>\n      <td>0</td>\n      <td>...</td>\n      <td>1</td>\n      <td>1</td>\n      <td>1</td>\n      <td>0</td>\n      <td>1</td>\n      <td>6</td>\n      <td>5</td>\n      <td>3</td>\n      <td>5</td>\n      <td>3</td>\n    </tr>\n    <tr>\n      <th>12</th>\n      <td>1</td>\n      <td>1</td>\n      <td>3</td>\n      <td>3</td>\n      <td>2</td>\n      <td>2</td>\n      <td>12</td>\n      <td>2</td>\n      <td>1</td>\n      <td>1</td>\n      <td>...</td>\n      <td>1</td>\n      <td>1</td>\n      <td>2</td>\n      <td>0</td>\n      <td>0</td>\n      <td>6</td>\n      <td>6</td>\n      <td>2</td>\n      <td>6</td>\n      <td>4</td>\n    </tr>\n    <tr>\n      <th>13</th>\n      <td>2</td>\n      <td>4</td>\n      <td>2</td>\n      <td>1</td>\n      <td>1</td>\n      <td>3</td>\n      <td>13</td>\n      <td>5</td>\n      <td>1</td>\n      <td>1</td>\n      <td>...</td>\n      <td>3</td>\n      <td>2</td>\n      <td>2</td>\n      <td>2</td>\n      <td>1</td>\n      <td>5</td>\n      <td>8</td>\n      <td>6</td>\n      <td>3</td>\n      <td>4</td>\n    </tr>\n    <tr>\n      <th>14</th>\n      <td>2</td>\n      <td>3</td>\n      <td>2</td>\n      <td>5</td>\n      <td>4</td>\n      <td>4</td>\n      <td>20</td>\n      <td>5</td>\n      <td>1</td>\n      <td>1</td>\n      <td>...</td>\n      <td>3</td>\n      <td>2</td>\n      <td>2</td>\n      <td>1</td>\n      <td>2</td>\n      <td>8</td>\n      <td>12</td>\n      <td>5</td>\n      <td>7</td>\n      <td>8</td>\n    </tr>\n    <tr>\n      <th>15</th>\n      <td>2</td>\n      <td>3</td>\n      <td>4</td>\n      <td>2</td>\n      <td>4</td>\n      <td>5</td>\n      <td>20</td>\n      <td>4</td>\n      <td>1</td>\n      <td>1</td>\n      <td>...</td>\n      <td>2</td>\n      <td>2</td>\n      <td>2</td>\n      <td>1</td>\n      <td>1</td>\n      <td>10</td>\n      <td>10</td>\n      <td>5</td>\n      <td>6</td>\n      <td>9</td>\n    </tr>\n    <tr>\n      <th>16</th>\n      <td>3</td>\n      <td>2</td>\n      <td>1</td>\n      <td>3</td>\n      <td>3</td>\n      <td>3</td>\n      <td>15</td>\n      <td>5</td>\n      <td>1</td>\n      <td>1</td>\n      <td>...</td>\n      <td>3</td>\n      <td>2</td>\n      <td>2</td>\n      <td>1</td>\n      <td>2</td>\n      <td>7</td>\n      <td>8</td>\n      <td>5</td>\n      <td>4</td>\n      <td>6</td>\n    </tr>\n    <tr>\n      <th>17</th>\n      <td>3</td>\n      <td>2</td>\n      <td>2</td>\n      <td>2</td>\n      <td>2</td>\n      <td>3</td>\n      <td>14</td>\n      <td>4</td>\n      <td>1</td>\n      <td>1</td>\n      <td>...</td>\n      <td>2</td>\n      <td>2</td>\n      <td>2</td>\n      <td>2</td>\n      <td>0</td>\n      <td>7</td>\n      <td>7</td>\n      <td>5</td>\n      <td>4</td>\n      <td>5</td>\n    </tr>\n    <tr>\n      <th>18</th>\n      <td>3</td>\n      <td>1</td>\n      <td>4</td>\n      <td>4</td>\n      <td>1</td>\n      <td>1</td>\n      <td>14</td>\n      <td>2</td>\n      <td>1</td>\n      <td>1</td>\n      <td>...</td>\n      <td>1</td>\n      <td>1</td>\n      <td>2</td>\n      <td>0</td>\n      <td>0</td>\n      <td>8</td>\n      <td>6</td>\n      <td>4</td>\n      <td>8</td>\n      <td>2</td>\n    </tr>\n    <tr>\n      <th>19</th>\n      <td>3</td>\n      <td>2</td>\n      <td>1</td>\n      <td>3</td>\n      <td>2</td>\n      <td>4</td>\n      <td>15</td>\n      <td>5</td>\n      <td>1</td>\n      <td>1</td>\n      <td>...</td>\n      <td>2</td>\n      <td>3</td>\n      <td>2</td>\n      <td>2</td>\n      <td>1</td>\n      <td>6</td>\n      <td>9</td>\n      <td>5</td>\n      <td>4</td>\n      <td>6</td>\n    </tr>\n    <tr>\n      <th>20</th>\n      <td>3</td>\n      <td>3</td>\n      <td>5</td>\n      <td>2</td>\n      <td>4</td>\n      <td>5</td>\n      <td>22</td>\n      <td>3</td>\n      <td>1</td>\n      <td>1</td>\n      <td>...</td>\n      <td>1</td>\n      <td>2</td>\n      <td>2</td>\n      <td>0</td>\n      <td>1</td>\n      <td>12</td>\n      <td>10</td>\n      <td>6</td>\n      <td>7</td>\n      <td>9</td>\n    </tr>\n    <tr>\n      <th>21</th>\n      <td>2</td>\n      <td>2</td>\n      <td>1</td>\n      <td>2</td>\n      <td>5</td>\n      <td>4</td>\n      <td>16</td>\n      <td>5</td>\n      <td>1</td>\n      <td>1</td>\n      <td>...</td>\n      <td>3</td>\n      <td>2</td>\n      <td>2</td>\n      <td>2</td>\n      <td>1</td>\n      <td>8</td>\n      <td>8</td>\n      <td>4</td>\n      <td>3</td>\n      <td>9</td>\n    </tr>\n    <tr>\n      <th>22</th>\n      <td>3</td>\n      <td>2</td>\n      <td>2</td>\n      <td>3</td>\n      <td>1</td>\n      <td>3</td>\n      <td>14</td>\n      <td>4</td>\n      <td>1</td>\n      <td>1</td>\n      <td>...</td>\n      <td>2</td>\n      <td>2</td>\n      <td>2</td>\n      <td>2</td>\n      <td>0</td>\n      <td>6</td>\n      <td>8</td>\n      <td>5</td>\n      <td>5</td>\n      <td>4</td>\n    </tr>\n    <tr>\n      <th>23</th>\n      <td>4</td>\n      <td>1</td>\n      <td>1</td>\n      <td>2</td>\n      <td>1</td>\n      <td>1</td>\n      <td>10</td>\n      <td>4</td>\n      <td>1</td>\n      <td>1</td>\n      <td>...</td>\n      <td>2</td>\n      <td>2</td>\n      <td>2</td>\n      <td>2</td>\n      <td>0</td>\n      <td>6</td>\n      <td>4</td>\n      <td>5</td>\n      <td>3</td>\n      <td>2</td>\n    </tr>\n    <tr>\n      <th>24</th>\n      <td>3</td>\n      <td>2</td>\n      <td>1</td>\n      <td>1</td>\n      <td>4</td>\n      <td>5</td>\n      <td>16</td>\n      <td>6</td>\n      <td>1</td>\n      <td>1</td>\n      <td>...</td>\n      <td>3</td>\n      <td>3</td>\n      <td>2</td>\n      <td>2</td>\n      <td>2</td>\n      <td>8</td>\n      <td>8</td>\n      <td>5</td>\n      <td>2</td>\n      <td>9</td>\n    </tr>\n    <tr>\n      <th>25</th>\n      <td>3</td>\n      <td>2</td>\n      <td>4</td>\n      <td>4</td>\n      <td>1</td>\n      <td>3</td>\n      <td>17</td>\n      <td>0</td>\n      <td>0</td>\n      <td>0</td>\n      <td>...</td>\n      <td>0</td>\n      <td>0</td>\n      <td>0</td>\n      <td>0</td>\n      <td>0</td>\n      <td>8</td>\n      <td>9</td>\n      <td>5</td>\n      <td>8</td>\n      <td>4</td>\n    </tr>\n    <tr>\n      <th>26</th>\n      <td>3</td>\n      <td>2</td>\n      <td>2</td>\n      <td>4</td>\n      <td>4</td>\n      <td>4</td>\n      <td>19</td>\n      <td>5</td>\n      <td>1</td>\n      <td>1</td>\n      <td>...</td>\n      <td>2</td>\n      <td>3</td>\n      <td>2</td>\n      <td>2</td>\n      <td>1</td>\n      <td>9</td>\n      <td>10</td>\n      <td>5</td>\n      <td>6</td>\n      <td>8</td>\n    </tr>\n    <tr>\n      <th>27</th>\n      <td>3</td>\n      <td>2</td>\n      <td>2</td>\n      <td>2</td>\n      <td>3</td>\n      <td>4</td>\n      <td>16</td>\n      <td>3</td>\n      <td>1</td>\n      <td>1</td>\n      <td>...</td>\n      <td>2</td>\n      <td>1</td>\n      <td>2</td>\n      <td>0</td>\n      <td>1</td>\n      <td>8</td>\n      <td>8</td>\n      <td>5</td>\n      <td>4</td>\n      <td>7</td>\n    </tr>\n    <tr>\n      <th>29</th>\n      <td>1</td>\n      <td>1</td>\n      <td>3</td>\n      <td>1</td>\n      <td>2</td>\n      <td>2</td>\n      <td>10</td>\n      <td>5</td>\n      <td>1</td>\n      <td>1</td>\n      <td>...</td>\n      <td>2</td>\n      <td>3</td>\n      <td>2</td>\n      <td>1</td>\n      <td>2</td>\n      <td>6</td>\n      <td>4</td>\n      <td>2</td>\n      <td>4</td>\n      <td>4</td>\n    </tr>\n    <tr>\n      <th>30</th>\n      <td>3</td>\n      <td>2</td>\n      <td>1</td>\n      <td>1</td>\n      <td>2</td>\n      <td>1</td>\n      <td>10</td>\n      <td>3</td>\n      <td>0</td>\n      <td>0</td>\n      <td>...</td>\n      <td>2</td>\n      <td>1</td>\n      <td>0</td>\n      <td>2</td>\n      <td>1</td>\n      <td>6</td>\n      <td>4</td>\n      <td>5</td>\n      <td>2</td>\n      <td>3</td>\n    </tr>\n    <tr>\n      <th>31</th>\n      <td>2</td>\n      <td>2</td>\n      <td>3</td>\n      <td>2</td>\n      <td>2</td>\n      <td>3</td>\n      <td>14</td>\n      <td>3</td>\n      <td>0</td>\n      <td>1</td>\n      <td>...</td>\n      <td>1</td>\n      <td>2</td>\n      <td>1</td>\n      <td>2</td>\n      <td>0</td>\n      <td>7</td>\n      <td>7</td>\n      <td>4</td>\n      <td>5</td>\n      <td>5</td>\n    </tr>\n    <tr>\n      <th>32</th>\n      <td>2</td>\n      <td>3</td>\n      <td>3</td>\n      <td>3</td>\n      <td>3</td>\n      <td>4</td>\n      <td>18</td>\n      <td>6</td>\n      <td>1</td>\n      <td>1</td>\n      <td>...</td>\n      <td>3</td>\n      <td>3</td>\n      <td>2</td>\n      <td>2</td>\n      <td>2</td>\n      <td>8</td>\n      <td>10</td>\n      <td>5</td>\n      <td>6</td>\n      <td>7</td>\n    </tr>\n    <tr>\n      <th>33</th>\n      <td>3</td>\n      <td>1</td>\n      <td>1</td>\n      <td>2</td>\n      <td>3</td>\n      <td>2</td>\n      <td>12</td>\n      <td>5</td>\n      <td>1</td>\n      <td>1</td>\n      <td>...</td>\n      <td>3</td>\n      <td>2</td>\n      <td>2</td>\n      <td>2</td>\n      <td>1</td>\n      <td>7</td>\n      <td>5</td>\n      <td>4</td>\n      <td>3</td>\n      <td>5</td>\n    </tr>\n    <tr>\n      <th>34</th>\n      <td>1</td>\n      <td>1</td>\n      <td>4</td>\n      <td>2</td>\n      <td>3</td>\n      <td>2</td>\n      <td>13</td>\n      <td>3</td>\n      <td>1</td>\n      <td>1</td>\n      <td>...</td>\n      <td>1</td>\n      <td>2</td>\n      <td>2</td>\n      <td>1</td>\n      <td>0</td>\n      <td>8</td>\n      <td>5</td>\n      <td>2</td>\n      <td>6</td>\n      <td>5</td>\n    </tr>\n    <tr>\n      <th>35</th>\n      <td>5</td>\n      <td>2</td>\n      <td>2</td>\n      <td>1</td>\n      <td>4</td>\n      <td>4</td>\n      <td>18</td>\n      <td>6</td>\n      <td>1</td>\n      <td>1</td>\n      <td>...</td>\n      <td>3</td>\n      <td>3</td>\n      <td>2</td>\n      <td>2</td>\n      <td>2</td>\n      <td>11</td>\n      <td>7</td>\n      <td>7</td>\n      <td>3</td>\n      <td>8</td>\n    </tr>\n    <tr>\n      <th>37</th>\n      <td>2</td>\n      <td>1</td>\n      <td>2</td>\n      <td>3</td>\n      <td>4</td>\n      <td>4</td>\n      <td>16</td>\n      <td>6</td>\n      <td>1</td>\n      <td>1</td>\n      <td>...</td>\n      <td>3</td>\n      <td>3</td>\n      <td>2</td>\n      <td>2</td>\n      <td>2</td>\n      <td>8</td>\n      <td>8</td>\n      <td>3</td>\n      <td>5</td>\n      <td>8</td>\n    </tr>\n    <tr>\n      <th>38</th>\n      <td>4</td>\n      <td>2</td>\n      <td>1</td>\n      <td>1</td>\n      <td>3</td>\n      <td>4</td>\n      <td>15</td>\n      <td>6</td>\n      <td>1</td>\n      <td>1</td>\n      <td>...</td>\n      <td>3</td>\n      <td>3</td>\n      <td>2</td>\n      <td>2</td>\n      <td>2</td>\n      <td>8</td>\n      <td>7</td>\n      <td>6</td>\n      <td>2</td>\n      <td>7</td>\n    </tr>\n    <tr>\n      <th>39</th>\n      <td>2</td>\n      <td>3</td>\n      <td>3</td>\n      <td>4</td>\n      <td>2</td>\n      <td>3</td>\n      <td>17</td>\n      <td>3</td>\n      <td>0</td>\n      <td>1</td>\n      <td>...</td>\n      <td>1</td>\n      <td>2</td>\n      <td>1</td>\n      <td>2</td>\n      <td>0</td>\n      <td>7</td>\n      <td>10</td>\n      <td>5</td>\n      <td>7</td>\n      <td>5</td>\n    </tr>\n    <tr>\n      <th>40</th>\n      <td>4</td>\n      <td>3</td>\n      <td>3</td>\n      <td>4</td>\n      <td>2</td>\n      <td>4</td>\n      <td>20</td>\n      <td>4</td>\n      <td>1</td>\n      <td>1</td>\n      <td>...</td>\n      <td>2</td>\n      <td>2</td>\n      <td>2</td>\n      <td>2</td>\n      <td>0</td>\n      <td>9</td>\n      <td>11</td>\n      <td>7</td>\n      <td>7</td>\n      <td>6</td>\n    </tr>\n    <tr>\n      <th>41</th>\n      <td>2</td>\n      <td>2</td>\n      <td>2</td>\n      <td>2</td>\n      <td>3</td>\n      <td>3</td>\n      <td>14</td>\n      <td>5</td>\n      <td>1</td>\n      <td>1</td>\n      <td>...</td>\n      <td>3</td>\n      <td>2</td>\n      <td>2</td>\n      <td>1</td>\n      <td>2</td>\n      <td>7</td>\n      <td>7</td>\n      <td>4</td>\n      <td>4</td>\n      <td>6</td>\n    </tr>\n    <tr>\n      <th>42</th>\n      <td>2</td>\n      <td>1</td>\n      <td>2</td>\n      <td>1</td>\n      <td>2</td>\n      <td>2</td>\n      <td>10</td>\n      <td>5</td>\n      <td>1</td>\n      <td>1</td>\n      <td>...</td>\n      <td>2</td>\n      <td>3</td>\n      <td>2</td>\n      <td>2</td>\n      <td>1</td>\n      <td>6</td>\n      <td>4</td>\n      <td>3</td>\n      <td>3</td>\n      <td>4</td>\n    </tr>\n    <tr>\n      <th>43</th>\n      <td>1</td>\n      <td>2</td>\n      <td>2</td>\n      <td>2</td>\n      <td>3</td>\n      <td>3</td>\n      <td>13</td>\n      <td>5</td>\n      <td>1</td>\n      <td>1</td>\n      <td>...</td>\n      <td>3</td>\n      <td>2</td>\n      <td>2</td>\n      <td>2</td>\n      <td>1</td>\n      <td>6</td>\n      <td>7</td>\n      <td>3</td>\n      <td>4</td>\n      <td>6</td>\n    </tr>\n    <tr>\n      <th>44</th>\n      <td>1</td>\n      <td>1</td>\n      <td>3</td>\n      <td>1</td>\n      <td>2</td>\n      <td>3</td>\n      <td>11</td>\n      <td>3</td>\n      <td>1</td>\n      <td>1</td>\n      <td>...</td>\n      <td>1</td>\n      <td>2</td>\n      <td>2</td>\n      <td>1</td>\n      <td>0</td>\n      <td>6</td>\n      <td>5</td>\n      <td>2</td>\n      <td>4</td>\n      <td>5</td>\n    </tr>\n    <tr>\n      <th>45</th>\n      <td>2</td>\n      <td>1</td>\n      <td>2</td>\n      <td>2</td>\n      <td>2</td>\n      <td>2</td>\n      <td>11</td>\n      <td>3</td>\n      <td>1</td>\n      <td>1</td>\n      <td>...</td>\n      <td>2</td>\n      <td>1</td>\n      <td>2</td>\n      <td>0</td>\n      <td>1</td>\n      <td>6</td>\n      <td>5</td>\n      <td>3</td>\n      <td>4</td>\n      <td>4</td>\n    </tr>\n    <tr>\n      <th>46</th>\n      <td>1</td>\n      <td>3</td>\n      <td>2</td>\n      <td>2</td>\n      <td>2</td>\n      <td>3</td>\n      <td>13</td>\n      <td>4</td>\n      <td>0</td>\n      <td>1</td>\n      <td>...</td>\n      <td>2</td>\n      <td>2</td>\n      <td>1</td>\n      <td>2</td>\n      <td>1</td>\n      <td>5</td>\n      <td>8</td>\n      <td>4</td>\n      <td>4</td>\n      <td>5</td>\n    </tr>\n  </tbody>\n</table>\n<p>40 rows × 24 columns</p>\n</div>"
     },
     "execution_count": 2,
     "metadata": {},
     "output_type": "execute_result"
    }
   ],
   "source": [
    "df_answers = pd.read_csv('../postprocess_data/sets/correctness.csv', index_col='ID')\n",
    "df_answers"
   ],
   "metadata": {
    "collapsed": false,
    "ExecuteTime": {
     "end_time": "2023-10-25T19:29:33.223456Z",
     "start_time": "2023-10-25T19:29:33.187412Z"
    }
   },
   "id": "2a8e4326ea92a7f4"
  },
  {
   "cell_type": "code",
   "execution_count": 4,
   "outputs": [],
   "source": [
    "# Grafiki A - wszystki elementy treści oddzielnie: mapa, polecenie \n",
    "df_1a = pd.read_csv('/Users/martasolarz/Studies/Thesis/data/metrics/AOI_visit/1a.csv', index_col='ID')\n",
    "\n",
    "df_2a = pd.read_csv('/Users/martasolarz/Studies/Thesis/data/metrics/AOI_visit/2a.csv',\n",
    "index_col='ID')\n",
    "\n",
    "df_3a = pd.read_csv('/Users/martasolarz/Studies/Thesis/data/metrics/AOI_visit/3a.csv', index_col='ID')\n",
    "\n",
    "# Grafiki B - suma elementów treści (bez polecenia)\n",
    "df_1b_aggr = pd.read_csv('/Users/martasolarz/Studies/Thesis/data/metrics/AOI_visit/1b-aggregate.csv', index_col='ID')\n",
    "\n",
    "df_2b_aggr = pd.read_csv('/Users/martasolarz/Studies/Thesis/data/metrics/AOI_visit/2b-aggregate.csv', index_col='ID')\n",
    "\n",
    "df_3b_aggr = pd.read_csv('/Users/martasolarz/Studies/Thesis/data/metrics/AOI_visit/3b-aggregate.csv', index_col='ID')\n",
    "\n",
    "# Grafiki B - wszystki elementy treści oddzielnie: mapa, wykres, tabela, tekst, polecenie \n",
    "df_1b = pd.read_csv('/Users/martasolarz/Studies/Thesis/data/metrics/AOI_visit/1b.csv', index_col='ID')\n",
    "\n",
    "df_2b = pd.read_csv('/Users/martasolarz/Studies/Thesis/data/metrics/AOI_visit/2b.csv', index_col='ID')\n",
    "\n",
    "df_3b = pd.read_csv('/Users/martasolarz/Studies/Thesis/data/metrics/AOI_visit/3b.csv', index_col='ID')"
   ],
   "metadata": {
    "collapsed": false,
    "ExecuteTime": {
     "end_time": "2023-10-25T19:30:22.782551Z",
     "start_time": "2023-10-25T19:30:22.745128Z"
    }
   },
   "id": "970813337b9ca12f"
  },
  {
   "cell_type": "code",
   "execution_count": 8,
   "outputs": [],
   "source": [
    "df_a = pd.concat([df_1a, df_2a, df_3a], axis=1) # wszystkie elementy oddzielnie w jednym df - A\n",
    "df_b = pd.concat([df_1b, df_2b, df_3b], axis=1) # wszystkie elementy oddzielnie w jednym df - B\n",
    "df_1 = pd.concat([df_1a, df_1b], axis=1) # wszystkie elementy oddzielnie w jednym df - 1\n",
    "df_2 = pd.concat([df_2a, df_2b], axis=1) # wszystkie elementy oddzielnie w jednym df - 2\n",
    "df_3 = pd.concat([df_3a, df_3b], axis=1) # wszystkie elementy oddzielnie w jednym df - 3\n",
    "df_all = pd.concat([df_a, df_b], axis=1) # wszystkie elementy oddzielnie w jednym df - A i B\n",
    "\n",
    "df_1aaggr = df_1a.filter(regex='^(?!.*_com$).*$') # suma elementów treści (bez polecenia) - 1a\n",
    "df_1aaggr.columns = [col.replace('_map', '') for col in df_1aaggr.columns]\n",
    "df_2aaggr = df_2a.filter(regex='^(?!.*_com$).*$') # suma elementów treści (bez polecenia) - 2a\n",
    "df_2aaggr.columns = [col.replace('_map', '') for col in df_2aaggr.columns]\n",
    "df_3aaggr = df_3a.filter(regex='^(?!.*_com$).*$') # suma elementów treści (bez polecenia) - 3a\n",
    "df_3aaggr.columns = [col.replace('_map', '') for col in df_3aaggr.columns]\n",
    "df_a_aggr = pd.concat([df_1aaggr, df_2aaggr, df_3aaggr], axis=1) # suma elementów treści (bez polecenia) w jednym df: A\n",
    "\n",
    "df_1baggr = df_1b_aggr.add_suffix('_1b') # suma elementów treści (bez polecenia) - 1b\n",
    "df_2baggr = df_2b_aggr.add_suffix('_2b') # suma elementów treści (bez polecenia) - 2b\n",
    "df_3baggr = df_3b_aggr.add_suffix('_3b') # suma elementów treści (bez polecenia) - 3b\n",
    "df_b_aggr = pd.concat([df_1baggr, df_2baggr, df_3baggr], axis=1) # suma elementów treści (bez polecenia) w jednym df: B"
   ],
   "metadata": {
    "collapsed": false,
    "ExecuteTime": {
     "end_time": "2023-10-25T19:31:45.645205Z",
     "start_time": "2023-10-25T19:31:45.639178Z"
    }
   },
   "id": "c4f0f9ec3eaa2fa3"
  },
  {
   "cell_type": "code",
   "execution_count": 9,
   "outputs": [],
   "source": [
    "# zsumowane wszystkie elementy (bez polecenia): wszystkie grafiki A, B razem\n",
    "df_all_aggr = pd.concat([df_a_aggr, df_b_aggr], axis=1)"
   ],
   "metadata": {
    "collapsed": false,
    "ExecuteTime": {
     "end_time": "2023-10-25T19:31:47.762348Z",
     "start_time": "2023-10-25T19:31:47.753318Z"
    }
   },
   "id": "1763603ea75cf8bc"
  },
  {
   "cell_type": "code",
   "execution_count": 10,
   "outputs": [],
   "source": [
    "# zsumowane wszystkie elementy (z poleceniem): 1A\n",
    "total = df_1a.filter(regex='Total').sum(axis=1)\n",
    "avg = df_1a.filter(regex='Avg').sum(axis=1)\n",
    "num = df_1a.filter(regex='Num').sum(axis=1)\n",
    "df_1A_aggr = pd.DataFrame(data={'Total':total, 'Avg':avg, 'Num':num}) \n",
    "\n",
    "# zsumowane wszystkie elementy (z poleceniem): 2A\n",
    "total = df_2a.filter(regex='Total').sum(axis=1)\n",
    "avg = df_2a.filter(regex='Avg').sum(axis=1)\n",
    "num = df_2a.filter(regex='Num').sum(axis=1)\n",
    "df_2A_aggr = pd.DataFrame(data={'Total':total, 'Avg':avg, 'Num':num})\n",
    "\n",
    "# zsumowane wszystkie elementy (z poleceniem): 3A\n",
    "total = df_3a.filter(regex='Total').sum(axis=1)\n",
    "avg = df_3a.filter(regex='Avg').sum(axis=1)\n",
    "num = df_3a.filter(regex='Num').sum(axis=1)\n",
    "df_3A_aggr = pd.DataFrame(data={'Total':total, 'Avg':avg, 'Num':num})\n",
    "\n",
    "df_1A_aggr = df_1A_aggr.add_suffix('_1a')\n",
    "df_2A_aggr = df_2A_aggr.add_suffix('_2a')\n",
    "df_3A_aggr = df_3A_aggr.add_suffix('_3a')\n",
    "\n",
    "# zsumowane wszystkie elementy (z poleceniem): 1A, 2A, 3A razem\n",
    "df_A_aggr = pd.concat([df_1A_aggr, df_2A_aggr, df_3A_aggr], axis=1)"
   ],
   "metadata": {
    "collapsed": false,
    "ExecuteTime": {
     "end_time": "2023-10-25T19:32:48.430727Z",
     "start_time": "2023-10-25T19:32:48.423846Z"
    }
   },
   "id": "9a8cdc65fd064320"
  },
  {
   "cell_type": "code",
   "execution_count": 11,
   "outputs": [],
   "source": [
    "# zsumowane wszystkie elementy (z poleceniem): 1B\n",
    "total = df_1b.filter(regex='Total').sum(axis=1)\n",
    "avg = df_1b.filter(regex='Avg').sum(axis=1)\n",
    "num = df_1b.filter(regex='Num').sum(axis=1)\n",
    "df_1B_aggr = pd.DataFrame(data={'Total':total, 'Avg':avg, 'Num':num})\n",
    "\n",
    "# zsumowane wszystkie elementy (z poleceniem): 2B\n",
    "total = df_2b.filter(regex='Total').sum(axis=1)\n",
    "avg = df_2b.filter(regex='Avg').sum(axis=1)\n",
    "num = df_2b.filter(regex='Num').sum(axis=1)\n",
    "df_2B_aggr = pd.DataFrame(data={'Total':total, 'Avg':avg, 'Num':num})\n",
    "\n",
    "# zsumowane wszystkie elementy (z poleceniem): 3B\n",
    "total = df_3b.filter(regex='Total').sum(axis=1)\n",
    "avg = df_3b.filter(regex='Avg').sum(axis=1)\n",
    "num = df_3b.filter(regex='Num').sum(axis=1)\n",
    "df_3B_aggr = pd.DataFrame(data={'Total':total, 'Avg':avg, 'Num':num})\n",
    "\n",
    "df_1B_aggr = df_1B_aggr.add_suffix('_1b')\n",
    "df_2B_aggr = df_2B_aggr.add_suffix('_2b')\n",
    "df_3B_aggr = df_3B_aggr.add_suffix('_3b')\n",
    "\n",
    "# zsumowane wszystkie elementy (z poleceniem): 1B, 2B, 3B razem\n",
    "df_B_aggr = pd.concat([df_1B_aggr, df_2B_aggr, df_3B_aggr], axis=1) "
   ],
   "metadata": {
    "collapsed": false,
    "ExecuteTime": {
     "end_time": "2023-10-25T19:33:34.394346Z",
     "start_time": "2023-10-25T19:33:34.385842Z"
    }
   },
   "id": "76f94ed98e47fe5c"
  },
  {
   "cell_type": "code",
   "execution_count": 12,
   "outputs": [],
   "source": [
    "# zsumowane wszystkie elementy (z poleceniem): wszystkie grafiki A, B razem\n",
    "df_ALL_aggr = pd.concat([df_A_aggr, df_B_aggr], axis=1)"
   ],
   "metadata": {
    "collapsed": false,
    "ExecuteTime": {
     "end_time": "2023-10-25T19:33:36.173792Z",
     "start_time": "2023-10-25T19:33:36.169559Z"
    }
   },
   "id": "600b2bf39797d5dc"
  },
  {
   "cell_type": "code",
   "execution_count": 13,
   "outputs": [],
   "source": [
    "# zsumowane wszystkie elementy (z poleceniem): grafiki 1\n",
    "total = df_ALL_aggr.filter(regex='Total_1').sum(axis=1)\n",
    "avg = df_ALL_aggr.filter(regex='Avg_1').sum(axis=1)\n",
    "num = df_ALL_aggr.filter(regex='Num_1').sum(axis=1)\n",
    "df_1_AGGR = pd.DataFrame(data={'Total':total, 'Avg':avg, 'Num':num})\n",
    "\n",
    "# zsumowane wszystkie elementy (z poleceniem): grafiki 2\n",
    "total = df_ALL_aggr.filter(regex='Total_2').sum(axis=1)\n",
    "avg = df_ALL_aggr.filter(regex='Avg_2').sum(axis=1)\n",
    "num = df_ALL_aggr.filter(regex='Num_2').sum(axis=1)\n",
    "df_2_AGGR = pd.DataFrame(data={'Total':total, 'Avg':avg, 'Num':num})\n",
    "\n",
    "# zsumowane wszystkie elementy (z poleceniem): grafiki 3\n",
    "total = df_ALL_aggr.filter(regex='Total_3').sum(axis=1)\n",
    "avg = df_ALL_aggr.filter(regex='Avg_3').sum(axis=1)\n",
    "num = df_ALL_aggr.filter(regex='Num_3').sum(axis=1)\n",
    "df_3_AGGR = pd.DataFrame(data={'Total':total, 'Avg':avg, 'Num':num})"
   ],
   "metadata": {
    "collapsed": false,
    "ExecuteTime": {
     "end_time": "2023-10-25T19:33:59.493323Z",
     "start_time": "2023-10-25T19:33:59.475869Z"
    }
   },
   "id": "792709ab30db1fb4"
  },
  {
   "cell_type": "code",
   "execution_count": 14,
   "outputs": [],
   "source": [
    "# zsumowane wszystkie elementy (bez polecenia): grafiki 1\n",
    "total = df_all_aggr.filter(regex='Total_1').sum(axis=1)\n",
    "avg = df_all_aggr.filter(regex='Avg_1').sum(axis=1)\n",
    "num = df_all_aggr.filter(regex='Num_1').sum(axis=1)\n",
    "df_1_aggr = pd.DataFrame(data={'Total':total, 'Avg':avg, 'Num':num})\n",
    "\n",
    "# zsumowane wszystkie elementy (bez poleceniem): grafiki 2\n",
    "total = df_all_aggr.filter(regex='Total_2').sum(axis=1)\n",
    "avg = df_all_aggr.filter(regex='Avg_2').sum(axis=1)\n",
    "num = df_all_aggr.filter(regex='Num_2').sum(axis=1)\n",
    "df_2_aggr = pd.DataFrame(data={'Total':total, 'Avg':avg, 'Num':num})\n",
    "\n",
    "# zsumowane wszystkie elementy (bez poleceniem): grafiki 3\n",
    "total = df_all_aggr.filter(regex='Total_3').sum(axis=1)\n",
    "avg = df_all_aggr.filter(regex='Avg_3').sum(axis=1)\n",
    "num = df_all_aggr.filter(regex='Num_3').sum(axis=1)\n",
    "df_3_aggr = pd.DataFrame(data={'Total':total, 'Avg':avg, 'Num':num})"
   ],
   "metadata": {
    "collapsed": false,
    "ExecuteTime": {
     "end_time": "2023-10-25T19:34:19.202863Z",
     "start_time": "2023-10-25T19:34:19.190551Z"
    }
   },
   "id": "633643a9883ec33d"
  },
  {
   "cell_type": "code",
   "execution_count": 15,
   "outputs": [],
   "source": [
    "# SET: wszystkie elementy treści osobno: A - map, com; B - map, plt, tab, text, com; corr; trud\n",
    "corr = df_answers.filter(regex='.+_corr$')\n",
    "trud = df_answers.filter(regex='.+_trud$')\n",
    "df_all[corr.columns] = corr\n",
    "df_all[trud.columns] = trud;\n",
    "\n",
    "regex = re.compile(r'^Last_AOI_[^_]+_(?!map)')\n",
    "columns_to_drop = [col for col in df_all.columns if regex.match(col)]\n",
    "df_all.drop(columns=columns_to_drop, inplace=True)\n",
    "df_all.columns = [col.replace('_map', '') if col.startswith('Last_AOI_') else col for col in df_all.columns];"
   ],
   "metadata": {
    "collapsed": false,
    "ExecuteTime": {
     "end_time": "2023-10-25T19:34:38.999328Z",
     "start_time": "2023-10-25T19:34:38.992372Z"
    }
   },
   "id": "4059f5d2c960ef11"
  },
  {
   "cell_type": "code",
   "execution_count": 16,
   "outputs": [],
   "source": [
    "# SET: wszystkie elementy treści zsumowane (z poleceniem oraz bez polecenia): dla każdego zadania\n",
    "corr = df_answers.filter(regex='.+_corr$')\n",
    "trud = df_answers.filter(regex='.+_trud$')\n",
    "\n",
    "df_all_with_com = pd.concat([df_answers[corr.columns], df_answers[trud.columns], df_A_aggr, df_B_aggr], axis=1)\n",
    "\n",
    "df_all_without_com = pd.concat([df_answers[corr.columns], df_answers[trud.columns], df_a_aggr, df_b_aggr], axis=1)"
   ],
   "metadata": {
    "collapsed": false,
    "ExecuteTime": {
     "end_time": "2023-10-25T19:34:47.075425Z",
     "start_time": "2023-10-25T19:34:47.063667Z"
    }
   },
   "id": "73a0fea80ae4bb9b"
  },
  {
   "cell_type": "code",
   "execution_count": 17,
   "outputs": [],
   "source": [
    "def create_sum_sets(dfWithCom, dfWithoutCom, dfAllElements, corr, trud):\n",
    "    total = dfWithCom.filter(regex='Total').sum(axis=1)\n",
    "    avg = dfWithCom.filter(regex='Avg').sum(axis=1)\n",
    "    num = dfWithCom.filter(regex='Num').sum(axis=1)\n",
    "    df_sumWithCom = pd.DataFrame(data={'Corr': df_answers[corr], 'Trud': df_answers[trud], 'Total':total, 'Avg':avg, 'Num':num})\n",
    "\n",
    "    total = dfWithoutCom.filter(regex='Total').sum(axis=1)\n",
    "    avg = dfWithoutCom.filter(regex='Avg').sum(axis=1)\n",
    "    num = dfWithoutCom.filter(regex='Num').sum(axis=1)\n",
    "    df_sumWithoutCom = pd.DataFrame(data={'Corr': df_answers[corr], 'Trud': df_answers[trud], 'Total':total, 'Avg':avg, 'Num':num})\n",
    "\n",
    "    total = dfAllElements.filter(regex='^Total_.*_com$').sum(axis=1)\n",
    "    avg = dfAllElements.filter(regex='^Avg_.*_com$').sum(axis=1)\n",
    "    num = dfAllElements.filter(regex='^Num_.*_com$').sum(axis=1)\n",
    "    df_sumOnlyCom = pd.DataFrame(data={'Corr': df_answers[corr], 'Trud': df_answers[trud], 'Total':total, 'Avg':avg, 'Num':num})\n",
    "    \n",
    "    return df_sumWithCom, df_sumWithoutCom, df_sumOnlyCom"
   ],
   "metadata": {
    "collapsed": false,
    "ExecuteTime": {
     "end_time": "2023-10-25T19:35:34.337699Z",
     "start_time": "2023-10-25T19:35:34.322025Z"
    }
   },
   "id": "58be8383273bf768"
  },
  {
   "cell_type": "code",
   "execution_count": 18,
   "outputs": [],
   "source": [
    "# SETY: \n",
    "# suma wszystkich elementów\n",
    "df_sumAllWithCom, df_sumAllWithoutCom, df_sumAllOnlyCom = create_sum_sets(df_all_with_com, df_all_without_com, df_all, 'Corr_all', 'Trud_all')\n",
    "\n",
    "# suma A\n",
    "df_sumAWithCom, df_sumAWithoutCom, df_sumAOnlyCom = create_sum_sets(df_A_aggr, df_a_aggr, df_a, 'SumCorr_a', 'SumTrud_a')\n",
    "\n",
    "# suma B\n",
    "df_sumBWithCom, df_sumBWithoutCom, df_sumBOnlyCom = create_sum_sets(df_B_aggr, df_b_aggr, df_b, 'SumCorr_b', 'SumTrud_b')\n",
    "\n",
    "# suma 1\n",
    "df_sum1WithCom, df_sum1WithoutCom, df_sum1OnlyCom = create_sum_sets(df_1_AGGR, df_1_aggr, df_1, 'SumCorr_1', 'SumTrud_1')\n",
    "\n",
    "# suma 2\n",
    "df_sum2WithCom, df_sum2WithoutCom, df_sum2OnlyCom = create_sum_sets(df_2_AGGR, df_2_aggr, df_2, 'SumCorr_2', 'SumTrud_2')\n",
    "\n",
    "# suma 3\n",
    "df_sum3WithCom, df_sum3WithoutCom, df_sum3OnlyCom = create_sum_sets(df_3_AGGR, df_3_aggr, df_3, 'SumCorr_3', 'SumTrud_3')"
   ],
   "metadata": {
    "collapsed": false,
    "ExecuteTime": {
     "end_time": "2023-10-25T19:35:40.211899Z",
     "start_time": "2023-10-25T19:35:40.181052Z"
    }
   },
   "id": "a84bfe36f54bb9b"
  },
  {
   "cell_type": "code",
   "execution_count": 19,
   "outputs": [],
   "source": [
    "def create_collection_sets(dfWithCom, dfWithoutCom, dfAllElements, corr_regex, trud_regex):\n",
    "    corr = prepare_row_df(df_all_with_com.filter(regex=corr_regex))\n",
    "    trud = prepare_row_df(df_all_with_com.filter(regex=trud_regex))\n",
    "\n",
    "    total = prepare_row_df(dfWithCom.filter(regex='Total'))\n",
    "    avg = prepare_row_df(dfWithCom.filter(regex='Avg'))\n",
    "    num = prepare_row_df(dfWithCom.filter(regex='Num'))\n",
    "    df_collWithCom = pd.DataFrame(data={'Corr': corr, 'Trud': trud, 'Total':total, 'Avg':avg, 'Num':num})\n",
    "\n",
    "    total = prepare_row_df(dfWithoutCom.filter(regex='Total'))\n",
    "    avg = prepare_row_df(dfWithoutCom.filter(regex='Avg'))\n",
    "    num = prepare_row_df(dfWithoutCom.filter(regex='Num'))\n",
    "    df_collWithoutCom = pd.DataFrame(data={'Corr': corr, 'Trud': trud, 'Total':total, 'Avg':avg, 'Num':num})\n",
    "\n",
    "    total = prepare_row_df(dfAllElements.filter(regex='^Total_.*_com$'))\n",
    "    avg = prepare_row_df(dfAllElements.filter(regex='^Avg_.*_com$'))\n",
    "    num = prepare_row_df(dfAllElements.filter(regex='^Num_.*_com$'))\n",
    "    df_collOnlyCom = pd.DataFrame(data={'Corr': corr, 'Trud': trud, 'Total':total, 'Avg':avg, 'Num':num})\n",
    "    \n",
    "    return df_collWithCom, df_collWithoutCom, df_collOnlyCom"
   ],
   "metadata": {
    "collapsed": false,
    "ExecuteTime": {
     "end_time": "2023-10-25T19:36:14.422138Z",
     "start_time": "2023-10-25T19:36:14.407560Z"
    }
   },
   "id": "161fd9626ede7784"
  },
  {
   "cell_type": "code",
   "execution_count": 20,
   "outputs": [
    {
     "data": {
      "text/plain": "    Total_1a_map  Avg_1a_map  Min_1a_map  Max_1a_map  Num_1a_map  TTV_1a_map  \\\nID                                                                             \n46         23440     11720.0      5050.0     18390.0           2      6905.0   \n37         47781      6826.0       225.0     33206.0           7         0.0   \n23         76144     25381.0      4650.0     65836.0           3      5240.0   \n40         55025     11005.0       238.0     48954.0           5         0.0   \n19         38114      9529.0       242.0     31506.0           4         0.0   \n31         31849      5308.0        32.0     24781.0           6         0.0   \n38         51904     25952.0       292.0     51612.0           2         0.0   \n35        109954     21991.0       158.0     65745.0           5       243.0   \n42         55774     11155.0        67.0     29540.0           5        96.0   \n14         36720      9180.0        92.0     34447.0           4       637.0   \n3          54941      6105.0       333.0     21698.0           9      1432.0   \n33         48271     16090.0       158.0     42747.0           3      4230.0   \n39         27600      5520.0       300.0     19257.0           5       282.0   \n16         28165      9388.0       367.0     27406.0           3         0.0   \n43         23590      3370.0       142.0     11632.0           7       209.0   \n15         61789     30894.0       471.0     61318.0           2         0.0   \n5          61045     12209.0       108.0     59029.0           5       111.0   \n27         66617     11103.0        16.0     38693.0           6         0.0   \n12         43327      8665.0       142.0     41562.0           5         0.0   \n4          41630     13877.0       275.0     40180.0           3      2896.0   \n41         40001     10000.0        29.0     31064.0           4        72.0   \n7          49848     12462.0       136.0     48879.0           4         0.0   \n29         61947     15487.0       267.0     60860.0           4         0.0   \n30         40230     13410.0        83.0     39713.0           3      5262.0   \n24         38230     19115.0      2000.0     36230.0           2      2681.0   \n32         28614     14307.0       158.0     28456.0           2       118.0   \n20         33748     11249.0       259.0     32739.0           3         0.0   \n1          25400      6350.0        83.0     24598.0           4       165.0   \n25         56573      9429.0       322.0     24131.0           6         0.0   \n21         48211     24106.0       432.0     47779.0           2      4561.0   \n17         24990      3570.0       200.0     11849.0           7      2916.0   \n11         49806     12452.0       475.0     44388.0           4         0.0   \n45         33747      6749.0       467.0     30606.0           5      3132.0   \n34         46079     15360.0       233.0     45388.0           3       126.0   \n13         18613      3723.0       198.0     16265.0           5         0.0   \n44         47498     11874.0       217.0     22692.0           4         0.0   \n18         28999     14499.0       100.0     28899.0           2       320.0   \n22         52442     10488.0       233.0     31843.0           5       205.0   \n26         43038     14346.0       283.0     40463.0           3      2853.0   \n2          54637     27319.0     16240.0     38397.0           2      9915.0   \n\n    DTTV_1a_map  Total_1a_com  Avg_1a_com  Min_1a_com  Max_1a_com  Num_1a_com  \\\nID                                                                              \n46       5050.0          3166       633.0        67.0      1816.0           5   \n37        225.0             0         NaN         NaN         NaN           0   \n23      65836.0          4133      1378.0        67.0      3849.0           3   \n40        238.0           942       235.0        67.0       650.0           4   \n19        242.0          2858       953.0       292.0      1925.0           3   \n31        362.0          8883      2221.0       183.0      4475.0           4   \n38        292.0           952       476.0       393.0       558.0           2   \n35        350.0          3908       977.0       108.0      2200.0           4   \n42         67.0          4175       696.0       142.0      1175.0           6   \n14         92.0          1658       553.0       217.0      1142.0           3   \n3         542.0           867       433.0       200.0       667.0           2   \n33        158.0          4167      1389.0        75.0      3666.0           3   \n39        300.0         10566      2641.0        75.0      7083.0           4   \n16        392.0          2016      1008.0       817.0      1200.0           2   \n43        467.0             0         NaN         NaN         NaN           0   \n15        471.0          5150      5150.0      5150.0      5150.0           1   \n5         108.0          5782      1446.0       191.0      3566.0           4   \n27        411.0          2841       710.0        83.0      1575.0           4   \n12        365.0           100       100.0       100.0       100.0           1   \n4         275.0          2733       547.0       117.0      1150.0           5   \n41        133.0          6258      3129.0       142.0      6116.0           2   \n7         136.0          2667       667.0       425.0       942.0           4   \n29        401.0          5941      2971.0       300.0      5641.0           2   \n30      39713.0           908       227.0       133.0       450.0           4   \n24       2000.0          3180       795.0        75.0      1592.0           4   \n32        158.0          1208       604.0       558.0       650.0           2   \n20        259.0          3425      1712.0       500.0      2925.0           2   \n1          83.0           908       454.0       242.0       667.0           2   \n25        572.0         13341      3335.0       675.0      5133.0           4   \n21      47779.0             0         NaN         NaN         NaN           0   \n17       1375.0           800       267.0       108.0       358.0           3   \n11        475.0          1225       306.0        92.0       642.0           4   \n45        467.0          2863       477.0       100.0      1854.0           6   \n34        233.0          4258      1419.0       242.0      3116.0           3   \n13        198.0          6666       952.0        67.0      3591.0           7   \n44        217.0          3800       633.0        67.0      2333.0           6   \n18        100.0          2158      2158.0      2158.0      2158.0           1   \n22        508.0         11991      2398.0       100.0     10957.0           5   \n26      40463.0           181       181.0       181.0       181.0           1   \n2       16240.0          9782      3261.0       567.0      8174.0           3   \n\n    TTV_1a_com  DTTV_1a_com  \nID                           \n46      2630.0       1816.0  \n37         NaN          NaN  \n23       824.0       3849.0  \n40      1104.0        100.0  \n19       350.0       1925.0  \n31       411.0       4475.0  \n38      2083.0        558.0  \n35       876.0       2200.0  \n42       196.0       1175.0  \n14       212.0        300.0  \n3        282.0        200.0  \n33       422.0       3666.0  \n39      1024.0       7083.0  \n16       584.0       1200.0  \n43         NaN          NaN  \n15       512.0       5150.0  \n5        253.0       3566.0  \n27       461.0         83.0  \n12      1265.0        100.0  \n4        205.0        675.0  \n41       256.0       6116.0  \n7        352.0        425.0  \n29       634.0       5641.0  \n30       346.0        133.0  \n24       210.0        283.0  \n32       326.0        650.0  \n20      1551.0        500.0  \n1        498.0        242.0  \n25       781.0       5133.0  \n21         NaN          NaN  \n17        83.0        108.0  \n11      1859.0        642.0  \n45       769.0        100.0  \n34       451.0       3116.0  \n13       456.0         67.0  \n44       925.0        208.0  \n18      1466.0       2158.0  \n22       814.0      10957.0  \n26     47583.0        181.0  \n2        182.0       1042.0  ",
      "text/html": "<div>\n<style scoped>\n    .dataframe tbody tr th:only-of-type {\n        vertical-align: middle;\n    }\n\n    .dataframe tbody tr th {\n        vertical-align: top;\n    }\n\n    .dataframe thead th {\n        text-align: right;\n    }\n</style>\n<table border=\"1\" class=\"dataframe\">\n  <thead>\n    <tr style=\"text-align: right;\">\n      <th></th>\n      <th>Total_1a_map</th>\n      <th>Avg_1a_map</th>\n      <th>Min_1a_map</th>\n      <th>Max_1a_map</th>\n      <th>Num_1a_map</th>\n      <th>TTV_1a_map</th>\n      <th>DTTV_1a_map</th>\n      <th>Total_1a_com</th>\n      <th>Avg_1a_com</th>\n      <th>Min_1a_com</th>\n      <th>Max_1a_com</th>\n      <th>Num_1a_com</th>\n      <th>TTV_1a_com</th>\n      <th>DTTV_1a_com</th>\n    </tr>\n    <tr>\n      <th>ID</th>\n      <th></th>\n      <th></th>\n      <th></th>\n      <th></th>\n      <th></th>\n      <th></th>\n      <th></th>\n      <th></th>\n      <th></th>\n      <th></th>\n      <th></th>\n      <th></th>\n      <th></th>\n      <th></th>\n    </tr>\n  </thead>\n  <tbody>\n    <tr>\n      <th>46</th>\n      <td>23440</td>\n      <td>11720.0</td>\n      <td>5050.0</td>\n      <td>18390.0</td>\n      <td>2</td>\n      <td>6905.0</td>\n      <td>5050.0</td>\n      <td>3166</td>\n      <td>633.0</td>\n      <td>67.0</td>\n      <td>1816.0</td>\n      <td>5</td>\n      <td>2630.0</td>\n      <td>1816.0</td>\n    </tr>\n    <tr>\n      <th>37</th>\n      <td>47781</td>\n      <td>6826.0</td>\n      <td>225.0</td>\n      <td>33206.0</td>\n      <td>7</td>\n      <td>0.0</td>\n      <td>225.0</td>\n      <td>0</td>\n      <td>NaN</td>\n      <td>NaN</td>\n      <td>NaN</td>\n      <td>0</td>\n      <td>NaN</td>\n      <td>NaN</td>\n    </tr>\n    <tr>\n      <th>23</th>\n      <td>76144</td>\n      <td>25381.0</td>\n      <td>4650.0</td>\n      <td>65836.0</td>\n      <td>3</td>\n      <td>5240.0</td>\n      <td>65836.0</td>\n      <td>4133</td>\n      <td>1378.0</td>\n      <td>67.0</td>\n      <td>3849.0</td>\n      <td>3</td>\n      <td>824.0</td>\n      <td>3849.0</td>\n    </tr>\n    <tr>\n      <th>40</th>\n      <td>55025</td>\n      <td>11005.0</td>\n      <td>238.0</td>\n      <td>48954.0</td>\n      <td>5</td>\n      <td>0.0</td>\n      <td>238.0</td>\n      <td>942</td>\n      <td>235.0</td>\n      <td>67.0</td>\n      <td>650.0</td>\n      <td>4</td>\n      <td>1104.0</td>\n      <td>100.0</td>\n    </tr>\n    <tr>\n      <th>19</th>\n      <td>38114</td>\n      <td>9529.0</td>\n      <td>242.0</td>\n      <td>31506.0</td>\n      <td>4</td>\n      <td>0.0</td>\n      <td>242.0</td>\n      <td>2858</td>\n      <td>953.0</td>\n      <td>292.0</td>\n      <td>1925.0</td>\n      <td>3</td>\n      <td>350.0</td>\n      <td>1925.0</td>\n    </tr>\n    <tr>\n      <th>31</th>\n      <td>31849</td>\n      <td>5308.0</td>\n      <td>32.0</td>\n      <td>24781.0</td>\n      <td>6</td>\n      <td>0.0</td>\n      <td>362.0</td>\n      <td>8883</td>\n      <td>2221.0</td>\n      <td>183.0</td>\n      <td>4475.0</td>\n      <td>4</td>\n      <td>411.0</td>\n      <td>4475.0</td>\n    </tr>\n    <tr>\n      <th>38</th>\n      <td>51904</td>\n      <td>25952.0</td>\n      <td>292.0</td>\n      <td>51612.0</td>\n      <td>2</td>\n      <td>0.0</td>\n      <td>292.0</td>\n      <td>952</td>\n      <td>476.0</td>\n      <td>393.0</td>\n      <td>558.0</td>\n      <td>2</td>\n      <td>2083.0</td>\n      <td>558.0</td>\n    </tr>\n    <tr>\n      <th>35</th>\n      <td>109954</td>\n      <td>21991.0</td>\n      <td>158.0</td>\n      <td>65745.0</td>\n      <td>5</td>\n      <td>243.0</td>\n      <td>350.0</td>\n      <td>3908</td>\n      <td>977.0</td>\n      <td>108.0</td>\n      <td>2200.0</td>\n      <td>4</td>\n      <td>876.0</td>\n      <td>2200.0</td>\n    </tr>\n    <tr>\n      <th>42</th>\n      <td>55774</td>\n      <td>11155.0</td>\n      <td>67.0</td>\n      <td>29540.0</td>\n      <td>5</td>\n      <td>96.0</td>\n      <td>67.0</td>\n      <td>4175</td>\n      <td>696.0</td>\n      <td>142.0</td>\n      <td>1175.0</td>\n      <td>6</td>\n      <td>196.0</td>\n      <td>1175.0</td>\n    </tr>\n    <tr>\n      <th>14</th>\n      <td>36720</td>\n      <td>9180.0</td>\n      <td>92.0</td>\n      <td>34447.0</td>\n      <td>4</td>\n      <td>637.0</td>\n      <td>92.0</td>\n      <td>1658</td>\n      <td>553.0</td>\n      <td>217.0</td>\n      <td>1142.0</td>\n      <td>3</td>\n      <td>212.0</td>\n      <td>300.0</td>\n    </tr>\n    <tr>\n      <th>3</th>\n      <td>54941</td>\n      <td>6105.0</td>\n      <td>333.0</td>\n      <td>21698.0</td>\n      <td>9</td>\n      <td>1432.0</td>\n      <td>542.0</td>\n      <td>867</td>\n      <td>433.0</td>\n      <td>200.0</td>\n      <td>667.0</td>\n      <td>2</td>\n      <td>282.0</td>\n      <td>200.0</td>\n    </tr>\n    <tr>\n      <th>33</th>\n      <td>48271</td>\n      <td>16090.0</td>\n      <td>158.0</td>\n      <td>42747.0</td>\n      <td>3</td>\n      <td>4230.0</td>\n      <td>158.0</td>\n      <td>4167</td>\n      <td>1389.0</td>\n      <td>75.0</td>\n      <td>3666.0</td>\n      <td>3</td>\n      <td>422.0</td>\n      <td>3666.0</td>\n    </tr>\n    <tr>\n      <th>39</th>\n      <td>27600</td>\n      <td>5520.0</td>\n      <td>300.0</td>\n      <td>19257.0</td>\n      <td>5</td>\n      <td>282.0</td>\n      <td>300.0</td>\n      <td>10566</td>\n      <td>2641.0</td>\n      <td>75.0</td>\n      <td>7083.0</td>\n      <td>4</td>\n      <td>1024.0</td>\n      <td>7083.0</td>\n    </tr>\n    <tr>\n      <th>16</th>\n      <td>28165</td>\n      <td>9388.0</td>\n      <td>367.0</td>\n      <td>27406.0</td>\n      <td>3</td>\n      <td>0.0</td>\n      <td>392.0</td>\n      <td>2016</td>\n      <td>1008.0</td>\n      <td>817.0</td>\n      <td>1200.0</td>\n      <td>2</td>\n      <td>584.0</td>\n      <td>1200.0</td>\n    </tr>\n    <tr>\n      <th>43</th>\n      <td>23590</td>\n      <td>3370.0</td>\n      <td>142.0</td>\n      <td>11632.0</td>\n      <td>7</td>\n      <td>209.0</td>\n      <td>467.0</td>\n      <td>0</td>\n      <td>NaN</td>\n      <td>NaN</td>\n      <td>NaN</td>\n      <td>0</td>\n      <td>NaN</td>\n      <td>NaN</td>\n    </tr>\n    <tr>\n      <th>15</th>\n      <td>61789</td>\n      <td>30894.0</td>\n      <td>471.0</td>\n      <td>61318.0</td>\n      <td>2</td>\n      <td>0.0</td>\n      <td>471.0</td>\n      <td>5150</td>\n      <td>5150.0</td>\n      <td>5150.0</td>\n      <td>5150.0</td>\n      <td>1</td>\n      <td>512.0</td>\n      <td>5150.0</td>\n    </tr>\n    <tr>\n      <th>5</th>\n      <td>61045</td>\n      <td>12209.0</td>\n      <td>108.0</td>\n      <td>59029.0</td>\n      <td>5</td>\n      <td>111.0</td>\n      <td>108.0</td>\n      <td>5782</td>\n      <td>1446.0</td>\n      <td>191.0</td>\n      <td>3566.0</td>\n      <td>4</td>\n      <td>253.0</td>\n      <td>3566.0</td>\n    </tr>\n    <tr>\n      <th>27</th>\n      <td>66617</td>\n      <td>11103.0</td>\n      <td>16.0</td>\n      <td>38693.0</td>\n      <td>6</td>\n      <td>0.0</td>\n      <td>411.0</td>\n      <td>2841</td>\n      <td>710.0</td>\n      <td>83.0</td>\n      <td>1575.0</td>\n      <td>4</td>\n      <td>461.0</td>\n      <td>83.0</td>\n    </tr>\n    <tr>\n      <th>12</th>\n      <td>43327</td>\n      <td>8665.0</td>\n      <td>142.0</td>\n      <td>41562.0</td>\n      <td>5</td>\n      <td>0.0</td>\n      <td>365.0</td>\n      <td>100</td>\n      <td>100.0</td>\n      <td>100.0</td>\n      <td>100.0</td>\n      <td>1</td>\n      <td>1265.0</td>\n      <td>100.0</td>\n    </tr>\n    <tr>\n      <th>4</th>\n      <td>41630</td>\n      <td>13877.0</td>\n      <td>275.0</td>\n      <td>40180.0</td>\n      <td>3</td>\n      <td>2896.0</td>\n      <td>275.0</td>\n      <td>2733</td>\n      <td>547.0</td>\n      <td>117.0</td>\n      <td>1150.0</td>\n      <td>5</td>\n      <td>205.0</td>\n      <td>675.0</td>\n    </tr>\n    <tr>\n      <th>41</th>\n      <td>40001</td>\n      <td>10000.0</td>\n      <td>29.0</td>\n      <td>31064.0</td>\n      <td>4</td>\n      <td>72.0</td>\n      <td>133.0</td>\n      <td>6258</td>\n      <td>3129.0</td>\n      <td>142.0</td>\n      <td>6116.0</td>\n      <td>2</td>\n      <td>256.0</td>\n      <td>6116.0</td>\n    </tr>\n    <tr>\n      <th>7</th>\n      <td>49848</td>\n      <td>12462.0</td>\n      <td>136.0</td>\n      <td>48879.0</td>\n      <td>4</td>\n      <td>0.0</td>\n      <td>136.0</td>\n      <td>2667</td>\n      <td>667.0</td>\n      <td>425.0</td>\n      <td>942.0</td>\n      <td>4</td>\n      <td>352.0</td>\n      <td>425.0</td>\n    </tr>\n    <tr>\n      <th>29</th>\n      <td>61947</td>\n      <td>15487.0</td>\n      <td>267.0</td>\n      <td>60860.0</td>\n      <td>4</td>\n      <td>0.0</td>\n      <td>401.0</td>\n      <td>5941</td>\n      <td>2971.0</td>\n      <td>300.0</td>\n      <td>5641.0</td>\n      <td>2</td>\n      <td>634.0</td>\n      <td>5641.0</td>\n    </tr>\n    <tr>\n      <th>30</th>\n      <td>40230</td>\n      <td>13410.0</td>\n      <td>83.0</td>\n      <td>39713.0</td>\n      <td>3</td>\n      <td>5262.0</td>\n      <td>39713.0</td>\n      <td>908</td>\n      <td>227.0</td>\n      <td>133.0</td>\n      <td>450.0</td>\n      <td>4</td>\n      <td>346.0</td>\n      <td>133.0</td>\n    </tr>\n    <tr>\n      <th>24</th>\n      <td>38230</td>\n      <td>19115.0</td>\n      <td>2000.0</td>\n      <td>36230.0</td>\n      <td>2</td>\n      <td>2681.0</td>\n      <td>2000.0</td>\n      <td>3180</td>\n      <td>795.0</td>\n      <td>75.0</td>\n      <td>1592.0</td>\n      <td>4</td>\n      <td>210.0</td>\n      <td>283.0</td>\n    </tr>\n    <tr>\n      <th>32</th>\n      <td>28614</td>\n      <td>14307.0</td>\n      <td>158.0</td>\n      <td>28456.0</td>\n      <td>2</td>\n      <td>118.0</td>\n      <td>158.0</td>\n      <td>1208</td>\n      <td>604.0</td>\n      <td>558.0</td>\n      <td>650.0</td>\n      <td>2</td>\n      <td>326.0</td>\n      <td>650.0</td>\n    </tr>\n    <tr>\n      <th>20</th>\n      <td>33748</td>\n      <td>11249.0</td>\n      <td>259.0</td>\n      <td>32739.0</td>\n      <td>3</td>\n      <td>0.0</td>\n      <td>259.0</td>\n      <td>3425</td>\n      <td>1712.0</td>\n      <td>500.0</td>\n      <td>2925.0</td>\n      <td>2</td>\n      <td>1551.0</td>\n      <td>500.0</td>\n    </tr>\n    <tr>\n      <th>1</th>\n      <td>25400</td>\n      <td>6350.0</td>\n      <td>83.0</td>\n      <td>24598.0</td>\n      <td>4</td>\n      <td>165.0</td>\n      <td>83.0</td>\n      <td>908</td>\n      <td>454.0</td>\n      <td>242.0</td>\n      <td>667.0</td>\n      <td>2</td>\n      <td>498.0</td>\n      <td>242.0</td>\n    </tr>\n    <tr>\n      <th>25</th>\n      <td>56573</td>\n      <td>9429.0</td>\n      <td>322.0</td>\n      <td>24131.0</td>\n      <td>6</td>\n      <td>0.0</td>\n      <td>572.0</td>\n      <td>13341</td>\n      <td>3335.0</td>\n      <td>675.0</td>\n      <td>5133.0</td>\n      <td>4</td>\n      <td>781.0</td>\n      <td>5133.0</td>\n    </tr>\n    <tr>\n      <th>21</th>\n      <td>48211</td>\n      <td>24106.0</td>\n      <td>432.0</td>\n      <td>47779.0</td>\n      <td>2</td>\n      <td>4561.0</td>\n      <td>47779.0</td>\n      <td>0</td>\n      <td>NaN</td>\n      <td>NaN</td>\n      <td>NaN</td>\n      <td>0</td>\n      <td>NaN</td>\n      <td>NaN</td>\n    </tr>\n    <tr>\n      <th>17</th>\n      <td>24990</td>\n      <td>3570.0</td>\n      <td>200.0</td>\n      <td>11849.0</td>\n      <td>7</td>\n      <td>2916.0</td>\n      <td>1375.0</td>\n      <td>800</td>\n      <td>267.0</td>\n      <td>108.0</td>\n      <td>358.0</td>\n      <td>3</td>\n      <td>83.0</td>\n      <td>108.0</td>\n    </tr>\n    <tr>\n      <th>11</th>\n      <td>49806</td>\n      <td>12452.0</td>\n      <td>475.0</td>\n      <td>44388.0</td>\n      <td>4</td>\n      <td>0.0</td>\n      <td>475.0</td>\n      <td>1225</td>\n      <td>306.0</td>\n      <td>92.0</td>\n      <td>642.0</td>\n      <td>4</td>\n      <td>1859.0</td>\n      <td>642.0</td>\n    </tr>\n    <tr>\n      <th>45</th>\n      <td>33747</td>\n      <td>6749.0</td>\n      <td>467.0</td>\n      <td>30606.0</td>\n      <td>5</td>\n      <td>3132.0</td>\n      <td>467.0</td>\n      <td>2863</td>\n      <td>477.0</td>\n      <td>100.0</td>\n      <td>1854.0</td>\n      <td>6</td>\n      <td>769.0</td>\n      <td>100.0</td>\n    </tr>\n    <tr>\n      <th>34</th>\n      <td>46079</td>\n      <td>15360.0</td>\n      <td>233.0</td>\n      <td>45388.0</td>\n      <td>3</td>\n      <td>126.0</td>\n      <td>233.0</td>\n      <td>4258</td>\n      <td>1419.0</td>\n      <td>242.0</td>\n      <td>3116.0</td>\n      <td>3</td>\n      <td>451.0</td>\n      <td>3116.0</td>\n    </tr>\n    <tr>\n      <th>13</th>\n      <td>18613</td>\n      <td>3723.0</td>\n      <td>198.0</td>\n      <td>16265.0</td>\n      <td>5</td>\n      <td>0.0</td>\n      <td>198.0</td>\n      <td>6666</td>\n      <td>952.0</td>\n      <td>67.0</td>\n      <td>3591.0</td>\n      <td>7</td>\n      <td>456.0</td>\n      <td>67.0</td>\n    </tr>\n    <tr>\n      <th>44</th>\n      <td>47498</td>\n      <td>11874.0</td>\n      <td>217.0</td>\n      <td>22692.0</td>\n      <td>4</td>\n      <td>0.0</td>\n      <td>217.0</td>\n      <td>3800</td>\n      <td>633.0</td>\n      <td>67.0</td>\n      <td>2333.0</td>\n      <td>6</td>\n      <td>925.0</td>\n      <td>208.0</td>\n    </tr>\n    <tr>\n      <th>18</th>\n      <td>28999</td>\n      <td>14499.0</td>\n      <td>100.0</td>\n      <td>28899.0</td>\n      <td>2</td>\n      <td>320.0</td>\n      <td>100.0</td>\n      <td>2158</td>\n      <td>2158.0</td>\n      <td>2158.0</td>\n      <td>2158.0</td>\n      <td>1</td>\n      <td>1466.0</td>\n      <td>2158.0</td>\n    </tr>\n    <tr>\n      <th>22</th>\n      <td>52442</td>\n      <td>10488.0</td>\n      <td>233.0</td>\n      <td>31843.0</td>\n      <td>5</td>\n      <td>205.0</td>\n      <td>508.0</td>\n      <td>11991</td>\n      <td>2398.0</td>\n      <td>100.0</td>\n      <td>10957.0</td>\n      <td>5</td>\n      <td>814.0</td>\n      <td>10957.0</td>\n    </tr>\n    <tr>\n      <th>26</th>\n      <td>43038</td>\n      <td>14346.0</td>\n      <td>283.0</td>\n      <td>40463.0</td>\n      <td>3</td>\n      <td>2853.0</td>\n      <td>40463.0</td>\n      <td>181</td>\n      <td>181.0</td>\n      <td>181.0</td>\n      <td>181.0</td>\n      <td>1</td>\n      <td>47583.0</td>\n      <td>181.0</td>\n    </tr>\n    <tr>\n      <th>2</th>\n      <td>54637</td>\n      <td>27319.0</td>\n      <td>16240.0</td>\n      <td>38397.0</td>\n      <td>2</td>\n      <td>9915.0</td>\n      <td>16240.0</td>\n      <td>9782</td>\n      <td>3261.0</td>\n      <td>567.0</td>\n      <td>8174.0</td>\n      <td>3</td>\n      <td>182.0</td>\n      <td>1042.0</td>\n    </tr>\n  </tbody>\n</table>\n</div>"
     },
     "execution_count": 20,
     "metadata": {},
     "output_type": "execute_result"
    }
   ],
   "source": [
    "# SETY: \n",
    "# collections: wszystkie\n",
    "df_collAllWithCom, df_collAllWithoutCom, df_collAllOnlyCom = create_collection_sets(df_all_with_com, df_all_without_com, df_all, '.+_corr$', '.+_trud$')\n",
    "\n",
    "# collections: A\n",
    "df_collAWithCom, df_collAWithoutCom, df_collAOnlyCom = create_collection_sets(df_A_aggr, df_a_aggr, df_a, '.+a_corr$', '.+a_trud$')\n",
    "\n",
    "# collections: B\n",
    "df_collBWithCom, df_collBWithoutCom, df_collBOnlyCom = create_collection_sets(df_B_aggr, df_b_aggr, df_b, '.+b_corr$', '.+b_trud$')\n",
    "\n",
    "# collections: 1\n",
    "df_coll1WithCom, df_coll1WithoutCom, df_coll1OnlyCom = create_collection_sets(df_1_AGGR, df_1_aggr, df_1, '^1.*_corr$', '^1.*_trud$')\n",
    "\n",
    "# collections: 2\n",
    "df_coll2WithCom, df_coll2WithoutCom, df_coll2OnlyCom = create_collection_sets(df_2_AGGR, df_2_aggr, df_2, '^2.*_corr$', '^2.*_trud$')\n",
    "\n",
    "# collections: 3\n",
    "df_coll3WithCom, df_coll3WithoutCom, df_coll3OnlyCom = create_collection_sets(df_3_AGGR, df_3_aggr, df_3, '^3.*_corr$', '^3.*_trud$')\n",
    "df_1a"
   ],
   "metadata": {
    "collapsed": false,
    "ExecuteTime": {
     "end_time": "2023-10-25T19:36:17.267375Z",
     "start_time": "2023-10-25T19:36:17.211030Z"
    }
   },
   "id": "5178ddf7f5ae0465"
  },
  {
   "cell_type": "code",
   "execution_count": 21,
   "outputs": [],
   "source": [
    "def prepare_graphic_set(df, pattern):    \n",
    "    regex = [re.compile('Min'), re.compile('Max'), re.compile('DTTV'), re.compile('TTV'), re.compile('AOI_int_end'), re.compile('^Last_AOI_[^_]+_(?!map)')]\n",
    "    columns_to_drop = [col for col in df.columns if any(pat.search(col) for pat in regex)]\n",
    "    df.drop(columns=columns_to_drop, inplace=True)\n",
    "    df.columns = [col.replace('_map', '') if col.startswith('Last_AOI_') else col for col in df.columns]\n",
    "    df.columns = [col.replace(f'_{pattern}', '') for col in df.columns]\n",
    "    return df"
   ],
   "metadata": {
    "collapsed": false,
    "ExecuteTime": {
     "end_time": "2023-10-25T19:36:29.616729Z",
     "start_time": "2023-10-25T19:36:29.607701Z"
    }
   },
   "id": "cdd1454201b28a1f"
  },
  {
   "cell_type": "code",
   "execution_count": 22,
   "outputs": [],
   "source": [
    "# SET: wszystkie elementy\n",
    "df_1a_samples = prepare_graphic_set(df_1a, \"1a\")\n",
    "df_2a_samples = prepare_graphic_set(df_2a, \"2a\")\n",
    "df_3a_samples = prepare_graphic_set(df_3a, \"3a\")\n",
    "df_1b_samples = prepare_graphic_set(df_1b, \"1b\")\n",
    "df_2b_samples = prepare_graphic_set(df_2b, \"2b\")\n",
    "df_3b_samples = prepare_graphic_set(df_3b, \"3b\")"
   ],
   "metadata": {
    "collapsed": false,
    "ExecuteTime": {
     "end_time": "2023-10-25T19:36:31.643835Z",
     "start_time": "2023-10-25T19:36:31.637761Z"
    }
   },
   "id": "5ab10237d766cb00"
  },
  {
   "cell_type": "code",
   "execution_count": 27,
   "outputs": [
    {
     "name": "stdout",
     "output_type": "stream",
     "text": [
      "1a\n",
      "Avg_map: 0 - tyle osób ani razu nie odwiedziło wzrokiem tego elementu\n",
      "Avg_com: 3 - tyle osób ani razu nie odwiedziło wzrokiem tego elementu\n",
      "1b\n",
      "Avg_map: 1 - tyle osób ani razu nie odwiedziło wzrokiem tego elementu\n",
      "Avg_com: 3 - tyle osób ani razu nie odwiedziło wzrokiem tego elementu\n",
      "Avg_plt: 5 - tyle osób ani razu nie odwiedziło wzrokiem tego elementu\n",
      "Avg_tab: 1 - tyle osób ani razu nie odwiedziło wzrokiem tego elementu\n",
      "Avg_txt: 12 - tyle osób ani razu nie odwiedziło wzrokiem tego elementu\n",
      "2a\n",
      "Avg_map: 0 - tyle osób ani razu nie odwiedziło wzrokiem tego elementu\n",
      "Avg_com: 1 - tyle osób ani razu nie odwiedziło wzrokiem tego elementu\n",
      "2b\n",
      "Avg_map: 0 - tyle osób ani razu nie odwiedziło wzrokiem tego elementu\n",
      "Avg_com: 1 - tyle osób ani razu nie odwiedziło wzrokiem tego elementu\n",
      "Avg_plt: 5 - tyle osób ani razu nie odwiedziło wzrokiem tego elementu\n",
      "Avg_tab: 1 - tyle osób ani razu nie odwiedziło wzrokiem tego elementu\n",
      "Avg_txt: 1 - tyle osób ani razu nie odwiedziło wzrokiem tego elementu\n",
      "3a\n",
      "Avg_map: 0 - tyle osób ani razu nie odwiedziło wzrokiem tego elementu\n",
      "Avg_com: 3 - tyle osób ani razu nie odwiedziło wzrokiem tego elementu\n",
      "3b\n",
      "Avg_map: 0 - tyle osób ani razu nie odwiedziło wzrokiem tego elementu\n",
      "Avg_com: 1 - tyle osób ani razu nie odwiedziło wzrokiem tego elementu\n",
      "Avg_plt: 0 - tyle osób ani razu nie odwiedziło wzrokiem tego elementu\n",
      "Avg_tab: 0 - tyle osób ani razu nie odwiedziło wzrokiem tego elementu\n",
      "Avg_txt: 7 - tyle osób ani razu nie odwiedziło wzrokiem tego elementu\n"
     ]
    }
   ],
   "source": [
    "# Analiza NaNów\n",
    "def print_nans(df):\n",
    "    for col in df.filter(regex='Avg').columns:\n",
    "        print(f\"{col}: {df[col].isna().sum()} - tyle osób ani razu nie odwiedziło wzrokiem tego elementu\")\n",
    "    \n",
    "    \n",
    "for df, id in zip([df_1a_samples, df_1b_samples, df_2a_samples, df_2b_samples, df_3a_samples, df_3b_samples], ['1a', '1b', '2a', '2b', '3a', '3b']):\n",
    "    print(id)\n",
    "    print_nans(df)"
   ],
   "metadata": {
    "collapsed": false,
    "ExecuteTime": {
     "end_time": "2023-10-25T19:40:11.661994Z",
     "start_time": "2023-10-25T19:40:11.653067Z"
    }
   },
   "id": "7bb6aca017a5d1de"
  },
  {
   "cell_type": "code",
   "execution_count": 28,
   "outputs": [],
   "source": [
    "dfs_sum = [df_sumAllWithCom, df_sumAllWithoutCom, df_sumAllOnlyCom, df_sumAWithCom, df_sumAWithoutCom, df_sumAOnlyCom, df_sumBWithCom, df_sumBWithoutCom, df_sumBOnlyCom, df_sum1WithCom, df_sum1WithoutCom, df_sum1OnlyCom, df_sum2WithCom, df_sum2WithoutCom, df_sum2OnlyCom, df_sum3WithCom, df_sum3WithoutCom, df_sum3OnlyCom]\n",
    "\n",
    "dfs_coll = [df_collAllWithCom, df_collAllWithoutCom, df_collAllOnlyCom, df_collAWithCom, df_collAWithoutCom, df_collAOnlyCom, df_collBWithCom, df_collBWithoutCom, df_collBOnlyCom, df_coll1WithCom, df_coll1WithoutCom, df_coll1OnlyCom, df_coll2WithCom, df_coll2WithoutCom, df_coll2OnlyCom, df_coll3WithCom, df_coll3WithoutCom, df_coll3OnlyCom]\n",
    "\n",
    "dfs_samples = [df_1a_samples, df_1b_samples, df_2a_samples, df_2b_samples, df_3a_samples, df_3b_samples]\n",
    "\n",
    "names_sum = {\n",
    "    1: 'Zsumowane wszystkie grafiki: z poleceniem:',\n",
    "    2: 'Zsumowane wszystkie grafiki: bez polecenia:',\n",
    "    3: 'Zsumowane wszystkie grafiki: tylko polecenie :',\n",
    "    4: 'Zsumowane grafiki A: z poleceniem:',\n",
    "    5: 'Zsumowane grafiki A: bez polecenia:',\n",
    "    6: 'Zsumowane grafiki A: tylko polecenie :',\n",
    "    7: 'Zsumowane grafiki B: z poleceniem:',\n",
    "    8: 'Zsumowane grafiki B: bez polecenia:',\n",
    "    9: 'Zsumowane grafiki B: tylko polecenie :',\n",
    "    10: 'Zsumowane grafiki 1: z poleceniem:',\n",
    "    11: 'Zsumowane grafiki 1: bez polecenia:',\n",
    "    12: 'Zsumowane grafiki 1: tylko polecenie :',\n",
    "    13: 'Zsumowane grafiki 2: z poleceniem:',\n",
    "    14: 'Zsumowane grafiki 2: bez polecenia:',\n",
    "    15: 'Zsumowane grafiki 2: tylko polecenie :',\n",
    "    16: 'Zsumowane grafiki 3: z poleceniem:',\n",
    "    17: 'Zsumowane grafiki 3: bez polecenia:',\n",
    "    18: 'Zsumowane grafiki 3: tylko polecenie :',\n",
    "}\n",
    "\n",
    "names_coll = {\n",
    "    1: 'Kolekcja wszystkie grafiki: z poleceniem:',\n",
    "    2: 'Kolekcja wszystkie grafiki: bez polecenia:',\n",
    "    3: 'Kolekcja wszystkie grafiki: tylko polecenie :',\n",
    "    4: 'Kolekcja grafiki A: z poleceniem:',\n",
    "    5: 'Kolekcja grafiki A: bez polecenia:',\n",
    "    6: 'Kolekcja grafiki A: tylko polecenie :',\n",
    "    7: 'Kolekcja grafiki B: z poleceniem:',\n",
    "    8: 'Kolekcja grafiki B: bez polecenia:',\n",
    "    9: 'Kolekcja grafiki B: tylko polecenie :',\n",
    "    10: 'Kolekcja grafiki 1: z poleceniem:',\n",
    "    11: 'Kolekcja grafiki 1: bez polecenia:',\n",
    "    12: 'Kolekcja grafiki 1: tylko polecenie :',\n",
    "    13: 'Kolekcja grafiki 2: z poleceniem:',\n",
    "    14: 'Kolekcja grafiki 2: bez polecenia:',\n",
    "    15: 'Kolekcja grafiki 2: tylko polecenie :',\n",
    "    16: 'Kolekcja grafiki 3: z poleceniem:',\n",
    "    17: 'Kolekcja grafiki 3: bez polecenia:',\n",
    "    18: 'Kolekcja grafiki 3: tylko polecenie :',\n",
    "}\n",
    "\n",
    "names_samples = {\n",
    "    1: '1a',\n",
    "    2: '1b',\n",
    "    3: '2a',\n",
    "    4: '2b',\n",
    "    5: '3a',\n",
    "    6: '3b',\n",
    "}"
   ],
   "metadata": {
    "collapsed": false,
    "ExecuteTime": {
     "end_time": "2023-10-25T19:40:28.435705Z",
     "start_time": "2023-10-25T19:40:28.425394Z"
    }
   },
   "id": "bdb8913f43630740"
  },
  {
   "cell_type": "markdown",
   "source": [
    "### Testy:\n",
    "\n",
    "**H0:** Nie ma istotnej statystycznie zależności między poprawnością odpowiedzi a daną metryką dotyczącą fiksacji.\n",
    "\n",
    "**H1:** Istnieje istotna statystycznie zależność między poprawnością odpowiedzi a daną metryką dotyczącą fiksacji.\n",
    "\n",
    "**Poziom istotności:** $\\alpha=0.05$"
   ],
   "metadata": {
    "collapsed": false
   },
   "id": "96c9e4805db75a2b"
  },
  {
   "cell_type": "code",
   "execution_count": 34,
   "outputs": [],
   "source": [
    "ALPHA = 0.05"
   ],
   "metadata": {
    "collapsed": false,
    "ExecuteTime": {
     "end_time": "2023-10-25T19:41:23.229749Z",
     "start_time": "2023-10-25T19:41:23.226703Z"
    }
   },
   "id": "23f14d575a8961e9"
  },
  {
   "cell_type": "code",
   "execution_count": null,
   "outputs": [],
   "source": [],
   "metadata": {
    "collapsed": false
   },
   "id": "70486d20813ef7cf"
  }
 ],
 "metadata": {
  "kernelspec": {
   "display_name": "Python 3",
   "language": "python",
   "name": "python3"
  },
  "language_info": {
   "codemirror_mode": {
    "name": "ipython",
    "version": 2
   },
   "file_extension": ".py",
   "mimetype": "text/x-python",
   "name": "python",
   "nbconvert_exporter": "python",
   "pygments_lexer": "ipython2",
   "version": "2.7.6"
  }
 },
 "nbformat": 4,
 "nbformat_minor": 5
}
