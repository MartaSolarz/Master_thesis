{
 "cells": [
  {
   "cell_type": "markdown",
   "source": [
    "# Temat testów\n",
    "\n",
    "Czy istnieje istotna statystycznie różnica w poprawności/pewności odpowiedzi w zależności od:\n",
    "- liczby fiksacji (na wszystkich elementach grafiki, tylko na treści, tylko na poleceniu)?\n",
    "- długości całkowitej i średniej fiksacji (na wszystkich elementach grafiki, tylko na treści, tylko na poleceniu)?\n",
    "- ostatniego odwiedzonego AOI (ze wszystkich elementów grafiki)?\n",
    "- średniej wielkości źrenicy (na wszystkich elementach grafiki, tylko na treści, tylko na poleceniu)?\n",
    "\n",
    "### Przygotowanie setów do testowania \n",
    "- fiksacje (liczba, długość całkowita, średnia, średnia wielkość źrenicy, ostatnie odwiedzone AOI)\n",
    "vs\n",
    "- poprawność odpowiedzi\n",
    "- pewność odpowiedzi\n",
    "\n",
    "### Jakie sety potrzebujemy do testów?\n",
    "\n",
    "Poprawność/pewność w zależności od metryki eye tracking dla: każdego elementu (mapa, tabela, tekst, wykres, polecenie); elementów treści (bez polecenia) w grupach:\n",
    "- dla każdej grafiki osobno\n",
    "- sumy: wszystkie grafiki, A, B, 1, 2, 3\n",
    "- kolekcje: wszystkie grafiki, A, B, 1, 2, 3\n",
    "\n"
   ],
   "metadata": {
    "collapsed": false
   },
   "id": "ca00621bbb388b4"
  },
  {
   "cell_type": "code",
   "execution_count": 2,
   "outputs": [],
   "source": [
    "import pandas as pd\n",
    "import re\n",
    "\n",
    "from functions.set_preparations import prepare_row_df\n",
    "from functions.tests import conduct_logistic_regression_test"
   ],
   "metadata": {
    "collapsed": false,
    "ExecuteTime": {
     "end_time": "2023-10-25T18:56:51.278890Z",
     "start_time": "2023-10-25T18:56:51.275480Z"
    }
   },
   "id": "2f99b40764a40b7b"
  },
  {
   "cell_type": "code",
   "execution_count": 37,
   "outputs": [
    {
     "data": {
      "text/plain": "    1a_trud  1b_trud  2a_trud  2b_trud  3a_trud  3b_trud  Trud_all  Corr_all  \\\nID                                                                             \n1         3        1        4        3        4        4        19         4   \n2         1        2        3        1        2        4        13         5   \n3         2        1        3        1        1        1         9         4   \n4         3        2        2        1        3        5        16         5   \n5         4        2        3        2        3        3        17         6   \n7         2        2        2        1        4        3        14         6   \n11        2        1        3        2        1        2        11         2   \n12        1        1        3        3        2        2        12         2   \n13        2        4        2        1        1        3        13         5   \n14        2        3        2        5        4        4        20         5   \n15        2        3        4        2        4        5        20         4   \n16        3        2        1        3        3        3        15         5   \n17        3        2        2        2        2        3        14         4   \n18        3        1        4        4        1        1        14         2   \n19        3        2        1        3        2        4        15         5   \n20        3        3        5        2        4        5        22         3   \n21        2        2        1        2        5        4        16         5   \n22        3        2        2        3        1        3        14         4   \n23        4        1        1        2        1        1        10         4   \n24        3        2        1        1        4        5        16         6   \n25        3        2        4        4        1        3        17         0   \n26        3        2        2        4        4        4        19         5   \n27        3        2        2        2        3        4        16         3   \n29        1        1        3        1        2        2        10         5   \n30        3        2        1        1        2        1        10         3   \n31        2        2        3        2        2        3        14         3   \n32        2        3        3        3        3        4        18         6   \n33        3        1        1        2        3        2        12         5   \n34        1        1        4        2        3        2        13         3   \n35        5        2        2        1        4        4        18         6   \n37        2        1        2        3        4        4        16         6   \n38        4        2        1        1        3        4        15         6   \n39        2        3        3        4        2        3        17         3   \n40        4        3        3        4        2        4        20         4   \n41        2        2        2        2        3        3        14         5   \n42        2        1        2        1        2        2        10         5   \n43        1        2        2        2        3        3        13         5   \n44        1        1        3        1        2        3        11         3   \n45        2        1        2        2        2        2        11         3   \n46        1        3        2        2        2        3        13         4   \n\n    1a_corr  1b_corr  ...  SumCorr_a  SumCorr_b  SumCorr_1  SumCorr_2  \\\nID                    ...                                               \n1         1        1  ...          2          2          2          0   \n2         1        1  ...          2          3          2          2   \n3         1        1  ...          2          2          2          2   \n4         1        1  ...          3          2          2          2   \n5         1        1  ...          3          3          2          2   \n7         1        1  ...          3          3          2          2   \n11        1        0  ...          1          1          1          0   \n12        1        1  ...          1          1          2          0   \n13        1        1  ...          3          2          2          2   \n14        1        1  ...          3          2          2          1   \n15        1        1  ...          2          2          2          1   \n16        1        1  ...          3          2          2          1   \n17        1        1  ...          2          2          2          2   \n18        1        1  ...          1          1          2          0   \n19        1        1  ...          2          3          2          2   \n20        1        1  ...          1          2          2          0   \n21        1        1  ...          3          2          2          2   \n22        1        1  ...          2          2          2          2   \n23        1        1  ...          2          2          2          2   \n24        1        1  ...          3          3          2          2   \n25        0        0  ...          0          0          0          0   \n26        1        1  ...          2          3          2          2   \n27        1        1  ...          2          1          2          0   \n29        1        1  ...          2          3          2          1   \n30        0        0  ...          2          1          0          2   \n31        0        1  ...          1          2          1          2   \n32        1        1  ...          3          3          2          2   \n33        1        1  ...          3          2          2          2   \n34        1        1  ...          1          2          2          1   \n35        1        1  ...          3          3          2          2   \n37        1        1  ...          3          3          2          2   \n38        1        1  ...          3          3          2          2   \n39        0        1  ...          1          2          1          2   \n40        1        1  ...          2          2          2          2   \n41        1        1  ...          3          2          2          1   \n42        1        1  ...          2          3          2          2   \n43        1        1  ...          3          2          2          2   \n44        1        1  ...          1          2          2          1   \n45        1        1  ...          2          1          2          0   \n46        0        1  ...          2          2          1          2   \n\n    SumCorr_3  SumTrud_a  SumTrud_b  SumTrud_1  SumTrud_2  SumTrud_3  \nID                                                                    \n1           2         11          8          4          7          8  \n2           1          6          7          3          4          6  \n3           0          6          3          3          4          2  \n4           1          8          8          5          3          8  \n5           2         10          7          6          5          6  \n7           2          8          6          4          3          7  \n11          1          6          5          3          5          3  \n12          0          6          6          2          6          4  \n13          1          5          8          6          3          4  \n14          2          8         12          5          7          8  \n15          1         10         10          5          6          9  \n16          2          7          8          5          4          6  \n17          0          7          7          5          4          5  \n18          0          8          6          4          8          2  \n19          1          6          9          5          4          6  \n20          1         12         10          6          7          9  \n21          1          8          8          4          3          9  \n22          0          6          8          5          5          4  \n23          0          6          4          5          3          2  \n24          2          8          8          5          2          9  \n25          0          8          9          5          8          4  \n26          1          9         10          5          6          8  \n27          1          8          8          5          4          7  \n29          2          6          4          2          4          4  \n30          1          6          4          5          2          3  \n31          0          7          7          4          5          5  \n32          2          8         10          5          6          7  \n33          1          7          5          4          3          5  \n34          0          8          5          2          6          5  \n35          2         11          7          7          3          8  \n37          2          8          8          3          5          8  \n38          2          8          7          6          2          7  \n39          0          7         10          5          7          5  \n40          0          9         11          7          7          6  \n41          2          7          7          4          4          6  \n42          1          6          4          3          3          4  \n43          1          6          7          3          4          6  \n44          0          6          5          2          4          5  \n45          1          6          5          3          4          4  \n46          1          5          8          4          4          5  \n\n[40 rows x 24 columns]",
      "text/html": "<div>\n<style scoped>\n    .dataframe tbody tr th:only-of-type {\n        vertical-align: middle;\n    }\n\n    .dataframe tbody tr th {\n        vertical-align: top;\n    }\n\n    .dataframe thead th {\n        text-align: right;\n    }\n</style>\n<table border=\"1\" class=\"dataframe\">\n  <thead>\n    <tr style=\"text-align: right;\">\n      <th></th>\n      <th>1a_trud</th>\n      <th>1b_trud</th>\n      <th>2a_trud</th>\n      <th>2b_trud</th>\n      <th>3a_trud</th>\n      <th>3b_trud</th>\n      <th>Trud_all</th>\n      <th>Corr_all</th>\n      <th>1a_corr</th>\n      <th>1b_corr</th>\n      <th>...</th>\n      <th>SumCorr_a</th>\n      <th>SumCorr_b</th>\n      <th>SumCorr_1</th>\n      <th>SumCorr_2</th>\n      <th>SumCorr_3</th>\n      <th>SumTrud_a</th>\n      <th>SumTrud_b</th>\n      <th>SumTrud_1</th>\n      <th>SumTrud_2</th>\n      <th>SumTrud_3</th>\n    </tr>\n    <tr>\n      <th>ID</th>\n      <th></th>\n      <th></th>\n      <th></th>\n      <th></th>\n      <th></th>\n      <th></th>\n      <th></th>\n      <th></th>\n      <th></th>\n      <th></th>\n      <th></th>\n      <th></th>\n      <th></th>\n      <th></th>\n      <th></th>\n      <th></th>\n      <th></th>\n      <th></th>\n      <th></th>\n      <th></th>\n      <th></th>\n    </tr>\n  </thead>\n  <tbody>\n    <tr>\n      <th>1</th>\n      <td>3</td>\n      <td>1</td>\n      <td>4</td>\n      <td>3</td>\n      <td>4</td>\n      <td>4</td>\n      <td>19</td>\n      <td>4</td>\n      <td>1</td>\n      <td>1</td>\n      <td>...</td>\n      <td>2</td>\n      <td>2</td>\n      <td>2</td>\n      <td>0</td>\n      <td>2</td>\n      <td>11</td>\n      <td>8</td>\n      <td>4</td>\n      <td>7</td>\n      <td>8</td>\n    </tr>\n    <tr>\n      <th>2</th>\n      <td>1</td>\n      <td>2</td>\n      <td>3</td>\n      <td>1</td>\n      <td>2</td>\n      <td>4</td>\n      <td>13</td>\n      <td>5</td>\n      <td>1</td>\n      <td>1</td>\n      <td>...</td>\n      <td>2</td>\n      <td>3</td>\n      <td>2</td>\n      <td>2</td>\n      <td>1</td>\n      <td>6</td>\n      <td>7</td>\n      <td>3</td>\n      <td>4</td>\n      <td>6</td>\n    </tr>\n    <tr>\n      <th>3</th>\n      <td>2</td>\n      <td>1</td>\n      <td>3</td>\n      <td>1</td>\n      <td>1</td>\n      <td>1</td>\n      <td>9</td>\n      <td>4</td>\n      <td>1</td>\n      <td>1</td>\n      <td>...</td>\n      <td>2</td>\n      <td>2</td>\n      <td>2</td>\n      <td>2</td>\n      <td>0</td>\n      <td>6</td>\n      <td>3</td>\n      <td>3</td>\n      <td>4</td>\n      <td>2</td>\n    </tr>\n    <tr>\n      <th>4</th>\n      <td>3</td>\n      <td>2</td>\n      <td>2</td>\n      <td>1</td>\n      <td>3</td>\n      <td>5</td>\n      <td>16</td>\n      <td>5</td>\n      <td>1</td>\n      <td>1</td>\n      <td>...</td>\n      <td>3</td>\n      <td>2</td>\n      <td>2</td>\n      <td>2</td>\n      <td>1</td>\n      <td>8</td>\n      <td>8</td>\n      <td>5</td>\n      <td>3</td>\n      <td>8</td>\n    </tr>\n    <tr>\n      <th>5</th>\n      <td>4</td>\n      <td>2</td>\n      <td>3</td>\n      <td>2</td>\n      <td>3</td>\n      <td>3</td>\n      <td>17</td>\n      <td>6</td>\n      <td>1</td>\n      <td>1</td>\n      <td>...</td>\n      <td>3</td>\n      <td>3</td>\n      <td>2</td>\n      <td>2</td>\n      <td>2</td>\n      <td>10</td>\n      <td>7</td>\n      <td>6</td>\n      <td>5</td>\n      <td>6</td>\n    </tr>\n    <tr>\n      <th>7</th>\n      <td>2</td>\n      <td>2</td>\n      <td>2</td>\n      <td>1</td>\n      <td>4</td>\n      <td>3</td>\n      <td>14</td>\n      <td>6</td>\n      <td>1</td>\n      <td>1</td>\n      <td>...</td>\n      <td>3</td>\n      <td>3</td>\n      <td>2</td>\n      <td>2</td>\n      <td>2</td>\n      <td>8</td>\n      <td>6</td>\n      <td>4</td>\n      <td>3</td>\n      <td>7</td>\n    </tr>\n    <tr>\n      <th>11</th>\n      <td>2</td>\n      <td>1</td>\n      <td>3</td>\n      <td>2</td>\n      <td>1</td>\n      <td>2</td>\n      <td>11</td>\n      <td>2</td>\n      <td>1</td>\n      <td>0</td>\n      <td>...</td>\n      <td>1</td>\n      <td>1</td>\n      <td>1</td>\n      <td>0</td>\n      <td>1</td>\n      <td>6</td>\n      <td>5</td>\n      <td>3</td>\n      <td>5</td>\n      <td>3</td>\n    </tr>\n    <tr>\n      <th>12</th>\n      <td>1</td>\n      <td>1</td>\n      <td>3</td>\n      <td>3</td>\n      <td>2</td>\n      <td>2</td>\n      <td>12</td>\n      <td>2</td>\n      <td>1</td>\n      <td>1</td>\n      <td>...</td>\n      <td>1</td>\n      <td>1</td>\n      <td>2</td>\n      <td>0</td>\n      <td>0</td>\n      <td>6</td>\n      <td>6</td>\n      <td>2</td>\n      <td>6</td>\n      <td>4</td>\n    </tr>\n    <tr>\n      <th>13</th>\n      <td>2</td>\n      <td>4</td>\n      <td>2</td>\n      <td>1</td>\n      <td>1</td>\n      <td>3</td>\n      <td>13</td>\n      <td>5</td>\n      <td>1</td>\n      <td>1</td>\n      <td>...</td>\n      <td>3</td>\n      <td>2</td>\n      <td>2</td>\n      <td>2</td>\n      <td>1</td>\n      <td>5</td>\n      <td>8</td>\n      <td>6</td>\n      <td>3</td>\n      <td>4</td>\n    </tr>\n    <tr>\n      <th>14</th>\n      <td>2</td>\n      <td>3</td>\n      <td>2</td>\n      <td>5</td>\n      <td>4</td>\n      <td>4</td>\n      <td>20</td>\n      <td>5</td>\n      <td>1</td>\n      <td>1</td>\n      <td>...</td>\n      <td>3</td>\n      <td>2</td>\n      <td>2</td>\n      <td>1</td>\n      <td>2</td>\n      <td>8</td>\n      <td>12</td>\n      <td>5</td>\n      <td>7</td>\n      <td>8</td>\n    </tr>\n    <tr>\n      <th>15</th>\n      <td>2</td>\n      <td>3</td>\n      <td>4</td>\n      <td>2</td>\n      <td>4</td>\n      <td>5</td>\n      <td>20</td>\n      <td>4</td>\n      <td>1</td>\n      <td>1</td>\n      <td>...</td>\n      <td>2</td>\n      <td>2</td>\n      <td>2</td>\n      <td>1</td>\n      <td>1</td>\n      <td>10</td>\n      <td>10</td>\n      <td>5</td>\n      <td>6</td>\n      <td>9</td>\n    </tr>\n    <tr>\n      <th>16</th>\n      <td>3</td>\n      <td>2</td>\n      <td>1</td>\n      <td>3</td>\n      <td>3</td>\n      <td>3</td>\n      <td>15</td>\n      <td>5</td>\n      <td>1</td>\n      <td>1</td>\n      <td>...</td>\n      <td>3</td>\n      <td>2</td>\n      <td>2</td>\n      <td>1</td>\n      <td>2</td>\n      <td>7</td>\n      <td>8</td>\n      <td>5</td>\n      <td>4</td>\n      <td>6</td>\n    </tr>\n    <tr>\n      <th>17</th>\n      <td>3</td>\n      <td>2</td>\n      <td>2</td>\n      <td>2</td>\n      <td>2</td>\n      <td>3</td>\n      <td>14</td>\n      <td>4</td>\n      <td>1</td>\n      <td>1</td>\n      <td>...</td>\n      <td>2</td>\n      <td>2</td>\n      <td>2</td>\n      <td>2</td>\n      <td>0</td>\n      <td>7</td>\n      <td>7</td>\n      <td>5</td>\n      <td>4</td>\n      <td>5</td>\n    </tr>\n    <tr>\n      <th>18</th>\n      <td>3</td>\n      <td>1</td>\n      <td>4</td>\n      <td>4</td>\n      <td>1</td>\n      <td>1</td>\n      <td>14</td>\n      <td>2</td>\n      <td>1</td>\n      <td>1</td>\n      <td>...</td>\n      <td>1</td>\n      <td>1</td>\n      <td>2</td>\n      <td>0</td>\n      <td>0</td>\n      <td>8</td>\n      <td>6</td>\n      <td>4</td>\n      <td>8</td>\n      <td>2</td>\n    </tr>\n    <tr>\n      <th>19</th>\n      <td>3</td>\n      <td>2</td>\n      <td>1</td>\n      <td>3</td>\n      <td>2</td>\n      <td>4</td>\n      <td>15</td>\n      <td>5</td>\n      <td>1</td>\n      <td>1</td>\n      <td>...</td>\n      <td>2</td>\n      <td>3</td>\n      <td>2</td>\n      <td>2</td>\n      <td>1</td>\n      <td>6</td>\n      <td>9</td>\n      <td>5</td>\n      <td>4</td>\n      <td>6</td>\n    </tr>\n    <tr>\n      <th>20</th>\n      <td>3</td>\n      <td>3</td>\n      <td>5</td>\n      <td>2</td>\n      <td>4</td>\n      <td>5</td>\n      <td>22</td>\n      <td>3</td>\n      <td>1</td>\n      <td>1</td>\n      <td>...</td>\n      <td>1</td>\n      <td>2</td>\n      <td>2</td>\n      <td>0</td>\n      <td>1</td>\n      <td>12</td>\n      <td>10</td>\n      <td>6</td>\n      <td>7</td>\n      <td>9</td>\n    </tr>\n    <tr>\n      <th>21</th>\n      <td>2</td>\n      <td>2</td>\n      <td>1</td>\n      <td>2</td>\n      <td>5</td>\n      <td>4</td>\n      <td>16</td>\n      <td>5</td>\n      <td>1</td>\n      <td>1</td>\n      <td>...</td>\n      <td>3</td>\n      <td>2</td>\n      <td>2</td>\n      <td>2</td>\n      <td>1</td>\n      <td>8</td>\n      <td>8</td>\n      <td>4</td>\n      <td>3</td>\n      <td>9</td>\n    </tr>\n    <tr>\n      <th>22</th>\n      <td>3</td>\n      <td>2</td>\n      <td>2</td>\n      <td>3</td>\n      <td>1</td>\n      <td>3</td>\n      <td>14</td>\n      <td>4</td>\n      <td>1</td>\n      <td>1</td>\n      <td>...</td>\n      <td>2</td>\n      <td>2</td>\n      <td>2</td>\n      <td>2</td>\n      <td>0</td>\n      <td>6</td>\n      <td>8</td>\n      <td>5</td>\n      <td>5</td>\n      <td>4</td>\n    </tr>\n    <tr>\n      <th>23</th>\n      <td>4</td>\n      <td>1</td>\n      <td>1</td>\n      <td>2</td>\n      <td>1</td>\n      <td>1</td>\n      <td>10</td>\n      <td>4</td>\n      <td>1</td>\n      <td>1</td>\n      <td>...</td>\n      <td>2</td>\n      <td>2</td>\n      <td>2</td>\n      <td>2</td>\n      <td>0</td>\n      <td>6</td>\n      <td>4</td>\n      <td>5</td>\n      <td>3</td>\n      <td>2</td>\n    </tr>\n    <tr>\n      <th>24</th>\n      <td>3</td>\n      <td>2</td>\n      <td>1</td>\n      <td>1</td>\n      <td>4</td>\n      <td>5</td>\n      <td>16</td>\n      <td>6</td>\n      <td>1</td>\n      <td>1</td>\n      <td>...</td>\n      <td>3</td>\n      <td>3</td>\n      <td>2</td>\n      <td>2</td>\n      <td>2</td>\n      <td>8</td>\n      <td>8</td>\n      <td>5</td>\n      <td>2</td>\n      <td>9</td>\n    </tr>\n    <tr>\n      <th>25</th>\n      <td>3</td>\n      <td>2</td>\n      <td>4</td>\n      <td>4</td>\n      <td>1</td>\n      <td>3</td>\n      <td>17</td>\n      <td>0</td>\n      <td>0</td>\n      <td>0</td>\n      <td>...</td>\n      <td>0</td>\n      <td>0</td>\n      <td>0</td>\n      <td>0</td>\n      <td>0</td>\n      <td>8</td>\n      <td>9</td>\n      <td>5</td>\n      <td>8</td>\n      <td>4</td>\n    </tr>\n    <tr>\n      <th>26</th>\n      <td>3</td>\n      <td>2</td>\n      <td>2</td>\n      <td>4</td>\n      <td>4</td>\n      <td>4</td>\n      <td>19</td>\n      <td>5</td>\n      <td>1</td>\n      <td>1</td>\n      <td>...</td>\n      <td>2</td>\n      <td>3</td>\n      <td>2</td>\n      <td>2</td>\n      <td>1</td>\n      <td>9</td>\n      <td>10</td>\n      <td>5</td>\n      <td>6</td>\n      <td>8</td>\n    </tr>\n    <tr>\n      <th>27</th>\n      <td>3</td>\n      <td>2</td>\n      <td>2</td>\n      <td>2</td>\n      <td>3</td>\n      <td>4</td>\n      <td>16</td>\n      <td>3</td>\n      <td>1</td>\n      <td>1</td>\n      <td>...</td>\n      <td>2</td>\n      <td>1</td>\n      <td>2</td>\n      <td>0</td>\n      <td>1</td>\n      <td>8</td>\n      <td>8</td>\n      <td>5</td>\n      <td>4</td>\n      <td>7</td>\n    </tr>\n    <tr>\n      <th>29</th>\n      <td>1</td>\n      <td>1</td>\n      <td>3</td>\n      <td>1</td>\n      <td>2</td>\n      <td>2</td>\n      <td>10</td>\n      <td>5</td>\n      <td>1</td>\n      <td>1</td>\n      <td>...</td>\n      <td>2</td>\n      <td>3</td>\n      <td>2</td>\n      <td>1</td>\n      <td>2</td>\n      <td>6</td>\n      <td>4</td>\n      <td>2</td>\n      <td>4</td>\n      <td>4</td>\n    </tr>\n    <tr>\n      <th>30</th>\n      <td>3</td>\n      <td>2</td>\n      <td>1</td>\n      <td>1</td>\n      <td>2</td>\n      <td>1</td>\n      <td>10</td>\n      <td>3</td>\n      <td>0</td>\n      <td>0</td>\n      <td>...</td>\n      <td>2</td>\n      <td>1</td>\n      <td>0</td>\n      <td>2</td>\n      <td>1</td>\n      <td>6</td>\n      <td>4</td>\n      <td>5</td>\n      <td>2</td>\n      <td>3</td>\n    </tr>\n    <tr>\n      <th>31</th>\n      <td>2</td>\n      <td>2</td>\n      <td>3</td>\n      <td>2</td>\n      <td>2</td>\n      <td>3</td>\n      <td>14</td>\n      <td>3</td>\n      <td>0</td>\n      <td>1</td>\n      <td>...</td>\n      <td>1</td>\n      <td>2</td>\n      <td>1</td>\n      <td>2</td>\n      <td>0</td>\n      <td>7</td>\n      <td>7</td>\n      <td>4</td>\n      <td>5</td>\n      <td>5</td>\n    </tr>\n    <tr>\n      <th>32</th>\n      <td>2</td>\n      <td>3</td>\n      <td>3</td>\n      <td>3</td>\n      <td>3</td>\n      <td>4</td>\n      <td>18</td>\n      <td>6</td>\n      <td>1</td>\n      <td>1</td>\n      <td>...</td>\n      <td>3</td>\n      <td>3</td>\n      <td>2</td>\n      <td>2</td>\n      <td>2</td>\n      <td>8</td>\n      <td>10</td>\n      <td>5</td>\n      <td>6</td>\n      <td>7</td>\n    </tr>\n    <tr>\n      <th>33</th>\n      <td>3</td>\n      <td>1</td>\n      <td>1</td>\n      <td>2</td>\n      <td>3</td>\n      <td>2</td>\n      <td>12</td>\n      <td>5</td>\n      <td>1</td>\n      <td>1</td>\n      <td>...</td>\n      <td>3</td>\n      <td>2</td>\n      <td>2</td>\n      <td>2</td>\n      <td>1</td>\n      <td>7</td>\n      <td>5</td>\n      <td>4</td>\n      <td>3</td>\n      <td>5</td>\n    </tr>\n    <tr>\n      <th>34</th>\n      <td>1</td>\n      <td>1</td>\n      <td>4</td>\n      <td>2</td>\n      <td>3</td>\n      <td>2</td>\n      <td>13</td>\n      <td>3</td>\n      <td>1</td>\n      <td>1</td>\n      <td>...</td>\n      <td>1</td>\n      <td>2</td>\n      <td>2</td>\n      <td>1</td>\n      <td>0</td>\n      <td>8</td>\n      <td>5</td>\n      <td>2</td>\n      <td>6</td>\n      <td>5</td>\n    </tr>\n    <tr>\n      <th>35</th>\n      <td>5</td>\n      <td>2</td>\n      <td>2</td>\n      <td>1</td>\n      <td>4</td>\n      <td>4</td>\n      <td>18</td>\n      <td>6</td>\n      <td>1</td>\n      <td>1</td>\n      <td>...</td>\n      <td>3</td>\n      <td>3</td>\n      <td>2</td>\n      <td>2</td>\n      <td>2</td>\n      <td>11</td>\n      <td>7</td>\n      <td>7</td>\n      <td>3</td>\n      <td>8</td>\n    </tr>\n    <tr>\n      <th>37</th>\n      <td>2</td>\n      <td>1</td>\n      <td>2</td>\n      <td>3</td>\n      <td>4</td>\n      <td>4</td>\n      <td>16</td>\n      <td>6</td>\n      <td>1</td>\n      <td>1</td>\n      <td>...</td>\n      <td>3</td>\n      <td>3</td>\n      <td>2</td>\n      <td>2</td>\n      <td>2</td>\n      <td>8</td>\n      <td>8</td>\n      <td>3</td>\n      <td>5</td>\n      <td>8</td>\n    </tr>\n    <tr>\n      <th>38</th>\n      <td>4</td>\n      <td>2</td>\n      <td>1</td>\n      <td>1</td>\n      <td>3</td>\n      <td>4</td>\n      <td>15</td>\n      <td>6</td>\n      <td>1</td>\n      <td>1</td>\n      <td>...</td>\n      <td>3</td>\n      <td>3</td>\n      <td>2</td>\n      <td>2</td>\n      <td>2</td>\n      <td>8</td>\n      <td>7</td>\n      <td>6</td>\n      <td>2</td>\n      <td>7</td>\n    </tr>\n    <tr>\n      <th>39</th>\n      <td>2</td>\n      <td>3</td>\n      <td>3</td>\n      <td>4</td>\n      <td>2</td>\n      <td>3</td>\n      <td>17</td>\n      <td>3</td>\n      <td>0</td>\n      <td>1</td>\n      <td>...</td>\n      <td>1</td>\n      <td>2</td>\n      <td>1</td>\n      <td>2</td>\n      <td>0</td>\n      <td>7</td>\n      <td>10</td>\n      <td>5</td>\n      <td>7</td>\n      <td>5</td>\n    </tr>\n    <tr>\n      <th>40</th>\n      <td>4</td>\n      <td>3</td>\n      <td>3</td>\n      <td>4</td>\n      <td>2</td>\n      <td>4</td>\n      <td>20</td>\n      <td>4</td>\n      <td>1</td>\n      <td>1</td>\n      <td>...</td>\n      <td>2</td>\n      <td>2</td>\n      <td>2</td>\n      <td>2</td>\n      <td>0</td>\n      <td>9</td>\n      <td>11</td>\n      <td>7</td>\n      <td>7</td>\n      <td>6</td>\n    </tr>\n    <tr>\n      <th>41</th>\n      <td>2</td>\n      <td>2</td>\n      <td>2</td>\n      <td>2</td>\n      <td>3</td>\n      <td>3</td>\n      <td>14</td>\n      <td>5</td>\n      <td>1</td>\n      <td>1</td>\n      <td>...</td>\n      <td>3</td>\n      <td>2</td>\n      <td>2</td>\n      <td>1</td>\n      <td>2</td>\n      <td>7</td>\n      <td>7</td>\n      <td>4</td>\n      <td>4</td>\n      <td>6</td>\n    </tr>\n    <tr>\n      <th>42</th>\n      <td>2</td>\n      <td>1</td>\n      <td>2</td>\n      <td>1</td>\n      <td>2</td>\n      <td>2</td>\n      <td>10</td>\n      <td>5</td>\n      <td>1</td>\n      <td>1</td>\n      <td>...</td>\n      <td>2</td>\n      <td>3</td>\n      <td>2</td>\n      <td>2</td>\n      <td>1</td>\n      <td>6</td>\n      <td>4</td>\n      <td>3</td>\n      <td>3</td>\n      <td>4</td>\n    </tr>\n    <tr>\n      <th>43</th>\n      <td>1</td>\n      <td>2</td>\n      <td>2</td>\n      <td>2</td>\n      <td>3</td>\n      <td>3</td>\n      <td>13</td>\n      <td>5</td>\n      <td>1</td>\n      <td>1</td>\n      <td>...</td>\n      <td>3</td>\n      <td>2</td>\n      <td>2</td>\n      <td>2</td>\n      <td>1</td>\n      <td>6</td>\n      <td>7</td>\n      <td>3</td>\n      <td>4</td>\n      <td>6</td>\n    </tr>\n    <tr>\n      <th>44</th>\n      <td>1</td>\n      <td>1</td>\n      <td>3</td>\n      <td>1</td>\n      <td>2</td>\n      <td>3</td>\n      <td>11</td>\n      <td>3</td>\n      <td>1</td>\n      <td>1</td>\n      <td>...</td>\n      <td>1</td>\n      <td>2</td>\n      <td>2</td>\n      <td>1</td>\n      <td>0</td>\n      <td>6</td>\n      <td>5</td>\n      <td>2</td>\n      <td>4</td>\n      <td>5</td>\n    </tr>\n    <tr>\n      <th>45</th>\n      <td>2</td>\n      <td>1</td>\n      <td>2</td>\n      <td>2</td>\n      <td>2</td>\n      <td>2</td>\n      <td>11</td>\n      <td>3</td>\n      <td>1</td>\n      <td>1</td>\n      <td>...</td>\n      <td>2</td>\n      <td>1</td>\n      <td>2</td>\n      <td>0</td>\n      <td>1</td>\n      <td>6</td>\n      <td>5</td>\n      <td>3</td>\n      <td>4</td>\n      <td>4</td>\n    </tr>\n    <tr>\n      <th>46</th>\n      <td>1</td>\n      <td>3</td>\n      <td>2</td>\n      <td>2</td>\n      <td>2</td>\n      <td>3</td>\n      <td>13</td>\n      <td>4</td>\n      <td>0</td>\n      <td>1</td>\n      <td>...</td>\n      <td>2</td>\n      <td>2</td>\n      <td>1</td>\n      <td>2</td>\n      <td>1</td>\n      <td>5</td>\n      <td>8</td>\n      <td>4</td>\n      <td>4</td>\n      <td>5</td>\n    </tr>\n  </tbody>\n</table>\n<p>40 rows × 24 columns</p>\n</div>"
     },
     "execution_count": 37,
     "metadata": {},
     "output_type": "execute_result"
    }
   ],
   "source": [
    "df_answers = pd.read_csv('../postprocess_data/sets/correctness.csv', index_col='ID')\n",
    "df_answers"
   ],
   "metadata": {
    "collapsed": false,
    "ExecuteTime": {
     "end_time": "2023-10-25T19:04:33.356042Z",
     "start_time": "2023-10-25T19:04:33.339293Z"
    }
   },
   "id": "2a8e4326ea92a7f4"
  },
  {
   "cell_type": "code",
   "execution_count": 38,
   "outputs": [],
   "source": [
    "# Grafiki A - wszystki elementy treści oddzielnie: mapa, polecenie \n",
    "df_1a = pd.read_csv('/Users/martasolarz/Studies/Thesis/data/metrics/AOI_fixation/1a.csv', index_col='ID')\n",
    "\n",
    "df_2a = pd.read_csv('/Users/martasolarz/Studies/Thesis/data/metrics/AOI_fixation/2a.csv',\n",
    "index_col='ID')\n",
    "\n",
    "df_3a = pd.read_csv('/Users/martasolarz/Studies/Thesis/data/metrics/AOI_fixation/3a.csv', index_col='ID')\n",
    "\n",
    "# Grafiki B - suma elementów treści (bez polecenia)\n",
    "df_1b_aggr = pd.read_csv('/Users/martasolarz/Studies/Thesis/data/metrics/AOI_fixation/1b-aggregate.csv', index_col='ID')\n",
    "\n",
    "df_2b_aggr = pd.read_csv('/Users/martasolarz/Studies/Thesis/data/metrics/AOI_fixation/2b-aggregate.csv', index_col='ID')\n",
    "\n",
    "df_3b_aggr = pd.read_csv('/Users/martasolarz/Studies/Thesis/data/metrics/AOI_fixation/3b-aggregate.csv', index_col='ID')\n",
    "\n",
    "# Grafiki B - wszystki elementy treści oddzielnie: mapa, wykres, tabela, tekst, polecenie \n",
    "df_1b = pd.read_csv('/Users/martasolarz/Studies/Thesis/data/metrics/AOI_fixation/1b.csv', index_col='ID')\n",
    "\n",
    "df_2b = pd.read_csv('/Users/martasolarz/Studies/Thesis/data/metrics/AOI_fixation/2b.csv', index_col='ID')\n",
    "\n",
    "df_3b = pd.read_csv('/Users/martasolarz/Studies/Thesis/data/metrics/AOI_fixation/3b.csv', index_col='ID')"
   ],
   "metadata": {
    "collapsed": false,
    "ExecuteTime": {
     "end_time": "2023-10-25T19:04:33.824412Z",
     "start_time": "2023-10-25T19:04:33.792149Z"
    }
   },
   "id": "970813337b9ca12f"
  },
  {
   "cell_type": "code",
   "execution_count": 39,
   "outputs": [],
   "source": [
    "df_a = pd.concat([df_1a, df_2a, df_3a], axis=1) # wszystkie elementy oddzielnie w jednym df - A\n",
    "df_b = pd.concat([df_1b, df_2b, df_3b], axis=1) # wszystkie elementy oddzielnie w jednym df - B\n",
    "df_1 = pd.concat([df_1a, df_1b], axis=1) # wszystkie elementy oddzielnie w jednym df - 1\n",
    "df_2 = pd.concat([df_2a, df_2b], axis=1) # wszystkie elementy oddzielnie w jednym df - 2\n",
    "df_3 = pd.concat([df_3a, df_3b], axis=1) # wszystkie elementy oddzielnie w jednym df - 3\n",
    "df_all = pd.concat([df_a, df_b], axis=1) # wszystkie elementy oddzielnie w jednym df - A i B\n",
    "\n",
    "df_1aaggr = df_1a.filter(regex='^(?!.*_com$).*$') # suma elementów treści (bez polecenia) - 1a\n",
    "df_1aaggr.columns = [col.replace('_map', '') for col in df_1aaggr.columns]\n",
    "df_2aaggr = df_2a.filter(regex='^(?!.*_com$).*$') # suma elementów treści (bez polecenia) - 2a\n",
    "df_2aaggr.columns = [col.replace('_map', '') for col in df_2aaggr.columns]\n",
    "df_3aaggr = df_3a.filter(regex='^(?!.*_com$).*$') # suma elementów treści (bez polecenia) - 3a\n",
    "df_3aaggr.columns = [col.replace('_map', '') for col in df_3aaggr.columns]\n",
    "df_a_aggr = pd.concat([df_1aaggr, df_2aaggr, df_3aaggr], axis=1) # suma elementów treści (bez polecenia) w jednym df: A\n",
    "\n",
    "df_1baggr = df_1b_aggr.add_suffix('_1b') # suma elementów treści (bez polecenia) - 1b\n",
    "df_2baggr = df_2b_aggr.add_suffix('_2b') # suma elementów treści (bez polecenia) - 2b\n",
    "df_3baggr = df_3b_aggr.add_suffix('_3b') # suma elementów treści (bez polecenia) - 3b\n",
    "df_b_aggr = pd.concat([df_1baggr, df_2baggr, df_3baggr], axis=1) # suma elementów treści (bez polecenia) w jednym df: B"
   ],
   "metadata": {
    "collapsed": false,
    "ExecuteTime": {
     "end_time": "2023-10-25T19:04:34.183707Z",
     "start_time": "2023-10-25T19:04:34.172624Z"
    }
   },
   "id": "c4f0f9ec3eaa2fa3"
  },
  {
   "cell_type": "code",
   "execution_count": 40,
   "outputs": [],
   "source": [
    "# zsumowane wszystkie elementy (bez polecenia): wszystkie grafiki A, B razem\n",
    "df_all_aggr = pd.concat([df_a_aggr, df_b_aggr], axis=1)"
   ],
   "metadata": {
    "collapsed": false,
    "ExecuteTime": {
     "end_time": "2023-10-25T19:04:34.534052Z",
     "start_time": "2023-10-25T19:04:34.526201Z"
    }
   },
   "id": "1763603ea75cf8bc"
  },
  {
   "cell_type": "code",
   "execution_count": 41,
   "outputs": [],
   "source": [
    "# zsumowane wszystkie elementy (z poleceniem): 1A\n",
    "total = df_1a.filter(regex='Total').sum(axis=1)\n",
    "avg = df_1a.filter(regex='^Avg_(?!pupil_)').sum(axis=1)\n",
    "avg_pupil = df_1a.filter(regex='Avg_pupil').mean(axis=1)\n",
    "num = df_1a.filter(regex='Num').sum(axis=1)\n",
    "df_1A_aggr = pd.DataFrame(data={'Total':total, 'Avg':avg, 'Avg_pupil':avg_pupil, 'Num':num}) \n",
    "\n",
    "# zsumowane wszystkie elementy (z poleceniem): 2A\n",
    "total = df_2a.filter(regex='Total').sum(axis=1)\n",
    "avg = df_2a.filter(regex='^Avg_(?!pupil_)').sum(axis=1)\n",
    "avg_pupil = df_2a.filter(regex='Avg_pupil').mean(axis=1)\n",
    "num = df_2a.filter(regex='Num').sum(axis=1)\n",
    "df_2A_aggr = pd.DataFrame(data={'Total':total, 'Avg':avg, 'Avg_pupil':avg_pupil, 'Num':num})\n",
    "\n",
    "# zsumowane wszystkie elementy (z poleceniem): 3A\n",
    "total = df_3a.filter(regex='Total').sum(axis=1)\n",
    "avg = df_3a.filter(regex='^Avg_(?!pupil_)').sum(axis=1)\n",
    "avg_pupil = df_3a.filter(regex='Avg_pupil').mean(axis=1)\n",
    "num = df_3a.filter(regex='Num').sum(axis=1)\n",
    "df_3A_aggr = pd.DataFrame(data={'Total':total, 'Avg':avg, 'Avg_pupil':avg_pupil, 'Num':num})\n",
    "\n",
    "df_1A_aggr = df_1A_aggr.add_suffix('_1a')\n",
    "df_2A_aggr = df_2A_aggr.add_suffix('_2a')\n",
    "df_3A_aggr = df_3A_aggr.add_suffix('_3a')\n",
    "\n",
    "# zsumowane wszystkie elementy (z poleceniem): 1A, 2A, 3A razem\n",
    "df_A_aggr = pd.concat([df_1A_aggr, df_2A_aggr, df_3A_aggr], axis=1)"
   ],
   "metadata": {
    "collapsed": false,
    "ExecuteTime": {
     "end_time": "2023-10-25T19:04:35.088566Z",
     "start_time": "2023-10-25T19:04:35.082846Z"
    }
   },
   "id": "9a8cdc65fd064320"
  },
  {
   "cell_type": "code",
   "execution_count": 42,
   "outputs": [],
   "source": [
    "# zsumowane wszystkie elementy (z poleceniem): 1B\n",
    "total = df_1b.filter(regex='Total').sum(axis=1)\n",
    "avg = df_1b.filter(regex='^Avg_(?!pupil_)').sum(axis=1)\n",
    "avg_pupil = df_1b.filter(regex='Avg_pupil').mean(axis=1)\n",
    "num = df_1b.filter(regex='Num').sum(axis=1)\n",
    "df_1B_aggr = pd.DataFrame(data={'Total':total, 'Avg':avg, 'Avg_pupil':avg_pupil, 'Num':num})\n",
    "\n",
    "# zsumowane wszystkie elementy (z poleceniem): 2B\n",
    "total = df_2b.filter(regex='Total').sum(axis=1)\n",
    "avg = df_2b.filter(regex='^Avg_(?!pupil_)').sum(axis=1)\n",
    "avg_pupil = df_2b.filter(regex='Avg_pupil').mean(axis=1)\n",
    "num = df_2b.filter(regex='Num').sum(axis=1)\n",
    "df_2B_aggr = pd.DataFrame(data={'Total':total, 'Avg':avg, 'Avg_pupil':avg_pupil, 'Num':num})\n",
    "\n",
    "# zsumowane wszystkie elementy (z poleceniem): 3B\n",
    "total = df_3b.filter(regex='Total').sum(axis=1)\n",
    "avg = df_3b.filter(regex='^Avg_(?!pupil_)').sum(axis=1)\n",
    "avg_pupil = df_3b.filter(regex='Avg_pupil').mean(axis=1)\n",
    "num = df_3b.filter(regex='Num').sum(axis=1)\n",
    "df_3B_aggr = pd.DataFrame(data={'Total':total, 'Avg':avg, 'Avg_pupil':avg_pupil, 'Num':num})\n",
    "\n",
    "df_1B_aggr = df_1B_aggr.add_suffix('_1b')\n",
    "df_2B_aggr = df_2B_aggr.add_suffix('_2b')\n",
    "df_3B_aggr = df_3B_aggr.add_suffix('_3b')\n",
    "\n",
    "# zsumowane wszystkie elementy (z poleceniem): 1B, 2B, 3B razem\n",
    "df_B_aggr = pd.concat([df_1B_aggr, df_2B_aggr, df_3B_aggr], axis=1) "
   ],
   "metadata": {
    "collapsed": false,
    "ExecuteTime": {
     "end_time": "2023-10-25T19:04:35.447631Z",
     "start_time": "2023-10-25T19:04:35.442667Z"
    }
   },
   "id": "76f94ed98e47fe5c"
  },
  {
   "cell_type": "code",
   "execution_count": 43,
   "outputs": [],
   "source": [
    "# zsumowane wszystkie elementy (z poleceniem): wszystkie grafiki A, B razem\n",
    "df_ALL_aggr = pd.concat([df_A_aggr, df_B_aggr], axis=1)"
   ],
   "metadata": {
    "collapsed": false,
    "ExecuteTime": {
     "end_time": "2023-10-25T19:04:35.800601Z",
     "start_time": "2023-10-25T19:04:35.796079Z"
    }
   },
   "id": "600b2bf39797d5dc"
  },
  {
   "cell_type": "code",
   "execution_count": 44,
   "outputs": [],
   "source": [
    "# zsumowane wszystkie elementy (z poleceniem): grafiki 1\n",
    "total = df_ALL_aggr.filter(regex='Total_1').sum(axis=1)\n",
    "avg = df_ALL_aggr.filter(regex='Avg_1').sum(axis=1)\n",
    "avg_pupil = df_ALL_aggr.filter(regex='Avg_pupil_1').mean(axis=1)\n",
    "num = df_ALL_aggr.filter(regex='Num_1').sum(axis=1)\n",
    "df_1_AGGR = pd.DataFrame(data={'Total':total, 'Avg':avg, 'Avg_pupil':avg_pupil, 'Num':num})\n",
    "\n",
    "# zsumowane wszystkie elementy (z poleceniem): grafiki 2\n",
    "total = df_ALL_aggr.filter(regex='Total_2').sum(axis=1)\n",
    "avg = df_ALL_aggr.filter(regex='Avg_2').sum(axis=1)\n",
    "avg_pupil = df_ALL_aggr.filter(regex='Avg_pupil_2').mean(axis=1)\n",
    "num = df_ALL_aggr.filter(regex='Num_2').sum(axis=1)\n",
    "df_2_AGGR = pd.DataFrame(data={'Total':total, 'Avg':avg, 'Avg_pupil':avg_pupil, 'Num':num})\n",
    "\n",
    "# zsumowane wszystkie elementy (z poleceniem): grafiki 3\n",
    "total = df_ALL_aggr.filter(regex='Total_3').sum(axis=1)\n",
    "avg = df_ALL_aggr.filter(regex='Avg_3').sum(axis=1)\n",
    "avg_pupil = df_ALL_aggr.filter(regex='Avg_pupil_3').mean(axis=1)\n",
    "num = df_ALL_aggr.filter(regex='Num_3').sum(axis=1)\n",
    "df_3_AGGR = pd.DataFrame(data={'Total':total, 'Avg':avg, 'Avg_pupil':avg_pupil, 'Num':num})"
   ],
   "metadata": {
    "collapsed": false,
    "ExecuteTime": {
     "end_time": "2023-10-25T19:04:35.814032Z",
     "start_time": "2023-10-25T19:04:35.803758Z"
    }
   },
   "id": "792709ab30db1fb4"
  },
  {
   "cell_type": "code",
   "execution_count": 45,
   "outputs": [],
   "source": [
    "# zsumowane wszystkie elementy (bez polecenia): grafiki 1\n",
    "total = df_all_aggr.filter(regex='Total_1').sum(axis=1)\n",
    "avg = df_all_aggr.filter(regex='Avg_1').sum(axis=1)\n",
    "avg_pupil = df_all_aggr.filter(regex='Avg_pupil_1').mean(axis=1)\n",
    "num = df_all_aggr.filter(regex='Num_1').sum(axis=1)\n",
    "df_1_aggr = pd.DataFrame(data={'Total':total, 'Avg':avg, 'Avg_pupil':avg_pupil, 'Num':num})\n",
    "\n",
    "# zsumowane wszystkie elementy (bez poleceniem): grafiki 2\n",
    "total = df_all_aggr.filter(regex='Total_2').sum(axis=1)\n",
    "avg = df_all_aggr.filter(regex='Avg_2').sum(axis=1)\n",
    "avg_pupil = df_all_aggr.filter(regex='Avg_pupil_2').mean(axis=1)\n",
    "num = df_all_aggr.filter(regex='Num_2').sum(axis=1)\n",
    "df_2_aggr = pd.DataFrame(data={'Total':total, 'Avg':avg, 'Avg_pupil':avg_pupil, 'Num':num})\n",
    "\n",
    "# zsumowane wszystkie elementy (bez poleceniem): grafiki 3\n",
    "total = df_all_aggr.filter(regex='Total_3').sum(axis=1)\n",
    "avg = df_all_aggr.filter(regex='Avg_3').sum(axis=1)\n",
    "avg_pupil = df_all_aggr.filter(regex='Avg_pupil_3').mean(axis=1)\n",
    "num = df_all_aggr.filter(regex='Num_3').sum(axis=1)\n",
    "df_3_aggr = pd.DataFrame(data={'Total':total, 'Avg':avg, 'Avg_pupil':avg_pupil, 'Num':num})"
   ],
   "metadata": {
    "collapsed": false,
    "ExecuteTime": {
     "end_time": "2023-10-25T19:04:36.188710Z",
     "start_time": "2023-10-25T19:04:36.163321Z"
    }
   },
   "id": "633643a9883ec33d"
  },
  {
   "cell_type": "code",
   "execution_count": 46,
   "outputs": [
    {
     "name": "stderr",
     "output_type": "stream",
     "text": [
      "/var/folders/vw/8y99f8gn61ddx6t8ck0zm6ch0000gn/T/ipykernel_10664/3770569904.py:4: PerformanceWarning: DataFrame is highly fragmented.  This is usually the result of calling `frame.insert` many times, which has poor performance.  Consider joining all columns at once using pd.concat(axis=1) instead. To get a de-fragmented frame, use `newframe = frame.copy()`\n",
      "  df_all[corr.columns] = corr\n",
      "/var/folders/vw/8y99f8gn61ddx6t8ck0zm6ch0000gn/T/ipykernel_10664/3770569904.py:4: PerformanceWarning: DataFrame is highly fragmented.  This is usually the result of calling `frame.insert` many times, which has poor performance.  Consider joining all columns at once using pd.concat(axis=1) instead. To get a de-fragmented frame, use `newframe = frame.copy()`\n",
      "  df_all[corr.columns] = corr\n",
      "/var/folders/vw/8y99f8gn61ddx6t8ck0zm6ch0000gn/T/ipykernel_10664/3770569904.py:4: PerformanceWarning: DataFrame is highly fragmented.  This is usually the result of calling `frame.insert` many times, which has poor performance.  Consider joining all columns at once using pd.concat(axis=1) instead. To get a de-fragmented frame, use `newframe = frame.copy()`\n",
      "  df_all[corr.columns] = corr\n",
      "/var/folders/vw/8y99f8gn61ddx6t8ck0zm6ch0000gn/T/ipykernel_10664/3770569904.py:4: PerformanceWarning: DataFrame is highly fragmented.  This is usually the result of calling `frame.insert` many times, which has poor performance.  Consider joining all columns at once using pd.concat(axis=1) instead. To get a de-fragmented frame, use `newframe = frame.copy()`\n",
      "  df_all[corr.columns] = corr\n",
      "/var/folders/vw/8y99f8gn61ddx6t8ck0zm6ch0000gn/T/ipykernel_10664/3770569904.py:4: PerformanceWarning: DataFrame is highly fragmented.  This is usually the result of calling `frame.insert` many times, which has poor performance.  Consider joining all columns at once using pd.concat(axis=1) instead. To get a de-fragmented frame, use `newframe = frame.copy()`\n",
      "  df_all[corr.columns] = corr\n",
      "/var/folders/vw/8y99f8gn61ddx6t8ck0zm6ch0000gn/T/ipykernel_10664/3770569904.py:4: PerformanceWarning: DataFrame is highly fragmented.  This is usually the result of calling `frame.insert` many times, which has poor performance.  Consider joining all columns at once using pd.concat(axis=1) instead. To get a de-fragmented frame, use `newframe = frame.copy()`\n",
      "  df_all[corr.columns] = corr\n",
      "/var/folders/vw/8y99f8gn61ddx6t8ck0zm6ch0000gn/T/ipykernel_10664/3770569904.py:5: PerformanceWarning: DataFrame is highly fragmented.  This is usually the result of calling `frame.insert` many times, which has poor performance.  Consider joining all columns at once using pd.concat(axis=1) instead. To get a de-fragmented frame, use `newframe = frame.copy()`\n",
      "  df_all[trud.columns] = trud;\n",
      "/var/folders/vw/8y99f8gn61ddx6t8ck0zm6ch0000gn/T/ipykernel_10664/3770569904.py:5: PerformanceWarning: DataFrame is highly fragmented.  This is usually the result of calling `frame.insert` many times, which has poor performance.  Consider joining all columns at once using pd.concat(axis=1) instead. To get a de-fragmented frame, use `newframe = frame.copy()`\n",
      "  df_all[trud.columns] = trud;\n",
      "/var/folders/vw/8y99f8gn61ddx6t8ck0zm6ch0000gn/T/ipykernel_10664/3770569904.py:5: PerformanceWarning: DataFrame is highly fragmented.  This is usually the result of calling `frame.insert` many times, which has poor performance.  Consider joining all columns at once using pd.concat(axis=1) instead. To get a de-fragmented frame, use `newframe = frame.copy()`\n",
      "  df_all[trud.columns] = trud;\n",
      "/var/folders/vw/8y99f8gn61ddx6t8ck0zm6ch0000gn/T/ipykernel_10664/3770569904.py:5: PerformanceWarning: DataFrame is highly fragmented.  This is usually the result of calling `frame.insert` many times, which has poor performance.  Consider joining all columns at once using pd.concat(axis=1) instead. To get a de-fragmented frame, use `newframe = frame.copy()`\n",
      "  df_all[trud.columns] = trud;\n",
      "/var/folders/vw/8y99f8gn61ddx6t8ck0zm6ch0000gn/T/ipykernel_10664/3770569904.py:5: PerformanceWarning: DataFrame is highly fragmented.  This is usually the result of calling `frame.insert` many times, which has poor performance.  Consider joining all columns at once using pd.concat(axis=1) instead. To get a de-fragmented frame, use `newframe = frame.copy()`\n",
      "  df_all[trud.columns] = trud;\n",
      "/var/folders/vw/8y99f8gn61ddx6t8ck0zm6ch0000gn/T/ipykernel_10664/3770569904.py:5: PerformanceWarning: DataFrame is highly fragmented.  This is usually the result of calling `frame.insert` many times, which has poor performance.  Consider joining all columns at once using pd.concat(axis=1) instead. To get a de-fragmented frame, use `newframe = frame.copy()`\n",
      "  df_all[trud.columns] = trud;\n"
     ]
    }
   ],
   "source": [
    "# SET: wszystkie elementy treści osobno: A - map, com; B - map, plt, tab, text, com; corr; trud\n",
    "corr = df_answers.filter(regex='.+_corr$')\n",
    "trud = df_answers.filter(regex='.+_trud$')\n",
    "df_all[corr.columns] = corr\n",
    "df_all[trud.columns] = trud;\n",
    "\n",
    "regex = re.compile(r'^Last_AOI_[^_]+_(?!map)')\n",
    "columns_to_drop = [col for col in df_all.columns if regex.match(col)]\n",
    "df_all.drop(columns=columns_to_drop, inplace=True)\n",
    "df_all.columns = [col.replace('_map', '') if col.startswith('Last_AOI_') else col for col in df_all.columns];"
   ],
   "metadata": {
    "collapsed": false,
    "ExecuteTime": {
     "end_time": "2023-10-25T19:04:36.202161Z",
     "start_time": "2023-10-25T19:04:36.198339Z"
    }
   },
   "id": "4059f5d2c960ef11"
  },
  {
   "cell_type": "code",
   "execution_count": 47,
   "outputs": [],
   "source": [
    "# SET: wszystkie elementy treści zsumowane (z poleceniem oraz bez polecenia): dla każdego zadania\n",
    "corr = df_answers.filter(regex='.+_corr$')\n",
    "trud = df_answers.filter(regex='.+_trud$')\n",
    "\n",
    "df_all_with_com = pd.concat([df_answers[corr.columns], df_answers[trud.columns], df_A_aggr, df_B_aggr], axis=1)\n",
    "\n",
    "df_all_without_com = pd.concat([df_answers[corr.columns], df_answers[trud.columns], df_a_aggr, df_b_aggr], axis=1)"
   ],
   "metadata": {
    "collapsed": false,
    "ExecuteTime": {
     "end_time": "2023-10-25T19:04:36.565545Z",
     "start_time": "2023-10-25T19:04:36.547899Z"
    }
   },
   "id": "73a0fea80ae4bb9b"
  },
  {
   "cell_type": "code",
   "execution_count": 48,
   "outputs": [],
   "source": [
    "def create_sum_sets(dfWithCom, dfWithoutCom, dfAllElements, corr, trud):\n",
    "    total = dfWithCom.filter(regex='Total').sum(axis=1)\n",
    "    avg = dfWithCom.filter(regex='^Avg_(?!pupil_)').sum(axis=1)\n",
    "    avg_pupil = dfWithCom.filter(regex='Avg_pupil').mean(axis=1)\n",
    "    num = dfWithCom.filter(regex='Num').sum(axis=1)\n",
    "    df_sumWithCom = pd.DataFrame(data={'Corr': df_answers[corr], 'Trud': df_answers[trud], 'Total':total, 'Avg':avg, 'Num':num, 'Avg_pupil':avg_pupil})\n",
    "\n",
    "    total = dfWithoutCom.filter(regex='Total').sum(axis=1)\n",
    "    avg = dfWithoutCom.filter(regex='^Avg_(?!pupil_)').sum(axis=1)\n",
    "    avg_pupil = dfWithoutCom.filter(regex='Avg_pupil').mean(axis=1)\n",
    "    num = dfWithoutCom.filter(regex='Num').sum(axis=1)\n",
    "    df_sumWithoutCom = pd.DataFrame(data={'Corr': df_answers[corr], 'Trud': df_answers[trud], 'Total':total, 'Avg':avg, 'Num':num, 'Avg_pupil':avg_pupil})\n",
    "\n",
    "    total = dfAllElements.filter(regex='^Total_.*_com$').sum(axis=1)\n",
    "    avg = dfAllElements.filter(regex='^Avg_(?!pupil_).*_com$').sum(axis=1)\n",
    "    avg_pupil = dfAllElements.filter(regex='^Avg_pupil_.*_com$').mean(axis=1)\n",
    "    num = dfAllElements.filter(regex='^Num_.*_com$').sum(axis=1)\n",
    "    df_sumOnlyCom = pd.DataFrame(data={'Corr': df_answers[corr], 'Trud': df_answers[trud], 'Total':total, 'Avg':avg, 'Num':num, 'Avg_pupil':avg_pupil})\n",
    "    \n",
    "    return df_sumWithCom, df_sumWithoutCom, df_sumOnlyCom"
   ],
   "metadata": {
    "collapsed": false,
    "ExecuteTime": {
     "end_time": "2023-10-25T19:04:37.217158Z",
     "start_time": "2023-10-25T19:04:37.199646Z"
    }
   },
   "id": "58be8383273bf768"
  },
  {
   "cell_type": "code",
   "execution_count": 49,
   "outputs": [],
   "source": [
    "# SETY: \n",
    "# suma wszystkich elementów\n",
    "df_sumAllWithCom, df_sumAllWithoutCom, df_sumAllOnlyCom = create_sum_sets(df_all_with_com, df_all_without_com, df_all, 'Corr_all', 'Trud_all')\n",
    "\n",
    "# suma A\n",
    "df_sumAWithCom, df_sumAWithoutCom, df_sumAOnlyCom = create_sum_sets(df_A_aggr, df_a_aggr, df_a, 'SumCorr_a', 'SumTrud_a')\n",
    "\n",
    "# suma B\n",
    "df_sumBWithCom, df_sumBWithoutCom, df_sumBOnlyCom = create_sum_sets(df_B_aggr, df_b_aggr, df_b, 'SumCorr_b', 'SumTrud_b')\n",
    "\n",
    "# suma 1\n",
    "df_sum1WithCom, df_sum1WithoutCom, df_sum1OnlyCom = create_sum_sets(df_1_AGGR, df_1_aggr, df_1, 'SumCorr_1', 'SumTrud_1')\n",
    "\n",
    "# suma 2\n",
    "df_sum2WithCom, df_sum2WithoutCom, df_sum2OnlyCom = create_sum_sets(df_2_AGGR, df_2_aggr, df_2, 'SumCorr_2', 'SumTrud_2')\n",
    "\n",
    "# suma 3\n",
    "df_sum3WithCom, df_sum3WithoutCom, df_sum3OnlyCom = create_sum_sets(df_3_AGGR, df_3_aggr, df_3, 'SumCorr_3', 'SumTrud_3')"
   ],
   "metadata": {
    "collapsed": false,
    "ExecuteTime": {
     "end_time": "2023-10-25T19:04:37.772699Z",
     "start_time": "2023-10-25T19:04:37.731036Z"
    }
   },
   "id": "a84bfe36f54bb9b"
  },
  {
   "cell_type": "code",
   "execution_count": 50,
   "outputs": [],
   "source": [
    "def create_collection_sets(dfWithCom, dfWithoutCom, dfAllElements, corr_regex, trud_regex):\n",
    "    corr = prepare_row_df(df_all_with_com.filter(regex=corr_regex))\n",
    "    trud = prepare_row_df(df_all_with_com.filter(regex=trud_regex))\n",
    "\n",
    "    total = prepare_row_df(dfWithCom.filter(regex='Total'))\n",
    "    avg = prepare_row_df(dfWithCom.filter(regex='Avg_(?!pupil_)'))\n",
    "    avg_pupil = prepare_row_df(dfWithCom.filter(regex='Avg_pupil'))\n",
    "    num = prepare_row_df(dfWithCom.filter(regex='Num'))\n",
    "    df_collWithCom = pd.DataFrame(data={'Corr': corr, 'Trud': trud, 'Total':total, 'Avg':avg, 'Num':num, 'Avg_pupil':avg_pupil})\n",
    "\n",
    "    total = prepare_row_df(dfWithoutCom.filter(regex='Total'))\n",
    "    avg = prepare_row_df(dfWithoutCom.filter(regex='Avg_(?!pupil_)'))\n",
    "    avg_pupil = prepare_row_df(dfWithoutCom.filter(regex='Avg_pupil'))\n",
    "    num = prepare_row_df(dfWithoutCom.filter(regex='Num'))\n",
    "    df_collWithoutCom = pd.DataFrame(data={'Corr': corr, 'Trud': trud, 'Total':total, 'Avg':avg, 'Num':num, 'Avg_pupil':avg_pupil})\n",
    "\n",
    "    total = prepare_row_df(dfAllElements.filter(regex='^Total_.*_com$'))\n",
    "    avg = prepare_row_df(dfAllElements.filter(regex='^Avg_(?!pupil_).*_com$'))\n",
    "    avg_pupil = prepare_row_df(dfAllElements.filter(regex='^Avg_pupil_.*_com$'))\n",
    "    num = prepare_row_df(dfAllElements.filter(regex='^Num_.*_com$'))\n",
    "    df_collOnlyCom = pd.DataFrame(data={'Corr': corr, 'Trud': trud, 'Total':total, 'Avg':avg, 'Num':num, 'Avg_pupil':avg_pupil})\n",
    "    \n",
    "    return df_collWithCom, df_collWithoutCom, df_collOnlyCom"
   ],
   "metadata": {
    "collapsed": false,
    "ExecuteTime": {
     "end_time": "2023-10-25T19:04:38.242736Z",
     "start_time": "2023-10-25T19:04:38.235071Z"
    }
   },
   "id": "161fd9626ede7784"
  },
  {
   "cell_type": "code",
   "execution_count": 52,
   "outputs": [
    {
     "data": {
      "text/plain": "    Total_1a_map  Avg_1a_map  Min_1a_map  Max_1a_map  Num_1a_map  TTF_1a_map  \\\nID                                                                             \n46          3133       104.0        67.0       242.0          30      6905.0   \n37         36009       187.0         0.0       542.0         193         0.0   \n23         13774        98.0        66.0       217.0         140      5240.0   \n40         42868       213.0        67.0       650.0         201         0.0   \n19         33214       242.0         9.0       633.0         137         0.0   \n31         26340       204.0        32.0       567.0         129         0.0   \n38         31338       162.0        67.0       700.0         194         0.0   \n35         79503       209.0        67.0       675.0         381       243.0   \n42         37827       156.0        66.0       592.0         242        96.0   \n14         26252       167.0        67.0       525.0         157       637.0   \n3          42533       205.0        67.0       708.0         207      1432.0   \n33         36572       214.0        67.0       833.0         171      4230.0   \n39         23226       250.0        67.0       825.0          93       282.0   \n16         23107       206.0        67.0       600.0         112         0.0   \n43         16274       173.0        67.0       558.0          94       209.0   \n15         51524       243.0        15.0      1008.0         212         0.0   \n5          50265       224.0        67.0      1058.0         224       111.0   \n27         41376       194.0        16.0      1525.0         213         0.0   \n12         34373       212.0        66.0      1200.0         162         0.0   \n4          31196       190.0        67.0       658.0         164      2896.0   \n41         31561       236.0        29.0       617.0         134        72.0   \n7          37060       181.0        67.0       608.0         205         0.0   \n29         53780       300.0        67.0      2341.0         179         0.0   \n30         23514       155.0        67.0       475.0         152      5262.0   \n24         27239       176.0        67.0      1250.0         155      2681.0   \n32         24141       228.0        75.0       683.0         106       118.0   \n20         28973       243.0        17.0       725.0         119         0.0   \n1          20959       198.0        67.0       650.0         106       165.0   \n25         49658       257.0        92.0       917.0         193         0.0   \n21         36505       206.0        67.0       658.0         177      4561.0   \n17         19949       198.0        67.0       642.0         101      2916.0   \n11         40824       213.0        67.0       826.0         192         0.0   \n45         29647       249.0        75.0       833.0         119      3132.0   \n34         27448       142.0        66.0       467.0         193       126.0   \n13         16712       257.0        92.0       650.0          65         0.0   \n44         39417       246.0        67.0       958.0         160         0.0   \n18         17504       159.0        67.0       550.0         110       320.0   \n22         39687       205.0        67.0       567.0         194       205.0   \n26         30773       175.0        67.0       567.0         176      2853.0   \n2          47105       266.0        67.0      1508.0         177      9915.0   \n\n    DTTF_1a_map Last_AOI_1a_map AOI_int_end_1a_map  Avg_pupil_1a_map  \\\nID                                                                     \n46         75.0          1a_com                NaN           2.96666   \n37          0.0          1a_map             1a_map           2.90671   \n23         83.0          1a_map                NaN           4.18933   \n40        238.0          1a_map                NaN           3.47541   \n19          9.0          1a_map                NaN           3.83562   \n31        145.0          1a_map             1a_map           2.99505   \n38        292.0          1a_com             1a_com           3.18883   \n35        183.0          1a_com                NaN           3.37629   \n42         67.0          1a_com                NaN           4.40725   \n14         92.0          1a_map             1a_map           3.76177   \n3         158.0          1a_map             1a_map           3.28107   \n33        158.0          1a_map                NaN           3.31058   \n39        300.0          1a_map             1a_map           2.98856   \n16        226.0          1a_map             1a_map           3.18612   \n43        183.0          1a_map                NaN           3.20957   \n15        279.0          1a_map             1a_map           2.96600   \n5         108.0          1a_com             1a_com           3.93404   \n27         19.0          1a_map             1a_map           3.59745   \n12        191.0          1a_map             1a_map           3.47511   \n4         117.0          1a_map                NaN           2.83266   \n41        133.0          1a_map             1a_map           3.05751   \n7         136.0          1a_map             1a_map           3.79088   \n29         84.0          1a_map             1a_map           3.38404   \n30        142.0          1a_map                NaN           3.48722   \n24        158.0          1a_com                NaN           4.13377   \n32        158.0          1a_map             1a_map           3.72992   \n20         17.0          1a_map             1a_map           3.35461   \n1          83.0          1a_map             1a_map           3.27306   \n25        189.0          1a_map             1a_map           4.07411   \n21        192.0          1a_map             1a_map           3.14119   \n17        158.0          1a_map                NaN           3.04606   \n11        134.0          1a_map             1a_map           3.85294   \n45        292.0          1a_map                NaN           3.47936   \n34         75.0          1a_map                NaN           3.65973   \n13        198.0          1a_map                NaN           3.43486   \n44        217.0          1a_map             1a_map           3.56612   \n18        100.0          1a_map             1a_map           3.39105   \n22        233.0          1a_map                NaN           2.88282   \n26        267.0          1a_com             1a_com           3.26060   \n2         175.0          1a_map                NaN           2.84907   \n\n    Total_1a_com  Avg_1a_com  Min_1a_com  Max_1a_com  Num_1a_com  TTF_1a_com  \\\nID                                                                             \n46          1666       111.0        66.0       233.0          15      2630.0   \n37             0         NaN         NaN         NaN           0         NaN   \n23          1950       115.0        67.0       283.0          17       824.0   \n40           558        93.0        67.0       125.0           6      1104.0   \n19          2000       143.0        67.0       300.0          14       350.0   \n31          8141       239.0        92.0       533.0          34       411.0   \n38           785       157.0        83.0       308.0           5      2083.0   \n35          2617       138.0        75.0       317.0          19       876.0   \n42          3325       145.0        67.0       275.0          23       196.0   \n14          1184       132.0        83.0       208.0           9       212.0   \n3            425       142.0        92.0       200.0           3       282.0   \n33          3466       165.0        67.0       325.0          21       422.0   \n39          9232       185.0        66.0       433.0          50      1024.0   \n16          1800       164.0        75.0       475.0          11       584.0   \n43             0         NaN         NaN         NaN           0         NaN   \n15          4208       191.0        75.0       333.0          22       512.0   \n5           4949       247.0        75.0       842.0          20       253.0   \n27          2433       187.0        83.0       333.0          13       461.0   \n12           100       100.0       100.0       100.0           1      1265.0   \n4           2375       158.0        67.0       250.0          15       205.0   \n41          5141       214.0       100.0       300.0          24       256.0   \n7           2217       130.0        67.0       258.0          17       352.0   \n29          5116       233.0        75.0       517.0          22       634.0   \n30           875       175.0        67.0       450.0           5       346.0   \n24          1900       119.0        67.0       242.0          16       210.0   \n32           883       126.0        83.0       233.0           7       326.0   \n20          2917       194.0        83.0       300.0          15      1551.0   \n1            750       150.0        67.0       242.0           5       498.0   \n25         11332       236.0        67.0       625.0          48       781.0   \n21             0         NaN         NaN         NaN           0         NaN   \n17           800       267.0       108.0       358.0           3        83.0   \n11          1175       196.0        92.0       283.0           6      1859.0   \n45          1900       158.0        75.0       258.0          12       769.0   \n34          2191       157.0        75.0       350.0          14       451.0   \n13          5816       208.0        67.0       692.0          28       456.0   \n44          2967       212.0        67.0       400.0          14       925.0   \n18          1158       129.0        67.0       217.0           9      1466.0   \n22          9824       246.0        75.0       475.0          40       814.0   \n26           181       181.0       181.0       181.0           1     47583.0   \n2           8500       250.0        83.0      1083.0          34       182.0   \n\n    DTTF_1a_com Last_AOI_1a_com AOI_int_end_1a_com  Avg_pupil_1a_com  \nID                                                                    \n46        108.0          1a_com                NaN           2.91639  \n37          NaN          1a_map             1a_map               NaN  \n23         92.0          1a_map                NaN           4.29518  \n40        100.0          1a_map                NaN           3.44126  \n19         83.0          1a_map                NaN           3.90341  \n31        125.0          1a_map             1a_map           2.96409  \n38        308.0          1a_com             1a_com           3.03834  \n35         83.0          1a_com                NaN           3.40619  \n42        125.0          1a_com                NaN           4.54866  \n14        125.0          1a_map             1a_map           4.07490  \n3         200.0          1a_map             1a_map           3.25782  \n33         83.0          1a_map                NaN           3.48884  \n39        200.0          1a_map             1a_map           3.09950  \n16        475.0          1a_map             1a_map           3.61916  \n43          NaN          1a_map                NaN               NaN  \n15        150.0          1a_map             1a_map           2.85735  \n5         158.0          1a_com             1a_com           3.81731  \n27         83.0          1a_map             1a_map           3.55934  \n12        100.0          1a_map             1a_map           3.08098  \n4          67.0          1a_map                NaN           2.80216  \n41        158.0          1a_map             1a_map           2.92914  \n7         150.0          1a_map             1a_map           4.09232  \n29        458.0          1a_map             1a_map           3.47666  \n30        133.0          1a_map                NaN           3.32014  \n24        117.0          1a_com                NaN           4.26621  \n32        175.0          1a_map             1a_map           3.98340  \n20        292.0          1a_map             1a_map           3.25937  \n1         242.0          1a_map             1a_map           3.32400  \n25        183.0          1a_map             1a_map           3.98915  \n21          NaN          1a_map             1a_map               NaN  \n17        108.0          1a_map                NaN           2.98314  \n11        183.0          1a_map             1a_map           3.81978  \n45        100.0          1a_map                NaN           3.52750  \n34        125.0          1a_map                NaN           3.63439  \n13         67.0          1a_map                NaN           3.50130  \n44        208.0          1a_map             1a_map           3.87336  \n18        117.0          1a_map             1a_map           3.33884  \n22         92.0          1a_map                NaN           2.77142  \n26        181.0          1a_com             1a_com           3.43595  \n2         108.0          1a_map                NaN           2.94130  ",
      "text/html": "<div>\n<style scoped>\n    .dataframe tbody tr th:only-of-type {\n        vertical-align: middle;\n    }\n\n    .dataframe tbody tr th {\n        vertical-align: top;\n    }\n\n    .dataframe thead th {\n        text-align: right;\n    }\n</style>\n<table border=\"1\" class=\"dataframe\">\n  <thead>\n    <tr style=\"text-align: right;\">\n      <th></th>\n      <th>Total_1a_map</th>\n      <th>Avg_1a_map</th>\n      <th>Min_1a_map</th>\n      <th>Max_1a_map</th>\n      <th>Num_1a_map</th>\n      <th>TTF_1a_map</th>\n      <th>DTTF_1a_map</th>\n      <th>Last_AOI_1a_map</th>\n      <th>AOI_int_end_1a_map</th>\n      <th>Avg_pupil_1a_map</th>\n      <th>Total_1a_com</th>\n      <th>Avg_1a_com</th>\n      <th>Min_1a_com</th>\n      <th>Max_1a_com</th>\n      <th>Num_1a_com</th>\n      <th>TTF_1a_com</th>\n      <th>DTTF_1a_com</th>\n      <th>Last_AOI_1a_com</th>\n      <th>AOI_int_end_1a_com</th>\n      <th>Avg_pupil_1a_com</th>\n    </tr>\n    <tr>\n      <th>ID</th>\n      <th></th>\n      <th></th>\n      <th></th>\n      <th></th>\n      <th></th>\n      <th></th>\n      <th></th>\n      <th></th>\n      <th></th>\n      <th></th>\n      <th></th>\n      <th></th>\n      <th></th>\n      <th></th>\n      <th></th>\n      <th></th>\n      <th></th>\n      <th></th>\n      <th></th>\n      <th></th>\n    </tr>\n  </thead>\n  <tbody>\n    <tr>\n      <th>46</th>\n      <td>3133</td>\n      <td>104.0</td>\n      <td>67.0</td>\n      <td>242.0</td>\n      <td>30</td>\n      <td>6905.0</td>\n      <td>75.0</td>\n      <td>1a_com</td>\n      <td>NaN</td>\n      <td>2.96666</td>\n      <td>1666</td>\n      <td>111.0</td>\n      <td>66.0</td>\n      <td>233.0</td>\n      <td>15</td>\n      <td>2630.0</td>\n      <td>108.0</td>\n      <td>1a_com</td>\n      <td>NaN</td>\n      <td>2.91639</td>\n    </tr>\n    <tr>\n      <th>37</th>\n      <td>36009</td>\n      <td>187.0</td>\n      <td>0.0</td>\n      <td>542.0</td>\n      <td>193</td>\n      <td>0.0</td>\n      <td>0.0</td>\n      <td>1a_map</td>\n      <td>1a_map</td>\n      <td>2.90671</td>\n      <td>0</td>\n      <td>NaN</td>\n      <td>NaN</td>\n      <td>NaN</td>\n      <td>0</td>\n      <td>NaN</td>\n      <td>NaN</td>\n      <td>1a_map</td>\n      <td>1a_map</td>\n      <td>NaN</td>\n    </tr>\n    <tr>\n      <th>23</th>\n      <td>13774</td>\n      <td>98.0</td>\n      <td>66.0</td>\n      <td>217.0</td>\n      <td>140</td>\n      <td>5240.0</td>\n      <td>83.0</td>\n      <td>1a_map</td>\n      <td>NaN</td>\n      <td>4.18933</td>\n      <td>1950</td>\n      <td>115.0</td>\n      <td>67.0</td>\n      <td>283.0</td>\n      <td>17</td>\n      <td>824.0</td>\n      <td>92.0</td>\n      <td>1a_map</td>\n      <td>NaN</td>\n      <td>4.29518</td>\n    </tr>\n    <tr>\n      <th>40</th>\n      <td>42868</td>\n      <td>213.0</td>\n      <td>67.0</td>\n      <td>650.0</td>\n      <td>201</td>\n      <td>0.0</td>\n      <td>238.0</td>\n      <td>1a_map</td>\n      <td>NaN</td>\n      <td>3.47541</td>\n      <td>558</td>\n      <td>93.0</td>\n      <td>67.0</td>\n      <td>125.0</td>\n      <td>6</td>\n      <td>1104.0</td>\n      <td>100.0</td>\n      <td>1a_map</td>\n      <td>NaN</td>\n      <td>3.44126</td>\n    </tr>\n    <tr>\n      <th>19</th>\n      <td>33214</td>\n      <td>242.0</td>\n      <td>9.0</td>\n      <td>633.0</td>\n      <td>137</td>\n      <td>0.0</td>\n      <td>9.0</td>\n      <td>1a_map</td>\n      <td>NaN</td>\n      <td>3.83562</td>\n      <td>2000</td>\n      <td>143.0</td>\n      <td>67.0</td>\n      <td>300.0</td>\n      <td>14</td>\n      <td>350.0</td>\n      <td>83.0</td>\n      <td>1a_map</td>\n      <td>NaN</td>\n      <td>3.90341</td>\n    </tr>\n    <tr>\n      <th>31</th>\n      <td>26340</td>\n      <td>204.0</td>\n      <td>32.0</td>\n      <td>567.0</td>\n      <td>129</td>\n      <td>0.0</td>\n      <td>145.0</td>\n      <td>1a_map</td>\n      <td>1a_map</td>\n      <td>2.99505</td>\n      <td>8141</td>\n      <td>239.0</td>\n      <td>92.0</td>\n      <td>533.0</td>\n      <td>34</td>\n      <td>411.0</td>\n      <td>125.0</td>\n      <td>1a_map</td>\n      <td>1a_map</td>\n      <td>2.96409</td>\n    </tr>\n    <tr>\n      <th>38</th>\n      <td>31338</td>\n      <td>162.0</td>\n      <td>67.0</td>\n      <td>700.0</td>\n      <td>194</td>\n      <td>0.0</td>\n      <td>292.0</td>\n      <td>1a_com</td>\n      <td>1a_com</td>\n      <td>3.18883</td>\n      <td>785</td>\n      <td>157.0</td>\n      <td>83.0</td>\n      <td>308.0</td>\n      <td>5</td>\n      <td>2083.0</td>\n      <td>308.0</td>\n      <td>1a_com</td>\n      <td>1a_com</td>\n      <td>3.03834</td>\n    </tr>\n    <tr>\n      <th>35</th>\n      <td>79503</td>\n      <td>209.0</td>\n      <td>67.0</td>\n      <td>675.0</td>\n      <td>381</td>\n      <td>243.0</td>\n      <td>183.0</td>\n      <td>1a_com</td>\n      <td>NaN</td>\n      <td>3.37629</td>\n      <td>2617</td>\n      <td>138.0</td>\n      <td>75.0</td>\n      <td>317.0</td>\n      <td>19</td>\n      <td>876.0</td>\n      <td>83.0</td>\n      <td>1a_com</td>\n      <td>NaN</td>\n      <td>3.40619</td>\n    </tr>\n    <tr>\n      <th>42</th>\n      <td>37827</td>\n      <td>156.0</td>\n      <td>66.0</td>\n      <td>592.0</td>\n      <td>242</td>\n      <td>96.0</td>\n      <td>67.0</td>\n      <td>1a_com</td>\n      <td>NaN</td>\n      <td>4.40725</td>\n      <td>3325</td>\n      <td>145.0</td>\n      <td>67.0</td>\n      <td>275.0</td>\n      <td>23</td>\n      <td>196.0</td>\n      <td>125.0</td>\n      <td>1a_com</td>\n      <td>NaN</td>\n      <td>4.54866</td>\n    </tr>\n    <tr>\n      <th>14</th>\n      <td>26252</td>\n      <td>167.0</td>\n      <td>67.0</td>\n      <td>525.0</td>\n      <td>157</td>\n      <td>637.0</td>\n      <td>92.0</td>\n      <td>1a_map</td>\n      <td>1a_map</td>\n      <td>3.76177</td>\n      <td>1184</td>\n      <td>132.0</td>\n      <td>83.0</td>\n      <td>208.0</td>\n      <td>9</td>\n      <td>212.0</td>\n      <td>125.0</td>\n      <td>1a_map</td>\n      <td>1a_map</td>\n      <td>4.07490</td>\n    </tr>\n    <tr>\n      <th>3</th>\n      <td>42533</td>\n      <td>205.0</td>\n      <td>67.0</td>\n      <td>708.0</td>\n      <td>207</td>\n      <td>1432.0</td>\n      <td>158.0</td>\n      <td>1a_map</td>\n      <td>1a_map</td>\n      <td>3.28107</td>\n      <td>425</td>\n      <td>142.0</td>\n      <td>92.0</td>\n      <td>200.0</td>\n      <td>3</td>\n      <td>282.0</td>\n      <td>200.0</td>\n      <td>1a_map</td>\n      <td>1a_map</td>\n      <td>3.25782</td>\n    </tr>\n    <tr>\n      <th>33</th>\n      <td>36572</td>\n      <td>214.0</td>\n      <td>67.0</td>\n      <td>833.0</td>\n      <td>171</td>\n      <td>4230.0</td>\n      <td>158.0</td>\n      <td>1a_map</td>\n      <td>NaN</td>\n      <td>3.31058</td>\n      <td>3466</td>\n      <td>165.0</td>\n      <td>67.0</td>\n      <td>325.0</td>\n      <td>21</td>\n      <td>422.0</td>\n      <td>83.0</td>\n      <td>1a_map</td>\n      <td>NaN</td>\n      <td>3.48884</td>\n    </tr>\n    <tr>\n      <th>39</th>\n      <td>23226</td>\n      <td>250.0</td>\n      <td>67.0</td>\n      <td>825.0</td>\n      <td>93</td>\n      <td>282.0</td>\n      <td>300.0</td>\n      <td>1a_map</td>\n      <td>1a_map</td>\n      <td>2.98856</td>\n      <td>9232</td>\n      <td>185.0</td>\n      <td>66.0</td>\n      <td>433.0</td>\n      <td>50</td>\n      <td>1024.0</td>\n      <td>200.0</td>\n      <td>1a_map</td>\n      <td>1a_map</td>\n      <td>3.09950</td>\n    </tr>\n    <tr>\n      <th>16</th>\n      <td>23107</td>\n      <td>206.0</td>\n      <td>67.0</td>\n      <td>600.0</td>\n      <td>112</td>\n      <td>0.0</td>\n      <td>226.0</td>\n      <td>1a_map</td>\n      <td>1a_map</td>\n      <td>3.18612</td>\n      <td>1800</td>\n      <td>164.0</td>\n      <td>75.0</td>\n      <td>475.0</td>\n      <td>11</td>\n      <td>584.0</td>\n      <td>475.0</td>\n      <td>1a_map</td>\n      <td>1a_map</td>\n      <td>3.61916</td>\n    </tr>\n    <tr>\n      <th>43</th>\n      <td>16274</td>\n      <td>173.0</td>\n      <td>67.0</td>\n      <td>558.0</td>\n      <td>94</td>\n      <td>209.0</td>\n      <td>183.0</td>\n      <td>1a_map</td>\n      <td>NaN</td>\n      <td>3.20957</td>\n      <td>0</td>\n      <td>NaN</td>\n      <td>NaN</td>\n      <td>NaN</td>\n      <td>0</td>\n      <td>NaN</td>\n      <td>NaN</td>\n      <td>1a_map</td>\n      <td>NaN</td>\n      <td>NaN</td>\n    </tr>\n    <tr>\n      <th>15</th>\n      <td>51524</td>\n      <td>243.0</td>\n      <td>15.0</td>\n      <td>1008.0</td>\n      <td>212</td>\n      <td>0.0</td>\n      <td>279.0</td>\n      <td>1a_map</td>\n      <td>1a_map</td>\n      <td>2.96600</td>\n      <td>4208</td>\n      <td>191.0</td>\n      <td>75.0</td>\n      <td>333.0</td>\n      <td>22</td>\n      <td>512.0</td>\n      <td>150.0</td>\n      <td>1a_map</td>\n      <td>1a_map</td>\n      <td>2.85735</td>\n    </tr>\n    <tr>\n      <th>5</th>\n      <td>50265</td>\n      <td>224.0</td>\n      <td>67.0</td>\n      <td>1058.0</td>\n      <td>224</td>\n      <td>111.0</td>\n      <td>108.0</td>\n      <td>1a_com</td>\n      <td>1a_com</td>\n      <td>3.93404</td>\n      <td>4949</td>\n      <td>247.0</td>\n      <td>75.0</td>\n      <td>842.0</td>\n      <td>20</td>\n      <td>253.0</td>\n      <td>158.0</td>\n      <td>1a_com</td>\n      <td>1a_com</td>\n      <td>3.81731</td>\n    </tr>\n    <tr>\n      <th>27</th>\n      <td>41376</td>\n      <td>194.0</td>\n      <td>16.0</td>\n      <td>1525.0</td>\n      <td>213</td>\n      <td>0.0</td>\n      <td>19.0</td>\n      <td>1a_map</td>\n      <td>1a_map</td>\n      <td>3.59745</td>\n      <td>2433</td>\n      <td>187.0</td>\n      <td>83.0</td>\n      <td>333.0</td>\n      <td>13</td>\n      <td>461.0</td>\n      <td>83.0</td>\n      <td>1a_map</td>\n      <td>1a_map</td>\n      <td>3.55934</td>\n    </tr>\n    <tr>\n      <th>12</th>\n      <td>34373</td>\n      <td>212.0</td>\n      <td>66.0</td>\n      <td>1200.0</td>\n      <td>162</td>\n      <td>0.0</td>\n      <td>191.0</td>\n      <td>1a_map</td>\n      <td>1a_map</td>\n      <td>3.47511</td>\n      <td>100</td>\n      <td>100.0</td>\n      <td>100.0</td>\n      <td>100.0</td>\n      <td>1</td>\n      <td>1265.0</td>\n      <td>100.0</td>\n      <td>1a_map</td>\n      <td>1a_map</td>\n      <td>3.08098</td>\n    </tr>\n    <tr>\n      <th>4</th>\n      <td>31196</td>\n      <td>190.0</td>\n      <td>67.0</td>\n      <td>658.0</td>\n      <td>164</td>\n      <td>2896.0</td>\n      <td>117.0</td>\n      <td>1a_map</td>\n      <td>NaN</td>\n      <td>2.83266</td>\n      <td>2375</td>\n      <td>158.0</td>\n      <td>67.0</td>\n      <td>250.0</td>\n      <td>15</td>\n      <td>205.0</td>\n      <td>67.0</td>\n      <td>1a_map</td>\n      <td>NaN</td>\n      <td>2.80216</td>\n    </tr>\n    <tr>\n      <th>41</th>\n      <td>31561</td>\n      <td>236.0</td>\n      <td>29.0</td>\n      <td>617.0</td>\n      <td>134</td>\n      <td>72.0</td>\n      <td>133.0</td>\n      <td>1a_map</td>\n      <td>1a_map</td>\n      <td>3.05751</td>\n      <td>5141</td>\n      <td>214.0</td>\n      <td>100.0</td>\n      <td>300.0</td>\n      <td>24</td>\n      <td>256.0</td>\n      <td>158.0</td>\n      <td>1a_map</td>\n      <td>1a_map</td>\n      <td>2.92914</td>\n    </tr>\n    <tr>\n      <th>7</th>\n      <td>37060</td>\n      <td>181.0</td>\n      <td>67.0</td>\n      <td>608.0</td>\n      <td>205</td>\n      <td>0.0</td>\n      <td>136.0</td>\n      <td>1a_map</td>\n      <td>1a_map</td>\n      <td>3.79088</td>\n      <td>2217</td>\n      <td>130.0</td>\n      <td>67.0</td>\n      <td>258.0</td>\n      <td>17</td>\n      <td>352.0</td>\n      <td>150.0</td>\n      <td>1a_map</td>\n      <td>1a_map</td>\n      <td>4.09232</td>\n    </tr>\n    <tr>\n      <th>29</th>\n      <td>53780</td>\n      <td>300.0</td>\n      <td>67.0</td>\n      <td>2341.0</td>\n      <td>179</td>\n      <td>0.0</td>\n      <td>84.0</td>\n      <td>1a_map</td>\n      <td>1a_map</td>\n      <td>3.38404</td>\n      <td>5116</td>\n      <td>233.0</td>\n      <td>75.0</td>\n      <td>517.0</td>\n      <td>22</td>\n      <td>634.0</td>\n      <td>458.0</td>\n      <td>1a_map</td>\n      <td>1a_map</td>\n      <td>3.47666</td>\n    </tr>\n    <tr>\n      <th>30</th>\n      <td>23514</td>\n      <td>155.0</td>\n      <td>67.0</td>\n      <td>475.0</td>\n      <td>152</td>\n      <td>5262.0</td>\n      <td>142.0</td>\n      <td>1a_map</td>\n      <td>NaN</td>\n      <td>3.48722</td>\n      <td>875</td>\n      <td>175.0</td>\n      <td>67.0</td>\n      <td>450.0</td>\n      <td>5</td>\n      <td>346.0</td>\n      <td>133.0</td>\n      <td>1a_map</td>\n      <td>NaN</td>\n      <td>3.32014</td>\n    </tr>\n    <tr>\n      <th>24</th>\n      <td>27239</td>\n      <td>176.0</td>\n      <td>67.0</td>\n      <td>1250.0</td>\n      <td>155</td>\n      <td>2681.0</td>\n      <td>158.0</td>\n      <td>1a_com</td>\n      <td>NaN</td>\n      <td>4.13377</td>\n      <td>1900</td>\n      <td>119.0</td>\n      <td>67.0</td>\n      <td>242.0</td>\n      <td>16</td>\n      <td>210.0</td>\n      <td>117.0</td>\n      <td>1a_com</td>\n      <td>NaN</td>\n      <td>4.26621</td>\n    </tr>\n    <tr>\n      <th>32</th>\n      <td>24141</td>\n      <td>228.0</td>\n      <td>75.0</td>\n      <td>683.0</td>\n      <td>106</td>\n      <td>118.0</td>\n      <td>158.0</td>\n      <td>1a_map</td>\n      <td>1a_map</td>\n      <td>3.72992</td>\n      <td>883</td>\n      <td>126.0</td>\n      <td>83.0</td>\n      <td>233.0</td>\n      <td>7</td>\n      <td>326.0</td>\n      <td>175.0</td>\n      <td>1a_map</td>\n      <td>1a_map</td>\n      <td>3.98340</td>\n    </tr>\n    <tr>\n      <th>20</th>\n      <td>28973</td>\n      <td>243.0</td>\n      <td>17.0</td>\n      <td>725.0</td>\n      <td>119</td>\n      <td>0.0</td>\n      <td>17.0</td>\n      <td>1a_map</td>\n      <td>1a_map</td>\n      <td>3.35461</td>\n      <td>2917</td>\n      <td>194.0</td>\n      <td>83.0</td>\n      <td>300.0</td>\n      <td>15</td>\n      <td>1551.0</td>\n      <td>292.0</td>\n      <td>1a_map</td>\n      <td>1a_map</td>\n      <td>3.25937</td>\n    </tr>\n    <tr>\n      <th>1</th>\n      <td>20959</td>\n      <td>198.0</td>\n      <td>67.0</td>\n      <td>650.0</td>\n      <td>106</td>\n      <td>165.0</td>\n      <td>83.0</td>\n      <td>1a_map</td>\n      <td>1a_map</td>\n      <td>3.27306</td>\n      <td>750</td>\n      <td>150.0</td>\n      <td>67.0</td>\n      <td>242.0</td>\n      <td>5</td>\n      <td>498.0</td>\n      <td>242.0</td>\n      <td>1a_map</td>\n      <td>1a_map</td>\n      <td>3.32400</td>\n    </tr>\n    <tr>\n      <th>25</th>\n      <td>49658</td>\n      <td>257.0</td>\n      <td>92.0</td>\n      <td>917.0</td>\n      <td>193</td>\n      <td>0.0</td>\n      <td>189.0</td>\n      <td>1a_map</td>\n      <td>1a_map</td>\n      <td>4.07411</td>\n      <td>11332</td>\n      <td>236.0</td>\n      <td>67.0</td>\n      <td>625.0</td>\n      <td>48</td>\n      <td>781.0</td>\n      <td>183.0</td>\n      <td>1a_map</td>\n      <td>1a_map</td>\n      <td>3.98915</td>\n    </tr>\n    <tr>\n      <th>21</th>\n      <td>36505</td>\n      <td>206.0</td>\n      <td>67.0</td>\n      <td>658.0</td>\n      <td>177</td>\n      <td>4561.0</td>\n      <td>192.0</td>\n      <td>1a_map</td>\n      <td>1a_map</td>\n      <td>3.14119</td>\n      <td>0</td>\n      <td>NaN</td>\n      <td>NaN</td>\n      <td>NaN</td>\n      <td>0</td>\n      <td>NaN</td>\n      <td>NaN</td>\n      <td>1a_map</td>\n      <td>1a_map</td>\n      <td>NaN</td>\n    </tr>\n    <tr>\n      <th>17</th>\n      <td>19949</td>\n      <td>198.0</td>\n      <td>67.0</td>\n      <td>642.0</td>\n      <td>101</td>\n      <td>2916.0</td>\n      <td>158.0</td>\n      <td>1a_map</td>\n      <td>NaN</td>\n      <td>3.04606</td>\n      <td>800</td>\n      <td>267.0</td>\n      <td>108.0</td>\n      <td>358.0</td>\n      <td>3</td>\n      <td>83.0</td>\n      <td>108.0</td>\n      <td>1a_map</td>\n      <td>NaN</td>\n      <td>2.98314</td>\n    </tr>\n    <tr>\n      <th>11</th>\n      <td>40824</td>\n      <td>213.0</td>\n      <td>67.0</td>\n      <td>826.0</td>\n      <td>192</td>\n      <td>0.0</td>\n      <td>134.0</td>\n      <td>1a_map</td>\n      <td>1a_map</td>\n      <td>3.85294</td>\n      <td>1175</td>\n      <td>196.0</td>\n      <td>92.0</td>\n      <td>283.0</td>\n      <td>6</td>\n      <td>1859.0</td>\n      <td>183.0</td>\n      <td>1a_map</td>\n      <td>1a_map</td>\n      <td>3.81978</td>\n    </tr>\n    <tr>\n      <th>45</th>\n      <td>29647</td>\n      <td>249.0</td>\n      <td>75.0</td>\n      <td>833.0</td>\n      <td>119</td>\n      <td>3132.0</td>\n      <td>292.0</td>\n      <td>1a_map</td>\n      <td>NaN</td>\n      <td>3.47936</td>\n      <td>1900</td>\n      <td>158.0</td>\n      <td>75.0</td>\n      <td>258.0</td>\n      <td>12</td>\n      <td>769.0</td>\n      <td>100.0</td>\n      <td>1a_map</td>\n      <td>NaN</td>\n      <td>3.52750</td>\n    </tr>\n    <tr>\n      <th>34</th>\n      <td>27448</td>\n      <td>142.0</td>\n      <td>66.0</td>\n      <td>467.0</td>\n      <td>193</td>\n      <td>126.0</td>\n      <td>75.0</td>\n      <td>1a_map</td>\n      <td>NaN</td>\n      <td>3.65973</td>\n      <td>2191</td>\n      <td>157.0</td>\n      <td>75.0</td>\n      <td>350.0</td>\n      <td>14</td>\n      <td>451.0</td>\n      <td>125.0</td>\n      <td>1a_map</td>\n      <td>NaN</td>\n      <td>3.63439</td>\n    </tr>\n    <tr>\n      <th>13</th>\n      <td>16712</td>\n      <td>257.0</td>\n      <td>92.0</td>\n      <td>650.0</td>\n      <td>65</td>\n      <td>0.0</td>\n      <td>198.0</td>\n      <td>1a_map</td>\n      <td>NaN</td>\n      <td>3.43486</td>\n      <td>5816</td>\n      <td>208.0</td>\n      <td>67.0</td>\n      <td>692.0</td>\n      <td>28</td>\n      <td>456.0</td>\n      <td>67.0</td>\n      <td>1a_map</td>\n      <td>NaN</td>\n      <td>3.50130</td>\n    </tr>\n    <tr>\n      <th>44</th>\n      <td>39417</td>\n      <td>246.0</td>\n      <td>67.0</td>\n      <td>958.0</td>\n      <td>160</td>\n      <td>0.0</td>\n      <td>217.0</td>\n      <td>1a_map</td>\n      <td>1a_map</td>\n      <td>3.56612</td>\n      <td>2967</td>\n      <td>212.0</td>\n      <td>67.0</td>\n      <td>400.0</td>\n      <td>14</td>\n      <td>925.0</td>\n      <td>208.0</td>\n      <td>1a_map</td>\n      <td>1a_map</td>\n      <td>3.87336</td>\n    </tr>\n    <tr>\n      <th>18</th>\n      <td>17504</td>\n      <td>159.0</td>\n      <td>67.0</td>\n      <td>550.0</td>\n      <td>110</td>\n      <td>320.0</td>\n      <td>100.0</td>\n      <td>1a_map</td>\n      <td>1a_map</td>\n      <td>3.39105</td>\n      <td>1158</td>\n      <td>129.0</td>\n      <td>67.0</td>\n      <td>217.0</td>\n      <td>9</td>\n      <td>1466.0</td>\n      <td>117.0</td>\n      <td>1a_map</td>\n      <td>1a_map</td>\n      <td>3.33884</td>\n    </tr>\n    <tr>\n      <th>22</th>\n      <td>39687</td>\n      <td>205.0</td>\n      <td>67.0</td>\n      <td>567.0</td>\n      <td>194</td>\n      <td>205.0</td>\n      <td>233.0</td>\n      <td>1a_map</td>\n      <td>NaN</td>\n      <td>2.88282</td>\n      <td>9824</td>\n      <td>246.0</td>\n      <td>75.0</td>\n      <td>475.0</td>\n      <td>40</td>\n      <td>814.0</td>\n      <td>92.0</td>\n      <td>1a_map</td>\n      <td>NaN</td>\n      <td>2.77142</td>\n    </tr>\n    <tr>\n      <th>26</th>\n      <td>30773</td>\n      <td>175.0</td>\n      <td>67.0</td>\n      <td>567.0</td>\n      <td>176</td>\n      <td>2853.0</td>\n      <td>267.0</td>\n      <td>1a_com</td>\n      <td>1a_com</td>\n      <td>3.26060</td>\n      <td>181</td>\n      <td>181.0</td>\n      <td>181.0</td>\n      <td>181.0</td>\n      <td>1</td>\n      <td>47583.0</td>\n      <td>181.0</td>\n      <td>1a_com</td>\n      <td>1a_com</td>\n      <td>3.43595</td>\n    </tr>\n    <tr>\n      <th>2</th>\n      <td>47105</td>\n      <td>266.0</td>\n      <td>67.0</td>\n      <td>1508.0</td>\n      <td>177</td>\n      <td>9915.0</td>\n      <td>175.0</td>\n      <td>1a_map</td>\n      <td>NaN</td>\n      <td>2.84907</td>\n      <td>8500</td>\n      <td>250.0</td>\n      <td>83.0</td>\n      <td>1083.0</td>\n      <td>34</td>\n      <td>182.0</td>\n      <td>108.0</td>\n      <td>1a_map</td>\n      <td>NaN</td>\n      <td>2.94130</td>\n    </tr>\n  </tbody>\n</table>\n</div>"
     },
     "execution_count": 52,
     "metadata": {},
     "output_type": "execute_result"
    }
   ],
   "source": [
    "# SETY: \n",
    "# collections: wszystkie\n",
    "df_collAllWithCom, df_collAllWithoutCom, df_collAllOnlyCom = create_collection_sets(df_all_with_com, df_all_without_com, df_all, '.+_corr$', '.+_trud$')\n",
    "\n",
    "# collections: A\n",
    "df_collAWithCom, df_collAWithoutCom, df_collAOnlyCom = create_collection_sets(df_A_aggr, df_a_aggr, df_a, '.+a_corr$', '.+a_trud$')\n",
    "\n",
    "# collections: B\n",
    "df_collBWithCom, df_collBWithoutCom, df_collBOnlyCom = create_collection_sets(df_B_aggr, df_b_aggr, df_b, '.+b_corr$', '.+b_trud$')\n",
    "\n",
    "# collections: 1\n",
    "df_coll1WithCom, df_coll1WithoutCom, df_coll1OnlyCom = create_collection_sets(df_1_AGGR, df_1_aggr, df_1, '^1.*_corr$', '^1.*_trud$')\n",
    "\n",
    "# collections: 2\n",
    "df_coll2WithCom, df_coll2WithoutCom, df_coll2OnlyCom = create_collection_sets(df_2_AGGR, df_2_aggr, df_2, '^2.*_corr$', '^2.*_trud$')\n",
    "\n",
    "# collections: 3\n",
    "df_coll3WithCom, df_coll3WithoutCom, df_coll3OnlyCom = create_collection_sets(df_3_AGGR, df_3_aggr, df_3, '^3.*_corr$', '^3.*_trud$')\n",
    "df_1a"
   ],
   "metadata": {
    "collapsed": false,
    "ExecuteTime": {
     "end_time": "2023-10-25T19:04:48.162205Z",
     "start_time": "2023-10-25T19:04:48.108431Z"
    }
   },
   "id": "5178ddf7f5ae0465"
  },
  {
   "cell_type": "code",
   "execution_count": 58,
   "outputs": [],
   "source": [
    "def prepare_graphic_set(df, pattern):    \n",
    "    regex = [re.compile('Min'), re.compile('Max'), re.compile('DTTF'), re.compile('TTF'), re.compile('AOI_int_end'), re.compile('^Last_AOI_[^_]+_(?!map)')]\n",
    "    columns_to_drop = [col for col in df.columns if any(pat.search(col) for pat in regex)]\n",
    "    df.drop(columns=columns_to_drop, inplace=True)\n",
    "    df.columns = [col.replace('_map', '') if col.startswith('Last_AOI_') else col for col in df.columns]\n",
    "    df.columns = [col.replace(f'_{pattern}', '') for col in df.columns]\n",
    "    return df"
   ],
   "metadata": {
    "collapsed": false,
    "ExecuteTime": {
     "end_time": "2023-10-25T19:07:28.091938Z",
     "start_time": "2023-10-25T19:07:28.060047Z"
    }
   },
   "id": "cdd1454201b28a1f"
  },
  {
   "cell_type": "code",
   "execution_count": 61,
   "outputs": [],
   "source": [
    "# SET: wszystkie elementy\n",
    "df_1a_samples = prepare_graphic_set(df_1a, \"1a\")\n",
    "df_2a_samples = prepare_graphic_set(df_2a, \"2a\")\n",
    "df_3a_samples = prepare_graphic_set(df_3a, \"3a\")\n",
    "df_1b_samples = prepare_graphic_set(df_1b, \"1b\")\n",
    "df_2b_samples = prepare_graphic_set(df_2b, \"2b\")\n",
    "df_3b_samples = prepare_graphic_set(df_3b, \"3b\")"
   ],
   "metadata": {
    "collapsed": false,
    "ExecuteTime": {
     "end_time": "2023-10-25T19:08:02.222325Z",
     "start_time": "2023-10-25T19:08:02.199513Z"
    }
   },
   "id": "5ab10237d766cb00"
  },
  {
   "cell_type": "code",
   "execution_count": 72,
   "outputs": [
    {
     "name": "stdout",
     "output_type": "stream",
     "text": [
      "1a\n",
      "Avg_pupil_map: 0 - tyle osób ani razu nie spojrzało na ten element\n",
      "Avg_pupil_com: 3 - tyle osób ani razu nie spojrzało na ten element\n",
      "1b\n",
      "Avg_pupil_map: 1 - tyle osób ani razu nie spojrzało na ten element\n",
      "Avg_pupil_com: 3 - tyle osób ani razu nie spojrzało na ten element\n",
      "Avg_pupil_plt: 5 - tyle osób ani razu nie spojrzało na ten element\n",
      "Avg_pupil_tab: 1 - tyle osób ani razu nie spojrzało na ten element\n",
      "Avg_pupil_txt: 12 - tyle osób ani razu nie spojrzało na ten element\n",
      "2a\n",
      "Avg_pupil_map: 0 - tyle osób ani razu nie spojrzało na ten element\n",
      "Avg_pupil_com: 1 - tyle osób ani razu nie spojrzało na ten element\n",
      "2b\n",
      "Avg_pupil_map: 0 - tyle osób ani razu nie spojrzało na ten element\n",
      "Avg_pupil_com: 1 - tyle osób ani razu nie spojrzało na ten element\n",
      "Avg_pupil_plt: 5 - tyle osób ani razu nie spojrzało na ten element\n",
      "Avg_pupil_tab: 1 - tyle osób ani razu nie spojrzało na ten element\n",
      "Avg_pupil_txt: 1 - tyle osób ani razu nie spojrzało na ten element\n",
      "3a\n",
      "Avg_pupil_map: 0 - tyle osób ani razu nie spojrzało na ten element\n",
      "Avg_pupil_com: 4 - tyle osób ani razu nie spojrzało na ten element\n",
      "3b\n",
      "Avg_pupil_map: 0 - tyle osób ani razu nie spojrzało na ten element\n",
      "Avg_pupil_com: 1 - tyle osób ani razu nie spojrzało na ten element\n",
      "Avg_pupil_plt: 0 - tyle osób ani razu nie spojrzało na ten element\n",
      "Avg_pupil_tab: 0 - tyle osób ani razu nie spojrzało na ten element\n",
      "Avg_pupil_txt: 7 - tyle osób ani razu nie spojrzało na ten element\n"
     ]
    }
   ],
   "source": [
    "# Analiza NaNów\n",
    "def print_nans(df):\n",
    "    for col in df.filter(regex='Avg_pupil').columns:\n",
    "        print(f\"{col}: {df[col].isna().sum()} - tyle osób ani razu nie spojrzało na ten element\")\n",
    "    \n",
    "    \n",
    "for df, id in zip([df_1a_samples, df_1b_samples, df_2a_samples, df_2b_samples, df_3a_samples, df_3b_samples], ['1a', '1b', '2a', '2b', '3a', '3b']):\n",
    "    print(id)\n",
    "    print_nans(df)"
   ],
   "metadata": {
    "collapsed": false,
    "ExecuteTime": {
     "end_time": "2023-10-25T19:16:59.181422Z",
     "start_time": "2023-10-25T19:16:59.153045Z"
    }
   },
   "id": "7bb6aca017a5d1de"
  },
  {
   "cell_type": "code",
   "execution_count": 76,
   "outputs": [],
   "source": [
    "dfs_sum = [df_sumAllWithCom, df_sumAllWithoutCom, df_sumAllOnlyCom, df_sumAWithCom, df_sumAWithoutCom, df_sumAOnlyCom, df_sumBWithCom, df_sumBWithoutCom, df_sumBOnlyCom, df_sum1WithCom, df_sum1WithoutCom, df_sum1OnlyCom, df_sum2WithCom, df_sum2WithoutCom, df_sum2OnlyCom, df_sum3WithCom, df_sum3WithoutCom, df_sum3OnlyCom]\n",
    "\n",
    "dfs_coll = [df_collAllWithCom, df_collAllWithoutCom, df_collAllOnlyCom, df_collAWithCom, df_collAWithoutCom, df_collAOnlyCom, df_collBWithCom, df_collBWithoutCom, df_collBOnlyCom, df_coll1WithCom, df_coll1WithoutCom, df_coll1OnlyCom, df_coll2WithCom, df_coll2WithoutCom, df_coll2OnlyCom, df_coll3WithCom, df_coll3WithoutCom, df_coll3OnlyCom]\n",
    "\n",
    "dfs_samples = [df_1a_samples, df_1b_samples, df_2a_samples, df_2b_samples, df_3a_samples, df_3b_samples]\n",
    "\n",
    "names_sum = {\n",
    "    1: 'Zsumowane wszystkie grafiki: z poleceniem:',\n",
    "    2: 'Zsumowane wszystkie grafiki: bez polecenia:',\n",
    "    3: 'Zsumowane wszystkie grafiki: tylko polecenie :',\n",
    "    4: 'Zsumowane grafiki A: z poleceniem:',\n",
    "    5: 'Zsumowane grafiki A: bez polecenia:',\n",
    "    6: 'Zsumowane grafiki A: tylko polecenie :',\n",
    "    7: 'Zsumowane grafiki B: z poleceniem:',\n",
    "    8: 'Zsumowane grafiki B: bez polecenia:',\n",
    "    9: 'Zsumowane grafiki B: tylko polecenie :',\n",
    "    10: 'Zsumowane grafiki 1: z poleceniem:',\n",
    "    11: 'Zsumowane grafiki 1: bez polecenia:',\n",
    "    12: 'Zsumowane grafiki 1: tylko polecenie :',\n",
    "    13: 'Zsumowane grafiki 2: z poleceniem:',\n",
    "    14: 'Zsumowane grafiki 2: bez polecenia:',\n",
    "    15: 'Zsumowane grafiki 2: tylko polecenie :',\n",
    "    16: 'Zsumowane grafiki 3: z poleceniem:',\n",
    "    17: 'Zsumowane grafiki 3: bez polecenia:',\n",
    "    18: 'Zsumowane grafiki 3: tylko polecenie :',\n",
    "}\n",
    "\n",
    "names_coll = {\n",
    "    1: 'Kolekcja wszystkie grafiki: z poleceniem:',\n",
    "    2: 'Kolekcja wszystkie grafiki: bez polecenia:',\n",
    "    3: 'Kolekcja wszystkie grafiki: tylko polecenie :',\n",
    "    4: 'Kolekcja grafiki A: z poleceniem:',\n",
    "    5: 'Kolekcja grafiki A: bez polecenia:',\n",
    "    6: 'Kolekcja grafiki A: tylko polecenie :',\n",
    "    7: 'Kolekcja grafiki B: z poleceniem:',\n",
    "    8: 'Kolekcja grafiki B: bez polecenia:',\n",
    "    9: 'Kolekcja grafiki B: tylko polecenie :',\n",
    "    10: 'Kolekcja grafiki 1: z poleceniem:',\n",
    "    11: 'Kolekcja grafiki 1: bez polecenia:',\n",
    "    12: 'Kolekcja grafiki 1: tylko polecenie :',\n",
    "    13: 'Kolekcja grafiki 2: z poleceniem:',\n",
    "    14: 'Kolekcja grafiki 2: bez polecenia:',\n",
    "    15: 'Kolekcja grafiki 2: tylko polecenie :',\n",
    "    16: 'Kolekcja grafiki 3: z poleceniem:',\n",
    "    17: 'Kolekcja grafiki 3: bez polecenia:',\n",
    "    18: 'Kolekcja grafiki 3: tylko polecenie :',\n",
    "}\n",
    "\n",
    "names_samples = {\n",
    "    1: '1a',\n",
    "    2: '1b',\n",
    "    3: '2a',\n",
    "    4: '2b',\n",
    "    5: '3a',\n",
    "    6: '3b',\n",
    "}"
   ],
   "metadata": {
    "collapsed": false,
    "ExecuteTime": {
     "end_time": "2023-10-23T20:58:12.508299Z",
     "start_time": "2023-10-23T20:58:12.478544Z"
    }
   },
   "id": "bdb8913f43630740"
  },
  {
   "cell_type": "markdown",
   "source": [
    "### Testy:\n",
    "\n",
    "**H0:** Nie ma istotnej statystycznie zależności między poprawnością odpowiedzi a daną metryką dotyczącą fiksacji.\n",
    "\n",
    "**H1:** Istnieje istotna statystycznie zależność między poprawnością odpowiedzi a daną metryką dotyczącą fiksacji.\n",
    "\n",
    "**Poziom istotności:** $\\alpha=0.05$"
   ],
   "metadata": {
    "collapsed": false
   },
   "id": "96c9e4805db75a2b"
  },
  {
   "cell_type": "code",
   "execution_count": 55,
   "outputs": [],
   "source": [
    "ALPHA = 0.05"
   ],
   "metadata": {
    "collapsed": false,
    "ExecuteTime": {
     "end_time": "2023-10-23T20:54:24.795563Z",
     "start_time": "2023-10-23T20:54:24.766685Z"
    }
   },
   "id": "23f14d575a8961e9"
  },
  {
   "cell_type": "code",
   "execution_count": null,
   "outputs": [],
   "source": [],
   "metadata": {
    "collapsed": false
   },
   "id": "70486d20813ef7cf"
  }
 ],
 "metadata": {
  "kernelspec": {
   "display_name": "Python 3",
   "language": "python",
   "name": "python3"
  },
  "language_info": {
   "codemirror_mode": {
    "name": "ipython",
    "version": 2
   },
   "file_extension": ".py",
   "mimetype": "text/x-python",
   "name": "python",
   "nbconvert_exporter": "python",
   "pygments_lexer": "ipython2",
   "version": "2.7.6"
  }
 },
 "nbformat": 4,
 "nbformat_minor": 5
}
