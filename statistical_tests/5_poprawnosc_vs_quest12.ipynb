{
 "cells": [
  {
   "cell_type": "markdown",
   "source": [
    "# Temat testów\n",
    "### Czy istnieje istotna statystycznie różnica w poprawności odpowiedzi w zależności od odpowiedzi na pytania dotyczące preferowanego typu grafiki i formy graficznej?"
   ],
   "metadata": {
    "collapsed": false
   },
   "id": "fb4ed10b0fd535f2"
  },
  {
   "cell_type": "code",
   "execution_count": 1,
   "outputs": [],
   "source": [
    "import pandas as pd\n",
    "\n",
    "from functions.set_preparations import prepare_set_changes_questions, prepare_row\n",
    "from functions.tests import conduct_chi2test"
   ],
   "metadata": {
    "collapsed": false,
    "ExecuteTime": {
     "end_time": "2023-10-20T23:14:37.650292Z",
     "start_time": "2023-10-20T23:14:36.659016Z"
    }
   },
   "id": "initial_id"
  },
  {
   "cell_type": "code",
   "execution_count": 2,
   "outputs": [
    {
     "data": {
      "text/plain": "   ID Quest1_before Quest2_before  1a_corr  1b_corr  2a_corr  2b_corr  \\\n0   1             B        wykres        1        1        0        0   \n1   2             B        wykres        1        1        1        1   \n2   3             B          mapa        1        1        1        1   \n3   4             B          mapa        1        1        1        1   \n4   5             B        tabela        1        1        1        1   \n\n   3a_corr  3b_corr Quest1_after Quest2_after  \n0        1        1            B       wykres  \n1        0        1            B       wykres  \n2        0        0            B         mapa  \n3        1        0            B       wykres  \n4        1        1            B       tabela  ",
      "text/html": "<div>\n<style scoped>\n    .dataframe tbody tr th:only-of-type {\n        vertical-align: middle;\n    }\n\n    .dataframe tbody tr th {\n        vertical-align: top;\n    }\n\n    .dataframe thead th {\n        text-align: right;\n    }\n</style>\n<table border=\"1\" class=\"dataframe\">\n  <thead>\n    <tr style=\"text-align: right;\">\n      <th></th>\n      <th>ID</th>\n      <th>Quest1_before</th>\n      <th>Quest2_before</th>\n      <th>1a_corr</th>\n      <th>1b_corr</th>\n      <th>2a_corr</th>\n      <th>2b_corr</th>\n      <th>3a_corr</th>\n      <th>3b_corr</th>\n      <th>Quest1_after</th>\n      <th>Quest2_after</th>\n    </tr>\n  </thead>\n  <tbody>\n    <tr>\n      <th>0</th>\n      <td>1</td>\n      <td>B</td>\n      <td>wykres</td>\n      <td>1</td>\n      <td>1</td>\n      <td>0</td>\n      <td>0</td>\n      <td>1</td>\n      <td>1</td>\n      <td>B</td>\n      <td>wykres</td>\n    </tr>\n    <tr>\n      <th>1</th>\n      <td>2</td>\n      <td>B</td>\n      <td>wykres</td>\n      <td>1</td>\n      <td>1</td>\n      <td>1</td>\n      <td>1</td>\n      <td>0</td>\n      <td>1</td>\n      <td>B</td>\n      <td>wykres</td>\n    </tr>\n    <tr>\n      <th>2</th>\n      <td>3</td>\n      <td>B</td>\n      <td>mapa</td>\n      <td>1</td>\n      <td>1</td>\n      <td>1</td>\n      <td>1</td>\n      <td>0</td>\n      <td>0</td>\n      <td>B</td>\n      <td>mapa</td>\n    </tr>\n    <tr>\n      <th>3</th>\n      <td>4</td>\n      <td>B</td>\n      <td>mapa</td>\n      <td>1</td>\n      <td>1</td>\n      <td>1</td>\n      <td>1</td>\n      <td>1</td>\n      <td>0</td>\n      <td>B</td>\n      <td>wykres</td>\n    </tr>\n    <tr>\n      <th>4</th>\n      <td>5</td>\n      <td>B</td>\n      <td>tabela</td>\n      <td>1</td>\n      <td>1</td>\n      <td>1</td>\n      <td>1</td>\n      <td>1</td>\n      <td>1</td>\n      <td>B</td>\n      <td>tabela</td>\n    </tr>\n  </tbody>\n</table>\n</div>"
     },
     "execution_count": 2,
     "metadata": {},
     "output_type": "execute_result"
    }
   ],
   "source": [
    "df_answers = pd.read_csv(\n",
    "    '/Users/martasolarz/Studies/Thesis/data/correctness.csv',\n",
    "    usecols=['ID', 'Quest1_before', 'Quest2_before', '1a_corr', '1b_corr', '2a_corr', '2b_corr', '3a_corr', '3b_corr']\n",
    ")\n",
    "\n",
    "df_quest = pd.read_csv(\n",
    "    '/Users/martasolarz/Studies/Thesis/data/survey.csv',\n",
    "    usecols=['ID', 'Quest1_after', 'Quest2_after']\n",
    ")\n",
    "\n",
    "df_merge = df_answers.merge(df_quest, on='ID')\n",
    "df_merge.head()"
   ],
   "metadata": {
    "collapsed": false,
    "ExecuteTime": {
     "end_time": "2023-10-20T23:14:54.895066Z",
     "start_time": "2023-10-20T23:14:54.837405Z"
    }
   },
   "id": "c3d943fb39805fc6"
  },
  {
   "cell_type": "markdown",
   "source": [
    "### TESTY"
   ],
   "metadata": {
    "collapsed": false
   },
   "id": "a3640bf0cf623b6b"
  },
  {
   "cell_type": "markdown",
   "source": [
    "**H0:** Nie ma istotnej statystycznie zależności między poprawnością odpowiedzi a wybraną preferowaną formą (mapa vs mapa + inne elementy; mapa vs tabela vs wykres vs tekst).\n",
    "\n",
    "**H1:** Istnieje istotna statystycznie zależność między poprawnością odpowiedzi a wybraną preferowaną formą (mapa vs mapa + inne elementy; mapa vs tabela vs wykres vs tekst).\n",
    "\n",
    "**Poziom istotności:** $\\alpha=0.05$"
   ],
   "metadata": {
    "collapsed": false
   },
   "id": "18c14ed55cdc2169"
  },
  {
   "cell_type": "code",
   "execution_count": 3,
   "outputs": [],
   "source": [
    "ALPHA = 0.05"
   ],
   "metadata": {
    "collapsed": false,
    "ExecuteTime": {
     "end_time": "2023-10-20T23:15:31.086910Z",
     "start_time": "2023-10-20T23:15:31.035138Z"
    }
   },
   "id": "549109b822a6d751"
  },
  {
   "cell_type": "markdown",
   "source": [
    "#### Wszystkie grafiki - zagregowane do jednej kolumny"
   ],
   "metadata": {
    "collapsed": false
   },
   "id": "9bb2497ee1c322ab"
  },
  {
   "cell_type": "code",
   "execution_count": 5,
   "outputs": [
    {
     "name": "stdout",
     "output_type": "stream",
     "text": [
      "quest1_before   A    B\n",
      "poprawnosc            \n",
      "0               5   67\n",
      "1              19  155\n",
      "Wartość statystyki chi-kwadrat: 0.5182647626074353\n",
      "P-value: 0.4715828248989259\n",
      "Brak podstaw do odrzucenia H0.\n",
      "------------------------------------------\n",
      "quest2_before  mapa  tabela  tekst  wykres\n",
      "poprawnosc                                \n",
      "0                41      12      3      16\n",
      "1                85      30     15      44\n",
      "Wartość statystyki chi-kwadrat: 2.238131727786901\n",
      "P-value: 0.5244767141553461\n",
      "Brak podstaw do odrzucenia H0.\n",
      "------------------------------------------\n",
      "quest1_after   A    B\n",
      "poprawnosc           \n",
      "0             27   45\n",
      "1             39  135\n",
      "Wartość statystyki chi-kwadrat: 5.160716721815859\n",
      "P-value: 0.023103361396515018\n",
      "Istnieją podstawy do odrzucenia H0, przyjmujemy hipotezę H1.\n",
      "------------------------------------------\n",
      "quest2_after  mapa  tabela  tekst  wykres\n",
      "poprawnosc                               \n",
      "0               41       6      3      22\n",
      "1               73      30      3      68\n",
      "Wartość statystyki chi-kwadrat: 7.48828056731868\n",
      "P-value: 0.057860340161755404\n",
      "Brak podstaw do odrzucenia H0.\n"
     ]
    }
   ],
   "source": [
    "quest1_before = [df_merge['Quest1_before'] for i in range(6)]\n",
    "quest2_before = [df_merge['Quest2_before'] for i in range(6)]\n",
    "quest1_after = [df_merge['Quest1_after'] for i in range(6)]\n",
    "quest2_after = [df_merge['Quest2_after'] for i in range(6)]\n",
    "\n",
    "popr = []\n",
    "for col in df_answers.columns.tolist():\n",
    "    if col.endswith('corr'):\n",
    "        popr.append(df_answers[col])\n",
    "\n",
    "popr_row = prepare_row(popr)\n",
    "q1_b = prepare_row(quest1_before)\n",
    "q1_a = prepare_row(quest1_after)\n",
    "q2_b = prepare_row(quest2_before)\n",
    "q2_a = prepare_row(quest2_after)\n",
    "\n",
    "df = pd.DataFrame({'poprawnosc': popr_row, 'quest1_before': q1_b, \n",
    "                         'quest2_before': q2_b, 'quest1_after': q1_a,\n",
    "                         'quest2_after': q2_a})\n",
    "\n",
    "conduct_chi2test(df, 'poprawnosc', 'quest1_before', ALPHA)\n",
    "print('------------------------------------------')\n",
    "conduct_chi2test(df, 'poprawnosc', 'quest2_before', ALPHA)\n",
    "print('------------------------------------------')\n",
    "conduct_chi2test(df, 'poprawnosc', 'quest1_after', ALPHA)\n",
    "print('------------------------------------------')\n",
    "conduct_chi2test(df, 'poprawnosc', 'quest2_after', ALPHA)"
   ],
   "metadata": {
    "collapsed": false,
    "ExecuteTime": {
     "end_time": "2023-10-20T23:20:14.197159Z",
     "start_time": "2023-10-20T23:20:14.152291Z"
    }
   },
   "id": "f87219709fefc4ff"
  },
  {
   "cell_type": "markdown",
   "source": [
    "#### Grafiki A - zagregowane do jednej kolumny"
   ],
   "metadata": {
    "collapsed": false
   },
   "id": "f233da8c1bfb037a"
  },
  {
   "cell_type": "code",
   "execution_count": 6,
   "outputs": [
    {
     "name": "stdout",
     "output_type": "stream",
     "text": [
      "quest1_before   A   B\n",
      "poprawnosc           \n",
      "0               2  34\n",
      "1              10  77\n",
      "Wartość statystyki chi-kwadrat: 0.4570017215491356\n",
      "P-value: 0.49902856634830706\n",
      "Brak podstaw do odrzucenia H0.\n",
      "------------------------------------------\n",
      "quest2_before  mapa  tabela  tekst  wykres\n",
      "poprawnosc                                \n",
      "0                20       6      1       9\n",
      "1                43      15      8      21\n",
      "Wartość statystyki chi-kwadrat: 1.632781426746944\n",
      "P-value: 0.6519799035839045\n",
      "Brak podstaw do odrzucenia H0.\n",
      "------------------------------------------\n",
      "quest1_after   A   B\n",
      "poprawnosc          \n",
      "0             12  24\n",
      "1             21  66\n",
      "Wartość statystyki chi-kwadrat: 0.6783648264251712\n",
      "P-value: 0.41015035950447143\n",
      "Brak podstaw do odrzucenia H0.\n",
      "------------------------------------------\n",
      "quest2_after  mapa  tabela  tekst  wykres\n",
      "poprawnosc                               \n",
      "0               21       3      2      10\n",
      "1               36      15      1      35\n",
      "Wartość statystyki chi-kwadrat: 6.066150769644418\n",
      "P-value: 0.10843582722801164\n",
      "Brak podstaw do odrzucenia H0.\n"
     ]
    }
   ],
   "source": [
    "quest1_before = [df_merge['Quest1_before'] for i in range(3)]\n",
    "quest2_before = [df_merge['Quest2_before'] for i in range(3)]\n",
    "quest1_after = [df_merge['Quest1_after'] for i in range(3)]\n",
    "quest2_after = [df_merge['Quest2_after'] for i in range(3)]\n",
    "\n",
    "popr = [df_answers['1a_corr'], df_answers['2a_corr'], df_answers['3a_corr']]\n",
    "        \n",
    "popr_row = prepare_row(popr)\n",
    "q1_b = prepare_row(quest1_before)\n",
    "q1_a = prepare_row(quest1_after)\n",
    "q2_b = prepare_row(quest2_before)\n",
    "q2_a = prepare_row(quest2_after)\n",
    "\n",
    "df = pd.DataFrame({'poprawnosc': popr_row, 'quest1_before': q1_b, \n",
    "                         'quest2_before': q2_b, 'quest1_after': q1_a,\n",
    "                         'quest2_after': q2_a})\n",
    "\n",
    "conduct_chi2test(df, 'poprawnosc', 'quest1_before', ALPHA)\n",
    "print('------------------------------------------')\n",
    "conduct_chi2test(df, 'poprawnosc', 'quest2_before', ALPHA)\n",
    "print('------------------------------------------')\n",
    "conduct_chi2test(df, 'poprawnosc', 'quest1_after', ALPHA)\n",
    "print('------------------------------------------')\n",
    "conduct_chi2test(df, 'poprawnosc', 'quest2_after', ALPHA)"
   ],
   "metadata": {
    "collapsed": false,
    "ExecuteTime": {
     "end_time": "2023-10-20T23:21:22.582025Z",
     "start_time": "2023-10-20T23:21:22.529547Z"
    }
   },
   "id": "baa21029068bf9e"
  },
  {
   "cell_type": "markdown",
   "source": [
    "#### Grafiki B - zagregowane do jednej kolumny"
   ],
   "metadata": {
    "collapsed": false
   },
   "id": "ecd9aa229bd85926"
  },
  {
   "cell_type": "code",
   "execution_count": 7,
   "outputs": [
    {
     "name": "stdout",
     "output_type": "stream",
     "text": [
      "quest1_before  A   B\n",
      "poprawnosc          \n",
      "0              3  33\n",
      "1              9  78\n",
      "Wartość statystyki chi-kwadrat: 6.633788961375382e-05\n",
      "P-value: 0.9935014556753952\n",
      "Brak podstaw do odrzucenia H0.\n",
      "------------------------------------------\n",
      "quest2_before  mapa  tabela  tekst  wykres\n",
      "poprawnosc                                \n",
      "0                21       6      2       7\n",
      "1                42      15      7      23\n",
      "Wartość statystyki chi-kwadrat: 1.2340768108009497\n",
      "P-value: 0.7448434185037259\n",
      "Brak podstaw do odrzucenia H0.\n",
      "------------------------------------------\n",
      "quest1_after   A   B\n",
      "poprawnosc          \n",
      "0             15  21\n",
      "1             18  69\n",
      "Wartość statystyki chi-kwadrat: 4.689110211308487\n",
      "P-value: 0.03035436213327259\n",
      "Istnieją podstawy do odrzucenia H0, przyjmujemy hipotezę H1.\n",
      "------------------------------------------\n",
      "quest2_after  mapa  tabela  tekst  wykres\n",
      "poprawnosc                               \n",
      "0               20       3      1      12\n",
      "1               37      15      2      33\n",
      "Wartość statystyki chi-kwadrat: 2.4842659810445653\n",
      "P-value: 0.4781412849453812\n",
      "Brak podstaw do odrzucenia H0.\n"
     ]
    }
   ],
   "source": [
    "quest1_before = [df_merge['Quest1_before'] for i in range(3)]\n",
    "quest2_before = [df_merge['Quest2_before'] for i in range(3)]\n",
    "quest1_after = [df_merge['Quest1_after'] for i in range(3)]\n",
    "quest2_after = [df_merge['Quest2_after'] for i in range(3)]\n",
    "\n",
    "popr = [df_answers['1b_corr'], df_answers['2b_corr'], df_answers['3b_corr']]\n",
    "        \n",
    "popr_row = prepare_row(popr)\n",
    "q1_b = prepare_row(quest1_before)\n",
    "q1_a = prepare_row(quest1_after)\n",
    "q2_b = prepare_row(quest2_before)\n",
    "q2_a = prepare_row(quest2_after)\n",
    "\n",
    "df = pd.DataFrame({'poprawnosc': popr_row, 'quest1_before': q1_b, \n",
    "                         'quest2_before': q2_b, 'quest1_after': q1_a,\n",
    "                         'quest2_after': q2_a})\n",
    "\n",
    "conduct_chi2test(df, 'poprawnosc', 'quest1_before', ALPHA)\n",
    "print('------------------------------------------')\n",
    "conduct_chi2test(df, 'poprawnosc', 'quest2_before', ALPHA)\n",
    "print('------------------------------------------')\n",
    "conduct_chi2test(df, 'poprawnosc', 'quest1_after', ALPHA)\n",
    "print('------------------------------------------')\n",
    "conduct_chi2test(df, 'poprawnosc', 'quest2_after', ALPHA)"
   ],
   "metadata": {
    "collapsed": false,
    "ExecuteTime": {
     "end_time": "2023-10-20T23:22:11.001329Z",
     "start_time": "2023-10-20T23:22:10.931793Z"
    }
   },
   "id": "ab19d3294828a472"
  },
  {
   "cell_type": "markdown",
   "source": [
    "#### Grafiki 1,2,3 - zagregowane do jednej kolumny\n",
    "\n",
    "-> 1"
   ],
   "metadata": {
    "collapsed": false
   },
   "id": "106efe8d3246c0e9"
  },
  {
   "cell_type": "code",
   "execution_count": 10,
   "outputs": [
    {
     "name": "stdout",
     "output_type": "stream",
     "text": [
      "quest1_before  A   B\n",
      "poprawnosc          \n",
      "0              1   7\n",
      "1              7  67\n",
      "Wartość statystyki chi-kwadrat: 0.0\n",
      "P-value: 1.0\n",
      "Brak podstaw do odrzucenia H0.\n",
      "------------------------------------------\n",
      "quest2_before  mapa  tabela  tekst  wykres\n",
      "poprawnosc                                \n",
      "0                 4       2      0       2\n",
      "1                38      12      6      18\n",
      "Wartość statystyki chi-kwadrat: 0.9788288288288286\n",
      "P-value: 0.8063745671387934\n",
      "Brak podstaw do odrzucenia H0.\n",
      "------------------------------------------\n",
      "quest1_after   A   B\n",
      "poprawnosc          \n",
      "0              6   2\n",
      "1             16  58\n",
      "Wartość statystyki chi-kwadrat: 7.935670045045044\n",
      "P-value: 0.004846967594060261\n",
      "Istnieją podstawy do odrzucenia H0, przyjmujemy hipotezę H1.\n",
      "------------------------------------------\n",
      "quest2_after  mapa  tabela  tekst  wykres\n",
      "poprawnosc                               \n",
      "0                7       0      0       1\n",
      "1               31      12      2      29\n",
      "Wartość statystyki chi-kwadrat: 6.159720246562351\n",
      "P-value: 0.10409284868832222\n",
      "Brak podstaw do odrzucenia H0.\n"
     ]
    }
   ],
   "source": [
    "popr = []\n",
    "for col in df_merge.columns.tolist():\n",
    "    if col.startswith('1') and col.endswith('_corr'):\n",
    "        popr.append(df_merge[col])\n",
    "        \n",
    "quest1_before = [df_merge['Quest1_before'] for i in range(2)]\n",
    "quest2_before = [df_merge['Quest2_before'] for i in range(2)]\n",
    "quest1_after = [df_merge['Quest1_after'] for i in range(2)]\n",
    "quest2_after = [df_merge['Quest2_after'] for i in range(2)]\n",
    "        \n",
    "popr_row = prepare_row(popr)   \n",
    "q1_b = prepare_row(quest1_before)\n",
    "q1_a = prepare_row(quest1_after)\n",
    "q2_b = prepare_row(quest2_before)\n",
    "q2_a = prepare_row(quest2_after)\n",
    "\n",
    "df = pd.DataFrame({'poprawnosc': popr_row, 'quest1_before': q1_b, \n",
    "                         'quest2_before': q2_b, 'quest1_after': q1_a,\n",
    "                         'quest2_after': q2_a})\n",
    "\n",
    "conduct_chi2test(df, 'poprawnosc', 'quest1_before', ALPHA)\n",
    "print('------------------------------------------')\n",
    "conduct_chi2test(df, 'poprawnosc', 'quest2_before', ALPHA)\n",
    "print('------------------------------------------')\n",
    "conduct_chi2test(df, 'poprawnosc', 'quest1_after', ALPHA)\n",
    "print('------------------------------------------')\n",
    "conduct_chi2test(df, 'poprawnosc', 'quest2_after', ALPHA)"
   ],
   "metadata": {
    "collapsed": false,
    "ExecuteTime": {
     "end_time": "2023-10-20T23:25:05.911229Z",
     "start_time": "2023-10-20T23:25:05.868629Z"
    }
   },
   "id": "a40dbad073d37c8a"
  },
  {
   "cell_type": "markdown",
   "source": [
    "-> 2"
   ],
   "metadata": {
    "collapsed": false
   },
   "id": "34d6b1b0a9361193"
  },
  {
   "cell_type": "code",
   "execution_count": 11,
   "outputs": [
    {
     "name": "stdout",
     "output_type": "stream",
     "text": [
      "quest1_before  A   B\n",
      "poprawnosc          \n",
      "0              1  22\n",
      "1              7  52\n",
      "Wartość statystyki chi-kwadrat: 0.37981487382740153\n",
      "P-value: 0.5377023293868424\n",
      "Brak podstaw do odrzucenia H0.\n",
      "------------------------------------------\n",
      "quest2_before  mapa  tabela  tekst  wykres\n",
      "poprawnosc                                \n",
      "0                12       5      1       5\n",
      "1                30       9      5      15\n",
      "Wartość statystyki chi-kwadrat: 0.8905849738568967\n",
      "P-value: 0.8276992569297563\n",
      "Brak podstaw do odrzucenia H0.\n",
      "------------------------------------------\n",
      "quest1_after   A   B\n",
      "poprawnosc          \n",
      "0              7  16\n",
      "1             15  44\n",
      "Wartość statystyki chi-kwadrat: 0.033372412407047594\n",
      "P-value: 0.8550481858414848\n",
      "Brak podstaw do odrzucenia H0.\n",
      "------------------------------------------\n",
      "quest2_after  mapa  tabela  tekst  wykres\n",
      "poprawnosc                               \n",
      "0                9       4      1       9\n",
      "1               29       8      1      21\n",
      "Wartość statystyki chi-kwadrat: 1.0588579037867332\n",
      "P-value: 0.7870140608514232\n",
      "Brak podstaw do odrzucenia H0.\n"
     ]
    }
   ],
   "source": [
    "popr = []\n",
    "for col in df_merge.columns.tolist():\n",
    "    if col.startswith('2') and col.endswith('_corr'):\n",
    "        popr.append(df_merge[col])\n",
    "        \n",
    "quest1_before = [df_merge['Quest1_before'] for i in range(2)]\n",
    "quest2_before = [df_merge['Quest2_before'] for i in range(2)]\n",
    "quest1_after = [df_merge['Quest1_after'] for i in range(2)]\n",
    "quest2_after = [df_merge['Quest2_after'] for i in range(2)]\n",
    "        \n",
    "popr_row = prepare_row(popr)   \n",
    "q1_b = prepare_row(quest1_before)\n",
    "q1_a = prepare_row(quest1_after)\n",
    "q2_b = prepare_row(quest2_before)\n",
    "q2_a = prepare_row(quest2_after)\n",
    "\n",
    "df = pd.DataFrame({'poprawnosc': popr_row, 'quest1_before': q1_b, \n",
    "                         'quest2_before': q2_b, 'quest1_after': q1_a,\n",
    "                         'quest2_after': q2_a})\n",
    "\n",
    "conduct_chi2test(df, 'poprawnosc', 'quest1_before', ALPHA)\n",
    "print('------------------------------------------')\n",
    "conduct_chi2test(df, 'poprawnosc', 'quest2_before', ALPHA)\n",
    "print('------------------------------------------')\n",
    "conduct_chi2test(df, 'poprawnosc', 'quest1_after', ALPHA)\n",
    "print('------------------------------------------')\n",
    "conduct_chi2test(df, 'poprawnosc', 'quest2_after', ALPHA)"
   ],
   "metadata": {
    "collapsed": false,
    "ExecuteTime": {
     "end_time": "2023-10-20T23:25:46.832240Z",
     "start_time": "2023-10-20T23:25:46.795333Z"
    }
   },
   "id": "2c961fe779223bc4"
  },
  {
   "cell_type": "markdown",
   "source": [
    "-> 3"
   ],
   "metadata": {
    "collapsed": false
   },
   "id": "9522623dee2a7be6"
  },
  {
   "cell_type": "code",
   "execution_count": 12,
   "outputs": [
    {
     "name": "stdout",
     "output_type": "stream",
     "text": [
      "quest1_before  A   B\n",
      "poprawnosc          \n",
      "0              3  38\n",
      "1              5  36\n",
      "Wartość statystyki chi-kwadrat: 0.1385135135135135\n",
      "P-value: 0.7097632756475021\n",
      "Brak podstaw do odrzucenia H0.\n",
      "------------------------------------------\n",
      "quest2_before  mapa  tabela  tekst  wykres\n",
      "poprawnosc                                \n",
      "0                25       5      2       9\n",
      "1                17       9      4      11\n",
      "Wartość statystyki chi-kwadrat: 3.533333333333333\n",
      "P-value: 0.31646456315918847\n",
      "Brak podstaw do odrzucenia H0.\n",
      "------------------------------------------\n",
      "quest1_after   A   B\n",
      "poprawnosc          \n",
      "0             14  27\n",
      "1              8  33\n",
      "Wartość statystyki chi-kwadrat: 1.553030303030303\n",
      "P-value: 0.21268864307211574\n",
      "Brak podstaw do odrzucenia H0.\n",
      "------------------------------------------\n",
      "quest2_after  mapa  tabela  tekst  wykres\n",
      "poprawnosc                               \n",
      "0               25       2      2      12\n",
      "1               13      10      0      18\n",
      "Wartość statystyki chi-kwadrat: 12.322807017543859\n",
      "P-value: 0.006355332891152612\n",
      "Istnieją podstawy do odrzucenia H0, przyjmujemy hipotezę H1.\n"
     ]
    }
   ],
   "source": [
    "popr = []\n",
    "for col in df_merge.columns.tolist():\n",
    "    if col.startswith('3') and col.endswith('_corr'):\n",
    "        popr.append(df_merge[col])\n",
    "        \n",
    "quest1_before = [df_merge['Quest1_before'] for i in range(2)]\n",
    "quest2_before = [df_merge['Quest2_before'] for i in range(2)]\n",
    "quest1_after = [df_merge['Quest1_after'] for i in range(2)]\n",
    "quest2_after = [df_merge['Quest2_after'] for i in range(2)]\n",
    "        \n",
    "popr_row = prepare_row(popr)   \n",
    "q1_b = prepare_row(quest1_before)\n",
    "q1_a = prepare_row(quest1_after)\n",
    "q2_b = prepare_row(quest2_before)\n",
    "q2_a = prepare_row(quest2_after)\n",
    "\n",
    "df = pd.DataFrame({'poprawnosc': popr_row, 'quest1_before': q1_b, \n",
    "                         'quest2_before': q2_b, 'quest1_after': q1_a,\n",
    "                         'quest2_after': q2_a})\n",
    "\n",
    "conduct_chi2test(df, 'poprawnosc', 'quest1_before', ALPHA)\n",
    "print('------------------------------------------')\n",
    "conduct_chi2test(df, 'poprawnosc', 'quest2_before', ALPHA)\n",
    "print('------------------------------------------')\n",
    "conduct_chi2test(df, 'poprawnosc', 'quest1_after', ALPHA)\n",
    "print('------------------------------------------')\n",
    "conduct_chi2test(df, 'poprawnosc', 'quest2_after', ALPHA)"
   ],
   "metadata": {
    "collapsed": false,
    "ExecuteTime": {
     "end_time": "2023-10-20T23:26:01.671529Z",
     "start_time": "2023-10-20T23:26:01.621207Z"
    }
   },
   "id": "cbe3044ae71da3f1"
  },
  {
   "cell_type": "markdown",
   "source": [
    "#### Zadania 1a, 1b, 2a, 2b, 3a, 3b"
   ],
   "metadata": {
    "collapsed": false
   },
   "id": "f0ccc252e69bf48"
  },
  {
   "cell_type": "code",
   "execution_count": 13,
   "outputs": [],
   "source": [
    "df1a = df_merge[['Quest1_before', 'Quest1_after', 'Quest2_before', 'Quest2_after', '1a_corr']].rename(columns={'1a_corr':'poprawnosc'})\n",
    "df2a = df_merge[['Quest1_before', 'Quest1_after', 'Quest2_before', 'Quest2_after', '2a_corr']].rename(columns={'2a_corr':'poprawnosc'})\n",
    "df3a = df_merge[['Quest1_before', 'Quest1_after', 'Quest2_before', 'Quest2_after', '3a_corr']].rename(columns={'3a_corr':'poprawnosc'})\n",
    "\n",
    "df1b = df_merge[['Quest1_before', 'Quest1_after', 'Quest2_before', 'Quest2_after', '1b_corr']].rename(columns={'1b_corr':'poprawnosc'})\n",
    "df2b = df_merge[['Quest1_before', 'Quest1_after', 'Quest2_before', 'Quest2_after', '2b_corr']].rename(columns={'2b_corr':'poprawnosc'})\n",
    "df3b = df_merge[['Quest1_before', 'Quest1_after', 'Quest2_before', 'Quest2_after', '3b_corr']].rename(columns={'3b_corr':'poprawnosc'})\n",
    "\n",
    "dfs = [df1a, df1b, df2a, df2b, df3a, df3b]\n",
    "names = {\n",
    "    1: '1a:',\n",
    "    2: '1b:',\n",
    "    3: '2a:',\n",
    "    4: '2b:',\n",
    "    5: '3a:',\n",
    "    6: '3b:',\n",
    "}"
   ],
   "metadata": {
    "collapsed": false,
    "ExecuteTime": {
     "end_time": "2023-10-20T23:26:43.616Z",
     "start_time": "2023-10-20T23:26:43.584983Z"
    }
   },
   "id": "c8afd05360ec6596"
  },
  {
   "cell_type": "code",
   "execution_count": 17,
   "outputs": [
    {
     "name": "stdout",
     "output_type": "stream",
     "text": [
      "---------------------------------------------\n",
      "1a:\n",
      "----------------\n",
      "Quest1_before\n",
      "Quest1_before  A   B\n",
      "poprawnosc          \n",
      "0              1   4\n",
      "1              3  33\n",
      "Wartość statystyki chi-kwadrat: 0.00038475975975976035\n",
      "P-value: 0.9843502633116243\n",
      "Brak podstaw do odrzucenia H0.\n",
      "----------------\n",
      "Quest1_after\n",
      "Quest1_after  A   B\n",
      "poprawnosc         \n",
      "0             4   1\n",
      "1             7  29\n",
      "Wartość statystyki chi-kwadrat: 5.406098484848484\n",
      "P-value: 0.020066516230538914\n",
      "Istnieją podstawy do odrzucenia H0, przyjmujemy hipotezę H1.\n",
      "----------------\n",
      "Quest2_before\n",
      "Quest2_before  mapa  tabela  tekst  wykres\n",
      "poprawnosc                                \n",
      "0                 3       1      0       1\n",
      "1                18       6      3       9\n",
      "Wartość statystyki chi-kwadrat: 0.5759523809523808\n",
      "P-value: 0.9019147738707174\n",
      "Brak podstaw do odrzucenia H0.\n",
      "----------------\n",
      "Quest2_after\n",
      "Quest2_after  mapa  tabela  tekst  wykres\n",
      "poprawnosc                               \n",
      "0                5       0      0       0\n",
      "1               14       6      1      15\n",
      "Wartość statystyki chi-kwadrat: 6.593567251461989\n",
      "P-value: 0.08604458771266413\n",
      "Brak podstaw do odrzucenia H0.\n",
      "---------------------------------------------\n",
      "1b:\n",
      "----------------\n",
      "Quest1_before\n",
      "Quest1_before  A   B\n",
      "poprawnosc          \n",
      "0              0   3\n",
      "1              4  34\n",
      "Wartość statystyki chi-kwadrat: 0.0\n",
      "P-value: 1.0\n",
      "Brak podstaw do odrzucenia H0.\n",
      "----------------\n",
      "Quest1_after\n",
      "Quest1_after  A   B\n",
      "poprawnosc         \n",
      "0             2   1\n",
      "1             9  29\n",
      "Wartość statystyki chi-kwadrat: 0.8852272727272728\n",
      "P-value: 0.34677395734420646\n",
      "Brak podstaw do odrzucenia H0.\n",
      "----------------\n",
      "Quest2_before\n",
      "Quest2_before  mapa  tabela  tekst  wykres\n",
      "poprawnosc                                \n",
      "0                 1       1      0       1\n",
      "1                20       6      3       9\n",
      "Wartość statystyki chi-kwadrat: 1.04640768588137\n",
      "P-value: 0.7900246250688889\n",
      "Brak podstaw do odrzucenia H0.\n",
      "----------------\n",
      "Quest2_after\n",
      "Quest2_after  mapa  tabela  tekst  wykres\n",
      "poprawnosc                               \n",
      "0                2       0      0       1\n",
      "1               17       6      1      14\n",
      "Wartość statystyki chi-kwadrat: 0.8505386272699293\n",
      "P-value: 0.8373445114015542\n",
      "Brak podstaw do odrzucenia H0.\n",
      "---------------------------------------------\n",
      "2a:\n",
      "----------------\n",
      "Quest1_before\n",
      "Quest1_before  A   B\n",
      "poprawnosc          \n",
      "0              0  12\n",
      "1              4  25\n",
      "Wartość statystyki chi-kwadrat: 0.6020163482447966\n",
      "P-value: 0.43780973041461047\n",
      "Brak podstaw do odrzucenia H0.\n",
      "----------------\n",
      "Quest1_after\n",
      "Quest1_after  A   B\n",
      "poprawnosc         \n",
      "0             3   9\n",
      "1             8  21\n",
      "Wartość statystyki chi-kwadrat: 0.0\n",
      "P-value: 1.0\n",
      "Brak podstaw do odrzucenia H0.\n",
      "----------------\n",
      "Quest2_before\n",
      "Quest2_before  mapa  tabela  tekst  wykres\n",
      "poprawnosc                                \n",
      "0                 6       2      1       3\n",
      "1                15       5      2       7\n",
      "Wartość statystyki chi-kwadrat: 0.03310071154898744\n",
      "P-value: 0.9984141348881518\n",
      "Brak podstaw do odrzucenia H0.\n",
      "----------------\n",
      "Quest2_after\n",
      "Quest2_after  mapa  tabela  tekst  wykres\n",
      "poprawnosc                               \n",
      "0                5       2      1       4\n",
      "1               14       4      0      11\n",
      "Wartość statystyki chi-kwadrat: 2.593607582173825\n",
      "P-value: 0.4586113225691323\n",
      "Brak podstaw do odrzucenia H0.\n",
      "---------------------------------------------\n",
      "2b:\n",
      "----------------\n",
      "Quest1_before\n",
      "Quest1_before  A   B\n",
      "poprawnosc          \n",
      "0              1  10\n",
      "1              3  27\n",
      "Wartość statystyki chi-kwadrat: 0.0\n",
      "P-value: 1.0\n",
      "Brak podstaw do odrzucenia H0.\n",
      "----------------\n",
      "Quest1_after\n",
      "Quest1_after  A   B\n",
      "poprawnosc         \n",
      "0             4   7\n",
      "1             7  23\n",
      "Wartość statystyki chi-kwadrat: 0.19059917355371891\n",
      "P-value: 0.6624183978085577\n",
      "Brak podstaw do odrzucenia H0.\n",
      "----------------\n",
      "Quest2_before\n",
      "Quest2_before  mapa  tabela  tekst  wykres\n",
      "poprawnosc                                \n",
      "0                 6       3      0       2\n",
      "1                15       4      3       8\n",
      "Wartość statystyki chi-kwadrat: 2.286060606060606\n",
      "P-value: 0.5151965834264471\n",
      "Brak podstaw do odrzucenia H0.\n",
      "----------------\n",
      "Quest2_after\n",
      "Quest2_after  mapa  tabela  tekst  wykres\n",
      "poprawnosc                               \n",
      "0                4       2      0       5\n",
      "1               15       4      1      10\n",
      "Wartość statystyki chi-kwadrat: 1.1421584263689528\n",
      "P-value: 0.7669078368500353\n",
      "Brak podstaw do odrzucenia H0.\n",
      "---------------------------------------------\n",
      "3a:\n",
      "----------------\n",
      "Quest1_before\n",
      "Quest1_before  A   B\n",
      "poprawnosc          \n",
      "0              1  18\n",
      "1              3  19\n",
      "Wartość statystyki chi-kwadrat: 0.13934194361825952\n",
      "P-value: 0.7089360876422948\n",
      "Brak podstaw do odrzucenia H0.\n",
      "----------------\n",
      "Quest1_after\n",
      "Quest1_after  A   B\n",
      "poprawnosc         \n",
      "0             5  14\n",
      "1             6  16\n",
      "Wartość statystyki chi-kwadrat: 0.0\n",
      "P-value: 1.0\n",
      "Brak podstaw do odrzucenia H0.\n",
      "----------------\n",
      "Quest2_before\n",
      "Quest2_before  mapa  tabela  tekst  wykres\n",
      "poprawnosc                                \n",
      "0                11       3      0       5\n",
      "1                10       4      3       5\n",
      "Wartość statystyki chi-kwadrat: 2.98695602642971\n",
      "P-value: 0.39364067575112605\n",
      "Brak podstaw do odrzucenia H0.\n",
      "----------------\n",
      "Quest2_after\n",
      "Quest2_after  mapa  tabela  tekst  wykres\n",
      "poprawnosc                               \n",
      "0               11       1      1       6\n",
      "1                8       5      0       9\n",
      "Wartość statystyki chi-kwadrat: 4.545173340048686\n",
      "P-value: 0.20829614814340108\n",
      "Brak podstaw do odrzucenia H0.\n",
      "---------------------------------------------\n",
      "3b:\n",
      "----------------\n",
      "Quest1_before\n",
      "Quest1_before  A   B\n",
      "poprawnosc          \n",
      "0              2  20\n",
      "1              2  17\n",
      "Wartość statystyki chi-kwadrat: 0.0\n",
      "P-value: 1.0\n",
      "Brak podstaw do odrzucenia H0.\n",
      "----------------\n",
      "Quest1_after\n",
      "Quest1_after  A   B\n",
      "poprawnosc         \n",
      "0             9  13\n",
      "1             2  17\n",
      "Wartość statystyki chi-kwadrat: 3.371264680295781\n",
      "P-value: 0.06634280910760464\n",
      "Brak podstaw do odrzucenia H0.\n",
      "----------------\n",
      "Quest2_before\n",
      "Quest2_before  mapa  tabela  tekst  wykres\n",
      "poprawnosc                                \n",
      "0                14       2      2       4\n",
      "1                 7       5      1       6\n",
      "Wartość statystyki chi-kwadrat: 4.155115060378218\n",
      "P-value: 0.24519431481534615\n",
      "Brak podstaw do odrzucenia H0.\n",
      "----------------\n",
      "Quest2_after\n",
      "Quest2_after  mapa  tabela  tekst  wykres\n",
      "poprawnosc                               \n",
      "0               14       1      1       6\n",
      "1                5       5      0       9\n",
      "Wartość statystyki chi-kwadrat: 8.355044908923025\n",
      "P-value: 0.039216541706365536\n",
      "Istnieją podstawy do odrzucenia H0, przyjmujemy hipotezę H1.\n"
     ]
    }
   ],
   "source": [
    "for nr, df in enumerate(dfs):\n",
    "    print('---------------------------------------------')\n",
    "    print(names[nr+1])\n",
    "    for i in ['Quest1_before', 'Quest1_after', 'Quest2_before', 'Quest2_after']:\n",
    "        print('----------------')\n",
    "        print(i)\n",
    "        conduct_chi2test(df, 'poprawnosc', i, ALPHA)"
   ],
   "metadata": {
    "collapsed": false,
    "ExecuteTime": {
     "end_time": "2023-10-20T23:30:01.196990Z",
     "start_time": "2023-10-20T23:30:01.098202Z"
    }
   },
   "id": "b8b0dc47e85c18ba"
  },
  {
   "cell_type": "markdown",
   "source": [
    "### Podsumowanie:\n",
    "Istnieje istotna statystycznie zależność między poprawnością odpowiedzi a odpowiedzią na pytanie dotyczące preferowanej formy graficznej na poziomie istotności $\\alpha=0.05$ dla:\n",
    "- wszystkie grafiki, quest1_after\n",
    "- grafiki B, quest1_after\n",
    "- grafiki 1, quest1_after\n",
    "- grafiki 3, quest2_after\n",
    "- grafika 1a, quest1_after\n",
    "- grafika 3b, quest2_after\n",
    "\n"
   ],
   "metadata": {
    "collapsed": false
   },
   "id": "ddb02e1deb8df4eb"
  },
  {
   "cell_type": "markdown",
   "source": [
    "### Analiza ossoby które zmieniły zdanie vs osoby które pozostały przy swojej opinii\n",
    "**H0:** Nie ma istotnej statystycznie zależności między poprawnością odpowiedzi a zmianą zdania w pytaniu 1/2.\n",
    "\n",
    "**H1:** Istnieje istotna statystycznie zależność między poprawnością odpowiedzi a zmianą zdania w pytaniu 1/2.\n",
    "\n",
    "**Poziom istotności:** $\\alpha=0.05$\n"
   ],
   "metadata": {
    "collapsed": false
   },
   "id": "fe68f4591671651"
  },
  {
   "cell_type": "code",
   "execution_count": 18,
   "outputs": [
    {
     "data": {
      "text/plain": "    ID Quest1_before Quest2_before  1a_corr  1b_corr  2a_corr  2b_corr  \\\n0    1             B        wykres        1        1        0        0   \n1    2             B        wykres        1        1        1        1   \n2    3             B          mapa        1        1        1        1   \n3    4             B          mapa        1        1        1        1   \n4    5             B        tabela        1        1        1        1   \n5    6             B        wykres        1        1        1        1   \n6    7             B         tekst        1        1        1        1   \n7   11             B          mapa        1        0        0        0   \n8   12             B          mapa        1        1        0        0   \n9   13             A          mapa        1        1        1        1   \n10  14             B          mapa        1        1        1        0   \n11  15             B         tekst        1        1        0        1   \n12  16             B        tabela        1        1        1        0   \n13  17             B        wykres        1        1        1        1   \n14  18             B          mapa        1        1        0        0   \n15  19             B          mapa        1        1        1        1   \n16  20             B        tabela        1        1        0        0   \n17  21             B          mapa        1        1        1        1   \n18  22             B          mapa        1        1        1        1   \n19  23             B        tabela        1        1        1        1   \n20  24             B        tabela        1        1        1        1   \n21  25             B        tabela        0        0        0        0   \n22  26             B        wykres        1        1        1        1   \n23  27             B        wykres        1        1        0        0   \n24  29             B          mapa        1        1        0        1   \n25  30             B        wykres        0        0        1        1   \n26  31             A          mapa        0        1        1        1   \n27  32             B          mapa        1        1        1        1   \n28  33             B         tekst        1        1        1        1   \n29  34             B        wykres        1        1        0        1   \n30  35             A        tabela        1        1        1        1   \n31  37             B        wykres        1        1        1        1   \n32  38             B        wykres        1        1        1        1   \n33  39             B          mapa        0        1        1        1   \n34  40             B          mapa        1        1        1        1   \n35  41             A          mapa        1        1        1        0   \n36  42             B          mapa        1        1        1        1   \n37  43             B          mapa        1        1        1        1   \n38  44             B          mapa        1        1        0        1   \n39  45             B          mapa        1        1        0        0   \n40  46             B          mapa        0        1        1        1   \n\n    3a_corr  3b_corr Quest1_after Quest2_after  is_change_1  is_change_2  \n0         1        1            B       wykres        False        False  \n1         0        1            B       wykres        False        False  \n2         0        0            B         mapa        False        False  \n3         1        0            B       wykres        False         True  \n4         1        1            B       tabela        False        False  \n5         0        1            B         mapa        False         True  \n6         1        1            B       wykres        False         True  \n7         0        1            B       wykres        False         True  \n8         0        0            B         mapa        False        False  \n9         1        0            A         mapa        False        False  \n10        1        1            B       tabela        False         True  \n11        1        0            B         mapa        False         True  \n12        1        1            B       wykres        False         True  \n13        0        0            B         mapa        False         True  \n14        0        0            A       wykres         True         True  \n15        0        1            B       tabela        False         True  \n16        0        1            B         mapa        False         True  \n17        1        0            B         mapa        False        False  \n18        0        0            A         mapa         True        False  \n19        0        0            B       wykres        False         True  \n20        1        1            B       tabela        False        False  \n21        0        0            A         mapa         True         True  \n22        0        1            B         mapa        False         True  \n23        1        0            A         mapa         True         True  \n24        1        1            B       tabela        False         True  \n25        1        0            A         mapa         True         True  \n26        0        0            A         mapa        False        False  \n27        1        1            A         mapa         True        False  \n28        1        0            B       wykres        False         True  \n29        0        0            B       wykres        False        False  \n30        1        1            B       wykres         True         True  \n31        1        1            B         mapa        False         True  \n32        1        1            B       wykres        False        False  \n33        0        0            B         mapa        False        False  \n34        0        0            A         mapa         True        False  \n35        1        1            A       wykres        False         True  \n36        0        1            B       wykres        False         True  \n37        1        0            B       wykres        False         True  \n38        0        0            B        tekst        False         True  \n39        1        0            B       tabela        False         True  \n40        1        0            A         mapa         True        False  ",
      "text/html": "<div>\n<style scoped>\n    .dataframe tbody tr th:only-of-type {\n        vertical-align: middle;\n    }\n\n    .dataframe tbody tr th {\n        vertical-align: top;\n    }\n\n    .dataframe thead th {\n        text-align: right;\n    }\n</style>\n<table border=\"1\" class=\"dataframe\">\n  <thead>\n    <tr style=\"text-align: right;\">\n      <th></th>\n      <th>ID</th>\n      <th>Quest1_before</th>\n      <th>Quest2_before</th>\n      <th>1a_corr</th>\n      <th>1b_corr</th>\n      <th>2a_corr</th>\n      <th>2b_corr</th>\n      <th>3a_corr</th>\n      <th>3b_corr</th>\n      <th>Quest1_after</th>\n      <th>Quest2_after</th>\n      <th>is_change_1</th>\n      <th>is_change_2</th>\n    </tr>\n  </thead>\n  <tbody>\n    <tr>\n      <th>0</th>\n      <td>1</td>\n      <td>B</td>\n      <td>wykres</td>\n      <td>1</td>\n      <td>1</td>\n      <td>0</td>\n      <td>0</td>\n      <td>1</td>\n      <td>1</td>\n      <td>B</td>\n      <td>wykres</td>\n      <td>False</td>\n      <td>False</td>\n    </tr>\n    <tr>\n      <th>1</th>\n      <td>2</td>\n      <td>B</td>\n      <td>wykres</td>\n      <td>1</td>\n      <td>1</td>\n      <td>1</td>\n      <td>1</td>\n      <td>0</td>\n      <td>1</td>\n      <td>B</td>\n      <td>wykres</td>\n      <td>False</td>\n      <td>False</td>\n    </tr>\n    <tr>\n      <th>2</th>\n      <td>3</td>\n      <td>B</td>\n      <td>mapa</td>\n      <td>1</td>\n      <td>1</td>\n      <td>1</td>\n      <td>1</td>\n      <td>0</td>\n      <td>0</td>\n      <td>B</td>\n      <td>mapa</td>\n      <td>False</td>\n      <td>False</td>\n    </tr>\n    <tr>\n      <th>3</th>\n      <td>4</td>\n      <td>B</td>\n      <td>mapa</td>\n      <td>1</td>\n      <td>1</td>\n      <td>1</td>\n      <td>1</td>\n      <td>1</td>\n      <td>0</td>\n      <td>B</td>\n      <td>wykres</td>\n      <td>False</td>\n      <td>True</td>\n    </tr>\n    <tr>\n      <th>4</th>\n      <td>5</td>\n      <td>B</td>\n      <td>tabela</td>\n      <td>1</td>\n      <td>1</td>\n      <td>1</td>\n      <td>1</td>\n      <td>1</td>\n      <td>1</td>\n      <td>B</td>\n      <td>tabela</td>\n      <td>False</td>\n      <td>False</td>\n    </tr>\n    <tr>\n      <th>5</th>\n      <td>6</td>\n      <td>B</td>\n      <td>wykres</td>\n      <td>1</td>\n      <td>1</td>\n      <td>1</td>\n      <td>1</td>\n      <td>0</td>\n      <td>1</td>\n      <td>B</td>\n      <td>mapa</td>\n      <td>False</td>\n      <td>True</td>\n    </tr>\n    <tr>\n      <th>6</th>\n      <td>7</td>\n      <td>B</td>\n      <td>tekst</td>\n      <td>1</td>\n      <td>1</td>\n      <td>1</td>\n      <td>1</td>\n      <td>1</td>\n      <td>1</td>\n      <td>B</td>\n      <td>wykres</td>\n      <td>False</td>\n      <td>True</td>\n    </tr>\n    <tr>\n      <th>7</th>\n      <td>11</td>\n      <td>B</td>\n      <td>mapa</td>\n      <td>1</td>\n      <td>0</td>\n      <td>0</td>\n      <td>0</td>\n      <td>0</td>\n      <td>1</td>\n      <td>B</td>\n      <td>wykres</td>\n      <td>False</td>\n      <td>True</td>\n    </tr>\n    <tr>\n      <th>8</th>\n      <td>12</td>\n      <td>B</td>\n      <td>mapa</td>\n      <td>1</td>\n      <td>1</td>\n      <td>0</td>\n      <td>0</td>\n      <td>0</td>\n      <td>0</td>\n      <td>B</td>\n      <td>mapa</td>\n      <td>False</td>\n      <td>False</td>\n    </tr>\n    <tr>\n      <th>9</th>\n      <td>13</td>\n      <td>A</td>\n      <td>mapa</td>\n      <td>1</td>\n      <td>1</td>\n      <td>1</td>\n      <td>1</td>\n      <td>1</td>\n      <td>0</td>\n      <td>A</td>\n      <td>mapa</td>\n      <td>False</td>\n      <td>False</td>\n    </tr>\n    <tr>\n      <th>10</th>\n      <td>14</td>\n      <td>B</td>\n      <td>mapa</td>\n      <td>1</td>\n      <td>1</td>\n      <td>1</td>\n      <td>0</td>\n      <td>1</td>\n      <td>1</td>\n      <td>B</td>\n      <td>tabela</td>\n      <td>False</td>\n      <td>True</td>\n    </tr>\n    <tr>\n      <th>11</th>\n      <td>15</td>\n      <td>B</td>\n      <td>tekst</td>\n      <td>1</td>\n      <td>1</td>\n      <td>0</td>\n      <td>1</td>\n      <td>1</td>\n      <td>0</td>\n      <td>B</td>\n      <td>mapa</td>\n      <td>False</td>\n      <td>True</td>\n    </tr>\n    <tr>\n      <th>12</th>\n      <td>16</td>\n      <td>B</td>\n      <td>tabela</td>\n      <td>1</td>\n      <td>1</td>\n      <td>1</td>\n      <td>0</td>\n      <td>1</td>\n      <td>1</td>\n      <td>B</td>\n      <td>wykres</td>\n      <td>False</td>\n      <td>True</td>\n    </tr>\n    <tr>\n      <th>13</th>\n      <td>17</td>\n      <td>B</td>\n      <td>wykres</td>\n      <td>1</td>\n      <td>1</td>\n      <td>1</td>\n      <td>1</td>\n      <td>0</td>\n      <td>0</td>\n      <td>B</td>\n      <td>mapa</td>\n      <td>False</td>\n      <td>True</td>\n    </tr>\n    <tr>\n      <th>14</th>\n      <td>18</td>\n      <td>B</td>\n      <td>mapa</td>\n      <td>1</td>\n      <td>1</td>\n      <td>0</td>\n      <td>0</td>\n      <td>0</td>\n      <td>0</td>\n      <td>A</td>\n      <td>wykres</td>\n      <td>True</td>\n      <td>True</td>\n    </tr>\n    <tr>\n      <th>15</th>\n      <td>19</td>\n      <td>B</td>\n      <td>mapa</td>\n      <td>1</td>\n      <td>1</td>\n      <td>1</td>\n      <td>1</td>\n      <td>0</td>\n      <td>1</td>\n      <td>B</td>\n      <td>tabela</td>\n      <td>False</td>\n      <td>True</td>\n    </tr>\n    <tr>\n      <th>16</th>\n      <td>20</td>\n      <td>B</td>\n      <td>tabela</td>\n      <td>1</td>\n      <td>1</td>\n      <td>0</td>\n      <td>0</td>\n      <td>0</td>\n      <td>1</td>\n      <td>B</td>\n      <td>mapa</td>\n      <td>False</td>\n      <td>True</td>\n    </tr>\n    <tr>\n      <th>17</th>\n      <td>21</td>\n      <td>B</td>\n      <td>mapa</td>\n      <td>1</td>\n      <td>1</td>\n      <td>1</td>\n      <td>1</td>\n      <td>1</td>\n      <td>0</td>\n      <td>B</td>\n      <td>mapa</td>\n      <td>False</td>\n      <td>False</td>\n    </tr>\n    <tr>\n      <th>18</th>\n      <td>22</td>\n      <td>B</td>\n      <td>mapa</td>\n      <td>1</td>\n      <td>1</td>\n      <td>1</td>\n      <td>1</td>\n      <td>0</td>\n      <td>0</td>\n      <td>A</td>\n      <td>mapa</td>\n      <td>True</td>\n      <td>False</td>\n    </tr>\n    <tr>\n      <th>19</th>\n      <td>23</td>\n      <td>B</td>\n      <td>tabela</td>\n      <td>1</td>\n      <td>1</td>\n      <td>1</td>\n      <td>1</td>\n      <td>0</td>\n      <td>0</td>\n      <td>B</td>\n      <td>wykres</td>\n      <td>False</td>\n      <td>True</td>\n    </tr>\n    <tr>\n      <th>20</th>\n      <td>24</td>\n      <td>B</td>\n      <td>tabela</td>\n      <td>1</td>\n      <td>1</td>\n      <td>1</td>\n      <td>1</td>\n      <td>1</td>\n      <td>1</td>\n      <td>B</td>\n      <td>tabela</td>\n      <td>False</td>\n      <td>False</td>\n    </tr>\n    <tr>\n      <th>21</th>\n      <td>25</td>\n      <td>B</td>\n      <td>tabela</td>\n      <td>0</td>\n      <td>0</td>\n      <td>0</td>\n      <td>0</td>\n      <td>0</td>\n      <td>0</td>\n      <td>A</td>\n      <td>mapa</td>\n      <td>True</td>\n      <td>True</td>\n    </tr>\n    <tr>\n      <th>22</th>\n      <td>26</td>\n      <td>B</td>\n      <td>wykres</td>\n      <td>1</td>\n      <td>1</td>\n      <td>1</td>\n      <td>1</td>\n      <td>0</td>\n      <td>1</td>\n      <td>B</td>\n      <td>mapa</td>\n      <td>False</td>\n      <td>True</td>\n    </tr>\n    <tr>\n      <th>23</th>\n      <td>27</td>\n      <td>B</td>\n      <td>wykres</td>\n      <td>1</td>\n      <td>1</td>\n      <td>0</td>\n      <td>0</td>\n      <td>1</td>\n      <td>0</td>\n      <td>A</td>\n      <td>mapa</td>\n      <td>True</td>\n      <td>True</td>\n    </tr>\n    <tr>\n      <th>24</th>\n      <td>29</td>\n      <td>B</td>\n      <td>mapa</td>\n      <td>1</td>\n      <td>1</td>\n      <td>0</td>\n      <td>1</td>\n      <td>1</td>\n      <td>1</td>\n      <td>B</td>\n      <td>tabela</td>\n      <td>False</td>\n      <td>True</td>\n    </tr>\n    <tr>\n      <th>25</th>\n      <td>30</td>\n      <td>B</td>\n      <td>wykres</td>\n      <td>0</td>\n      <td>0</td>\n      <td>1</td>\n      <td>1</td>\n      <td>1</td>\n      <td>0</td>\n      <td>A</td>\n      <td>mapa</td>\n      <td>True</td>\n      <td>True</td>\n    </tr>\n    <tr>\n      <th>26</th>\n      <td>31</td>\n      <td>A</td>\n      <td>mapa</td>\n      <td>0</td>\n      <td>1</td>\n      <td>1</td>\n      <td>1</td>\n      <td>0</td>\n      <td>0</td>\n      <td>A</td>\n      <td>mapa</td>\n      <td>False</td>\n      <td>False</td>\n    </tr>\n    <tr>\n      <th>27</th>\n      <td>32</td>\n      <td>B</td>\n      <td>mapa</td>\n      <td>1</td>\n      <td>1</td>\n      <td>1</td>\n      <td>1</td>\n      <td>1</td>\n      <td>1</td>\n      <td>A</td>\n      <td>mapa</td>\n      <td>True</td>\n      <td>False</td>\n    </tr>\n    <tr>\n      <th>28</th>\n      <td>33</td>\n      <td>B</td>\n      <td>tekst</td>\n      <td>1</td>\n      <td>1</td>\n      <td>1</td>\n      <td>1</td>\n      <td>1</td>\n      <td>0</td>\n      <td>B</td>\n      <td>wykres</td>\n      <td>False</td>\n      <td>True</td>\n    </tr>\n    <tr>\n      <th>29</th>\n      <td>34</td>\n      <td>B</td>\n      <td>wykres</td>\n      <td>1</td>\n      <td>1</td>\n      <td>0</td>\n      <td>1</td>\n      <td>0</td>\n      <td>0</td>\n      <td>B</td>\n      <td>wykres</td>\n      <td>False</td>\n      <td>False</td>\n    </tr>\n    <tr>\n      <th>30</th>\n      <td>35</td>\n      <td>A</td>\n      <td>tabela</td>\n      <td>1</td>\n      <td>1</td>\n      <td>1</td>\n      <td>1</td>\n      <td>1</td>\n      <td>1</td>\n      <td>B</td>\n      <td>wykres</td>\n      <td>True</td>\n      <td>True</td>\n    </tr>\n    <tr>\n      <th>31</th>\n      <td>37</td>\n      <td>B</td>\n      <td>wykres</td>\n      <td>1</td>\n      <td>1</td>\n      <td>1</td>\n      <td>1</td>\n      <td>1</td>\n      <td>1</td>\n      <td>B</td>\n      <td>mapa</td>\n      <td>False</td>\n      <td>True</td>\n    </tr>\n    <tr>\n      <th>32</th>\n      <td>38</td>\n      <td>B</td>\n      <td>wykres</td>\n      <td>1</td>\n      <td>1</td>\n      <td>1</td>\n      <td>1</td>\n      <td>1</td>\n      <td>1</td>\n      <td>B</td>\n      <td>wykres</td>\n      <td>False</td>\n      <td>False</td>\n    </tr>\n    <tr>\n      <th>33</th>\n      <td>39</td>\n      <td>B</td>\n      <td>mapa</td>\n      <td>0</td>\n      <td>1</td>\n      <td>1</td>\n      <td>1</td>\n      <td>0</td>\n      <td>0</td>\n      <td>B</td>\n      <td>mapa</td>\n      <td>False</td>\n      <td>False</td>\n    </tr>\n    <tr>\n      <th>34</th>\n      <td>40</td>\n      <td>B</td>\n      <td>mapa</td>\n      <td>1</td>\n      <td>1</td>\n      <td>1</td>\n      <td>1</td>\n      <td>0</td>\n      <td>0</td>\n      <td>A</td>\n      <td>mapa</td>\n      <td>True</td>\n      <td>False</td>\n    </tr>\n    <tr>\n      <th>35</th>\n      <td>41</td>\n      <td>A</td>\n      <td>mapa</td>\n      <td>1</td>\n      <td>1</td>\n      <td>1</td>\n      <td>0</td>\n      <td>1</td>\n      <td>1</td>\n      <td>A</td>\n      <td>wykres</td>\n      <td>False</td>\n      <td>True</td>\n    </tr>\n    <tr>\n      <th>36</th>\n      <td>42</td>\n      <td>B</td>\n      <td>mapa</td>\n      <td>1</td>\n      <td>1</td>\n      <td>1</td>\n      <td>1</td>\n      <td>0</td>\n      <td>1</td>\n      <td>B</td>\n      <td>wykres</td>\n      <td>False</td>\n      <td>True</td>\n    </tr>\n    <tr>\n      <th>37</th>\n      <td>43</td>\n      <td>B</td>\n      <td>mapa</td>\n      <td>1</td>\n      <td>1</td>\n      <td>1</td>\n      <td>1</td>\n      <td>1</td>\n      <td>0</td>\n      <td>B</td>\n      <td>wykres</td>\n      <td>False</td>\n      <td>True</td>\n    </tr>\n    <tr>\n      <th>38</th>\n      <td>44</td>\n      <td>B</td>\n      <td>mapa</td>\n      <td>1</td>\n      <td>1</td>\n      <td>0</td>\n      <td>1</td>\n      <td>0</td>\n      <td>0</td>\n      <td>B</td>\n      <td>tekst</td>\n      <td>False</td>\n      <td>True</td>\n    </tr>\n    <tr>\n      <th>39</th>\n      <td>45</td>\n      <td>B</td>\n      <td>mapa</td>\n      <td>1</td>\n      <td>1</td>\n      <td>0</td>\n      <td>0</td>\n      <td>1</td>\n      <td>0</td>\n      <td>B</td>\n      <td>tabela</td>\n      <td>False</td>\n      <td>True</td>\n    </tr>\n    <tr>\n      <th>40</th>\n      <td>46</td>\n      <td>B</td>\n      <td>mapa</td>\n      <td>0</td>\n      <td>1</td>\n      <td>1</td>\n      <td>1</td>\n      <td>1</td>\n      <td>0</td>\n      <td>A</td>\n      <td>mapa</td>\n      <td>True</td>\n      <td>False</td>\n    </tr>\n  </tbody>\n</table>\n</div>"
     },
     "execution_count": 18,
     "metadata": {},
     "output_type": "execute_result"
    }
   ],
   "source": [
    "df_merge['is_change_1'] = df_merge.apply(lambda row: row['Quest1_before'] != row['Quest1_after'], axis=1)\n",
    "df_merge['is_change_2'] = df_merge.apply(lambda row: row['Quest2_before'] != row['Quest2_after'], axis=1)\n",
    "\n",
    "df_merge"
   ],
   "metadata": {
    "collapsed": false,
    "ExecuteTime": {
     "end_time": "2023-10-20T23:30:44.522647Z",
     "start_time": "2023-10-20T23:30:44.488023Z"
    }
   },
   "id": "f885b6d97f467cf2"
  },
  {
   "cell_type": "markdown",
   "source": [
    "#### Grafiki:"
   ],
   "metadata": {
    "collapsed": false
   },
   "id": "ff40f5a946e3250d"
  },
  {
   "cell_type": "code",
   "execution_count": 21,
   "outputs": [
    {
     "name": "stdout",
     "output_type": "stream",
     "text": [
      "----------------\n",
      "quest1\n",
      "quest1      False  True\n",
      "poprawnosc             \n",
      "0              50    22\n",
      "1             142    32\n",
      "Wartość statystyki chi-kwadrat: 3.717360196493188\n",
      "P-value: 0.05384944288623782\n",
      "Brak podstaw do odrzucenia H0.\n",
      "----------------\n",
      "quest2\n",
      "quest2      False  True\n",
      "poprawnosc             \n",
      "0              26    46\n",
      "1              70   104\n",
      "Wartość statystyki chi-kwadrat: 0.21060853687739414\n",
      "P-value: 0.6462908566505332\n",
      "Brak podstaw do odrzucenia H0.\n"
     ]
    }
   ],
   "source": [
    "# wszystkie\n",
    "popr = []\n",
    "for col in df_answers.columns.tolist():\n",
    "    if col.endswith('corr'):\n",
    "        popr.append(df_answers[col])\n",
    "        \n",
    "changes1 = [df_merge['is_change_1'] for i in range(6)]\n",
    "changes2 = [df_merge['is_change_2'] for i in range(6)]\n",
    "df = prepare_set_changes_questions(popr, changes1, changes2, 'poprawnosc')\n",
    "\n",
    "for i in ['quest1', 'quest2']:\n",
    "    print('----------------')\n",
    "    print(i)\n",
    "    conduct_chi2test(df, 'poprawnosc', i, ALPHA)"
   ],
   "metadata": {
    "collapsed": false,
    "ExecuteTime": {
     "end_time": "2023-10-20T23:33:42.203456Z",
     "start_time": "2023-10-20T23:33:42.172062Z"
    }
   },
   "id": "6df7a2ebb8b3be38"
  },
  {
   "cell_type": "code",
   "execution_count": 22,
   "outputs": [
    {
     "name": "stdout",
     "output_type": "stream",
     "text": [
      "----------------\n",
      "quest1\n",
      "quest1      False  True\n",
      "poprawnosc             \n",
      "0              26    10\n",
      "1              70    17\n",
      "Wartość statystyki chi-kwadrat: 0.5850237135483183\n",
      "P-value: 0.4443498952350563\n",
      "Brak podstaw do odrzucenia H0.\n",
      "----------------\n",
      "quest2\n",
      "quest2      False  True\n",
      "poprawnosc             \n",
      "0              14    22\n",
      "1              34    53\n",
      "Wartość statystyki chi-kwadrat: 0.0\n",
      "P-value: 1.0\n",
      "Brak podstaw do odrzucenia H0.\n"
     ]
    }
   ],
   "source": [
    "# grafiki A\n",
    "popr = []\n",
    "for col in df_answers.columns.tolist():\n",
    "    if col.endswith('a_corr'):\n",
    "        popr.append(df_answers[col])\n",
    "        \n",
    "changes1 = [df_merge['is_change_1'] for i in range(3)]\n",
    "changes2 = [df_merge['is_change_2'] for i in range(3)]\n",
    "df = prepare_set_changes_questions(popr, changes1, changes2, 'poprawnosc')\n",
    "\n",
    "for i in ['quest1', 'quest2']:\n",
    "    print('----------------')\n",
    "    print(i)\n",
    "    conduct_chi2test(df, 'poprawnosc', i, ALPHA)"
   ],
   "metadata": {
    "collapsed": false,
    "ExecuteTime": {
     "end_time": "2023-10-20T23:33:57.952150Z",
     "start_time": "2023-10-20T23:33:57.921344Z"
    }
   },
   "id": "6ecbec4e1db8f7e7"
  },
  {
   "cell_type": "code",
   "execution_count": 23,
   "outputs": [
    {
     "name": "stdout",
     "output_type": "stream",
     "text": [
      "----------------\n",
      "quest1\n",
      "quest1      False  True\n",
      "poprawnosc             \n",
      "0              24    12\n",
      "1              72    15\n",
      "Wartość statystyki chi-kwadrat: 2.966708739091102\n",
      "P-value: 0.08499461498099148\n",
      "Brak podstaw do odrzucenia H0.\n",
      "----------------\n",
      "quest2\n",
      "quest2      False  True\n",
      "poprawnosc             \n",
      "0              12    24\n",
      "1              36    51\n",
      "Wartość statystyki chi-kwadrat: 0.3958866139846738\n",
      "P-value: 0.5292212634953144\n",
      "Brak podstaw do odrzucenia H0.\n"
     ]
    }
   ],
   "source": [
    "# grafiki B\n",
    "popr = []\n",
    "for col in df_answers.columns.tolist():\n",
    "    if col.endswith('b_corr'):\n",
    "        popr.append(df_answers[col])\n",
    "        \n",
    "changes1 = [df_merge['is_change_1'] for i in range(3)]\n",
    "changes2 = [df_merge['is_change_2'] for i in range(3)]\n",
    "df = prepare_set_changes_questions(popr, changes1, changes2, 'poprawnosc')\n",
    "\n",
    "for i in ['quest1', 'quest2']:\n",
    "    print('----------------')\n",
    "    print(i)\n",
    "    conduct_chi2test(df, 'poprawnosc', i, ALPHA)"
   ],
   "metadata": {
    "collapsed": false,
    "ExecuteTime": {
     "end_time": "2023-10-20T23:34:07.047954Z",
     "start_time": "2023-10-20T23:34:07.026443Z"
    }
   },
   "id": "d82afdf0722e24be"
  },
  {
   "cell_type": "code",
   "execution_count": 25,
   "outputs": [
    {
     "name": "stdout",
     "output_type": "stream",
     "text": [
      "1:\n",
      "----------------\n",
      "quest1\n",
      "quest1      False  True\n",
      "poprawnosc             \n",
      "0               3     5\n",
      "1              61    13\n",
      "Wartość statystyki chi-kwadrat: 6.087019636824325\n",
      "P-value: 0.013617860689217585\n",
      "Istnieją podstawy do odrzucenia H0, przyjmujemy hipotezę H1.\n",
      "----------------\n",
      "quest2\n",
      "quest2      False  True\n",
      "poprawnosc             \n",
      "0               3     5\n",
      "1              29    45\n",
      "Wartość statystyki chi-kwadrat: 0.0\n",
      "P-value: 1.0\n",
      "Brak podstaw do odrzucenia H0.\n",
      "--------------------------------------------\n",
      "2:\n",
      "----------------\n",
      "quest1\n",
      "quest1      False  True\n",
      "poprawnosc             \n",
      "0              17     6\n",
      "1              47    12\n",
      "Wartość statystyki chi-kwadrat: 0.07181000777859668\n",
      "P-value: 0.7887194137435113\n",
      "Brak podstaw do odrzucenia H0.\n",
      "----------------\n",
      "quest2\n",
      "quest2      False  True\n",
      "poprawnosc             \n",
      "0               5    18\n",
      "1              27    32\n",
      "Wartość statystyki chi-kwadrat: 3.0676354089904216\n",
      "P-value: 0.07986556189878524\n",
      "Brak podstaw do odrzucenia H0.\n",
      "--------------------------------------------\n",
      "3:\n",
      "----------------\n",
      "quest1\n",
      "quest1      False  True\n",
      "poprawnosc             \n",
      "0              30    11\n",
      "1              34     7\n",
      "Wartość statystyki chi-kwadrat: 0.640625\n",
      "P-value: 0.42348456621606534\n",
      "Brak podstaw do odrzucenia H0.\n",
      "----------------\n",
      "quest2\n",
      "quest2      False  True\n",
      "poprawnosc             \n",
      "0              18    23\n",
      "1              14    27\n",
      "Wartość statystyki chi-kwadrat: 0.46124999999999994\n",
      "P-value: 0.4970403627842026\n",
      "Brak podstaw do odrzucenia H0.\n"
     ]
    }
   ],
   "source": [
    "# grafiki 1,2,3\n",
    "popr = []\n",
    "for col in df_merge.columns.tolist():\n",
    "    if col.startswith('1') and col.endswith('_corr'):\n",
    "        popr.append(df_merge[col])\n",
    "\n",
    "changes1 = [df_merge['is_change_1'] for i in range(2)]\n",
    "changes2 = [df_merge['is_change_2'] for i in range(2)]\n",
    "df = prepare_set_changes_questions(popr, changes1, changes2, 'poprawnosc')\n",
    "\n",
    "print('1:')\n",
    "for i in ['quest1', 'quest2']:\n",
    "    print('----------------')\n",
    "    print(i)\n",
    "    conduct_chi2test(df, 'poprawnosc', i, ALPHA)\n",
    "\n",
    "popr = []\n",
    "for col in df_merge.columns.tolist():\n",
    "    if col.startswith('2') and col.endswith('_corr'):\n",
    "        popr.append(df_merge[col])\n",
    "\n",
    "changes1 = [df_merge['is_change_1'] for i in range(2)]\n",
    "changes2 = [df_merge['is_change_2'] for i in range(2)]\n",
    "df = prepare_set_changes_questions(popr, changes1, changes2, 'poprawnosc')\n",
    "\n",
    "print('--------------------------------------------')\n",
    "print('2:')\n",
    "for i in ['quest1', 'quest2']:\n",
    "    print('----------------')\n",
    "    print(i)\n",
    "    conduct_chi2test(df, 'poprawnosc', i, ALPHA)\n",
    "\n",
    "popr = []\n",
    "for col in df_merge.columns.tolist():\n",
    "    if col.startswith('3') and col.endswith('_corr'):\n",
    "        popr.append(df_merge[col])\n",
    "\n",
    "changes1 = [df_merge['is_change_1'] for i in range(2)]\n",
    "changes2 = [df_merge['is_change_2'] for i in range(2)]\n",
    "df = prepare_set_changes_questions(popr, changes1, changes2, 'poprawnosc')\n",
    "\n",
    "print('--------------------------------------------')\n",
    "print('3:')\n",
    "for i in ['quest1', 'quest2']:\n",
    "    print('----------------')\n",
    "    print(i)\n",
    "    conduct_chi2test(df, 'poprawnosc', i, ALPHA)"
   ],
   "metadata": {
    "collapsed": false,
    "ExecuteTime": {
     "end_time": "2023-10-20T23:35:27.625397Z",
     "start_time": "2023-10-20T23:35:27.598004Z"
    }
   },
   "id": "776a8122a514de4f"
  },
  {
   "cell_type": "code",
   "execution_count": 27,
   "outputs": [
    {
     "name": "stdout",
     "output_type": "stream",
     "text": [
      "----------------\n",
      "quest1      False  True\n",
      "poprawnosc             \n",
      "0               2     3\n",
      "1              30     6\n",
      "Wartość statystyki chi-kwadrat: 2.6148967978395055\n",
      "P-value: 0.10586441215755699\n",
      "Brak podstaw do odrzucenia H0.\n",
      "----------------\n",
      "quest1      False  True\n",
      "poprawnosc             \n",
      "0               1     2\n",
      "1              31     7\n",
      "Wartość statystyki chi-kwadrat: 1.486362390350877\n",
      "P-value: 0.22278171435089766\n",
      "Brak podstaw do odrzucenia H0.\n"
     ]
    }
   ],
   "source": [
    "# dla garfik 1 wyszło H1: sprawdzamy dla 1a i 1b\n",
    "df1a = df_merge[['is_change_1', '1a_corr']].rename(columns={'1a_corr':'poprawnosc', 'is_change_1': 'quest1'})\n",
    "df1b = df_merge[['is_change_1', '1b_corr']].rename(columns={'1b_corr':'poprawnosc', 'is_change_1': 'quest1'})\n",
    "\n",
    "for i in [df1a, df1b]:\n",
    "    print('----------------')\n",
    "    conduct_chi2test(i, 'poprawnosc', 'quest1', ALPHA)"
   ],
   "metadata": {
    "collapsed": false,
    "ExecuteTime": {
     "end_time": "2023-10-20T23:37:22.012492Z",
     "start_time": "2023-10-20T23:37:21.998860Z"
    }
   },
   "id": "afb847bfae26c6d4"
  },
  {
   "cell_type": "markdown",
   "source": [
    "Podsumowanie:\n",
    "Zmiana zdania nie wpłynęła na poprawność odpowiedzi w sposób istotny statystycznie poza grafikami typu 1."
   ],
   "metadata": {
    "collapsed": false
   },
   "id": "5b5e8f9b2dd72b00"
  },
  {
   "cell_type": "code",
   "execution_count": null,
   "outputs": [],
   "source": [],
   "metadata": {
    "collapsed": false
   },
   "id": "5a3dbf51d6764f95"
  }
 ],
 "metadata": {
  "kernelspec": {
   "display_name": "Python 3",
   "language": "python",
   "name": "python3"
  },
  "language_info": {
   "codemirror_mode": {
    "name": "ipython",
    "version": 2
   },
   "file_extension": ".py",
   "mimetype": "text/x-python",
   "name": "python",
   "nbconvert_exporter": "python",
   "pygments_lexer": "ipython2",
   "version": "2.7.6"
  }
 },
 "nbformat": 4,
 "nbformat_minor": 5
}
