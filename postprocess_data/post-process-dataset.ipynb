{
 "cells": [
  {
   "cell_type": "code",
   "execution_count": 2,
   "id": "initial_id",
   "metadata": {
    "collapsed": true,
    "ExecuteTime": {
     "end_time": "2023-10-24T19:13:16.444400Z",
     "start_time": "2023-10-24T19:13:16.435982Z"
    }
   },
   "outputs": [],
   "source": [
    "import pandas as pd"
   ]
  },
  {
   "cell_type": "code",
   "execution_count": 2,
   "outputs": [],
   "source": [
    "df_answers = pd.read_csv('/Users/martasolarz/Studies/Thesis/data/correctness.csv',\n",
    "                         usecols=['1a_corr', '1b_corr', '2a_corr', '2b_corr', '3a_corr', '3b_corr', '1a_trud', '1b_trud', '2a_trud', '2b_trud', '3a_trud', '3b_trud', 'Trud_all', 'Wynik', 'ID']).rename(columns={'Wynik':'Corr_all'})\n",
    "\n",
    "df_answers = df_answers[df_answers.ID != 6] \n",
    "\n",
    "df_answers.set_index('ID', inplace=True)\n",
    "\n",
    "a = df_answers[['1a_corr', '2a_corr', '3a_corr']]\n",
    "b = df_answers[['1b_corr', '2b_corr', '3b_corr']]\n",
    "df_answers['SumCorr_a'] = a.apply(lambda x: x.sum(), axis=1)\n",
    "df_answers['SumCorr_b'] = b.apply(lambda x: x.sum(), axis=1)\n",
    "gr1 = df_answers[['1a_corr', '1b_corr']]\n",
    "gr2 = df_answers[['2a_corr', '2b_corr']]\n",
    "gr3 = df_answers[['3a_corr', '3b_corr']]\n",
    "df_answers['SumCorr_1'] = gr1.apply(lambda x: x.sum(), axis=1)\n",
    "df_answers['SumCorr_2'] = gr2.apply(lambda x: x.sum(), axis=1)\n",
    "df_answers['SumCorr_3'] = gr3.apply(lambda x: x.sum(), axis=1)\n",
    "\n",
    "a = df_answers[['1a_trud', '2a_trud', '3a_trud']]\n",
    "b = df_answers[['1b_trud', '2b_trud', '3b_trud']]\n",
    "df_answers['SumTrud_a'] = a.apply(lambda x: x.sum(), axis=1)\n",
    "df_answers['SumTrud_b'] = b.apply(lambda x: x.sum(), axis=1)\n",
    "gr1 = df_answers[['1a_trud', '1b_trud']]\n",
    "gr2 = df_answers[['2a_trud', '2b_trud']]\n",
    "gr3 = df_answers[['3a_trud', '3b_trud']]\n",
    "df_answers['SumTrud_1'] = gr1.apply(lambda x: x.sum(), axis=1)\n",
    "df_answers['SumTrud_2'] = gr2.apply(lambda x: x.sum(), axis=1)\n",
    "df_answers['SumTrud_3'] = gr3.apply(lambda x: x.sum(), axis=1)\n",
    "\n",
    "df_answers.to_csv('./sets/correctness.csv')"
   ],
   "metadata": {
    "collapsed": false,
    "ExecuteTime": {
     "end_time": "2023-10-23T21:01:57.798019Z",
     "start_time": "2023-10-23T21:01:57.774486Z"
    }
   },
   "id": "f0d4c97a88151dc8"
  },
  {
   "cell_type": "code",
   "execution_count": 4,
   "outputs": [
    {
     "data": {
      "text/plain": "    Total    Avg  Num  Avg_pupil Last_AOI  Corr  Trud\n0    3133  104.0   30    2.96666   1a_com     1     3\n1   36009  187.0  193    2.90671   1a_map     1     1\n2   13774   98.0  140    4.18933   1a_map     1     2\n3   42868  213.0  201    3.47541   1a_map     1     3\n4   33214  242.0  137    3.83562   1a_map     1     4\n..    ...    ...  ...        ...      ...   ...   ...\n75  17849  184.0   97    3.65692   1b_tab     1     1\n76   6022  154.0   39    3.39869   1b_plt     1     2\n77  28642  177.0  162    2.77836   1b_tab     1     1\n78  13065  136.0   96    3.13123   1b_tab     1     1\n79  58146  222.0  262    2.93005   1b_plt     1     3\n\n[80 rows x 7 columns]",
      "text/html": "<div>\n<style scoped>\n    .dataframe tbody tr th:only-of-type {\n        vertical-align: middle;\n    }\n\n    .dataframe tbody tr th {\n        vertical-align: top;\n    }\n\n    .dataframe thead th {\n        text-align: right;\n    }\n</style>\n<table border=\"1\" class=\"dataframe\">\n  <thead>\n    <tr style=\"text-align: right;\">\n      <th></th>\n      <th>Total</th>\n      <th>Avg</th>\n      <th>Num</th>\n      <th>Avg_pupil</th>\n      <th>Last_AOI</th>\n      <th>Corr</th>\n      <th>Trud</th>\n    </tr>\n  </thead>\n  <tbody>\n    <tr>\n      <th>0</th>\n      <td>3133</td>\n      <td>104.0</td>\n      <td>30</td>\n      <td>2.96666</td>\n      <td>1a_com</td>\n      <td>1</td>\n      <td>3</td>\n    </tr>\n    <tr>\n      <th>1</th>\n      <td>36009</td>\n      <td>187.0</td>\n      <td>193</td>\n      <td>2.90671</td>\n      <td>1a_map</td>\n      <td>1</td>\n      <td>1</td>\n    </tr>\n    <tr>\n      <th>2</th>\n      <td>13774</td>\n      <td>98.0</td>\n      <td>140</td>\n      <td>4.18933</td>\n      <td>1a_map</td>\n      <td>1</td>\n      <td>2</td>\n    </tr>\n    <tr>\n      <th>3</th>\n      <td>42868</td>\n      <td>213.0</td>\n      <td>201</td>\n      <td>3.47541</td>\n      <td>1a_map</td>\n      <td>1</td>\n      <td>3</td>\n    </tr>\n    <tr>\n      <th>4</th>\n      <td>33214</td>\n      <td>242.0</td>\n      <td>137</td>\n      <td>3.83562</td>\n      <td>1a_map</td>\n      <td>1</td>\n      <td>4</td>\n    </tr>\n    <tr>\n      <th>...</th>\n      <td>...</td>\n      <td>...</td>\n      <td>...</td>\n      <td>...</td>\n      <td>...</td>\n      <td>...</td>\n      <td>...</td>\n    </tr>\n    <tr>\n      <th>75</th>\n      <td>17849</td>\n      <td>184.0</td>\n      <td>97</td>\n      <td>3.65692</td>\n      <td>1b_tab</td>\n      <td>1</td>\n      <td>1</td>\n    </tr>\n    <tr>\n      <th>76</th>\n      <td>6022</td>\n      <td>154.0</td>\n      <td>39</td>\n      <td>3.39869</td>\n      <td>1b_plt</td>\n      <td>1</td>\n      <td>2</td>\n    </tr>\n    <tr>\n      <th>77</th>\n      <td>28642</td>\n      <td>177.0</td>\n      <td>162</td>\n      <td>2.77836</td>\n      <td>1b_tab</td>\n      <td>1</td>\n      <td>1</td>\n    </tr>\n    <tr>\n      <th>78</th>\n      <td>13065</td>\n      <td>136.0</td>\n      <td>96</td>\n      <td>3.13123</td>\n      <td>1b_tab</td>\n      <td>1</td>\n      <td>1</td>\n    </tr>\n    <tr>\n      <th>79</th>\n      <td>58146</td>\n      <td>222.0</td>\n      <td>262</td>\n      <td>2.93005</td>\n      <td>1b_plt</td>\n      <td>1</td>\n      <td>3</td>\n    </tr>\n  </tbody>\n</table>\n<p>80 rows × 7 columns</p>\n</div>"
     },
     "execution_count": 4,
     "metadata": {},
     "output_type": "execute_result"
    }
   ],
   "source": [
    "from functions.set_preparations import prepare_collections\n",
    "\n",
    "df_answers = pd.read_csv('/Users/martasolarz/Studies/Thesis/data/correctness.csv',\n",
    "                         usecols=['1a_corr', '1b_corr', '2a_corr', '2b_corr', '3a_corr', '3b_corr', '1a_trud', '1b_trud', '2a_trud', '2b_trud', '3a_trud', '3b_trud', 'Trud_all', 'Wynik', 'ID']).rename(columns={'Wynik':'Corr_all'})\n",
    "\n",
    "df_answers = df_answers[df_answers.ID != 6] \n",
    "\n",
    "df_answers.set_index('ID', inplace=True)\n",
    "\n",
    "df_1a = pd.read_csv('/Users/martasolarz/Studies/Thesis/data/metrics/AOI_fixation/1a.csv', index_col='ID')\n",
    "\n",
    "df_2a = pd.read_csv('/Users/martasolarz/Studies/Thesis/data/metrics/AOI_fixation/2a.csv',\n",
    "index_col='ID')\n",
    "\n",
    "df_3a = pd.read_csv('/Users/martasolarz/Studies/Thesis/data/metrics/AOI_fixation/3a.csv', index_col='ID')\n",
    "\n",
    "df_1aggr = pd.read_csv('/Users/martasolarz/Studies/Thesis/data/metrics/AOI_fixation/1b-aggregate.csv', index_col='ID')\n",
    "\n",
    "df_2aggr = pd.read_csv('/Users/martasolarz/Studies/Thesis/data/metrics/AOI_fixation/2b-aggregate.csv', index_col='ID')\n",
    "\n",
    "df_3aggr = pd.read_csv('/Users/martasolarz/Studies/Thesis/data/metrics/AOI_fixation/3b-aggregate.csv', index_col='ID')\n",
    "\n",
    "df_1b = pd.read_csv('/Users/martasolarz/Studies/Thesis/data/metrics/AOI_fixation/1b.csv', index_col='ID')\n",
    "\n",
    "df_2b = pd.read_csv('/Users/martasolarz/Studies/Thesis/data/metrics/AOI_fixation/2b.csv', index_col='ID')\n",
    "\n",
    "df_3b = pd.read_csv('/Users/martasolarz/Studies/Thesis/data/metrics/AOI_fixation/3b.csv', index_col='ID')\n",
    "\n",
    "df_collAll, df_collA, df_collB, df_coll1, df_coll2, df_coll3 = prepare_collections(df_answers, df_1a, df_1aggr, df_1b, df_2a, df_2aggr, df_2b, df_3a, df_3aggr, df_3b, flag=True)\n",
    "df_coll1"
   ],
   "metadata": {
    "collapsed": false,
    "ExecuteTime": {
     "end_time": "2023-10-24T19:13:38.484287Z",
     "start_time": "2023-10-24T19:13:38.444566Z"
    }
   },
   "id": "77e311def8f5d4ef"
  },
  {
   "cell_type": "code",
   "execution_count": null,
   "outputs": [],
   "source": [
    "df_collAll.to_csv('./sets/collAll.csv')\n",
    "df_collA.to_csv('./sets/collA.csv')\n",
    "df_collB.to_csv('./sets/collB.csv')\n",
    "df_coll1.to_csv('./sets/coll1.csv')\n",
    "df_coll2.to_csv('./sets/coll2.csv')\n",
    "df_coll3.to_csv('./sets/coll3.csv')"
   ],
   "metadata": {
    "collapsed": false
   },
   "id": "607431944c40657"
  }
 ],
 "metadata": {
  "kernelspec": {
   "display_name": "Python 3",
   "language": "python",
   "name": "python3"
  },
  "language_info": {
   "codemirror_mode": {
    "name": "ipython",
    "version": 2
   },
   "file_extension": ".py",
   "mimetype": "text/x-python",
   "name": "python",
   "nbconvert_exporter": "python",
   "pygments_lexer": "ipython2",
   "version": "2.7.6"
  }
 },
 "nbformat": 4,
 "nbformat_minor": 5
}
