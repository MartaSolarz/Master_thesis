{
 "cells": [
  {
   "cell_type": "markdown",
   "source": [
    "# Temat testów\n",
    "Czy istnieje istotna statystycznie różnica w ocenie trudności zadania w zależności od cech osobowościowych z ankiety?"
   ],
   "metadata": {
    "collapsed": false
   },
   "id": "a1ec9284217d2903"
  },
  {
   "cell_type": "code",
   "execution_count": 3,
   "outputs": [],
   "source": [
    "import pandas as pd\n",
    "\n",
    "from functions.tests.independent_groups.two_groups import mann_whitney_test\n",
    "from functions.tests.independent_groups.more_than_two_groups import kruskal_wallis_test\n",
    "from functions.tests.posthoc import posthocNemenyi2_test\n",
    "from functions.others import choose_dominant_kind, change_to_ranges_roz, change_to_ranges_podst"
   ],
   "metadata": {
    "collapsed": false,
    "ExecuteTime": {
     "end_time": "2023-12-08T15:30:45.379801Z",
     "start_time": "2023-12-08T15:30:44.009083Z"
    }
   },
   "id": "2b7d70f653339cca"
  },
  {
   "cell_type": "code",
   "execution_count": 4,
   "outputs": [],
   "source": [
    "df_answers = pd.read_csv('/Users/martasolarz/Studies/Thesis/Master_thesis/prepare_datasets/sets/correctness.csv')\n",
    "\n",
    "df_quest = pd.read_csv(\n",
    "    '/Users/martasolarz/Studies/Thesis/data/survey.csv',\n",
    ").fillna('NO_VAL')\n",
    "\n",
    "df_quest = df_quest[df_quest.ID != 6]  # odrzucony uczestnik ze względu na metryki eye trackingowe"
   ],
   "metadata": {
    "collapsed": false,
    "ExecuteTime": {
     "end_time": "2023-12-08T15:30:45.395847Z",
     "start_time": "2023-12-08T15:30:45.383289Z"
    }
   },
   "id": "4b76b2ea71a0ebf8"
  },
  {
   "cell_type": "code",
   "execution_count": 5,
   "outputs": [
    {
     "data": {
      "text/plain": "   ID Płeć  Rok_urodzenia         Kierunek_studiów  Rok_studiów Specjalność  \\\n0   1    M           2002         MISMaP Geografia            2    SPOŁ-EKO   \n1   2    M           2003  Gospodarka przestrzenna            1      NO_VAL   \n2   3    M           2001                Geografia            3     GEOINF    \n3   4    K           2000                Geografia            3     GEOINF    \n4   5    K           2002                Geografia            3     GEOINF    \n\n   Wady_wzroku  Daltonizm Ilość_snu  JP_podst  ...  Rank_map  Rank_txt  \\\n0            0          1         6         4  ...         3         4   \n1            1          1        <6         2  ...         2         3   \n2            0          1         8         2  ...         1         4   \n3            0          1         8         2  ...         2         4   \n4            0          1         7         2  ...         2         4   \n\n   Rank_plt  Rank_tab        Data   Godzina     MAT     POL    HIST  \\\n0         1         2  2023-05-24  11:44:20     VAL     VAL  NO_VAL   \n1         1         4  2023-05-24  12:21:03     VAL     VAL  NO_VAL   \n2         3         2  2023-05-24  12:41:09     VAL  NO_VAL  NO_VAL   \n3         3         1  2023-05-24  13:15:20  NO_VAL     VAL  NO_VAL   \n4         1         3  2023-05-24  13:35:17  NO_VAL  NO_VAL  NO_VAL   \n\n         Typ_uczenia  \n0         Kinestetyk  \n1  Brak dominującego  \n2         Wzrokowiec  \n3  Brak dominującego  \n4         Wzrokowiec  \n\n[5 rows x 38 columns]",
      "text/html": "<div>\n<style scoped>\n    .dataframe tbody tr th:only-of-type {\n        vertical-align: middle;\n    }\n\n    .dataframe tbody tr th {\n        vertical-align: top;\n    }\n\n    .dataframe thead th {\n        text-align: right;\n    }\n</style>\n<table border=\"1\" class=\"dataframe\">\n  <thead>\n    <tr style=\"text-align: right;\">\n      <th></th>\n      <th>ID</th>\n      <th>Płeć</th>\n      <th>Rok_urodzenia</th>\n      <th>Kierunek_studiów</th>\n      <th>Rok_studiów</th>\n      <th>Specjalność</th>\n      <th>Wady_wzroku</th>\n      <th>Daltonizm</th>\n      <th>Ilość_snu</th>\n      <th>JP_podst</th>\n      <th>...</th>\n      <th>Rank_map</th>\n      <th>Rank_txt</th>\n      <th>Rank_plt</th>\n      <th>Rank_tab</th>\n      <th>Data</th>\n      <th>Godzina</th>\n      <th>MAT</th>\n      <th>POL</th>\n      <th>HIST</th>\n      <th>Typ_uczenia</th>\n    </tr>\n  </thead>\n  <tbody>\n    <tr>\n      <th>0</th>\n      <td>1</td>\n      <td>M</td>\n      <td>2002</td>\n      <td>MISMaP Geografia</td>\n      <td>2</td>\n      <td>SPOŁ-EKO</td>\n      <td>0</td>\n      <td>1</td>\n      <td>6</td>\n      <td>4</td>\n      <td>...</td>\n      <td>3</td>\n      <td>4</td>\n      <td>1</td>\n      <td>2</td>\n      <td>2023-05-24</td>\n      <td>11:44:20</td>\n      <td>VAL</td>\n      <td>VAL</td>\n      <td>NO_VAL</td>\n      <td>Kinestetyk</td>\n    </tr>\n    <tr>\n      <th>1</th>\n      <td>2</td>\n      <td>M</td>\n      <td>2003</td>\n      <td>Gospodarka przestrzenna</td>\n      <td>1</td>\n      <td>NO_VAL</td>\n      <td>1</td>\n      <td>1</td>\n      <td>&lt;6</td>\n      <td>2</td>\n      <td>...</td>\n      <td>2</td>\n      <td>3</td>\n      <td>1</td>\n      <td>4</td>\n      <td>2023-05-24</td>\n      <td>12:21:03</td>\n      <td>VAL</td>\n      <td>VAL</td>\n      <td>NO_VAL</td>\n      <td>Brak dominującego</td>\n    </tr>\n    <tr>\n      <th>2</th>\n      <td>3</td>\n      <td>M</td>\n      <td>2001</td>\n      <td>Geografia</td>\n      <td>3</td>\n      <td>GEOINF</td>\n      <td>0</td>\n      <td>1</td>\n      <td>8</td>\n      <td>2</td>\n      <td>...</td>\n      <td>1</td>\n      <td>4</td>\n      <td>3</td>\n      <td>2</td>\n      <td>2023-05-24</td>\n      <td>12:41:09</td>\n      <td>VAL</td>\n      <td>NO_VAL</td>\n      <td>NO_VAL</td>\n      <td>Wzrokowiec</td>\n    </tr>\n    <tr>\n      <th>3</th>\n      <td>4</td>\n      <td>K</td>\n      <td>2000</td>\n      <td>Geografia</td>\n      <td>3</td>\n      <td>GEOINF</td>\n      <td>0</td>\n      <td>1</td>\n      <td>8</td>\n      <td>2</td>\n      <td>...</td>\n      <td>2</td>\n      <td>4</td>\n      <td>3</td>\n      <td>1</td>\n      <td>2023-05-24</td>\n      <td>13:15:20</td>\n      <td>NO_VAL</td>\n      <td>VAL</td>\n      <td>NO_VAL</td>\n      <td>Brak dominującego</td>\n    </tr>\n    <tr>\n      <th>4</th>\n      <td>5</td>\n      <td>K</td>\n      <td>2002</td>\n      <td>Geografia</td>\n      <td>3</td>\n      <td>GEOINF</td>\n      <td>0</td>\n      <td>1</td>\n      <td>7</td>\n      <td>2</td>\n      <td>...</td>\n      <td>2</td>\n      <td>4</td>\n      <td>1</td>\n      <td>3</td>\n      <td>2023-05-24</td>\n      <td>13:35:17</td>\n      <td>NO_VAL</td>\n      <td>NO_VAL</td>\n      <td>NO_VAL</td>\n      <td>Wzrokowiec</td>\n    </tr>\n  </tbody>\n</table>\n<p>5 rows × 38 columns</p>\n</div>"
     },
     "execution_count": 5,
     "metadata": {},
     "output_type": "execute_result"
    }
   ],
   "source": [
    "# zagregowane kolumny - podział na tych co pisali i nie pisali danej matury oraz agregacja typów uczenia poznawczego (wybór dominującego):\n",
    "df_quest['MAT'] = df_quest['MAT_roz'].apply(lambda x: x if x == 'NO_VAL' else 'VAL')\n",
    "df_quest['POL'] = df_quest['JP_roz'].apply(lambda x: x if x == 'NO_VAL' else 'VAL')\n",
    "df_quest['HIST'] = df_quest['HIST_roz'].apply(lambda x: x if x == 'NO_VAL' else 'VAL')\n",
    "df_quest['Typ_uczenia'] = df_quest.apply(choose_dominant_kind, axis=1)\n",
    "df_quest['Kierunek_studiów'] = df_quest['Kierunek_studiów'].apply(lambda x: 'MISMaP Geografia' if x == 'Geografia, w ramach studiów międzyobszarowych' else x)\n",
    "df_quest['JP_podst'] = df_quest['JP_podst'].apply(change_to_ranges_podst)\n",
    "df_quest['MAT_podst'] = df_quest['MAT_podst'].apply(change_to_ranges_podst)\n",
    "df_quest['JP_roz'] = df_quest['JP_roz'].apply(change_to_ranges_roz)\n",
    "df_quest['MAT_roz'] = df_quest['MAT_roz'].apply(change_to_ranges_roz)\n",
    "df_quest['HIST_roz'] = df_quest['HIST_roz'].apply(change_to_ranges_roz)\n",
    "df_quest['FIZ_roz'] = df_quest['FIZ_roz'].apply(change_to_ranges_roz)\n",
    "df_quest.head()"
   ],
   "metadata": {
    "collapsed": false,
    "ExecuteTime": {
     "end_time": "2023-12-08T15:30:45.424897Z",
     "start_time": "2023-12-08T15:30:45.397205Z"
    }
   },
   "id": "f4ddfe54fd72661d"
  },
  {
   "cell_type": "code",
   "execution_count": 6,
   "outputs": [
    {
     "data": {
      "text/plain": "    1a_trud  1b_trud  2a_trud  2b_trud  3a_trud  3b_trud  Trud_all  Corr_all  \\\nID                                                                             \n42        2        1        2        1        2        2        10         5   \n43        1        2        2        2        3        3        13         5   \n44        1        1        3        1        2        3        11         3   \n45        2        1        2        2        2        2        11         3   \n46        1        3        2        2        2        3        13         4   \n\n    1a_corr  1b_corr  ...  Rank_map  Rank_txt  Rank_plt  Rank_tab        Data  \\\nID                    ...                                                       \n42        1        1  ...         2         4         1         3  2023-06-07   \n43        1        1  ...         2         3         1         2  2023-06-07   \n44        1        1  ...         2         1         2         1  2023-06-07   \n45        1        1  ...         2         4         3         1  2023-06-07   \n46        0        1  ...         1         3         3         3  2023-06-07   \n\n     Godzina     MAT     POL    HIST        Typ_uczenia  \nID                                                       \n42  11:42:55  NO_VAL  NO_VAL  NO_VAL         Wzrokowiec  \n43  13:04:51  NO_VAL  NO_VAL  NO_VAL  Brak dominującego  \n44  14:13:38     VAL  NO_VAL  NO_VAL  Brak dominującego  \n45  14:27:37     VAL  NO_VAL  NO_VAL         Słuchowiec  \n46  15:19:52  NO_VAL  NO_VAL  NO_VAL  Brak dominującego  \n\n[5 rows x 61 columns]",
      "text/html": "<div>\n<style scoped>\n    .dataframe tbody tr th:only-of-type {\n        vertical-align: middle;\n    }\n\n    .dataframe tbody tr th {\n        vertical-align: top;\n    }\n\n    .dataframe thead th {\n        text-align: right;\n    }\n</style>\n<table border=\"1\" class=\"dataframe\">\n  <thead>\n    <tr style=\"text-align: right;\">\n      <th></th>\n      <th>1a_trud</th>\n      <th>1b_trud</th>\n      <th>2a_trud</th>\n      <th>2b_trud</th>\n      <th>3a_trud</th>\n      <th>3b_trud</th>\n      <th>Trud_all</th>\n      <th>Corr_all</th>\n      <th>1a_corr</th>\n      <th>1b_corr</th>\n      <th>...</th>\n      <th>Rank_map</th>\n      <th>Rank_txt</th>\n      <th>Rank_plt</th>\n      <th>Rank_tab</th>\n      <th>Data</th>\n      <th>Godzina</th>\n      <th>MAT</th>\n      <th>POL</th>\n      <th>HIST</th>\n      <th>Typ_uczenia</th>\n    </tr>\n    <tr>\n      <th>ID</th>\n      <th></th>\n      <th></th>\n      <th></th>\n      <th></th>\n      <th></th>\n      <th></th>\n      <th></th>\n      <th></th>\n      <th></th>\n      <th></th>\n      <th></th>\n      <th></th>\n      <th></th>\n      <th></th>\n      <th></th>\n      <th></th>\n      <th></th>\n      <th></th>\n      <th></th>\n      <th></th>\n      <th></th>\n    </tr>\n  </thead>\n  <tbody>\n    <tr>\n      <th>42</th>\n      <td>2</td>\n      <td>1</td>\n      <td>2</td>\n      <td>1</td>\n      <td>2</td>\n      <td>2</td>\n      <td>10</td>\n      <td>5</td>\n      <td>1</td>\n      <td>1</td>\n      <td>...</td>\n      <td>2</td>\n      <td>4</td>\n      <td>1</td>\n      <td>3</td>\n      <td>2023-06-07</td>\n      <td>11:42:55</td>\n      <td>NO_VAL</td>\n      <td>NO_VAL</td>\n      <td>NO_VAL</td>\n      <td>Wzrokowiec</td>\n    </tr>\n    <tr>\n      <th>43</th>\n      <td>1</td>\n      <td>2</td>\n      <td>2</td>\n      <td>2</td>\n      <td>3</td>\n      <td>3</td>\n      <td>13</td>\n      <td>5</td>\n      <td>1</td>\n      <td>1</td>\n      <td>...</td>\n      <td>2</td>\n      <td>3</td>\n      <td>1</td>\n      <td>2</td>\n      <td>2023-06-07</td>\n      <td>13:04:51</td>\n      <td>NO_VAL</td>\n      <td>NO_VAL</td>\n      <td>NO_VAL</td>\n      <td>Brak dominującego</td>\n    </tr>\n    <tr>\n      <th>44</th>\n      <td>1</td>\n      <td>1</td>\n      <td>3</td>\n      <td>1</td>\n      <td>2</td>\n      <td>3</td>\n      <td>11</td>\n      <td>3</td>\n      <td>1</td>\n      <td>1</td>\n      <td>...</td>\n      <td>2</td>\n      <td>1</td>\n      <td>2</td>\n      <td>1</td>\n      <td>2023-06-07</td>\n      <td>14:13:38</td>\n      <td>VAL</td>\n      <td>NO_VAL</td>\n      <td>NO_VAL</td>\n      <td>Brak dominującego</td>\n    </tr>\n    <tr>\n      <th>45</th>\n      <td>2</td>\n      <td>1</td>\n      <td>2</td>\n      <td>2</td>\n      <td>2</td>\n      <td>2</td>\n      <td>11</td>\n      <td>3</td>\n      <td>1</td>\n      <td>1</td>\n      <td>...</td>\n      <td>2</td>\n      <td>4</td>\n      <td>3</td>\n      <td>1</td>\n      <td>2023-06-07</td>\n      <td>14:27:37</td>\n      <td>VAL</td>\n      <td>NO_VAL</td>\n      <td>NO_VAL</td>\n      <td>Słuchowiec</td>\n    </tr>\n    <tr>\n      <th>46</th>\n      <td>1</td>\n      <td>3</td>\n      <td>2</td>\n      <td>2</td>\n      <td>2</td>\n      <td>3</td>\n      <td>13</td>\n      <td>4</td>\n      <td>0</td>\n      <td>1</td>\n      <td>...</td>\n      <td>1</td>\n      <td>3</td>\n      <td>3</td>\n      <td>3</td>\n      <td>2023-06-07</td>\n      <td>15:19:52</td>\n      <td>NO_VAL</td>\n      <td>NO_VAL</td>\n      <td>NO_VAL</td>\n      <td>Brak dominującego</td>\n    </tr>\n  </tbody>\n</table>\n<p>5 rows × 61 columns</p>\n</div>"
     },
     "execution_count": 6,
     "metadata": {},
     "output_type": "execute_result"
    }
   ],
   "source": [
    "df_merge = df_answers.merge(df_quest, on='ID').set_index('ID')\n",
    "df_merge.tail()"
   ],
   "metadata": {
    "collapsed": false,
    "ExecuteTime": {
     "end_time": "2023-12-08T15:30:45.445221Z",
     "start_time": "2023-12-08T15:30:45.414231Z"
    }
   },
   "id": "29feb229f7e7ff3"
  },
  {
   "cell_type": "markdown",
   "source": [
    "Przygotowanie data setów dla wszystkich testowanych przypadków:\n",
    "\n",
    "Trudność vs dane osobowe"
   ],
   "metadata": {
    "collapsed": false
   },
   "id": "8787e28959913403"
  },
  {
   "cell_type": "code",
   "execution_count": 7,
   "outputs": [
    {
     "data": {
      "text/plain": "    1a_trud  1b_trud  2a_trud  2b_trud  3a_trud  3b_trud  Trud_all  Corr_all  \\\nID                                                                             \n1         3        1        4        3        4        4        19         4   \n2         1        2        3        1        2        4        13         5   \n3         2        1        3        1        1        1         9         4   \n4         3        2        2        1        3        5        16         5   \n5         4        2        3        2        3        3        17         6   \n7         2        2        2        1        4        3        14         6   \n11        2        1        3        2        1        2        11         2   \n12        1        1        3        3        2        2        12         2   \n13        2        4        2        1        1        3        13         5   \n14        2        3        2        5        4        4        20         5   \n15        2        3        4        2        4        5        20         4   \n16        3        2        1        3        3        3        15         5   \n17        3        2        2        2        2        3        14         4   \n18        3        1        4        4        1        1        14         2   \n19        3        2        1        3        2        4        15         5   \n20        3        3        5        2        4        5        22         3   \n21        2        2        1        2        5        4        16         5   \n22        3        2        2        3        1        3        14         4   \n23        4        1        1        2        1        1        10         4   \n24        3        2        1        1        4        5        16         6   \n25        3        2        4        4        1        3        17         0   \n26        3        2        2        4        4        4        19         5   \n27        3        2        2        2        3        4        16         3   \n29        1        1        3        1        2        2        10         5   \n30        3        2        1        1        2        1        10         3   \n31        2        2        3        2        2        3        14         3   \n32        2        3        3        3        3        4        18         6   \n33        3        1        1        2        3        2        12         5   \n34        1        1        4        2        3        2        13         3   \n35        5        2        2        1        4        4        18         6   \n37        2        1        2        3        4        4        16         6   \n38        4        2        1        1        3        4        15         6   \n39        2        3        3        4        2        3        17         3   \n40        4        3        3        4        2        4        20         4   \n41        2        2        2        2        3        3        14         5   \n42        2        1        2        1        2        2        10         5   \n43        1        2        2        2        3        3        13         5   \n44        1        1        3        1        2        3        11         3   \n45        2        1        2        2        2        2        11         3   \n46        1        3        2        2        2        3        13         4   \n\n    1a_corr  1b_corr  ...  Rank_map  Rank_txt  Rank_plt  Rank_tab        Data  \\\nID                    ...                                                       \n1         1        1  ...         3         4         1         2  2023-05-24   \n2         1        1  ...         2         3         1         4  2023-05-24   \n3         1        1  ...         1         4         3         2  2023-05-24   \n4         1        1  ...         2         4         3         1  2023-05-24   \n5         1        1  ...         2         4         1         3  2023-05-24   \n7         1        1  ...         2         4         1         3  2023-05-25   \n11        1        0  ...         1         4         1         3  2023-05-25   \n12        1        1  ...         1         4         2         3  2023-05-25   \n13        1        1  ...         1         4         2         3  2023-05-25   \n14        1        1  ...         2         4         3         1  2023-05-25   \n15        1        1  ...         1         3         2         4  2023-05-26   \n16        1        1  ...         2         4         1         3  2023-05-29   \n17        1        1  ...         1         4         2         2  2023-05-29   \n18        1        1  ...         1         4         1         2  2023-05-29   \n19        1        1  ...         1         4         2         1  2023-05-29   \n20        1        1  ...         1         4         3         1  2023-05-29   \n21        1        1  ...         1         4         3         2  2023-05-30   \n22        1        1  ...         1         4         3         2  2023-05-30   \n23        1        1  ...         4         3         2         1  2023-05-30   \n24        1        1  ...         2         4         3         1  2023-05-30   \n25        0        0  ...         1         4         2         2  2023-05-30   \n26        1        1  ...         1         4         2         3  2023-05-30   \n27        1        1  ...         1         4         2         3  2023-05-30   \n29        1        1  ...         3         2         4         1  2023-05-31   \n30        0        0  ...         1         4         2         3  2023-05-31   \n31        0        1  ...         1         3         2         3  2023-05-31   \n32        1        1  ...         1         2         4         3  2023-05-31   \n33        1        1  ...         2         3         1         4  2023-05-31   \n34        1        1  ...         2         4         1         3  2023-05-31   \n35        1        1  ...         2         4         1         3  2023-06-01   \n37        1        1  ...         1         3         2         4  2023-06-01   \n38        1        1  ...         2         4         1         3  2023-06-05   \n39        0        1  ...         1         4         2         3  2023-06-05   \n40        1        1  ...         1         4         2         3  2023-06-05   \n41        1        1  ...         2         4         1         3  2023-06-05   \n42        1        1  ...         2         4         1         3  2023-06-07   \n43        1        1  ...         2         3         1         2  2023-06-07   \n44        1        1  ...         2         1         2         1  2023-06-07   \n45        1        1  ...         2         4         3         1  2023-06-07   \n46        0        1  ...         1         3         3         3  2023-06-07   \n\n     Godzina     MAT     POL    HIST        Typ_uczenia  \nID                                                       \n1   11:44:20     VAL     VAL  NO_VAL         Kinestetyk  \n2   12:21:03     VAL     VAL  NO_VAL  Brak dominującego  \n3   12:41:09     VAL  NO_VAL  NO_VAL         Wzrokowiec  \n4   13:15:20  NO_VAL     VAL  NO_VAL  Brak dominującego  \n5   13:35:17  NO_VAL  NO_VAL  NO_VAL         Wzrokowiec  \n7   13:46:15     VAL  NO_VAL     VAL  Brak dominującego  \n11  14:12:48  NO_VAL  NO_VAL  NO_VAL         Wzrokowiec  \n12  14:47:58     VAL  NO_VAL  NO_VAL  Brak dominującego  \n13  15:13:03     VAL  NO_VAL  NO_VAL         Wzrokowiec  \n14  16:03:22     VAL  NO_VAL  NO_VAL         Wzrokowiec  \n15  14:15:39     VAL     VAL     VAL         Słuchowiec  \n16  11:14:17     VAL  NO_VAL  NO_VAL         Słuchowiec  \n17  11:27:10  NO_VAL     VAL  NO_VAL         Wzrokowiec  \n18  12:12:06     VAL  NO_VAL  NO_VAL         Wzrokowiec  \n19  13:47:24     VAL  NO_VAL  NO_VAL         Wzrokowiec  \n20  14:19:08  NO_VAL     VAL  NO_VAL         Wzrokowiec  \n21  07:41:39  NO_VAL  NO_VAL     VAL         Wzrokowiec  \n22  08:10:34  NO_VAL  NO_VAL  NO_VAL  Brak dominującego  \n23  08:44:33     VAL  NO_VAL  NO_VAL         Kinestetyk  \n24  09:13:10     VAL  NO_VAL  NO_VAL         Wzrokowiec  \n25  10:33:34  NO_VAL  NO_VAL  NO_VAL         Słuchowiec  \n26  10:54:04     VAL  NO_VAL  NO_VAL         Wzrokowiec  \n27  12:16:48     VAL  NO_VAL  NO_VAL         Wzrokowiec  \n29  11:53:01  NO_VAL     VAL  NO_VAL         Wzrokowiec  \n30  12:06:03     VAL  NO_VAL  NO_VAL         Wzrokowiec  \n31  12:28:25  NO_VAL     VAL  NO_VAL         Wzrokowiec  \n32  13:16:56     VAL  NO_VAL  NO_VAL  Brak dominującego  \n33  14:15:16  NO_VAL  NO_VAL  NO_VAL         Wzrokowiec  \n34  15:52:34     VAL  NO_VAL  NO_VAL         Wzrokowiec  \n35  13:44:11     VAL  NO_VAL  NO_VAL  Brak dominującego  \n37  15:19:26  NO_VAL  NO_VAL  NO_VAL         Wzrokowiec  \n38  10:39:00  NO_VAL  NO_VAL  NO_VAL         Wzrokowiec  \n39  11:13:04  NO_VAL  NO_VAL  NO_VAL         Wzrokowiec  \n40  11:37:34  NO_VAL  NO_VAL  NO_VAL         Słuchowiec  \n41  14:18:15     VAL     VAL     VAL         Słuchowiec  \n42  11:42:55  NO_VAL  NO_VAL  NO_VAL         Wzrokowiec  \n43  13:04:51  NO_VAL  NO_VAL  NO_VAL  Brak dominującego  \n44  14:13:38     VAL  NO_VAL  NO_VAL  Brak dominującego  \n45  14:27:37     VAL  NO_VAL  NO_VAL         Słuchowiec  \n46  15:19:52  NO_VAL  NO_VAL  NO_VAL  Brak dominującego  \n\n[40 rows x 61 columns]",
      "text/html": "<div>\n<style scoped>\n    .dataframe tbody tr th:only-of-type {\n        vertical-align: middle;\n    }\n\n    .dataframe tbody tr th {\n        vertical-align: top;\n    }\n\n    .dataframe thead th {\n        text-align: right;\n    }\n</style>\n<table border=\"1\" class=\"dataframe\">\n  <thead>\n    <tr style=\"text-align: right;\">\n      <th></th>\n      <th>1a_trud</th>\n      <th>1b_trud</th>\n      <th>2a_trud</th>\n      <th>2b_trud</th>\n      <th>3a_trud</th>\n      <th>3b_trud</th>\n      <th>Trud_all</th>\n      <th>Corr_all</th>\n      <th>1a_corr</th>\n      <th>1b_corr</th>\n      <th>...</th>\n      <th>Rank_map</th>\n      <th>Rank_txt</th>\n      <th>Rank_plt</th>\n      <th>Rank_tab</th>\n      <th>Data</th>\n      <th>Godzina</th>\n      <th>MAT</th>\n      <th>POL</th>\n      <th>HIST</th>\n      <th>Typ_uczenia</th>\n    </tr>\n    <tr>\n      <th>ID</th>\n      <th></th>\n      <th></th>\n      <th></th>\n      <th></th>\n      <th></th>\n      <th></th>\n      <th></th>\n      <th></th>\n      <th></th>\n      <th></th>\n      <th></th>\n      <th></th>\n      <th></th>\n      <th></th>\n      <th></th>\n      <th></th>\n      <th></th>\n      <th></th>\n      <th></th>\n      <th></th>\n      <th></th>\n    </tr>\n  </thead>\n  <tbody>\n    <tr>\n      <th>1</th>\n      <td>3</td>\n      <td>1</td>\n      <td>4</td>\n      <td>3</td>\n      <td>4</td>\n      <td>4</td>\n      <td>19</td>\n      <td>4</td>\n      <td>1</td>\n      <td>1</td>\n      <td>...</td>\n      <td>3</td>\n      <td>4</td>\n      <td>1</td>\n      <td>2</td>\n      <td>2023-05-24</td>\n      <td>11:44:20</td>\n      <td>VAL</td>\n      <td>VAL</td>\n      <td>NO_VAL</td>\n      <td>Kinestetyk</td>\n    </tr>\n    <tr>\n      <th>2</th>\n      <td>1</td>\n      <td>2</td>\n      <td>3</td>\n      <td>1</td>\n      <td>2</td>\n      <td>4</td>\n      <td>13</td>\n      <td>5</td>\n      <td>1</td>\n      <td>1</td>\n      <td>...</td>\n      <td>2</td>\n      <td>3</td>\n      <td>1</td>\n      <td>4</td>\n      <td>2023-05-24</td>\n      <td>12:21:03</td>\n      <td>VAL</td>\n      <td>VAL</td>\n      <td>NO_VAL</td>\n      <td>Brak dominującego</td>\n    </tr>\n    <tr>\n      <th>3</th>\n      <td>2</td>\n      <td>1</td>\n      <td>3</td>\n      <td>1</td>\n      <td>1</td>\n      <td>1</td>\n      <td>9</td>\n      <td>4</td>\n      <td>1</td>\n      <td>1</td>\n      <td>...</td>\n      <td>1</td>\n      <td>4</td>\n      <td>3</td>\n      <td>2</td>\n      <td>2023-05-24</td>\n      <td>12:41:09</td>\n      <td>VAL</td>\n      <td>NO_VAL</td>\n      <td>NO_VAL</td>\n      <td>Wzrokowiec</td>\n    </tr>\n    <tr>\n      <th>4</th>\n      <td>3</td>\n      <td>2</td>\n      <td>2</td>\n      <td>1</td>\n      <td>3</td>\n      <td>5</td>\n      <td>16</td>\n      <td>5</td>\n      <td>1</td>\n      <td>1</td>\n      <td>...</td>\n      <td>2</td>\n      <td>4</td>\n      <td>3</td>\n      <td>1</td>\n      <td>2023-05-24</td>\n      <td>13:15:20</td>\n      <td>NO_VAL</td>\n      <td>VAL</td>\n      <td>NO_VAL</td>\n      <td>Brak dominującego</td>\n    </tr>\n    <tr>\n      <th>5</th>\n      <td>4</td>\n      <td>2</td>\n      <td>3</td>\n      <td>2</td>\n      <td>3</td>\n      <td>3</td>\n      <td>17</td>\n      <td>6</td>\n      <td>1</td>\n      <td>1</td>\n      <td>...</td>\n      <td>2</td>\n      <td>4</td>\n      <td>1</td>\n      <td>3</td>\n      <td>2023-05-24</td>\n      <td>13:35:17</td>\n      <td>NO_VAL</td>\n      <td>NO_VAL</td>\n      <td>NO_VAL</td>\n      <td>Wzrokowiec</td>\n    </tr>\n    <tr>\n      <th>7</th>\n      <td>2</td>\n      <td>2</td>\n      <td>2</td>\n      <td>1</td>\n      <td>4</td>\n      <td>3</td>\n      <td>14</td>\n      <td>6</td>\n      <td>1</td>\n      <td>1</td>\n      <td>...</td>\n      <td>2</td>\n      <td>4</td>\n      <td>1</td>\n      <td>3</td>\n      <td>2023-05-25</td>\n      <td>13:46:15</td>\n      <td>VAL</td>\n      <td>NO_VAL</td>\n      <td>VAL</td>\n      <td>Brak dominującego</td>\n    </tr>\n    <tr>\n      <th>11</th>\n      <td>2</td>\n      <td>1</td>\n      <td>3</td>\n      <td>2</td>\n      <td>1</td>\n      <td>2</td>\n      <td>11</td>\n      <td>2</td>\n      <td>1</td>\n      <td>0</td>\n      <td>...</td>\n      <td>1</td>\n      <td>4</td>\n      <td>1</td>\n      <td>3</td>\n      <td>2023-05-25</td>\n      <td>14:12:48</td>\n      <td>NO_VAL</td>\n      <td>NO_VAL</td>\n      <td>NO_VAL</td>\n      <td>Wzrokowiec</td>\n    </tr>\n    <tr>\n      <th>12</th>\n      <td>1</td>\n      <td>1</td>\n      <td>3</td>\n      <td>3</td>\n      <td>2</td>\n      <td>2</td>\n      <td>12</td>\n      <td>2</td>\n      <td>1</td>\n      <td>1</td>\n      <td>...</td>\n      <td>1</td>\n      <td>4</td>\n      <td>2</td>\n      <td>3</td>\n      <td>2023-05-25</td>\n      <td>14:47:58</td>\n      <td>VAL</td>\n      <td>NO_VAL</td>\n      <td>NO_VAL</td>\n      <td>Brak dominującego</td>\n    </tr>\n    <tr>\n      <th>13</th>\n      <td>2</td>\n      <td>4</td>\n      <td>2</td>\n      <td>1</td>\n      <td>1</td>\n      <td>3</td>\n      <td>13</td>\n      <td>5</td>\n      <td>1</td>\n      <td>1</td>\n      <td>...</td>\n      <td>1</td>\n      <td>4</td>\n      <td>2</td>\n      <td>3</td>\n      <td>2023-05-25</td>\n      <td>15:13:03</td>\n      <td>VAL</td>\n      <td>NO_VAL</td>\n      <td>NO_VAL</td>\n      <td>Wzrokowiec</td>\n    </tr>\n    <tr>\n      <th>14</th>\n      <td>2</td>\n      <td>3</td>\n      <td>2</td>\n      <td>5</td>\n      <td>4</td>\n      <td>4</td>\n      <td>20</td>\n      <td>5</td>\n      <td>1</td>\n      <td>1</td>\n      <td>...</td>\n      <td>2</td>\n      <td>4</td>\n      <td>3</td>\n      <td>1</td>\n      <td>2023-05-25</td>\n      <td>16:03:22</td>\n      <td>VAL</td>\n      <td>NO_VAL</td>\n      <td>NO_VAL</td>\n      <td>Wzrokowiec</td>\n    </tr>\n    <tr>\n      <th>15</th>\n      <td>2</td>\n      <td>3</td>\n      <td>4</td>\n      <td>2</td>\n      <td>4</td>\n      <td>5</td>\n      <td>20</td>\n      <td>4</td>\n      <td>1</td>\n      <td>1</td>\n      <td>...</td>\n      <td>1</td>\n      <td>3</td>\n      <td>2</td>\n      <td>4</td>\n      <td>2023-05-26</td>\n      <td>14:15:39</td>\n      <td>VAL</td>\n      <td>VAL</td>\n      <td>VAL</td>\n      <td>Słuchowiec</td>\n    </tr>\n    <tr>\n      <th>16</th>\n      <td>3</td>\n      <td>2</td>\n      <td>1</td>\n      <td>3</td>\n      <td>3</td>\n      <td>3</td>\n      <td>15</td>\n      <td>5</td>\n      <td>1</td>\n      <td>1</td>\n      <td>...</td>\n      <td>2</td>\n      <td>4</td>\n      <td>1</td>\n      <td>3</td>\n      <td>2023-05-29</td>\n      <td>11:14:17</td>\n      <td>VAL</td>\n      <td>NO_VAL</td>\n      <td>NO_VAL</td>\n      <td>Słuchowiec</td>\n    </tr>\n    <tr>\n      <th>17</th>\n      <td>3</td>\n      <td>2</td>\n      <td>2</td>\n      <td>2</td>\n      <td>2</td>\n      <td>3</td>\n      <td>14</td>\n      <td>4</td>\n      <td>1</td>\n      <td>1</td>\n      <td>...</td>\n      <td>1</td>\n      <td>4</td>\n      <td>2</td>\n      <td>2</td>\n      <td>2023-05-29</td>\n      <td>11:27:10</td>\n      <td>NO_VAL</td>\n      <td>VAL</td>\n      <td>NO_VAL</td>\n      <td>Wzrokowiec</td>\n    </tr>\n    <tr>\n      <th>18</th>\n      <td>3</td>\n      <td>1</td>\n      <td>4</td>\n      <td>4</td>\n      <td>1</td>\n      <td>1</td>\n      <td>14</td>\n      <td>2</td>\n      <td>1</td>\n      <td>1</td>\n      <td>...</td>\n      <td>1</td>\n      <td>4</td>\n      <td>1</td>\n      <td>2</td>\n      <td>2023-05-29</td>\n      <td>12:12:06</td>\n      <td>VAL</td>\n      <td>NO_VAL</td>\n      <td>NO_VAL</td>\n      <td>Wzrokowiec</td>\n    </tr>\n    <tr>\n      <th>19</th>\n      <td>3</td>\n      <td>2</td>\n      <td>1</td>\n      <td>3</td>\n      <td>2</td>\n      <td>4</td>\n      <td>15</td>\n      <td>5</td>\n      <td>1</td>\n      <td>1</td>\n      <td>...</td>\n      <td>1</td>\n      <td>4</td>\n      <td>2</td>\n      <td>1</td>\n      <td>2023-05-29</td>\n      <td>13:47:24</td>\n      <td>VAL</td>\n      <td>NO_VAL</td>\n      <td>NO_VAL</td>\n      <td>Wzrokowiec</td>\n    </tr>\n    <tr>\n      <th>20</th>\n      <td>3</td>\n      <td>3</td>\n      <td>5</td>\n      <td>2</td>\n      <td>4</td>\n      <td>5</td>\n      <td>22</td>\n      <td>3</td>\n      <td>1</td>\n      <td>1</td>\n      <td>...</td>\n      <td>1</td>\n      <td>4</td>\n      <td>3</td>\n      <td>1</td>\n      <td>2023-05-29</td>\n      <td>14:19:08</td>\n      <td>NO_VAL</td>\n      <td>VAL</td>\n      <td>NO_VAL</td>\n      <td>Wzrokowiec</td>\n    </tr>\n    <tr>\n      <th>21</th>\n      <td>2</td>\n      <td>2</td>\n      <td>1</td>\n      <td>2</td>\n      <td>5</td>\n      <td>4</td>\n      <td>16</td>\n      <td>5</td>\n      <td>1</td>\n      <td>1</td>\n      <td>...</td>\n      <td>1</td>\n      <td>4</td>\n      <td>3</td>\n      <td>2</td>\n      <td>2023-05-30</td>\n      <td>07:41:39</td>\n      <td>NO_VAL</td>\n      <td>NO_VAL</td>\n      <td>VAL</td>\n      <td>Wzrokowiec</td>\n    </tr>\n    <tr>\n      <th>22</th>\n      <td>3</td>\n      <td>2</td>\n      <td>2</td>\n      <td>3</td>\n      <td>1</td>\n      <td>3</td>\n      <td>14</td>\n      <td>4</td>\n      <td>1</td>\n      <td>1</td>\n      <td>...</td>\n      <td>1</td>\n      <td>4</td>\n      <td>3</td>\n      <td>2</td>\n      <td>2023-05-30</td>\n      <td>08:10:34</td>\n      <td>NO_VAL</td>\n      <td>NO_VAL</td>\n      <td>NO_VAL</td>\n      <td>Brak dominującego</td>\n    </tr>\n    <tr>\n      <th>23</th>\n      <td>4</td>\n      <td>1</td>\n      <td>1</td>\n      <td>2</td>\n      <td>1</td>\n      <td>1</td>\n      <td>10</td>\n      <td>4</td>\n      <td>1</td>\n      <td>1</td>\n      <td>...</td>\n      <td>4</td>\n      <td>3</td>\n      <td>2</td>\n      <td>1</td>\n      <td>2023-05-30</td>\n      <td>08:44:33</td>\n      <td>VAL</td>\n      <td>NO_VAL</td>\n      <td>NO_VAL</td>\n      <td>Kinestetyk</td>\n    </tr>\n    <tr>\n      <th>24</th>\n      <td>3</td>\n      <td>2</td>\n      <td>1</td>\n      <td>1</td>\n      <td>4</td>\n      <td>5</td>\n      <td>16</td>\n      <td>6</td>\n      <td>1</td>\n      <td>1</td>\n      <td>...</td>\n      <td>2</td>\n      <td>4</td>\n      <td>3</td>\n      <td>1</td>\n      <td>2023-05-30</td>\n      <td>09:13:10</td>\n      <td>VAL</td>\n      <td>NO_VAL</td>\n      <td>NO_VAL</td>\n      <td>Wzrokowiec</td>\n    </tr>\n    <tr>\n      <th>25</th>\n      <td>3</td>\n      <td>2</td>\n      <td>4</td>\n      <td>4</td>\n      <td>1</td>\n      <td>3</td>\n      <td>17</td>\n      <td>0</td>\n      <td>0</td>\n      <td>0</td>\n      <td>...</td>\n      <td>1</td>\n      <td>4</td>\n      <td>2</td>\n      <td>2</td>\n      <td>2023-05-30</td>\n      <td>10:33:34</td>\n      <td>NO_VAL</td>\n      <td>NO_VAL</td>\n      <td>NO_VAL</td>\n      <td>Słuchowiec</td>\n    </tr>\n    <tr>\n      <th>26</th>\n      <td>3</td>\n      <td>2</td>\n      <td>2</td>\n      <td>4</td>\n      <td>4</td>\n      <td>4</td>\n      <td>19</td>\n      <td>5</td>\n      <td>1</td>\n      <td>1</td>\n      <td>...</td>\n      <td>1</td>\n      <td>4</td>\n      <td>2</td>\n      <td>3</td>\n      <td>2023-05-30</td>\n      <td>10:54:04</td>\n      <td>VAL</td>\n      <td>NO_VAL</td>\n      <td>NO_VAL</td>\n      <td>Wzrokowiec</td>\n    </tr>\n    <tr>\n      <th>27</th>\n      <td>3</td>\n      <td>2</td>\n      <td>2</td>\n      <td>2</td>\n      <td>3</td>\n      <td>4</td>\n      <td>16</td>\n      <td>3</td>\n      <td>1</td>\n      <td>1</td>\n      <td>...</td>\n      <td>1</td>\n      <td>4</td>\n      <td>2</td>\n      <td>3</td>\n      <td>2023-05-30</td>\n      <td>12:16:48</td>\n      <td>VAL</td>\n      <td>NO_VAL</td>\n      <td>NO_VAL</td>\n      <td>Wzrokowiec</td>\n    </tr>\n    <tr>\n      <th>29</th>\n      <td>1</td>\n      <td>1</td>\n      <td>3</td>\n      <td>1</td>\n      <td>2</td>\n      <td>2</td>\n      <td>10</td>\n      <td>5</td>\n      <td>1</td>\n      <td>1</td>\n      <td>...</td>\n      <td>3</td>\n      <td>2</td>\n      <td>4</td>\n      <td>1</td>\n      <td>2023-05-31</td>\n      <td>11:53:01</td>\n      <td>NO_VAL</td>\n      <td>VAL</td>\n      <td>NO_VAL</td>\n      <td>Wzrokowiec</td>\n    </tr>\n    <tr>\n      <th>30</th>\n      <td>3</td>\n      <td>2</td>\n      <td>1</td>\n      <td>1</td>\n      <td>2</td>\n      <td>1</td>\n      <td>10</td>\n      <td>3</td>\n      <td>0</td>\n      <td>0</td>\n      <td>...</td>\n      <td>1</td>\n      <td>4</td>\n      <td>2</td>\n      <td>3</td>\n      <td>2023-05-31</td>\n      <td>12:06:03</td>\n      <td>VAL</td>\n      <td>NO_VAL</td>\n      <td>NO_VAL</td>\n      <td>Wzrokowiec</td>\n    </tr>\n    <tr>\n      <th>31</th>\n      <td>2</td>\n      <td>2</td>\n      <td>3</td>\n      <td>2</td>\n      <td>2</td>\n      <td>3</td>\n      <td>14</td>\n      <td>3</td>\n      <td>0</td>\n      <td>1</td>\n      <td>...</td>\n      <td>1</td>\n      <td>3</td>\n      <td>2</td>\n      <td>3</td>\n      <td>2023-05-31</td>\n      <td>12:28:25</td>\n      <td>NO_VAL</td>\n      <td>VAL</td>\n      <td>NO_VAL</td>\n      <td>Wzrokowiec</td>\n    </tr>\n    <tr>\n      <th>32</th>\n      <td>2</td>\n      <td>3</td>\n      <td>3</td>\n      <td>3</td>\n      <td>3</td>\n      <td>4</td>\n      <td>18</td>\n      <td>6</td>\n      <td>1</td>\n      <td>1</td>\n      <td>...</td>\n      <td>1</td>\n      <td>2</td>\n      <td>4</td>\n      <td>3</td>\n      <td>2023-05-31</td>\n      <td>13:16:56</td>\n      <td>VAL</td>\n      <td>NO_VAL</td>\n      <td>NO_VAL</td>\n      <td>Brak dominującego</td>\n    </tr>\n    <tr>\n      <th>33</th>\n      <td>3</td>\n      <td>1</td>\n      <td>1</td>\n      <td>2</td>\n      <td>3</td>\n      <td>2</td>\n      <td>12</td>\n      <td>5</td>\n      <td>1</td>\n      <td>1</td>\n      <td>...</td>\n      <td>2</td>\n      <td>3</td>\n      <td>1</td>\n      <td>4</td>\n      <td>2023-05-31</td>\n      <td>14:15:16</td>\n      <td>NO_VAL</td>\n      <td>NO_VAL</td>\n      <td>NO_VAL</td>\n      <td>Wzrokowiec</td>\n    </tr>\n    <tr>\n      <th>34</th>\n      <td>1</td>\n      <td>1</td>\n      <td>4</td>\n      <td>2</td>\n      <td>3</td>\n      <td>2</td>\n      <td>13</td>\n      <td>3</td>\n      <td>1</td>\n      <td>1</td>\n      <td>...</td>\n      <td>2</td>\n      <td>4</td>\n      <td>1</td>\n      <td>3</td>\n      <td>2023-05-31</td>\n      <td>15:52:34</td>\n      <td>VAL</td>\n      <td>NO_VAL</td>\n      <td>NO_VAL</td>\n      <td>Wzrokowiec</td>\n    </tr>\n    <tr>\n      <th>35</th>\n      <td>5</td>\n      <td>2</td>\n      <td>2</td>\n      <td>1</td>\n      <td>4</td>\n      <td>4</td>\n      <td>18</td>\n      <td>6</td>\n      <td>1</td>\n      <td>1</td>\n      <td>...</td>\n      <td>2</td>\n      <td>4</td>\n      <td>1</td>\n      <td>3</td>\n      <td>2023-06-01</td>\n      <td>13:44:11</td>\n      <td>VAL</td>\n      <td>NO_VAL</td>\n      <td>NO_VAL</td>\n      <td>Brak dominującego</td>\n    </tr>\n    <tr>\n      <th>37</th>\n      <td>2</td>\n      <td>1</td>\n      <td>2</td>\n      <td>3</td>\n      <td>4</td>\n      <td>4</td>\n      <td>16</td>\n      <td>6</td>\n      <td>1</td>\n      <td>1</td>\n      <td>...</td>\n      <td>1</td>\n      <td>3</td>\n      <td>2</td>\n      <td>4</td>\n      <td>2023-06-01</td>\n      <td>15:19:26</td>\n      <td>NO_VAL</td>\n      <td>NO_VAL</td>\n      <td>NO_VAL</td>\n      <td>Wzrokowiec</td>\n    </tr>\n    <tr>\n      <th>38</th>\n      <td>4</td>\n      <td>2</td>\n      <td>1</td>\n      <td>1</td>\n      <td>3</td>\n      <td>4</td>\n      <td>15</td>\n      <td>6</td>\n      <td>1</td>\n      <td>1</td>\n      <td>...</td>\n      <td>2</td>\n      <td>4</td>\n      <td>1</td>\n      <td>3</td>\n      <td>2023-06-05</td>\n      <td>10:39:00</td>\n      <td>NO_VAL</td>\n      <td>NO_VAL</td>\n      <td>NO_VAL</td>\n      <td>Wzrokowiec</td>\n    </tr>\n    <tr>\n      <th>39</th>\n      <td>2</td>\n      <td>3</td>\n      <td>3</td>\n      <td>4</td>\n      <td>2</td>\n      <td>3</td>\n      <td>17</td>\n      <td>3</td>\n      <td>0</td>\n      <td>1</td>\n      <td>...</td>\n      <td>1</td>\n      <td>4</td>\n      <td>2</td>\n      <td>3</td>\n      <td>2023-06-05</td>\n      <td>11:13:04</td>\n      <td>NO_VAL</td>\n      <td>NO_VAL</td>\n      <td>NO_VAL</td>\n      <td>Wzrokowiec</td>\n    </tr>\n    <tr>\n      <th>40</th>\n      <td>4</td>\n      <td>3</td>\n      <td>3</td>\n      <td>4</td>\n      <td>2</td>\n      <td>4</td>\n      <td>20</td>\n      <td>4</td>\n      <td>1</td>\n      <td>1</td>\n      <td>...</td>\n      <td>1</td>\n      <td>4</td>\n      <td>2</td>\n      <td>3</td>\n      <td>2023-06-05</td>\n      <td>11:37:34</td>\n      <td>NO_VAL</td>\n      <td>NO_VAL</td>\n      <td>NO_VAL</td>\n      <td>Słuchowiec</td>\n    </tr>\n    <tr>\n      <th>41</th>\n      <td>2</td>\n      <td>2</td>\n      <td>2</td>\n      <td>2</td>\n      <td>3</td>\n      <td>3</td>\n      <td>14</td>\n      <td>5</td>\n      <td>1</td>\n      <td>1</td>\n      <td>...</td>\n      <td>2</td>\n      <td>4</td>\n      <td>1</td>\n      <td>3</td>\n      <td>2023-06-05</td>\n      <td>14:18:15</td>\n      <td>VAL</td>\n      <td>VAL</td>\n      <td>VAL</td>\n      <td>Słuchowiec</td>\n    </tr>\n    <tr>\n      <th>42</th>\n      <td>2</td>\n      <td>1</td>\n      <td>2</td>\n      <td>1</td>\n      <td>2</td>\n      <td>2</td>\n      <td>10</td>\n      <td>5</td>\n      <td>1</td>\n      <td>1</td>\n      <td>...</td>\n      <td>2</td>\n      <td>4</td>\n      <td>1</td>\n      <td>3</td>\n      <td>2023-06-07</td>\n      <td>11:42:55</td>\n      <td>NO_VAL</td>\n      <td>NO_VAL</td>\n      <td>NO_VAL</td>\n      <td>Wzrokowiec</td>\n    </tr>\n    <tr>\n      <th>43</th>\n      <td>1</td>\n      <td>2</td>\n      <td>2</td>\n      <td>2</td>\n      <td>3</td>\n      <td>3</td>\n      <td>13</td>\n      <td>5</td>\n      <td>1</td>\n      <td>1</td>\n      <td>...</td>\n      <td>2</td>\n      <td>3</td>\n      <td>1</td>\n      <td>2</td>\n      <td>2023-06-07</td>\n      <td>13:04:51</td>\n      <td>NO_VAL</td>\n      <td>NO_VAL</td>\n      <td>NO_VAL</td>\n      <td>Brak dominującego</td>\n    </tr>\n    <tr>\n      <th>44</th>\n      <td>1</td>\n      <td>1</td>\n      <td>3</td>\n      <td>1</td>\n      <td>2</td>\n      <td>3</td>\n      <td>11</td>\n      <td>3</td>\n      <td>1</td>\n      <td>1</td>\n      <td>...</td>\n      <td>2</td>\n      <td>1</td>\n      <td>2</td>\n      <td>1</td>\n      <td>2023-06-07</td>\n      <td>14:13:38</td>\n      <td>VAL</td>\n      <td>NO_VAL</td>\n      <td>NO_VAL</td>\n      <td>Brak dominującego</td>\n    </tr>\n    <tr>\n      <th>45</th>\n      <td>2</td>\n      <td>1</td>\n      <td>2</td>\n      <td>2</td>\n      <td>2</td>\n      <td>2</td>\n      <td>11</td>\n      <td>3</td>\n      <td>1</td>\n      <td>1</td>\n      <td>...</td>\n      <td>2</td>\n      <td>4</td>\n      <td>3</td>\n      <td>1</td>\n      <td>2023-06-07</td>\n      <td>14:27:37</td>\n      <td>VAL</td>\n      <td>NO_VAL</td>\n      <td>NO_VAL</td>\n      <td>Słuchowiec</td>\n    </tr>\n    <tr>\n      <th>46</th>\n      <td>1</td>\n      <td>3</td>\n      <td>2</td>\n      <td>2</td>\n      <td>2</td>\n      <td>3</td>\n      <td>13</td>\n      <td>4</td>\n      <td>0</td>\n      <td>1</td>\n      <td>...</td>\n      <td>1</td>\n      <td>3</td>\n      <td>3</td>\n      <td>3</td>\n      <td>2023-06-07</td>\n      <td>15:19:52</td>\n      <td>NO_VAL</td>\n      <td>NO_VAL</td>\n      <td>NO_VAL</td>\n      <td>Brak dominującego</td>\n    </tr>\n  </tbody>\n</table>\n<p>40 rows × 61 columns</p>\n</div>"
     },
     "execution_count": 7,
     "metadata": {},
     "output_type": "execute_result"
    }
   ],
   "source": [
    "# zsumowany wynik wszystkie grafiki\n",
    "df_wynik = df_merge.copy()\n",
    "df_wynik.rename(columns={'Corr_all': 'corr', 'Trud_all': 'diff'}, inplace=True)\n",
    "\n",
    "# zsumowany wynik - grafiki A\n",
    "df_sumA = df_merge.copy()\n",
    "df_sumA.rename(columns={'SumCorr_a': 'corr', 'SumTrud_a': 'diff'}, inplace=True)\n",
    "\n",
    "# zsumowany wynik - grafiki B\n",
    "df_sumB = df_merge.copy()\n",
    "df_sumB.rename(columns={'SumCorr_b': 'corr', 'SumTrud_b': 'diff'}, inplace=True)\n",
    "\n",
    "# zsumowany wynik - grafiki 1\n",
    "df_sum1 = df_merge.copy()\n",
    "df_sum1.rename(columns={'SumCorr_1': 'corr', 'SumTrud_1': 'diff'}, inplace=True)\n",
    "\n",
    "# zsumowany wynik - grafiki 2\n",
    "df_sum2 = df_merge.copy()\n",
    "df_sum2.rename(columns={'SumCorr_2': 'corr', 'SumTrud_2': 'diff'}, inplace=True)\n",
    "\n",
    "# zsumowany wynik - grafiki 3\n",
    "df_sum3 = df_merge.copy()\n",
    "df_sum3.rename(columns={'SumCorr_3': 'corr', 'SumTrud_3': 'diff'}, inplace=True)\n",
    "df_sum3"
   ],
   "metadata": {
    "collapsed": false,
    "ExecuteTime": {
     "end_time": "2023-12-08T15:30:45.481538Z",
     "start_time": "2023-12-08T15:30:45.428919Z"
    }
   },
   "id": "95f65e8caa2205d1"
  },
  {
   "cell_type": "markdown",
   "source": [
    "### Testy"
   ],
   "metadata": {
    "collapsed": false
   },
   "id": "396d0f6e6eaa795d"
  },
  {
   "cell_type": "markdown",
   "source": [
    "**H0:** Nie ma istotnej statystycznie zależności między trudnością zadania a wartością cechy X.\n",
    "\n",
    "**H1:** Istnieje istotna statystycznie zależność między trudnością zadania a wartością cechy X.\n",
    "\n",
    "**Poziom istotności:** $\\alpha=0.05$\n",
    "\n",
    "Zsumowane grafiki:"
   ],
   "metadata": {
    "collapsed": false
   },
   "id": "910d174c485d645f"
  },
  {
   "cell_type": "code",
   "execution_count": 8,
   "outputs": [],
   "source": [
    "ALPHA = 0.05"
   ],
   "metadata": {
    "collapsed": false,
    "ExecuteTime": {
     "end_time": "2023-12-08T15:30:45.500200Z",
     "start_time": "2023-12-08T15:30:45.446843Z"
    }
   },
   "id": "c6e3830c5d0790d4"
  },
  {
   "cell_type": "code",
   "execution_count": 9,
   "outputs": [
    {
     "data": {
      "text/plain": "Index(['ID', 'Płeć', 'Rok_urodzenia', 'Kierunek_studiów', 'Rok_studiów',\n       'Specjalność', 'Wady_wzroku', 'Daltonizm', 'Ilość_snu', 'JP_podst',\n       'MAT_podst', 'JP_roz', 'MAT_roz', 'FIZ_roz', 'HIST_roz', 'Samopocz',\n       'Stres', 'Zmęcz', 'Czyt_map', 'Podziel_uwg', 'Analit_myśl', 'Spostrzeg',\n       'Czyt_ze_zroz', 'Wzrokowiec', 'Słuchowiec', 'Kinestetyk',\n       'Quest1_after', 'Quest2_after', 'Rank_map', 'Rank_txt', 'Rank_plt',\n       'Rank_tab', 'Data', 'Godzina', 'MAT', 'POL', 'HIST', 'Typ_uczenia'],\n      dtype='object')"
     },
     "execution_count": 9,
     "metadata": {},
     "output_type": "execute_result"
    }
   ],
   "source": [
    "df_quest.columns"
   ],
   "metadata": {
    "collapsed": false,
    "ExecuteTime": {
     "end_time": "2023-12-08T15:30:45.500655Z",
     "start_time": "2023-12-08T15:30:45.450263Z"
    }
   },
   "id": "464df3b4cdc1569c"
  },
  {
   "cell_type": "code",
   "execution_count": 10,
   "outputs": [],
   "source": [
    "dfs = [df_wynik, df_sumA, df_sumB, df_sum1, df_sum2, df_sum3]\n",
    "names = {\n",
    "    1: 'Zsumowane wszystkie grafiki:',\n",
    "    2: 'Zsumowane grafiki A:',\n",
    "    3: 'Zsumowane grafiki B:',\n",
    "    4: 'Zsumowane grafiki 1:',\n",
    "    5: 'Zsumowane grafiki 2:',\n",
    "    6: 'Zsumowane grafiki 3:',\n",
    "}"
   ],
   "metadata": {
    "collapsed": false,
    "ExecuteTime": {
     "end_time": "2023-12-08T15:30:45.500775Z",
     "start_time": "2023-12-08T15:30:45.453727Z"
    }
   },
   "id": "ac35f464e8f372b8"
  },
  {
   "cell_type": "code",
   "execution_count": 11,
   "outputs": [
    {
     "name": "stdout",
     "output_type": "stream",
     "text": [
      "-------------------------------------\n",
      "Zsumowane wszystkie grafiki:\n",
      "U-statistic: 143.0\n",
      "p-value: 0.1528053578197892\n",
      "Brak podstaw do odrzucenia H0.\n",
      "-------------------------------------\n",
      "Zsumowane grafiki A:\n",
      "U-statistic: 161.5\n",
      "p-value: 0.34328943875180506\n",
      "Brak podstaw do odrzucenia H0.\n",
      "-------------------------------------\n",
      "Zsumowane grafiki B:\n",
      "U-statistic: 135.5\n",
      "p-value: 0.09861224981647494\n",
      "Brak podstaw do odrzucenia H0.\n",
      "-------------------------------------\n",
      "Zsumowane grafiki 1:\n",
      "U-statistic: 128.5\n",
      "p-value: 0.05953075986836803\n",
      "Brak podstaw do odrzucenia H0.\n",
      "-------------------------------------\n",
      "Zsumowane grafiki 2:\n",
      "U-statistic: 148.0\n",
      "p-value: 0.18919273653641733\n",
      "Brak podstaw do odrzucenia H0.\n",
      "-------------------------------------\n",
      "Zsumowane grafiki 3:\n",
      "U-statistic: 198.0\n",
      "p-value: 0.9558883028260049\n",
      "Brak podstaw do odrzucenia H0.\n"
     ]
    }
   ],
   "source": [
    "# płeć\n",
    "results = []\n",
    "var = 'Płeć'\n",
    "results.append(var)\n",
    "for i, df in enumerate(dfs):\n",
    "    print('-------------------------------------')\n",
    "    print(names[i+1])\n",
    "    p_val = mann_whitney_test([df['diff'][df[var] == 'M'], df['diff'][df[var] == 'K']], print_flag=True, alpha=ALPHA)\n",
    "    results.append(p_val)"
   ],
   "metadata": {
    "collapsed": false,
    "ExecuteTime": {
     "end_time": "2023-12-08T15:30:45.500956Z",
     "start_time": "2023-12-08T15:30:45.458290Z"
    }
   },
   "id": "a251bed2f8b34616"
  },
  {
   "cell_type": "code",
   "execution_count": 12,
   "outputs": [
    {
     "name": "stdout",
     "output_type": "stream",
     "text": [
      "-------------------------------------\n",
      "Zsumowane wszystkie grafiki:\n",
      "U-statistic: 223.0\n",
      "p-value: 0.39745334029926815\n",
      "Brak podstaw do odrzucenia H0.\n",
      "-------------------------------------\n",
      "Zsumowane grafiki A:\n",
      "U-statistic: 197.0\n",
      "p-value: 0.8977880121734001\n",
      "Brak podstaw do odrzucenia H0.\n",
      "-------------------------------------\n",
      "Zsumowane grafiki B:\n",
      "U-statistic: 237.0\n",
      "p-value: 0.21259837851487695\n",
      "Brak podstaw do odrzucenia H0.\n",
      "-------------------------------------\n",
      "Zsumowane grafiki 1:\n",
      "U-statistic: 215.5\n",
      "p-value: 0.5107889940850671\n",
      "Brak podstaw do odrzucenia H0.\n",
      "-------------------------------------\n",
      "Zsumowane grafiki 2:\n",
      "U-statistic: 222.5\n",
      "p-value: 0.39773647561841163\n",
      "Brak podstaw do odrzucenia H0.\n",
      "-------------------------------------\n",
      "Zsumowane grafiki 3:\n",
      "U-statistic: 206.5\n",
      "p-value: 0.6960106723132915\n",
      "Brak podstaw do odrzucenia H0.\n"
     ]
    }
   ],
   "source": [
    "# wady wzroku\n",
    "var = 'Wady_wzroku'\n",
    "results.append('\\n')\n",
    "results.append(var)\n",
    "for i, df in enumerate(dfs):\n",
    "    print('-------------------------------------')\n",
    "    print(names[i+1])\n",
    "    p_val = mann_whitney_test([df['diff'][df[var] == 1], df['diff'][df[var] == 0]], print_flag=True, alpha=ALPHA)\n",
    "    results.append(p_val)"
   ],
   "metadata": {
    "collapsed": false,
    "ExecuteTime": {
     "end_time": "2023-12-08T15:30:45.504720Z",
     "start_time": "2023-12-08T15:30:45.475285Z"
    }
   },
   "id": "5d0c1adc35f11063"
  },
  {
   "cell_type": "code",
   "execution_count": 13,
   "outputs": [
    {
     "name": "stdout",
     "output_type": "stream",
     "text": [
      "-------------------------------------\n",
      "Zsumowane wszystkie grafiki:\n",
      "U-statistic: 167.5\n",
      "p-value: 0.37074835068742207\n",
      "Brak podstaw do odrzucenia H0.\n",
      "-------------------------------------\n",
      "Zsumowane grafiki A:\n",
      "U-statistic: 171.0\n",
      "p-value: 0.29919196701555795\n",
      "Brak podstaw do odrzucenia H0.\n",
      "-------------------------------------\n",
      "Zsumowane grafiki B:\n",
      "U-statistic: 153.5\n",
      "p-value: 0.6573159950447007\n",
      "Brak podstaw do odrzucenia H0.\n",
      "-------------------------------------\n",
      "Zsumowane grafiki 1:\n",
      "U-statistic: 129.5\n",
      "p-value: 0.7499844035445999\n",
      "Brak podstaw do odrzucenia H0.\n",
      "-------------------------------------\n",
      "Zsumowane grafiki 2:\n",
      "U-statistic: 161.5\n",
      "p-value: 0.47707165972839605\n",
      "Brak podstaw do odrzucenia H0.\n",
      "-------------------------------------\n",
      "Zsumowane grafiki 3:\n",
      "U-statistic: 186.0\n",
      "p-value: 0.1320455730740121\n",
      "Brak podstaw do odrzucenia H0.\n"
     ]
    }
   ],
   "source": [
    "# osoby które pisały/ nie pisały danej matury rozszerzonej\n",
    "# POL\n",
    "var = 'POL'\n",
    "results.append('\\n')\n",
    "results.append(var)\n",
    "for i, df in enumerate(dfs):\n",
    "    print('-------------------------------------')\n",
    "    print(names[i+1])\n",
    "    p = mann_whitney_test([df['diff'][df[var] == 'VAL'], df['diff'][df[var] == 'NO_VAL']], print_flag=True, alpha=ALPHA)\n",
    "    results.append(p)"
   ],
   "metadata": {
    "collapsed": false,
    "ExecuteTime": {
     "end_time": "2023-12-08T15:30:45.576541Z",
     "start_time": "2023-12-08T15:30:45.479613Z"
    }
   },
   "id": "ddf8ceac6f9a7147"
  },
  {
   "cell_type": "code",
   "execution_count": 14,
   "outputs": [
    {
     "name": "stdout",
     "output_type": "stream",
     "text": [
      "-------------------------------------\n",
      "Zsumowane wszystkie grafiki:\n",
      "U-statistic: 187.0\n",
      "p-value: 0.7742198640107305\n",
      "Brak podstaw do odrzucenia H0.\n",
      "-------------------------------------\n",
      "Zsumowane grafiki A:\n",
      "U-statistic: 198.0\n",
      "p-value: 1.0\n",
      "Brak podstaw do odrzucenia H0.\n",
      "-------------------------------------\n",
      "Zsumowane grafiki B:\n",
      "U-statistic: 180.5\n",
      "p-value: 0.6391392858005757\n",
      "Brak podstaw do odrzucenia H0.\n",
      "-------------------------------------\n",
      "Zsumowane grafiki 1:\n",
      "U-statistic: 186.5\n",
      "p-value: 0.7567837669083153\n",
      "Brak podstaw do odrzucenia H0.\n",
      "-------------------------------------\n",
      "Zsumowane grafiki 2:\n",
      "U-statistic: 187.5\n",
      "p-value: 0.7813299413851593\n",
      "Brak podstaw do odrzucenia H0.\n",
      "-------------------------------------\n",
      "Zsumowane grafiki 3:\n",
      "U-statistic: 205.0\n",
      "p-value: 0.858226662752887\n",
      "Brak podstaw do odrzucenia H0.\n"
     ]
    }
   ],
   "source": [
    "# MAT\n",
    "var = 'MAT'\n",
    "results.append('\\n')\n",
    "results.append(var)\n",
    "for i, df in enumerate(dfs):\n",
    "    print('-------------------------------------')\n",
    "    print(names[i+1])\n",
    "    p = mann_whitney_test([df['diff'][df[var] == 'VAL'], df['diff'][df[var] == 'NO_VAL']], print_flag=True, alpha=ALPHA)\n",
    "    results.append(p)"
   ],
   "metadata": {
    "collapsed": false,
    "ExecuteTime": {
     "end_time": "2023-12-08T15:30:45.576912Z",
     "start_time": "2023-12-08T15:30:45.490566Z"
    }
   },
   "id": "7fb869785b335a28"
  },
  {
   "cell_type": "code",
   "execution_count": 15,
   "outputs": [
    {
     "name": "stdout",
     "output_type": "stream",
     "text": [
      "-------------------------------------\n",
      "Zsumowane wszystkie grafiki:\n",
      "U-statistic: 92.0\n",
      "p-value: 0.3769942885834122\n",
      "Brak podstaw do odrzucenia H0.\n",
      "-------------------------------------\n",
      "Zsumowane grafiki A:\n",
      "U-statistic: 100.0\n",
      "p-value: 0.19987230251814758\n",
      "Brak podstaw do odrzucenia H0.\n",
      "-------------------------------------\n",
      "Zsumowane grafiki B:\n",
      "U-statistic: 82.0\n",
      "p-value: 0.6639008035149362\n",
      "Brak podstaw do odrzucenia H0.\n",
      "-------------------------------------\n",
      "Zsumowane grafiki 1:\n",
      "U-statistic: 63.5\n",
      "p-value: 0.7087609305285979\n",
      "Brak podstaw do odrzucenia H0.\n",
      "-------------------------------------\n",
      "Zsumowane grafiki 2:\n",
      "U-statistic: 53.5\n",
      "p-value: 0.40733946149215483\n",
      "Brak podstaw do odrzucenia H0.\n",
      "-------------------------------------\n",
      "Zsumowane grafiki 3:\n",
      "U-statistic: 118.5\n",
      "p-value: 0.03604845847024687\n",
      "\u001B[31mIstnieją podstawy do odrzucenia H0, przyjmujemy hipotezę H1.\u001B[0m\n"
     ]
    }
   ],
   "source": [
    "# HIST\n",
    "var = 'HIST'\n",
    "results.append('\\n')\n",
    "results.append(var)\n",
    "for i, df in enumerate(dfs):\n",
    "    print('-------------------------------------')\n",
    "    print(names[i+1])\n",
    "    p = mann_whitney_test([df['diff'][df[var] == 'VAL'], df['diff'][df[var] == 'NO_VAL']], print_flag=True, alpha=ALPHA)\n",
    "    results.append(p)"
   ],
   "metadata": {
    "collapsed": false,
    "ExecuteTime": {
     "end_time": "2023-12-08T15:30:45.693734Z",
     "start_time": "2023-12-08T15:30:45.500450Z"
    }
   },
   "id": "e4f05c2e9d4af8b6"
  },
  {
   "cell_type": "code",
   "execution_count": 16,
   "outputs": [
    {
     "name": "stdout",
     "output_type": "stream",
     "text": [
      "+--------+----------+----------+\n",
      "|        |   NO_VAL |      VAL |\n",
      "+========+==========+==========+\n",
      "| NO_VAL | 1        | \u001B[31m0.034076\u001B[0m |\n",
      "+--------+----------+----------+\n",
      "| VAL    | \u001B[31m0.034076\u001B[0m | 1        |\n",
      "+--------+----------+----------+\n"
     ]
    }
   ],
   "source": [
    "posthocNemenyi2_test(df_sum3, var)"
   ],
   "metadata": {
    "collapsed": false,
    "ExecuteTime": {
     "end_time": "2023-12-08T15:30:45.694249Z",
     "start_time": "2023-12-08T15:30:45.518514Z"
    }
   },
   "id": "4d88844a1f866f56"
  },
  {
   "cell_type": "code",
   "execution_count": 17,
   "outputs": [
    {
     "name": "stdout",
     "output_type": "stream",
     "text": [
      "-------------------------------------\n",
      "Zsumowane wszystkie grafiki:\n",
      "H: 3.4166517116250956\n",
      "p-value: 0.4906642580694025\n",
      "Brak podstaw do odrzucenia H0.\n",
      "-------------------------------------\n",
      "Zsumowane grafiki A:\n",
      "H: 4.260339610538997\n",
      "p-value: 0.371917750000771\n",
      "Brak podstaw do odrzucenia H0.\n",
      "-------------------------------------\n",
      "Zsumowane grafiki B:\n",
      "H: 2.3099202159795817\n",
      "p-value: 0.6789635084273522\n",
      "Brak podstaw do odrzucenia H0.\n",
      "-------------------------------------\n",
      "Zsumowane grafiki 1:\n",
      "H: 7.59297049569217\n",
      "p-value: 0.10767887743137851\n",
      "Brak podstaw do odrzucenia H0.\n",
      "-------------------------------------\n",
      "Zsumowane grafiki 2:\n",
      "H: 10.525382274492355\n",
      "p-value: 0.03244914610404347\n",
      "\u001B[31mIstnieją podstawy do odrzucenia H0, przyjmujemy hipotezę H1.\u001B[0m\n",
      "-------------------------------------\n",
      "Zsumowane grafiki 3:\n",
      "H: 2.951840292159447\n",
      "p-value: 0.5659168934292141\n",
      "Brak podstaw do odrzucenia H0.\n"
     ]
    }
   ],
   "source": [
    "# rok urodzenia\n",
    "var = 'Rok_urodzenia'\n",
    "results.append('\\n')\n",
    "results.append(var)\n",
    "param = 'diff'\n",
    "for i, df in enumerate(dfs):\n",
    "    print('-------------------------------------')\n",
    "    print(names[i+1])\n",
    "    data = [df[param][df[var] == category] for category in pd.unique(df[var])]\n",
    "    p = kruskal_wallis_test(data, print_flag=True, alpha=ALPHA)\n",
    "    results.append(p)"
   ],
   "metadata": {
    "collapsed": false,
    "ExecuteTime": {
     "end_time": "2023-12-08T15:30:45.789182Z",
     "start_time": "2023-12-08T15:30:45.523593Z"
    }
   },
   "id": "79ef12e25331a355"
  },
  {
   "cell_type": "code",
   "execution_count": 18,
   "outputs": [
    {
     "name": "stdout",
     "output_type": "stream",
     "text": [
      "+------+----------+----------+----------+----------+----------+\n",
      "|      |     2002 |     2003 |     2001 |     2000 |     2004 |\n",
      "+======+==========+==========+==========+==========+==========+\n",
      "| 2002 | 1        | 0.914119 | 0.748524 | 0.665974 | 0.066324 |\n",
      "+------+----------+----------+----------+----------+----------+\n",
      "| 2003 | 0.914119 | 1        | 0.984088 | 0.838973 | 0.189499 |\n",
      "+------+----------+----------+----------+----------+----------+\n",
      "| 2001 | 0.748524 | 0.984088 | 1        | 0.934406 | 0.461229 |\n",
      "+------+----------+----------+----------+----------+----------+\n",
      "| 2000 | 0.665974 | 0.838973 | 0.934406 | 1        | 0.999279 |\n",
      "+------+----------+----------+----------+----------+----------+\n",
      "| 2004 | 0.066324 | 0.189499 | 0.461229 | 0.999279 | 1        |\n",
      "+------+----------+----------+----------+----------+----------+\n"
     ]
    }
   ],
   "source": [
    "posthocNemenyi2_test(df_sum2, var)"
   ],
   "metadata": {
    "collapsed": false,
    "ExecuteTime": {
     "end_time": "2023-12-08T15:30:45.806949Z",
     "start_time": "2023-12-08T15:30:45.535176Z"
    }
   },
   "id": "cda85a680d318b0f"
  },
  {
   "cell_type": "code",
   "execution_count": 19,
   "outputs": [
    {
     "name": "stdout",
     "output_type": "stream",
     "text": [
      "-------------------------------------\n",
      "Zsumowane wszystkie grafiki:\n",
      "H: 2.5027362992610716\n",
      "p-value: 0.28611308345059944\n",
      "Brak podstaw do odrzucenia H0.\n",
      "-------------------------------------\n",
      "Zsumowane grafiki A:\n",
      "H: 3.3599698500651836\n",
      "p-value: 0.18637678564220178\n",
      "Brak podstaw do odrzucenia H0.\n",
      "-------------------------------------\n",
      "Zsumowane grafiki B:\n",
      "H: 0.8429373672267334\n",
      "p-value: 0.6560825342061488\n",
      "Brak podstaw do odrzucenia H0.\n",
      "-------------------------------------\n",
      "Zsumowane grafiki 1:\n",
      "H: 0.5887171118824773\n",
      "p-value: 0.7450093160309443\n",
      "Brak podstaw do odrzucenia H0.\n",
      "-------------------------------------\n",
      "Zsumowane grafiki 2:\n",
      "H: 1.047612469437648\n",
      "p-value: 0.5922619642960079\n",
      "Brak podstaw do odrzucenia H0.\n",
      "-------------------------------------\n",
      "Zsumowane grafiki 3:\n",
      "H: 3.1191370302914057\n",
      "p-value: 0.21022676129712384\n",
      "Brak podstaw do odrzucenia H0.\n"
     ]
    }
   ],
   "source": [
    "# kierunek studiów\n",
    "var = 'Kierunek_studiów'\n",
    "results.append('\\n')\n",
    "results.append(var)\n",
    "param = 'diff'\n",
    "for i, df in enumerate(dfs):\n",
    "    print('-------------------------------------')\n",
    "    print(names[i+1])\n",
    "    data = [df[param][df[var] == category] for category in pd.unique(df[var])]\n",
    "    p = kruskal_wallis_test(data, print_flag=True, alpha=ALPHA)\n",
    "    results.append(p)"
   ],
   "metadata": {
    "collapsed": false,
    "ExecuteTime": {
     "end_time": "2023-12-08T15:30:45.880123Z",
     "start_time": "2023-12-08T15:30:45.540005Z"
    }
   },
   "id": "e71b9848e511fdeb"
  },
  {
   "cell_type": "code",
   "execution_count": 20,
   "outputs": [
    {
     "name": "stdout",
     "output_type": "stream",
     "text": [
      "-------------------------------------\n",
      "Zsumowane wszystkie grafiki:\n",
      "H: 3.1760447901049726\n",
      "p-value: 0.2043292950644148\n",
      "Brak podstaw do odrzucenia H0.\n",
      "-------------------------------------\n",
      "Zsumowane grafiki A:\n",
      "H: 4.706034002229639\n",
      "p-value: 0.09508186694981491\n",
      "Brak podstaw do odrzucenia H0.\n",
      "-------------------------------------\n",
      "Zsumowane grafiki B:\n",
      "H: 2.4638558442630805\n",
      "p-value: 0.2917296032113091\n",
      "Brak podstaw do odrzucenia H0.\n",
      "-------------------------------------\n",
      "Zsumowane grafiki 1:\n",
      "H: 1.9432665163293257\n",
      "p-value: 0.37846440296929207\n",
      "Brak podstaw do odrzucenia H0.\n",
      "-------------------------------------\n",
      "Zsumowane grafiki 2:\n",
      "H: 2.91261427660253\n",
      "p-value: 0.2330954766542771\n",
      "Brak podstaw do odrzucenia H0.\n",
      "-------------------------------------\n",
      "Zsumowane grafiki 3:\n",
      "H: 3.0356595092024667\n",
      "p-value: 0.2191870608540109\n",
      "Brak podstaw do odrzucenia H0.\n"
     ]
    }
   ],
   "source": [
    "# rok studiów\n",
    "var = 'Rok_studiów'\n",
    "results.append('\\n')\n",
    "results.append(var)\n",
    "param = 'diff'\n",
    "\n",
    "for i, df in enumerate(dfs):\n",
    "    print('-------------------------------------')\n",
    "    print(names[i+1])\n",
    "    data = [df[param][df[var] == category] for category in pd.unique(df[var])]\n",
    "    p = kruskal_wallis_test(data, print_flag=True, alpha=ALPHA)\n",
    "    results.append(p)"
   ],
   "metadata": {
    "collapsed": false,
    "ExecuteTime": {
     "end_time": "2023-12-08T15:30:45.880381Z",
     "start_time": "2023-12-08T15:30:45.552814Z"
    }
   },
   "id": "49c6404c223f12e9"
  },
  {
   "cell_type": "code",
   "execution_count": 21,
   "outputs": [
    {
     "name": "stdout",
     "output_type": "stream",
     "text": [
      "-------------------------------------\n",
      "Zsumowane wszystkie grafiki:\n",
      "H: 2.0108374384236676\n",
      "p-value: 0.5701604033777508\n",
      "Brak podstaw do odrzucenia H0.\n",
      "-------------------------------------\n",
      "Zsumowane grafiki A:\n",
      "H: 4.307132768361599\n",
      "p-value: 0.23015235183000057\n",
      "Brak podstaw do odrzucenia H0.\n",
      "-------------------------------------\n",
      "Zsumowane grafiki B:\n",
      "H: 1.042499114844859\n",
      "p-value: 0.790969930838497\n",
      "Brak podstaw do odrzucenia H0.\n",
      "-------------------------------------\n",
      "Zsumowane grafiki 1:\n",
      "H: 0.8983470000335592\n",
      "p-value: 0.82582669760532\n",
      "Brak podstaw do odrzucenia H0.\n",
      "-------------------------------------\n",
      "Zsumowane grafiki 2:\n",
      "H: 2.6561373268133797\n",
      "p-value: 0.44773283160484845\n",
      "Brak podstaw do odrzucenia H0.\n",
      "-------------------------------------\n",
      "Zsumowane grafiki 3:\n",
      "H: 1.6402239902863025\n",
      "p-value: 0.6503040781249882\n",
      "Brak podstaw do odrzucenia H0.\n"
     ]
    }
   ],
   "source": [
    "# specjalność\n",
    "var = 'Specjalność'\n",
    "results.append('\\n')\n",
    "results.append(var)\n",
    "param = 'diff'\n",
    "for i, df in enumerate(dfs):\n",
    "    print('-------------------------------------')\n",
    "    print(names[i+1])\n",
    "    data = [df[param][df[var] == category] for category in pd.unique(df[var])]\n",
    "    p = kruskal_wallis_test(data, print_flag=True, alpha=ALPHA)\n",
    "    results.append(p)"
   ],
   "metadata": {
    "collapsed": false,
    "ExecuteTime": {
     "end_time": "2023-12-08T15:30:45.880523Z",
     "start_time": "2023-12-08T15:30:45.563997Z"
    }
   },
   "id": "350faed34ec2def1"
  },
  {
   "cell_type": "code",
   "execution_count": 22,
   "outputs": [
    {
     "name": "stdout",
     "output_type": "stream",
     "text": [
      "-------------------------------------\n",
      "Zsumowane wszystkie grafiki:\n",
      "H: 4.172812173458719\n",
      "p-value: 0.3831231689897035\n",
      "Brak podstaw do odrzucenia H0.\n",
      "-------------------------------------\n",
      "Zsumowane grafiki A:\n",
      "H: 6.519485599146643\n",
      "p-value: 0.1635667660747716\n",
      "Brak podstaw do odrzucenia H0.\n",
      "-------------------------------------\n",
      "Zsumowane grafiki B:\n",
      "H: 1.0571810222737408\n",
      "p-value: 0.9010050334441351\n",
      "Brak podstaw do odrzucenia H0.\n",
      "-------------------------------------\n",
      "Zsumowane grafiki 1:\n",
      "H: 4.267387426940692\n",
      "p-value: 0.37102668025039726\n",
      "Brak podstaw do odrzucenia H0.\n",
      "-------------------------------------\n",
      "Zsumowane grafiki 2:\n",
      "H: 1.3761805586426838\n",
      "p-value: 0.8483242028540706\n",
      "Brak podstaw do odrzucenia H0.\n",
      "-------------------------------------\n",
      "Zsumowane grafiki 3:\n",
      "H: 6.016921999907062\n",
      "p-value: 0.19788808747849176\n",
      "Brak podstaw do odrzucenia H0.\n"
     ]
    }
   ],
   "source": [
    "# ilość snu\n",
    "var = 'Ilość_snu'\n",
    "results.append('\\n')\n",
    "results.append(var)\n",
    "param = 'diff'\n",
    "for i, df in enumerate(dfs):\n",
    "    print('-------------------------------------')\n",
    "    print(names[i+1])\n",
    "    data = [df[param][df[var] == category] for category in pd.unique(df[var])]\n",
    "    p = kruskal_wallis_test(data, print_flag=True, alpha=ALPHA)\n",
    "    results.append(p)"
   ],
   "metadata": {
    "collapsed": false,
    "ExecuteTime": {
     "end_time": "2023-12-08T15:30:45.949222Z",
     "start_time": "2023-12-08T15:30:45.573694Z"
    }
   },
   "id": "2363520e00c30ad7"
  },
  {
   "cell_type": "code",
   "execution_count": 23,
   "outputs": [
    {
     "name": "stdout",
     "output_type": "stream",
     "text": [
      "-------------------------------------\n",
      "Zsumowane wszystkie grafiki:\n",
      "H: 5.568155272719159\n",
      "p-value: 0.13461853277974856\n",
      "Brak podstaw do odrzucenia H0.\n",
      "-------------------------------------\n",
      "Zsumowane grafiki A:\n",
      "H: 3.7015922646262496\n",
      "p-value: 0.2955419642804597\n",
      "Brak podstaw do odrzucenia H0.\n",
      "-------------------------------------\n",
      "Zsumowane grafiki B:\n",
      "H: 4.140798173266982\n",
      "p-value: 0.24665635348832698\n",
      "Brak podstaw do odrzucenia H0.\n",
      "-------------------------------------\n",
      "Zsumowane grafiki 1:\n",
      "H: 1.1406757692512821\n",
      "p-value: 0.7672649594961272\n",
      "Brak podstaw do odrzucenia H0.\n",
      "-------------------------------------\n",
      "Zsumowane grafiki 2:\n",
      "H: 5.430865525672392\n",
      "p-value: 0.14283259732888848\n",
      "Brak podstaw do odrzucenia H0.\n",
      "-------------------------------------\n",
      "Zsumowane grafiki 3:\n",
      "H: 3.1870500270660456\n",
      "p-value: 0.363675059983752\n",
      "Brak podstaw do odrzucenia H0.\n"
     ]
    }
   ],
   "source": [
    "# matura - j.pol - podst\n",
    "var = 'JP_podst'\n",
    "results.append('\\n')\n",
    "results.append(var)\n",
    "param = 'diff'\n",
    "for i, df in enumerate(dfs):\n",
    "    print('-------------------------------------')\n",
    "    print(names[i+1])\n",
    "    data = [df[param][df[var] == category] for category in pd.unique(df[var])]\n",
    "    p = kruskal_wallis_test(data, print_flag=True, alpha=ALPHA)\n",
    "    results.append(p)"
   ],
   "metadata": {
    "collapsed": false,
    "ExecuteTime": {
     "end_time": "2023-12-08T15:30:45.949704Z",
     "start_time": "2023-12-08T15:30:45.585794Z"
    }
   },
   "id": "e45b7a3570fa3b78"
  },
  {
   "cell_type": "code",
   "execution_count": 24,
   "outputs": [
    {
     "name": "stdout",
     "output_type": "stream",
     "text": [
      "-------------------------------------\n",
      "Zsumowane wszystkie grafiki:\n",
      "H: 3.930572660098535\n",
      "p-value: 0.26905927901740023\n",
      "Brak podstaw do odrzucenia H0.\n",
      "-------------------------------------\n",
      "Zsumowane grafiki A:\n",
      "H: 3.3767926988266104\n",
      "p-value: 0.3370967437423226\n",
      "Brak podstaw do odrzucenia H0.\n",
      "-------------------------------------\n",
      "Zsumowane grafiki B:\n",
      "H: 3.2113207319428545\n",
      "p-value: 0.36017706954147777\n",
      "Brak podstaw do odrzucenia H0.\n",
      "-------------------------------------\n",
      "Zsumowane grafiki 1:\n",
      "H: 4.308481738605507\n",
      "p-value: 0.23002274970820727\n",
      "Brak podstaw do odrzucenia H0.\n",
      "-------------------------------------\n",
      "Zsumowane grafiki 2:\n",
      "H: 2.5822799511002366\n",
      "p-value: 0.46060457258483767\n",
      "Brak podstaw do odrzucenia H0.\n",
      "-------------------------------------\n",
      "Zsumowane grafiki 3:\n",
      "H: 1.306059480444788\n",
      "p-value: 0.7276946979844789\n",
      "Brak podstaw do odrzucenia H0.\n"
     ]
    }
   ],
   "source": [
    "# matura - mat - podst\n",
    "var = 'MAT_podst'\n",
    "results.append('\\n')\n",
    "results.append(var)\n",
    "param = 'diff'\n",
    "for i, df in enumerate(dfs):\n",
    "    print('-------------------------------------')\n",
    "    print(names[i+1])\n",
    "    data = [df[param][df[var] == category] for category in pd.unique(df[var])]\n",
    "    p = kruskal_wallis_test(data, print_flag=True, alpha=ALPHA)\n",
    "    results.append(p)"
   ],
   "metadata": {
    "collapsed": false,
    "ExecuteTime": {
     "end_time": "2023-12-08T15:30:45.949945Z",
     "start_time": "2023-12-08T15:30:45.596767Z"
    }
   },
   "id": "f76ed64cfdb3feb6"
  },
  {
   "cell_type": "code",
   "execution_count": 25,
   "outputs": [
    {
     "name": "stdout",
     "output_type": "stream",
     "text": [
      "-------------------------------------\n",
      "Zsumowane wszystkie grafiki:\n",
      "H: 4.328746225965354\n",
      "p-value: 0.22808390213431287\n",
      "Brak podstaw do odrzucenia H0.\n",
      "-------------------------------------\n",
      "Zsumowane grafiki A:\n",
      "H: 3.111797114858893\n",
      "p-value: 0.374707384833796\n",
      "Brak podstaw do odrzucenia H0.\n",
      "-------------------------------------\n",
      "Zsumowane grafiki B:\n",
      "H: 3.671954547153586\n",
      "p-value: 0.29913537529937223\n",
      "Brak podstaw do odrzucenia H0.\n",
      "-------------------------------------\n",
      "Zsumowane grafiki 1:\n",
      "H: 2.807647942773506\n",
      "p-value: 0.42224247647945623\n",
      "Brak podstaw do odrzucenia H0.\n",
      "-------------------------------------\n",
      "Zsumowane grafiki 2:\n",
      "H: 1.086377159081951\n",
      "p-value: 0.7803636678451314\n",
      "Brak podstaw do odrzucenia H0.\n",
      "-------------------------------------\n",
      "Zsumowane grafiki 3:\n",
      "H: 5.91081288343558\n",
      "p-value: 0.11603092159336194\n",
      "Brak podstaw do odrzucenia H0.\n"
     ]
    }
   ],
   "source": [
    "# matura - j.pol - roz\n",
    "var = 'JP_roz'\n",
    "results.append('\\n')\n",
    "results.append(var)\n",
    "param = 'diff'\n",
    "for i, df in enumerate(dfs):\n",
    "    print('-------------------------------------')\n",
    "    print(names[i+1])\n",
    "    data = [df[param][df[var] == category] for category in pd.unique(df[var])]\n",
    "    p = kruskal_wallis_test(data, print_flag=True, alpha=ALPHA)\n",
    "    results.append(p)"
   ],
   "metadata": {
    "collapsed": false,
    "ExecuteTime": {
     "end_time": "2023-12-08T15:30:45.950253Z",
     "start_time": "2023-12-08T15:30:45.607265Z"
    }
   },
   "id": "5130fb16be4359b9"
  },
  {
   "cell_type": "code",
   "execution_count": 26,
   "outputs": [
    {
     "name": "stdout",
     "output_type": "stream",
     "text": [
      "-------------------------------------\n",
      "Zsumowane wszystkie grafiki:\n",
      "H: 5.061371100164221\n",
      "p-value: 0.28105820631988676\n",
      "Brak podstaw do odrzucenia H0.\n",
      "-------------------------------------\n",
      "Zsumowane grafiki A:\n",
      "H: 5.290286831812276\n",
      "p-value: 0.2587875807612174\n",
      "Brak podstaw do odrzucenia H0.\n",
      "-------------------------------------\n",
      "Zsumowane grafiki B:\n",
      "H: 3.8392847946440107\n",
      "p-value: 0.42819299796579535\n",
      "Brak podstaw do odrzucenia H0.\n",
      "-------------------------------------\n",
      "Zsumowane grafiki 1:\n",
      "H: 4.792477445752438\n",
      "p-value: 0.3092608567590565\n",
      "Brak podstaw do odrzucenia H0.\n",
      "-------------------------------------\n",
      "Zsumowane grafiki 2:\n",
      "H: 3.100738386308093\n",
      "p-value: 0.5411108824414991\n",
      "Brak podstaw do odrzucenia H0.\n",
      "-------------------------------------\n",
      "Zsumowane grafiki 3:\n",
      "H: 1.7398757029652356\n",
      "p-value: 0.783462049367232\n",
      "Brak podstaw do odrzucenia H0.\n"
     ]
    }
   ],
   "source": [
    "# matura - mat - roz\n",
    "var = 'MAT_roz'\n",
    "results.append('\\n')\n",
    "results.append(var)\n",
    "param = 'diff'\n",
    "for i, df in enumerate(dfs):\n",
    "    print('-------------------------------------')\n",
    "    print(names[i+1])\n",
    "    data = [df[param][df[var] == category] for category in pd.unique(df[var])]\n",
    "    p = kruskal_wallis_test(data, print_flag=True, alpha=ALPHA)\n",
    "    results.append(p)"
   ],
   "metadata": {
    "collapsed": false,
    "ExecuteTime": {
     "end_time": "2023-12-08T15:30:45.977516Z",
     "start_time": "2023-12-08T15:30:45.617949Z"
    }
   },
   "id": "6b94aae9a6c9ec6"
  },
  {
   "cell_type": "code",
   "execution_count": 27,
   "outputs": [
    {
     "name": "stdout",
     "output_type": "stream",
     "text": [
      "-------------------------------------\n",
      "Zsumowane wszystkie grafiki:\n",
      "H: 2.360426929392467\n",
      "p-value: 0.3072131524389508\n",
      "Brak podstaw do odrzucenia H0.\n",
      "-------------------------------------\n",
      "Zsumowane grafiki A:\n",
      "H: 2.548457192524996\n",
      "p-value: 0.27964660547566594\n",
      "Brak podstaw do odrzucenia H0.\n",
      "-------------------------------------\n",
      "Zsumowane grafiki B:\n",
      "H: 1.9063988670014085\n",
      "p-value: 0.38550564857167036\n",
      "Brak podstaw do odrzucenia H0.\n",
      "-------------------------------------\n",
      "Zsumowane grafiki 1:\n",
      "H: 0.9359132374149152\n",
      "p-value: 0.6262806919341646\n",
      "Brak podstaw do odrzucenia H0.\n",
      "-------------------------------------\n",
      "Zsumowane grafiki 2:\n",
      "H: 3.052033414832965\n",
      "p-value: 0.21739991236141346\n",
      "Brak podstaw do odrzucenia H0.\n",
      "-------------------------------------\n",
      "Zsumowane grafiki 3:\n",
      "H: 4.896029045245403\n",
      "p-value: 0.08646509066565125\n",
      "Brak podstaw do odrzucenia H0.\n"
     ]
    }
   ],
   "source": [
    "# matura - hist - roz\n",
    "var = 'HIST_roz'\n",
    "results.append('\\n')\n",
    "results.append(var)\n",
    "param = 'diff'\n",
    "for i, df in enumerate(dfs):\n",
    "    print('-------------------------------------')\n",
    "    print(names[i+1])\n",
    "    data = [df[param][df[var] == category] for category in pd.unique(df[var])]\n",
    "    p = kruskal_wallis_test(data, print_flag=True, alpha=ALPHA)\n",
    "    results.append(p)"
   ],
   "metadata": {
    "collapsed": false,
    "ExecuteTime": {
     "end_time": "2023-12-08T15:30:45.978533Z",
     "start_time": "2023-12-08T15:30:45.629671Z"
    }
   },
   "id": "9acee7ad33f5ecb8"
  },
  {
   "cell_type": "code",
   "execution_count": 28,
   "outputs": [
    {
     "name": "stdout",
     "output_type": "stream",
     "text": [
      "-------------------------------------\n",
      "Zsumowane wszystkie grafiki:\n",
      "H: 5.857132594417089\n",
      "p-value: 0.11877173846793515\n",
      "Brak podstaw do odrzucenia H0.\n",
      "-------------------------------------\n",
      "Zsumowane grafiki A:\n",
      "H: 7.094611038678855\n",
      "p-value: 0.06894256035247275\n",
      "Brak podstaw do odrzucenia H0.\n",
      "-------------------------------------\n",
      "Zsumowane grafiki B:\n",
      "H: 3.896171301660884\n",
      "p-value: 0.27289622392344237\n",
      "Brak podstaw do odrzucenia H0.\n",
      "-------------------------------------\n",
      "Zsumowane grafiki 1:\n",
      "H: 0.12284099674683249\n",
      "p-value: 0.9889621286520118\n",
      "Brak podstaw do odrzucenia H0.\n",
      "-------------------------------------\n",
      "Zsumowane grafiki 2:\n",
      "H: 13.768515077424624\n",
      "p-value: 0.003237790960749848\n",
      "\u001B[31mIstnieją podstawy do odrzucenia H0, przyjmujemy hipotezę H1.\u001B[0m\n",
      "-------------------------------------\n",
      "Zsumowane grafiki 3:\n",
      "H: 11.339442740286295\n",
      "p-value: 0.010025099161899045\n",
      "\u001B[31mIstnieją podstawy do odrzucenia H0, przyjmujemy hipotezę H1.\u001B[0m\n"
     ]
    }
   ],
   "source": [
    "# samopoczucie\n",
    "var = 'Samopocz'\n",
    "results.append('\\n')\n",
    "results.append(var)\n",
    "param = 'diff'\n",
    "for i, df in enumerate(dfs):\n",
    "    print('-------------------------------------')\n",
    "    print(names[i+1])\n",
    "    data = [df[param][df[var] == category] for category in pd.unique(df[var])]\n",
    "    p = kruskal_wallis_test(data, print_flag=True, alpha=ALPHA)\n",
    "    results.append(p)"
   ],
   "metadata": {
    "collapsed": false,
    "ExecuteTime": {
     "end_time": "2023-12-08T15:30:45.978778Z",
     "start_time": "2023-12-08T15:30:45.639463Z"
    }
   },
   "id": "694411e275774707"
  },
  {
   "cell_type": "code",
   "execution_count": 29,
   "outputs": [
    {
     "name": "stdout",
     "output_type": "stream",
     "text": [
      "+----+----------+----------+----------+----------+\n",
      "|    |        4 |        3 |        5 |        2 |\n",
      "+====+==========+==========+==========+==========+\n",
      "|  4 | 1        | \u001B[31m0.013977\u001B[0m | 0.866504 | 0.125671 |\n",
      "+----+----------+----------+----------+----------+\n",
      "|  3 | \u001B[31m0.013977\u001B[0m | 1        | 0.174463 | 0.963799 |\n",
      "+----+----------+----------+----------+----------+\n",
      "|  5 | 0.866504 | 0.174463 | 1        | 0.504105 |\n",
      "+----+----------+----------+----------+----------+\n",
      "|  2 | 0.125671 | 0.963799 | 0.504105 | 1        |\n",
      "+----+----------+----------+----------+----------+\n",
      "-----------------------\n",
      "+----+----------+----------+----------+----------+\n",
      "|    |        4 |        3 |        5 |        2 |\n",
      "+====+==========+==========+==========+==========+\n",
      "|  4 | 1        | 0.907294 | \u001B[31m0.011354\u001B[0m | 0.650858 |\n",
      "+----+----------+----------+----------+----------+\n",
      "|  3 | 0.907294 | 1        | 0.317472 | 0.971625 |\n",
      "+----+----------+----------+----------+----------+\n",
      "|  5 | \u001B[31m0.011354\u001B[0m | 0.317472 | 1        | 0.669576 |\n",
      "+----+----------+----------+----------+----------+\n",
      "|  2 | 0.650858 | 0.971625 | 0.669576 | 1        |\n",
      "+----+----------+----------+----------+----------+\n"
     ]
    }
   ],
   "source": [
    "posthocNemenyi2_test(df_sum2, var)\n",
    "print('-----------------------')\n",
    "posthocNemenyi2_test(df_sum3, var)"
   ],
   "metadata": {
    "collapsed": false,
    "ExecuteTime": {
     "end_time": "2023-12-08T15:30:45.978931Z",
     "start_time": "2023-12-08T15:30:45.650368Z"
    }
   },
   "id": "6d106a523d313bb3"
  },
  {
   "cell_type": "code",
   "execution_count": 30,
   "outputs": [
    {
     "name": "stdout",
     "output_type": "stream",
     "text": [
      "-------------------------------------\n",
      "Zsumowane wszystkie grafiki:\n",
      "H: 4.573050082101809\n",
      "p-value: 0.333973292094693\n",
      "Brak podstaw do odrzucenia H0.\n",
      "-------------------------------------\n",
      "Zsumowane grafiki A:\n",
      "H: 4.0041720990873735\n",
      "p-value: 0.4054415119607423\n",
      "Brak podstaw do odrzucenia H0.\n",
      "-------------------------------------\n",
      "Zsumowane grafiki B:\n",
      "H: 3.1660615424230887\n",
      "p-value: 0.5304299662800964\n",
      "Brak podstaw do odrzucenia H0.\n",
      "-------------------------------------\n",
      "Zsumowane grafiki 1:\n",
      "H: 0.6871029949357902\n",
      "p-value: 0.9529098095149333\n",
      "Brak podstaw do odrzucenia H0.\n",
      "-------------------------------------\n",
      "Zsumowane grafiki 2:\n",
      "H: 8.499160554197232\n",
      "p-value: 0.07491267696507058\n",
      "Brak podstaw do odrzucenia H0.\n",
      "-------------------------------------\n",
      "Zsumowane grafiki 3:\n",
      "H: 2.187353016359918\n",
      "p-value: 0.7013453269492258\n",
      "Brak podstaw do odrzucenia H0.\n"
     ]
    }
   ],
   "source": [
    "# stres\n",
    "var = 'Stres'\n",
    "results.append('\\n')\n",
    "results.append(var)\n",
    "param = 'diff'\n",
    "for i, df in enumerate(dfs):\n",
    "    print('-------------------------------------')\n",
    "    print(names[i+1])\n",
    "    data = [df[param][df[var] == category] for category in pd.unique(df[var])]\n",
    "    p = kruskal_wallis_test(data, print_flag=True, alpha=ALPHA)\n",
    "    results.append(p)"
   ],
   "metadata": {
    "collapsed": false,
    "ExecuteTime": {
     "end_time": "2023-12-08T15:30:45.979114Z",
     "start_time": "2023-12-08T15:30:45.661501Z"
    }
   },
   "id": "d1a1b8a3bd45d1dc"
  },
  {
   "cell_type": "code",
   "execution_count": 31,
   "outputs": [
    {
     "name": "stdout",
     "output_type": "stream",
     "text": [
      "-------------------------------------\n",
      "Zsumowane wszystkie grafiki:\n",
      "H: 12.216923234811162\n",
      "p-value: 0.015809001818138834\n",
      "\u001B[31mIstnieją podstawy do odrzucenia H0, przyjmujemy hipotezę H1.\u001B[0m\n",
      "-------------------------------------\n",
      "Zsumowane grafiki A:\n",
      "H: 13.559343763581056\n",
      "p-value: 0.008842746866751508\n",
      "\u001B[31mIstnieją podstawy do odrzucenia H0, przyjmujemy hipotezę H1.\u001B[0m\n",
      "-------------------------------------\n",
      "Zsumowane grafiki B:\n",
      "H: 6.9963499420625865\n",
      "p-value: 0.13608124001885877\n",
      "Brak podstaw do odrzucenia H0.\n",
      "-------------------------------------\n",
      "Zsumowane grafiki 1:\n",
      "H: 5.456418318408968\n",
      "p-value: 0.24358698824116382\n",
      "Brak podstaw do odrzucenia H0.\n",
      "-------------------------------------\n",
      "Zsumowane grafiki 2:\n",
      "H: 3.1813977180114055\n",
      "p-value: 0.5279407645298922\n",
      "Brak podstaw do odrzucenia H0.\n",
      "-------------------------------------\n",
      "Zsumowane grafiki 3:\n",
      "H: 6.800190918967282\n",
      "p-value: 0.1468315564869646\n",
      "Brak podstaw do odrzucenia H0.\n"
     ]
    }
   ],
   "source": [
    "# zmęczenie\n",
    "var = 'Zmęcz'\n",
    "results.append('\\n')\n",
    "results.append(var)\n",
    "param = 'diff'\n",
    "for i, df in enumerate(dfs):\n",
    "    print('-------------------------------------')\n",
    "    print(names[i+1])\n",
    "    data = [df[param][df[var] == category] for category in pd.unique(df[var])]\n",
    "    p=kruskal_wallis_test(data, print_flag=True, alpha=ALPHA)\n",
    "    results.append(p)"
   ],
   "metadata": {
    "collapsed": false,
    "ExecuteTime": {
     "end_time": "2023-12-08T15:30:45.979366Z",
     "start_time": "2023-12-08T15:30:45.674543Z"
    }
   },
   "id": "2646272df091ce52"
  },
  {
   "cell_type": "code",
   "execution_count": 32,
   "outputs": [
    {
     "name": "stdout",
     "output_type": "stream",
     "text": [
      "+----+----------+----------+----------+----------+----------+\n",
      "|    |        3 |        2 |        4 |        1 |        5 |\n",
      "+====+==========+==========+==========+==========+==========+\n",
      "|  3 | 1        | 0.997688 | 0.286521 | 0.81744  | 0.986519 |\n",
      "+----+----------+----------+----------+----------+----------+\n",
      "|  2 | 0.997688 | 1        | 0.122895 | 0.919459 | 0.948749 |\n",
      "+----+----------+----------+----------+----------+----------+\n",
      "|  4 | 0.286521 | 0.122895 | 1        | \u001B[31m0.039471\u001B[0m | 0.921473 |\n",
      "+----+----------+----------+----------+----------+----------+\n",
      "|  1 | 0.81744  | 0.919459 | \u001B[31m0.039471\u001B[0m | 1        | 0.712216 |\n",
      "+----+----------+----------+----------+----------+----------+\n",
      "|  5 | 0.986519 | 0.948749 | 0.921473 | 0.712216 | 1        |\n",
      "+----+----------+----------+----------+----------+----------+\n",
      "+----+----------+----------+----------+----------+----------+\n",
      "|    |        3 |        2 |        4 |        1 |        5 |\n",
      "+====+==========+==========+==========+==========+==========+\n",
      "|  3 | 1        | 0.977702 | 0.365277 | 0.64931  | 0.986399 |\n",
      "+----+----------+----------+----------+----------+----------+\n",
      "|  2 | 0.977702 | 1        | 0.093503 | 0.895002 | 0.893713 |\n",
      "+----+----------+----------+----------+----------+----------+\n",
      "|  4 | 0.365277 | 0.093503 | 1        | \u001B[31m0.024062\u001B[0m | 0.949036 |\n",
      "+----+----------+----------+----------+----------+----------+\n",
      "|  1 | 0.64931  | 0.895002 | \u001B[31m0.024062\u001B[0m | 1        | 0.576965 |\n",
      "+----+----------+----------+----------+----------+----------+\n",
      "|  5 | 0.986399 | 0.893713 | 0.949036 | 0.576965 | 1        |\n",
      "+----+----------+----------+----------+----------+----------+\n"
     ]
    }
   ],
   "source": [
    "posthocNemenyi2_test(df_wynik, var)\n",
    "posthocNemenyi2_test(df_sumA, var)"
   ],
   "metadata": {
    "collapsed": false,
    "ExecuteTime": {
     "end_time": "2023-12-08T15:30:46.035950Z",
     "start_time": "2023-12-08T15:30:45.691851Z"
    }
   },
   "id": "54bbd44cba89ff01"
  },
  {
   "cell_type": "code",
   "execution_count": 33,
   "outputs": [
    {
     "name": "stdout",
     "output_type": "stream",
     "text": [
      "-------------------------------------\n",
      "Zsumowane wszystkie grafiki:\n",
      "H: 0.46507389162562046\n",
      "p-value: 0.7925204684930018\n",
      "Brak podstaw do odrzucenia H0.\n",
      "-------------------------------------\n",
      "Zsumowane grafiki A:\n",
      "H: 0.4934159061277776\n",
      "p-value: 0.7813688565931339\n",
      "Brak podstaw do odrzucenia H0.\n",
      "-------------------------------------\n",
      "Zsumowane grafiki B:\n",
      "H: 0.46742757821554387\n",
      "p-value: 0.7915883446829433\n",
      "Brak podstaw do odrzucenia H0.\n",
      "-------------------------------------\n",
      "Zsumowane grafiki 1:\n",
      "H: 4.070808934500467\n",
      "p-value: 0.130627637216422\n",
      "Brak podstaw do odrzucenia H0.\n",
      "-------------------------------------\n",
      "Zsumowane grafiki 2:\n",
      "H: 0.309978484107582\n",
      "p-value: 0.8564243908015836\n",
      "Brak podstaw do odrzucenia H0.\n",
      "-------------------------------------\n",
      "Zsumowane grafiki 3:\n",
      "H: 1.0687615030674826\n",
      "p-value: 0.5860320772705431\n",
      "Brak podstaw do odrzucenia H0.\n"
     ]
    }
   ],
   "source": [
    "# czytanie map\n",
    "var = 'Czyt_map'\n",
    "results.append('\\n')\n",
    "results.append(var)\n",
    "param = 'diff'\n",
    "for i, df in enumerate(dfs):\n",
    "    print('-------------------------------------')\n",
    "    print(names[i+1])\n",
    "    data = [df[param][df[var] == category] for category in pd.unique(df[var])]\n",
    "    p =kruskal_wallis_test(data, print_flag=True, alpha=ALPHA)\n",
    "    results.append(p)"
   ],
   "metadata": {
    "collapsed": false,
    "ExecuteTime": {
     "end_time": "2023-12-08T15:30:46.036710Z",
     "start_time": "2023-12-08T15:30:45.699673Z"
    }
   },
   "id": "3545c6bda6a5814c"
  },
  {
   "cell_type": "code",
   "execution_count": 34,
   "outputs": [
    {
     "name": "stdout",
     "output_type": "stream",
     "text": [
      "-------------------------------------\n",
      "Zsumowane wszystkie grafiki:\n",
      "H: 7.0765745953553845\n",
      "p-value: 0.13189651989755047\n",
      "Brak podstaw do odrzucenia H0.\n",
      "-------------------------------------\n",
      "Zsumowane grafiki A:\n",
      "H: 4.314195691314323\n",
      "p-value: 0.365150879133989\n",
      "Brak podstaw do odrzucenia H0.\n",
      "-------------------------------------\n",
      "Zsumowane grafiki B:\n",
      "H: 6.945082445879101\n",
      "p-value: 0.13881898376755455\n",
      "Brak podstaw do odrzucenia H0.\n",
      "-------------------------------------\n",
      "Zsumowane grafiki 1:\n",
      "H: 4.013376836799728\n",
      "p-value: 0.4041985188094168\n",
      "Brak podstaw do odrzucenia H0.\n",
      "-------------------------------------\n",
      "Zsumowane grafiki 2:\n",
      "H: 4.473394749097701\n",
      "p-value: 0.3457138416204418\n",
      "Brak podstaw do odrzucenia H0.\n",
      "-------------------------------------\n",
      "Zsumowane grafiki 3:\n",
      "H: 7.007946017747593\n",
      "p-value: 0.1354689100986426\n",
      "Brak podstaw do odrzucenia H0.\n"
     ]
    }
   ],
   "source": [
    "# podzielność uwagi\n",
    "var = 'Podziel_uwg'\n",
    "results.append('\\n')\n",
    "results.append(var)\n",
    "param = 'diff'\n",
    "for i, df in enumerate(dfs):\n",
    "    print('-------------------------------------')\n",
    "    print(names[i+1])\n",
    "    data = [df[param][df[var] == category] for category in pd.unique(df[var])]\n",
    "    p = kruskal_wallis_test(data, print_flag=True, alpha=ALPHA)\n",
    "    results.append(p)"
   ],
   "metadata": {
    "collapsed": false,
    "ExecuteTime": {
     "end_time": "2023-12-08T15:30:46.060627Z",
     "start_time": "2023-12-08T15:30:45.711767Z"
    }
   },
   "id": "bd0caecb7e4d85d4"
  },
  {
   "cell_type": "code",
   "execution_count": 35,
   "outputs": [
    {
     "name": "stdout",
     "output_type": "stream",
     "text": [
      "-------------------------------------\n",
      "Zsumowane wszystkie grafiki:\n",
      "H: 2.838675843213051\n",
      "p-value: 0.41717269483928365\n",
      "Brak podstaw do odrzucenia H0.\n",
      "-------------------------------------\n",
      "Zsumowane grafiki A:\n",
      "H: 1.8118770910920852\n",
      "p-value: 0.6123537646450705\n",
      "Brak podstaw do odrzucenia H0.\n",
      "-------------------------------------\n",
      "Zsumowane grafiki B:\n",
      "H: 5.082227409177463\n",
      "p-value: 0.16587412380439587\n",
      "Brak podstaw do odrzucenia H0.\n",
      "-------------------------------------\n",
      "Zsumowane grafiki 1:\n",
      "H: 2.7703697498922084\n",
      "p-value: 0.42840083909083393\n",
      "Brak podstaw do odrzucenia H0.\n",
      "-------------------------------------\n",
      "Zsumowane grafiki 2:\n",
      "H: 0.10231575827766066\n",
      "p-value: 0.9915580830634744\n",
      "Brak podstaw do odrzucenia H0.\n",
      "-------------------------------------\n",
      "Zsumowane grafiki 3:\n",
      "H: 4.17039369722411\n",
      "p-value: 0.24364280357259796\n",
      "Brak podstaw do odrzucenia H0.\n"
     ]
    }
   ],
   "source": [
    "# analityczne myślenie\n",
    "var = 'Analit_myśl'\n",
    "results.append('\\n')\n",
    "results.append(var)\n",
    "param = 'diff'\n",
    "for i, df in enumerate(dfs):\n",
    "    print('-------------------------------------')\n",
    "    print(names[i+1])\n",
    "    data = [df[param][df[var] == category] for category in pd.unique(df[var])]\n",
    "    p = kruskal_wallis_test(data, print_flag=True, alpha=ALPHA)\n",
    "    results.append(p)"
   ],
   "metadata": {
    "collapsed": false,
    "ExecuteTime": {
     "end_time": "2023-12-08T15:30:46.061545Z",
     "start_time": "2023-12-08T15:30:45.723237Z"
    }
   },
   "id": "31b4727d91968ad3"
  },
  {
   "cell_type": "code",
   "execution_count": 36,
   "outputs": [
    {
     "name": "stdout",
     "output_type": "stream",
     "text": [
      "-------------------------------------\n",
      "Zsumowane wszystkie grafiki:\n",
      "H: 4.735775285819684\n",
      "p-value: 0.19219939593349217\n",
      "Brak podstaw do odrzucenia H0.\n",
      "-------------------------------------\n",
      "Zsumowane grafiki A:\n",
      "H: 5.931322727621361\n",
      "p-value: 0.11499975196608873\n",
      "Brak podstaw do odrzucenia H0.\n",
      "-------------------------------------\n",
      "Zsumowane grafiki B:\n",
      "H: 3.244465639542453\n",
      "p-value: 0.35544708446883766\n",
      "Brak podstaw do odrzucenia H0.\n",
      "-------------------------------------\n",
      "Zsumowane grafiki 1:\n",
      "H: 2.8481624607969582\n",
      "p-value: 0.4156327635309951\n",
      "Brak podstaw do odrzucenia H0.\n",
      "-------------------------------------\n",
      "Zsumowane grafiki 2:\n",
      "H: 1.5490686492423287\n",
      "p-value: 0.6709924815985111\n",
      "Brak podstaw do odrzucenia H0.\n",
      "-------------------------------------\n",
      "Zsumowane grafiki 3:\n",
      "H: 10.451229319852947\n",
      "p-value: 0.015095412780192365\n",
      "\u001B[31mIstnieją podstawy do odrzucenia H0, przyjmujemy hipotezę H1.\u001B[0m\n"
     ]
    }
   ],
   "source": [
    "# spostrzegawczość\n",
    "var = 'Spostrzeg'\n",
    "results.append('\\n')\n",
    "results.append(var)\n",
    "param = 'diff'\n",
    "for i, df in enumerate(dfs):\n",
    "    print('-------------------------------------')\n",
    "    print(names[i+1])\n",
    "    data = [df[param][df[var] == category] for category in pd.unique(df[var])]\n",
    "    p = kruskal_wallis_test(data, print_flag=True, alpha=ALPHA)\n",
    "    results.append(p)"
   ],
   "metadata": {
    "collapsed": false,
    "ExecuteTime": {
     "end_time": "2023-12-08T15:30:46.061794Z",
     "start_time": "2023-12-08T15:30:45.733930Z"
    }
   },
   "id": "25ab038c1f9b0d1a"
  },
  {
   "cell_type": "code",
   "execution_count": 37,
   "outputs": [
    {
     "name": "stdout",
     "output_type": "stream",
     "text": [
      "+----+----------+----------+----------+----------+\n",
      "|    |        4 |        5 |        3 |        2 |\n",
      "+====+==========+==========+==========+==========+\n",
      "|  4 | 1        | 0.141555 | 0.999961 | 0.502265 |\n",
      "+----+----------+----------+----------+----------+\n",
      "|  5 | 0.141555 | 1        | 0.184509 | \u001B[31m0.027199\u001B[0m |\n",
      "+----+----------+----------+----------+----------+\n",
      "|  3 | 0.999961 | 0.184509 | 1        | 0.565824 |\n",
      "+----+----------+----------+----------+----------+\n",
      "|  2 | 0.502265 | \u001B[31m0.027199\u001B[0m | 0.565824 | 1        |\n",
      "+----+----------+----------+----------+----------+\n"
     ]
    }
   ],
   "source": [
    "posthocNemenyi2_test(df_sum3, var)"
   ],
   "metadata": {
    "collapsed": false,
    "ExecuteTime": {
     "end_time": "2023-12-08T15:30:46.061966Z",
     "start_time": "2023-12-08T15:30:45.744833Z"
    }
   },
   "id": "b4a56f1c0a12a12"
  },
  {
   "cell_type": "code",
   "execution_count": 38,
   "outputs": [
    {
     "name": "stdout",
     "output_type": "stream",
     "text": [
      "-------------------------------------\n",
      "Zsumowane wszystkie grafiki:\n",
      "H: 2.910394114542352\n",
      "p-value: 0.5729309752769332\n",
      "Brak podstaw do odrzucenia H0.\n",
      "-------------------------------------\n",
      "Zsumowane grafiki A:\n",
      "H: 1.3710626362670004\n",
      "p-value: 0.8492085493255179\n",
      "Brak podstaw do odrzucenia H0.\n",
      "-------------------------------------\n",
      "Zsumowane grafiki B:\n",
      "H: 5.052637045548233\n",
      "p-value: 0.28193912294368495\n",
      "Brak podstaw do odrzucenia H0.\n",
      "-------------------------------------\n",
      "Zsumowane grafiki 1:\n",
      "H: 5.955244058082035\n",
      "p-value: 0.20251569921610246\n",
      "Brak podstaw do odrzucenia H0.\n",
      "-------------------------------------\n",
      "Zsumowane grafiki 2:\n",
      "H: 3.8357632368350885\n",
      "p-value: 0.42868892545586057\n",
      "Brak podstaw do odrzucenia H0.\n",
      "-------------------------------------\n",
      "Zsumowane grafiki 3:\n",
      "H: 1.707288820436153\n",
      "p-value: 0.78939317825957\n",
      "Brak podstaw do odrzucenia H0.\n"
     ]
    }
   ],
   "source": [
    "# czytanie ze zrozumieniem\n",
    "var = 'Czyt_ze_zroz'\n",
    "results.append('\\n')\n",
    "results.append(var)\n",
    "param = 'diff'\n",
    "for i, df in enumerate(dfs):\n",
    "    print('-------------------------------------')\n",
    "    print(names[i+1])\n",
    "    data = [df[param][df[var] == category] for category in pd.unique(df[var])]\n",
    "    p = kruskal_wallis_test(data, print_flag=True, alpha=ALPHA)\n",
    "    results.append(p)"
   ],
   "metadata": {
    "collapsed": false,
    "ExecuteTime": {
     "end_time": "2023-12-08T15:30:46.062322Z",
     "start_time": "2023-12-08T15:30:45.753464Z"
    }
   },
   "id": "9959c3197b3dc070"
  },
  {
   "cell_type": "code",
   "execution_count": 39,
   "outputs": [
    {
     "name": "stdout",
     "output_type": "stream",
     "text": [
      "-------------------------------------\n",
      "Zsumowane wszystkie grafiki:\n",
      "H: 4.684517945109088\n",
      "p-value: 0.19641048387003973\n",
      "Brak podstaw do odrzucenia H0.\n",
      "-------------------------------------\n",
      "Zsumowane grafiki A:\n",
      "H: 8.748407524678726\n",
      "p-value: 0.032829895839042555\n",
      "\u001B[31mIstnieją podstawy do odrzucenia H0, przyjmujemy hipotezę H1.\u001B[0m\n",
      "-------------------------------------\n",
      "Zsumowane grafiki B:\n",
      "H: 0.6903253692361342\n",
      "p-value: 0.8754771266264871\n",
      "Brak podstaw do odrzucenia H0.\n",
      "-------------------------------------\n",
      "Zsumowane grafiki 1:\n",
      "H: 4.1435767706821265\n",
      "p-value: 0.2463719820310401\n",
      "Brak podstaw do odrzucenia H0.\n",
      "-------------------------------------\n",
      "Zsumowane grafiki 2:\n",
      "H: 0.622368378158121\n",
      "p-value: 0.8912930912867831\n",
      "Brak podstaw do odrzucenia H0.\n",
      "-------------------------------------\n",
      "Zsumowane grafiki 3:\n",
      "H: 5.343033112401401\n",
      "p-value: 0.14833428439008087\n",
      "Brak podstaw do odrzucenia H0.\n"
     ]
    }
   ],
   "source": [
    "# wzrokowiec\n",
    "var = 'Wzrokowiec'\n",
    "results.append('\\n')\n",
    "results.append(var)\n",
    "param = 'diff'\n",
    "for i, df in enumerate(dfs):\n",
    "    print('-------------------------------------')\n",
    "    print(names[i+1])\n",
    "    data = [df[param][df[var] == category] for category in pd.unique(df[var])]\n",
    "    p = kruskal_wallis_test(data, print_flag=True, alpha=ALPHA)\n",
    "    results.append(p)"
   ],
   "metadata": {
    "collapsed": false,
    "ExecuteTime": {
     "end_time": "2023-12-08T15:30:46.062526Z",
     "start_time": "2023-12-08T15:30:45.764641Z"
    }
   },
   "id": "aeff81dbf1e2ac90"
  },
  {
   "cell_type": "code",
   "execution_count": 40,
   "outputs": [
    {
     "name": "stdout",
     "output_type": "stream",
     "text": [
      "+----+----------+----------+----------+----------+\n",
      "|    |        4 |        3 |        5 |        2 |\n",
      "+====+==========+==========+==========+==========+\n",
      "|  4 | 1        | 0.524298 | 0.339003 | 0.481383 |\n",
      "+----+----------+----------+----------+----------+\n",
      "|  3 | 0.524298 | 1        | 0.999562 | 0.146025 |\n",
      "+----+----------+----------+----------+----------+\n",
      "|  5 | 0.339003 | 0.999562 | 1        | 0.107862 |\n",
      "+----+----------+----------+----------+----------+\n",
      "|  2 | 0.481383 | 0.146025 | 0.107862 | 1        |\n",
      "+----+----------+----------+----------+----------+\n"
     ]
    }
   ],
   "source": [
    "posthocNemenyi2_test(df_sumA, var)"
   ],
   "metadata": {
    "collapsed": false,
    "ExecuteTime": {
     "end_time": "2023-12-08T15:30:46.062682Z",
     "start_time": "2023-12-08T15:30:45.776641Z"
    }
   },
   "id": "29efec955a425513"
  },
  {
   "cell_type": "code",
   "execution_count": 41,
   "outputs": [
    {
     "name": "stdout",
     "output_type": "stream",
     "text": [
      "-------------------------------------\n",
      "Zsumowane wszystkie grafiki:\n",
      "H: 4.314140570021123\n",
      "p-value: 0.3651577553065407\n",
      "Brak podstaw do odrzucenia H0.\n",
      "-------------------------------------\n",
      "Zsumowane grafiki A:\n",
      "H: 2.2611985472155256\n",
      "p-value: 0.6878420923355089\n",
      "Brak podstaw do odrzucenia H0.\n",
      "-------------------------------------\n",
      "Zsumowane grafiki B:\n",
      "H: 6.886481094465612\n",
      "p-value: 0.14201017286940953\n",
      "Brak podstaw do odrzucenia H0.\n",
      "-------------------------------------\n",
      "Zsumowane grafiki 1:\n",
      "H: 3.3811949319420016\n",
      "p-value: 0.4961712296765247\n",
      "Brak podstaw do odrzucenia H0.\n",
      "-------------------------------------\n",
      "Zsumowane grafiki 2:\n",
      "H: 5.422673244848071\n",
      "p-value: 0.24661064179628575\n",
      "Brak podstaw do odrzucenia H0.\n",
      "-------------------------------------\n",
      "Zsumowane grafiki 3:\n",
      "H: 1.260205035330874\n",
      "p-value: 0.868090236562957\n",
      "Brak podstaw do odrzucenia H0.\n"
     ]
    }
   ],
   "source": [
    "# słuchowiec\n",
    "var = 'Słuchowiec'\n",
    "results.append('\\n')\n",
    "results.append(var)\n",
    "param = 'diff'\n",
    "for i, df in enumerate(dfs):\n",
    "    print('-------------------------------------')\n",
    "    print(names[i+1])\n",
    "    data = [df[param][df[var] == category] for category in pd.unique(df[var])]\n",
    "    p = kruskal_wallis_test(data, print_flag=True, alpha=ALPHA)\n",
    "    results.append(p)"
   ],
   "metadata": {
    "collapsed": false,
    "ExecuteTime": {
     "end_time": "2023-12-08T15:30:46.082068Z",
     "start_time": "2023-12-08T15:30:45.782748Z"
    }
   },
   "id": "ef47390fb154b0a8"
  },
  {
   "cell_type": "code",
   "execution_count": 42,
   "outputs": [
    {
     "name": "stdout",
     "output_type": "stream",
     "text": [
      "-------------------------------------\n",
      "Zsumowane wszystkie grafiki:\n",
      "H: 4.962024292475618\n",
      "p-value: 0.2912162827694289\n",
      "Brak podstaw do odrzucenia H0.\n",
      "-------------------------------------\n",
      "Zsumowane grafiki A:\n",
      "H: 9.128198737121961\n",
      "p-value: 0.057973791835403965\n",
      "Brak podstaw do odrzucenia H0.\n",
      "-------------------------------------\n",
      "Zsumowane grafiki B:\n",
      "H: 2.9011367853437333\n",
      "p-value: 0.5745038972373079\n",
      "Brak podstaw do odrzucenia H0.\n",
      "-------------------------------------\n",
      "Zsumowane grafiki 1:\n",
      "H: 0.4117657909325229\n",
      "p-value: 0.9815023180959477\n",
      "Brak podstaw do odrzucenia H0.\n",
      "-------------------------------------\n",
      "Zsumowane grafiki 2:\n",
      "H: 3.017879668248743\n",
      "p-value: 0.5548377518135508\n",
      "Brak podstaw do odrzucenia H0.\n",
      "-------------------------------------\n",
      "Zsumowane grafiki 3:\n",
      "H: 7.188967111000838\n",
      "p-value: 0.12623283269593288\n",
      "Brak podstaw do odrzucenia H0.\n"
     ]
    }
   ],
   "source": [
    "# kinestetyk\n",
    "var = 'Kinestetyk'\n",
    "results.append('\\n')\n",
    "results.append(var)\n",
    "param = 'diff'\n",
    "for i, df in enumerate(dfs):\n",
    "    print('-------------------------------------')\n",
    "    print(names[i+1])\n",
    "    data = [df[param][df[var] == category] for category in pd.unique(df[var])]\n",
    "    p = kruskal_wallis_test(data, print_flag=True, alpha=ALPHA)\n",
    "    results.append(p)"
   ],
   "metadata": {
    "collapsed": false,
    "ExecuteTime": {
     "end_time": "2023-12-08T15:30:46.091056Z",
     "start_time": "2023-12-08T15:30:45.798056Z"
    }
   },
   "id": "e88effa94ec3ba42"
  },
  {
   "cell_type": "code",
   "execution_count": 43,
   "outputs": [
    {
     "name": "stdout",
     "output_type": "stream",
     "text": [
      "-------------------------------------\n",
      "Zsumowane wszystkie grafiki:\n",
      "H: 1.6168383340797354\n",
      "p-value: 0.6555778958722058\n",
      "Brak podstaw do odrzucenia H0.\n",
      "-------------------------------------\n",
      "Zsumowane grafiki A:\n",
      "H: 1.9000829678795972\n",
      "p-value: 0.5934015337211782\n",
      "Brak podstaw do odrzucenia H0.\n",
      "-------------------------------------\n",
      "Zsumowane grafiki B:\n",
      "H: 2.2907712700586482\n",
      "p-value: 0.5142911918238899\n",
      "Brak podstaw do odrzucenia H0.\n",
      "-------------------------------------\n",
      "Zsumowane grafiki 1:\n",
      "H: 1.4502510770244166\n",
      "p-value: 0.6937990125656261\n",
      "Brak podstaw do odrzucenia H0.\n",
      "-------------------------------------\n",
      "Zsumowane grafiki 2:\n",
      "H: 2.197418981996001\n",
      "p-value: 0.532456930184467\n",
      "Brak podstaw do odrzucenia H0.\n",
      "-------------------------------------\n",
      "Zsumowane grafiki 3:\n",
      "H: 0.33805075292805103\n",
      "p-value: 0.9527202618718195\n",
      "Brak podstaw do odrzucenia H0.\n"
     ]
    }
   ],
   "source": [
    "# dominujący typ uczenia poznawczego\n",
    "var = 'Typ_uczenia'\n",
    "results.append('\\n')\n",
    "results.append(var)\n",
    "param = 'diff'\n",
    "for i, df in enumerate(dfs):\n",
    "    print('-------------------------------------')\n",
    "    print(names[i+1])\n",
    "    data = [df[param][df[var] == category] for category in pd.unique(df[var])]\n",
    "    p = kruskal_wallis_test(data, print_flag=True, alpha=ALPHA)\n",
    "    results.append(p)"
   ],
   "metadata": {
    "collapsed": false,
    "ExecuteTime": {
     "end_time": "2023-12-08T15:30:46.238744Z",
     "start_time": "2023-12-08T15:30:45.813504Z"
    }
   },
   "id": "2b183ae5dc8ad014"
  },
  {
   "cell_type": "markdown",
   "source": [
    "Podsumowanie - trudność:\n",
    "Istotne statystycznie:\n",
    "- Matura historia pisał/nie pisał - grafiki 3\n",
    "- Rok urodzenia - grafiki 2 (słabo się różnicuje w post hoc)\n",
    "- Samopoczucie - grafiki 2 (4 vs 3) i 3 (4 vs 5)\n",
    "- Zmęczenie - wszystkie, A (dla obu 1 vs 4)\n",
    "- Spostrzegawczość - grafiki 3 (2 vs 5)\n",
    "- Wzrokowiec - grafiki 1 (słabo się różnicuje)"
   ],
   "metadata": {
    "collapsed": false
   },
   "id": "1f73f8d892ef596a"
  },
  {
   "cell_type": "markdown",
   "source": [
    "Każda grafika osobno:"
   ],
   "metadata": {
    "collapsed": false
   },
   "id": "582a922df43b685b"
  },
  {
   "cell_type": "code",
   "execution_count": 44,
   "outputs": [],
   "source": [
    "columns = ['Płeć', 'Rok_urodzenia', 'Kierunek_studiów',\n",
    "       'Rok_studiów', 'Specjalność', 'Wady_wzroku', 'Ilość_snu',\n",
    "       'JP_podst', 'MAT_podst', 'JP_roz', 'MAT_roz', 'HIST_roz',\n",
    "       'Samopocz', 'Stres', 'Zmęcz', 'Czyt_map', 'Podziel_uwg', 'Analit_myśl',\n",
    "       'Spostrzeg', 'Czyt_ze_zroz', 'Wzrokowiec', 'Słuchowiec', 'Kinestetyk', 'MAT', 'POL', 'HIST', 'Typ_uczenia']\n",
    "\n",
    "prefix = ['1a', '1b', '2a', '2b', '3a', '3b']"
   ],
   "metadata": {
    "collapsed": false,
    "ExecuteTime": {
     "end_time": "2023-12-08T15:30:46.238971Z",
     "start_time": "2023-12-08T15:30:45.823253Z"
    }
   },
   "id": "d33045f274aadabe"
  },
  {
   "cell_type": "code",
   "execution_count": 46,
   "outputs": [
    {
     "name": "stdout",
     "output_type": "stream",
     "text": [
      "##############################################################\n",
      "Płeć\n",
      "-------------------------------------\n",
      "1a\n",
      "U-statistic: 170.0\n",
      "p-value: 0.472984485873845\n",
      "Brak podstaw do odrzucenia H0.\n",
      "-------------------------------------\n",
      "1b\n",
      "U-statistic: 123.0\n",
      "p-value: 0.03300139133560838\n",
      "\u001B[31mIstnieją podstawy do odrzucenia H0, przyjmujemy hipotezę H1.\u001B[0m\n"
     ]
    },
    {
     "ename": "TypeError",
     "evalue": "Data source must be a DataFrame or Mapping, not <class 'list'>.",
     "output_type": "error",
     "traceback": [
      "\u001B[0;31m---------------------------------------------------------------------------\u001B[0m",
      "\u001B[0;31mTypeError\u001B[0m                                 Traceback (most recent call last)",
      "Cell \u001B[0;32mIn[46], line 20\u001B[0m\n\u001B[1;32m     17\u001B[0m results\u001B[38;5;241m.\u001B[39mappend(p)\n\u001B[1;32m     19\u001B[0m \u001B[38;5;28;01mif\u001B[39;00m \u001B[38;5;28mfloat\u001B[39m(p) \u001B[38;5;241m<\u001B[39m ALPHA:\n\u001B[0;32m---> 20\u001B[0m     \u001B[43mplot_multi_boxplot\u001B[49m\u001B[43m(\u001B[49m\u001B[43mdata\u001B[49m\u001B[43m,\u001B[49m\u001B[43m \u001B[49m\u001B[43mpd\u001B[49m\u001B[38;5;241;43m.\u001B[39;49m\u001B[43munique\u001B[49m\u001B[43m(\u001B[49m\u001B[43mdf_merge\u001B[49m\u001B[43m[\u001B[49m\u001B[43mvar\u001B[49m\u001B[43m]\u001B[49m\u001B[43m)\u001B[49m\u001B[43m,\u001B[49m\u001B[43m \u001B[49m\u001B[43mparam\u001B[49m\u001B[43m,\u001B[49m\u001B[43m \u001B[49m\u001B[43mvar\u001B[49m\u001B[43m,\u001B[49m\u001B[43m \u001B[49m\u001B[43mpref\u001B[49m\u001B[43m)\u001B[49m\n",
      "File \u001B[0;32m~/Studies/Thesis/Master_thesis/functions/plots.py:74\u001B[0m, in \u001B[0;36mplot_multi_boxplot\u001B[0;34m(df, category_param, continue_param, label_category, label_continue, title)\u001B[0m\n\u001B[1;32m     59\u001B[0m \u001B[38;5;250m\u001B[39m\u001B[38;5;124;03m\"\"\"\u001B[39;00m\n\u001B[1;32m     60\u001B[0m \u001B[38;5;124;03mGenerates a boxplot for multiple series of data based on a categorical parameter.\u001B[39;00m\n\u001B[1;32m     61\u001B[0m \n\u001B[0;32m   (...)\u001B[0m\n\u001B[1;32m     71\u001B[0m \u001B[38;5;124;03mNone\u001B[39;00m\n\u001B[1;32m     72\u001B[0m \u001B[38;5;124;03m\"\"\"\u001B[39;00m\n\u001B[1;32m     73\u001B[0m sns\u001B[38;5;241m.\u001B[39mset(style\u001B[38;5;241m=\u001B[39m\u001B[38;5;124m\"\u001B[39m\u001B[38;5;124mwhitegrid\u001B[39m\u001B[38;5;124m\"\u001B[39m)\n\u001B[0;32m---> 74\u001B[0m \u001B[43msns\u001B[49m\u001B[38;5;241;43m.\u001B[39;49m\u001B[43mboxplot\u001B[49m\u001B[43m(\u001B[49m\u001B[43mdata\u001B[49m\u001B[38;5;241;43m=\u001B[39;49m\u001B[43mdf\u001B[49m\u001B[43m,\u001B[49m\u001B[43m \u001B[49m\u001B[43mx\u001B[49m\u001B[38;5;241;43m=\u001B[39;49m\u001B[43mcategory_param\u001B[49m\u001B[43m,\u001B[49m\u001B[43m \u001B[49m\u001B[43my\u001B[49m\u001B[38;5;241;43m=\u001B[39;49m\u001B[43mcontinue_param\u001B[49m\u001B[43m,\u001B[49m\u001B[43m \u001B[49m\u001B[43morient\u001B[49m\u001B[38;5;241;43m=\u001B[39;49m\u001B[38;5;124;43m\"\u001B[39;49m\u001B[38;5;124;43mv\u001B[39;49m\u001B[38;5;124;43m\"\u001B[39;49m\u001B[43m)\u001B[49m\n\u001B[1;32m     75\u001B[0m plt\u001B[38;5;241m.\u001B[39mtitle(title)\n\u001B[1;32m     76\u001B[0m plt\u001B[38;5;241m.\u001B[39mgrid(\u001B[38;5;28;01mTrue\u001B[39;00m, axis\u001B[38;5;241m=\u001B[39m\u001B[38;5;124m'\u001B[39m\u001B[38;5;124my\u001B[39m\u001B[38;5;124m'\u001B[39m)\n",
      "File \u001B[0;32m/Library/Frameworks/Python.framework/Versions/3.11/lib/python3.11/site-packages/seaborn/categorical.py:1582\u001B[0m, in \u001B[0;36mboxplot\u001B[0;34m(data, x, y, hue, order, hue_order, orient, color, palette, saturation, fill, dodge, width, gap, whis, linecolor, linewidth, fliersize, hue_norm, native_scale, log_scale, formatter, legend, ax, **kwargs)\u001B[0m\n\u001B[1;32m   1574\u001B[0m \u001B[38;5;28;01mdef\u001B[39;00m \u001B[38;5;21mboxplot\u001B[39m(\n\u001B[1;32m   1575\u001B[0m     data\u001B[38;5;241m=\u001B[39m\u001B[38;5;28;01mNone\u001B[39;00m, \u001B[38;5;241m*\u001B[39m, x\u001B[38;5;241m=\u001B[39m\u001B[38;5;28;01mNone\u001B[39;00m, y\u001B[38;5;241m=\u001B[39m\u001B[38;5;28;01mNone\u001B[39;00m, hue\u001B[38;5;241m=\u001B[39m\u001B[38;5;28;01mNone\u001B[39;00m, order\u001B[38;5;241m=\u001B[39m\u001B[38;5;28;01mNone\u001B[39;00m, hue_order\u001B[38;5;241m=\u001B[39m\u001B[38;5;28;01mNone\u001B[39;00m,\n\u001B[1;32m   1576\u001B[0m     orient\u001B[38;5;241m=\u001B[39m\u001B[38;5;28;01mNone\u001B[39;00m, color\u001B[38;5;241m=\u001B[39m\u001B[38;5;28;01mNone\u001B[39;00m, palette\u001B[38;5;241m=\u001B[39m\u001B[38;5;28;01mNone\u001B[39;00m, saturation\u001B[38;5;241m=\u001B[39m\u001B[38;5;241m.75\u001B[39m, fill\u001B[38;5;241m=\u001B[39m\u001B[38;5;28;01mTrue\u001B[39;00m,\n\u001B[0;32m   (...)\u001B[0m\n\u001B[1;32m   1579\u001B[0m     legend\u001B[38;5;241m=\u001B[39m\u001B[38;5;124m\"\u001B[39m\u001B[38;5;124mauto\u001B[39m\u001B[38;5;124m\"\u001B[39m, ax\u001B[38;5;241m=\u001B[39m\u001B[38;5;28;01mNone\u001B[39;00m, \u001B[38;5;241m*\u001B[39m\u001B[38;5;241m*\u001B[39mkwargs\n\u001B[1;32m   1580\u001B[0m ):\n\u001B[0;32m-> 1582\u001B[0m     p \u001B[38;5;241m=\u001B[39m \u001B[43m_CategoricalPlotter\u001B[49m\u001B[43m(\u001B[49m\n\u001B[1;32m   1583\u001B[0m \u001B[43m        \u001B[49m\u001B[43mdata\u001B[49m\u001B[38;5;241;43m=\u001B[39;49m\u001B[43mdata\u001B[49m\u001B[43m,\u001B[49m\n\u001B[1;32m   1584\u001B[0m \u001B[43m        \u001B[49m\u001B[43mvariables\u001B[49m\u001B[38;5;241;43m=\u001B[39;49m\u001B[38;5;28;43mdict\u001B[39;49m\u001B[43m(\u001B[49m\u001B[43mx\u001B[49m\u001B[38;5;241;43m=\u001B[39;49m\u001B[43mx\u001B[49m\u001B[43m,\u001B[49m\u001B[43m \u001B[49m\u001B[43my\u001B[49m\u001B[38;5;241;43m=\u001B[39;49m\u001B[43my\u001B[49m\u001B[43m,\u001B[49m\u001B[43m \u001B[49m\u001B[43mhue\u001B[49m\u001B[38;5;241;43m=\u001B[39;49m\u001B[43mhue\u001B[49m\u001B[43m)\u001B[49m\u001B[43m,\u001B[49m\n\u001B[1;32m   1585\u001B[0m \u001B[43m        \u001B[49m\u001B[43morder\u001B[49m\u001B[38;5;241;43m=\u001B[39;49m\u001B[43morder\u001B[49m\u001B[43m,\u001B[49m\n\u001B[1;32m   1586\u001B[0m \u001B[43m        \u001B[49m\u001B[43morient\u001B[49m\u001B[38;5;241;43m=\u001B[39;49m\u001B[43morient\u001B[49m\u001B[43m,\u001B[49m\n\u001B[1;32m   1587\u001B[0m \u001B[43m        \u001B[49m\u001B[43mcolor\u001B[49m\u001B[38;5;241;43m=\u001B[39;49m\u001B[43mcolor\u001B[49m\u001B[43m,\u001B[49m\n\u001B[1;32m   1588\u001B[0m \u001B[43m        \u001B[49m\u001B[43mlegend\u001B[49m\u001B[38;5;241;43m=\u001B[39;49m\u001B[43mlegend\u001B[49m\u001B[43m,\u001B[49m\n\u001B[1;32m   1589\u001B[0m \u001B[43m    \u001B[49m\u001B[43m)\u001B[49m\n\u001B[1;32m   1591\u001B[0m     \u001B[38;5;28;01mif\u001B[39;00m ax \u001B[38;5;129;01mis\u001B[39;00m \u001B[38;5;28;01mNone\u001B[39;00m:\n\u001B[1;32m   1592\u001B[0m         ax \u001B[38;5;241m=\u001B[39m plt\u001B[38;5;241m.\u001B[39mgca()\n",
      "File \u001B[0;32m/Library/Frameworks/Python.framework/Versions/3.11/lib/python3.11/site-packages/seaborn/categorical.py:62\u001B[0m, in \u001B[0;36m_CategoricalPlotter.__init__\u001B[0;34m(self, data, variables, order, orient, require_numeric, color, legend)\u001B[0m\n\u001B[1;32m     51\u001B[0m \u001B[38;5;28;01mdef\u001B[39;00m \u001B[38;5;21m__init__\u001B[39m(\n\u001B[1;32m     52\u001B[0m     \u001B[38;5;28mself\u001B[39m,\n\u001B[1;32m     53\u001B[0m     data\u001B[38;5;241m=\u001B[39m\u001B[38;5;28;01mNone\u001B[39;00m,\n\u001B[0;32m   (...)\u001B[0m\n\u001B[1;32m     59\u001B[0m     legend\u001B[38;5;241m=\u001B[39m\u001B[38;5;124m\"\u001B[39m\u001B[38;5;124mauto\u001B[39m\u001B[38;5;124m\"\u001B[39m,\n\u001B[1;32m     60\u001B[0m ):\n\u001B[0;32m---> 62\u001B[0m     \u001B[38;5;28;43msuper\u001B[39;49m\u001B[43m(\u001B[49m\u001B[43m)\u001B[49m\u001B[38;5;241;43m.\u001B[39;49m\u001B[38;5;21;43m__init__\u001B[39;49m\u001B[43m(\u001B[49m\u001B[43mdata\u001B[49m\u001B[38;5;241;43m=\u001B[39;49m\u001B[43mdata\u001B[49m\u001B[43m,\u001B[49m\u001B[43m \u001B[49m\u001B[43mvariables\u001B[49m\u001B[38;5;241;43m=\u001B[39;49m\u001B[43mvariables\u001B[49m\u001B[43m)\u001B[49m\n\u001B[1;32m     64\u001B[0m     \u001B[38;5;66;03m# This method takes care of some bookkeeping that is necessary because the\u001B[39;00m\n\u001B[1;32m     65\u001B[0m     \u001B[38;5;66;03m# original categorical plots (prior to the 2021 refactor) had some rules that\u001B[39;00m\n\u001B[1;32m     66\u001B[0m     \u001B[38;5;66;03m# don't fit exactly into VectorPlotter logic. It may be wise to have a second\u001B[39;00m\n\u001B[0;32m   (...)\u001B[0m\n\u001B[1;32m     71\u001B[0m     \u001B[38;5;66;03m# default VectorPlotter rules. If we do decide to make orient part of the\u001B[39;00m\n\u001B[1;32m     72\u001B[0m     \u001B[38;5;66;03m# _base variable assignment, we'll want to figure out how to express that.\u001B[39;00m\n\u001B[1;32m     73\u001B[0m     \u001B[38;5;28;01mif\u001B[39;00m \u001B[38;5;28mself\u001B[39m\u001B[38;5;241m.\u001B[39minput_format \u001B[38;5;241m==\u001B[39m \u001B[38;5;124m\"\u001B[39m\u001B[38;5;124mwide\u001B[39m\u001B[38;5;124m\"\u001B[39m \u001B[38;5;129;01mand\u001B[39;00m orient \u001B[38;5;129;01min\u001B[39;00m [\u001B[38;5;124m\"\u001B[39m\u001B[38;5;124mh\u001B[39m\u001B[38;5;124m\"\u001B[39m, \u001B[38;5;124m\"\u001B[39m\u001B[38;5;124my\u001B[39m\u001B[38;5;124m\"\u001B[39m]:\n",
      "File \u001B[0;32m/Library/Frameworks/Python.framework/Versions/3.11/lib/python3.11/site-packages/seaborn/_base.py:634\u001B[0m, in \u001B[0;36mVectorPlotter.__init__\u001B[0;34m(self, data, variables)\u001B[0m\n\u001B[1;32m    629\u001B[0m \u001B[38;5;66;03m# var_ordered is relevant only for categorical axis variables, and may\u001B[39;00m\n\u001B[1;32m    630\u001B[0m \u001B[38;5;66;03m# be better handled by an internal axis information object that tracks\u001B[39;00m\n\u001B[1;32m    631\u001B[0m \u001B[38;5;66;03m# such information and is set up by the scale_* methods. The analogous\u001B[39;00m\n\u001B[1;32m    632\u001B[0m \u001B[38;5;66;03m# information for numeric axes would be information about log scales.\u001B[39;00m\n\u001B[1;32m    633\u001B[0m \u001B[38;5;28mself\u001B[39m\u001B[38;5;241m.\u001B[39m_var_ordered \u001B[38;5;241m=\u001B[39m {\u001B[38;5;124m\"\u001B[39m\u001B[38;5;124mx\u001B[39m\u001B[38;5;124m\"\u001B[39m: \u001B[38;5;28;01mFalse\u001B[39;00m, \u001B[38;5;124m\"\u001B[39m\u001B[38;5;124my\u001B[39m\u001B[38;5;124m\"\u001B[39m: \u001B[38;5;28;01mFalse\u001B[39;00m}  \u001B[38;5;66;03m# alt., used DefaultDict\u001B[39;00m\n\u001B[0;32m--> 634\u001B[0m \u001B[38;5;28;43mself\u001B[39;49m\u001B[38;5;241;43m.\u001B[39;49m\u001B[43massign_variables\u001B[49m\u001B[43m(\u001B[49m\u001B[43mdata\u001B[49m\u001B[43m,\u001B[49m\u001B[43m \u001B[49m\u001B[43mvariables\u001B[49m\u001B[43m)\u001B[49m\n\u001B[1;32m    636\u001B[0m \u001B[38;5;66;03m# TODO Lots of tests assume that these are called to initialize the\u001B[39;00m\n\u001B[1;32m    637\u001B[0m \u001B[38;5;66;03m# mappings to default values on class initialization. I'd prefer to\u001B[39;00m\n\u001B[1;32m    638\u001B[0m \u001B[38;5;66;03m# move away from that and only have a mapping when explicitly called.\u001B[39;00m\n\u001B[1;32m    639\u001B[0m \u001B[38;5;28;01mfor\u001B[39;00m var \u001B[38;5;129;01min\u001B[39;00m [\u001B[38;5;124m\"\u001B[39m\u001B[38;5;124mhue\u001B[39m\u001B[38;5;124m\"\u001B[39m, \u001B[38;5;124m\"\u001B[39m\u001B[38;5;124msize\u001B[39m\u001B[38;5;124m\"\u001B[39m, \u001B[38;5;124m\"\u001B[39m\u001B[38;5;124mstyle\u001B[39m\u001B[38;5;124m\"\u001B[39m]:\n",
      "File \u001B[0;32m/Library/Frameworks/Python.framework/Versions/3.11/lib/python3.11/site-packages/seaborn/_base.py:679\u001B[0m, in \u001B[0;36mVectorPlotter.assign_variables\u001B[0;34m(self, data, variables)\u001B[0m\n\u001B[1;32m    674\u001B[0m \u001B[38;5;28;01melse\u001B[39;00m:\n\u001B[1;32m    675\u001B[0m     \u001B[38;5;66;03m# When dealing with long-form input, use the newer PlotData\u001B[39;00m\n\u001B[1;32m    676\u001B[0m     \u001B[38;5;66;03m# object (internal but introduced for the objects interface)\u001B[39;00m\n\u001B[1;32m    677\u001B[0m     \u001B[38;5;66;03m# to centralize / standardize data consumption logic.\u001B[39;00m\n\u001B[1;32m    678\u001B[0m     \u001B[38;5;28mself\u001B[39m\u001B[38;5;241m.\u001B[39minput_format \u001B[38;5;241m=\u001B[39m \u001B[38;5;124m\"\u001B[39m\u001B[38;5;124mlong\u001B[39m\u001B[38;5;124m\"\u001B[39m\n\u001B[0;32m--> 679\u001B[0m     plot_data \u001B[38;5;241m=\u001B[39m \u001B[43mPlotData\u001B[49m\u001B[43m(\u001B[49m\u001B[43mdata\u001B[49m\u001B[43m,\u001B[49m\u001B[43m \u001B[49m\u001B[43mvariables\u001B[49m\u001B[43m)\u001B[49m\n\u001B[1;32m    680\u001B[0m     frame \u001B[38;5;241m=\u001B[39m plot_data\u001B[38;5;241m.\u001B[39mframe\n\u001B[1;32m    681\u001B[0m     names \u001B[38;5;241m=\u001B[39m plot_data\u001B[38;5;241m.\u001B[39mnames\n",
      "File \u001B[0;32m/Library/Frameworks/Python.framework/Versions/3.11/lib/python3.11/site-packages/seaborn/_core/data.py:57\u001B[0m, in \u001B[0;36mPlotData.__init__\u001B[0;34m(self, data, variables)\u001B[0m\n\u001B[1;32m     51\u001B[0m \u001B[38;5;28;01mdef\u001B[39;00m \u001B[38;5;21m__init__\u001B[39m(\n\u001B[1;32m     52\u001B[0m     \u001B[38;5;28mself\u001B[39m,\n\u001B[1;32m     53\u001B[0m     data: DataSource,\n\u001B[1;32m     54\u001B[0m     variables: \u001B[38;5;28mdict\u001B[39m[\u001B[38;5;28mstr\u001B[39m, VariableSpec],\n\u001B[1;32m     55\u001B[0m ):\n\u001B[0;32m---> 57\u001B[0m     data \u001B[38;5;241m=\u001B[39m \u001B[43mhandle_data_source\u001B[49m\u001B[43m(\u001B[49m\u001B[43mdata\u001B[49m\u001B[43m)\u001B[49m\n\u001B[1;32m     58\u001B[0m     frame, names, ids \u001B[38;5;241m=\u001B[39m \u001B[38;5;28mself\u001B[39m\u001B[38;5;241m.\u001B[39m_assign_variables(data, variables)\n\u001B[1;32m     60\u001B[0m     \u001B[38;5;28mself\u001B[39m\u001B[38;5;241m.\u001B[39mframe \u001B[38;5;241m=\u001B[39m frame\n",
      "File \u001B[0;32m/Library/Frameworks/Python.framework/Versions/3.11/lib/python3.11/site-packages/seaborn/_core/data.py:278\u001B[0m, in \u001B[0;36mhandle_data_source\u001B[0;34m(data)\u001B[0m\n\u001B[1;32m    276\u001B[0m \u001B[38;5;28;01melif\u001B[39;00m data \u001B[38;5;129;01mis\u001B[39;00m \u001B[38;5;129;01mnot\u001B[39;00m \u001B[38;5;28;01mNone\u001B[39;00m \u001B[38;5;129;01mand\u001B[39;00m \u001B[38;5;129;01mnot\u001B[39;00m \u001B[38;5;28misinstance\u001B[39m(data, Mapping):\n\u001B[1;32m    277\u001B[0m     err \u001B[38;5;241m=\u001B[39m \u001B[38;5;124mf\u001B[39m\u001B[38;5;124m\"\u001B[39m\u001B[38;5;124mData source must be a DataFrame or Mapping, not \u001B[39m\u001B[38;5;132;01m{\u001B[39;00m\u001B[38;5;28mtype\u001B[39m(data)\u001B[38;5;132;01m!r}\u001B[39;00m\u001B[38;5;124m.\u001B[39m\u001B[38;5;124m\"\u001B[39m\n\u001B[0;32m--> 278\u001B[0m     \u001B[38;5;28;01mraise\u001B[39;00m \u001B[38;5;167;01mTypeError\u001B[39;00m(err)\n\u001B[1;32m    280\u001B[0m \u001B[38;5;28;01mreturn\u001B[39;00m data\n",
      "\u001B[0;31mTypeError\u001B[0m: Data source must be a DataFrame or Mapping, not <class 'list'>."
     ]
    }
   ],
   "source": [
    "from functions.plots import plot_multi_boxplot\n",
    "for var in columns:\n",
    "    print('##############################################################')\n",
    "    print(var)\n",
    "    results.append('\\n')\n",
    "    results.append(var)\n",
    "    for pref in prefix:\n",
    "        print('-------------------------------------')\n",
    "        print(pref)\n",
    "        param = f'{pref}_trud'\n",
    "        data = [df_merge[param][df_merge[var] == category] for category in pd.unique(df_merge[var])]\n",
    "        \n",
    "        if var in ['Płeć', 'Wady_wzroku', 'MAT', 'POL', 'HIST']:\n",
    "            p = mann_whitney_test(data, print_flag=True, alpha=ALPHA)\n",
    "        else:\n",
    "            p = kruskal_wallis_test(data, print_flag=True, alpha=ALPHA)\n",
    "        results.append(p)\n",
    "        "
   ],
   "metadata": {
    "collapsed": false,
    "ExecuteTime": {
     "end_time": "2023-12-08T15:31:00.444511Z",
     "start_time": "2023-12-08T15:31:00.198247Z"
    }
   },
   "id": "f7cf03e2e60cd807"
  },
  {
   "cell_type": "code",
   "execution_count": 56,
   "outputs": [
    {
     "data": {
      "text/plain": "           SumCorr_3   Trud_all\nSpostrzeg                      \n2           1.250000  17.000000\n3           0.909091  15.000000\n4           1.117647  14.882353\n5           0.750000  12.625000",
      "text/html": "<div>\n<style scoped>\n    .dataframe tbody tr th:only-of-type {\n        vertical-align: middle;\n    }\n\n    .dataframe tbody tr th {\n        vertical-align: top;\n    }\n\n    .dataframe thead th {\n        text-align: right;\n    }\n</style>\n<table border=\"1\" class=\"dataframe\">\n  <thead>\n    <tr style=\"text-align: right;\">\n      <th></th>\n      <th>SumCorr_3</th>\n      <th>Trud_all</th>\n    </tr>\n    <tr>\n      <th>Spostrzeg</th>\n      <th></th>\n      <th></th>\n    </tr>\n  </thead>\n  <tbody>\n    <tr>\n      <th>2</th>\n      <td>1.250000</td>\n      <td>17.000000</td>\n    </tr>\n    <tr>\n      <th>3</th>\n      <td>0.909091</td>\n      <td>15.000000</td>\n    </tr>\n    <tr>\n      <th>4</th>\n      <td>1.117647</td>\n      <td>14.882353</td>\n    </tr>\n    <tr>\n      <th>5</th>\n      <td>0.750000</td>\n      <td>12.625000</td>\n    </tr>\n  </tbody>\n</table>\n</div>"
     },
     "execution_count": 56,
     "metadata": {},
     "output_type": "execute_result"
    }
   ],
   "source": [
    "# plot_multi_boxplot(df_merge, 'Spostrzeg', 'SumCorr_3', '', '')\n",
    "df_merge[['Spostrzeg', 'SumCorr_3', 'Trud_all']].groupby('Spostrzeg').mean()"
   ],
   "metadata": {
    "collapsed": false,
    "ExecuteTime": {
     "end_time": "2023-12-08T15:57:59.910838Z",
     "start_time": "2023-12-08T15:57:59.874423Z"
    }
   },
   "id": "635d60fa0eacd474"
  },
  {
   "cell_type": "code",
   "execution_count": null,
   "outputs": [],
   "source": [
    "posthocNemenyi2_test(df_merge, 'Rok_urodzenia', '2b_trud')\n",
    "print()\n",
    "posthocNemenyi2_test(df_merge, 'JP_roz', '3b_trud')\n",
    "print()\n",
    "posthocNemenyi2_test(df_merge, 'MAT_roz', '1b_trud')\n",
    "print()\n",
    "posthocNemenyi2_test(df_merge, 'HIST_roz', '3a_trud')"
   ],
   "metadata": {
    "collapsed": false,
    "ExecuteTime": {
     "start_time": "2023-12-08T15:30:45.971133Z"
    }
   },
   "id": "ef63fd023f68a49e"
  },
  {
   "cell_type": "code",
   "execution_count": null,
   "outputs": [],
   "source": [
    "posthocNemenyi2_test(df_merge, 'Samopocz', '2a_trud')\n",
    "print()\n",
    "posthocNemenyi2_test(df_merge, 'Samopocz', '2b_trud')\n",
    "print()\n",
    "posthocNemenyi2_test(df_merge, 'Samopocz', '3a_trud')"
   ],
   "metadata": {
    "collapsed": false,
    "ExecuteTime": {
     "start_time": "2023-12-08T15:30:45.972876Z"
    }
   },
   "id": "ec38f969a1b0eb9f"
  },
  {
   "cell_type": "code",
   "execution_count": null,
   "outputs": [],
   "source": [
    "posthocNemenyi2_test(df_merge, 'Stres', '2b_trud')\n",
    "print()\n",
    "posthocNemenyi2_test(df_merge, 'Spostrzeg', '3a_trud')\n",
    "print()\n",
    "posthocNemenyi2_test(df_merge, 'Słuchowiec', '2b_trud')"
   ],
   "metadata": {
    "collapsed": false,
    "ExecuteTime": {
     "start_time": "2023-12-08T15:30:45.974643Z"
    }
   },
   "id": "d2883203faf09f08"
  },
  {
   "cell_type": "markdown",
   "source": [
    "Podsumowanie - poprawność, każda grafika osobno:\n",
    "Istotne statystycznie:\n",
    "- Płeć (1b)\n",
    "- Rok urodzenia (2b) - słabo się różnicuje\n",
    "- JP_roz (3b) - słabo się różnicuje\n",
    "- MAT_roz (1b) - 1 vs 4 !!!\n",
    "- HIST_roz (3a) - słabo się różnicuje\n",
    "- Samopoczucie (2a - 3 vs 4, 2b - słabo, 3a - 5 vs 4)\n",
    "- Stres (2b) - 1 vs 4\n",
    "- Spostrzegawczość (3a) - 2 vs 5\n",
    "- Słuchowiec (2b) - słabo się różnicuje\n",
    "- POL - pisał/nie pisał (2a)\n",
    "- HIST - pisał/nie pisał (3a)\n"
   ],
   "metadata": {
    "collapsed": false
   },
   "id": "6058713c8a46e8b8"
  },
  {
   "cell_type": "code",
   "execution_count": null,
   "outputs": [],
   "source": [
    "import csv\n",
    "with open('./results/trudnosc.csv', 'w', newline='') as csvfile:\n",
    "    writer = csv.writer(csvfile)\n",
    "    row = []\n",
    "    for item in results:\n",
    "        if item != '\\n':\n",
    "            row.append(item)\n",
    "        else:\n",
    "            writer.writerow(row)\n",
    "            row = []\n",
    "    if row:  # Sprawdzamy, czy jest coś do zapisania w ostatnim wierszu\n",
    "        writer.writerow(row)"
   ],
   "metadata": {
    "collapsed": false,
    "ExecuteTime": {
     "start_time": "2023-12-08T15:30:45.975749Z"
    }
   },
   "id": "607547c5e880fcf7"
  }
 ],
 "metadata": {
  "kernelspec": {
   "display_name": "Python 3",
   "language": "python",
   "name": "python3"
  },
  "language_info": {
   "codemirror_mode": {
    "name": "ipython",
    "version": 2
   },
   "file_extension": ".py",
   "mimetype": "text/x-python",
   "name": "python",
   "nbconvert_exporter": "python",
   "pygments_lexer": "ipython2",
   "version": "2.7.6"
  }
 },
 "nbformat": 4,
 "nbformat_minor": 5
}
