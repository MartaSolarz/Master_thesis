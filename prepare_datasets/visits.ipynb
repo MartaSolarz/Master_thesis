{
 "cells": [
  {
   "cell_type": "markdown",
   "source": [
    "# Correctness, difficulty and visits\n",
    "\n",
    "Is there a statistically significant difference in the correctness/confidence of answers depending on:\n",
    "- number of visits (on all elements of the graphic, only on the content, only on the command)?\n",
    "- the total and average length of visit (on all elements of the graphic, only on the content, only on the command)?\n",
    "\n",
    "### Preparing sets for testing\n",
    "- visits (number, total length, average, average pupil size, last visited AOI)\n",
    "- vs\n",
    "- correctness\n",
    "- difficulty"
   ],
   "metadata": {
    "collapsed": false
   },
   "id": "ca00621bbb388b4"
  },
  {
   "cell_type": "code",
   "execution_count": 1,
   "outputs": [],
   "source": [
    "import pandas as pd\n",
    "import re\n",
    "\n",
    "from functions.set_preparations import prepare_row"
   ],
   "metadata": {
    "collapsed": false,
    "ExecuteTime": {
     "end_time": "2024-04-12T14:38:02.225084Z",
     "start_time": "2024-04-12T14:38:01.689877Z"
    }
   },
   "id": "2f99b40764a40b7b"
  },
  {
   "cell_type": "code",
   "execution_count": 2,
   "outputs": [
    {
     "data": {
      "text/plain": "    1a_trud  1b_trud  2a_trud  2b_trud  3a_trud  3b_trud  Trud_all  Corr_all  \\\nID                                                                             \n1         3        1        4        3        4        4        19         4   \n2         1        2        3        1        2        4        13         5   \n3         2        1        3        1        1        1         9         4   \n4         3        2        2        1        3        5        16         5   \n5         4        2        3        2        3        3        17         6   \n\n    1a_corr  1b_corr  ...  SumCorr_a  SumCorr_b  SumCorr_1  SumCorr_2  \\\nID                    ...                                               \n1         1        1  ...          2          2          2          0   \n2         1        1  ...          2          3          2          2   \n3         1        1  ...          2          2          2          2   \n4         1        1  ...          3          2          2          2   \n5         1        1  ...          3          3          2          2   \n\n    SumCorr_3  SumTrud_a  SumTrud_b  SumTrud_1  SumTrud_2  SumTrud_3  \nID                                                                    \n1           2         11          8          4          7          8  \n2           1          6          7          3          4          6  \n3           0          6          3          3          4          2  \n4           1          8          8          5          3          8  \n5           2         10          7          6          5          6  \n\n[5 rows x 24 columns]",
      "text/html": "<div>\n<style scoped>\n    .dataframe tbody tr th:only-of-type {\n        vertical-align: middle;\n    }\n\n    .dataframe tbody tr th {\n        vertical-align: top;\n    }\n\n    .dataframe thead th {\n        text-align: right;\n    }\n</style>\n<table border=\"1\" class=\"dataframe\">\n  <thead>\n    <tr style=\"text-align: right;\">\n      <th></th>\n      <th>1a_trud</th>\n      <th>1b_trud</th>\n      <th>2a_trud</th>\n      <th>2b_trud</th>\n      <th>3a_trud</th>\n      <th>3b_trud</th>\n      <th>Trud_all</th>\n      <th>Corr_all</th>\n      <th>1a_corr</th>\n      <th>1b_corr</th>\n      <th>...</th>\n      <th>SumCorr_a</th>\n      <th>SumCorr_b</th>\n      <th>SumCorr_1</th>\n      <th>SumCorr_2</th>\n      <th>SumCorr_3</th>\n      <th>SumTrud_a</th>\n      <th>SumTrud_b</th>\n      <th>SumTrud_1</th>\n      <th>SumTrud_2</th>\n      <th>SumTrud_3</th>\n    </tr>\n    <tr>\n      <th>ID</th>\n      <th></th>\n      <th></th>\n      <th></th>\n      <th></th>\n      <th></th>\n      <th></th>\n      <th></th>\n      <th></th>\n      <th></th>\n      <th></th>\n      <th></th>\n      <th></th>\n      <th></th>\n      <th></th>\n      <th></th>\n      <th></th>\n      <th></th>\n      <th></th>\n      <th></th>\n      <th></th>\n      <th></th>\n    </tr>\n  </thead>\n  <tbody>\n    <tr>\n      <th>1</th>\n      <td>3</td>\n      <td>1</td>\n      <td>4</td>\n      <td>3</td>\n      <td>4</td>\n      <td>4</td>\n      <td>19</td>\n      <td>4</td>\n      <td>1</td>\n      <td>1</td>\n      <td>...</td>\n      <td>2</td>\n      <td>2</td>\n      <td>2</td>\n      <td>0</td>\n      <td>2</td>\n      <td>11</td>\n      <td>8</td>\n      <td>4</td>\n      <td>7</td>\n      <td>8</td>\n    </tr>\n    <tr>\n      <th>2</th>\n      <td>1</td>\n      <td>2</td>\n      <td>3</td>\n      <td>1</td>\n      <td>2</td>\n      <td>4</td>\n      <td>13</td>\n      <td>5</td>\n      <td>1</td>\n      <td>1</td>\n      <td>...</td>\n      <td>2</td>\n      <td>3</td>\n      <td>2</td>\n      <td>2</td>\n      <td>1</td>\n      <td>6</td>\n      <td>7</td>\n      <td>3</td>\n      <td>4</td>\n      <td>6</td>\n    </tr>\n    <tr>\n      <th>3</th>\n      <td>2</td>\n      <td>1</td>\n      <td>3</td>\n      <td>1</td>\n      <td>1</td>\n      <td>1</td>\n      <td>9</td>\n      <td>4</td>\n      <td>1</td>\n      <td>1</td>\n      <td>...</td>\n      <td>2</td>\n      <td>2</td>\n      <td>2</td>\n      <td>2</td>\n      <td>0</td>\n      <td>6</td>\n      <td>3</td>\n      <td>3</td>\n      <td>4</td>\n      <td>2</td>\n    </tr>\n    <tr>\n      <th>4</th>\n      <td>3</td>\n      <td>2</td>\n      <td>2</td>\n      <td>1</td>\n      <td>3</td>\n      <td>5</td>\n      <td>16</td>\n      <td>5</td>\n      <td>1</td>\n      <td>1</td>\n      <td>...</td>\n      <td>3</td>\n      <td>2</td>\n      <td>2</td>\n      <td>2</td>\n      <td>1</td>\n      <td>8</td>\n      <td>8</td>\n      <td>5</td>\n      <td>3</td>\n      <td>8</td>\n    </tr>\n    <tr>\n      <th>5</th>\n      <td>4</td>\n      <td>2</td>\n      <td>3</td>\n      <td>2</td>\n      <td>3</td>\n      <td>3</td>\n      <td>17</td>\n      <td>6</td>\n      <td>1</td>\n      <td>1</td>\n      <td>...</td>\n      <td>3</td>\n      <td>3</td>\n      <td>2</td>\n      <td>2</td>\n      <td>2</td>\n      <td>10</td>\n      <td>7</td>\n      <td>6</td>\n      <td>5</td>\n      <td>6</td>\n    </tr>\n  </tbody>\n</table>\n<p>5 rows × 24 columns</p>\n</div>"
     },
     "execution_count": 2,
     "metadata": {},
     "output_type": "execute_result"
    }
   ],
   "source": [
    "df_answers = pd.read_csv('/Users/martasolarz/Studies/Thesis/Master_thesis/prepare_datasets/sets/correctness.csv', index_col='ID')\n",
    "df_answers.head()"
   ],
   "metadata": {
    "collapsed": false,
    "ExecuteTime": {
     "end_time": "2024-04-12T14:38:02.226273Z",
     "start_time": "2024-04-12T14:38:02.045554Z"
    }
   },
   "id": "2a8e4326ea92a7f4"
  },
  {
   "cell_type": "code",
   "execution_count": 3,
   "outputs": [],
   "source": [
    "df_1a = pd.read_csv('/Users/martasolarz/Studies/Thesis/data/metrics/AOI_visit/1a.csv', index_col='ID')\n",
    "\n",
    "df_2a = pd.read_csv('/Users/martasolarz/Studies/Thesis/data/metrics/AOI_visit/2a.csv', index_col='ID')\n",
    "\n",
    "df_3a = pd.read_csv('/Users/martasolarz/Studies/Thesis/data/metrics/AOI_visit/3a.csv', index_col='ID')\n",
    "\n",
    "df_1b_aggr = pd.read_csv('/Users/martasolarz/Studies/Thesis/data/metrics/AOI_visit/1b-aggregate.csv', index_col='ID')\n",
    "\n",
    "df_2b_aggr = pd.read_csv('/Users/martasolarz/Studies/Thesis/data/metrics/AOI_visit/2b-aggregate.csv', index_col='ID')\n",
    "\n",
    "df_3b_aggr = pd.read_csv('/Users/martasolarz/Studies/Thesis/data/metrics/AOI_visit/3b-aggregate.csv', index_col='ID')\n",
    "\n",
    "df_1b = pd.read_csv('/Users/martasolarz/Studies/Thesis/data/metrics/AOI_visit/1b.csv', index_col='ID')\n",
    "\n",
    "df_2b = pd.read_csv('/Users/martasolarz/Studies/Thesis/data/metrics/AOI_visit/2b.csv', index_col='ID')\n",
    "\n",
    "df_3b = pd.read_csv('/Users/martasolarz/Studies/Thesis/data/metrics/AOI_visit/3b.csv', index_col='ID')"
   ],
   "metadata": {
    "collapsed": false,
    "ExecuteTime": {
     "end_time": "2024-04-12T14:38:02.226402Z",
     "start_time": "2024-04-12T14:38:02.060489Z"
    }
   },
   "id": "970813337b9ca12f"
  },
  {
   "cell_type": "code",
   "execution_count": 4,
   "outputs": [],
   "source": [
    "df_a = pd.concat([df_1a, df_2a, df_3a], axis=1)  \n",
    "df_b = pd.concat([df_1b, df_2b, df_3b], axis=1) \n",
    "df_1 = pd.concat([df_1a, df_1b], axis=1) \n",
    "df_2 = pd.concat([df_2a, df_2b], axis=1)\n",
    "df_3 = pd.concat([df_3a, df_3b], axis=1)\n",
    "df_all = pd.concat([df_a, df_b], axis=1)\n",
    "\n",
    "df_1aaggr = df_1a.filter(regex='^(?!.*_com$).*$')\n",
    "df_1aaggr.columns = [col.replace('_map', '') for col in df_1aaggr.columns]\n",
    "df_2aaggr = df_2a.filter(regex='^(?!.*_com$).*$')\n",
    "df_2aaggr.columns = [col.replace('_map', '') for col in df_2aaggr.columns]\n",
    "df_3aaggr = df_3a.filter(regex='^(?!.*_com$).*$')\n",
    "df_3aaggr.columns = [col.replace('_map', '') for col in df_3aaggr.columns]\n",
    "df_a_aggr = pd.concat([df_1aaggr, df_2aaggr, df_3aaggr], axis=1)\n",
    "\n",
    "df_1baggr = df_1b_aggr.add_suffix('_1b')\n",
    "df_2baggr = df_2b_aggr.add_suffix('_2b')\n",
    "df_3baggr = df_3b_aggr.add_suffix('_3b')\n",
    "df_b_aggr = pd.concat([df_1baggr, df_2baggr, df_3baggr], axis=1)"
   ],
   "metadata": {
    "collapsed": false,
    "ExecuteTime": {
     "end_time": "2024-04-12T14:38:02.226458Z",
     "start_time": "2024-04-12T14:38:02.079129Z"
    }
   },
   "id": "c4f0f9ec3eaa2fa3"
  },
  {
   "cell_type": "code",
   "execution_count": 5,
   "outputs": [],
   "source": [
    "df_all_aggr = pd.concat([df_a_aggr, df_b_aggr], axis=1)"
   ],
   "metadata": {
    "collapsed": false,
    "ExecuteTime": {
     "end_time": "2024-04-12T14:38:02.226513Z",
     "start_time": "2024-04-12T14:38:02.094129Z"
    }
   },
   "id": "1763603ea75cf8bc"
  },
  {
   "cell_type": "code",
   "execution_count": 6,
   "outputs": [],
   "source": [
    "total = df_1a.filter(regex='Total').sum(axis=1)\n",
    "avg = df_1a.filter(regex='Avg').sum(axis=1)\n",
    "num = df_1a.filter(regex='Num').sum(axis=1)\n",
    "df_1A_aggr = pd.DataFrame(data={'Total': total, 'Avg': avg, 'Num': num})\n",
    "\n",
    "total = df_2a.filter(regex='Total').sum(axis=1)\n",
    "avg = df_2a.filter(regex='Avg').sum(axis=1)\n",
    "num = df_2a.filter(regex='Num').sum(axis=1)\n",
    "df_2A_aggr = pd.DataFrame(data={'Total': total, 'Avg': avg, 'Num': num})\n",
    "\n",
    "total = df_3a.filter(regex='Total').sum(axis=1)\n",
    "avg = df_3a.filter(regex='Avg').sum(axis=1)\n",
    "num = df_3a.filter(regex='Num').sum(axis=1)\n",
    "df_3A_aggr = pd.DataFrame(data={'Total': total, 'Avg': avg, 'Num': num})\n",
    "\n",
    "df_1A_aggr = df_1A_aggr.add_suffix('_1a')\n",
    "df_2A_aggr = df_2A_aggr.add_suffix('_2a')\n",
    "df_3A_aggr = df_3A_aggr.add_suffix('_3a')\n",
    "\n",
    "df_A_aggr = pd.concat([df_1A_aggr, df_2A_aggr, df_3A_aggr], axis=1)"
   ],
   "metadata": {
    "collapsed": false,
    "ExecuteTime": {
     "end_time": "2024-04-12T14:38:02.226557Z",
     "start_time": "2024-04-12T14:38:02.105026Z"
    }
   },
   "id": "9a8cdc65fd064320"
  },
  {
   "cell_type": "code",
   "execution_count": 7,
   "outputs": [],
   "source": [
    "total = df_1b.filter(regex='Total').sum(axis=1)\n",
    "avg = df_1b.filter(regex='Avg').sum(axis=1)\n",
    "num = df_1b.filter(regex='Num').sum(axis=1)\n",
    "df_1B_aggr = pd.DataFrame(data={'Total': total, 'Avg': avg, 'Num': num})\n",
    "\n",
    "total = df_2b.filter(regex='Total').sum(axis=1)\n",
    "avg = df_2b.filter(regex='Avg').sum(axis=1)\n",
    "num = df_2b.filter(regex='Num').sum(axis=1)\n",
    "df_2B_aggr = pd.DataFrame(data={'Total': total, 'Avg': avg, 'Num': num})\n",
    "\n",
    "total = df_3b.filter(regex='Total').sum(axis=1)\n",
    "avg = df_3b.filter(regex='Avg').sum(axis=1)\n",
    "num = df_3b.filter(regex='Num').sum(axis=1)\n",
    "df_3B_aggr = pd.DataFrame(data={'Total': total, 'Avg': avg, 'Num': num})\n",
    "\n",
    "df_1B_aggr = df_1B_aggr.add_suffix('_1b')\n",
    "df_2B_aggr = df_2B_aggr.add_suffix('_2b')\n",
    "df_3B_aggr = df_3B_aggr.add_suffix('_3b')\n",
    "\n",
    "df_B_aggr = pd.concat([df_1B_aggr, df_2B_aggr, df_3B_aggr], axis=1)"
   ],
   "metadata": {
    "collapsed": false,
    "ExecuteTime": {
     "end_time": "2024-04-12T14:38:02.226601Z",
     "start_time": "2024-04-12T14:38:02.113417Z"
    }
   },
   "id": "76f94ed98e47fe5c"
  },
  {
   "cell_type": "code",
   "execution_count": 8,
   "outputs": [],
   "source": [
    "df_ALL_aggr = pd.concat([df_A_aggr, df_B_aggr], axis=1)"
   ],
   "metadata": {
    "collapsed": false,
    "ExecuteTime": {
     "end_time": "2024-04-12T14:38:02.226641Z",
     "start_time": "2024-04-12T14:38:02.117869Z"
    }
   },
   "id": "600b2bf39797d5dc"
  },
  {
   "cell_type": "code",
   "execution_count": 9,
   "outputs": [],
   "source": [
    "total = df_ALL_aggr.filter(regex='Total_1').sum(axis=1)\n",
    "avg = df_ALL_aggr.filter(regex='Avg_1').sum(axis=1)\n",
    "num = df_ALL_aggr.filter(regex='Num_1').sum(axis=1)\n",
    "df_1_AGGR = pd.DataFrame(data={'Total': total, 'Avg': avg, 'Num': num})\n",
    "\n",
    "total = df_ALL_aggr.filter(regex='Total_2').sum(axis=1)\n",
    "avg = df_ALL_aggr.filter(regex='Avg_2').sum(axis=1)\n",
    "num = df_ALL_aggr.filter(regex='Num_2').sum(axis=1)\n",
    "df_2_AGGR = pd.DataFrame(data={'Total': total, 'Avg': avg, 'Num': num})\n",
    "\n",
    "total = df_ALL_aggr.filter(regex='Total_3').sum(axis=1)\n",
    "avg = df_ALL_aggr.filter(regex='Avg_3').sum(axis=1)\n",
    "num = df_ALL_aggr.filter(regex='Num_3').sum(axis=1)\n",
    "df_3_AGGR = pd.DataFrame(data={'Total': total, 'Avg': avg, 'Num': num})"
   ],
   "metadata": {
    "collapsed": false,
    "ExecuteTime": {
     "end_time": "2024-04-12T14:38:02.226685Z",
     "start_time": "2024-04-12T14:38:02.126734Z"
    }
   },
   "id": "792709ab30db1fb4"
  },
  {
   "cell_type": "code",
   "execution_count": 10,
   "outputs": [],
   "source": [
    "total = df_all_aggr.filter(regex='Total_1').sum(axis=1)\n",
    "avg = df_all_aggr.filter(regex='Avg_1').sum(axis=1)\n",
    "num = df_all_aggr.filter(regex='Num_1').sum(axis=1)\n",
    "df_1_aggr = pd.DataFrame(data={'Total': total, 'Avg': avg, 'Num': num})\n",
    "\n",
    "total = df_all_aggr.filter(regex='Total_2').sum(axis=1)\n",
    "avg = df_all_aggr.filter(regex='Avg_2').sum(axis=1)\n",
    "num = df_all_aggr.filter(regex='Num_2').sum(axis=1)\n",
    "df_2_aggr = pd.DataFrame(data={'Total': total, 'Avg': avg, 'Num': num})\n",
    "\n",
    "total = df_all_aggr.filter(regex='Total_3').sum(axis=1)\n",
    "avg = df_all_aggr.filter(regex='Avg_3').sum(axis=1)\n",
    "num = df_all_aggr.filter(regex='Num_3').sum(axis=1)\n",
    "df_3_aggr = pd.DataFrame(data={'Total': total, 'Avg': avg, 'Num': num})"
   ],
   "metadata": {
    "collapsed": false,
    "ExecuteTime": {
     "end_time": "2024-04-12T14:38:02.226729Z",
     "start_time": "2024-04-12T14:38:02.136711Z"
    }
   },
   "id": "633643a9883ec33d"
  },
  {
   "cell_type": "code",
   "execution_count": 11,
   "outputs": [],
   "source": [
    "corr = df_answers.filter(regex='.+_corr$')\n",
    "trud = df_answers.filter(regex='.+_trud$')\n",
    "df_all[corr.columns] = corr\n",
    "df_all[trud.columns] = trud"
   ],
   "metadata": {
    "collapsed": false,
    "ExecuteTime": {
     "end_time": "2024-04-12T14:38:02.226768Z",
     "start_time": "2024-04-12T14:38:02.143635Z"
    }
   },
   "id": "4059f5d2c960ef11"
  },
  {
   "cell_type": "code",
   "execution_count": 12,
   "outputs": [],
   "source": [
    "corr = df_answers.filter(regex='.+_corr$')\n",
    "trud = df_answers.filter(regex='.+_trud$')\n",
    "\n",
    "df_all_with_com = pd.concat([df_answers[corr.columns], df_answers[trud.columns], df_A_aggr, df_B_aggr], axis=1)\n",
    "\n",
    "df_all_without_com = pd.concat([df_answers[corr.columns], df_answers[trud.columns], df_a_aggr, df_b_aggr], axis=1)"
   ],
   "metadata": {
    "collapsed": false,
    "ExecuteTime": {
     "end_time": "2024-04-12T14:38:02.226808Z",
     "start_time": "2024-04-12T14:38:02.150064Z"
    }
   },
   "id": "73a0fea80ae4bb9b"
  },
  {
   "cell_type": "code",
   "execution_count": 13,
   "outputs": [],
   "source": [
    "def create_sum_sets(dfWithCom, dfWithoutCom, dfAllElements, corr, trud):\n",
    "    total = dfWithCom.filter(regex='Total').sum(axis=1)\n",
    "    avg = dfWithCom.filter(regex='Avg').sum(axis=1)\n",
    "    num = dfWithCom.filter(regex='Num').sum(axis=1)\n",
    "    df_sumWithCom = pd.DataFrame(\n",
    "        data={'Corr': df_answers[corr], 'Diff': df_answers[trud], 'Total': total, 'Avg': avg, 'Num': num})\n",
    "\n",
    "    total = dfWithoutCom.filter(regex='Total').sum(axis=1)\n",
    "    avg = dfWithoutCom.filter(regex='Avg').sum(axis=1)\n",
    "    num = dfWithoutCom.filter(regex='Num').sum(axis=1)\n",
    "    df_sumWithoutCom = pd.DataFrame(\n",
    "        data={'Corr': df_answers[corr], 'Diff': df_answers[trud], 'Total': total, 'Avg': avg, 'Num': num})\n",
    "\n",
    "    total = dfAllElements.filter(regex='^Total_.*_com$').sum(axis=1)\n",
    "    avg = dfAllElements.filter(regex='^Avg_.*_com$').sum(axis=1)\n",
    "    num = dfAllElements.filter(regex='^Num_.*_com$').sum(axis=1)\n",
    "    df_sumOnlyCom = pd.DataFrame(\n",
    "        data={'Corr': df_answers[corr], 'Diff': df_answers[trud], 'Total': total, 'Avg': avg, 'Num': num})\n",
    "\n",
    "    return df_sumWithCom, df_sumWithoutCom, df_sumOnlyCom"
   ],
   "metadata": {
    "collapsed": false,
    "ExecuteTime": {
     "end_time": "2024-04-12T14:38:02.226848Z",
     "start_time": "2024-04-12T14:38:02.155472Z"
    }
   },
   "id": "58be8383273bf768"
  },
  {
   "cell_type": "code",
   "execution_count": 14,
   "outputs": [],
   "source": [
    "df_sumAllWithCom, df_sumAllWithoutCom, df_sumAllOnlyCom = create_sum_sets(df_all_with_com, df_all_without_com, df_all, 'Corr_all', 'Trud_all')\n",
    "\n",
    "df_sumAWithCom, df_sumAWithoutCom, df_sumAOnlyCom = create_sum_sets(df_A_aggr, df_a_aggr, df_a, 'SumCorr_a', 'SumTrud_a')\n",
    "\n",
    "df_sumBWithCom, df_sumBWithoutCom, df_sumBOnlyCom = create_sum_sets(df_B_aggr, df_b_aggr, df_b, 'SumCorr_b', 'SumTrud_b')\n",
    "\n",
    "df_sum1WithCom, df_sum1WithoutCom, df_sum1OnlyCom = create_sum_sets(df_1_AGGR, df_1_aggr, df_1, 'SumCorr_1', 'SumTrud_1')\n",
    "\n",
    "df_sum2WithCom, df_sum2WithoutCom, df_sum2OnlyCom = create_sum_sets(df_2_AGGR, df_2_aggr, df_2, 'SumCorr_2', 'SumTrud_2')\n",
    "\n",
    "df_sum3WithCom, df_sum3WithoutCom, df_sum3OnlyCom = create_sum_sets(df_3_AGGR, df_3_aggr, df_3, 'SumCorr_3', 'SumTrud_3')"
   ],
   "metadata": {
    "collapsed": false,
    "ExecuteTime": {
     "end_time": "2024-04-12T14:38:02.226887Z",
     "start_time": "2024-04-12T14:38:02.158886Z"
    }
   },
   "id": "a84bfe36f54bb9b"
  },
  {
   "cell_type": "code",
   "execution_count": 15,
   "outputs": [],
   "source": [
    "def prepare_graphic_set(df, pattern):\n",
    "    regex = [re.compile('Min'), re.compile('Max'), re.compile('DTTV'), re.compile('TTV')]\n",
    "    columns_to_drop = [col for col in df.columns if any(pat.search(col) for pat in regex)]\n",
    "    df.drop(columns=columns_to_drop, inplace=True)\n",
    "    df.columns = [col.replace(f'_{pattern}', '') for col in df.columns]\n",
    "    df['Corr'] = df_answers[f'{pattern}_corr']\n",
    "    df['Diff'] = df_answers[f'{pattern}_trud']\n",
    "    return df"
   ],
   "metadata": {
    "collapsed": false,
    "ExecuteTime": {
     "end_time": "2024-04-12T14:38:02.226928Z",
     "start_time": "2024-04-12T14:38:02.190984Z"
    }
   },
   "id": "cdd1454201b28a1f"
  },
  {
   "cell_type": "code",
   "execution_count": 16,
   "outputs": [],
   "source": [
    "df_1a_samples = prepare_graphic_set(df_1a, \"1a\")\n",
    "df_2a_samples = prepare_graphic_set(df_2a, \"2a\")\n",
    "df_3a_samples = prepare_graphic_set(df_3a, \"3a\")\n",
    "df_1b_samples = prepare_graphic_set(df_1b, \"1b\")\n",
    "df_2b_samples = prepare_graphic_set(df_2b, \"2b\")\n",
    "df_3b_samples = prepare_graphic_set(df_3b, \"3b\")"
   ],
   "metadata": {
    "collapsed": false,
    "ExecuteTime": {
     "end_time": "2024-04-12T14:38:02.226970Z",
     "start_time": "2024-04-12T14:38:02.199820Z"
    }
   },
   "id": "5ab10237d766cb00"
  },
  {
   "cell_type": "code",
   "execution_count": 17,
   "outputs": [],
   "source": [
    "dfs_sum = [df_sumAllWithCom, df_sumAllWithoutCom, df_sumAllOnlyCom, df_sumAWithCom, df_sumAWithoutCom, df_sumAOnlyCom, df_sumBWithCom, df_sumBWithoutCom, df_sumBOnlyCom, df_sum1WithCom, df_sum1WithoutCom, df_sum1OnlyCom,df_sum2WithCom, df_sum2WithoutCom, df_sum2OnlyCom, df_sum3WithCom, df_sum3WithoutCom, df_sum3OnlyCom]\n",
    "\n",
    "dfs_samples = [df_1a_samples, df_1b_samples, df_2a_samples, df_2b_samples, df_3a_samples, df_3b_samples]\n",
    "\n",
    "names_sum = {1: 'Zsumowane_wszystkie_grafiki_z_poleceniem',\n",
    " 2: 'Zsumowane_wszystkie_grafiki_bez_polecenia',\n",
    " 3: 'Zsumowane_wszystkie_grafiki_tylko_polecenie',\n",
    " 4: 'Zsumowane_grafiki_A_z_poleceniem',\n",
    " 5: 'Zsumowane_grafiki_A_bez_polecenia',\n",
    " 6: 'Zsumowane_grafiki_A_tylko_polecenie',\n",
    " 7: 'Zsumowane_grafiki_B_z_poleceniem',\n",
    " 8: 'Zsumowane_grafiki_B_bez_polecenia',\n",
    " 9: 'Zsumowane_grafiki_B_tylko_polecenie',\n",
    " 10: 'Zsumowane_grafiki_1_z_poleceniem',\n",
    " 11: 'Zsumowane_grafiki_1_bez_polecenia',\n",
    " 12: 'Zsumowane_grafiki_1_tylko_polecenie',\n",
    " 13: 'Zsumowane_grafiki_2_z_poleceniem',\n",
    " 14: 'Zsumowane_grafiki_2_bez_polecenia',\n",
    " 15: 'Zsumowane_grafiki_2_tylko_polecenie',\n",
    " 16: 'Zsumowane_grafiki_3_z_poleceniem',\n",
    " 17: 'Zsumowane_grafiki_3_bez_polecenia',\n",
    " 18: 'Zsumowane_grafiki_3_tylko_polecenie',\n",
    "}\n",
    "\n",
    "names_samples = {\n",
    "    1: '1a',\n",
    "    2: '1b',\n",
    "    3: '2a',\n",
    "    4: '2b',\n",
    "    5: '3a',\n",
    "    6: '3b',\n",
    "}"
   ],
   "metadata": {
    "collapsed": false,
    "ExecuteTime": {
     "end_time": "2024-04-12T14:38:02.227011Z",
     "start_time": "2024-04-12T14:38:02.204394Z"
    }
   },
   "id": "bdb8913f43630740"
  },
  {
   "cell_type": "code",
   "execution_count": 18,
   "outputs": [],
   "source": [
    "path = '/Users/martasolarz/Studies/Thesis/Master_thesis/prepare_datasets/sets/visit'\n",
    "\n",
    "for idx, df in enumerate(dfs_sum):\n",
    "    df.to_csv(f'{path}/dfs_sum_{names_sum[idx+1]}.csv', index=True)\n",
    "\n",
    "for idx, df in enumerate(dfs_samples):\n",
    "    df.to_csv(f'{path}/dfs_samples_{names_samples[idx+1]}.csv', index=True)"
   ],
   "metadata": {
    "collapsed": false,
    "ExecuteTime": {
     "end_time": "2024-04-12T14:38:02.227049Z",
     "start_time": "2024-04-12T14:38:02.207684Z"
    }
   },
   "id": "d3b830ab4c7b5877"
  },
  {
   "cell_type": "code",
   "execution_count": 18,
   "outputs": [],
   "source": [],
   "metadata": {
    "collapsed": false,
    "ExecuteTime": {
     "end_time": "2024-04-12T14:38:02.227087Z",
     "start_time": "2024-04-12T14:38:02.222859Z"
    }
   },
   "id": "a320f54532bed410"
  }
 ],
 "metadata": {
  "kernelspec": {
   "display_name": "Python 3",
   "language": "python",
   "name": "python3"
  },
  "language_info": {
   "codemirror_mode": {
    "name": "ipython",
    "version": 2
   },
   "file_extension": ".py",
   "mimetype": "text/x-python",
   "name": "python",
   "nbconvert_exporter": "python",
   "pygments_lexer": "ipython2",
   "version": "2.7.6"
  }
 },
 "nbformat": 4,
 "nbformat_minor": 5
}
