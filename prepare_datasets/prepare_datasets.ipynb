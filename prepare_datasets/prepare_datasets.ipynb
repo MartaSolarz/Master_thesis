{
 "cells": [
  {
   "cell_type": "code",
   "execution_count": 2,
   "id": "initial_id",
   "metadata": {
    "collapsed": true,
    "ExecuteTime": {
     "end_time": "2023-10-27T17:55:41.020783Z",
     "start_time": "2023-10-27T17:55:40.821096Z"
    }
   },
   "outputs": [],
   "source": [
    "import pandas as pd"
   ]
  },
  {
   "cell_type": "code",
   "execution_count": 3,
   "outputs": [],
   "source": [
    "# zsumowane wartości: poprawność, trudność odpowiedzi\n",
    "df_answers = pd.read_csv('/Users/martasolarz/Studies/Thesis/data/correctness.csv',\n",
    "                         usecols=['1a_corr', '1b_corr', '2a_corr', '2b_corr', '3a_corr', '3b_corr', '1a_trud', '1b_trud', '2a_trud', '2b_trud', '3a_trud', '3b_trud', 'Trud_all', 'Wynik', 'ID']).rename(columns={'Wynik':'Corr_all'})\n",
    "\n",
    "df_answers = df_answers[df_answers.ID != 6] \n",
    "\n",
    "df_answers.set_index('ID', inplace=True)\n",
    "\n",
    "a = df_answers[['1a_corr', '2a_corr', '3a_corr']]\n",
    "b = df_answers[['1b_corr', '2b_corr', '3b_corr']]\n",
    "df_answers['SumCorr_a'] = a.apply(lambda x: x.sum(), axis=1)\n",
    "df_answers['SumCorr_b'] = b.apply(lambda x: x.sum(), axis=1)\n",
    "gr1 = df_answers[['1a_corr', '1b_corr']]\n",
    "gr2 = df_answers[['2a_corr', '2b_corr']]\n",
    "gr3 = df_answers[['3a_corr', '3b_corr']]\n",
    "df_answers['SumCorr_1'] = gr1.apply(lambda x: x.sum(), axis=1)\n",
    "df_answers['SumCorr_2'] = gr2.apply(lambda x: x.sum(), axis=1)\n",
    "df_answers['SumCorr_3'] = gr3.apply(lambda x: x.sum(), axis=1)\n",
    "\n",
    "a = df_answers[['1a_trud', '2a_trud', '3a_trud']]\n",
    "b = df_answers[['1b_trud', '2b_trud', '3b_trud']]\n",
    "df_answers['SumTrud_a'] = a.apply(lambda x: x.sum(), axis=1)\n",
    "df_answers['SumTrud_b'] = b.apply(lambda x: x.sum(), axis=1)\n",
    "gr1 = df_answers[['1a_trud', '1b_trud']]\n",
    "gr2 = df_answers[['2a_trud', '2b_trud']]\n",
    "gr3 = df_answers[['3a_trud', '3b_trud']]\n",
    "df_answers['SumTrud_1'] = gr1.apply(lambda x: x.sum(), axis=1)\n",
    "df_answers['SumTrud_2'] = gr2.apply(lambda x: x.sum(), axis=1)\n",
    "df_answers['SumTrud_3'] = gr3.apply(lambda x: x.sum(), axis=1)\n",
    "\n",
    "df_answers.to_csv('./sets/correctness.csv')"
   ],
   "metadata": {
    "collapsed": false,
    "ExecuteTime": {
     "end_time": "2023-10-27T17:55:43.288406Z",
     "start_time": "2023-10-27T17:55:43.264378Z"
    }
   },
   "id": "f0d4c97a88151dc8"
  },
  {
   "cell_type": "code",
   "execution_count": 5,
   "outputs": [],
   "source": [
    "df_time =  pd.read_csv('/Users/martasolarz/Studies/Thesis/data/metrics/times.csv',\n",
    "    usecols=['ID', 'Duration_1a', 'Duration_1b', 'Duration_2a', 'Duration_2b', 'Duration_3a', 'Duration_3b']\n",
    ")\n",
    "\n",
    "df_time['SumTime_all'] = df_time.apply(lambda x: x.sum(), axis=1)\n",
    "a = df_time[['Duration_1a', 'Duration_2a', 'Duration_3a']]\n",
    "b = df_time[['Duration_1b', 'Duration_2b', 'Duration_3b']]\n",
    "df_time['SumTime_a'] = a.apply(lambda x: x.sum(), axis=1)\n",
    "df_time['SumTime_b'] = b.apply(lambda x: x.sum(), axis=1)\n",
    "gr1 = df_time[['Duration_1a', 'Duration_1b']]\n",
    "gr2 = df_time[['Duration_2a', 'Duration_2b']]\n",
    "gr3 = df_time[['Duration_3a', 'Duration_3b']]\n",
    "df_time['SumTime_1'] = gr1.apply(lambda x: x.sum(), axis=1)\n",
    "df_time['SumTime_2'] = gr2.apply(lambda x: x.sum(), axis=1)\n",
    "df_time['SumTime_3'] = gr3.apply(lambda x: x.sum(), axis=1)\n",
    "\n",
    "df_time.to_csv('./sets/times.csv')"
   ],
   "metadata": {
    "collapsed": false,
    "ExecuteTime": {
     "end_time": "2023-10-27T19:31:33.406676Z",
     "start_time": "2023-10-27T19:31:33.392737Z"
    }
   },
   "id": "623de91f4c50d774"
  },
  {
   "cell_type": "code",
   "execution_count": null,
   "outputs": [],
   "source": [],
   "metadata": {
    "collapsed": false
   },
   "id": "b999ccca0b18933e"
  }
 ],
 "metadata": {
  "kernelspec": {
   "display_name": "Python 3",
   "language": "python",
   "name": "python3"
  },
  "language_info": {
   "codemirror_mode": {
    "name": "ipython",
    "version": 2
   },
   "file_extension": ".py",
   "mimetype": "text/x-python",
   "name": "python",
   "nbconvert_exporter": "python",
   "pygments_lexer": "ipython2",
   "version": "2.7.6"
  }
 },
 "nbformat": 4,
 "nbformat_minor": 5
}
